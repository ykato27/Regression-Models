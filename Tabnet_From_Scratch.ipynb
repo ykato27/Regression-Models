{
  "nbformat": 4,
  "nbformat_minor": 0,
  "metadata": {
    "colab": {
      "name": "Tabnet-From-Scratch",
      "provenance": [],
      "collapsed_sections": [],
      "include_colab_link": true
    },
    "kernelspec": {
      "display_name": "Python 3",
      "language": "python",
      "name": "python3"
    },
    "language_info": {
      "codemirror_mode": {
        "name": "ipython",
        "version": 3
      },
      "file_extension": ".py",
      "mimetype": "text/x-python",
      "name": "python",
      "nbconvert_exporter": "python",
      "pygments_lexer": "ipython3",
      "version": "3.7.9"
    }
  },
  "cells": [
    {
      "cell_type": "markdown",
      "metadata": {
        "id": "view-in-github",
        "colab_type": "text"
      },
      "source": [
        "<a href=\"https://colab.research.google.com/github/ykato27/Regression-Models/blob/main/Tabnet_From_Scratch.ipynb\" target=\"_parent\"><img src=\"https://colab.research.google.com/assets/colab-badge.svg\" alt=\"Open In Colab\"/></a>"
      ]
    },
    {
      "cell_type": "markdown",
      "metadata": {
        "id": "aCMddIqr1jDB"
      },
      "source": [
        "# \"The Annotated TabNet\"\n",
        "> Creating TabNet from Scratch in Tensorflow 2.0\n",
        "\n",
        "- toc: true\n",
        "- branch: master\n",
        "- badges: true\n",
        "- comments: true\n",
        "- author: Sachin Abeywardana\n",
        "- categories: [Tensorflow]\n",
        "- use_math: true\n",
        "- image: images/tabnet.png"
      ]
    },
    {
      "cell_type": "markdown",
      "metadata": {
        "id": "Zbv8cp1i40yO"
      },
      "source": [
        "![tabnet_diagram](https://sachinruk.github.io/blog/images/tabnet.png)\n",
        "## Introduction\n",
        "We are talking about [TabNet](https://arxiv.org/abs/1908.07442) today which is a network designed for Tabular data. One aspect that tree based models such as Random Forest (RF) and XgBoost can claim over Neural Nets is the explainability of the model.\n",
        "\n",
        "Personally, one of the coolest features of this network is the ability for the network to point out which features were used in it's final decision. And these features change from input to input. We have a visual demo using MNIST below. RF does not have this kind of flexibility and is only one static graph for any kind of input.\n",
        "\n",
        "## Acknowledgement\n",
        "Kudos to [Paul Tune](https://www.linkedin.com/in/paul-tune-0ba18116/) for pointing out how to configure the loss function in keras. In terms of the actual implementation it was done very much thanks to this [YouTube talk](https://www.youtube.com/watch?v=ysBaZO8YmX8&ab_channel=AbhishekThakur) done by [Sebastien Fischman](https://www.linkedin.com/in/sebastienfischman/) and hosted by [Abhishek Thakur](https://www.linkedin.com/in/abhi1thakur/). Much of the TensorFlow code was very much a reimplimentation of the [PyTorch code](https://github.com/dreamquark-ai/tabnet/blob/develop/pytorch_tabnet/tab_network.py)."
      ]
    },
    {
      "cell_type": "code",
      "metadata": {
        "colab": {
          "base_uri": "https://localhost:8080/"
        },
        "id": "miFAUt7u4l9Q",
        "outputId": "f5f1fa5d-b415-4d12-89cf-dc43fceb599f"
      },
      "source": [
        "# hide\n",
        "!pip install tensorflow_addons"
      ],
      "execution_count": 1,
      "outputs": [
        {
          "output_type": "stream",
          "name": "stdout",
          "text": [
            "Collecting tensorflow_addons\n",
            "  Downloading tensorflow_addons-0.14.0-cp37-cp37m-manylinux_2_12_x86_64.manylinux2010_x86_64.whl (1.1 MB)\n",
            "\u001b[?25l\r\u001b[K     |▎                               | 10 kB 24.5 MB/s eta 0:00:01\r\u001b[K     |▋                               | 20 kB 28.2 MB/s eta 0:00:01\r\u001b[K     |▉                               | 30 kB 31.6 MB/s eta 0:00:01\r\u001b[K     |█▏                              | 40 kB 20.8 MB/s eta 0:00:01\r\u001b[K     |█▌                              | 51 kB 9.7 MB/s eta 0:00:01\r\u001b[K     |█▊                              | 61 kB 10.8 MB/s eta 0:00:01\r\u001b[K     |██                              | 71 kB 8.5 MB/s eta 0:00:01\r\u001b[K     |██▍                             | 81 kB 9.3 MB/s eta 0:00:01\r\u001b[K     |██▋                             | 92 kB 9.1 MB/s eta 0:00:01\r\u001b[K     |███                             | 102 kB 8.4 MB/s eta 0:00:01\r\u001b[K     |███▎                            | 112 kB 8.4 MB/s eta 0:00:01\r\u001b[K     |███▌                            | 122 kB 8.4 MB/s eta 0:00:01\r\u001b[K     |███▉                            | 133 kB 8.4 MB/s eta 0:00:01\r\u001b[K     |████▏                           | 143 kB 8.4 MB/s eta 0:00:01\r\u001b[K     |████▍                           | 153 kB 8.4 MB/s eta 0:00:01\r\u001b[K     |████▊                           | 163 kB 8.4 MB/s eta 0:00:01\r\u001b[K     |█████                           | 174 kB 8.4 MB/s eta 0:00:01\r\u001b[K     |█████▎                          | 184 kB 8.4 MB/s eta 0:00:01\r\u001b[K     |█████▋                          | 194 kB 8.4 MB/s eta 0:00:01\r\u001b[K     |██████                          | 204 kB 8.4 MB/s eta 0:00:01\r\u001b[K     |██████▏                         | 215 kB 8.4 MB/s eta 0:00:01\r\u001b[K     |██████▌                         | 225 kB 8.4 MB/s eta 0:00:01\r\u001b[K     |██████▉                         | 235 kB 8.4 MB/s eta 0:00:01\r\u001b[K     |███████                         | 245 kB 8.4 MB/s eta 0:00:01\r\u001b[K     |███████▍                        | 256 kB 8.4 MB/s eta 0:00:01\r\u001b[K     |███████▊                        | 266 kB 8.4 MB/s eta 0:00:01\r\u001b[K     |████████                        | 276 kB 8.4 MB/s eta 0:00:01\r\u001b[K     |████████▎                       | 286 kB 8.4 MB/s eta 0:00:01\r\u001b[K     |████████▋                       | 296 kB 8.4 MB/s eta 0:00:01\r\u001b[K     |████████▉                       | 307 kB 8.4 MB/s eta 0:00:01\r\u001b[K     |█████████▏                      | 317 kB 8.4 MB/s eta 0:00:01\r\u001b[K     |█████████▌                      | 327 kB 8.4 MB/s eta 0:00:01\r\u001b[K     |█████████▊                      | 337 kB 8.4 MB/s eta 0:00:01\r\u001b[K     |██████████                      | 348 kB 8.4 MB/s eta 0:00:01\r\u001b[K     |██████████▍                     | 358 kB 8.4 MB/s eta 0:00:01\r\u001b[K     |██████████▋                     | 368 kB 8.4 MB/s eta 0:00:01\r\u001b[K     |███████████                     | 378 kB 8.4 MB/s eta 0:00:01\r\u001b[K     |███████████▎                    | 389 kB 8.4 MB/s eta 0:00:01\r\u001b[K     |███████████▌                    | 399 kB 8.4 MB/s eta 0:00:01\r\u001b[K     |███████████▉                    | 409 kB 8.4 MB/s eta 0:00:01\r\u001b[K     |████████████▏                   | 419 kB 8.4 MB/s eta 0:00:01\r\u001b[K     |████████████▍                   | 430 kB 8.4 MB/s eta 0:00:01\r\u001b[K     |████████████▊                   | 440 kB 8.4 MB/s eta 0:00:01\r\u001b[K     |█████████████                   | 450 kB 8.4 MB/s eta 0:00:01\r\u001b[K     |█████████████▎                  | 460 kB 8.4 MB/s eta 0:00:01\r\u001b[K     |█████████████▋                  | 471 kB 8.4 MB/s eta 0:00:01\r\u001b[K     |██████████████                  | 481 kB 8.4 MB/s eta 0:00:01\r\u001b[K     |██████████████▏                 | 491 kB 8.4 MB/s eta 0:00:01\r\u001b[K     |██████████████▌                 | 501 kB 8.4 MB/s eta 0:00:01\r\u001b[K     |██████████████▉                 | 512 kB 8.4 MB/s eta 0:00:01\r\u001b[K     |███████████████                 | 522 kB 8.4 MB/s eta 0:00:01\r\u001b[K     |███████████████▍                | 532 kB 8.4 MB/s eta 0:00:01\r\u001b[K     |███████████████▊                | 542 kB 8.4 MB/s eta 0:00:01\r\u001b[K     |████████████████                | 552 kB 8.4 MB/s eta 0:00:01\r\u001b[K     |████████████████▎               | 563 kB 8.4 MB/s eta 0:00:01\r\u001b[K     |████████████████▋               | 573 kB 8.4 MB/s eta 0:00:01\r\u001b[K     |████████████████▉               | 583 kB 8.4 MB/s eta 0:00:01\r\u001b[K     |█████████████████▏              | 593 kB 8.4 MB/s eta 0:00:01\r\u001b[K     |█████████████████▌              | 604 kB 8.4 MB/s eta 0:00:01\r\u001b[K     |█████████████████▊              | 614 kB 8.4 MB/s eta 0:00:01\r\u001b[K     |██████████████████              | 624 kB 8.4 MB/s eta 0:00:01\r\u001b[K     |██████████████████▍             | 634 kB 8.4 MB/s eta 0:00:01\r\u001b[K     |██████████████████▋             | 645 kB 8.4 MB/s eta 0:00:01\r\u001b[K     |███████████████████             | 655 kB 8.4 MB/s eta 0:00:01\r\u001b[K     |███████████████████▎            | 665 kB 8.4 MB/s eta 0:00:01\r\u001b[K     |███████████████████▌            | 675 kB 8.4 MB/s eta 0:00:01\r\u001b[K     |███████████████████▉            | 686 kB 8.4 MB/s eta 0:00:01\r\u001b[K     |████████████████████▏           | 696 kB 8.4 MB/s eta 0:00:01\r\u001b[K     |████████████████████▍           | 706 kB 8.4 MB/s eta 0:00:01\r\u001b[K     |████████████████████▊           | 716 kB 8.4 MB/s eta 0:00:01\r\u001b[K     |█████████████████████           | 727 kB 8.4 MB/s eta 0:00:01\r\u001b[K     |█████████████████████▎          | 737 kB 8.4 MB/s eta 0:00:01\r\u001b[K     |█████████████████████▋          | 747 kB 8.4 MB/s eta 0:00:01\r\u001b[K     |██████████████████████          | 757 kB 8.4 MB/s eta 0:00:01\r\u001b[K     |██████████████████████▏         | 768 kB 8.4 MB/s eta 0:00:01\r\u001b[K     |██████████████████████▌         | 778 kB 8.4 MB/s eta 0:00:01\r\u001b[K     |██████████████████████▉         | 788 kB 8.4 MB/s eta 0:00:01\r\u001b[K     |███████████████████████         | 798 kB 8.4 MB/s eta 0:00:01\r\u001b[K     |███████████████████████▍        | 808 kB 8.4 MB/s eta 0:00:01\r\u001b[K     |███████████████████████▊        | 819 kB 8.4 MB/s eta 0:00:01\r\u001b[K     |████████████████████████        | 829 kB 8.4 MB/s eta 0:00:01\r\u001b[K     |████████████████████████▎       | 839 kB 8.4 MB/s eta 0:00:01\r\u001b[K     |████████████████████████▋       | 849 kB 8.4 MB/s eta 0:00:01\r\u001b[K     |████████████████████████▉       | 860 kB 8.4 MB/s eta 0:00:01\r\u001b[K     |█████████████████████████▏      | 870 kB 8.4 MB/s eta 0:00:01\r\u001b[K     |█████████████████████████▍      | 880 kB 8.4 MB/s eta 0:00:01\r\u001b[K     |█████████████████████████▊      | 890 kB 8.4 MB/s eta 0:00:01\r\u001b[K     |██████████████████████████      | 901 kB 8.4 MB/s eta 0:00:01\r\u001b[K     |██████████████████████████▎     | 911 kB 8.4 MB/s eta 0:00:01\r\u001b[K     |██████████████████████████▋     | 921 kB 8.4 MB/s eta 0:00:01\r\u001b[K     |███████████████████████████     | 931 kB 8.4 MB/s eta 0:00:01\r\u001b[K     |███████████████████████████▏    | 942 kB 8.4 MB/s eta 0:00:01\r\u001b[K     |███████████████████████████▌    | 952 kB 8.4 MB/s eta 0:00:01\r\u001b[K     |███████████████████████████▉    | 962 kB 8.4 MB/s eta 0:00:01\r\u001b[K     |████████████████████████████    | 972 kB 8.4 MB/s eta 0:00:01\r\u001b[K     |████████████████████████████▍   | 983 kB 8.4 MB/s eta 0:00:01\r\u001b[K     |████████████████████████████▊   | 993 kB 8.4 MB/s eta 0:00:01\r\u001b[K     |█████████████████████████████   | 1.0 MB 8.4 MB/s eta 0:00:01\r\u001b[K     |█████████████████████████████▎  | 1.0 MB 8.4 MB/s eta 0:00:01\r\u001b[K     |█████████████████████████████▋  | 1.0 MB 8.4 MB/s eta 0:00:01\r\u001b[K     |█████████████████████████████▉  | 1.0 MB 8.4 MB/s eta 0:00:01\r\u001b[K     |██████████████████████████████▏ | 1.0 MB 8.4 MB/s eta 0:00:01\r\u001b[K     |██████████████████████████████▌ | 1.1 MB 8.4 MB/s eta 0:00:01\r\u001b[K     |██████████████████████████████▊ | 1.1 MB 8.4 MB/s eta 0:00:01\r\u001b[K     |███████████████████████████████ | 1.1 MB 8.4 MB/s eta 0:00:01\r\u001b[K     |███████████████████████████████▍| 1.1 MB 8.4 MB/s eta 0:00:01\r\u001b[K     |███████████████████████████████▋| 1.1 MB 8.4 MB/s eta 0:00:01\r\u001b[K     |████████████████████████████████| 1.1 MB 8.4 MB/s eta 0:00:01\r\u001b[K     |████████████████████████████████| 1.1 MB 8.4 MB/s \n",
            "\u001b[?25hRequirement already satisfied: typeguard>=2.7 in /usr/local/lib/python3.7/dist-packages (from tensorflow_addons) (2.7.1)\n",
            "Installing collected packages: tensorflow-addons\n",
            "Successfully installed tensorflow-addons-0.14.0\n"
          ]
        }
      ]
    },
    {
      "cell_type": "code",
      "metadata": {
        "id": "z8YMNlsK3Chu"
      },
      "source": [
        "# hide\n",
        "import multiprocessing as mp\n",
        "\n",
        "import matplotlib.pyplot as plt\n",
        "import numpy as np\n",
        "import tensorflow as tf\n",
        "from tensorflow import keras\n",
        "from tensorflow.keras import layers\n",
        "from tensorflow_addons.activations import sparsemax\n",
        "\n",
        "%matplotlib inline"
      ],
      "execution_count": 2,
      "outputs": []
    },
    {
      "cell_type": "markdown",
      "metadata": {
        "id": "psCDtgF17II0"
      },
      "source": [
        "## Model\n",
        "This section will outline the blocks that we have used in creating the overall model. See the [diagram](tabnet_diagram) above to refer to the sections mentioned below. We will not be talking about part (b) of the diagram as that from my understanding is only used for completing missing values.\n",
        "\n",
        "### Fully-Connected Block\n",
        "Let's look at section (c) of the diagram and especially one set of the blue-green-red boxes and call that one Fully-Connected layer. Instead of ReLU the authors have used a GLU activation (the calculation of which is shown in the first two lines). The `FCBlock` will form as one of the building blocks of the entire architecture."
      ]
    },
    {
      "cell_type": "code",
      "metadata": {
        "id": "nBm6aGz_K66A"
      },
      "source": [
        "def GLU(x):\n",
        "    return x * tf.sigmoid(x)\n",
        "\n",
        "class FCBlock(layers.Layer):\n",
        "    def __init__(self, units):\n",
        "        super().__init__()\n",
        "        self.layer = layers.Dense(units)\n",
        "        self.bn = layers.BatchNormalization()\n",
        "\n",
        "    def call(self, x):\n",
        "        return GLU(self.bn(self.layer(x)))"
      ],
      "execution_count": 3,
      "outputs": []
    },
    {
      "cell_type": "markdown",
      "metadata": {
        "id": "jO4fvPfNWaGK"
      },
      "source": [
        "### Feature Transformer\n",
        "Next bit of the feature transformer in section (c) is the Shared Block and the Decision Block which look extrememly similar. This is why I sub-classed `DecisionBlock` to have parent `SharedBlock`. Also worth mentioning that this is all possible thanks to the new features of TensorFlow 2.0+.\n",
        "\n",
        "The shared block is simply stacking two `FCBlock`s with a residual connection which is multiplied by `sqrt(0.5)`. I'm not sure if this multiplication is necessary but I will leave it in.\n",
        "\n",
        "The decision block is almost the same except that there are two residual connections.\n",
        "\n",
        "Now in terms of functionality, refer to section (a) of the diagram. The user needs to define the number of steps as one of the hyper-parameters. The feature transformer is repeated number of steps + 1 many times. In this, the `SharedBlock` weights are shared across all of that, whereas the `DecisionBlock` weights are different for each step."
      ]
    },
    {
      "cell_type": "code",
      "metadata": {
        "id": "wOwt4OS2c1Sj"
      },
      "source": [
        "class SharedBlock(layers.Layer):\n",
        "    def __init__(self, units, mult=tf.sqrt(0.5)):\n",
        "        super().__init__()\n",
        "        self.layer1 = FCBlock(units)\n",
        "        self.layer2 = FCBlock(units)\n",
        "        self.mult = mult\n",
        "\n",
        "    def call(self, x):\n",
        "        out1 = self.layer1(x)\n",
        "        out2 = self.layer2(out1)\n",
        "        return out2 + self.mult * out1\n",
        "\n",
        "class DecisionBlock(SharedBlock):\n",
        "    def __init__(self, units, mult=tf.sqrt(0.5)):\n",
        "        super().__init__(units, mult)\n",
        "\n",
        "    def call(self, x):\n",
        "        out1 = x * self.mult + self.layer1(x)\n",
        "        out2 = out1 * self.mult + self.layer2(out1)\n",
        "        return out2"
      ],
      "execution_count": 4,
      "outputs": []
    },
    {
      "cell_type": "markdown",
      "metadata": {
        "id": "bFuk2BAuY00q"
      },
      "source": [
        "### Attentive Transformer\n",
        "This is the part where the magic happens. The attentive transformer decides which bits of the input features (x) it needs to pay attention (mask) at each step.\n",
        "\n",
        "Before, talking about the Attentive transformer we need to talk about the `split` module and the `prior` layers. The split module simply splits the output of the feature transformer into two portions. One portion which feeds into the attentive transformer, and the other which goes into the output of our overall network. The portions (`n_d, n_a`) are hyper-parameters that the user needs to specify and it would sum to the number of output nodes of the decision layer.\n",
        "\n",
        "The attentive layer takes the `n_a` output nodes from the decision block, runs it through a dense layer and batch norm layer before passing through a `sparsemax` layer. Sparsemax is similar to softmax in that the output sums to one. However, it drives some of the smaller outputs to exactly zero unlike softmax (which can only get close to zero). It is important to note that the dense layer used here projects `n_a` nodes to the same dimensionality as the input features, as we will use this as a mask to select features.\n",
        "\n",
        "The prior layer is used as a tool to suppress some of the inputs that were used before in a previous step. In the first step none of the input had been used before, and therefore the output of the attentive transformer is unaffected by the prior. However, in the second step (and onwards), the prior is updated to be `prior = previous_prior * (constant - previous_mask)`. The constant mentioned here is a number close to one. Therefore, if the `previous_mask` output by the attentive mask had numbers close to one, the prior is pushed closer to zero, whereas the unused inputs having a mask close to zero, would have a prior closer to one. The priors closer to zero would effectively act as a suppressant before passing into the sparsemax activation in the attentive layer.\n",
        "\n",
        "The reason that we attempt to use this kind of prior is so that each step attempts to find unique features which adds to the output of the network."
      ]
    },
    {
      "cell_type": "code",
      "metadata": {
        "id": "k4SIFogzQ6Rq"
      },
      "source": [
        "class Prior(layers.Layer):\n",
        "    def __init__(self, gamma=1.1):\n",
        "        super().__init__()\n",
        "        self.gamma = gamma\n",
        "\n",
        "    def reset(self):\n",
        "        self.P = 1.0\n",
        "\n",
        "    def call(self, mask):\n",
        "        self.P = self.P * (self.gamma - mask)\n",
        "        return self.P"
      ],
      "execution_count": 5,
      "outputs": []
    },
    {
      "cell_type": "code",
      "metadata": {
        "id": "dvU98D5SP6IC"
      },
      "source": [
        "class AttentiveTransformer(layers.Layer):\n",
        "    def __init__(self, units):\n",
        "        super().__init__()\n",
        "        self.layer = layers.Dense(units)\n",
        "        self.bn = layers.BatchNormalization()\n",
        "\n",
        "    def call(self, x, prior):\n",
        "        return sparsemax(prior * self.bn(self.layer(x)))"
      ],
      "execution_count": 6,
      "outputs": []
    },
    {
      "cell_type": "markdown",
      "metadata": {
        "id": "11yI2G5amCEU"
      },
      "source": [
        "### Putting it All Together\n",
        "Much of the architecture has already been discussed in the two previous sections. However, there is two more missing pieces.\n",
        "\n",
        "Firstly, the loss function. In additional to the loss function that is used for the task (CrossEntropy in the case of MNIST classification), there is an additional loss on the mask values to drive the values towards either 0 or 1. The (entropy) loss is defined as follows:\n",
        "$$\n",
        "\\begin{align}\n",
        "L_{mask} = - M \\log (M + \\epsilon)\n",
        "\\end{align}\n",
        "$$\n",
        "The plot below shows entropy as a function of one mask value. We average out all available mask entropy values to get final loss. Note how they are minimised at either extreme."
      ]
    },
    {
      "cell_type": "code",
      "metadata": {
        "colab": {
          "base_uri": "https://localhost:8080/",
          "height": 279
        },
        "id": "yXFxmseCo73u",
        "outputId": "bf2b78c2-21a4-4a20-de88-b7a264201d5a"
      },
      "source": [
        "#hide_input\n",
        "p = np.arange(0.01, 1, 0.01)\n",
        "e = - p * np.log(p)\n",
        "plt.plot(p, e)\n",
        "plt.xlabel(\"mask\")\n",
        "plt.ylabel(\"entropy\")\n",
        "plt.show()"
      ],
      "execution_count": 7,
      "outputs": [
        {
          "output_type": "display_data",
          "data": {
            "image/png": "[encoded data removed]",
            "text/plain": [
              "<Figure size 432x288 with 1 Axes>"
            ]
          },
          "metadata": {
            "needs_background": "light"
          }
        }
      ]
    },
    {
      "cell_type": "markdown",
      "metadata": {
        "id": "_bHpTOmcpnYq"
      },
      "source": [
        "The second part that we have not discussed so far is the actual output of the model. The `n_d` number of inputs that do not go through the attentive layer gets passed through a ReLU activation at each step before being added up for the final output. This is compared against a target by using a task specific loss function (cross-entropy in our case).\n",
        "\n",
        "One other thing I'd like to bring your attention to (see what I did there?) is the fact that I used a for loop inside the `call` function in the Module below. It might seem like a minor thing, but this kind of flexibility in building a model was not available before to my knowledge.\n",
        "\n",
        "### Mask Importance\n",
        "The whole point of building this model was to be able to select features and to be able to explain the model. The way that we calculate feature importance is by calculating the importance of each step, and by multiplying that by the mask.\n",
        "\n",
        "Step importance is calculated as the sum of the (`n_d`) outputs of the feature transformer."
      ]
    },
    {
      "cell_type": "code",
      "metadata": {
        "id": "2akD2eaCQCbr"
      },
      "source": [
        "# collapse\n",
        "class TabNet(keras.Model):\n",
        "    def __init__(self, input_dim, output_dim, steps, n_d, n_a, gamma=1.3):\n",
        "        super().__init__()\n",
        "        # hyper-parameters\n",
        "        self.n_d, self.n_a, self.steps = n_d, n_a, steps\n",
        "        # input-normalisation\n",
        "        self.bn = layers.BatchNormalization()\n",
        "        # Feature Transformer\n",
        "        self.shared = SharedBlock(n_d+n_a)\n",
        "        self.first_block = DecisionBlock(n_d+n_a)\n",
        "        self.decision_blocks = [DecisionBlock(n_d+n_a)] * steps\n",
        "        # Attentive Transformer\n",
        "        self.attention = [AttentiveTransformer(input_dim)] * steps\n",
        "        self.prior_scale = Prior(gamma)\n",
        "        # final layer\n",
        "        self.final = layers.Dense(output_dim)\n",
        "\n",
        "        self.eps = 1e-8\n",
        "        self.add_layer = layers.Add()\n",
        "\n",
        "    @tf.function\n",
        "    def call(self, x):\n",
        "        self.prior_scale.reset()\n",
        "        final_outs = []\n",
        "        mask_losses = []\n",
        "\n",
        "        x = self.bn(x)\n",
        "        attention = self.first_block(self.shared(x))[:,:self.n_a]\n",
        "        for i in range(self.steps):\n",
        "            mask = self.attention[i](attention, self.prior_scale.P)\n",
        "            entropy = mask * tf.math.log(mask + self.eps)\n",
        "            mask_losses.append(\n",
        "                -tf.reduce_sum(entropy, axis=-1) / self.steps\n",
        "            )\n",
        "\n",
        "            prior = self.prior_scale(mask)\n",
        "            out = self.decision_blocks[i](self.shared(x * prior))\n",
        "            attention, output = out[:,:self.n_a], out[:,self.n_a:]\n",
        "            final_outs.append(tf.nn.relu(output))\n",
        "\n",
        "        final_out = self.add_layer(final_outs)\n",
        "        mask_loss = self.add_layer(mask_losses)\n",
        "\n",
        "        return self.final(final_out), mask_loss\n",
        "\n",
        "    def mask_importance(self, x):\n",
        "        self.prior_scale.reset()\n",
        "        feature_importance = 0\n",
        "\n",
        "        x = self.bn(x)\n",
        "        attention = self.first_block(self.shared(x))[:,:self.n_a]\n",
        "        for i in range(self.steps):\n",
        "            mask = self.attention[i](attention, self.prior_scale.P)\n",
        "\n",
        "            prior = self.prior_scale(mask)\n",
        "            out = self.decision_blocks[i](self.shared(x * prior))\n",
        "            attention, output = out[:,:self.n_a], out[:,self.n_a:]\n",
        "            step_importance = tf.reduce_sum(tf.nn.relu(output), axis=1, keepdims=True)\n",
        "            feature_importance += mask * step_importance\n",
        "\n",
        "        return feature_importance"
      ],
      "execution_count": 8,
      "outputs": []
    },
    {
      "cell_type": "code",
      "metadata": {
        "id": "pQxZE8YXVTBr",
        "colab": {
          "base_uri": "https://localhost:8080/"
        },
        "outputId": "b062796e-0b7c-45cd-8325-07a34d68d36e"
      },
      "source": [
        "# hide\n",
        "(x_train, y_train), (x_test, y_test) = tf.keras.datasets.mnist.load_data()\n",
        "x_train = x_train.reshape((len(x_train), -1)).astype(np.float32)\n",
        "x_test = x_test.reshape((len(x_test), -1)).astype(np.float32)"
      ],
      "execution_count": 9,
      "outputs": [
        {
          "output_type": "stream",
          "name": "stdout",
          "text": [
            "Downloading data from https://storage.googleapis.com/tensorflow/tf-keras-datasets/mnist.npz\n",
            "11493376/11490434 [==============================] - 0s 0us/step\n",
            "11501568/11490434 [==============================] - 0s 0us/step\n"
          ]
        }
      ]
    },
    {
      "cell_type": "markdown",
      "metadata": {
        "id": "3O_tWiNcScmB"
      },
      "source": [
        "## Loss and Fitting\n",
        "Now this is the part that I thought was strange in the keras API, unless I'm doing something wrong. Looking at the `TabNet` class above, it returns the actual prediction, and the `mask_loss`. From my understanding of loss functions in keras, it is always the \"true y\" and the \"predictions\" over which we need to define a loss.\n",
        "\n",
        "As shown below my initial attempt was to unpack the predictions into logits and mask losses, and then in the next line to take the cross entropy and average out the mask loss. This however resulted in an error.\n",
        "\n",
        "What did work however, was to define `mask_loss` function defined below which ignores the `y_true` input, and to add the `loss_weights` during `model.compile`. It seems like attempting to add a breakpoint and debug does not seem to work after you run `model.compile`."
      ]
    },
    {
      "cell_type": "code",
      "metadata": {
        "id": "m6J-M8EmyYxy"
      },
      "source": [
        "# collapse\n",
        "from keras.losses import SparseCategoricalCrossentropy\n",
        "\n",
        "sce = SparseCategoricalCrossentropy(from_logits=True)\n",
        "reg_sparse = 0.01\n",
        "def full_loss(y_true, y_pred):\n",
        "    logits, mask_loss = y_pred\n",
        "    return sce(y_true, logits) + reg_sparse * mask_loss.mean()"
      ],
      "execution_count": 10,
      "outputs": []
    },
    {
      "cell_type": "code",
      "metadata": {
        "colab": {
          "base_uri": "https://localhost:8080/"
        },
        "id": "-BAiVddZMm9A",
        "outputId": "a7033ef9-760c-4446-c195-8f108da812bc"
      },
      "source": [
        "# collapse\n",
        "def mask_loss(y_true, mask_losses):\n",
        "    return tf.reduce_mean(mask_losses)\n",
        "\n",
        "model = TabNet(784, 10, 2, 10, 10, 1.3)\n",
        "model.compile(\n",
        "    'Adam', \n",
        "    loss=[sce, mask_loss],\n",
        "    loss_weights=[1, 0.01]\n",
        ")\n",
        "model.fit(\n",
        "    x_train, \n",
        "    y_train, \n",
        "    epochs=5, \n",
        "    batch_size=256, \n",
        "    validation_split=0.15,\n",
        "    workers=mp.cpu_count()\n",
        ")"
      ],
      "execution_count": 11,
      "outputs": [
        {
          "output_type": "stream",
          "name": "stdout",
          "text": [
            "Epoch 1/5\n",
            "200/200 [==============================] - 25s 94ms/step - loss: 0.9592 - output_1_loss: 0.9473 - output_2_loss: 1.1848 - val_loss: 0.3637 - val_output_1_loss: 0.3565 - val_output_2_loss: 0.7244\n",
            "Epoch 2/5\n",
            "200/200 [==============================] - 18s 91ms/step - loss: 0.3203 - output_1_loss: 0.3150 - output_2_loss: 0.5344 - val_loss: 0.2246 - val_output_1_loss: 0.2207 - val_output_2_loss: 0.3901\n",
            "Epoch 3/5\n",
            "200/200 [==============================] - 19s 93ms/step - loss: 0.2304 - output_1_loss: 0.2269 - output_2_loss: 0.3554 - val_loss: 0.1865 - val_output_1_loss: 0.1836 - val_output_2_loss: 0.2958\n",
            "Epoch 4/5\n",
            "200/200 [==============================] - 19s 93ms/step - loss: 0.1911 - output_1_loss: 0.1881 - output_2_loss: 0.2917 - val_loss: 0.1670 - val_output_1_loss: 0.1645 - val_output_2_loss: 0.2536\n",
            "Epoch 5/5\n",
            "200/200 [==============================] - 19s 93ms/step - loss: 0.1651 - output_1_loss: 0.1625 - output_2_loss: 0.2640 - val_loss: 0.1547 - val_output_1_loss: 0.1523 - val_output_2_loss: 0.2426\n"
          ]
        },
        {
          "output_type": "execute_result",
          "data": {
            "text/plain": [
              "<keras.callbacks.History at 0x7f43093a8910>"
            ]
          },
          "metadata": {},
          "execution_count": 11
        }
      ]
    },
    {
      "cell_type": "markdown",
      "metadata": {
        "id": "TwoHcV16b8yr"
      },
      "source": [
        "## Results\n",
        "Model has 91.8% accuracy on test set. See below for calculation."
      ]
    },
    {
      "cell_type": "code",
      "metadata": {
        "colab": {
          "base_uri": "https://localhost:8080/"
        },
        "id": "x5ASHke4blBx",
        "outputId": "114db3cd-ce0c-4a6b-8a3a-fcc286772702"
      },
      "source": [
        "# collapse\n",
        "y_pred = model.predict(x_test)[0].argmax(axis=-1)\n",
        "(y_pred == y_test).mean()"
      ],
      "execution_count": 12,
      "outputs": [
        {
          "output_type": "execute_result",
          "data": {
            "text/plain": [
              "0.9199"
            ]
          },
          "metadata": {},
          "execution_count": 12
        }
      ]
    },
    {
      "cell_type": "markdown",
      "metadata": {
        "id": "8ass1d0VcIQ5"
      },
      "source": [
        "Let's see what features got picked up for the first ten images:"
      ]
    },
    {
      "cell_type": "code",
      "metadata": {
        "colab": {
          "base_uri": "https://localhost:8080/",
          "height": 742
        },
        "id": "kP4mBzWOE8n3",
        "outputId": "f025e004-c476-48ad-e0ce-c9b4b46002a4"
      },
      "source": [
        "#hide_input\n",
        "N = 5\n",
        "query = x_test[:N]\n",
        "importance = model.mask_importance(query).numpy()\n",
        "y_pred = model.predict(query)[0].argmax(axis=-1)\n",
        "\n",
        "for k in range(N):\n",
        "    fig, ax = plt.subplots(1, 3)\n",
        "    img = x_test[k].reshape(28, 28)\n",
        "    feature_importance = importance[k].reshape(28, 28)\n",
        "    num_nonzero = (importance[k] != 0).sum()\n",
        "\n",
        "    ax[0].imshow(img, cmap=\"gray\")\n",
        "    ax[0].set_title(f\"Prediction {y_pred[k]}\")\n",
        "    ax[1].imshow(feature_importance)\n",
        "    ax[1].set_title(f\"{num_nonzero} important features\")\n",
        "    \n",
        "    ax[2].imshow(img / 500 + (feature_importance!=0).astype(np.float))\n",
        "    fig.show()"
      ],
      "execution_count": 13,
      "outputs": [
        {
          "output_type": "display_data",
          "data": {
            "image/png": "[encoded data removed]",
            "text/plain": [
              "<Figure size 432x288 with 3 Axes>"
            ]
          },
          "metadata": {
            "needs_background": "light"
          }
        },
        {
          "output_type": "display_data",
          "data": {
            "image/png": "[encoded data removed]",
            "text/plain": [
              "<Figure size 432x288 with 3 Axes>"
            ]
          },
          "metadata": {
            "needs_background": "light"
          }
        },
        {
          "output_type": "display_data",
          "data": {
            "image/png": "[encoded data removed]",
            "text/plain": [
              "<Figure size 432x288 with 3 Axes>"
            ]
          },
          "metadata": {
            "needs_background": "light"
          }
        },
        {
          "output_type": "display_data",
          "data": {
            "image/png": "[encoded data removed]",
            "text/plain": [
              "<Figure size 432x288 with 3 Axes>"
            ]
          },
          "metadata": {
            "needs_background": "light"
          }
        },
        {
          "output_type": "display_data",
          "data": {
            "image/png": "[encoded data removed]",
            "text/plain": [
              "<Figure size 432x288 with 3 Axes>"
            ]
          },
          "metadata": {
            "needs_background": "light"
          }
        }
      ]
    },
    {
      "cell_type": "markdown",
      "metadata": {
        "id": "X6_sZmzoioIA"
      },
      "source": [
        "As can be seen in most images the important features on the actual digit itself. However, with the first two images above there are no important features in the actual digit.\n",
        "\n",
        "It is worth noting that the MNIST digit is not a binary image and even in the far corners the pixel values may not be exactly zero. Alternatively, it is also fathomable to think that the net is making sure that the pixels are zero in certain parts of the image to ensure that the digit is of a certain shape.\n",
        "\n",
        "## Conclusion\n",
        "Hopefully that demystified TabNets. I personally feel like the sparsemax activation is not explored enough in other areas of DL and probably has more to contribute in the coming years.\n",
        "\n",
        "In terms of TabNet, it's great to see explainability being the pure focus of a paper. The experiments conducted in the paper claims that it has beaten XgBoost in some benchmarks and hopefully TabNet will be the gold standard in this space.\n",
        "\n",
        "Finally, it was really good to play with Tensorflow 2 in a familiar environment to pytorch users.\n",
        "\n",
        "## Shameless Self Promotion\n",
        "See [here for my course](https://www.udemy.com/course/machine-learning-and-data-science-2021/?couponCode=DEEPSCHOOL-MARCH) on Machine Learning and Deep Learning (Use code DEEPSCHOOL-MARCH to 85% off)."
      ]
    },
    {
      "cell_type": "code",
      "metadata": {
        "id": "e4ZxR9NGbn7p"
      },
      "source": [
        ""
      ],
      "execution_count": 13,
      "outputs": []
    }
  ]
}