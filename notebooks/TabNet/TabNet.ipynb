{
 "cells": [
  {
   "cell_type": "markdown",
   "metadata": {},
   "source": [
    "## TabNetのサンプルコード"
   ]
  },
  {
   "cell_type": "code",
   "execution_count": 1,
   "metadata": {},
   "outputs": [],
   "source": [
    "%load_ext lab_black"
   ]
  },
  {
   "cell_type": "code",
   "execution_count": 2,
   "metadata": {},
   "outputs": [],
   "source": [
    "import os\n",
    "import random\n",
    "\n",
    "import matplotlib.pyplot as plt\n",
    "import numpy as np\n",
    "import pandas as pd\n",
    "import seaborn as sns\n",
    "\n",
    "# ライブラリーのインポート\n",
    "import torch\n",
    "import torch.nn.functional as F\n",
    "import torch.optim as optim\n",
    "from pytorch_tabnet.tab_model import TabNetRegressor\n",
    "from sklearn.model_selection import StratifiedKFold\n",
    "from torch import nn\n",
    "from torch.optim.lr_scheduler import ReduceLROnPlateau\n",
    "from torch.utils.data import DataLoader, Dataset\n",
    "\n",
    "%matplotlib inline\n",
    "\n",
    "# ボストンの住宅価格データ\n",
    "from sklearn.datasets import load_boston\n",
    "\n",
    "# 評価指標\n",
    "from sklearn.metrics import mean_absolute_error, mean_squared_error, r2_score\n",
    "from sklearn.model_selection import train_test_split\n",
    "\n",
    "# 前処理\n",
    "from sklearn.preprocessing import StandardScaler"
   ]
  },
  {
   "cell_type": "code",
   "execution_count": 3,
   "metadata": {},
   "outputs": [
    {
     "name": "stdout",
     "output_type": "stream",
     "text": [
      "1.9.0+cu102\n"
     ]
    }
   ],
   "source": [
    "print(torch.__version__)"
   ]
  },
  {
   "cell_type": "code",
   "execution_count": 4,
   "metadata": {},
   "outputs": [],
   "source": [
    "def seed_everything(seed_value):\n",
    "    random.seed(seed_value)\n",
    "    np.random.seed(seed_value)\n",
    "    torch.manual_seed(seed_value)\n",
    "    os.environ[\"PYTHONHASHSEED\"] = str(seed_value)\n",
    "\n",
    "    if torch.cuda.is_available():\n",
    "        torch.cuda.manual_seed(seed_value)\n",
    "        torch.cuda.manual_seed_all(seed_value)\n",
    "        torch.backends.cudnn.deterministic = True\n",
    "        torch.backends.cudnn.benchmark = False\n",
    "\n",
    "\n",
    "seed_everything(10)"
   ]
  },
  {
   "cell_type": "code",
   "execution_count": 5,
   "metadata": {},
   "outputs": [
    {
     "data": {
      "text/html": [
       "<div>\n",
       "<style scoped>\n",
       "    .dataframe tbody tr th:only-of-type {\n",
       "        vertical-align: middle;\n",
       "    }\n",
       "\n",
       "    .dataframe tbody tr th {\n",
       "        vertical-align: top;\n",
       "    }\n",
       "\n",
       "    .dataframe thead th {\n",
       "        text-align: right;\n",
       "    }\n",
       "</style>\n",
       "<table border=\"1\" class=\"dataframe\">\n",
       "  <thead>\n",
       "    <tr style=\"text-align: right;\">\n",
       "      <th></th>\n",
       "      <th>CRIM</th>\n",
       "      <th>ZN</th>\n",
       "      <th>INDUS</th>\n",
       "      <th>CHAS</th>\n",
       "      <th>NOX</th>\n",
       "      <th>RM</th>\n",
       "      <th>AGE</th>\n",
       "      <th>DIS</th>\n",
       "      <th>RAD</th>\n",
       "      <th>TAX</th>\n",
       "      <th>PTRATIO</th>\n",
       "      <th>B</th>\n",
       "      <th>LSTAT</th>\n",
       "      <th>MEDV</th>\n",
       "    </tr>\n",
       "  </thead>\n",
       "  <tbody>\n",
       "    <tr>\n",
       "      <th>0</th>\n",
       "      <td>0.00632</td>\n",
       "      <td>18.0</td>\n",
       "      <td>2.31</td>\n",
       "      <td>0.0</td>\n",
       "      <td>0.538</td>\n",
       "      <td>6.575</td>\n",
       "      <td>65.2</td>\n",
       "      <td>4.0900</td>\n",
       "      <td>1.0</td>\n",
       "      <td>296.0</td>\n",
       "      <td>15.3</td>\n",
       "      <td>396.90</td>\n",
       "      <td>4.98</td>\n",
       "      <td>24.0</td>\n",
       "    </tr>\n",
       "    <tr>\n",
       "      <th>1</th>\n",
       "      <td>0.02731</td>\n",
       "      <td>0.0</td>\n",
       "      <td>7.07</td>\n",
       "      <td>0.0</td>\n",
       "      <td>0.469</td>\n",
       "      <td>6.421</td>\n",
       "      <td>78.9</td>\n",
       "      <td>4.9671</td>\n",
       "      <td>2.0</td>\n",
       "      <td>242.0</td>\n",
       "      <td>17.8</td>\n",
       "      <td>396.90</td>\n",
       "      <td>9.14</td>\n",
       "      <td>21.6</td>\n",
       "    </tr>\n",
       "    <tr>\n",
       "      <th>2</th>\n",
       "      <td>0.02729</td>\n",
       "      <td>0.0</td>\n",
       "      <td>7.07</td>\n",
       "      <td>0.0</td>\n",
       "      <td>0.469</td>\n",
       "      <td>7.185</td>\n",
       "      <td>61.1</td>\n",
       "      <td>4.9671</td>\n",
       "      <td>2.0</td>\n",
       "      <td>242.0</td>\n",
       "      <td>17.8</td>\n",
       "      <td>392.83</td>\n",
       "      <td>4.03</td>\n",
       "      <td>34.7</td>\n",
       "    </tr>\n",
       "    <tr>\n",
       "      <th>3</th>\n",
       "      <td>0.03237</td>\n",
       "      <td>0.0</td>\n",
       "      <td>2.18</td>\n",
       "      <td>0.0</td>\n",
       "      <td>0.458</td>\n",
       "      <td>6.998</td>\n",
       "      <td>45.8</td>\n",
       "      <td>6.0622</td>\n",
       "      <td>3.0</td>\n",
       "      <td>222.0</td>\n",
       "      <td>18.7</td>\n",
       "      <td>394.63</td>\n",
       "      <td>2.94</td>\n",
       "      <td>33.4</td>\n",
       "    </tr>\n",
       "    <tr>\n",
       "      <th>4</th>\n",
       "      <td>0.06905</td>\n",
       "      <td>0.0</td>\n",
       "      <td>2.18</td>\n",
       "      <td>0.0</td>\n",
       "      <td>0.458</td>\n",
       "      <td>7.147</td>\n",
       "      <td>54.2</td>\n",
       "      <td>6.0622</td>\n",
       "      <td>3.0</td>\n",
       "      <td>222.0</td>\n",
       "      <td>18.7</td>\n",
       "      <td>396.90</td>\n",
       "      <td>5.33</td>\n",
       "      <td>36.2</td>\n",
       "    </tr>\n",
       "  </tbody>\n",
       "</table>\n",
       "</div>"
      ],
      "text/plain": [
       "      CRIM    ZN  INDUS  CHAS    NOX     RM   AGE     DIS  RAD    TAX  \\\n",
       "0  0.00632  18.0   2.31   0.0  0.538  6.575  65.2  4.0900  1.0  296.0   \n",
       "1  0.02731   0.0   7.07   0.0  0.469  6.421  78.9  4.9671  2.0  242.0   \n",
       "2  0.02729   0.0   7.07   0.0  0.469  7.185  61.1  4.9671  2.0  242.0   \n",
       "3  0.03237   0.0   2.18   0.0  0.458  6.998  45.8  6.0622  3.0  222.0   \n",
       "4  0.06905   0.0   2.18   0.0  0.458  7.147  54.2  6.0622  3.0  222.0   \n",
       "\n",
       "   PTRATIO       B  LSTAT  MEDV  \n",
       "0     15.3  396.90   4.98  24.0  \n",
       "1     17.8  396.90   9.14  21.6  \n",
       "2     17.8  392.83   4.03  34.7  \n",
       "3     18.7  394.63   2.94  33.4  \n",
       "4     18.7  396.90   5.33  36.2  "
      ]
     },
     "execution_count": 5,
     "metadata": {},
     "output_type": "execute_result"
    }
   ],
   "source": [
    "# データセットの読込み\n",
    "boston = load_boston()\n",
    "\n",
    "# 説明変数の格納\n",
    "df = pd.DataFrame(boston.data, columns=boston.feature_names)\n",
    "# 目的変数の追加\n",
    "df[\"MEDV\"] = boston.target\n",
    "\n",
    "# データの中身を確認\n",
    "df.head()"
   ]
  },
  {
   "cell_type": "markdown",
   "metadata": {},
   "source": [
    "#### 前処理"
   ]
  },
  {
   "cell_type": "code",
   "execution_count": 6,
   "metadata": {},
   "outputs": [],
   "source": [
    "# ランダムシード値\n",
    "RANDOM_STATE = 10\n",
    "\n",
    "# 学習データと評価データの割合\n",
    "TEST_SIZE = 0.2\n",
    "\n",
    "# 学習データと評価データを作成\n",
    "x_train, x_test, y_train, y_test = train_test_split(\n",
    "    df.iloc[:, 0 : df.shape[1] - 1],\n",
    "    df.iloc[:, df.shape[1] - 1],\n",
    "    test_size=TEST_SIZE,\n",
    "    random_state=RANDOM_STATE,\n",
    ")\n",
    "\n",
    "# trainのデータセットの2割をモデル学習時のバリデーションデータとして利用する\n",
    "x_train, x_valid, y_train, y_valid = train_test_split(\n",
    "    x_train, y_train, test_size=TEST_SIZE, random_state=RANDOM_STATE\n",
    ")"
   ]
  },
  {
   "cell_type": "code",
   "execution_count": 7,
   "metadata": {},
   "outputs": [],
   "source": [
    "# モデルのパラメータ\n",
    "tabnet_params = dict(\n",
    "    n_d=15,\n",
    "    n_a=15,\n",
    "    n_steps=8,\n",
    "    gamma=0.2,\n",
    "    seed=10,\n",
    "    lambda_sparse=1e-3,\n",
    "    optimizer_fn=torch.optim.Adam,\n",
    "    optimizer_params=dict(lr=2e-2, weight_decay=1e-5),\n",
    "    mask_type=\"entmax\",\n",
    "    scheduler_params=dict(\n",
    "        max_lr=0.05,\n",
    "        steps_per_epoch=int(x_train.shape[0] / 256),\n",
    "        epochs=200,\n",
    "        is_batch_level=True,\n",
    "    ),\n",
    "    verbose=5,\n",
    ")"
   ]
  },
  {
   "cell_type": "code",
   "execution_count": 8,
   "metadata": {},
   "outputs": [
    {
     "name": "stdout",
     "output_type": "stream",
     "text": [
      "Device used : cpu\n",
      "epoch 0  | loss: 14.56976| val_0_mae: 211.13282|  0:00:00s\n",
      "epoch 5  | loss: 3.11874 | val_0_mae: 29.55905|  0:00:03s\n",
      "epoch 10 | loss: 2.43038 | val_0_mae: 15.34086|  0:00:06s\n",
      "epoch 15 | loss: 2.0079  | val_0_mae: 8.45243 |  0:00:09s\n",
      "epoch 20 | loss: 1.81357 | val_0_mae: 7.34933 |  0:00:12s\n",
      "epoch 25 | loss: 1.72256 | val_0_mae: 6.09449 |  0:00:15s\n",
      "epoch 30 | loss: 1.86989 | val_0_mae: 6.617   |  0:00:18s\n",
      "epoch 35 | loss: 1.69414 | val_0_mae: 7.30948 |  0:00:21s\n",
      "epoch 40 | loss: 1.89843 | val_0_mae: 5.34765 |  0:00:25s\n",
      "epoch 45 | loss: 1.55784 | val_0_mae: 5.5474  |  0:00:30s\n",
      "epoch 50 | loss: 1.60511 | val_0_mae: 5.47405 |  0:00:38s\n",
      "epoch 55 | loss: 1.39825 | val_0_mae: 6.06403 |  0:00:48s\n",
      "epoch 60 | loss: 1.5421  | val_0_mae: 5.75652 |  0:01:01s\n",
      "epoch 65 | loss: 1.72234 | val_0_mae: 5.58837 |  0:01:12s\n",
      "epoch 70 | loss: 1.5995  | val_0_mae: 4.79066 |  0:01:30s\n",
      "epoch 75 | loss: 1.71995 | val_0_mae: 6.5499  |  0:01:42s\n",
      "epoch 80 | loss: 1.26165 | val_0_mae: 5.11483 |  0:01:55s\n",
      "epoch 85 | loss: 1.26149 | val_0_mae: 4.52676 |  0:02:11s\n",
      "epoch 90 | loss: 1.36982 | val_0_mae: 4.03602 |  0:02:23s\n",
      "epoch 95 | loss: 1.28236 | val_0_mae: 4.30598 |  0:02:35s\n",
      "epoch 100| loss: 1.38916 | val_0_mae: 4.00639 |  0:02:44s\n",
      "epoch 105| loss: 1.41946 | val_0_mae: 3.7788  |  0:03:02s\n",
      "epoch 110| loss: 1.29839 | val_0_mae: 3.76598 |  0:03:22s\n",
      "epoch 115| loss: 1.2674  | val_0_mae: 3.15964 |  0:03:39s\n",
      "epoch 120| loss: 1.17342 | val_0_mae: 3.14133 |  0:04:02s\n",
      "epoch 125| loss: 1.33791 | val_0_mae: 2.52819 |  0:04:17s\n",
      "epoch 130| loss: 1.30974 | val_0_mae: 2.54233 |  0:04:27s\n",
      "epoch 135| loss: 1.02432 | val_0_mae: 2.42828 |  0:04:38s\n",
      "epoch 140| loss: 1.08336 | val_0_mae: 2.14497 |  0:04:57s\n",
      "epoch 145| loss: 1.30203 | val_0_mae: 2.13578 |  0:05:06s\n",
      "epoch 150| loss: 1.14018 | val_0_mae: 1.99753 |  0:05:14s\n",
      "epoch 155| loss: 1.26031 | val_0_mae: 2.28343 |  0:05:22s\n",
      "epoch 160| loss: 1.52681 | val_0_mae: 2.2558  |  0:05:36s\n",
      "epoch 165| loss: 1.18553 | val_0_mae: 2.13167 |  0:05:56s\n",
      "epoch 170| loss: 1.37863 | val_0_mae: 2.39948 |  0:06:06s\n",
      "epoch 175| loss: 1.28521 | val_0_mae: 2.04494 |  0:06:14s\n",
      "epoch 180| loss: 1.0459  | val_0_mae: 2.00305 |  0:06:36s\n",
      "epoch 185| loss: 1.13482 | val_0_mae: 1.95132 |  0:06:51s\n",
      "epoch 190| loss: 1.07886 | val_0_mae: 1.95492 |  0:06:59s\n",
      "epoch 195| loss: 0.96399 | val_0_mae: 1.84712 |  0:07:09s\n",
      "Stop training because you reached max_epochs = 200 with best_epoch = 177 and best_val_0_mae = 1.71657\n",
      "Best weights from best epoch are automatically used!\n"
     ]
    }
   ],
   "source": [
    "# model\n",
    "model = TabNetRegressor(**tabnet_params)\n",
    "\n",
    "model.fit(\n",
    "    X_train=x_train.values,\n",
    "    y_train=y_train.values.reshape(-1, 1),\n",
    "    eval_set=[(x_valid.values, y_valid.values.reshape(-1, 1))],\n",
    "    eval_metric=[\"mae\"],\n",
    "    max_epochs=200,\n",
    "    patience=30,\n",
    "    batch_size=256,\n",
    "    virtual_batch_size=128,\n",
    "    num_workers=2,\n",
    "    drop_last=False,\n",
    "    loss_fn=torch.nn.functional.l1_loss,\n",
    ")"
   ]
  },
  {
   "cell_type": "code",
   "execution_count": 9,
   "metadata": {},
   "outputs": [
    {
     "data": {
      "text/plain": [
       "Text(0.5, 1.0, 'feature_importance')"
      ]
     },
     "execution_count": 9,
     "metadata": {},
     "output_type": "execute_result"
    },
    {
     "data": {
      "image/png": "[encoded data removed]",
      "text/plain": [
       "<Figure size 432x288 with 1 Axes>"
      ]
     },
     "metadata": {
      "needs_background": "light"
     },
     "output_type": "display_data"
    }
   ],
   "source": [
    "# Feature Importance\n",
    "feat_imp = pd.DataFrame(model.feature_importances_, index=boston.feature_names)\n",
    "feature_importance = feat_imp.copy()\n",
    "\n",
    "feature_importance[\"imp_mean\"] = feature_importance.mean(axis=1)\n",
    "feature_importance = feature_importance.sort_values(\"imp_mean\")\n",
    "\n",
    "plt.tick_params(labelsize=18)\n",
    "plt.barh(feature_importance.index.values, feature_importance[\"imp_mean\"])\n",
    "plt.title(\"feature_importance\", fontsize=18)"
   ]
  },
  {
   "cell_type": "code",
   "execution_count": 10,
   "metadata": {},
   "outputs": [
    {
     "data": {
      "image/png": "[encoded data removed]",
      "text/plain": [
       "<Figure size 720x504 with 3 Axes>"
      ]
     },
     "metadata": {
      "needs_background": "light"
     },
     "output_type": "display_data"
    }
   ],
   "source": [
    "# Mask(Local interpretability)\n",
    "explain_matrix, masks = model.explain(x_test.values)\n",
    "\n",
    "fig, axs = plt.subplots(1, 3, figsize=(10, 7))\n",
    "\n",
    "for i in range(3):\n",
    "    axs[i].imshow(masks[i][:25])\n",
    "    axs[i].set_title(f\"mask {i}\")"
   ]
  },
  {
   "cell_type": "code",
   "execution_count": 11,
   "metadata": {},
   "outputs": [],
   "source": [
    "# TabNet推論\n",
    "y_pred = model.predict(x_test.values)"
   ]
  },
  {
   "cell_type": "code",
   "execution_count": 12,
   "metadata": {},
   "outputs": [],
   "source": [
    "# 評価\n",
    "def calculate_scores(true, pred):\n",
    "    \"\"\"全ての評価指標を計算する\n",
    "\n",
    "    Parameters\n",
    "    ----------\n",
    "    true (np.array)       : 実測値\n",
    "    pred (np.array)       : 予測値\n",
    "\n",
    "    Returns\n",
    "    -------\n",
    "    scores (pd.DataFrame) : 各評価指標を纏めた結果\n",
    "\n",
    "    \"\"\"\n",
    "    scores = {}\n",
    "    scores = pd.DataFrame(\n",
    "        {\n",
    "            \"R2\": r2_score(true, pred),\n",
    "            \"MAE\": mean_absolute_error(true, pred),\n",
    "            \"MSE\": mean_squared_error(true, pred),\n",
    "            \"RMSE\": np.sqrt(mean_squared_error(true, pred)),\n",
    "        },\n",
    "        index=[\"scores\"],\n",
    "    )\n",
    "    return scores"
   ]
  },
  {
   "cell_type": "code",
   "execution_count": 13,
   "metadata": {},
   "outputs": [
    {
     "name": "stdout",
     "output_type": "stream",
     "text": [
      "             R2       MAE        MSE      RMSE\n",
      "scores  0.90156  2.466226  10.294959  3.208576\n"
     ]
    }
   ],
   "source": [
    "scores = calculate_scores(y_test, y_pred)\n",
    "print(scores)"
   ]
  },
  {
   "cell_type": "code",
   "execution_count": null,
   "metadata": {},
   "outputs": [],
   "source": []
  }
 ],
 "metadata": {
  "kernelspec": {
   "display_name": "Python 3 (ipykernel)",
   "language": "python",
   "name": "python3"
  },
  "language_info": {
   "codemirror_mode": {
    "name": "ipython",
    "version": 3
   },
   "file_extension": ".py",
   "mimetype": "text/x-python",
   "name": "python",
   "nbconvert_exporter": "python",
   "pygments_lexer": "ipython3",
   "version": "3.9.6"
  }
 },
 "nbformat": 4,
 "nbformat_minor": 4
}
