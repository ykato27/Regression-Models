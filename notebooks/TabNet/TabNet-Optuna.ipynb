{
 "cells": [
  {
   "cell_type": "markdown",
   "metadata": {},
   "source": [
    "## TabNet-Optunaのサンプルコード"
   ]
  },
  {
   "cell_type": "code",
   "execution_count": 1,
   "metadata": {},
   "outputs": [],
   "source": [
    "%load_ext lab_black"
   ]
  },
  {
   "cell_type": "code",
   "execution_count": 2,
   "metadata": {},
   "outputs": [],
   "source": [
    "import os\n",
    "import random\n",
    "\n",
    "import matplotlib.pyplot as plt\n",
    "import numpy as np\n",
    "import pandas as pd\n",
    "import seaborn as sns\n",
    "\n",
    "# ライブラリーのインポート\n",
    "import torch\n",
    "import torch.nn.functional as F\n",
    "import torch.optim as optim\n",
    "from pytorch_tabnet.tab_model import TabNetRegressor\n",
    "from sklearn.model_selection import StratifiedKFold\n",
    "from torch import nn\n",
    "from torch.optim.lr_scheduler import ReduceLROnPlateau\n",
    "from torch.utils.data import DataLoader, Dataset\n",
    "\n",
    "%matplotlib inline\n",
    "\n",
    "import warnings\n",
    "\n",
    "# Optuna\n",
    "import optuna\n",
    "from optuna.samplers import TPESampler\n",
    "\n",
    "# ボストンの住宅価格データ\n",
    "from sklearn.datasets import load_boston\n",
    "\n",
    "# 評価指標\n",
    "from sklearn.metrics import mean_absolute_error, mean_squared_error, r2_score\n",
    "from sklearn.model_selection import train_test_split\n",
    "\n",
    "# 前処理\n",
    "from sklearn.preprocessing import StandardScaler\n",
    "\n",
    "warnings.simplefilter(action=\"ignore\", category=FutureWarning)\n",
    "warnings.simplefilter(\n",
    "    action=\"ignore\", category=pd.core.common.SettingWithCopyWarning\n",
    ")"
   ]
  },
  {
   "cell_type": "code",
   "execution_count": 3,
   "metadata": {},
   "outputs": [
    {
     "name": "stdout",
     "output_type": "stream",
     "text": [
      "1.9.0+cu102\n"
     ]
    }
   ],
   "source": [
    "print(torch.__version__)"
   ]
  },
  {
   "cell_type": "code",
   "execution_count": 4,
   "metadata": {},
   "outputs": [
    {
     "name": "stdout",
     "output_type": "stream",
     "text": [
      "2.8.0\n"
     ]
    }
   ],
   "source": [
    "print(optuna.__version__)"
   ]
  },
  {
   "cell_type": "code",
   "execution_count": 5,
   "metadata": {},
   "outputs": [],
   "source": [
    "def seed_everything(seed_value):\n",
    "    random.seed(seed_value)\n",
    "    np.random.seed(seed_value)\n",
    "    torch.manual_seed(seed_value)\n",
    "    os.environ[\"PYTHONHASHSEED\"] = str(seed_value)\n",
    "\n",
    "    if torch.cuda.is_available():\n",
    "        torch.cuda.manual_seed(seed_value)\n",
    "        torch.cuda.manual_seed_all(seed_value)\n",
    "        torch.backends.cudnn.deterministic = True\n",
    "        torch.backends.cudnn.benchmark = False\n",
    "\n",
    "\n",
    "seed_everything(10)"
   ]
  },
  {
   "cell_type": "code",
   "execution_count": 6,
   "metadata": {},
   "outputs": [
    {
     "data": {
      "text/html": [
       "<div>\n",
       "<style scoped>\n",
       "    .dataframe tbody tr th:only-of-type {\n",
       "        vertical-align: middle;\n",
       "    }\n",
       "\n",
       "    .dataframe tbody tr th {\n",
       "        vertical-align: top;\n",
       "    }\n",
       "\n",
       "    .dataframe thead th {\n",
       "        text-align: right;\n",
       "    }\n",
       "</style>\n",
       "<table border=\"1\" class=\"dataframe\">\n",
       "  <thead>\n",
       "    <tr style=\"text-align: right;\">\n",
       "      <th></th>\n",
       "      <th>CRIM</th>\n",
       "      <th>ZN</th>\n",
       "      <th>INDUS</th>\n",
       "      <th>CHAS</th>\n",
       "      <th>NOX</th>\n",
       "      <th>RM</th>\n",
       "      <th>AGE</th>\n",
       "      <th>DIS</th>\n",
       "      <th>RAD</th>\n",
       "      <th>TAX</th>\n",
       "      <th>PTRATIO</th>\n",
       "      <th>B</th>\n",
       "      <th>LSTAT</th>\n",
       "      <th>MEDV</th>\n",
       "    </tr>\n",
       "  </thead>\n",
       "  <tbody>\n",
       "    <tr>\n",
       "      <th>0</th>\n",
       "      <td>0.00632</td>\n",
       "      <td>18.0</td>\n",
       "      <td>2.31</td>\n",
       "      <td>0.0</td>\n",
       "      <td>0.538</td>\n",
       "      <td>6.575</td>\n",
       "      <td>65.2</td>\n",
       "      <td>4.0900</td>\n",
       "      <td>1.0</td>\n",
       "      <td>296.0</td>\n",
       "      <td>15.3</td>\n",
       "      <td>396.90</td>\n",
       "      <td>4.98</td>\n",
       "      <td>24.0</td>\n",
       "    </tr>\n",
       "    <tr>\n",
       "      <th>1</th>\n",
       "      <td>0.02731</td>\n",
       "      <td>0.0</td>\n",
       "      <td>7.07</td>\n",
       "      <td>0.0</td>\n",
       "      <td>0.469</td>\n",
       "      <td>6.421</td>\n",
       "      <td>78.9</td>\n",
       "      <td>4.9671</td>\n",
       "      <td>2.0</td>\n",
       "      <td>242.0</td>\n",
       "      <td>17.8</td>\n",
       "      <td>396.90</td>\n",
       "      <td>9.14</td>\n",
       "      <td>21.6</td>\n",
       "    </tr>\n",
       "    <tr>\n",
       "      <th>2</th>\n",
       "      <td>0.02729</td>\n",
       "      <td>0.0</td>\n",
       "      <td>7.07</td>\n",
       "      <td>0.0</td>\n",
       "      <td>0.469</td>\n",
       "      <td>7.185</td>\n",
       "      <td>61.1</td>\n",
       "      <td>4.9671</td>\n",
       "      <td>2.0</td>\n",
       "      <td>242.0</td>\n",
       "      <td>17.8</td>\n",
       "      <td>392.83</td>\n",
       "      <td>4.03</td>\n",
       "      <td>34.7</td>\n",
       "    </tr>\n",
       "    <tr>\n",
       "      <th>3</th>\n",
       "      <td>0.03237</td>\n",
       "      <td>0.0</td>\n",
       "      <td>2.18</td>\n",
       "      <td>0.0</td>\n",
       "      <td>0.458</td>\n",
       "      <td>6.998</td>\n",
       "      <td>45.8</td>\n",
       "      <td>6.0622</td>\n",
       "      <td>3.0</td>\n",
       "      <td>222.0</td>\n",
       "      <td>18.7</td>\n",
       "      <td>394.63</td>\n",
       "      <td>2.94</td>\n",
       "      <td>33.4</td>\n",
       "    </tr>\n",
       "    <tr>\n",
       "      <th>4</th>\n",
       "      <td>0.06905</td>\n",
       "      <td>0.0</td>\n",
       "      <td>2.18</td>\n",
       "      <td>0.0</td>\n",
       "      <td>0.458</td>\n",
       "      <td>7.147</td>\n",
       "      <td>54.2</td>\n",
       "      <td>6.0622</td>\n",
       "      <td>3.0</td>\n",
       "      <td>222.0</td>\n",
       "      <td>18.7</td>\n",
       "      <td>396.90</td>\n",
       "      <td>5.33</td>\n",
       "      <td>36.2</td>\n",
       "    </tr>\n",
       "  </tbody>\n",
       "</table>\n",
       "</div>"
      ],
      "text/plain": [
       "      CRIM    ZN  INDUS  CHAS    NOX     RM   AGE     DIS  RAD    TAX  \\\n",
       "0  0.00632  18.0   2.31   0.0  0.538  6.575  65.2  4.0900  1.0  296.0   \n",
       "1  0.02731   0.0   7.07   0.0  0.469  6.421  78.9  4.9671  2.0  242.0   \n",
       "2  0.02729   0.0   7.07   0.0  0.469  7.185  61.1  4.9671  2.0  242.0   \n",
       "3  0.03237   0.0   2.18   0.0  0.458  6.998  45.8  6.0622  3.0  222.0   \n",
       "4  0.06905   0.0   2.18   0.0  0.458  7.147  54.2  6.0622  3.0  222.0   \n",
       "\n",
       "   PTRATIO       B  LSTAT  MEDV  \n",
       "0     15.3  396.90   4.98  24.0  \n",
       "1     17.8  396.90   9.14  21.6  \n",
       "2     17.8  392.83   4.03  34.7  \n",
       "3     18.7  394.63   2.94  33.4  \n",
       "4     18.7  396.90   5.33  36.2  "
      ]
     },
     "execution_count": 6,
     "metadata": {},
     "output_type": "execute_result"
    }
   ],
   "source": [
    "# データセットの読込み\n",
    "boston = load_boston()\n",
    "\n",
    "# 説明変数の格納\n",
    "df = pd.DataFrame(boston.data, columns=boston.feature_names)\n",
    "# 目的変数の追加\n",
    "df[\"MEDV\"] = boston.target\n",
    "\n",
    "# データの中身を確認\n",
    "df.head()"
   ]
  },
  {
   "cell_type": "markdown",
   "metadata": {},
   "source": [
    "#### 前処理"
   ]
  },
  {
   "cell_type": "code",
   "execution_count": 7,
   "metadata": {},
   "outputs": [],
   "source": [
    "# ランダムシード値\n",
    "RANDOM_STATE = 10\n",
    "\n",
    "# 学習データと評価データの割合\n",
    "TEST_SIZE = 0.2\n",
    "\n",
    "# 学習データと評価データを作成\n",
    "x_train, x_test, y_train, y_test = train_test_split(\n",
    "    df.iloc[:, 0 : df.shape[1] - 1],\n",
    "    df.iloc[:, df.shape[1] - 1],\n",
    "    test_size=TEST_SIZE,\n",
    "    random_state=RANDOM_STATE,\n",
    ")\n",
    "\n",
    "# trainのデータセットの2割をモデル学習時のバリデーションデータとして利用する\n",
    "x_train, x_valid, y_train, y_valid = train_test_split(\n",
    "    x_train, y_train, test_size=TEST_SIZE, random_state=RANDOM_STATE\n",
    ")"
   ]
  },
  {
   "cell_type": "code",
   "execution_count": 8,
   "metadata": {},
   "outputs": [],
   "source": [
    "def objective(trial):\n",
    "\n",
    "    params = {\n",
    "        \"n_d\": trial.suggest_int(\"n_d\", 8, 64),\n",
    "        \"n_a\": trial.suggest_int(\"n_a\", 8, 64),\n",
    "        \"n_steps\": trial.suggest_int(\"n_steps\", 3, 10),\n",
    "        \"gamma\": trial.suggest_loguniform(\"gamma\", 1.0, 2.0),\n",
    "        \"lambda_sparse\": trial.suggest_loguniform(\"lambda_sparse\", 1e-4, 1e-2),\n",
    "        \"verbose\": 10,\n",
    "        \"optimizer_fn\": torch.optim.Adam,\n",
    "        \"optimizer_params\": dict(lr=2e-2, weight_decay=1e-5),\n",
    "        \"mask_type\": \"entmax\",\n",
    "        \"scheduler_params\": dict(\n",
    "            max_lr=0.05,\n",
    "            steps_per_epoch=int(x_train.shape[0] / 256),\n",
    "            epochs=200,\n",
    "            is_batch_level=True,\n",
    "        ),\n",
    "    }\n",
    "\n",
    "    model = TabNetRegressor(**params)\n",
    "\n",
    "    model.fit(\n",
    "        X_train=x_train.values,\n",
    "        y_train=y_train.values.reshape(-1, 1),\n",
    "        eval_set=[(x_valid.values, y_valid.values.reshape(-1, 1))],\n",
    "        eval_metric=[\"mae\"],\n",
    "        max_epochs=200,\n",
    "        patience=20,\n",
    "        batch_size=256,\n",
    "        virtual_batch_size=128,\n",
    "        num_workers=2,\n",
    "        drop_last=False,\n",
    "        loss_fn=torch.nn.functional.l1_loss,\n",
    "    )\n",
    "\n",
    "    preds = model.predict(x_valid.values)\n",
    "    mae = mean_absolute_error(y_valid, preds)\n",
    "\n",
    "    return mae"
   ]
  },
  {
   "cell_type": "code",
   "execution_count": 9,
   "metadata": {},
   "outputs": [
    {
     "name": "stderr",
     "output_type": "stream",
     "text": [
      "\u001b[32m[I 2021-08-01 03:32:22,787]\u001b[0m A new study created in memory with name: no-name-4bffdf32-ac39-4d90-97a0-9fce37d43fd2\u001b[0m\n"
     ]
    },
    {
     "name": "stdout",
     "output_type": "stream",
     "text": [
      "Device used : cpu\n",
      "epoch 0  | loss: 18.68498| val_0_mae: 328.43533|  0:00:00s\n",
      "epoch 10 | loss: 5.03933 | val_0_mae: 63.24793|  0:00:10s\n",
      "epoch 20 | loss: 4.3516  | val_0_mae: 86.41511|  0:00:25s\n",
      "epoch 30 | loss: 3.03954 | val_0_mae: 14.79323|  0:00:43s\n",
      "epoch 40 | loss: 4.13435 | val_0_mae: 15.3148 |  0:00:56s\n",
      "epoch 50 | loss: 2.88944 | val_0_mae: 8.63644 |  0:01:12s\n",
      "epoch 60 | loss: 3.27153 | val_0_mae: 8.52101 |  0:01:28s\n",
      "epoch 70 | loss: 2.58074 | val_0_mae: 9.76519 |  0:01:46s\n",
      "\n",
      "Early stopping occurred at epoch 76 with best_epoch = 56 and best_val_0_mae = 6.66599\n",
      "Best weights from best epoch are automatically used!\n"
     ]
    },
    {
     "name": "stderr",
     "output_type": "stream",
     "text": [
      "\u001b[32m[I 2021-08-01 03:34:18,305]\u001b[0m Trial 0 finished with value: 6.665994855503977 and parameters: {'n_d': 51, 'n_a': 9, 'n_steps': 8, 'gamma': 1.6803990584064221, 'lambda_sparse': 0.000993148119483195}. Best is trial 0 with value: 6.665994855503977.\u001b[0m\n"
     ]
    },
    {
     "name": "stdout",
     "output_type": "stream",
     "text": [
      "Device used : cpu\n",
      "epoch 0  | loss: 20.14807| val_0_mae: 138.74709|  0:00:01s\n",
      "epoch 10 | loss: 4.02662 | val_0_mae: 91.46085|  0:00:12s\n",
      "epoch 20 | loss: 3.14806 | val_0_mae: 24.54294|  0:00:23s\n",
      "epoch 30 | loss: 2.77801 | val_0_mae: 21.06122|  0:00:37s\n",
      "epoch 40 | loss: 2.5662  | val_0_mae: 7.25164 |  0:00:51s\n",
      "epoch 50 | loss: 2.40684 | val_0_mae: 4.7631  |  0:01:03s\n",
      "epoch 60 | loss: 1.93986 | val_0_mae: 4.83458 |  0:01:15s\n",
      "epoch 70 | loss: 1.91277 | val_0_mae: 3.67385 |  0:01:28s\n",
      "epoch 80 | loss: 2.24673 | val_0_mae: 4.40369 |  0:01:43s\n",
      "epoch 90 | loss: 1.98907 | val_0_mae: 3.7309  |  0:02:06s\n",
      "epoch 100| loss: 2.12941 | val_0_mae: 3.40318 |  0:02:19s\n",
      "\n",
      "Early stopping occurred at epoch 108 with best_epoch = 88 and best_val_0_mae = 2.70801\n",
      "Best weights from best epoch are automatically used!\n"
     ]
    },
    {
     "name": "stderr",
     "output_type": "stream",
     "text": [
      "\u001b[32m[I 2021-08-01 03:36:45,907]\u001b[0m Trial 1 finished with value: 2.7080080267823776 and parameters: {'n_d': 20, 'n_a': 19, 'n_steps': 9, 'gamma': 1.1243653010063248, 'lambda_sparse': 0.0001502033532716473}. Best is trial 1 with value: 2.7080080267823776.\u001b[0m\n"
     ]
    },
    {
     "name": "stdout",
     "output_type": "stream",
     "text": [
      "Device used : cpu\n",
      "epoch 0  | loss: 21.40604| val_0_mae: 123.1386|  0:00:01s\n",
      "epoch 10 | loss: 3.77204 | val_0_mae: 79.2182 |  0:00:11s\n",
      "epoch 20 | loss: 2.90161 | val_0_mae: 36.54001|  0:00:26s\n",
      "epoch 30 | loss: 2.22737 | val_0_mae: 32.84702|  0:00:35s\n",
      "epoch 40 | loss: 2.31192 | val_0_mae: 21.95502|  0:00:54s\n",
      "epoch 50 | loss: 2.12939 | val_0_mae: 11.65066|  0:01:07s\n",
      "epoch 60 | loss: 2.21305 | val_0_mae: 9.58677 |  0:01:16s\n",
      "epoch 70 | loss: 1.66371 | val_0_mae: 8.64855 |  0:01:25s\n",
      "epoch 80 | loss: 1.58894 | val_0_mae: 6.16464 |  0:01:36s\n",
      "epoch 90 | loss: 2.03517 | val_0_mae: 6.57984 |  0:01:50s\n",
      "epoch 100| loss: 1.71578 | val_0_mae: 4.59375 |  0:02:03s\n",
      "epoch 110| loss: 1.55057 | val_0_mae: 4.092   |  0:02:11s\n",
      "epoch 120| loss: 1.64315 | val_0_mae: 2.81143 |  0:02:20s\n",
      "epoch 130| loss: 1.2868  | val_0_mae: 2.86419 |  0:02:29s\n",
      "epoch 140| loss: 1.50515 | val_0_mae: 2.74299 |  0:02:37s\n",
      "epoch 150| loss: 1.54351 | val_0_mae: 2.65684 |  0:02:46s\n",
      "epoch 160| loss: 1.40348 | val_0_mae: 2.46615 |  0:02:54s\n",
      "epoch 170| loss: 1.15718 | val_0_mae: 2.41987 |  0:03:02s\n",
      "epoch 180| loss: 0.99532 | val_0_mae: 2.30903 |  0:03:11s\n",
      "epoch 190| loss: 1.31456 | val_0_mae: 2.136   |  0:03:19s\n",
      "Stop training because you reached max_epochs = 200 with best_epoch = 196 and best_val_0_mae = 2.09211\n",
      "Best weights from best epoch are automatically used!\n"
     ]
    },
    {
     "name": "stderr",
     "output_type": "stream",
     "text": [
      "\u001b[32m[I 2021-08-01 03:40:13,221]\u001b[0m Trial 2 finished with value: 2.092111528655629 and parameters: {'n_d': 47, 'n_a': 62, 'n_steps': 3, 'gamma': 1.4262157719458208, 'lambda_sparse': 0.004219314744806921}. Best is trial 2 with value: 2.092111528655629.\u001b[0m\n"
     ]
    },
    {
     "name": "stdout",
     "output_type": "stream",
     "text": [
      "Device used : cpu\n",
      "epoch 0  | loss: 23.27546| val_0_mae: 156.67833|  0:00:01s\n",
      "epoch 10 | loss: 3.97387 | val_0_mae: 35.98157|  0:00:11s\n",
      "epoch 20 | loss: 2.92538 | val_0_mae: 28.09893|  0:00:20s\n",
      "epoch 30 | loss: 2.47194 | val_0_mae: 24.52693|  0:00:30s\n",
      "\n",
      "Early stopping occurred at epoch 36 with best_epoch = 16 and best_val_0_mae = 15.95231\n",
      "Best weights from best epoch are automatically used!\n"
     ]
    },
    {
     "name": "stderr",
     "output_type": "stream",
     "text": [
      "\u001b[32m[I 2021-08-01 03:40:50,405]\u001b[0m Trial 3 finished with value: 15.952307955423992 and parameters: {'n_d': 42, 'n_a': 49, 'n_steps': 5, 'gamma': 1.8891982739726918, 'lambda_sparse': 0.002686281782188217}. Best is trial 2 with value: 2.092111528655629.\u001b[0m\n"
     ]
    },
    {
     "name": "stdout",
     "output_type": "stream",
     "text": [
      "Device used : cpu\n",
      "epoch 0  | loss: 19.82206| val_0_mae: 131.8155|  0:00:00s\n",
      "epoch 10 | loss: 4.01586 | val_0_mae: 95.73156|  0:00:08s\n",
      "epoch 20 | loss: 2.93867 | val_0_mae: 41.18079|  0:00:16s\n",
      "epoch 30 | loss: 2.48502 | val_0_mae: 31.27241|  0:00:24s\n",
      "epoch 40 | loss: 2.58106 | val_0_mae: 12.78612|  0:00:34s\n",
      "epoch 50 | loss: 2.45314 | val_0_mae: 17.25779|  0:00:42s\n",
      "epoch 60 | loss: 2.16758 | val_0_mae: 11.28636|  0:00:50s\n",
      "epoch 70 | loss: 2.59355 | val_0_mae: 7.27342 |  0:00:59s\n",
      "epoch 80 | loss: 2.35187 | val_0_mae: 5.30038 |  0:01:12s\n",
      "epoch 90 | loss: 2.23975 | val_0_mae: 3.26301 |  0:01:20s\n",
      "epoch 100| loss: 1.82467 | val_0_mae: 3.76682 |  0:01:29s\n",
      "epoch 110| loss: 1.86831 | val_0_mae: 4.24867 |  0:01:37s\n",
      "epoch 120| loss: 1.88791 | val_0_mae: 3.93174 |  0:01:44s\n",
      "epoch 130| loss: 1.88429 | val_0_mae: 3.43423 |  0:01:52s\n",
      "epoch 140| loss: 1.70811 | val_0_mae: 3.0176  |  0:02:02s\n",
      "epoch 150| loss: 1.72786 | val_0_mae: 2.73687 |  0:02:10s\n",
      "epoch 160| loss: 2.20245 | val_0_mae: 3.20185 |  0:02:18s\n",
      "epoch 170| loss: 2.23067 | val_0_mae: 2.5067  |  0:02:26s\n",
      "\n",
      "Early stopping occurred at epoch 176 with best_epoch = 156 and best_val_0_mae = 2.39162\n",
      "Best weights from best epoch are automatically used!\n"
     ]
    },
    {
     "name": "stderr",
     "output_type": "stream",
     "text": [
      "\u001b[32m[I 2021-08-01 03:43:21,975]\u001b[0m Trial 4 finished with value: 2.391619999026075 and parameters: {'n_d': 38, 'n_a': 16, 'n_steps': 5, 'gamma': 1.595638252662573, 'lambda_sparse': 0.0007650086554079974}. Best is trial 2 with value: 2.092111528655629.\u001b[0m\n"
     ]
    },
    {
     "name": "stdout",
     "output_type": "stream",
     "text": [
      "Device used : cpu\n",
      "epoch 0  | loss: 24.44239| val_0_mae: 66.60385|  0:00:00s\n",
      "epoch 10 | loss: 4.0323  | val_0_mae: 83.19217|  0:00:12s\n",
      "epoch 20 | loss: 3.48298 | val_0_mae: 16.47228|  0:00:23s\n",
      "epoch 30 | loss: 3.01288 | val_0_mae: 5.68572 |  0:00:34s\n",
      "epoch 40 | loss: 2.79695 | val_0_mae: 11.14833|  0:00:44s\n",
      "epoch 50 | loss: 2.71454 | val_0_mae: 4.35775 |  0:00:54s\n",
      "epoch 60 | loss: 2.46581 | val_0_mae: 5.41362 |  0:01:04s\n",
      "epoch 70 | loss: 2.40591 | val_0_mae: 5.13127 |  0:01:14s\n",
      "\n",
      "Early stopping occurred at epoch 73 with best_epoch = 53 and best_val_0_mae = 3.73866\n",
      "Best weights from best epoch are automatically used!\n"
     ]
    },
    {
     "name": "stderr",
     "output_type": "stream",
     "text": [
      "\u001b[32m[I 2021-08-01 03:44:40,634]\u001b[0m Trial 5 finished with value: 3.7386649826426566 and parameters: {'n_d': 32, 'n_a': 43, 'n_steps': 7, 'gamma': 1.5696002559562134, 'lambda_sparse': 0.0015924943743091898}. Best is trial 2 with value: 2.092111528655629.\u001b[0m\n"
     ]
    },
    {
     "name": "stdout",
     "output_type": "stream",
     "text": [
      "Device used : cpu\n",
      "epoch 0  | loss: 27.81549| val_0_mae: 433.46226|  0:00:01s\n",
      "epoch 10 | loss: 4.8748  | val_0_mae: 42.6874 |  0:00:15s\n",
      "epoch 20 | loss: 3.55053 | val_0_mae: 22.95405|  0:00:29s\n",
      "epoch 30 | loss: 3.60296 | val_0_mae: 26.71067|  0:00:42s\n",
      "\n",
      "Early stopping occurred at epoch 36 with best_epoch = 16 and best_val_0_mae = 15.21025\n",
      "Best weights from best epoch are automatically used!\n"
     ]
    },
    {
     "name": "stderr",
     "output_type": "stream",
     "text": [
      "\u001b[32m[I 2021-08-01 03:45:32,176]\u001b[0m Trial 6 finished with value: 15.21025163156015 and parameters: {'n_d': 53, 'n_a': 37, 'n_steps': 10, 'gamma': 1.2476697293941643, 'lambda_sparse': 0.0001516766396862929}. Best is trial 2 with value: 2.092111528655629.\u001b[0m\n"
     ]
    },
    {
     "name": "stdout",
     "output_type": "stream",
     "text": [
      "Device used : cpu\n",
      "epoch 0  | loss: 22.75276| val_0_mae: 88.09233|  0:00:00s\n",
      "epoch 10 | loss: 3.73154 | val_0_mae: 55.52167|  0:00:10s\n",
      "epoch 20 | loss: 2.69351 | val_0_mae: 25.99058|  0:00:19s\n",
      "epoch 30 | loss: 2.09555 | val_0_mae: 21.46132|  0:00:29s\n",
      "epoch 40 | loss: 2.50054 | val_0_mae: 13.14493|  0:00:38s\n",
      "epoch 50 | loss: 2.04166 | val_0_mae: 7.64807 |  0:00:48s\n",
      "epoch 60 | loss: 2.05892 | val_0_mae: 6.4992  |  0:00:57s\n",
      "epoch 70 | loss: 2.15868 | val_0_mae: 4.03279 |  0:01:07s\n",
      "epoch 80 | loss: 2.1916  | val_0_mae: 5.64787 |  0:01:16s\n",
      "epoch 90 | loss: 1.83206 | val_0_mae: 3.94437 |  0:01:26s\n",
      "epoch 100| loss: 1.85634 | val_0_mae: 3.5822  |  0:01:35s\n",
      "epoch 110| loss: 1.75355 | val_0_mae: 3.48351 |  0:01:45s\n",
      "epoch 120| loss: 1.88192 | val_0_mae: 2.76876 |  0:01:54s\n",
      "epoch 130| loss: 1.94211 | val_0_mae: 2.48217 |  0:02:04s\n",
      "epoch 140| loss: 1.76793 | val_0_mae: 2.54515 |  0:02:14s\n",
      "\n",
      "Early stopping occurred at epoch 145 with best_epoch = 125 and best_val_0_mae = 2.102\n",
      "Best weights from best epoch are automatically used!\n"
     ]
    },
    {
     "name": "stderr",
     "output_type": "stream",
     "text": [
      "\u001b[32m[I 2021-08-01 03:47:51,981]\u001b[0m Trial 7 finished with value: 2.1019962840610082 and parameters: {'n_d': 25, 'n_a': 14, 'n_steps': 9, 'gamma': 1.0330401446328807, 'lambda_sparse': 0.0017888515294488302}. Best is trial 2 with value: 2.092111528655629.\u001b[0m\n"
     ]
    },
    {
     "name": "stdout",
     "output_type": "stream",
     "text": [
      "Device used : cpu\n",
      "epoch 0  | loss: 22.56101| val_0_mae: 129.09848|  0:00:00s\n",
      "epoch 10 | loss: 3.30654 | val_0_mae: 35.99973|  0:00:09s\n",
      "epoch 20 | loss: 2.62379 | val_0_mae: 10.80063|  0:00:19s\n",
      "epoch 30 | loss: 2.50931 | val_0_mae: 12.17718|  0:00:29s\n",
      "epoch 40 | loss: 2.15169 | val_0_mae: 9.32896 |  0:00:43s\n",
      "epoch 50 | loss: 1.92127 | val_0_mae: 7.12111 |  0:01:03s\n",
      "epoch 60 | loss: 1.82003 | val_0_mae: 7.55108 |  0:01:14s\n",
      "epoch 70 | loss: 1.72679 | val_0_mae: 6.77197 |  0:01:25s\n",
      "epoch 80 | loss: 1.70896 | val_0_mae: 4.0371  |  0:01:37s\n",
      "epoch 90 | loss: 1.9287  | val_0_mae: 3.66728 |  0:01:47s\n",
      "epoch 100| loss: 1.80972 | val_0_mae: 3.27662 |  0:01:56s\n",
      "epoch 110| loss: 1.63526 | val_0_mae: 2.89738 |  0:02:05s\n",
      "epoch 120| loss: 1.49283 | val_0_mae: 2.42564 |  0:02:15s\n",
      "epoch 130| loss: 1.42895 | val_0_mae: 2.78853 |  0:02:26s\n",
      "epoch 140| loss: 1.63197 | val_0_mae: 3.20977 |  0:02:36s\n",
      "\n",
      "Early stopping occurred at epoch 140 with best_epoch = 120 and best_val_0_mae = 2.42564\n",
      "Best weights from best epoch are automatically used!\n"
     ]
    },
    {
     "name": "stderr",
     "output_type": "stream",
     "text": [
      "\u001b[32m[I 2021-08-01 03:50:28,852]\u001b[0m Trial 8 finished with value: 2.4256371297954042 and parameters: {'n_d': 39, 'n_a': 54, 'n_steps': 4, 'gamma': 1.8110800342215692, 'lambda_sparse': 0.0005050161641216353}. Best is trial 2 with value: 2.092111528655629.\u001b[0m\n"
     ]
    },
    {
     "name": "stdout",
     "output_type": "stream",
     "text": [
      "Device used : cpu\n",
      "epoch 0  | loss: 16.20612| val_0_mae: 477.2695|  0:00:01s\n",
      "epoch 10 | loss: 3.39568 | val_0_mae: 73.9404 |  0:00:15s\n",
      "epoch 20 | loss: 2.69961 | val_0_mae: 16.21145|  0:00:30s\n",
      "epoch 30 | loss: 3.32229 | val_0_mae: 8.75808 |  0:00:45s\n",
      "epoch 40 | loss: 2.77602 | val_0_mae: 8.81297 |  0:00:59s\n",
      "\n",
      "Early stopping occurred at epoch 48 with best_epoch = 28 and best_val_0_mae = 7.88312\n",
      "Best weights from best epoch are automatically used!\n"
     ]
    },
    {
     "name": "stderr",
     "output_type": "stream",
     "text": [
      "\u001b[32m[I 2021-08-01 03:51:40,422]\u001b[0m Trial 9 finished with value: 7.8831225618904 and parameters: {'n_d': 51, 'n_a': 24, 'n_steps': 10, 'gamma': 1.2531087627255744, 'lambda_sparse': 0.0002138118619075976}. Best is trial 2 with value: 2.092111528655629.\u001b[0m\n"
     ]
    },
    {
     "name": "stdout",
     "output_type": "stream",
     "text": [
      "CPU times: user 20min 44s, sys: 11min 21s, total: 32min 5s\n",
      "Wall time: 19min 17s\n"
     ]
    }
   ],
   "source": [
    "%%time\n",
    "# optunaで最適値を見つける\n",
    "# create_studyメソッドの引数\"sampler\"にサンプラーと乱数シードを指定\n",
    "study = optuna.create_study(\n",
    "    direction=\"minimize\", sampler=TPESampler(seed=RANDOM_STATE)\n",
    ")\n",
    "study.optimize(objective, n_trials=10)"
   ]
  },
  {
   "cell_type": "code",
   "execution_count": 10,
   "metadata": {},
   "outputs": [
    {
     "data": {
      "text/plain": [
       "{'n_d': 47,\n",
       " 'n_a': 62,\n",
       " 'n_steps': 3,\n",
       " 'gamma': 1.4262157719458208,\n",
       " 'lambda_sparse': 0.004219314744806921,\n",
       " 'verbose': 10,\n",
       " 'seed': 10}"
      ]
     },
     "execution_count": 10,
     "metadata": {},
     "output_type": "execute_result"
    }
   ],
   "source": [
    "best_params = study.best_params\n",
    "best_params[\"verbose\"] = 10\n",
    "best_params[\"seed\"] = RANDOM_STATE\n",
    "best_params"
   ]
  },
  {
   "cell_type": "code",
   "execution_count": 11,
   "metadata": {},
   "outputs": [
    {
     "name": "stdout",
     "output_type": "stream",
     "text": [
      "Device used : cpu\n",
      "epoch 0  | loss: 544.70173| val_0_mae: 88.32304|  0:00:00s\n",
      "epoch 10 | loss: 26.55991| val_0_mae: 88.58951|  0:00:09s\n",
      "epoch 20 | loss: 16.88512| val_0_mae: 30.38919|  0:00:18s\n",
      "epoch 30 | loss: 13.73026| val_0_mae: 14.46438|  0:00:27s\n",
      "epoch 40 | loss: 9.88702 | val_0_mae: 16.33109|  0:00:35s\n",
      "epoch 50 | loss: 9.76941 | val_0_mae: 10.39402|  0:00:44s\n",
      "epoch 60 | loss: 7.60929 | val_0_mae: 7.35876 |  0:00:53s\n",
      "epoch 70 | loss: 10.35971| val_0_mae: 4.43148 |  0:01:02s\n",
      "epoch 80 | loss: 5.95639 | val_0_mae: 4.6789  |  0:01:12s\n",
      "epoch 90 | loss: 11.13189| val_0_mae: 3.41289 |  0:01:22s\n",
      "epoch 100| loss: 7.33472 | val_0_mae: 3.21596 |  0:01:31s\n",
      "epoch 110| loss: 5.03009 | val_0_mae: 3.11351 |  0:01:40s\n",
      "epoch 120| loss: 5.88196 | val_0_mae: 2.94373 |  0:01:48s\n",
      "epoch 130| loss: 5.9392  | val_0_mae: 2.79865 |  0:01:57s\n",
      "epoch 140| loss: 4.94975 | val_0_mae: 3.16416 |  0:02:06s\n",
      "epoch 150| loss: 4.07405 | val_0_mae: 2.69989 |  0:02:15s\n",
      "epoch 160| loss: 4.01065 | val_0_mae: 2.47482 |  0:02:23s\n",
      "epoch 170| loss: 3.42265 | val_0_mae: 2.87309 |  0:02:32s\n",
      "epoch 180| loss: 4.06398 | val_0_mae: 2.4189  |  0:02:41s\n",
      "epoch 190| loss: 2.71773 | val_0_mae: 2.11514 |  0:02:50s\n",
      "Stop training because you reached max_epochs = 200 with best_epoch = 189 and best_val_0_mae = 2.00582\n",
      "Best weights from best epoch are automatically used!\n"
     ]
    }
   ],
   "source": [
    "# チューニングしたハイパーパラメーターをフィット\n",
    "optimised_model = TabNetRegressor(**(best_params))\n",
    "\n",
    "optimised_model.fit(\n",
    "    X_train=x_train.values,\n",
    "    y_train=y_train.values.reshape(-1, 1),\n",
    "    eval_set=[(x_valid.values, y_valid.values.reshape(-1, 1))],\n",
    "    eval_metric=[\"mae\"],\n",
    "    max_epochs=200,\n",
    "    patience=30,\n",
    "    batch_size=256,\n",
    "    virtual_batch_size=128,\n",
    "    num_workers=2,\n",
    "    drop_last=False,\n",
    ")\n",
    "\n",
    "# TabNet推論\n",
    "y_pred = optimised_model.predict(x_test.values)"
   ]
  },
  {
   "cell_type": "code",
   "execution_count": 12,
   "metadata": {},
   "outputs": [
    {
     "data": {
      "text/plain": [
       "Text(0.5, 1.0, 'feature_importance')"
      ]
     },
     "execution_count": 12,
     "metadata": {},
     "output_type": "execute_result"
    },
    {
     "data": {
      "image/png": "[encoded data removed]",
      "text/plain": [
       "<Figure size 432x288 with 1 Axes>"
      ]
     },
     "metadata": {
      "needs_background": "light"
     },
     "output_type": "display_data"
    }
   ],
   "source": [
    "# Feature Importance\n",
    "feat_imp = pd.DataFrame(\n",
    "    optimised_model.feature_importances_, index=boston.feature_names\n",
    ")\n",
    "feature_importance = feat_imp.copy()\n",
    "\n",
    "feature_importance[\"imp_mean\"] = feature_importance.mean(axis=1)\n",
    "feature_importance = feature_importance.sort_values(\"imp_mean\")\n",
    "\n",
    "plt.tick_params(labelsize=18)\n",
    "plt.barh(feature_importance.index.values, feature_importance[\"imp_mean\"])\n",
    "plt.title(\"feature_importance\", fontsize=18)"
   ]
  },
  {
   "cell_type": "code",
   "execution_count": 13,
   "metadata": {},
   "outputs": [
    {
     "data": {
      "image/png": "[encoded data removed]",
      "text/plain": [
       "<Figure size 720x504 with 3 Axes>"
      ]
     },
     "metadata": {
      "needs_background": "light"
     },
     "output_type": "display_data"
    }
   ],
   "source": [
    "# Mask(Local interpretability)\n",
    "explain_matrix, masks = optimised_model.explain(x_test.values)\n",
    "\n",
    "fig, axs = plt.subplots(1, 3, figsize=(10, 7))\n",
    "\n",
    "for i in range(3):\n",
    "    axs[i].imshow(masks[i][:25])\n",
    "    axs[i].set_title(f\"mask {i}\")"
   ]
  },
  {
   "cell_type": "code",
   "execution_count": 14,
   "metadata": {},
   "outputs": [],
   "source": [
    "# 評価\n",
    "def calculate_scores(true, pred):\n",
    "    \"\"\"全ての評価指標を計算する\n",
    "\n",
    "    Parameters\n",
    "    ----------\n",
    "    true (np.array)       : 実測値\n",
    "    pred (np.array)       : 予測値\n",
    "\n",
    "    Returns\n",
    "    -------\n",
    "    scores (pd.DataFrame) : 各評価指標を纏めた結果\n",
    "\n",
    "    \"\"\"\n",
    "    scores = {}\n",
    "    scores = pd.DataFrame(\n",
    "        {\n",
    "            \"R2\": r2_score(true, pred),\n",
    "            \"MAE\": mean_absolute_error(true, pred),\n",
    "            \"MSE\": mean_squared_error(true, pred),\n",
    "            \"RMSE\": np.sqrt(mean_squared_error(true, pred)),\n",
    "        },\n",
    "        index=[\"scores\"],\n",
    "    )\n",
    "    return scores"
   ]
  },
  {
   "cell_type": "code",
   "execution_count": 15,
   "metadata": {},
   "outputs": [
    {
     "name": "stdout",
     "output_type": "stream",
     "text": [
      "              R2       MAE        MSE     RMSE\n",
      "scores  0.879831  2.516975  12.567379  3.54505\n"
     ]
    }
   ],
   "source": [
    "scores = calculate_scores(y_test, y_pred)\n",
    "print(scores)"
   ]
  },
  {
   "cell_type": "code",
   "execution_count": null,
   "metadata": {},
   "outputs": [],
   "source": []
  }
 ],
 "metadata": {
  "kernelspec": {
   "display_name": "Python 3 (ipykernel)",
   "language": "python",
   "name": "python3"
  },
  "language_info": {
   "codemirror_mode": {
    "name": "ipython",
    "version": 3
   },
   "file_extension": ".py",
   "mimetype": "text/x-python",
   "name": "python",
   "nbconvert_exporter": "python",
   "pygments_lexer": "ipython3",
   "version": "3.9.6"
  }
 },
 "nbformat": 4,
 "nbformat_minor": 4
}
