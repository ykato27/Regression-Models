{
 "cells": [
  {
   "cell_type": "markdown",
   "metadata": {},
   "source": [
    "## TabNet-Optunaのサンプルコード"
   ]
  },
  {
   "cell_type": "code",
   "execution_count": 1,
   "metadata": {},
   "outputs": [],
   "source": [
    "%load_ext lab_black"
   ]
  },
  {
   "cell_type": "code",
   "execution_count": 2,
   "metadata": {},
   "outputs": [],
   "source": [
    "# ライブラリーのインポート\n",
    "import torch\n",
    "from torch import nn\n",
    "from torch.utils.data import DataLoader, Dataset\n",
    "import torch.optim as optim\n",
    "import torch.nn.functional as F\n",
    "from torch.optim.lr_scheduler import ReduceLROnPlateau\n",
    "from sklearn.model_selection import StratifiedKFold\n",
    "from pytorch_tabnet.tab_model import TabNetRegressor\n",
    "\n",
    "import os\n",
    "import random\n",
    "import pandas as pd\n",
    "import numpy as np\n",
    "\n",
    "import seaborn as sns\n",
    "import matplotlib.pyplot as plt\n",
    "\n",
    "%matplotlib inline\n",
    "\n",
    "# ボストンの住宅価格データ\n",
    "from sklearn.datasets import load_boston\n",
    "\n",
    "# 前処理\n",
    "from sklearn.preprocessing import StandardScaler\n",
    "from sklearn.model_selection import train_test_split\n",
    "\n",
    "# Optuna\n",
    "import optuna\n",
    "from optuna.samplers import TPESampler\n",
    "\n",
    "# 評価指標\n",
    "from sklearn.metrics import r2_score\n",
    "from sklearn.metrics import mean_absolute_error\n",
    "from sklearn.metrics import mean_squared_error\n",
    "\n",
    "import warnings\n",
    "\n",
    "warnings.simplefilter(action=\"ignore\", category=FutureWarning)\n",
    "warnings.simplefilter(action=\"ignore\", category=pd.core.common.SettingWithCopyWarning)"
   ]
  },
  {
   "cell_type": "code",
   "execution_count": 3,
   "metadata": {},
   "outputs": [
    {
     "name": "stdout",
     "output_type": "stream",
     "text": [
      "1.9.0+cu102\n"
     ]
    }
   ],
   "source": [
    "print(torch.__version__)"
   ]
  },
  {
   "cell_type": "code",
   "execution_count": 4,
   "metadata": {},
   "outputs": [
    {
     "name": "stdout",
     "output_type": "stream",
     "text": [
      "2.8.0\n"
     ]
    }
   ],
   "source": [
    "print(optuna.__version__)"
   ]
  },
  {
   "cell_type": "code",
   "execution_count": 5,
   "metadata": {},
   "outputs": [],
   "source": [
    "def seed_everything(seed_value):\n",
    "    random.seed(seed_value)\n",
    "    np.random.seed(seed_value)\n",
    "    torch.manual_seed(seed_value)\n",
    "    os.environ[\"PYTHONHASHSEED\"] = str(seed_value)\n",
    "\n",
    "    if torch.cuda.is_available():\n",
    "        torch.cuda.manual_seed(seed_value)\n",
    "        torch.cuda.manual_seed_all(seed_value)\n",
    "        torch.backends.cudnn.deterministic = True\n",
    "        torch.backends.cudnn.benchmark = False\n",
    "\n",
    "\n",
    "seed_everything(10)"
   ]
  },
  {
   "cell_type": "code",
   "execution_count": 6,
   "metadata": {},
   "outputs": [
    {
     "data": {
      "text/html": [
       "<div>\n",
       "<style scoped>\n",
       "    .dataframe tbody tr th:only-of-type {\n",
       "        vertical-align: middle;\n",
       "    }\n",
       "\n",
       "    .dataframe tbody tr th {\n",
       "        vertical-align: top;\n",
       "    }\n",
       "\n",
       "    .dataframe thead th {\n",
       "        text-align: right;\n",
       "    }\n",
       "</style>\n",
       "<table border=\"1\" class=\"dataframe\">\n",
       "  <thead>\n",
       "    <tr style=\"text-align: right;\">\n",
       "      <th></th>\n",
       "      <th>CRIM</th>\n",
       "      <th>ZN</th>\n",
       "      <th>INDUS</th>\n",
       "      <th>CHAS</th>\n",
       "      <th>NOX</th>\n",
       "      <th>RM</th>\n",
       "      <th>AGE</th>\n",
       "      <th>DIS</th>\n",
       "      <th>RAD</th>\n",
       "      <th>TAX</th>\n",
       "      <th>PTRATIO</th>\n",
       "      <th>B</th>\n",
       "      <th>LSTAT</th>\n",
       "      <th>MEDV</th>\n",
       "    </tr>\n",
       "  </thead>\n",
       "  <tbody>\n",
       "    <tr>\n",
       "      <th>0</th>\n",
       "      <td>0.00632</td>\n",
       "      <td>18.0</td>\n",
       "      <td>2.31</td>\n",
       "      <td>0.0</td>\n",
       "      <td>0.538</td>\n",
       "      <td>6.575</td>\n",
       "      <td>65.2</td>\n",
       "      <td>4.0900</td>\n",
       "      <td>1.0</td>\n",
       "      <td>296.0</td>\n",
       "      <td>15.3</td>\n",
       "      <td>396.90</td>\n",
       "      <td>4.98</td>\n",
       "      <td>24.0</td>\n",
       "    </tr>\n",
       "    <tr>\n",
       "      <th>1</th>\n",
       "      <td>0.02731</td>\n",
       "      <td>0.0</td>\n",
       "      <td>7.07</td>\n",
       "      <td>0.0</td>\n",
       "      <td>0.469</td>\n",
       "      <td>6.421</td>\n",
       "      <td>78.9</td>\n",
       "      <td>4.9671</td>\n",
       "      <td>2.0</td>\n",
       "      <td>242.0</td>\n",
       "      <td>17.8</td>\n",
       "      <td>396.90</td>\n",
       "      <td>9.14</td>\n",
       "      <td>21.6</td>\n",
       "    </tr>\n",
       "    <tr>\n",
       "      <th>2</th>\n",
       "      <td>0.02729</td>\n",
       "      <td>0.0</td>\n",
       "      <td>7.07</td>\n",
       "      <td>0.0</td>\n",
       "      <td>0.469</td>\n",
       "      <td>7.185</td>\n",
       "      <td>61.1</td>\n",
       "      <td>4.9671</td>\n",
       "      <td>2.0</td>\n",
       "      <td>242.0</td>\n",
       "      <td>17.8</td>\n",
       "      <td>392.83</td>\n",
       "      <td>4.03</td>\n",
       "      <td>34.7</td>\n",
       "    </tr>\n",
       "    <tr>\n",
       "      <th>3</th>\n",
       "      <td>0.03237</td>\n",
       "      <td>0.0</td>\n",
       "      <td>2.18</td>\n",
       "      <td>0.0</td>\n",
       "      <td>0.458</td>\n",
       "      <td>6.998</td>\n",
       "      <td>45.8</td>\n",
       "      <td>6.0622</td>\n",
       "      <td>3.0</td>\n",
       "      <td>222.0</td>\n",
       "      <td>18.7</td>\n",
       "      <td>394.63</td>\n",
       "      <td>2.94</td>\n",
       "      <td>33.4</td>\n",
       "    </tr>\n",
       "    <tr>\n",
       "      <th>4</th>\n",
       "      <td>0.06905</td>\n",
       "      <td>0.0</td>\n",
       "      <td>2.18</td>\n",
       "      <td>0.0</td>\n",
       "      <td>0.458</td>\n",
       "      <td>7.147</td>\n",
       "      <td>54.2</td>\n",
       "      <td>6.0622</td>\n",
       "      <td>3.0</td>\n",
       "      <td>222.0</td>\n",
       "      <td>18.7</td>\n",
       "      <td>396.90</td>\n",
       "      <td>5.33</td>\n",
       "      <td>36.2</td>\n",
       "    </tr>\n",
       "  </tbody>\n",
       "</table>\n",
       "</div>"
      ],
      "text/plain": [
       "      CRIM    ZN  INDUS  CHAS    NOX     RM   AGE     DIS  RAD    TAX  \\\n",
       "0  0.00632  18.0   2.31   0.0  0.538  6.575  65.2  4.0900  1.0  296.0   \n",
       "1  0.02731   0.0   7.07   0.0  0.469  6.421  78.9  4.9671  2.0  242.0   \n",
       "2  0.02729   0.0   7.07   0.0  0.469  7.185  61.1  4.9671  2.0  242.0   \n",
       "3  0.03237   0.0   2.18   0.0  0.458  6.998  45.8  6.0622  3.0  222.0   \n",
       "4  0.06905   0.0   2.18   0.0  0.458  7.147  54.2  6.0622  3.0  222.0   \n",
       "\n",
       "   PTRATIO       B  LSTAT  MEDV  \n",
       "0     15.3  396.90   4.98  24.0  \n",
       "1     17.8  396.90   9.14  21.6  \n",
       "2     17.8  392.83   4.03  34.7  \n",
       "3     18.7  394.63   2.94  33.4  \n",
       "4     18.7  396.90   5.33  36.2  "
      ]
     },
     "execution_count": 6,
     "metadata": {},
     "output_type": "execute_result"
    }
   ],
   "source": [
    "# データセットの読込み\n",
    "boston = load_boston()\n",
    "\n",
    "# 説明変数の格納\n",
    "df = pd.DataFrame(boston.data, columns=boston.feature_names)\n",
    "# 目的変数の追加\n",
    "df[\"MEDV\"] = boston.target\n",
    "\n",
    "# データの中身を確認\n",
    "df.head()"
   ]
  },
  {
   "cell_type": "markdown",
   "metadata": {},
   "source": [
    "#### 前処理"
   ]
  },
  {
   "cell_type": "code",
   "execution_count": 7,
   "metadata": {},
   "outputs": [],
   "source": [
    "# ランダムシード値\n",
    "RANDOM_STATE = 10\n",
    "\n",
    "# 学習データと評価データの割合\n",
    "TEST_SIZE = 0.2\n",
    "\n",
    "# 学習データと評価データを作成\n",
    "x_train, x_test, y_train, y_test = train_test_split(\n",
    "    df.iloc[:, 0 : df.shape[1] - 1],\n",
    "    df.iloc[:, df.shape[1] - 1],\n",
    "    test_size=TEST_SIZE,\n",
    "    random_state=RANDOM_STATE,\n",
    ")\n",
    "\n",
    "# trainのデータセットの2割をモデル学習時のバリデーションデータとして利用する\n",
    "x_train, x_valid, y_train, y_valid = train_test_split(\n",
    "    x_train, y_train, test_size=TEST_SIZE, random_state=RANDOM_STATE\n",
    ")"
   ]
  },
  {
   "cell_type": "code",
   "execution_count": 8,
   "metadata": {},
   "outputs": [],
   "source": [
    "def objective(trial):\n",
    "\n",
    "    params = {\n",
    "        \"n_d\": trial.suggest_int(\"n_d\", 5, 50),\n",
    "        \"n_a\": trial.suggest_int(\"n_a\", 5, 50),\n",
    "        \"gamma\": trial.suggest_loguniform(\"gamma\", 0.1, 3.0),\n",
    "        \"lambda_sparse\": trial.suggest_loguniform(\"lambda_sparse\", 1e-4, 1e-2),\n",
    "        \"verbose\": 10,\n",
    "        \"optimizer_fn\": torch.optim.Adam,\n",
    "        \"n_steps\": 3,\n",
    "        \"optimizer_params\": dict(lr=2e-2, weight_decay=1e-5),\n",
    "        \"mask_type\": \"entmax\",\n",
    "        \"scheduler_params\": dict(\n",
    "            max_lr=0.05,\n",
    "            steps_per_epoch=int(x_train.shape[0] / 256),\n",
    "            epochs=200,\n",
    "            is_batch_level=True,\n",
    "        ),\n",
    "    }\n",
    "\n",
    "    model = TabNetRegressor(**params)\n",
    "\n",
    "    model.fit(\n",
    "        X_train=x_train.values,\n",
    "        y_train=y_train.values.reshape(-1, 1),\n",
    "        eval_set=[(x_valid.values, y_valid.values.reshape(-1, 1))],\n",
    "        eval_metric=[\"mae\"],\n",
    "        max_epochs=200,\n",
    "        patience=20,\n",
    "        batch_size=256,\n",
    "        virtual_batch_size=128,\n",
    "        num_workers=2,\n",
    "        drop_last=False,\n",
    "        loss_fn=torch.nn.functional.l1_loss,\n",
    "    )\n",
    "\n",
    "    preds = model.predict(x_valid.values)\n",
    "    mae = mean_absolute_error(y_valid, preds)\n",
    "\n",
    "    return mae"
   ]
  },
  {
   "cell_type": "code",
   "execution_count": 9,
   "metadata": {},
   "outputs": [
    {
     "name": "stderr",
     "output_type": "stream",
     "text": [
      "\u001b[32m[I 2021-07-31 14:16:38,759]\u001b[0m A new study created in memory with name: no-name-babe1957-9c93-48d7-88de-d471d8611450\u001b[0m\n"
     ]
    },
    {
     "name": "stdout",
     "output_type": "stream",
     "text": [
      "Device used : cpu\n",
      "epoch 0  | loss: 22.7679 | val_0_mae: 40.90259|  0:00:01s\n",
      "epoch 10 | loss: 4.21328 | val_0_mae: 62.5233 |  0:00:14s\n",
      "epoch 20 | loss: 2.35183 | val_0_mae: 43.92477|  0:00:32s\n",
      "epoch 30 | loss: 2.20052 | val_0_mae: 21.23734|  0:00:51s\n",
      "epoch 40 | loss: 1.61622 | val_0_mae: 10.12478|  0:01:07s\n",
      "epoch 50 | loss: 1.97044 | val_0_mae: 6.83528 |  0:01:24s\n",
      "epoch 60 | loss: 1.54354 | val_0_mae: 8.15627 |  0:01:40s\n",
      "epoch 70 | loss: 1.47282 | val_0_mae: 4.60807 |  0:01:58s\n",
      "epoch 80 | loss: 1.37619 | val_0_mae: 5.83964 |  0:02:10s\n",
      "epoch 90 | loss: 1.37753 | val_0_mae: 3.84597 |  0:02:30s\n",
      "epoch 100| loss: 1.46985 | val_0_mae: 3.816   |  0:02:56s\n",
      "epoch 110| loss: 1.48347 | val_0_mae: 3.11394 |  0:03:20s\n",
      "epoch 120| loss: 1.35678 | val_0_mae: 2.4971  |  0:03:41s\n",
      "epoch 130| loss: 1.16589 | val_0_mae: 2.88603 |  0:03:55s\n",
      "\n",
      "Early stopping occurred at epoch 134 with best_epoch = 114 and best_val_0_mae = 2.4331\n",
      "Best weights from best epoch are automatically used!\n"
     ]
    },
    {
     "name": "stderr",
     "output_type": "stream",
     "text": [
      "\u001b[32m[I 2021-07-31 14:20:40,767]\u001b[0m Trial 0 finished with value: 2.4331024252338174 and parameters: {'n_d': 40, 'n_a': 5, 'gamma': 0.8629294202140577, 'lambda_sparse': 0.0031449066951230948}. Best is trial 0 with value: 2.4331024252338174.\u001b[0m\n"
     ]
    },
    {
     "name": "stdout",
     "output_type": "stream",
     "text": [
      "Device used : cpu\n",
      "epoch 0  | loss: 21.84247| val_0_mae: 55.07674|  0:00:01s\n",
      "epoch 10 | loss: 4.46036 | val_0_mae: 105.10366|  0:00:19s\n",
      "epoch 20 | loss: 2.26697 | val_0_mae: 21.58229|  0:00:31s\n",
      "epoch 30 | loss: 1.99261 | val_0_mae: 24.43938|  0:00:41s\n",
      "\n",
      "Early stopping occurred at epoch 35 with best_epoch = 15 and best_val_0_mae = 11.88037\n",
      "Best weights from best epoch are automatically used!\n"
     ]
    },
    {
     "name": "stderr",
     "output_type": "stream",
     "text": [
      "\u001b[32m[I 2021-07-31 14:21:30,173]\u001b[0m Trial 1 finished with value: 11.880366280638142 and parameters: {'n_d': 27, 'n_a': 15, 'gamma': 0.19613850797827748, 'lambda_sparse': 0.003319414023327547}. Best is trial 0 with value: 2.4331024252338174.\u001b[0m\n"
     ]
    },
    {
     "name": "stdout",
     "output_type": "stream",
     "text": [
      "Device used : cpu\n",
      "epoch 0  | loss: 20.96321| val_0_mae: 27.56122|  0:00:00s\n",
      "epoch 10 | loss: 6.81238 | val_0_mae: 50.40458|  0:00:11s\n",
      "epoch 20 | loss: 3.12119 | val_0_mae: 18.27043|  0:00:29s\n",
      "\n",
      "Early stopping occurred at epoch 23 with best_epoch = 3 and best_val_0_mae = 18.15217\n",
      "Best weights from best epoch are automatically used!\n"
     ]
    },
    {
     "name": "stderr",
     "output_type": "stream",
     "text": [
      "\u001b[32m[I 2021-07-31 14:22:04,987]\u001b[0m Trial 2 finished with value: 18.152172086268298 and parameters: {'n_d': 12, 'n_a': 9, 'gamma': 1.0288677510088238, 'lambda_sparse': 0.008068386469121065}. Best is trial 0 with value: 2.4331024252338174.\u001b[0m\n"
     ]
    },
    {
     "name": "stdout",
     "output_type": "stream",
     "text": [
      "Device used : cpu\n",
      "epoch 0  | loss: 21.82856| val_0_mae: 31.00052|  0:00:01s\n",
      "epoch 10 | loss: 12.27143| val_0_mae: 26.92937|  0:00:10s\n",
      "epoch 20 | loss: 3.8001  | val_0_mae: 31.47435|  0:00:32s\n",
      "epoch 30 | loss: 2.51574 | val_0_mae: 9.44239 |  0:00:46s\n",
      "epoch 40 | loss: 2.03615 | val_0_mae: 6.18593 |  0:00:57s\n",
      "epoch 50 | loss: 2.04734 | val_0_mae: 6.03398 |  0:01:10s\n",
      "epoch 60 | loss: 1.98534 | val_0_mae: 6.49484 |  0:01:24s\n",
      "\n",
      "Early stopping occurred at epoch 65 with best_epoch = 45 and best_val_0_mae = 5.12691\n",
      "Best weights from best epoch are automatically used!\n"
     ]
    },
    {
     "name": "stderr",
     "output_type": "stream",
     "text": [
      "\u001b[32m[I 2021-07-31 14:23:31,370]\u001b[0m Trial 3 finished with value: 5.126912407816192 and parameters: {'n_d': 5, 'n_a': 28, 'gamma': 1.586133341970331, 'lambda_sparse': 0.0016790055575223667}. Best is trial 0 with value: 2.4331024252338174.\u001b[0m\n"
     ]
    },
    {
     "name": "stdout",
     "output_type": "stream",
     "text": [
      "Device used : cpu\n",
      "epoch 0  | loss: 20.72869| val_0_mae: 43.12592|  0:00:00s\n",
      "epoch 10 | loss: 4.83951 | val_0_mae: 16.79277|  0:00:05s\n",
      "epoch 20 | loss: 2.70506 | val_0_mae: 24.9105 |  0:00:10s\n",
      "epoch 30 | loss: 2.48422 | val_0_mae: 9.60446 |  0:00:14s\n",
      "epoch 40 | loss: 2.2644  | val_0_mae: 9.18278 |  0:00:19s\n",
      "epoch 50 | loss: 1.97803 | val_0_mae: 6.36073 |  0:00:24s\n",
      "epoch 60 | loss: 1.69202 | val_0_mae: 5.8152  |  0:00:28s\n",
      "epoch 70 | loss: 2.00621 | val_0_mae: 7.03142 |  0:00:33s\n",
      "epoch 80 | loss: 1.9251  | val_0_mae: 7.05977 |  0:00:38s\n",
      "epoch 90 | loss: 1.75756 | val_0_mae: 4.47352 |  0:00:43s\n",
      "epoch 100| loss: 1.68476 | val_0_mae: 3.66868 |  0:00:47s\n",
      "epoch 110| loss: 1.79395 | val_0_mae: 3.59806 |  0:00:52s\n",
      "epoch 120| loss: 1.56067 | val_0_mae: 3.00987 |  0:00:57s\n",
      "epoch 130| loss: 1.42273 | val_0_mae: 2.97925 |  0:01:01s\n",
      "epoch 140| loss: 1.68014 | val_0_mae: 2.70599 |  0:01:06s\n",
      "epoch 150| loss: 1.41734 | val_0_mae: 2.3334  |  0:01:11s\n",
      "epoch 160| loss: 1.38481 | val_0_mae: 2.10847 |  0:01:15s\n",
      "epoch 170| loss: 1.5328  | val_0_mae: 2.33126 |  0:01:20s\n",
      "\n",
      "Early stopping occurred at epoch 179 with best_epoch = 159 and best_val_0_mae = 1.95881\n",
      "Best weights from best epoch are automatically used!\n"
     ]
    },
    {
     "name": "stderr",
     "output_type": "stream",
     "text": [
      "\u001b[32m[I 2021-07-31 14:24:56,606]\u001b[0m Trial 4 finished with value: 1.9588072965174546 and parameters: {'n_d': 38, 'n_a': 18, 'gamma': 2.268107649974001, 'lambda_sparse': 0.002686281782188217}. Best is trial 4 with value: 1.9588072965174546.\u001b[0m\n"
     ]
    },
    {
     "name": "stdout",
     "output_type": "stream",
     "text": [
      "Device used : cpu\n",
      "epoch 0  | loss: 19.89658| val_0_mae: 105.77685|  0:00:00s\n",
      "epoch 10 | loss: 3.17664 | val_0_mae: 21.6491 |  0:00:04s\n",
      "epoch 20 | loss: 2.29809 | val_0_mae: 23.82159|  0:00:08s\n",
      "epoch 30 | loss: 2.07887 | val_0_mae: 12.64586|  0:00:12s\n",
      "epoch 40 | loss: 2.15308 | val_0_mae: 13.4878 |  0:00:17s\n",
      "epoch 50 | loss: 1.59418 | val_0_mae: 9.86579 |  0:00:21s\n",
      "epoch 60 | loss: 1.54028 | val_0_mae: 6.11342 |  0:00:25s\n",
      "epoch 70 | loss: 1.63857 | val_0_mae: 5.2096  |  0:00:29s\n",
      "epoch 80 | loss: 1.39359 | val_0_mae: 3.64005 |  0:00:33s\n",
      "epoch 90 | loss: 1.46762 | val_0_mae: 3.837   |  0:00:37s\n",
      "epoch 100| loss: 1.47768 | val_0_mae: 3.6147  |  0:00:42s\n",
      "epoch 110| loss: 1.47219 | val_0_mae: 3.50861 |  0:00:46s\n",
      "epoch 120| loss: 1.27156 | val_0_mae: 2.91793 |  0:00:50s\n",
      "\n",
      "Early stopping occurred at epoch 126 with best_epoch = 106 and best_val_0_mae = 2.64943\n",
      "Best weights from best epoch are automatically used!\n"
     ]
    },
    {
     "name": "stderr",
     "output_type": "stream",
     "text": [
      "\u001b[32m[I 2021-07-31 14:25:49,816]\u001b[0m Trial 5 finished with value: 2.6494294613967706 and parameters: {'n_d': 29, 'n_a': 11, 'gamma': 0.356016045527541, 'lambda_sparse': 0.0022298067722039327}. Best is trial 4 with value: 1.9588072965174546.\u001b[0m\n"
     ]
    },
    {
     "name": "stdout",
     "output_type": "stream",
     "text": [
      "Device used : cpu\n",
      "epoch 0  | loss: 22.3206 | val_0_mae: 44.88022|  0:00:00s\n",
      "epoch 10 | loss: 3.14359 | val_0_mae: 68.17351|  0:00:04s\n",
      "epoch 20 | loss: 2.11892 | val_0_mae: 10.77115|  0:00:09s\n",
      "epoch 30 | loss: 2.01255 | val_0_mae: 9.89513 |  0:00:13s\n",
      "epoch 40 | loss: 2.04396 | val_0_mae: 9.65489 |  0:00:17s\n",
      "\n",
      "Early stopping occurred at epoch 42 with best_epoch = 22 and best_val_0_mae = 8.94326\n",
      "Best weights from best epoch are automatically used!\n"
     ]
    },
    {
     "name": "stderr",
     "output_type": "stream",
     "text": [
      "\u001b[32m[I 2021-07-31 14:26:08,974]\u001b[0m Trial 6 finished with value: 8.943258657573182 and parameters: {'n_d': 25, 'n_a': 24, 'gamma': 0.8175545395854358, 'lambda_sparse': 0.0010623716801588566}. Best is trial 4 with value: 1.9588072965174546.\u001b[0m\n"
     ]
    },
    {
     "name": "stdout",
     "output_type": "stream",
     "text": [
      "Device used : cpu\n",
      "epoch 0  | loss: 21.15963| val_0_mae: 146.29139|  0:00:00s\n",
      "epoch 10 | loss: 3.91568 | val_0_mae: 23.65176|  0:00:05s\n",
      "epoch 20 | loss: 2.74638 | val_0_mae: 20.14294|  0:00:10s\n",
      "epoch 30 | loss: 2.39482 | val_0_mae: 7.70866 |  0:00:15s\n",
      "epoch 40 | loss: 2.37993 | val_0_mae: 14.21459|  0:00:20s\n",
      "epoch 50 | loss: 2.13163 | val_0_mae: 7.32808 |  0:00:25s\n",
      "epoch 60 | loss: 2.18431 | val_0_mae: 7.46923 |  0:00:30s\n",
      "epoch 70 | loss: 1.88602 | val_0_mae: 4.16121 |  0:00:37s\n",
      "epoch 80 | loss: 1.72682 | val_0_mae: 3.45903 |  0:00:46s\n",
      "epoch 90 | loss: 1.53919 | val_0_mae: 3.39517 |  0:00:52s\n",
      "\n",
      "Early stopping occurred at epoch 95 with best_epoch = 75 and best_val_0_mae = 3.22822\n",
      "Best weights from best epoch are automatically used!\n"
     ]
    },
    {
     "name": "stderr",
     "output_type": "stream",
     "text": [
      "\u001b[32m[I 2021-07-31 14:27:03,993]\u001b[0m Trial 7 finished with value: 3.2282240785198444 and parameters: {'n_d': 34, 'n_a': 32, 'gamma': 1.5467221282773012, 'lambda_sparse': 0.0011048270653924235}. Best is trial 4 with value: 1.9588072965174546.\u001b[0m\n"
     ]
    },
    {
     "name": "stdout",
     "output_type": "stream",
     "text": [
      "Device used : cpu\n",
      "epoch 0  | loss: 17.9247 | val_0_mae: 128.38077|  0:00:00s\n",
      "epoch 10 | loss: 2.72217 | val_0_mae: 89.21731|  0:00:05s\n",
      "epoch 20 | loss: 1.91235 | val_0_mae: 7.3263  |  0:00:11s\n",
      "epoch 30 | loss: 2.1191  | val_0_mae: 5.61064 |  0:00:16s\n",
      "epoch 40 | loss: 2.31603 | val_0_mae: 4.77978 |  0:00:21s\n",
      "epoch 50 | loss: 1.91805 | val_0_mae: 4.8321  |  0:00:26s\n",
      "epoch 60 | loss: 1.73187 | val_0_mae: 4.16606 |  0:00:31s\n",
      "epoch 70 | loss: 1.37967 | val_0_mae: 3.95917 |  0:00:36s\n",
      "epoch 80 | loss: 1.65535 | val_0_mae: 4.71836 |  0:00:41s\n",
      "\n",
      "Early stopping occurred at epoch 87 with best_epoch = 67 and best_val_0_mae = 3.51779\n",
      "Best weights from best epoch are automatically used!\n"
     ]
    },
    {
     "name": "stderr",
     "output_type": "stream",
     "text": [
      "\u001b[32m[I 2021-07-31 14:27:49,726]\u001b[0m Trial 8 finished with value: 3.517786529917776 and parameters: {'n_d': 46, 'n_a': 19, 'gamma': 0.13602521702849252, 'lambda_sparse': 0.00039939269134736086}. Best is trial 4 with value: 1.9588072965174546.\u001b[0m\n"
     ]
    },
    {
     "name": "stdout",
     "output_type": "stream",
     "text": [
      "Device used : cpu\n",
      "epoch 0  | loss: 21.29005| val_0_mae: 64.90809|  0:00:00s\n",
      "epoch 10 | loss: 5.91848 | val_0_mae: 81.30424|  0:00:04s\n",
      "epoch 20 | loss: 2.39255 | val_0_mae: 5.28964 |  0:00:09s\n",
      "epoch 30 | loss: 1.83312 | val_0_mae: 4.2412  |  0:00:14s\n",
      "epoch 40 | loss: 1.98526 | val_0_mae: 3.3113  |  0:00:20s\n",
      "epoch 50 | loss: 1.891   | val_0_mae: 2.95428 |  0:00:26s\n",
      "epoch 60 | loss: 1.56839 | val_0_mae: 2.93291 |  0:00:31s\n",
      "epoch 70 | loss: 1.48707 | val_0_mae: 3.1908  |  0:00:37s\n",
      "epoch 80 | loss: 1.70756 | val_0_mae: 3.08645 |  0:00:42s\n",
      "epoch 90 | loss: 1.19241 | val_0_mae: 3.01737 |  0:00:47s\n",
      "epoch 100| loss: 1.33185 | val_0_mae: 2.65588 |  0:00:53s\n",
      "epoch 110| loss: 1.20445 | val_0_mae: 2.36748 |  0:01:00s\n",
      "epoch 120| loss: 1.34791 | val_0_mae: 2.18636 |  0:01:08s\n",
      "epoch 130| loss: 1.1114  | val_0_mae: 2.19475 |  0:01:14s\n",
      "epoch 140| loss: 1.31761 | val_0_mae: 1.95532 |  0:01:20s\n",
      "epoch 150| loss: 1.20803 | val_0_mae: 1.95928 |  0:01:26s\n",
      "epoch 160| loss: 1.16151 | val_0_mae: 1.96178 |  0:01:31s\n",
      "\n",
      "Early stopping occurred at epoch 161 with best_epoch = 141 and best_val_0_mae = 1.8722\n",
      "Best weights from best epoch are automatically used!\n"
     ]
    },
    {
     "name": "stderr",
     "output_type": "stream",
     "text": [
      "\u001b[32m[I 2021-07-31 14:29:21,743]\u001b[0m Trial 9 finished with value: 1.8722021291285387 and parameters: {'n_d': 10, 'n_a': 43, 'gamma': 0.11729285301671351, 'lambda_sparse': 0.0017888515294488302}. Best is trial 9 with value: 1.8722021291285387.\u001b[0m\n"
     ]
    },
    {
     "name": "stdout",
     "output_type": "stream",
     "text": [
      "CPU times: user 10min 59s, sys: 3min 55s, total: 14min 54s\n",
      "Wall time: 12min 42s\n"
     ]
    }
   ],
   "source": [
    "%%time\n",
    "# optunaで最適値を見つける\n",
    "# create_studyメソッドの引数\"sampler\"にサンプラーと乱数シードを指定\n",
    "study = optuna.create_study(direction='minimize', sampler=TPESampler(seed=RANDOM_STATE))\n",
    "study.optimize(objective, n_trials=10)"
   ]
  },
  {
   "cell_type": "code",
   "execution_count": 10,
   "metadata": {},
   "outputs": [
    {
     "data": {
      "text/plain": [
       "{'n_d': 10,\n",
       " 'n_a': 43,\n",
       " 'gamma': 0.11729285301671351,\n",
       " 'lambda_sparse': 0.0017888515294488302,\n",
       " 'verbose': 10,\n",
       " 'seed': 10}"
      ]
     },
     "execution_count": 10,
     "metadata": {},
     "output_type": "execute_result"
    }
   ],
   "source": [
    "best_params = study.best_params\n",
    "best_params[\"verbose\"] = 10\n",
    "best_params[\"seed\"] = RANDOM_STATE\n",
    "best_params"
   ]
  },
  {
   "cell_type": "code",
   "execution_count": 11,
   "metadata": {},
   "outputs": [
    {
     "name": "stdout",
     "output_type": "stream",
     "text": [
      "Device used : cpu\n",
      "epoch 0  | loss: 585.91789| val_0_mae: 42.05549|  0:00:00s\n",
      "epoch 10 | loss: 186.74784| val_0_mae: 13.92923|  0:00:06s\n",
      "epoch 20 | loss: 17.17089| val_0_mae: 17.68082|  0:00:10s\n",
      "epoch 30 | loss: 10.00062| val_0_mae: 12.4755 |  0:00:15s\n",
      "epoch 40 | loss: 7.34721 | val_0_mae: 6.65255 |  0:00:20s\n",
      "epoch 50 | loss: 3.53316 | val_0_mae: 5.3664  |  0:00:24s\n",
      "epoch 60 | loss: 4.61554 | val_0_mae: 5.02695 |  0:00:29s\n",
      "epoch 70 | loss: 6.70072 | val_0_mae: 4.51143 |  0:00:34s\n",
      "epoch 80 | loss: 5.07985 | val_0_mae: 3.87724 |  0:00:38s\n",
      "epoch 90 | loss: 3.10121 | val_0_mae: 3.23605 |  0:00:43s\n",
      "epoch 100| loss: 1.81788 | val_0_mae: 3.08854 |  0:00:49s\n",
      "epoch 110| loss: 2.95389 | val_0_mae: 2.95756 |  0:00:54s\n",
      "epoch 120| loss: 2.59077 | val_0_mae: 2.7542  |  0:00:59s\n",
      "epoch 130| loss: 1.83195 | val_0_mae: 2.40735 |  0:01:05s\n",
      "epoch 140| loss: 2.607   | val_0_mae: 2.35547 |  0:01:11s\n",
      "epoch 150| loss: 3.09471 | val_0_mae: 2.15651 |  0:01:16s\n",
      "epoch 160| loss: 2.02477 | val_0_mae: 2.16755 |  0:01:22s\n",
      "epoch 170| loss: 2.45792 | val_0_mae: 2.12172 |  0:01:27s\n",
      "epoch 180| loss: 1.5405  | val_0_mae: 1.86495 |  0:01:35s\n",
      "epoch 190| loss: 1.75417 | val_0_mae: 1.98349 |  0:01:42s\n",
      "Stop training because you reached max_epochs = 200 with best_epoch = 180 and best_val_0_mae = 1.86495\n",
      "Best weights from best epoch are automatically used!\n"
     ]
    }
   ],
   "source": [
    "# チューニングしたハイパーパラメーターをフィット\n",
    "optimised_model = TabNetRegressor(**(best_params))\n",
    "\n",
    "optimised_model.fit(\n",
    "    X_train=x_train.values,\n",
    "    y_train=y_train.values.reshape(-1, 1),\n",
    "    eval_set=[(x_valid.values, y_valid.values.reshape(-1, 1))],\n",
    "    eval_metric=[\"mae\"],\n",
    "    max_epochs=200,\n",
    "    patience=30,\n",
    "    batch_size=256,\n",
    "    virtual_batch_size=128,\n",
    "    num_workers=2,\n",
    "    drop_last=False,\n",
    ")\n",
    "\n",
    "# TabNet推論\n",
    "y_pred = optimised_model.predict(x_test.values)"
   ]
  },
  {
   "cell_type": "code",
   "execution_count": 12,
   "metadata": {},
   "outputs": [
    {
     "data": {
      "text/plain": [
       "Text(0.5, 1.0, 'feature_importance')"
      ]
     },
     "execution_count": 12,
     "metadata": {},
     "output_type": "execute_result"
    },
    {
     "data": {
      "image/png": "[encoded data removed]",
      "text/plain": [
       "<Figure size 432x288 with 1 Axes>"
      ]
     },
     "metadata": {
      "needs_background": "light"
     },
     "output_type": "display_data"
    }
   ],
   "source": [
    "# Feature Importance\n",
    "feat_imp = pd.DataFrame(\n",
    "    optimised_model.feature_importances_, index=boston.feature_names\n",
    ")\n",
    "feature_importance = feat_imp.copy()\n",
    "\n",
    "feature_importance[\"imp_mean\"] = feature_importance.mean(axis=1)\n",
    "feature_importance = feature_importance.sort_values(\"imp_mean\")\n",
    "\n",
    "plt.tick_params(labelsize=18)\n",
    "plt.barh(feature_importance.index.values, feature_importance[\"imp_mean\"])\n",
    "plt.title(\"feature_importance\", fontsize=18)"
   ]
  },
  {
   "cell_type": "code",
   "execution_count": 13,
   "metadata": {},
   "outputs": [
    {
     "data": {
      "image/png": "[encoded data removed]",
      "text/plain": [
       "<Figure size 720x504 with 3 Axes>"
      ]
     },
     "metadata": {
      "needs_background": "light"
     },
     "output_type": "display_data"
    }
   ],
   "source": [
    "# Mask(Local interpretability)\n",
    "explain_matrix, masks = optimised_model.explain(x_test.values)\n",
    "\n",
    "fig, axs = plt.subplots(1, 3, figsize=(10, 7))\n",
    "\n",
    "for i in range(3):\n",
    "    axs[i].imshow(masks[i][:25])\n",
    "    axs[i].set_title(f\"mask {i}\")"
   ]
  },
  {
   "cell_type": "code",
   "execution_count": 14,
   "metadata": {},
   "outputs": [],
   "source": [
    "# 評価\n",
    "def calculate_scores(true, pred):\n",
    "    \"\"\"全ての評価指標を計算する\n",
    "\n",
    "    Parameters\n",
    "    ----------\n",
    "    true (np.array)       : 実測値\n",
    "    pred (np.array)       : 予測値\n",
    "\n",
    "    Returns\n",
    "    -------\n",
    "    scores (pd.DataFrame) : 各評価指標を纏めた結果\n",
    "\n",
    "    \"\"\"\n",
    "    scores = {}\n",
    "    scores = pd.DataFrame(\n",
    "        {\n",
    "            \"R2\": r2_score(true, pred),\n",
    "            \"MAE\": mean_absolute_error(true, pred),\n",
    "            \"MSE\": mean_squared_error(true, pred),\n",
    "            \"RMSE\": np.sqrt(mean_squared_error(true, pred)),\n",
    "        },\n",
    "        index=[\"scores\"],\n",
    "    )\n",
    "    return scores"
   ]
  },
  {
   "cell_type": "code",
   "execution_count": 15,
   "metadata": {},
   "outputs": [
    {
     "name": "stdout",
     "output_type": "stream",
     "text": [
      "              R2       MAE        MSE     RMSE\n",
      "scores  0.866519  2.689502  13.959562  3.73625\n"
     ]
    }
   ],
   "source": [
    "scores = calculate_scores(y_test, y_pred)\n",
    "print(scores)"
   ]
  },
  {
   "cell_type": "code",
   "execution_count": null,
   "metadata": {},
   "outputs": [],
   "source": []
  }
 ],
 "metadata": {
  "kernelspec": {
   "display_name": "Python 3 (ipykernel)",
   "language": "python",
   "name": "python3"
  },
  "language_info": {
   "codemirror_mode": {
    "name": "ipython",
    "version": 3
   },
   "file_extension": ".py",
   "mimetype": "text/x-python",
   "name": "python",
   "nbconvert_exporter": "python",
   "pygments_lexer": "ipython3",
   "version": "3.9.6"
  }
 },
 "nbformat": 4,
 "nbformat_minor": 4
}
