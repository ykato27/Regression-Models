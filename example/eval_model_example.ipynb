{
 "cells": [
  {
   "cell_type": "markdown",
   "metadata": {},
   "source": [
    "## eval_model.pyのexample"
   ]
  },
  {
   "cell_type": "code",
   "execution_count": 1,
   "metadata": {},
   "outputs": [],
   "source": [
    "%load_ext lab_black"
   ]
  },
  {
   "cell_type": "code",
   "execution_count": 2,
   "metadata": {},
   "outputs": [],
   "source": [
    "import os\n",
    "import sys\n",
    "\n",
    "import numpy as np\n",
    "from numpy.random import random\n",
    "\n",
    "sys.path.insert(0, os.path.abspath(\"../\"))\n",
    "\n",
    "from src.evaluation import eval_model as em"
   ]
  },
  {
   "cell_type": "code",
   "execution_count": 3,
   "metadata": {},
   "outputs": [],
   "source": [
    "n = 100\n",
    "true = random(n)\n",
    "pred = random(n)"
   ]
  },
  {
   "cell_type": "code",
   "execution_count": 4,
   "metadata": {},
   "outputs": [
    {
     "data": {
      "text/plain": [
       "array([0.12385103, 0.57296573, 0.35606022, 0.78461703, 0.58469928,\n",
       "       0.89868778, 0.90339302, 0.8837048 , 0.28168368, 0.54057679,\n",
       "       0.08964521, 0.30095448, 0.13204631, 0.47663356, 0.34413215,\n",
       "       0.26012385, 0.71301249, 0.69296989, 0.0307212 , 0.10000216,\n",
       "       0.05510093, 0.42777908, 0.79178049, 0.00935129, 0.69567085,\n",
       "       0.06367754, 0.41779788, 0.47850269, 0.31968032, 0.13695773,\n",
       "       0.59608759, 0.7681916 , 0.86234608, 0.51426636, 0.60915471,\n",
       "       0.81653613, 0.21843236, 0.1768058 , 0.10464028, 0.42805096,\n",
       "       0.58104022, 0.84826182, 0.33499524, 0.49012004, 0.67004255,\n",
       "       0.77941249, 0.89131036, 0.35976654, 0.81820994, 0.17264947,\n",
       "       0.07093915, 0.77292363, 0.00108682, 0.92637959, 0.2476428 ,\n",
       "       0.90809517, 0.8708882 , 0.87927167, 0.57724333, 0.58212533,\n",
       "       0.77333737, 0.31598667, 0.41712666, 0.12818741, 0.01335912,\n",
       "       0.26209615, 0.98853952, 0.97750474, 0.57954281, 0.89925616,\n",
       "       0.90821151, 0.39466068, 0.76952471, 0.19922102, 0.05083453,\n",
       "       0.69263511, 0.99957126, 0.7056637 , 0.21731523, 0.61567188,\n",
       "       0.72910768, 0.58030876, 0.07714447, 0.57261467, 0.22364503,\n",
       "       0.03812174, 0.52721714, 0.74774844, 0.53944282, 0.85149278,\n",
       "       0.44684367, 0.16928315, 0.65793988, 0.67731745, 0.08424286,\n",
       "       0.77968317, 0.11987421, 0.79545674, 0.50842596, 0.87217608])"
      ]
     },
     "execution_count": 4,
     "metadata": {},
     "output_type": "execute_result"
    }
   ],
   "source": [
    "true"
   ]
  },
  {
   "cell_type": "code",
   "execution_count": 5,
   "metadata": {},
   "outputs": [
    {
     "data": {
      "text/html": [
       "<div>\n",
       "<style scoped>\n",
       "    .dataframe tbody tr th:only-of-type {\n",
       "        vertical-align: middle;\n",
       "    }\n",
       "\n",
       "    .dataframe tbody tr th {\n",
       "        vertical-align: top;\n",
       "    }\n",
       "\n",
       "    .dataframe thead th {\n",
       "        text-align: right;\n",
       "    }\n",
       "</style>\n",
       "<table border=\"1\" class=\"dataframe\">\n",
       "  <thead>\n",
       "    <tr style=\"text-align: right;\">\n",
       "      <th></th>\n",
       "      <th>R2</th>\n",
       "      <th>MAE</th>\n",
       "      <th>MSE</th>\n",
       "      <th>RMSE</th>\n",
       "      <th>RMSLE</th>\n",
       "      <th>MAPE</th>\n",
       "      <th>SMAPE</th>\n",
       "    </tr>\n",
       "  </thead>\n",
       "  <tbody>\n",
       "    <tr>\n",
       "      <th>0</th>\n",
       "      <td>-1.119253</td>\n",
       "      <td>0.368941</td>\n",
       "      <td>0.185911</td>\n",
       "      <td>0.431174</td>\n",
       "      <td>0.300427</td>\n",
       "      <td>777.078769</td>\n",
       "      <td>87.866076</td>\n",
       "    </tr>\n",
       "  </tbody>\n",
       "</table>\n",
       "</div>"
      ],
      "text/plain": [
       "         R2       MAE       MSE      RMSE     RMSLE        MAPE      SMAPE\n",
       "0 -1.119253  0.368941  0.185911  0.431174  0.300427  777.078769  87.866076"
      ]
     },
     "execution_count": 5,
     "metadata": {},
     "output_type": "execute_result"
    }
   ],
   "source": [
    "em.eval_metric(true, pred)"
   ]
  },
  {
   "cell_type": "code",
   "execution_count": null,
   "metadata": {},
   "outputs": [],
   "source": []
  }
 ],
 "metadata": {
  "kernelspec": {
   "display_name": "Python 3",
   "language": "python",
   "name": "python3"
  },
  "language_info": {
   "codemirror_mode": {
    "name": "ipython",
    "version": 3
   },
   "file_extension": ".py",
   "mimetype": "text/x-python",
   "name": "python",
   "nbconvert_exporter": "python",
   "pygments_lexer": "ipython3",
   "version": "3.8.8"
  }
 },
 "nbformat": 4,
 "nbformat_minor": 4
}
