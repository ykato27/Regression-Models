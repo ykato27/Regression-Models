{
 "cells": [
  {
   "cell_type": "markdown",
   "metadata": {},
   "source": [
    "## 回帰モデル全般のサンプルコード"
   ]
  },
  {
   "cell_type": "code",
   "execution_count": 1,
   "metadata": {},
   "outputs": [],
   "source": [
    "# ライブラリーのインポート\n",
    "import os\n",
    "from os.path import join\n",
    "import pickle\n",
    "import shutil\n",
    "\n",
    "import pandas as pd\n",
    "import numpy as np\n",
    "\n",
    "import seaborn as sns\n",
    "import matplotlib.pyplot as plt\n",
    "%matplotlib inline\n",
    "\n",
    "# ボストンの住宅価格データ\n",
    "from sklearn.datasets import load_boston\n",
    "\n",
    "# 前処理\n",
    "from sklearn.preprocessing import StandardScaler\n",
    "from sklearn.model_selection import train_test_split\n",
    "\n",
    "# 回帰モデル\n",
    "from sklearn.linear_model import LinearRegression\n",
    "from sklearn.linear_model import Ridge\n",
    "from sklearn.linear_model import Lasso\n",
    "from sklearn.linear_model import ElasticNet\n",
    "from sklearn.ensemble import RandomForestRegressor\n",
    "from sklearn.ensemble import GradientBoostingRegressor\n",
    "from sklearn.ensemble import AdaBoostRegressor\n",
    "from sklearn.svm import SVR\n",
    "\n",
    "# 評価指標\n",
    "from sklearn.metrics import r2_score\n",
    "from sklearn.metrics import mean_absolute_error\n",
    "from sklearn.metrics import mean_squared_error"
   ]
  },
  {
   "cell_type": "code",
   "execution_count": 2,
   "metadata": {
    "colab": {
     "base_uri": "https://localhost:8080/",
     "height": 204
    },
    "id": "5IaiAn8vwWF9",
    "outputId": "df7c3a36-f9f8-428d-a4c7-5e1b6b627db5"
   },
   "outputs": [
    {
     "data": {
      "text/html": [
       "<div>\n",
       "<style scoped>\n",
       "    .dataframe tbody tr th:only-of-type {\n",
       "        vertical-align: middle;\n",
       "    }\n",
       "\n",
       "    .dataframe tbody tr th {\n",
       "        vertical-align: top;\n",
       "    }\n",
       "\n",
       "    .dataframe thead th {\n",
       "        text-align: right;\n",
       "    }\n",
       "</style>\n",
       "<table border=\"1\" class=\"dataframe\">\n",
       "  <thead>\n",
       "    <tr style=\"text-align: right;\">\n",
       "      <th></th>\n",
       "      <th>CRIM</th>\n",
       "      <th>ZN</th>\n",
       "      <th>INDUS</th>\n",
       "      <th>CHAS</th>\n",
       "      <th>NOX</th>\n",
       "      <th>RM</th>\n",
       "      <th>AGE</th>\n",
       "      <th>DIS</th>\n",
       "      <th>RAD</th>\n",
       "      <th>TAX</th>\n",
       "      <th>PTRATIO</th>\n",
       "      <th>B</th>\n",
       "      <th>LSTAT</th>\n",
       "      <th>MEDV</th>\n",
       "    </tr>\n",
       "  </thead>\n",
       "  <tbody>\n",
       "    <tr>\n",
       "      <th>0</th>\n",
       "      <td>0.00632</td>\n",
       "      <td>18.0</td>\n",
       "      <td>2.31</td>\n",
       "      <td>0.0</td>\n",
       "      <td>0.538</td>\n",
       "      <td>6.575</td>\n",
       "      <td>65.2</td>\n",
       "      <td>4.0900</td>\n",
       "      <td>1.0</td>\n",
       "      <td>296.0</td>\n",
       "      <td>15.3</td>\n",
       "      <td>396.90</td>\n",
       "      <td>4.98</td>\n",
       "      <td>24.0</td>\n",
       "    </tr>\n",
       "    <tr>\n",
       "      <th>1</th>\n",
       "      <td>0.02731</td>\n",
       "      <td>0.0</td>\n",
       "      <td>7.07</td>\n",
       "      <td>0.0</td>\n",
       "      <td>0.469</td>\n",
       "      <td>6.421</td>\n",
       "      <td>78.9</td>\n",
       "      <td>4.9671</td>\n",
       "      <td>2.0</td>\n",
       "      <td>242.0</td>\n",
       "      <td>17.8</td>\n",
       "      <td>396.90</td>\n",
       "      <td>9.14</td>\n",
       "      <td>21.6</td>\n",
       "    </tr>\n",
       "    <tr>\n",
       "      <th>2</th>\n",
       "      <td>0.02729</td>\n",
       "      <td>0.0</td>\n",
       "      <td>7.07</td>\n",
       "      <td>0.0</td>\n",
       "      <td>0.469</td>\n",
       "      <td>7.185</td>\n",
       "      <td>61.1</td>\n",
       "      <td>4.9671</td>\n",
       "      <td>2.0</td>\n",
       "      <td>242.0</td>\n",
       "      <td>17.8</td>\n",
       "      <td>392.83</td>\n",
       "      <td>4.03</td>\n",
       "      <td>34.7</td>\n",
       "    </tr>\n",
       "    <tr>\n",
       "      <th>3</th>\n",
       "      <td>0.03237</td>\n",
       "      <td>0.0</td>\n",
       "      <td>2.18</td>\n",
       "      <td>0.0</td>\n",
       "      <td>0.458</td>\n",
       "      <td>6.998</td>\n",
       "      <td>45.8</td>\n",
       "      <td>6.0622</td>\n",
       "      <td>3.0</td>\n",
       "      <td>222.0</td>\n",
       "      <td>18.7</td>\n",
       "      <td>394.63</td>\n",
       "      <td>2.94</td>\n",
       "      <td>33.4</td>\n",
       "    </tr>\n",
       "    <tr>\n",
       "      <th>4</th>\n",
       "      <td>0.06905</td>\n",
       "      <td>0.0</td>\n",
       "      <td>2.18</td>\n",
       "      <td>0.0</td>\n",
       "      <td>0.458</td>\n",
       "      <td>7.147</td>\n",
       "      <td>54.2</td>\n",
       "      <td>6.0622</td>\n",
       "      <td>3.0</td>\n",
       "      <td>222.0</td>\n",
       "      <td>18.7</td>\n",
       "      <td>396.90</td>\n",
       "      <td>5.33</td>\n",
       "      <td>36.2</td>\n",
       "    </tr>\n",
       "  </tbody>\n",
       "</table>\n",
       "</div>"
      ],
      "text/plain": [
       "      CRIM    ZN  INDUS  CHAS    NOX     RM   AGE     DIS  RAD    TAX  \\\n",
       "0  0.00632  18.0   2.31   0.0  0.538  6.575  65.2  4.0900  1.0  296.0   \n",
       "1  0.02731   0.0   7.07   0.0  0.469  6.421  78.9  4.9671  2.0  242.0   \n",
       "2  0.02729   0.0   7.07   0.0  0.469  7.185  61.1  4.9671  2.0  242.0   \n",
       "3  0.03237   0.0   2.18   0.0  0.458  6.998  45.8  6.0622  3.0  222.0   \n",
       "4  0.06905   0.0   2.18   0.0  0.458  7.147  54.2  6.0622  3.0  222.0   \n",
       "\n",
       "   PTRATIO       B  LSTAT  MEDV  \n",
       "0     15.3  396.90   4.98  24.0  \n",
       "1     17.8  396.90   9.14  21.6  \n",
       "2     17.8  392.83   4.03  34.7  \n",
       "3     18.7  394.63   2.94  33.4  \n",
       "4     18.7  396.90   5.33  36.2  "
      ]
     },
     "execution_count": 2,
     "metadata": {},
     "output_type": "execute_result"
    }
   ],
   "source": [
    "# データセットの読込み\n",
    "boston = load_boston()\n",
    "\n",
    "# 説明変数の格納\n",
    "df = pd.DataFrame(boston.data, columns = boston.feature_names)\n",
    "# 目的変数の追加\n",
    "df['MEDV'] = boston.target\n",
    "\n",
    "# データの中身を確認\n",
    "df.head()"
   ]
  },
  {
   "cell_type": "code",
   "execution_count": 3,
   "metadata": {},
   "outputs": [
    {
     "data": {
      "text/plain": [
       "14"
      ]
     },
     "execution_count": 3,
     "metadata": {},
     "output_type": "execute_result"
    }
   ],
   "source": [
    "df.shape[1]"
   ]
  },
  {
   "cell_type": "markdown",
   "metadata": {},
   "source": [
    "### パラメータ設定"
   ]
  },
  {
   "cell_type": "code",
   "execution_count": 4,
   "metadata": {},
   "outputs": [],
   "source": [
    "# ランダムシード値\n",
    "RANDOM_STATE = 10\n",
    "\n",
    "# 学習データと評価データの割合\n",
    "TEST_SIZE = 0.2\n",
    "\n",
    "# 対象モデル\n",
    "models = [\"LinearRegression\",\n",
    "          \"Ridge\",\n",
    "          \"Lasso\",\n",
    "          \"ElasticNet\",\n",
    "          \"GBDT\",\n",
    "          \"AdaBoost\",\n",
    "          \"RandomForest\",\n",
    "          \"SVR\"]\n",
    "\n",
    "# パラメータ設定\n",
    "param_linearregression = {'normalize': False}\n",
    "param_ridge = {'alpha': 0.1, 'random_state': RANDOM_STATE}\n",
    "param_lasso = {'alpha': 0.1, 'random_state': RANDOM_STATE}\n",
    "param_elasticnet = {'alpha': 0.1, 'l1_ratio': 0.5,\n",
    "                    'random_state': RANDOM_STATE}\n",
    "param_randomforest = {'n_estimators': 50, 'max_depth': 5,\n",
    "                      'random_state': RANDOM_STATE}\n",
    "param_gbdt = {'learning_rate': 0.1, 'n_estimators': 50,\n",
    "              'subsample': 1.0, 'min_samples_split': 2,\n",
    "              'min_samples_leaf': 1, 'min_weight_fraction_leaf': 0.0,\n",
    "              'max_depth': 3, 'alpha': 0.9, 'random_state': RANDOM_STATE}\n",
    "param_adaboost = {'n_estimators': 50, 'learning_rate': 1,\n",
    "                  'random_state': RANDOM_STATE}\n",
    "param_svr = {'kernel': 'rbf', 'degree': 3, 'gamma': 'scale', 'C': 10,\n",
    "             'epsilon': 0.1}\n",
    "\n",
    "param_dict = {'LinearRegression': param_linearregression, 'Ridge': param_ridge,\n",
    "              'Lasso': param_lasso, 'ElasticNet': param_elasticnet,\n",
    "              'RandomForest': param_randomforest, 'GBDT': param_gbdt,\n",
    "              'AdaBoost': param_adaboost, 'SVR': param_svr}\n",
    "\n",
    "# outputディレクトリ\n",
    "output_dir = f'models/' "
   ]
  },
  {
   "cell_type": "markdown",
   "metadata": {},
   "source": [
    "### 前処理"
   ]
  },
  {
   "cell_type": "code",
   "execution_count": 5,
   "metadata": {
    "id": "J4QGWhP8_-1Z"
   },
   "outputs": [],
   "source": [
    "# 学習データと評価データを作成\n",
    "x_train, x_test, y_train, y_test = train_test_split(df.iloc[:, 0:df.shape[1]-1],\n",
    "                                                    df.iloc[:, df.shape[1]-1],\n",
    "                                                    test_size=TEST_SIZE,\n",
    "                                                    random_state=RANDOM_STATE)\n",
    "\n",
    "#データを標準化\n",
    "sc = StandardScaler()\n",
    "sc.fit(x_train) #学習用データで標準化\n",
    "x_train_std = sc.transform(x_train)\n",
    "x_test_std = sc.transform(x_test)"
   ]
  },
  {
   "cell_type": "markdown",
   "metadata": {},
   "source": [
    "### モデルの学習"
   ]
  },
  {
   "cell_type": "code",
   "execution_count": 6,
   "metadata": {},
   "outputs": [],
   "source": [
    "def _get_model(model_name):\n",
    "    \"\"\"モデルを取得する\n",
    "    \n",
    "    Args:\n",
    "        model_name (str): モデルの名前\n",
    "    \n",
    "    Returns:\n",
    "        model           : モデル\n",
    "    \"\"\"\n",
    "    model_dict = {\"LinearRegression\": LinearRegression(),\n",
    "                  \"Ridge\": Ridge(),\n",
    "                  \"Lasso\": Lasso(),\n",
    "                  \"ElasticNet\": ElasticNet(),\n",
    "                  \"GBDT\": GradientBoostingRegressor(),\n",
    "                  \"AdaBoost\": AdaBoostRegressor(),\n",
    "                  \"RandomForest\": RandomForestRegressor(),\n",
    "                  \"SVR\": SVR()}\n",
    "\n",
    "    model = model_dict.get(model_name)\n",
    "\n",
    "    if model is None:\n",
    "        raise ValueError(f'model_nameが違います: {model_name}')\n",
    "\n",
    "    return model"
   ]
  },
  {
   "cell_type": "code",
   "execution_count": 7,
   "metadata": {},
   "outputs": [],
   "source": [
    "def models_train(output_dir_path, train, target, models, param_dict):\n",
    "    \"\"\"モデルの学習\n",
    "\n",
    "    Args:\n",
    "        output_dir_path (str): アウトプット先のフォルダパス.\n",
    "        train (nd.array)     : 学習データの説明変数\n",
    "        target (Series)      : 学習データの目的変数\n",
    "        features (list)      : 説明変数のリスト.\n",
    "        models (list)        : 機械学習モデルのリスト\n",
    "        param_dict (dict)    : key: モデル名, values: パラメータ \n",
    "\n",
    "    \"\"\"\n",
    "    path_train_target = join(output_dir_path, f'trained_model/')\n",
    "    if not os.path.exists(path_train_target):\n",
    "        os.makedirs(path_train_target)\n",
    "    \n",
    "    for model_name in models:\n",
    "        model = _get_model(model_name)\n",
    "        model.set_params(**param_dict[model_name])\n",
    "        model.fit(train, target)\n",
    "        \n",
    "        filename = f'{model_name}.pickle'\n",
    "        with open(join(path_train_target, filename), 'wb') as f:\n",
    "            pickle.dump(model, f)\n",
    "\n",
    "    return print('学習完了')"
   ]
  },
  {
   "cell_type": "code",
   "execution_count": 8,
   "metadata": {},
   "outputs": [
    {
     "name": "stdout",
     "output_type": "stream",
     "text": [
      "学習完了\n"
     ]
    }
   ],
   "source": [
    "# モデルの学習\n",
    "models_train(output_dir, x_train_std, y_train, models, param_dict)"
   ]
  },
  {
   "cell_type": "markdown",
   "metadata": {},
   "source": [
    "### モデルの予測"
   ]
  },
  {
   "cell_type": "code",
   "execution_count": 9,
   "metadata": {},
   "outputs": [],
   "source": [
    "def models_predicts(output_dir_path, test):\n",
    "    \"\"\"評価データの予測\n",
    "\n",
    "    Args:\n",
    "        output_dir_path (str): アウトプット先のフォルダパス.\n",
    "        test (nd.array)      : 評価データの説明変数\n",
    "\n",
    "    Returns:\n",
    "        pred_dict (dict)     : モデルに対応した予測結果を持つ辞書.\n",
    "    \"\"\"\n",
    "    # 学習済みモデルのパスを取得\n",
    "    trained_files = os.listdir(join(output_dir_path, f'trained_model/'))\n",
    "    pred_dict = {}\n",
    "\n",
    "    for trained_file in trained_files:\n",
    "        with open(f'{output_dir_path}/trained_model/{trained_file}', 'rb')as f:\n",
    "            model = pickle.load(f)            \n",
    "        pred_dict[trained_file[:-7]] = model.predict(test)\n",
    "\n",
    "    return pred_dict"
   ]
  },
  {
   "cell_type": "code",
   "execution_count": 10,
   "metadata": {},
   "outputs": [],
   "source": [
    "pred_dict = models_predicts(output_dir, x_test_std)"
   ]
  },
  {
   "cell_type": "markdown",
   "metadata": {},
   "source": [
    "### 評価指標算出"
   ]
  },
  {
   "cell_type": "code",
   "execution_count": 11,
   "metadata": {},
   "outputs": [],
   "source": [
    "def _mape(true, pred):  \n",
    "    \"\"\"MAPEを計算する\n",
    "    Args:\n",
    "        true (np.array) : 実測値\n",
    "        pred (np.array) : 予測値\n",
    "\n",
    "    Returns:\n",
    "        np.array        : mapeの計算結果\n",
    "    \"\"\"\n",
    "    return np.mean(np.abs((true - pred) / true)) * 100\n",
    "\n",
    "# SMAPEの計算\n",
    "def _smape(true, pred):\n",
    "    \"\"\"SMAPEを計算する\n",
    "    Args:\n",
    "        true (np.array) : 実測値\n",
    "        pred (np.array) : 予測値\n",
    "\n",
    "    Returns:\n",
    "        np.array        : smapeの計算結果\n",
    "    \"\"\"\n",
    "    return 100/len(true) * np.sum(2 * np.abs(pred - true) / (np.abs(pred) + np.abs(true)))\n",
    "\n",
    "def calculate_scores(true, pred_dict, models):\n",
    "    \"\"\"全ての評価指標を計算する\n",
    "    Args:\n",
    "        true (np.array) : 実測値\n",
    "        pred (dict)     : 予測値\n",
    "        models (list)   : 機械学習モデルのリスト\n",
    "    \n",
    "    Returns:\n",
    "        scores (dict)   : 各評価指標を纏めた結果\n",
    "    \"\"\"\n",
    "    scores = {}\n",
    "    for model in models:\n",
    "        scores[model] = pd.DataFrame({'R2': r2_score(true, pred_dict[model]),\n",
    "                                      'MAE': mean_absolute_error(true, pred_dict[model]),\n",
    "                                      'MSE': mean_squared_error(true, pred_dict[model]),\n",
    "                                      'RMSE': np.sqrt(mean_squared_error(true, pred_dict[model])),\n",
    "                                      'MAPE': _mape(true, pred_dict[model]),\n",
    "                                      'SMAPE': _smape(true, pred_dict[model])},\n",
    "                                      index = [model])\n",
    "    \n",
    "    return scores"
   ]
  },
  {
   "cell_type": "code",
   "execution_count": 12,
   "metadata": {},
   "outputs": [],
   "source": [
    "scores = calculate_scores(y_test, pred_dict, models)"
   ]
  }
 ],
 "metadata": {
  "colab": {
   "authorship_tag": "ABX9TyPtL2t3s+bP0dxyYYjw1QSU",
   "collapsed_sections": [],
   "name": "予測モデル.ipynb",
   "provenance": []
  },
  "kernelspec": {
   "display_name": "Python 3",
   "language": "python",
   "name": "python3"
  },
  "language_info": {
   "codemirror_mode": {
    "name": "ipython",
    "version": 3
   },
   "file_extension": ".py",
   "mimetype": "text/x-python",
   "name": "python",
   "nbconvert_exporter": "python",
   "pygments_lexer": "ipython3",
   "version": "3.7.6"
  }
 },
 "nbformat": 4,
 "nbformat_minor": 4
}
