{
 "cells": [
  {
   "cell_type": "markdown",
   "metadata": {},
   "source": [
    "## XGBoost-Optunaのサンプルコード"
   ]
  },
  {
   "cell_type": "code",
   "execution_count": 1,
   "metadata": {},
   "outputs": [],
   "source": [
    "# ライブラリーのインポート\n",
    "import os\n",
    "\n",
    "import pandas as pd\n",
    "import numpy as np\n",
    "\n",
    "import seaborn as sns\n",
    "import matplotlib.pyplot as plt\n",
    "%matplotlib inline\n",
    "\n",
    "# ボストンの住宅価格データ\n",
    "from sklearn.datasets import load_boston\n",
    "\n",
    "# 前処理\n",
    "from sklearn.preprocessing import StandardScaler\n",
    "from sklearn.model_selection import train_test_split\n",
    "\n",
    "# XGBoost\n",
    "import xgboost as xgb\n",
    "\n",
    "# Optuna\n",
    "import optuna\n",
    "from sklearn.model_selection import cross_val_score\n",
    "\n",
    "# 評価指標\n",
    "from sklearn.metrics import r2_score\n",
    "from sklearn.metrics import mean_absolute_error\n",
    "from sklearn.metrics import mean_squared_error"
   ]
  },
  {
   "cell_type": "code",
   "execution_count": 2,
   "metadata": {},
   "outputs": [
    {
     "data": {
      "text/html": [
       "<div>\n",
       "<style scoped>\n",
       "    .dataframe tbody tr th:only-of-type {\n",
       "        vertical-align: middle;\n",
       "    }\n",
       "\n",
       "    .dataframe tbody tr th {\n",
       "        vertical-align: top;\n",
       "    }\n",
       "\n",
       "    .dataframe thead th {\n",
       "        text-align: right;\n",
       "    }\n",
       "</style>\n",
       "<table border=\"1\" class=\"dataframe\">\n",
       "  <thead>\n",
       "    <tr style=\"text-align: right;\">\n",
       "      <th></th>\n",
       "      <th>CRIM</th>\n",
       "      <th>ZN</th>\n",
       "      <th>INDUS</th>\n",
       "      <th>CHAS</th>\n",
       "      <th>NOX</th>\n",
       "      <th>RM</th>\n",
       "      <th>AGE</th>\n",
       "      <th>DIS</th>\n",
       "      <th>RAD</th>\n",
       "      <th>TAX</th>\n",
       "      <th>PTRATIO</th>\n",
       "      <th>B</th>\n",
       "      <th>LSTAT</th>\n",
       "      <th>MEDV</th>\n",
       "    </tr>\n",
       "  </thead>\n",
       "  <tbody>\n",
       "    <tr>\n",
       "      <th>0</th>\n",
       "      <td>0.00632</td>\n",
       "      <td>18.0</td>\n",
       "      <td>2.31</td>\n",
       "      <td>0.0</td>\n",
       "      <td>0.538</td>\n",
       "      <td>6.575</td>\n",
       "      <td>65.2</td>\n",
       "      <td>4.0900</td>\n",
       "      <td>1.0</td>\n",
       "      <td>296.0</td>\n",
       "      <td>15.3</td>\n",
       "      <td>396.90</td>\n",
       "      <td>4.98</td>\n",
       "      <td>24.0</td>\n",
       "    </tr>\n",
       "    <tr>\n",
       "      <th>1</th>\n",
       "      <td>0.02731</td>\n",
       "      <td>0.0</td>\n",
       "      <td>7.07</td>\n",
       "      <td>0.0</td>\n",
       "      <td>0.469</td>\n",
       "      <td>6.421</td>\n",
       "      <td>78.9</td>\n",
       "      <td>4.9671</td>\n",
       "      <td>2.0</td>\n",
       "      <td>242.0</td>\n",
       "      <td>17.8</td>\n",
       "      <td>396.90</td>\n",
       "      <td>9.14</td>\n",
       "      <td>21.6</td>\n",
       "    </tr>\n",
       "    <tr>\n",
       "      <th>2</th>\n",
       "      <td>0.02729</td>\n",
       "      <td>0.0</td>\n",
       "      <td>7.07</td>\n",
       "      <td>0.0</td>\n",
       "      <td>0.469</td>\n",
       "      <td>7.185</td>\n",
       "      <td>61.1</td>\n",
       "      <td>4.9671</td>\n",
       "      <td>2.0</td>\n",
       "      <td>242.0</td>\n",
       "      <td>17.8</td>\n",
       "      <td>392.83</td>\n",
       "      <td>4.03</td>\n",
       "      <td>34.7</td>\n",
       "    </tr>\n",
       "    <tr>\n",
       "      <th>3</th>\n",
       "      <td>0.03237</td>\n",
       "      <td>0.0</td>\n",
       "      <td>2.18</td>\n",
       "      <td>0.0</td>\n",
       "      <td>0.458</td>\n",
       "      <td>6.998</td>\n",
       "      <td>45.8</td>\n",
       "      <td>6.0622</td>\n",
       "      <td>3.0</td>\n",
       "      <td>222.0</td>\n",
       "      <td>18.7</td>\n",
       "      <td>394.63</td>\n",
       "      <td>2.94</td>\n",
       "      <td>33.4</td>\n",
       "    </tr>\n",
       "    <tr>\n",
       "      <th>4</th>\n",
       "      <td>0.06905</td>\n",
       "      <td>0.0</td>\n",
       "      <td>2.18</td>\n",
       "      <td>0.0</td>\n",
       "      <td>0.458</td>\n",
       "      <td>7.147</td>\n",
       "      <td>54.2</td>\n",
       "      <td>6.0622</td>\n",
       "      <td>3.0</td>\n",
       "      <td>222.0</td>\n",
       "      <td>18.7</td>\n",
       "      <td>396.90</td>\n",
       "      <td>5.33</td>\n",
       "      <td>36.2</td>\n",
       "    </tr>\n",
       "  </tbody>\n",
       "</table>\n",
       "</div>"
      ],
      "text/plain": [
       "      CRIM    ZN  INDUS  CHAS    NOX     RM   AGE     DIS  RAD    TAX  \\\n",
       "0  0.00632  18.0   2.31   0.0  0.538  6.575  65.2  4.0900  1.0  296.0   \n",
       "1  0.02731   0.0   7.07   0.0  0.469  6.421  78.9  4.9671  2.0  242.0   \n",
       "2  0.02729   0.0   7.07   0.0  0.469  7.185  61.1  4.9671  2.0  242.0   \n",
       "3  0.03237   0.0   2.18   0.0  0.458  6.998  45.8  6.0622  3.0  222.0   \n",
       "4  0.06905   0.0   2.18   0.0  0.458  7.147  54.2  6.0622  3.0  222.0   \n",
       "\n",
       "   PTRATIO       B  LSTAT  MEDV  \n",
       "0     15.3  396.90   4.98  24.0  \n",
       "1     17.8  396.90   9.14  21.6  \n",
       "2     17.8  392.83   4.03  34.7  \n",
       "3     18.7  394.63   2.94  33.4  \n",
       "4     18.7  396.90   5.33  36.2  "
      ]
     },
     "execution_count": 2,
     "metadata": {},
     "output_type": "execute_result"
    }
   ],
   "source": [
    "# データセットの読込み\n",
    "boston = load_boston()\n",
    "\n",
    "# 説明変数の格納\n",
    "df = pd.DataFrame(boston.data, columns = boston.feature_names)\n",
    "# 目的変数の追加\n",
    "df['MEDV'] = boston.target\n",
    "\n",
    "# データの中身を確認\n",
    "df.head()"
   ]
  },
  {
   "cell_type": "markdown",
   "metadata": {},
   "source": [
    "#### 前処理"
   ]
  },
  {
   "cell_type": "code",
   "execution_count": 3,
   "metadata": {},
   "outputs": [],
   "source": [
    "# ランダムシード値\n",
    "RANDOM_STATE = 10\n",
    "\n",
    "# 学習データと評価データの割合\n",
    "TEST_SIZE = 0.2\n",
    "\n",
    "# 学習データと評価データを作成\n",
    "x_train, x_test, y_train, y_test = train_test_split(df.iloc[:, 0:df.shape[1]-1],\n",
    "                                                    df.iloc[:, df.shape[1]-1],\n",
    "                                                    test_size=TEST_SIZE,\n",
    "                                                    random_state=RANDOM_STATE)"
   ]
  },
  {
   "cell_type": "code",
   "execution_count": 4,
   "metadata": {},
   "outputs": [],
   "source": [
    "def objective(trial):\n",
    "    \n",
    "    eta =  trial.suggest_loguniform('eta', 1e-8, 1.0)\n",
    "    gamma = trial.suggest_loguniform('gamma', 1e-8, 1.0)\n",
    "    max_depth = trial.suggest_int('max_depth', 1, 20)\n",
    "    min_child_weight = trial.suggest_loguniform('min_child_weight', 1e-8, 1.0)\n",
    "    subsample = trial.suggest_uniform('subsample', 0.0, 1.0)\n",
    "    reg_lambda = trial.suggest_uniform('reg_lambda', 0.0, 1000.0)\n",
    "    reg_alpha = trial.suggest_uniform('reg_alpha', 0.0, 1000.0)\n",
    "\n",
    "\n",
    "    model = xgb.XGBRegressor(eta = eta,\n",
    "                             gamma = gamma,\n",
    "                             max_depth = max_depth,\n",
    "                             min_child_weight = min_child_weight,\n",
    "                             subsample = subsample,\n",
    "                             reg_lambda = reg_lambda,\n",
    "                             reg_alpha = reg_alpha\n",
    "                            )\n",
    "\n",
    "    score = cross_val_score(model,\n",
    "                            x_train,\n",
    "                            y_train,\n",
    "                            cv=5,\n",
    "                            scoring=\"neg_mean_absolute_error\"\n",
    "                           )\n",
    "    print(score)\n",
    "    mae = score.mean()\n",
    "\n",
    "    return mae"
   ]
  },
  {
   "cell_type": "code",
   "execution_count": 5,
   "metadata": {},
   "outputs": [
    {
     "name": "stderr",
     "output_type": "stream",
     "text": [
      "\u001b[32m[I 2021-05-08 12:06:29,760]\u001b[0m A new study created in memory with name: no-name-22f0553f-2668-4f05-905f-a86b86a2be9f\u001b[0m\n",
      "\u001b[32m[I 2021-05-08 12:06:31,178]\u001b[0m Trial 0 finished with value: -21.0773022459911 and parameters: {'eta': 0.00013682736188883748, 'gamma': 0.19128850481175966, 'max_depth': 5, 'min_child_weight': 0.00010210519622976516, 'subsample': 0.8816389636614385, 'reg_lambda': 9.473689747664382, 'reg_alpha': 75.0819478304815}. Best is trial 0 with value: -21.0773022459911.\u001b[0m\n"
     ]
    },
    {
     "name": "stdout",
     "output_type": "stream",
     "text": [
      "[-19.99185118 -21.94320454 -20.49658089 -21.059894   -21.89498062]\n"
     ]
    },
    {
     "name": "stderr",
     "output_type": "stream",
     "text": [
      "\u001b[32m[I 2021-05-08 12:06:32,172]\u001b[0m Trial 1 finished with value: -21.34375397662175 and parameters: {'eta': 2.3837521661873767e-07, 'gamma': 7.787403477034979e-06, 'max_depth': 13, 'min_child_weight': 5.8185143981883144e-08, 'subsample': 0.8123577889539625, 'reg_lambda': 775.5222031823389, 'reg_alpha': 795.6969417493282}. Best is trial 0 with value: -21.0773022459911.\u001b[0m\n"
     ]
    },
    {
     "name": "stdout",
     "output_type": "stream",
     "text": [
      "[-20.25420935 -22.21594066 -20.75914828 -21.32458109 -22.16489051]\n"
     ]
    },
    {
     "name": "stderr",
     "output_type": "stream",
     "text": [
      "\u001b[32m[I 2021-05-08 12:06:32,689]\u001b[0m Trial 2 finished with value: -20.52326702679234 and parameters: {'eta': 0.0006502691747977047, 'gamma': 0.039348950475839015, 'max_depth': 11, 'min_child_weight': 0.0010160534059138109, 'subsample': 0.20860000065394202, 'reg_lambda': 7.480266958651338, 'reg_alpha': 450.3093579315707}. Best is trial 2 with value: -20.52326702679234.\u001b[0m\n"
     ]
    },
    {
     "name": "stdout",
     "output_type": "stream",
     "text": [
      "[-19.42918813 -21.40499834 -19.93324112 -20.50130258 -21.34760497]\n"
     ]
    },
    {
     "name": "stderr",
     "output_type": "stream",
     "text": [
      "\u001b[32m[I 2021-05-08 12:06:32,984]\u001b[0m Trial 3 finished with value: -18.950457842297027 and parameters: {'eta': 0.003942430300534059, 'gamma': 6.020838145559998e-08, 'max_depth': 4, 'min_child_weight': 0.5818599395794479, 'subsample': 0.8296120430417366, 'reg_lambda': 609.9410885246506, 'reg_alpha': 52.4840118653781}. Best is trial 3 with value: -18.950457842297027.\u001b[0m\n"
     ]
    },
    {
     "name": "stdout",
     "output_type": "stream",
     "text": [
      "[-17.83464378 -19.84991951 -18.35165684 -18.92941934 -19.78664974]\n"
     ]
    },
    {
     "name": "stderr",
     "output_type": "stream",
     "text": [
      "\u001b[32m[I 2021-05-08 12:06:33,210]\u001b[0m Trial 4 finished with value: -21.34334711531651 and parameters: {'eta': 1.1902778551908163e-06, 'gamma': 3.6834067375737677e-07, 'max_depth': 9, 'min_child_weight': 1.483028292320619e-07, 'subsample': 0.7402870798969009, 'reg_lambda': 909.6536832064226, 'reg_alpha': 110.70918160109089}. Best is trial 3 with value: -18.950457842297027.\u001b[0m\n"
     ]
    },
    {
     "name": "stdout",
     "output_type": "stream",
     "text": [
      "[-20.25379814 -22.21553857 -20.75873897 -21.32417405 -22.16448585]\n"
     ]
    },
    {
     "name": "stderr",
     "output_type": "stream",
     "text": [
      "\u001b[32m[I 2021-05-08 12:06:33,437]\u001b[0m Trial 5 finished with value: -21.343579266165513 and parameters: {'eta': 2.0134542743729182e-07, 'gamma': 3.6222626683678904e-08, 'max_depth': 19, 'min_child_weight': 7.988783253818902e-07, 'subsample': 0.8878284783470409, 'reg_lambda': 73.54657768897044, 'reg_alpha': 999.5534764662311}. Best is trial 3 with value: -18.950457842297027.\u001b[0m\n"
     ]
    },
    {
     "name": "stdout",
     "output_type": "stream",
     "text": [
      "[-20.25403292 -22.21576812 -20.7589734  -21.32440518 -22.16471671]\n"
     ]
    },
    {
     "name": "stderr",
     "output_type": "stream",
     "text": [
      "\u001b[32m[I 2021-05-08 12:06:33,691]\u001b[0m Trial 6 finished with value: -21.34377483824742 and parameters: {'eta': 3.872120909636623e-07, 'gamma': 5.757822796425415e-05, 'max_depth': 2, 'min_child_weight': 0.0009717853062836731, 'subsample': 0.2413715527397503, 'reg_lambda': 331.7863559843727, 'reg_alpha': 717.3533144387528}. Best is trial 3 with value: -18.950457842297027.\u001b[0m\n"
     ]
    },
    {
     "name": "stdout",
     "output_type": "stream",
     "text": [
      "[-20.25423003 -22.21596212 -20.75916938 -21.32460195 -22.16491071]\n"
     ]
    },
    {
     "name": "stderr",
     "output_type": "stream",
     "text": [
      "\u001b[32m[I 2021-05-08 12:06:33,897]\u001b[0m Trial 7 finished with value: -12.324878536124288 and parameters: {'eta': 0.022632475950916935, 'gamma': 4.572397932572984e-08, 'max_depth': 1, 'min_child_weight': 1.0940391834524502e-05, 'subsample': 0.7964454535101504, 'reg_lambda': 732.394449816187, 'reg_alpha': 146.91029909649146}. Best is trial 7 with value: -12.324878536124288.\u001b[0m\n"
     ]
    },
    {
     "name": "stdout",
     "output_type": "stream",
     "text": [
      "[-11.05295206 -13.24253484 -11.93159816 -12.35847302 -13.03883461]\n"
     ]
    },
    {
     "name": "stderr",
     "output_type": "stream",
     "text": [
      "\u001b[32m[I 2021-05-08 12:06:34,242]\u001b[0m Trial 8 finished with value: -11.158617770142024 and parameters: {'eta': 0.022759948071340373, 'gamma': 2.0072661961249227e-07, 'max_depth': 8, 'min_child_weight': 0.06138092019569497, 'subsample': 0.9769309422868483, 'reg_lambda': 640.2176965048601, 'reg_alpha': 444.8634571774273}. Best is trial 8 with value: -11.158617770142024.\u001b[0m\n"
     ]
    },
    {
     "name": "stdout",
     "output_type": "stream",
     "text": [
      "[ -9.92474862 -12.00765269 -10.8154684  -11.23715791 -11.80806123]\n"
     ]
    },
    {
     "name": "stderr",
     "output_type": "stream",
     "text": [
      "\u001b[32m[I 2021-05-08 12:06:34,501]\u001b[0m Trial 9 finished with value: -21.343619878091932 and parameters: {'eta': 4.96667405990202e-07, 'gamma': 0.1245833947862301, 'max_depth': 6, 'min_child_weight': 0.6470259922977847, 'subsample': 0.5593164197845117, 'reg_lambda': 543.9963354873677, 'reg_alpha': 292.34198336188143}. Best is trial 8 with value: -11.158617770142024.\u001b[0m\n"
     ]
    },
    {
     "name": "stdout",
     "output_type": "stream",
     "text": [
      "[-20.25407393 -22.2158084  -20.75901351 -21.32444692 -22.16475663]\n"
     ]
    },
    {
     "name": "stderr",
     "output_type": "stream",
     "text": [
      "\u001b[32m[I 2021-05-08 12:06:34,797]\u001b[0m Trial 10 finished with value: -21.343864197530866 and parameters: {'eta': 0.9478939983277871, 'gamma': 0.0031382668710843976, 'max_depth': 16, 'min_child_weight': 0.02994667885876858, 'subsample': 0.022039410776556023, 'reg_lambda': 318.55897696177294, 'reg_alpha': 504.3316371971642}. Best is trial 8 with value: -11.158617770142024.\u001b[0m\n"
     ]
    },
    {
     "name": "stdout",
     "output_type": "stream",
     "text": [
      "[-20.25432099 -22.21604938 -20.75925926 -21.32469136 -22.165     ]\n"
     ]
    },
    {
     "name": "stderr",
     "output_type": "stream",
     "text": [
      "\u001b[32m[I 2021-05-08 12:06:35,104]\u001b[0m Trial 11 finished with value: -4.8326472693549265 and parameters: {'eta': 0.1396218999960863, 'gamma': 9.069166123677368e-07, 'max_depth': 2, 'min_child_weight': 3.7320041846776564e-06, 'subsample': 0.5975290638043297, 'reg_lambda': 747.3701360968922, 'reg_alpha': 308.0366991166436}. Best is trial 11 with value: -4.8326472693549265.\u001b[0m\n"
     ]
    },
    {
     "name": "stdout",
     "output_type": "stream",
     "text": [
      "[-4.03617701 -4.78927429 -5.19801886 -5.20443831 -4.93532787]\n"
     ]
    },
    {
     "name": "stderr",
     "output_type": "stream",
     "text": [
      "\u001b[32m[I 2021-05-08 12:06:35,451]\u001b[0m Trial 12 finished with value: -3.9120269039648554 and parameters: {'eta': 0.9933740936975823, 'gamma': 2.831649884312602e-06, 'max_depth': 8, 'min_child_weight': 3.7692254668817195e-06, 'subsample': 0.5592857247697283, 'reg_lambda': 979.3939110109382, 'reg_alpha': 371.8298425686795}. Best is trial 12 with value: -3.9120269039648554.\u001b[0m\n"
     ]
    },
    {
     "name": "stdout",
     "output_type": "stream",
     "text": [
      "[-3.30211358 -3.73379517 -4.38971359 -4.17811649 -3.95639568]\n"
     ]
    },
    {
     "name": "stderr",
     "output_type": "stream",
     "text": [
      "\u001b[32m[I 2021-05-08 12:06:35,749]\u001b[0m Trial 13 finished with value: -3.9083717028064497 and parameters: {'eta': 0.757909903793715, 'gamma': 3.083000549690881e-06, 'max_depth': 1, 'min_child_weight': 3.39654749192584e-06, 'subsample': 0.5385255383424628, 'reg_lambda': 979.0487452254588, 'reg_alpha': 271.2061446348281}. Best is trial 13 with value: -3.9083717028064497.\u001b[0m\n"
     ]
    },
    {
     "name": "stdout",
     "output_type": "stream",
     "text": [
      "[-3.40546652 -3.58302333 -4.59157292 -4.04444318 -3.91735257]\n"
     ]
    },
    {
     "name": "stderr",
     "output_type": "stream",
     "text": [
      "\u001b[32m[I 2021-05-08 12:06:36,071]\u001b[0m Trial 14 finished with value: -3.9873049263542084 and parameters: {'eta': 0.82306088367184, 'gamma': 8.00783989610247e-06, 'max_depth': 13, 'min_child_weight': 1.0467006882400875e-08, 'subsample': 0.40297814534165644, 'reg_lambda': 988.441474415579, 'reg_alpha': 272.4496283055514}. Best is trial 13 with value: -3.9083717028064497.\u001b[0m\n"
     ]
    },
    {
     "name": "stdout",
     "output_type": "stream",
     "text": [
      "[-3.33900554 -3.87998908 -4.52381109 -4.21056536 -3.98315357]\n"
     ]
    },
    {
     "name": "stderr",
     "output_type": "stream",
     "text": [
      "\u001b[32m[I 2021-05-08 12:06:36,404]\u001b[0m Trial 15 finished with value: -5.397386857144626 and parameters: {'eta': 0.9791133791994063, 'gamma': 0.0006047479462191451, 'max_depth': 7, 'min_child_weight': 2.935285641816824e-05, 'subsample': 0.3979709521482018, 'reg_lambda': 997.0981503141551, 'reg_alpha': 603.6983857360885}. Best is trial 13 with value: -3.9083717028064497.\u001b[0m\n"
     ]
    },
    {
     "name": "stdout",
     "output_type": "stream",
     "text": [
      "[-4.51094832 -5.43674715 -5.6329352  -5.7489496  -5.65735402]\n"
     ]
    },
    {
     "name": "stderr",
     "output_type": "stream",
     "text": [
      "\u001b[32m[I 2021-05-08 12:06:36,639]\u001b[0m Trial 16 finished with value: -21.34185430506718 and parameters: {'eta': 5.284213008702883e-06, 'gamma': 3.518362502335325e-06, 'max_depth': 11, 'min_child_weight': 1.0324341720625463e-06, 'subsample': 0.6199819583587719, 'reg_lambda': 870.880758342112, 'reg_alpha': 207.12382612222498}. Best is trial 13 with value: -3.9083717028064497.\u001b[0m\n"
     ]
    },
    {
     "name": "stdout",
     "output_type": "stream",
     "text": [
      "[-20.25228901 -22.21406568 -20.75723824 -21.32267905 -22.16299955]\n"
     ]
    },
    {
     "name": "stderr",
     "output_type": "stream",
     "text": [
      "\u001b[32m[I 2021-05-08 12:06:36,951]\u001b[0m Trial 17 finished with value: -6.695116083745603 and parameters: {'eta': 0.07681106305690381, 'gamma': 8.209544580878463e-05, 'max_depth': 4, 'min_child_weight': 0.00015961648676799753, 'subsample': 0.4279887145115107, 'reg_lambda': 411.89713563169107, 'reg_alpha': 383.17160749089925}. Best is trial 13 with value: -3.9083717028064497.\u001b[0m\n"
     ]
    },
    {
     "name": "stdout",
     "output_type": "stream",
     "text": [
      "[-5.62407417 -7.10370453 -6.71392178 -6.99216768 -7.04171225]\n"
     ]
    },
    {
     "name": "stderr",
     "output_type": "stream",
     "text": [
      "\u001b[32m[I 2021-05-08 12:06:37,358]\u001b[0m Trial 18 finished with value: -4.9849138955363514 and parameters: {'eta': 0.16992012081587807, 'gamma': 0.0008442536552535531, 'max_depth': 19, 'min_child_weight': 1.6525406162170142e-07, 'subsample': 0.6993511346447941, 'reg_lambda': 884.2276283423854, 'reg_alpha': 580.3969131638446}. Best is trial 13 with value: -3.9083717028064497.\u001b[0m\n"
     ]
    },
    {
     "name": "stdout",
     "output_type": "stream",
     "text": [
      "[-4.17212772 -5.0006488  -5.2615076  -5.36839573 -5.12188962]\n"
     ]
    },
    {
     "name": "stderr",
     "output_type": "stream",
     "text": [
      "\u001b[32m[I 2021-05-08 12:06:37,590]\u001b[0m Trial 19 finished with value: -21.343860442438245 and parameters: {'eta': 2.280023106577653e-08, 'gamma': 1.7616084103686927e-06, 'max_depth': 16, 'min_child_weight': 2.8275821159378025e-06, 'subsample': 0.30636101010115824, 'reg_lambda': 967.7164971184288, 'reg_alpha': 355.1309814088364}. Best is trial 13 with value: -3.9083717028064497.\u001b[0m\n"
     ]
    },
    {
     "name": "stdout",
     "output_type": "stream",
     "text": [
      "[-20.25431717 -22.21604569 -20.7592555  -21.3246876  -22.16499624]\n"
     ]
    },
    {
     "name": "stderr",
     "output_type": "stream",
     "text": [
      "\u001b[32m[I 2021-05-08 12:06:37,824]\u001b[0m Trial 20 finished with value: -20.846007294454694 and parameters: {'eta': 0.0015602347154840509, 'gamma': 1.7351850459998466e-05, 'max_depth': 1, 'min_child_weight': 1.251871272683074e-08, 'subsample': 0.4809163397678774, 'reg_lambda': 808.505918827886, 'reg_alpha': 209.67855194998856}. Best is trial 13 with value: -3.9083717028064497.\u001b[0m\n"
     ]
    },
    {
     "name": "stdout",
     "output_type": "stream",
     "text": [
      "[-19.75031627 -21.72415532 -20.2587519  -20.82685888 -21.6699541 ]\n"
     ]
    },
    {
     "name": "stderr",
     "output_type": "stream",
     "text": [
      "\u001b[32m[I 2021-05-08 12:06:38,127]\u001b[0m Trial 21 finished with value: -3.9072201832429867 and parameters: {'eta': 0.8037776705399146, 'gamma': 1.7111936435366407e-05, 'max_depth': 14, 'min_child_weight': 1.8858602810708756e-08, 'subsample': 0.3567562289677167, 'reg_lambda': 954.6927002988548, 'reg_alpha': 217.5211044278427}. Best is trial 21 with value: -3.9072201832429867.\u001b[0m\n"
     ]
    },
    {
     "name": "stdout",
     "output_type": "stream",
     "text": [
      "[-3.25341252 -3.80452604 -4.36510565 -4.09524961 -4.0178071 ]\n"
     ]
    },
    {
     "name": "stderr",
     "output_type": "stream",
     "text": [
      "\u001b[32m[I 2021-05-08 12:06:38,431]\u001b[0m Trial 22 finished with value: -4.0643889241571785 and parameters: {'eta': 0.843618352636535, 'gamma': 4.64925841531568e-05, 'max_depth': 15, 'min_child_weight': 3.9324674382966616e-08, 'subsample': 0.31662428948057547, 'reg_lambda': 989.1826398298585, 'reg_alpha': 220.53096244154852}. Best is trial 21 with value: -3.9072201832429867.\u001b[0m\n"
     ]
    },
    {
     "name": "stdout",
     "output_type": "stream",
     "text": [
      "[-3.42255916 -3.96548119 -4.56195706 -4.28848828 -4.08345892]\n"
     ]
    },
    {
     "name": "stderr",
     "output_type": "stream",
     "text": [
      "\u001b[32m[I 2021-05-08 12:06:38,664]\u001b[0m Trial 23 finished with value: -20.092925281324504 and parameters: {'eta': 0.011895007039665662, 'gamma': 1.0253712956054718e-06, 'max_depth': 13, 'min_child_weight': 5.71659149868984e-07, 'subsample': 0.15121212140371276, 'reg_lambda': 894.4267148279489, 'reg_alpha': 16.571023064520688}. Best is trial 21 with value: -3.9072201832429867.\u001b[0m\n"
     ]
    },
    {
     "name": "stdout",
     "output_type": "stream",
     "text": [
      "[-18.98804868 -20.980393   -19.50367359 -20.07218093 -20.9203302 ]\n"
     ]
    },
    {
     "name": "stderr",
     "output_type": "stream",
     "text": [
      "\u001b[32m[I 2021-05-08 12:06:39,079]\u001b[0m Trial 24 finished with value: -5.163198365617681 and parameters: {'eta': 0.16212512201854945, 'gamma': 0.00019632484799553309, 'max_depth': 9, 'min_child_weight': 1.8238957404424793e-05, 'subsample': 0.49950861865384244, 'reg_lambda': 999.0635862931649, 'reg_alpha': 158.3438628028106}. Best is trial 21 with value: -3.9072201832429867.\u001b[0m\n"
     ]
    },
    {
     "name": "stdout",
     "output_type": "stream",
     "text": [
      "[-4.30191246 -5.19603278 -5.4205268  -5.50299691 -5.39452287]\n"
     ]
    },
    {
     "name": "stderr",
     "output_type": "stream",
     "text": [
      "\u001b[32m[I 2021-05-08 12:06:39,436]\u001b[0m Trial 25 finished with value: -3.9597591594766683 and parameters: {'eta': 0.2857804037642826, 'gamma': 1.2785312355775105e-08, 'max_depth': 17, 'min_child_weight': 0.0006313194766000369, 'subsample': 0.6607459979774846, 'reg_lambda': 671.7942859898228, 'reg_alpha': 384.86359780357304}. Best is trial 21 with value: -3.9072201832429867.\u001b[0m\n"
     ]
    },
    {
     "name": "stdout",
     "output_type": "stream",
     "text": [
      "[-3.26806771 -3.85619709 -4.37887282 -4.2686142  -4.02704398]\n"
     ]
    },
    {
     "name": "stderr",
     "output_type": "stream",
     "text": [
      "\u001b[32m[I 2021-05-08 12:06:39,717]\u001b[0m Trial 26 finished with value: -12.086064022823615 and parameters: {'eta': 0.041553761023255746, 'gamma': 2.108117266362814e-07, 'max_depth': 12, 'min_child_weight': 4.06727793823561e-06, 'subsample': 0.5338324338300892, 'reg_lambda': 825.7992061734722, 'reg_alpha': 496.8160496825019}. Best is trial 21 with value: -3.9072201832429867.\u001b[0m\n"
     ]
    },
    {
     "name": "stdout",
     "output_type": "stream",
     "text": [
      "[-10.78716534 -13.01604308 -11.69955446 -12.16062631 -12.76693093]\n"
     ]
    },
    {
     "name": "stderr",
     "output_type": "stream",
     "text": [
      "\u001b[32m[I 2021-05-08 12:06:39,937]\u001b[0m Trial 27 finished with value: -21.311208004751325 and parameters: {'eta': 4.761411733490003e-05, 'gamma': 2.3611634063554667e-05, 'max_depth': 14, 'min_child_weight': 2.7177619098468026e-07, 'subsample': 0.3108562453905026, 'reg_lambda': 173.21356766417688, 'reg_alpha': 260.0819544076345}. Best is trial 21 with value: -3.9072201832429867.\u001b[0m\n"
     ]
    },
    {
     "name": "stdout",
     "output_type": "stream",
     "text": [
      "[-20.22126854 -22.18383778 -20.72643152 -21.29201931 -22.13248286]\n"
     ]
    },
    {
     "name": "stderr",
     "output_type": "stream",
     "text": [
      "\u001b[32m[I 2021-05-08 12:06:40,140]\u001b[0m Trial 28 finished with value: -12.88436846703659 and parameters: {'eta': 0.43648851517058906, 'gamma': 3.4221689418134455e-06, 'max_depth': 10, 'min_child_weight': 3.3603149749061184e-08, 'subsample': 0.10843605518462351, 'reg_lambda': 962.0019557358102, 'reg_alpha': 367.9120729251247}. Best is trial 21 with value: -3.9072201832429867.\u001b[0m\n"
     ]
    },
    {
     "name": "stdout",
     "output_type": "stream",
     "text": [
      "[-11.59238418 -13.90392696 -12.40529821 -12.87610273 -13.64413025]\n"
     ]
    },
    {
     "name": "stderr",
     "output_type": "stream",
     "text": [
      "\u001b[32m[I 2021-05-08 12:06:40,369]\u001b[0m Trial 29 finished with value: -21.247473127641797 and parameters: {'eta': 0.000265932478248719, 'gamma': 0.00028430016719962483, 'max_depth': 5, 'min_child_weight': 9.157784135415573e-05, 'subsample': 0.45697731943316955, 'reg_lambda': 693.4428583810522, 'reg_alpha': 105.43841610666678}. Best is trial 21 with value: -3.9072201832429867.\u001b[0m\n"
     ]
    },
    {
     "name": "stdout",
     "output_type": "stream",
     "text": [
      "[-20.15686119 -22.12082017 -20.6623793  -21.22824443 -22.06906054]\n"
     ]
    },
    {
     "name": "stderr",
     "output_type": "stream",
     "text": [
      "\u001b[32m[I 2021-05-08 12:06:40,588]\u001b[0m Trial 30 finished with value: -19.957978029050945 and parameters: {'eta': 0.006235567470458339, 'gamma': 0.001720998855450319, 'max_depth': 18, 'min_child_weight': 6.507450886726708e-05, 'subsample': 0.34622242203758746, 'reg_lambda': 922.7503953357564, 'reg_alpha': 8.672002043906105}. Best is trial 21 with value: -3.9072201832429867.\u001b[0m\n"
     ]
    },
    {
     "name": "stdout",
     "output_type": "stream",
     "text": [
      "[-18.85303069 -20.84698064 -19.36722544 -19.93909222 -20.78356115]\n"
     ]
    },
    {
     "name": "stderr",
     "output_type": "stream",
     "text": [
      "\u001b[32m[I 2021-05-08 12:06:40,961]\u001b[0m Trial 31 finished with value: -3.7410104419390366 and parameters: {'eta': 0.3335612233459358, 'gamma': 1.5395849325745306e-08, 'max_depth': 17, 'min_child_weight': 0.0006091431401555817, 'subsample': 0.6619859035463432, 'reg_lambda': 506.5492984825928, 'reg_alpha': 346.44458026185214}. Best is trial 31 with value: -3.7410104419390366.\u001b[0m\n"
     ]
    },
    {
     "name": "stdout",
     "output_type": "stream",
     "text": [
      "[-3.07917533 -3.56133683 -4.23722416 -3.93646001 -3.89085588]\n"
     ]
    },
    {
     "name": "stderr",
     "output_type": "stream",
     "text": [
      "\u001b[32m[I 2021-05-08 12:06:41,272]\u001b[0m Trial 32 finished with value: -6.427987965024547 and parameters: {'eta': 0.061432078743998655, 'gamma': 1.0422493711499781e-05, 'max_depth': 20, 'min_child_weight': 0.0054579488356822385, 'subsample': 0.5896849158889406, 'reg_lambda': 476.2276074711145, 'reg_alpha': 311.30987685578276}. Best is trial 31 with value: -3.7410104419390366.\u001b[0m\n"
     ]
    },
    {
     "name": "stdout",
     "output_type": "stream",
     "text": [
      "[-5.41741441 -6.75537572 -6.46088003 -6.74894009 -6.75732957]\n"
     ]
    },
    {
     "name": "stderr",
     "output_type": "stream",
     "text": [
      "\u001b[32m[I 2021-05-08 12:06:41,569]\u001b[0m Trial 33 finished with value: -3.856019628100925 and parameters: {'eta': 0.38807002903983423, 'gamma': 0.008164605166851751, 'max_depth': 14, 'min_child_weight': 0.0002643423906351236, 'subsample': 0.6656123796633469, 'reg_lambda': 180.62099704341944, 'reg_alpha': 441.16897488608225}. Best is trial 31 with value: -3.7410104419390366.\u001b[0m\n"
     ]
    },
    {
     "name": "stdout",
     "output_type": "stream",
     "text": [
      "[-3.10198555 -3.85273541 -4.25408358 -3.94023527 -4.13105832]\n"
     ]
    },
    {
     "name": "stderr",
     "output_type": "stream",
     "text": [
      "\u001b[32m[I 2021-05-08 12:06:41,866]\u001b[0m Trial 34 finished with value: -4.00237376293724 and parameters: {'eta': 0.3292249790624186, 'gamma': 0.02119448563244642, 'max_depth': 15, 'min_child_weight': 0.000304504553965128, 'subsample': 0.74088203888134, 'reg_lambda': 172.12493519411908, 'reg_alpha': 572.8402777689053}. Best is trial 31 with value: -3.7410104419390366.\u001b[0m\n"
     ]
    },
    {
     "name": "stdout",
     "output_type": "stream",
     "text": [
      "[-3.13432994 -4.02927969 -4.38098383 -4.31472181 -4.15255355]\n"
     ]
    },
    {
     "name": "stderr",
     "output_type": "stream",
     "text": [
      "\u001b[32m[I 2021-05-08 12:06:42,095]\u001b[0m Trial 35 finished with value: -19.481985787482913 and parameters: {'eta': 0.002034373051279387, 'gamma': 0.0074779379782892175, 'max_depth': 17, 'min_child_weight': 0.0014180118846756585, 'subsample': 0.6522905197514265, 'reg_lambda': 209.8169448040341, 'reg_alpha': 443.47900118620527}. Best is trial 31 with value: -3.7410104419390366.\u001b[0m\n"
     ]
    },
    {
     "name": "stdout",
     "output_type": "stream",
     "text": [
      "[-18.37754896 -20.37624204 -18.88626442 -19.45649846 -20.31337505]\n"
     ]
    },
    {
     "name": "stderr",
     "output_type": "stream",
     "text": [
      "\u001b[32m[I 2021-05-08 12:06:42,448]\u001b[0m Trial 36 finished with value: -3.9072545826346783 and parameters: {'eta': 0.06677138987744174, 'gamma': 0.8749462227167342, 'max_depth': 14, 'min_child_weight': 0.004310194445247211, 'subsample': 0.8640837489261084, 'reg_lambda': 84.81215289535591, 'reg_alpha': 504.60491794693974}. Best is trial 31 with value: -3.7410104419390366.\u001b[0m\n"
     ]
    },
    {
     "name": "stdout",
     "output_type": "stream",
     "text": [
      "[-3.23507356 -3.80153495 -4.2757074  -4.12958425 -4.09437275]\n"
     ]
    },
    {
     "name": "stderr",
     "output_type": "stream",
     "text": [
      "\u001b[32m[I 2021-05-08 12:06:42,778]\u001b[0m Trial 37 finished with value: -10.768752690862728 and parameters: {'eta': 0.011629100364914791, 'gamma': 0.3134907664175443, 'max_depth': 14, 'min_child_weight': 0.00527965559103327, 'subsample': 0.9257964360019931, 'reg_lambda': 102.43475447935623, 'reg_alpha': 743.6902023275882}. Best is trial 31 with value: -3.7410104419390366.\u001b[0m\n"
     ]
    },
    {
     "name": "stdout",
     "output_type": "stream",
     "text": [
      "[ -9.73238369 -11.50033032 -10.42483879 -10.77124995 -11.41496071]\n"
     ]
    },
    {
     "name": "stderr",
     "output_type": "stream",
     "text": [
      "\u001b[32m[I 2021-05-08 12:06:43,241]\u001b[0m Trial 38 finished with value: -4.118718490153183 and parameters: {'eta': 0.08231829049203694, 'gamma': 0.9784614162954968, 'max_depth': 12, 'min_child_weight': 0.0030489332295994573, 'subsample': 0.8234069058295794, 'reg_lambda': 53.48838343671389, 'reg_alpha': 638.726645880892}. Best is trial 31 with value: -3.7410104419390366.\u001b[0m\n"
     ]
    },
    {
     "name": "stdout",
     "output_type": "stream",
     "text": [
      "[-3.38949438 -4.04618528 -4.48735541 -4.45151345 -4.21904393]\n"
     ]
    },
    {
     "name": "stderr",
     "output_type": "stream",
     "text": [
      "\u001b[32m[I 2021-05-08 12:06:43,608]\u001b[0m Trial 39 finished with value: -8.302999439421994 and parameters: {'eta': 0.032916414225122766, 'gamma': 0.03552735320530731, 'max_depth': 15, 'min_child_weight': 0.0286651545935794, 'subsample': 0.7560236367182802, 'reg_lambda': 275.52478129395007, 'reg_alpha': 929.502402317971}. Best is trial 31 with value: -3.7410104419390366.\u001b[0m\n"
     ]
    },
    {
     "name": "stdout",
     "output_type": "stream",
     "text": [
      "[-7.15035744 -8.88970157 -8.19923628 -8.49640743 -8.77929447]\n"
     ]
    },
    {
     "name": "stderr",
     "output_type": "stream",
     "text": [
      "\u001b[32m[I 2021-05-08 12:06:43,892]\u001b[0m Trial 40 finished with value: -21.311927547287798 and parameters: {'eta': 1.7491484599960826e-05, 'gamma': 0.795564257337357, 'max_depth': 17, 'min_child_weight': 0.08567067271592933, 'subsample': 0.990467673393934, 'reg_lambda': 19.82313979414576, 'reg_alpha': 508.8113178423739}. Best is trial 31 with value: -3.7410104419390366.\u001b[0m\n"
     ]
    },
    {
     "name": "stdout",
     "output_type": "stream",
     "text": [
      "[-20.22380619 -22.18401864 -20.72679336 -21.29234363 -22.13267591]\n"
     ]
    },
    {
     "name": "stderr",
     "output_type": "stream",
     "text": [
      "\u001b[32m[I 2021-05-08 12:06:44,248]\u001b[0m Trial 41 finished with value: -3.602254774170157 and parameters: {'eta': 0.3612083398170198, 'gamma': 0.010914230603247725, 'max_depth': 14, 'min_child_weight': 0.0003874272542597854, 'subsample': 0.8811911029949848, 'reg_lambda': 104.63644255579679, 'reg_alpha': 442.586463250999}. Best is trial 41 with value: -3.602254774170157.\u001b[0m\n"
     ]
    },
    {
     "name": "stdout",
     "output_type": "stream",
     "text": [
      "[-2.95127446 -3.45406221 -4.03645413 -3.5903972  -3.97908587]\n"
     ]
    },
    {
     "name": "stderr",
     "output_type": "stream",
     "text": [
      "\u001b[32m[I 2021-05-08 12:06:44,601]\u001b[0m Trial 42 finished with value: -3.5256685126151566 and parameters: {'eta': 0.28507745321769684, 'gamma': 0.09022022876140358, 'max_depth': 14, 'min_child_weight': 0.00030614296566071325, 'subsample': 0.891821410683796, 'reg_lambda': 116.67387097109736, 'reg_alpha': 431.02684121305595}. Best is trial 42 with value: -3.5256685126151566.\u001b[0m\n"
     ]
    },
    {
     "name": "stdout",
     "output_type": "stream",
     "text": [
      "[-3.03487118 -3.20746192 -3.87362894 -3.53737925 -3.97500128]\n"
     ]
    },
    {
     "name": "stderr",
     "output_type": "stream",
     "text": [
      "\u001b[32m[I 2021-05-08 12:06:45,025]\u001b[0m Trial 43 finished with value: -3.5635599782967278 and parameters: {'eta': 0.36276414080440245, 'gamma': 0.06838748075225329, 'max_depth': 12, 'min_child_weight': 0.0003086793547863072, 'subsample': 0.9270826535902352, 'reg_lambda': 250.17035073799428, 'reg_alpha': 453.92578009989217}. Best is trial 42 with value: -3.5256685126151566.\u001b[0m\n"
     ]
    },
    {
     "name": "stdout",
     "output_type": "stream",
     "text": [
      "[-2.90678308 -3.42607145 -3.98101962 -3.58599956 -3.91792618]\n"
     ]
    },
    {
     "name": "stderr",
     "output_type": "stream",
     "text": [
      "\u001b[32m[I 2021-05-08 12:06:45,425]\u001b[0m Trial 44 finished with value: -3.51926790402848 and parameters: {'eta': 0.3008967747160911, 'gamma': 0.12229226861827124, 'max_depth': 12, 'min_child_weight': 0.00043329451100309284, 'subsample': 0.9317390255170881, 'reg_lambda': 239.8986795699132, 'reg_alpha': 435.26371087973956}. Best is trial 44 with value: -3.51926790402848.\u001b[0m\n"
     ]
    },
    {
     "name": "stdout",
     "output_type": "stream",
     "text": [
      "[-2.83812288 -3.44668717 -3.8862961  -3.57639227 -3.8488411 ]\n"
     ]
    },
    {
     "name": "stderr",
     "output_type": "stream",
     "text": [
      "\u001b[32m[I 2021-05-08 12:06:45,826]\u001b[0m Trial 45 finished with value: -3.668748776936237 and parameters: {'eta': 0.1798045610816557, 'gamma': 0.1182341629837833, 'max_depth': 12, 'min_child_weight': 0.0005351474325380877, 'subsample': 0.9326832318082237, 'reg_lambda': 409.69342250682996, 'reg_alpha': 415.6432835755261}. Best is trial 44 with value: -3.51926790402848.\u001b[0m\n"
     ]
    },
    {
     "name": "stdout",
     "output_type": "stream",
     "text": [
      "[-3.00848541 -3.47112771 -4.08088524 -3.81800466 -3.96524086]\n"
     ]
    },
    {
     "name": "stderr",
     "output_type": "stream",
     "text": [
      "\u001b[32m[I 2021-05-08 12:06:46,219]\u001b[0m Trial 46 finished with value: -3.831845468903765 and parameters: {'eta': 0.15170730010987762, 'gamma': 0.12433089027455248, 'max_depth': 10, 'min_child_weight': 4.3920382363624215e-05, 'subsample': 0.9102883879030816, 'reg_lambda': 260.07012676649634, 'reg_alpha': 540.262970862906}. Best is trial 44 with value: -3.51926790402848.\u001b[0m\n"
     ]
    },
    {
     "name": "stdout",
     "output_type": "stream",
     "text": [
      "[-3.0989963  -3.67122716 -4.26087716 -4.10508554 -4.02304118]\n"
     ]
    },
    {
     "name": "stderr",
     "output_type": "stream",
     "text": [
      "\u001b[32m[I 2021-05-08 12:06:46,449]\u001b[0m Trial 47 finished with value: -12.23068939756464 and parameters: {'eta': 0.015299239425521204, 'gamma': 0.26869945439479714, 'max_depth': 12, 'min_child_weight': 0.0018525491101516781, 'subsample': 0.9741319671431431, 'reg_lambda': 411.85159293298796, 'reg_alpha': 653.7876744889437}. Best is trial 44 with value: -3.51926790402848.\u001b[0m\n"
     ]
    },
    {
     "name": "stdout",
     "output_type": "stream",
     "text": [
      "[-10.99973355 -13.13772147 -11.82268307 -12.24049105 -12.95281785]\n"
     ]
    },
    {
     "name": "stderr",
     "output_type": "stream",
     "text": [
      "\u001b[32m[I 2021-05-08 12:06:46,711]\u001b[0m Trial 48 finished with value: -16.09620063803667 and parameters: {'eta': 0.004324873123651802, 'gamma': 0.08631541982131852, 'max_depth': 11, 'min_child_weight': 0.0005862427547307158, 'subsample': 0.9435650045276801, 'reg_lambda': 123.60068842426246, 'reg_alpha': 418.3532199185122}. Best is trial 44 with value: -3.51926790402848.\u001b[0m\n"
     ]
    },
    {
     "name": "stdout",
     "output_type": "stream",
     "text": [
      "[-15.02612673 -16.9982111  -15.50060886 -16.04132336 -16.91473314]\n"
     ]
    },
    {
     "name": "stderr",
     "output_type": "stream",
     "text": [
      "\u001b[32m[I 2021-05-08 12:06:47,090]\u001b[0m Trial 49 finished with value: -3.88728772448316 and parameters: {'eta': 0.14622034157708796, 'gamma': 0.056120975096998746, 'max_depth': 12, 'min_child_weight': 0.00020459400227259967, 'subsample': 0.8701759278872802, 'reg_lambda': 389.46346803026273, 'reg_alpha': 481.41949813812914}. Best is trial 44 with value: -3.51926790402848.\u001b[0m\n"
     ]
    },
    {
     "name": "stdout",
     "output_type": "stream",
     "text": [
      "[-3.16873665 -3.80375069 -4.29346087 -4.14160595 -4.02888447]\n"
     ]
    },
    {
     "name": "stderr",
     "output_type": "stream",
     "text": [
      "\u001b[32m[I 2021-05-08 12:06:47,423]\u001b[0m Trial 50 finished with value: -6.261124982474762 and parameters: {'eta': 0.04046666581286439, 'gamma': 0.011581970788364997, 'max_depth': 9, 'min_child_weight': 0.017001235929313258, 'subsample': 0.8048556428930255, 'reg_lambda': 326.1887799208831, 'reg_alpha': 422.4079375198229}. Best is trial 44 with value: -3.51926790402848.\u001b[0m\n"
     ]
    },
    {
     "name": "stdout",
     "output_type": "stream",
     "text": [
      "[-5.33115975 -6.50584766 -6.28443225 -6.56438308 -6.61980219]\n"
     ]
    },
    {
     "name": "stderr",
     "output_type": "stream",
     "text": [
      "\u001b[32m[I 2021-05-08 12:06:48,072]\u001b[0m Trial 51 finished with value: -3.4417936589276352 and parameters: {'eta': 0.37057602320379285, 'gamma': 0.3195394756757685, 'max_depth': 13, 'min_child_weight': 0.0005055450288924613, 'subsample': 0.8674876730971188, 'reg_lambda': 581.564807805879, 'reg_alpha': 332.8000682840788}. Best is trial 51 with value: -3.4417936589276352.\u001b[0m\n"
     ]
    },
    {
     "name": "stdout",
     "output_type": "stream",
     "text": [
      "[-2.76954317 -3.27346725 -3.82782442 -3.56368962 -3.77444384]\n"
     ]
    },
    {
     "name": "stderr",
     "output_type": "stream",
     "text": [
      "\u001b[32m[I 2021-05-08 12:06:48,848]\u001b[0m Trial 52 finished with value: -3.459818501242885 and parameters: {'eta': 0.5445363763660912, 'gamma': 0.39219051629766527, 'max_depth': 13, 'min_child_weight': 0.00012377497075986008, 'subsample': 0.996459936767699, 'reg_lambda': 591.3848769001886, 'reg_alpha': 405.69176015715584}. Best is trial 51 with value: -3.4417936589276352.\u001b[0m\n"
     ]
    },
    {
     "name": "stdout",
     "output_type": "stream",
     "text": [
      "[-2.76196053 -3.24559378 -3.901687   -3.54938296 -3.84046824]\n"
     ]
    },
    {
     "name": "stderr",
     "output_type": "stream",
     "text": [
      "\u001b[32m[I 2021-05-08 12:06:49,777]\u001b[0m Trial 53 finished with value: -3.7000139199009654 and parameters: {'eta': 0.45636791183525366, 'gamma': 0.44837079029980575, 'max_depth': 13, 'min_child_weight': 0.00011651339547693801, 'subsample': 0.8533433547623777, 'reg_lambda': 523.4751911575833, 'reg_alpha': 470.2985472628005}. Best is trial 51 with value: -3.4417936589276352.\u001b[0m\n"
     ]
    },
    {
     "name": "stdout",
     "output_type": "stream",
     "text": [
      "[-2.98194912 -3.51722245 -4.22867691 -3.95000974 -3.82221137]\n"
     ]
    },
    {
     "name": "stderr",
     "output_type": "stream",
     "text": [
      "\u001b[32m[I 2021-05-08 12:06:50,313]\u001b[0m Trial 54 finished with value: -4.17766032568025 and parameters: {'eta': 0.5818017322308133, 'gamma': 0.20375745573369572, 'max_depth': 13, 'min_child_weight': 9.709573334585679e-06, 'subsample': 0.8954465480375996, 'reg_lambda': 3.9409611812783396, 'reg_alpha': 533.0247536492004}. Best is trial 51 with value: -3.4417936589276352.\u001b[0m\n"
     ]
    },
    {
     "name": "stdout",
     "output_type": "stream",
     "text": [
      "[-3.92882237 -3.87046428 -4.66773636 -4.23575973 -4.18551889]\n"
     ]
    },
    {
     "name": "stderr",
     "output_type": "stream",
     "text": [
      "\u001b[32m[I 2021-05-08 12:06:50,722]\u001b[0m Trial 55 finished with value: -4.368874381530432 and parameters: {'eta': 0.08656510844212634, 'gamma': 0.024358194039862936, 'max_depth': 10, 'min_child_weight': 3.312176758910279e-05, 'subsample': 0.9662570332595966, 'reg_lambda': 570.8181500299683, 'reg_alpha': 323.53628644878086}. Best is trial 51 with value: -3.4417936589276352.\u001b[0m\n"
     ]
    },
    {
     "name": "stdout",
     "output_type": "stream",
     "text": [
      "[-3.61144329 -4.26815472 -4.70312374 -4.76852451 -4.49312564]\n"
     ]
    },
    {
     "name": "stderr",
     "output_type": "stream",
     "text": [
      "\u001b[32m[I 2021-05-08 12:06:51,075]\u001b[0m Trial 56 finished with value: -3.6752115955176174 and parameters: {'eta': 0.8788180534256578, 'gamma': 0.4954064269585436, 'max_depth': 11, 'min_child_weight': 0.010733254017509195, 'subsample': 0.7753850560127116, 'reg_lambda': 612.5379263828063, 'reg_alpha': 396.4407476259193}. Best is trial 51 with value: -3.4417936589276352.\u001b[0m\n"
     ]
    },
    {
     "name": "stdout",
     "output_type": "stream",
     "text": [
      "[-2.88832944 -3.61704759 -4.23000563 -3.67772732 -3.962948  ]\n"
     ]
    },
    {
     "name": "stderr",
     "output_type": "stream",
     "text": [
      "\u001b[32m[I 2021-05-08 12:06:51,517]\u001b[0m Trial 57 finished with value: -3.4013507792625903 and parameters: {'eta': 0.22468681247157352, 'gamma': 0.0641414960419707, 'max_depth': 16, 'min_child_weight': 0.0017399697310187185, 'subsample': 0.842817386115041, 'reg_lambda': 133.86371432308374, 'reg_alpha': 336.3964820626937}. Best is trial 57 with value: -3.4013507792625903.\u001b[0m\n"
     ]
    },
    {
     "name": "stdout",
     "output_type": "stream",
     "text": [
      "[-2.86212239 -3.19513229 -3.67948707 -3.41160278 -3.85840937]\n"
     ]
    },
    {
     "name": "stderr",
     "output_type": "stream",
     "text": [
      "\u001b[32m[I 2021-05-08 12:06:51,908]\u001b[0m Trial 58 finished with value: -7.179841084539154 and parameters: {'eta': 0.02590250094822428, 'gamma': 0.06613899991369453, 'max_depth': 16, 'min_child_weight': 0.001398124693206043, 'subsample': 0.996300791237572, 'reg_lambda': 279.87829336688554, 'reg_alpha': 341.3612989503961}. Best is trial 57 with value: -3.4013507792625903.\u001b[0m\n"
     ]
    },
    {
     "name": "stdout",
     "output_type": "stream",
     "text": [
      "[-6.22635321 -7.5401515  -7.08304495 -7.43062629 -7.61902947]\n"
     ]
    },
    {
     "name": "stderr",
     "output_type": "stream",
     "text": [
      "\u001b[32m[I 2021-05-08 12:06:52,192]\u001b[0m Trial 59 finished with value: -21.343838066854595 and parameters: {'eta': 3.555840641370215e-08, 'gamma': 0.0038134501017201153, 'max_depth': 15, 'min_child_weight': 0.00014647535440513913, 'subsample': 0.8231481302638811, 'reg_lambda': 471.0279516013437, 'reg_alpha': 250.34157718812003}. Best is trial 57 with value: -3.4013507792625903.\u001b[0m\n"
     ]
    },
    {
     "name": "stdout",
     "output_type": "stream",
     "text": [
      "[-20.25429452 -22.21602357 -20.75923297 -21.32466519 -22.16497407]\n"
     ]
    },
    {
     "name": "stderr",
     "output_type": "stream",
     "text": [
      "\u001b[32m[I 2021-05-08 12:06:52,631]\u001b[0m Trial 60 finished with value: -3.2799859153194193 and parameters: {'eta': 0.2250735024308937, 'gamma': 0.18904138460313713, 'max_depth': 13, 'min_child_weight': 0.0010182788152875064, 'subsample': 0.9510393969980906, 'reg_lambda': 567.9045729022132, 'reg_alpha': 161.26971970301685}. Best is trial 60 with value: -3.2799859153194193.\u001b[0m\n"
     ]
    },
    {
     "name": "stdout",
     "output_type": "stream",
     "text": [
      "[-2.69893677 -3.02510553 -3.59453829 -3.2831416  -3.79820739]\n"
     ]
    },
    {
     "name": "stderr",
     "output_type": "stream",
     "text": [
      "\u001b[32m[I 2021-05-08 12:06:53,092]\u001b[0m Trial 61 finished with value: -3.2567478818599094 and parameters: {'eta': 0.24023612688793788, 'gamma': 0.03461775635266774, 'max_depth': 13, 'min_child_weight': 0.0009861030376564397, 'subsample': 0.9319713320253762, 'reg_lambda': 572.5664353894697, 'reg_alpha': 153.7707270645701}. Best is trial 61 with value: -3.2567478818599094.\u001b[0m\n"
     ]
    },
    {
     "name": "stdout",
     "output_type": "stream",
     "text": [
      "[-2.68590477 -2.99208804 -3.54197438 -3.23824062 -3.8255316 ]\n"
     ]
    },
    {
     "name": "stderr",
     "output_type": "stream",
     "text": [
      "\u001b[32m[I 2021-05-08 12:06:53,494]\u001b[0m Trial 62 finished with value: -3.245747325361511 and parameters: {'eta': 0.22914939027816023, 'gamma': 0.18431626448526375, 'max_depth': 13, 'min_child_weight': 0.0028651597066813197, 'subsample': 0.9644003847214393, 'reg_lambda': 576.4021651231706, 'reg_alpha': 157.34177503056534}. Best is trial 62 with value: -3.245747325361511.\u001b[0m\n"
     ]
    },
    {
     "name": "stdout",
     "output_type": "stream",
     "text": [
      "[-2.66570983 -2.99157393 -3.54297216 -3.24677398 -3.78170673]\n"
     ]
    },
    {
     "name": "stderr",
     "output_type": "stream",
     "text": [
      "\u001b[32m[I 2021-05-08 12:06:53,907]\u001b[0m Trial 63 finished with value: -3.8514966423482067 and parameters: {'eta': 0.10587582839352401, 'gamma': 0.18847853757043187, 'max_depth': 13, 'min_child_weight': 0.0026523577156458236, 'subsample': 0.9982019102649388, 'reg_lambda': 570.6134811421399, 'reg_alpha': 161.84545667380328}. Best is trial 62 with value: -3.245747325361511.\u001b[0m\n"
     ]
    },
    {
     "name": "stdout",
     "output_type": "stream",
     "text": [
      "[-3.10716861 -3.71054888 -4.23431084 -4.11471266 -4.09074222]\n"
     ]
    },
    {
     "name": "stderr",
     "output_type": "stream",
     "text": [
      "\u001b[32m[I 2021-05-08 12:06:54,455]\u001b[0m Trial 64 finished with value: -3.2424168789887133 and parameters: {'eta': 0.2003348330270246, 'gamma': 0.45928958455856594, 'max_depth': 13, 'min_child_weight': 0.007515776749286235, 'subsample': 0.9549413887647171, 'reg_lambda': 654.7298904677498, 'reg_alpha': 57.54724341749156}. Best is trial 64 with value: -3.2424168789887133.\u001b[0m\n"
     ]
    },
    {
     "name": "stdout",
     "output_type": "stream",
     "text": [
      "[-2.68522506 -3.01698976 -3.55346346 -3.20207611 -3.75432999]\n"
     ]
    },
    {
     "name": "stderr",
     "output_type": "stream",
     "text": [
      "\u001b[32m[I 2021-05-08 12:06:54,953]\u001b[0m Trial 65 finished with value: -5.358367330309785 and parameters: {'eta': 0.057537523577713835, 'gamma': 0.5310788585939176, 'max_depth': 11, 'min_child_weight': 0.08359331863129821, 'subsample': 0.9623350387604157, 'reg_lambda': 654.9238575934233, 'reg_alpha': 52.10585262698854}. Best is trial 64 with value: -3.2424168789887133.\u001b[0m\n"
     ]
    },
    {
     "name": "stdout",
     "output_type": "stream",
     "text": [
      "[-4.52139138 -5.38105298 -5.52207457 -5.69202218 -5.67529555]\n"
     ]
    },
    {
     "name": "stderr",
     "output_type": "stream",
     "text": [
      "\u001b[32m[I 2021-05-08 12:06:55,426]\u001b[0m Trial 66 finished with value: -2.823480244913219 and parameters: {'eta': 0.9544728341012094, 'gamma': 0.026601921652289088, 'max_depth': 16, 'min_child_weight': 0.008621850379921974, 'subsample': 0.8431081263451679, 'reg_lambda': 716.8396906928597, 'reg_alpha': 113.53086897001498}. Best is trial 66 with value: -2.823480244913219.\u001b[0m\n"
     ]
    },
    {
     "name": "stdout",
     "output_type": "stream",
     "text": [
      "[-2.28314838 -2.53357344 -2.92099402 -2.88921714 -3.49046824]\n"
     ]
    },
    {
     "name": "stderr",
     "output_type": "stream",
     "text": [
      "\u001b[32m[I 2021-05-08 12:06:55,687]\u001b[0m Trial 67 finished with value: -13.026848910855659 and parameters: {'eta': 0.01991375820703896, 'gamma': 0.03250608520011818, 'max_depth': 16, 'min_child_weight': 0.009912229325907471, 'subsample': 0.7739868373488189, 'reg_lambda': 711.4606287726203, 'reg_alpha': 98.95163239451779}. Best is trial 66 with value: -2.823480244913219.\u001b[0m\n"
     ]
    },
    {
     "name": "stdout",
     "output_type": "stream",
     "text": [
      "[-11.77464283 -13.96829534 -12.59570972 -13.02083456 -13.77476209]\n"
     ]
    },
    {
     "name": "stderr",
     "output_type": "stream",
     "text": [
      "\u001b[32m[I 2021-05-08 12:06:56,225]\u001b[0m Trial 68 finished with value: -3.441730899828451 and parameters: {'eta': 0.1945946387980202, 'gamma': 0.0159032470581051, 'max_depth': 15, 'min_child_weight': 0.0009554870966236893, 'subsample': 0.8470846444604563, 'reg_lambda': 764.3673817893596, 'reg_alpha': 47.76080660902148}. Best is trial 66 with value: -2.823480244913219.\u001b[0m\n"
     ]
    },
    {
     "name": "stdout",
     "output_type": "stream",
     "text": [
      "[-2.77360617 -3.25245247 -3.80864645 -3.53964173 -3.83430768]\n"
     ]
    },
    {
     "name": "stderr",
     "output_type": "stream",
     "text": [
      "\u001b[32m[I 2021-05-08 12:06:56,821]\u001b[0m Trial 69 finished with value: -2.689067850354277 and parameters: {'eta': 0.983070812042975, 'gamma': 0.01725805574554271, 'max_depth': 18, 'min_child_weight': 0.18219441338073203, 'subsample': 0.8395797216337365, 'reg_lambda': 763.3067874914597, 'reg_alpha': 61.89973761854857}. Best is trial 69 with value: -2.689067850354277.\u001b[0m\n"
     ]
    },
    {
     "name": "stdout",
     "output_type": "stream",
     "text": [
      "[-2.17842958 -2.39211119 -2.67501277 -2.73980679 -3.45997892]\n"
     ]
    },
    {
     "name": "stderr",
     "output_type": "stream",
     "text": [
      "\u001b[32m[I 2021-05-08 12:06:57,314]\u001b[0m Trial 70 finished with value: -2.9217962425844166 and parameters: {'eta': 0.8707286398253243, 'gamma': 0.005322561428417661, 'max_depth': 18, 'min_child_weight': 0.18437181830322327, 'subsample': 0.8321430895924463, 'reg_lambda': 801.806126333163, 'reg_alpha': 132.70596491572397}. Best is trial 69 with value: -2.689067850354277.\u001b[0m\n"
     ]
    },
    {
     "name": "stdout",
     "output_type": "stream",
     "text": [
      "[-2.45766776 -2.54142517 -3.12688126 -2.84064783 -3.64235919]\n"
     ]
    },
    {
     "name": "stderr",
     "output_type": "stream",
     "text": [
      "\u001b[32m[I 2021-05-08 12:06:57,755]\u001b[0m Trial 71 finished with value: -3.0102042590070655 and parameters: {'eta': 0.6074023089946243, 'gamma': 0.004287125382195459, 'max_depth': 19, 'min_child_weight': 0.0513595775797843, 'subsample': 0.7119151838032668, 'reg_lambda': 622.873448639054, 'reg_alpha': 136.68969718050968}. Best is trial 69 with value: -2.689067850354277.\u001b[0m\n"
     ]
    },
    {
     "name": "stdout",
     "output_type": "stream",
     "text": [
      "[-2.40901955 -2.7570957  -3.30814083 -2.98989965 -3.58686556]\n"
     ]
    },
    {
     "name": "stderr",
     "output_type": "stream",
     "text": [
      "\u001b[32m[I 2021-05-08 12:06:58,194]\u001b[0m Trial 72 finished with value: -3.0471189925935533 and parameters: {'eta': 0.9150248822733282, 'gamma': 0.004476195052902683, 'max_depth': 19, 'min_child_weight': 0.2649709930936719, 'subsample': 0.7128647328935909, 'reg_lambda': 804.8838914312541, 'reg_alpha': 142.72445546213635}. Best is trial 69 with value: -2.689067850354277.\u001b[0m\n"
     ]
    },
    {
     "name": "stdout",
     "output_type": "stream",
     "text": [
      "[-2.63035982 -2.80672462 -3.24597121 -3.00790608 -3.54463323]\n"
     ]
    },
    {
     "name": "stderr",
     "output_type": "stream",
     "text": [
      "\u001b[32m[I 2021-05-08 12:06:58,652]\u001b[0m Trial 73 finished with value: -2.9802252007884746 and parameters: {'eta': 0.9479969702476029, 'gamma': 0.0029324969084722425, 'max_depth': 20, 'min_child_weight': 0.2234444687793416, 'subsample': 0.7292568376996135, 'reg_lambda': 801.0786641878257, 'reg_alpha': 128.4288707705619}. Best is trial 69 with value: -2.689067850354277.\u001b[0m\n"
     ]
    },
    {
     "name": "stdout",
     "output_type": "stream",
     "text": [
      "[-2.47043802 -2.63819186 -3.15020017 -3.02111946 -3.62117649]\n"
     ]
    },
    {
     "name": "stderr",
     "output_type": "stream",
     "text": [
      "\u001b[32m[I 2021-05-08 12:06:59,477]\u001b[0m Trial 74 finished with value: -2.8880079392268336 and parameters: {'eta': 0.6366805874345026, 'gamma': 0.0037184188937204278, 'max_depth': 20, 'min_child_weight': 0.2314089573492877, 'subsample': 0.7208549132849168, 'reg_lambda': 811.8241919328365, 'reg_alpha': 88.71280318549341}. Best is trial 69 with value: -2.689067850354277.\u001b[0m\n"
     ]
    },
    {
     "name": "stdout",
     "output_type": "stream",
     "text": [
      "[-2.34302559 -2.57620761 -3.03459742 -2.93612485 -3.55008423]\n"
     ]
    },
    {
     "name": "stderr",
     "output_type": "stream",
     "text": [
      "\u001b[32m[I 2021-05-08 12:07:00,539]\u001b[0m Trial 75 finished with value: -2.6124805401401754 and parameters: {'eta': 0.8861907049520165, 'gamma': 0.0010733587613982077, 'max_depth': 20, 'min_child_weight': 0.2957610342768837, 'subsample': 0.7148393880576426, 'reg_lambda': 817.7244791167674, 'reg_alpha': 24.693992744603207}. Best is trial 75 with value: -2.6124805401401754.\u001b[0m\n"
     ]
    },
    {
     "name": "stdout",
     "output_type": "stream",
     "text": [
      "[-2.10130562 -2.40698209 -2.61864787 -2.63345409 -3.30201303]\n"
     ]
    },
    {
     "name": "stderr",
     "output_type": "stream",
     "text": [
      "\u001b[32m[I 2021-05-08 12:07:01,491]\u001b[0m Trial 76 finished with value: -2.9567822673526813 and parameters: {'eta': 0.8029957508396892, 'gamma': 0.0015176382943573724, 'max_depth': 20, 'min_child_weight': 0.2517192350560667, 'subsample': 0.7163174210470085, 'reg_lambda': 807.154422662575, 'reg_alpha': 122.32700234497916}. Best is trial 75 with value: -2.6124805401401754.\u001b[0m\n"
     ]
    },
    {
     "name": "stdout",
     "output_type": "stream",
     "text": [
      "[-2.30714188 -2.69214717 -3.20912845 -3.07273245 -3.50276139]\n"
     ]
    },
    {
     "name": "stderr",
     "output_type": "stream",
     "text": [
      "\u001b[32m[I 2021-05-08 12:07:02,269]\u001b[0m Trial 77 finished with value: -2.7905772409968908 and parameters: {'eta': 0.9888804246350628, 'gamma': 0.0013704767406605852, 'max_depth': 20, 'min_child_weight': 0.9929112832432382, 'subsample': 0.7158410457863126, 'reg_lambda': 844.0690878266743, 'reg_alpha': 82.48236062836267}. Best is trial 75 with value: -2.6124805401401754.\u001b[0m\n"
     ]
    },
    {
     "name": "stdout",
     "output_type": "stream",
     "text": [
      "[-2.37778061 -2.54350698 -2.86564657 -2.80763997 -3.35831206]\n"
     ]
    },
    {
     "name": "stderr",
     "output_type": "stream",
     "text": [
      "\u001b[32m[I 2021-05-08 12:07:03,259]\u001b[0m Trial 78 finished with value: -2.6550679176530716 and parameters: {'eta': 0.9548666607417617, 'gamma': 0.001315838785113407, 'max_depth': 20, 'min_child_weight': 0.3464023689297571, 'subsample': 0.6874821284600706, 'reg_lambda': 854.0013388234399, 'reg_alpha': 22.583607290261234}. Best is trial 75 with value: -2.6124805401401754.\u001b[0m\n"
     ]
    },
    {
     "name": "stdout",
     "output_type": "stream",
     "text": [
      "[-2.16279656 -2.49351408 -2.71111699 -2.58775508 -3.32015687]\n"
     ]
    },
    {
     "name": "stderr",
     "output_type": "stream",
     "text": [
      "\u001b[32m[I 2021-05-08 12:07:04,195]\u001b[0m Trial 79 finished with value: -2.513654494738873 and parameters: {'eta': 0.9593790131777249, 'gamma': 0.0007849186130824854, 'max_depth': 18, 'min_child_weight': 0.9461486232752649, 'subsample': 0.6873439941261194, 'reg_lambda': 853.4056209465946, 'reg_alpha': 0.6121364905931017}. Best is trial 79 with value: -2.513654494738873.\u001b[0m\n"
     ]
    },
    {
     "name": "stdout",
     "output_type": "stream",
     "text": [
      "[-2.10822364 -2.31743211 -2.51918958 -2.42552545 -3.19790169]\n"
     ]
    },
    {
     "name": "stderr",
     "output_type": "stream",
     "text": [
      "\u001b[32m[I 2021-05-08 12:07:05,234]\u001b[0m Trial 80 finished with value: -2.5214696798030243 and parameters: {'eta': 0.97748970894458, 'gamma': 0.00033436230820063005, 'max_depth': 18, 'min_child_weight': 0.5460951745480483, 'subsample': 0.6194461087485011, 'reg_lambda': 861.2598863183323, 'reg_alpha': 1.5793285219723963}. Best is trial 79 with value: -2.513654494738873.\u001b[0m\n"
     ]
    },
    {
     "name": "stdout",
     "output_type": "stream",
     "text": [
      "[-2.04913865 -2.3002106  -2.54035476 -2.42095464 -3.29668974]\n"
     ]
    },
    {
     "name": "stderr",
     "output_type": "stream",
     "text": [
      "\u001b[32m[I 2021-05-08 12:07:06,086]\u001b[0m Trial 81 finished with value: -2.57777084122175 and parameters: {'eta': 0.9234434365642011, 'gamma': 0.0004930708306855123, 'max_depth': 18, 'min_child_weight': 0.9753677351094482, 'subsample': 0.6148591063635749, 'reg_lambda': 853.3112751103936, 'reg_alpha': 2.6774939154258277}. Best is trial 79 with value: -2.513654494738873.\u001b[0m\n"
     ]
    },
    {
     "name": "stdout",
     "output_type": "stream",
     "text": [
      "[-2.13954978 -2.34457275 -2.61791632 -2.46714942 -3.31966594]\n"
     ]
    },
    {
     "name": "stderr",
     "output_type": "stream",
     "text": [
      "\u001b[32m[I 2021-05-08 12:07:06,885]\u001b[0m Trial 82 finished with value: -2.788369421464426 and parameters: {'eta': 0.6599909625319035, 'gamma': 0.0004956226348637147, 'max_depth': 18, 'min_child_weight': 0.864933858246232, 'subsample': 0.6019112597276847, 'reg_lambda': 858.1322543847004, 'reg_alpha': 22.682585865571497}. Best is trial 79 with value: -2.513654494738873.\u001b[0m\n"
     ]
    },
    {
     "name": "stdout",
     "output_type": "stream",
     "text": [
      "[-2.33552655 -2.49261799 -2.90851624 -2.79503841 -3.41014792]\n"
     ]
    },
    {
     "name": "stderr",
     "output_type": "stream",
     "text": [
      "\u001b[32m[I 2021-05-08 12:07:07,695]\u001b[0m Trial 83 finished with value: -2.531548190022692 and parameters: {'eta': 0.9525243549483753, 'gamma': 0.00035621258666965547, 'max_depth': 18, 'min_child_weight': 0.9344647454806354, 'subsample': 0.628143343750823, 'reg_lambda': 847.990560099133, 'reg_alpha': 5.2305042851144705}. Best is trial 79 with value: -2.513654494738873.\u001b[0m\n"
     ]
    },
    {
     "name": "stdout",
     "output_type": "stream",
     "text": [
      "[-1.98251101 -2.33279533 -2.62210247 -2.46742598 -3.25290617]\n"
     ]
    },
    {
     "name": "stderr",
     "output_type": "stream",
     "text": [
      "\u001b[32m[I 2021-05-08 12:07:08,278]\u001b[0m Trial 84 finished with value: -4.891540884712596 and parameters: {'eta': 0.11304225698172109, 'gamma': 0.00037693010572266157, 'max_depth': 18, 'min_child_weight': 0.9898362351552792, 'subsample': 0.6164248157693434, 'reg_lambda': 855.9510391450947, 'reg_alpha': 19.89701657574244}. Best is trial 79 with value: -2.513654494738873.\u001b[0m\n"
     ]
    },
    {
     "name": "stdout",
     "output_type": "stream",
     "text": [
      "[-4.0649827  -4.906435   -5.1950267  -5.23682824 -5.05443179]\n"
     ]
    },
    {
     "name": "stderr",
     "output_type": "stream",
     "text": [
      "\u001b[32m[I 2021-05-08 12:07:08,591]\u001b[0m Trial 85 finished with value: -21.343244678774 and parameters: {'eta': 1.501793309976292e-06, 'gamma': 0.00011202244538071648, 'max_depth': 19, 'min_child_weight': 0.5302351236814704, 'subsample': 0.6833756317881192, 'reg_lambda': 919.6971036149941, 'reg_alpha': 1.3974626453605499}. Best is trial 79 with value: -2.513654494738873.\u001b[0m\n"
     ]
    },
    {
     "name": "stdout",
     "output_type": "stream",
     "text": [
      "[-20.25369466 -22.21543748 -20.75863603 -21.32407111 -22.16438411]\n"
     ]
    },
    {
     "name": "stderr",
     "output_type": "stream",
     "text": [
      "\u001b[32m[I 2021-05-08 12:07:10,950]\u001b[0m Trial 86 finished with value: -3.020650011792595 and parameters: {'eta': 0.4991565935069265, 'gamma': 0.000790576088498287, 'max_depth': 18, 'min_child_weight': 0.8567041889810971, 'subsample': 0.5706577742278038, 'reg_lambda': 844.6153307028388, 'reg_alpha': 30.333479351214155}. Best is trial 79 with value: -2.513654494738873.\u001b[0m\n"
     ]
    },
    {
     "name": "stdout",
     "output_type": "stream",
     "text": [
      "[-2.46034303 -2.77854612 -3.25453358 -3.0488404  -3.56098694]\n"
     ]
    },
    {
     "name": "stderr",
     "output_type": "stream",
     "text": [
      "\u001b[32m[I 2021-05-08 12:07:12,436]\u001b[0m Trial 87 finished with value: -21.21547492245686 and parameters: {'eta': 0.0003312980313509265, 'gamma': 0.0001785537761123206, 'max_depth': 18, 'min_child_weight': 0.47273794518944295, 'subsample': 0.6280360220845533, 'reg_lambda': 892.2498099503031, 'reg_alpha': 79.03721950151068}. Best is trial 79 with value: -2.513654494738873.\u001b[0m\n"
     ]
    },
    {
     "name": "stdout",
     "output_type": "stream",
     "text": [
      "[-20.12459881 -22.08930225 -20.63014308 -21.19609219 -22.03723828]\n"
     ]
    },
    {
     "name": "stderr",
     "output_type": "stream",
     "text": [
      "\u001b[32m[I 2021-05-08 12:07:13,857]\u001b[0m Trial 88 finished with value: -2.821282571716073 and parameters: {'eta': 0.5301818214339731, 'gamma': 0.0004508747954491474, 'max_depth': 17, 'min_child_weight': 0.3992637302260784, 'subsample': 0.5180161154914857, 'reg_lambda': 771.1640089140227, 'reg_alpha': 0.48501019219080277}. Best is trial 79 with value: -2.513654494738873.\u001b[0m\n"
     ]
    },
    {
     "name": "stdout",
     "output_type": "stream",
     "text": [
      "[-2.30585293 -2.58791498 -2.93408194 -2.84231678 -3.43624624]\n"
     ]
    },
    {
     "name": "stderr",
     "output_type": "stream",
     "text": [
      "\u001b[32m[I 2021-05-08 12:07:17,490]\u001b[0m Trial 89 finished with value: -2.7235359789648173 and parameters: {'eta': 0.9142461971117447, 'gamma': 0.0015359148712365612, 'max_depth': 19, 'min_child_weight': 0.1294760714195519, 'subsample': 0.641735515946516, 'reg_lambda': 939.3464223748528, 'reg_alpha': 41.543743614191094}. Best is trial 79 with value: -2.513654494738873.\u001b[0m\n"
     ]
    },
    {
     "name": "stdout",
     "output_type": "stream",
     "text": [
      "[-2.27308239 -2.46283254 -2.88025292 -2.66112129 -3.34039076]\n"
     ]
    },
    {
     "name": "stderr",
     "output_type": "stream",
     "text": [
      "\u001b[32m[I 2021-05-08 12:07:19,016]\u001b[0m Trial 90 finished with value: -2.9775681879903066 and parameters: {'eta': 0.5284496004471317, 'gamma': 0.0010148264819703626, 'max_depth': 19, 'min_child_weight': 0.1290763241365365, 'subsample': 0.6352198602824446, 'reg_lambda': 941.6770026775093, 'reg_alpha': 33.56565644380916}. Best is trial 79 with value: -2.513654494738873.\u001b[0m\n"
     ]
    },
    {
     "name": "stdout",
     "output_type": "stream",
     "text": [
      "[-2.41967777 -2.73309296 -3.20707679 -3.0390586  -3.48893482]\n"
     ]
    },
    {
     "name": "stderr",
     "output_type": "stream",
     "text": [
      "\u001b[32m[I 2021-05-08 12:07:19,682]\u001b[0m Trial 91 finished with value: -2.821235287071746 and parameters: {'eta': 0.9305808286141726, 'gamma': 0.0013232885383091789, 'max_depth': 19, 'min_child_weight': 0.7532559579527024, 'subsample': 0.6017596031976448, 'reg_lambda': 868.0496845591526, 'reg_alpha': 63.15010841065134}. Best is trial 79 with value: -2.513654494738873.\u001b[0m\n"
     ]
    },
    {
     "name": "stdout",
     "output_type": "stream",
     "text": [
      "[-2.298978   -2.51222561 -3.03844055 -2.83840006 -3.41813222]\n"
     ]
    },
    {
     "name": "stderr",
     "output_type": "stream",
     "text": [
      "\u001b[32m[I 2021-05-08 12:07:20,365]\u001b[0m Trial 92 finished with value: -2.564857245898541 and parameters: {'eta': 0.9200248264471561, 'gamma': 0.001982883505501374, 'max_depth': 20, 'min_child_weight': 0.3689415489442266, 'subsample': 0.6834820716083031, 'reg_lambda': 901.5764960782942, 'reg_alpha': 7.417749408843613}. Best is trial 79 with value: -2.513654494738873.\u001b[0m\n"
     ]
    },
    {
     "name": "stdout",
     "output_type": "stream",
     "text": [
      "[-2.12280482 -2.27251339 -2.59797266 -2.57587465 -3.2551207 ]\n"
     ]
    },
    {
     "name": "stderr",
     "output_type": "stream",
     "text": [
      "\u001b[32m[I 2021-05-08 12:07:20,962]\u001b[0m Trial 93 finished with value: -3.1575781867415817 and parameters: {'eta': 0.41081633304357296, 'gamma': 0.00022496379132333136, 'max_depth': 18, 'min_child_weight': 0.392918076881637, 'subsample': 0.5603439150920133, 'reg_lambda': 908.6751162433497, 'reg_alpha': 5.6021889349272405}. Best is trial 79 with value: -2.513654494738873.\u001b[0m\n"
     ]
    },
    {
     "name": "stdout",
     "output_type": "stream",
     "text": [
      "[-2.67457105 -2.91271015 -3.36657323 -3.17087634 -3.66316015]\n"
     ]
    },
    {
     "name": "stderr",
     "output_type": "stream",
     "text": [
      "\u001b[32m[I 2021-05-08 12:07:21,689]\u001b[0m Trial 94 finished with value: -2.7692957486458765 and parameters: {'eta': 0.6388439923728277, 'gamma': 0.0005558867256364596, 'max_depth': 20, 'min_child_weight': 0.12972731259482959, 'subsample': 0.68455208140418, 'reg_lambda': 934.882961467502, 'reg_alpha': 32.437458749933924}. Best is trial 79 with value: -2.513654494738873.\u001b[0m\n"
     ]
    },
    {
     "name": "stdout",
     "output_type": "stream",
     "text": [
      "[-2.21257594 -2.47612034 -2.93663772 -2.79475346 -3.42639128]\n"
     ]
    },
    {
     "name": "stderr",
     "output_type": "stream",
     "text": [
      "\u001b[32m[I 2021-05-08 12:07:22,109]\u001b[0m Trial 95 finished with value: -4.712551710228861 and parameters: {'eta': 0.124809241605098, 'gamma': 4.215454617307561e-05, 'max_depth': 20, 'min_child_weight': 0.1209257587852204, 'subsample': 0.6758712097800786, 'reg_lambda': 947.7068985443036, 'reg_alpha': 45.11645433215898}. Best is trial 79 with value: -2.513654494738873.\u001b[0m\n"
     ]
    },
    {
     "name": "stdout",
     "output_type": "stream",
     "text": [
      "[-3.91514977 -4.71059359 -5.02137958 -5.07420832 -4.84142728]\n"
     ]
    },
    {
     "name": "stderr",
     "output_type": "stream",
     "text": [
      "\u001b[32m[I 2021-05-08 12:07:22,849]\u001b[0m Trial 96 finished with value: -2.5125609077583126 and parameters: {'eta': 0.9716685224489563, 'gamma': 0.002318688218115121, 'max_depth': 19, 'min_child_weight': 0.04014573609497926, 'subsample': 0.6412505364384439, 'reg_lambda': 888.8461316894941, 'reg_alpha': 0.5981944562825845}. Best is trial 96 with value: -2.5125609077583126.\u001b[0m\n"
     ]
    },
    {
     "name": "stdout",
     "output_type": "stream",
     "text": [
      "[-1.98805697 -2.26580257 -2.60383386 -2.52525264 -3.17985849]\n"
     ]
    },
    {
     "name": "stderr",
     "output_type": "stream",
     "text": [
      "\u001b[32m[I 2021-05-08 12:07:23,348]\u001b[0m Trial 97 finished with value: -3.3662128041526422 and parameters: {'eta': 0.287502311593112, 'gamma': 0.002625359296534185, 'max_depth': 19, 'min_child_weight': 0.046606603227545604, 'subsample': 0.6417683794132268, 'reg_lambda': 749.6479942280691, 'reg_alpha': 68.70123630624423}. Best is trial 96 with value: -2.5125609077583126.\u001b[0m\n"
     ]
    },
    {
     "name": "stdout",
     "output_type": "stream",
     "text": [
      "[-2.74937534 -3.17674059 -3.68820066 -3.3878178  -3.82892963]\n"
     ]
    },
    {
     "name": "stderr",
     "output_type": "stream",
     "text": [
      "\u001b[32m[I 2021-05-08 12:07:24,054]\u001b[0m Trial 98 finished with value: -2.544014864197484 and parameters: {'eta': 0.9988855841962305, 'gamma': 0.002066267611346336, 'max_depth': 17, 'min_child_weight': 0.321218109695991, 'subsample': 0.7474413328783942, 'reg_lambda': 966.8199462794637, 'reg_alpha': 9.288288727093189}. Best is trial 96 with value: -2.5125609077583126.\u001b[0m\n"
     ]
    },
    {
     "name": "stdout",
     "output_type": "stream",
     "text": [
      "[-2.13561347 -2.2644496  -2.58606088 -2.44320621 -3.29074416]\n"
     ]
    },
    {
     "name": "stderr",
     "output_type": "stream",
     "text": [
      "\u001b[32m[I 2021-05-08 12:07:24,869]\u001b[0m Trial 99 finished with value: -2.5207147634176565 and parameters: {'eta': 0.9978288658594023, 'gamma': 0.00013192413194849147, 'max_depth': 17, 'min_child_weight': 0.32257312120227677, 'subsample': 0.7595753053653185, 'reg_lambda': 902.80774555905, 'reg_alpha': 4.756918896449132}. Best is trial 96 with value: -2.5125609077583126.\u001b[0m\n"
     ]
    },
    {
     "name": "stdout",
     "output_type": "stream",
     "text": [
      "[-2.1378823  -2.26663623 -2.51715706 -2.42601327 -3.25588496]\n"
     ]
    },
    {
     "name": "stderr",
     "output_type": "stream",
     "text": [
      "\u001b[32m[I 2021-05-08 12:07:25,561]\u001b[0m Trial 100 finished with value: -2.908268938935833 and parameters: {'eta': 0.40433719028389203, 'gamma': 0.0001354918215316777, 'max_depth': 17, 'min_child_weight': 0.5652440258254708, 'subsample': 0.7526577189922734, 'reg_lambda': 880.9288435066118, 'reg_alpha': 8.01479685904144}. Best is trial 96 with value: -2.5125609077583126.\u001b[0m\n"
     ]
    },
    {
     "name": "stdout",
     "output_type": "stream",
     "text": [
      "[-2.3312201  -2.65717189 -3.09414612 -2.91201901 -3.54678757]\n"
     ]
    },
    {
     "name": "stderr",
     "output_type": "stream",
     "text": [
      "\u001b[32m[I 2021-05-08 12:07:26,452]\u001b[0m Trial 101 finished with value: -2.6953689375689 and parameters: {'eta': 0.6074619841176158, 'gamma': 0.002375297507144247, 'max_depth': 17, 'min_child_weight': 0.2976141416377391, 'subsample': 0.7900061412266612, 'reg_lambda': 905.7545252153119, 'reg_alpha': 16.884387882065752}. Best is trial 96 with value: -2.5125609077583126.\u001b[0m\n"
     ]
    },
    {
     "name": "stdout",
     "output_type": "stream",
     "text": [
      "[-2.19182973 -2.43826072 -2.76497087 -2.74236827 -3.3394151 ]\n"
     ]
    },
    {
     "name": "stderr",
     "output_type": "stream",
     "text": [
      "\u001b[32m[I 2021-05-08 12:07:27,104]\u001b[0m Trial 102 finished with value: -3.215027801978736 and parameters: {'eta': 0.36521324113552633, 'gamma': 6.491886753701275e-05, 'max_depth': 18, 'min_child_weight': 0.3465315100669486, 'subsample': 0.5817462196968182, 'reg_lambda': 882.066585887366, 'reg_alpha': 4.500072427034453}. Best is trial 96 with value: -2.5125609077583126.\u001b[0m\n"
     ]
    },
    {
     "name": "stdout",
     "output_type": "stream",
     "text": [
      "[-2.67832699 -2.99225452 -3.4693579  -3.18626061 -3.748939  ]\n"
     ]
    },
    {
     "name": "stderr",
     "output_type": "stream",
     "text": [
      "\u001b[32m[I 2021-05-08 12:07:27,848]\u001b[0m Trial 103 finished with value: -2.817015790350643 and parameters: {'eta': 0.8949637668688362, 'gamma': 0.0008290640932403585, 'max_depth': 17, 'min_child_weight': 0.6323366464911254, 'subsample': 0.6992688926425051, 'reg_lambda': 967.3066536666379, 'reg_alpha': 68.97313155930216}. Best is trial 96 with value: -2.5125609077583126.\u001b[0m\n"
     ]
    },
    {
     "name": "stdout",
     "output_type": "stream",
     "text": [
      "[-2.32213144 -2.57295577 -2.95593193 -2.80575695 -3.42830286]\n"
     ]
    },
    {
     "name": "stderr",
     "output_type": "stream",
     "text": [
      "\u001b[32m[I 2021-05-08 12:07:28,370]\u001b[0m Trial 104 finished with value: -3.4914815878632632 and parameters: {'eta': 0.43817072525797485, 'gamma': 0.0003152892382059419, 'max_depth': 19, 'min_child_weight': 0.03230010146736517, 'subsample': 0.6558269887133678, 'reg_lambda': 832.1033724974732, 'reg_alpha': 192.8452529258488}. Best is trial 96 with value: -2.5125609077583126.\u001b[0m\n"
     ]
    },
    {
     "name": "stdout",
     "output_type": "stream",
     "text": [
      "[-2.91654979 -3.31128915 -3.85165928 -3.50546387 -3.87244585]\n"
     ]
    },
    {
     "name": "stderr",
     "output_type": "stream",
     "text": [
      "\u001b[32m[I 2021-05-08 12:07:29,335]\u001b[0m Trial 105 finished with value: -3.312775524180613 and parameters: {'eta': 0.3035104711028053, 'gamma': 0.00208500842578499, 'max_depth': 18, 'min_child_weight': 0.18394953640130246, 'subsample': 0.7867878745190406, 'reg_lambda': 829.6450026167046, 'reg_alpha': 99.04040341196281}. Best is trial 96 with value: -2.5125609077583126.\u001b[0m\n"
     ]
    },
    {
     "name": "stdout",
     "output_type": "stream",
     "text": [
      "[-2.76237156 -3.07496696 -3.62872985 -3.29728983 -3.80051943]\n"
     ]
    },
    {
     "name": "stderr",
     "output_type": "stream",
     "text": [
      "\u001b[32m[I 2021-05-08 12:07:30,222]\u001b[0m Trial 106 finished with value: -3.8093600888193384 and parameters: {'eta': 0.15548021616528937, 'gamma': 0.006927298803383367, 'max_depth': 19, 'min_child_weight': 0.09337358522528985, 'subsample': 0.7469903674348789, 'reg_lambda': 790.4147983626294, 'reg_alpha': 27.62855351389512}. Best is trial 96 with value: -2.5125609077583126.\u001b[0m\n"
     ]
    },
    {
     "name": "stdout",
     "output_type": "stream",
     "text": [
      "[-3.06817571 -3.71834688 -4.22269769 -4.04394382 -3.99363634]\n"
     ]
    },
    {
     "name": "stderr",
     "output_type": "stream",
     "text": [
      "\u001b[32m[I 2021-05-08 12:07:30,651]\u001b[0m Trial 107 finished with value: -21.324793536462902 and parameters: {'eta': 6.0541246751414984e-05, 'gamma': 0.0006878363134270527, 'max_depth': 18, 'min_child_weight': 0.6637472332578717, 'subsample': 0.5333390125728708, 'reg_lambda': 996.3233075942602, 'reg_alpha': 1.5263971670008383}. Best is trial 96 with value: -2.5125609077583126.\u001b[0m\n"
     ]
    },
    {
     "name": "stdout",
     "output_type": "stream",
     "text": [
      "[-20.23505039 -22.19721396 -20.74009243 -21.30561316 -22.14599774]\n"
     ]
    },
    {
     "name": "stderr",
     "output_type": "stream",
     "text": [
      "\u001b[32m[I 2021-05-08 12:07:32,274]\u001b[0m Trial 108 finished with value: -2.571065721447085 and parameters: {'eta': 0.710060784404325, 'gamma': 0.0002632118110103215, 'max_depth': 17, 'min_child_weight': 0.06225632335666232, 'subsample': 0.7710614553723403, 'reg_lambda': 907.398870494504, 'reg_alpha': 0.8431824133602817}. Best is trial 96 with value: -2.5125609077583126.\u001b[0m\n"
     ]
    },
    {
     "name": "stdout",
     "output_type": "stream",
     "text": [
      "[-2.1015288  -2.26855161 -2.54421443 -2.61462698 -3.32640679]\n"
     ]
    },
    {
     "name": "stderr",
     "output_type": "stream",
     "text": [
      "\u001b[32m[I 2021-05-08 12:07:32,612]\u001b[0m Trial 109 finished with value: -4.881218836236883 and parameters: {'eta': 0.6463195261085048, 'gamma': 0.00025658186829559144, 'max_depth': 17, 'min_child_weight': 0.019906247684528654, 'subsample': 0.7616276636937452, 'reg_lambda': 896.9792340762598, 'reg_alpha': 905.3480721302298}. Best is trial 96 with value: -2.5125609077583126.\u001b[0m\n"
     ]
    },
    {
     "name": "stdout",
     "output_type": "stream",
     "text": [
      "[-4.10286265 -4.8397137  -5.22575465 -5.27264346 -4.96511973]\n"
     ]
    },
    {
     "name": "stderr",
     "output_type": "stream",
     "text": [
      "\u001b[32m[I 2021-05-08 12:07:33,240]\u001b[0m Trial 110 finished with value: -2.6553732035895923 and parameters: {'eta': 0.9945866940209812, 'gamma': 0.0001365505068980223, 'max_depth': 20, 'min_child_weight': 0.07469683240836641, 'subsample': 0.689815843393451, 'reg_lambda': 978.9934743082079, 'reg_alpha': 43.70406299112413}. Best is trial 96 with value: -2.5125609077583126.\u001b[0m\n"
     ]
    },
    {
     "name": "stdout",
     "output_type": "stream",
     "text": [
      "[-2.11891322 -2.47876834 -2.67342695 -2.69284992 -3.31290759]\n"
     ]
    },
    {
     "name": "stderr",
     "output_type": "stream",
     "text": [
      "\u001b[32m[I 2021-05-08 12:07:33,928]\u001b[0m Trial 111 finished with value: -2.513711535135905 and parameters: {'eta': 0.972283206013145, 'gamma': 0.00016341836422314912, 'max_depth': 20, 'min_child_weight': 0.06993991995297871, 'subsample': 0.680179450315771, 'reg_lambda': 922.5003513370172, 'reg_alpha': 1.669017423698214}. Best is trial 96 with value: -2.5125609077583126.\u001b[0m\n"
     ]
    },
    {
     "name": "stdout",
     "output_type": "stream",
     "text": [
      "[-2.04776555 -2.31279234 -2.56881401 -2.49177014 -3.14741564]\n"
     ]
    },
    {
     "name": "stderr",
     "output_type": "stream",
     "text": [
      "\u001b[32m[I 2021-05-08 12:07:34,465]\u001b[0m Trial 112 finished with value: -3.469092537862283 and parameters: {'eta': 0.24762518298108907, 'gamma': 8.724060138901043e-05, 'max_depth': 17, 'min_child_weight': 0.05698979398069433, 'subsample': 0.6653868540324723, 'reg_lambda': 927.2189974040574, 'reg_alpha': 0.7102977946509625}. Best is trial 96 with value: -2.5125609077583126.\u001b[0m\n"
     ]
    },
    {
     "name": "stdout",
     "output_type": "stream",
     "text": [
      "[-2.86135106 -3.28591448 -3.80522694 -3.57647634 -3.81649387]\n"
     ]
    },
    {
     "name": "stderr",
     "output_type": "stream",
     "text": [
      "\u001b[32m[I 2021-05-08 12:07:34,968]\u001b[0m Trial 113 finished with value: -2.90499265307556 and parameters: {'eta': 0.7089962626345894, 'gamma': 4.061259022120572e-05, 'max_depth': 16, 'min_child_weight': 0.03744503131091165, 'subsample': 0.6214052370107913, 'reg_lambda': 867.8046896436362, 'reg_alpha': 82.12743642016827}. Best is trial 96 with value: -2.5125609077583126.\u001b[0m\n"
     ]
    },
    {
     "name": "stdout",
     "output_type": "stream",
     "text": [
      "[-2.34780363 -2.6227117  -3.12984009 -2.9216925  -3.50291534]\n"
     ]
    },
    {
     "name": "stderr",
     "output_type": "stream",
     "text": [
      "\u001b[32m[I 2021-05-08 12:07:35,553]\u001b[0m Trial 114 finished with value: -2.950791851349819 and parameters: {'eta': 0.435211426185601, 'gamma': 0.0010748339683892662, 'max_depth': 19, 'min_child_weight': 0.36155560926299357, 'subsample': 0.733733729583393, 'reg_lambda': 914.4142695826245, 'reg_alpha': 20.822403955908335}. Best is trial 96 with value: -2.5125609077583126.\u001b[0m\n"
     ]
    },
    {
     "name": "stdout",
     "output_type": "stream",
     "text": [
      "[-2.39033531 -2.73700232 -3.13954511 -2.96544021 -3.5216363 ]\n"
     ]
    },
    {
     "name": "stderr",
     "output_type": "stream",
     "text": [
      "\u001b[32m[I 2021-05-08 12:07:36,231]\u001b[0m Trial 115 finished with value: -3.0668881296581696 and parameters: {'eta': 0.29068402613298294, 'gamma': 0.0004011341398780759, 'max_depth': 20, 'min_child_weight': 0.020726912591144057, 'subsample': 0.8060083218181576, 'reg_lambda': 833.1836800383549, 'reg_alpha': 1.7817764745969908}. Best is trial 96 with value: -2.5125609077583126.\u001b[0m\n"
     ]
    },
    {
     "name": "stdout",
     "output_type": "stream",
     "text": [
      "[-2.49494545 -2.82888693 -3.31072478 -3.0064934  -3.6933901 ]\n"
     ]
    },
    {
     "name": "stderr",
     "output_type": "stream",
     "text": [
      "\u001b[32m[I 2021-05-08 12:07:37,442]\u001b[0m Trial 116 finished with value: -2.671172783109877 and parameters: {'eta': 0.9864718352093431, 'gamma': 0.00018845617616887906, 'max_depth': 20, 'min_child_weight': 0.9679670959907736, 'subsample': 0.6979502983796005, 'reg_lambda': 881.0300396522471, 'reg_alpha': 47.854935532216764}. Best is trial 96 with value: -2.5125609077583126.\u001b[0m\n"
     ]
    },
    {
     "name": "stdout",
     "output_type": "stream",
     "text": [
      "[-2.20774466 -2.49549343 -2.70178317 -2.62025102 -3.33059163]\n"
     ]
    },
    {
     "name": "stderr",
     "output_type": "stream",
     "text": [
      "\u001b[32m[I 2021-05-08 12:07:37,934]\u001b[0m Trial 117 finished with value: -2.999327619688011 and parameters: {'eta': 0.6943358177507716, 'gamma': 0.0005834377960586613, 'max_depth': 16, 'min_child_weight': 0.1566352063131414, 'subsample': 0.669369639952413, 'reg_lambda': 960.8876384932132, 'reg_alpha': 107.08536617339576}. Best is trial 96 with value: -2.5125609077583126.\u001b[0m\n"
     ]
    },
    {
     "name": "stdout",
     "output_type": "stream",
     "text": [
      "[-2.42968231 -2.67263206 -3.26564235 -3.07317271 -3.55550866]\n"
     ]
    },
    {
     "name": "stderr",
     "output_type": "stream",
     "text": [
      "\u001b[32m[I 2021-05-08 12:07:38,598]\u001b[0m Trial 118 finished with value: -2.6884219872509996 and parameters: {'eta': 0.999591624490323, 'gamma': 0.00030395913326274656, 'max_depth': 18, 'min_child_weight': 0.48531948949688297, 'subsample': 0.7597318085845582, 'reg_lambda': 850.0692895175644, 'reg_alpha': 65.33765489687053}. Best is trial 96 with value: -2.5125609077583126.\u001b[0m\n"
     ]
    },
    {
     "name": "stdout",
     "output_type": "stream",
     "text": [
      "[-2.18415921 -2.48995004 -2.73631861 -2.65921975 -3.37246232]\n"
     ]
    },
    {
     "name": "stderr",
     "output_type": "stream",
     "text": [
      "\u001b[32m[I 2021-05-08 12:07:39,178]\u001b[0m Trial 119 finished with value: -3.0602163065333428 and parameters: {'eta': 0.4589891129680422, 'gamma': 0.0009519492531016545, 'max_depth': 19, 'min_child_weight': 0.09565983649002564, 'subsample': 0.6026851419587208, 'reg_lambda': 900.1163348807527, 'reg_alpha': 24.85827629352825}. Best is trial 96 with value: -2.5125609077583126.\u001b[0m\n"
     ]
    },
    {
     "name": "stdout",
     "output_type": "stream",
     "text": [
      "[-2.48834154 -2.82094689 -3.31092961 -3.04071533 -3.64014817]\n"
     ]
    },
    {
     "name": "stderr",
     "output_type": "stream",
     "text": [
      "\u001b[32m[I 2021-05-08 12:07:39,591]\u001b[0m Trial 120 finished with value: -4.716228509520307 and parameters: {'eta': 0.09537068150237699, 'gamma': 0.0017008318591839192, 'max_depth': 17, 'min_child_weight': 0.3139576165406421, 'subsample': 0.7353316087448447, 'reg_lambda': 783.8864277704521, 'reg_alpha': 1.2892319723649965}. Best is trial 96 with value: -2.5125609077583126.\u001b[0m\n"
     ]
    },
    {
     "name": "stdout",
     "output_type": "stream",
     "text": [
      "[-3.94496082 -4.71843617 -4.9396954  -5.07694317 -4.90110699]\n"
     ]
    },
    {
     "name": "stderr",
     "output_type": "stream",
     "text": [
      "\u001b[32m[I 2021-05-08 12:07:40,189]\u001b[0m Trial 121 finished with value: -2.649626944112189 and parameters: {'eta': 0.9913652578790664, 'gamma': 0.00012591737522178137, 'max_depth': 20, 'min_child_weight': 0.0630386613171335, 'subsample': 0.6929771213760402, 'reg_lambda': 983.9954755056235, 'reg_alpha': 43.051528450929965}. Best is trial 96 with value: -2.5125609077583126.\u001b[0m\n"
     ]
    },
    {
     "name": "stdout",
     "output_type": "stream",
     "text": [
      "[-2.12928111 -2.37550934 -2.75375113 -2.66721809 -3.32237504]\n"
     ]
    },
    {
     "name": "stderr",
     "output_type": "stream",
     "text": [
      "\u001b[32m[I 2021-05-08 12:07:40,745]\u001b[0m Trial 122 finished with value: -2.6859498756785456 and parameters: {'eta': 0.9843750234615871, 'gamma': 6.9951203006177e-05, 'max_depth': 20, 'min_child_weight': 0.25145880835215534, 'subsample': 0.6509684561553158, 'reg_lambda': 987.3572922676243, 'reg_alpha': 38.947009436151745}. Best is trial 96 with value: -2.5125609077583126.\u001b[0m\n"
     ]
    },
    {
     "name": "stdout",
     "output_type": "stream",
     "text": [
      "[-2.19410208 -2.40361293 -2.8347437  -2.70008187 -3.29720881]\n"
     ]
    },
    {
     "name": "stderr",
     "output_type": "stream",
     "text": [
      "\u001b[32m[I 2021-05-08 12:07:41,395]\u001b[0m Trial 123 finished with value: -2.6955649287494614 and parameters: {'eta': 0.614151399748835, 'gamma': 2.5780323571040123e-05, 'max_depth': 19, 'min_child_weight': 0.6655041079202044, 'subsample': 0.7007002418438186, 'reg_lambda': 923.9731898748545, 'reg_alpha': 1.962045275463936}. Best is trial 96 with value: -2.5125609077583126.\u001b[0m\n"
     ]
    },
    {
     "name": "stdout",
     "output_type": "stream",
     "text": [
      "[-2.18303087 -2.43115236 -2.76819868 -2.71939852 -3.37604422]\n"
     ]
    },
    {
     "name": "stderr",
     "output_type": "stream",
     "text": [
      "\u001b[32m[I 2021-05-08 12:07:41,769]\u001b[0m Trial 124 finished with value: -3.9451269752361156 and parameters: {'eta': 0.17338652170570187, 'gamma': 0.00015627869243104928, 'max_depth': 18, 'min_child_weight': 0.07216774826593944, 'subsample': 0.7741824022789162, 'reg_lambda': 951.3076287974792, 'reg_alpha': 85.94742183765607}. Best is trial 96 with value: -2.5125609077583126.\u001b[0m\n"
     ]
    },
    {
     "name": "stdout",
     "output_type": "stream",
     "text": [
      "[-3.20900005 -3.87876648 -4.34762919 -4.25300829 -4.03723086]\n"
     ]
    },
    {
     "name": "stderr",
     "output_type": "stream",
     "text": [
      "\u001b[32m[I 2021-05-08 12:07:42,348]\u001b[0m Trial 125 finished with value: -3.3471272241922074 and parameters: {'eta': 0.32656840123332126, 'gamma': 0.00027467326410675303, 'max_depth': 20, 'min_child_weight': 0.4396540220612233, 'subsample': 0.6291540380296181, 'reg_lambda': 869.8506755288213, 'reg_alpha': 54.45698409569776}. Best is trial 96 with value: -2.5125609077583126.\u001b[0m\n"
     ]
    },
    {
     "name": "stdout",
     "output_type": "stream",
     "text": [
      "[-2.71882183 -3.18205234 -3.67623984 -3.35040207 -3.80812004]\n"
     ]
    },
    {
     "name": "stderr",
     "output_type": "stream",
     "text": [
      "\u001b[32m[I 2021-05-08 12:07:43,404]\u001b[0m Trial 126 finished with value: -2.612015084896558 and parameters: {'eta': 0.9879572256564737, 'gamma': 9.863707606356996e-05, 'max_depth': 19, 'min_child_weight': 0.015451983916958546, 'subsample': 0.6646765044104834, 'reg_lambda': 897.1285163636436, 'reg_alpha': 21.171416340688957}. Best is trial 96 with value: -2.5125609077583126.\u001b[0m\n"
     ]
    },
    {
     "name": "stdout",
     "output_type": "stream",
     "text": [
      "[-2.19140086 -2.37006449 -2.67263847 -2.5617238  -3.26424781]\n"
     ]
    },
    {
     "name": "stderr",
     "output_type": "stream",
     "text": [
      "\u001b[32m[I 2021-05-08 12:07:44,127]\u001b[0m Trial 127 finished with value: -2.9108539223847565 and parameters: {'eta': 0.5138375514410078, 'gamma': 0.00011548962390643248, 'max_depth': 19, 'min_child_weight': 0.026451834529637407, 'subsample': 0.5783143982459098, 'reg_lambda': 818.0431718499469, 'reg_alpha': 18.368580137726116}. Best is trial 96 with value: -2.5125609077583126.\u001b[0m\n"
     ]
    },
    {
     "name": "stdout",
     "output_type": "stream",
     "text": [
      "[-2.34520955 -2.6741861  -3.09092176 -2.97246571 -3.47148649]\n"
     ]
    },
    {
     "name": "stderr",
     "output_type": "stream",
     "text": [
      "\u001b[32m[I 2021-05-08 12:07:44,917]\u001b[0m Trial 128 finished with value: -2.8443684245097787 and parameters: {'eta': 0.6733460775957237, 'gamma': 2.8418553278751327e-05, 'max_depth': 18, 'min_child_weight': 0.05654532616607711, 'subsample': 0.673521786644947, 'reg_lambda': 999.0431129362655, 'reg_alpha': 42.09940585041221}. Best is trial 96 with value: -2.5125609077583126.\u001b[0m\n"
     ]
    },
    {
     "name": "stdout",
     "output_type": "stream",
     "text": [
      "[-2.33445594 -2.58393579 -3.05042268 -2.83072188 -3.42230584]\n"
     ]
    },
    {
     "name": "stderr",
     "output_type": "stream",
     "text": [
      "\u001b[32m[I 2021-05-08 12:07:45,523]\u001b[0m Trial 129 finished with value: -3.6593610603897657 and parameters: {'eta': 0.2330644172254846, 'gamma': 9.929044243245587e-05, 'max_depth': 17, 'min_child_weight': 0.014416526038561783, 'subsample': 0.73053910256809, 'reg_lambda': 972.1442253811467, 'reg_alpha': 72.60977933842243}. Best is trial 96 with value: -2.5125609077583126.\u001b[0m\n"
     ]
    },
    {
     "name": "stdout",
     "output_type": "stream",
     "text": [
      "[-2.97602074 -3.51356668 -4.06482234 -3.80350755 -3.938888  ]\n"
     ]
    },
    {
     "name": "stderr",
     "output_type": "stream",
     "text": [
      "\u001b[32m[I 2021-05-08 12:07:46,489]\u001b[0m Trial 130 finished with value: -2.8946532300313317 and parameters: {'eta': 0.965735113281495, 'gamma': 0.00048404737677634887, 'max_depth': 19, 'min_child_weight': 0.03715578991107267, 'subsample': 0.6503192159357842, 'reg_lambda': 891.4439480329909, 'reg_alpha': 99.88179018529424}. Best is trial 96 with value: -2.5125609077583126.\u001b[0m\n"
     ]
    },
    {
     "name": "stdout",
     "output_type": "stream",
     "text": [
      "[-2.42246372 -2.55915089 -3.08879566 -2.98711009 -3.41574579]\n"
     ]
    },
    {
     "name": "stderr",
     "output_type": "stream",
     "text": [
      "\u001b[32m[I 2021-05-08 12:07:47,188]\u001b[0m Trial 131 finished with value: -2.532051032655033 and parameters: {'eta': 0.9811804336061494, 'gamma': 0.000208495719214267, 'max_depth': 20, 'min_child_weight': 0.18225962023738582, 'subsample': 0.6107820335215605, 'reg_lambda': 858.1975071991216, 'reg_alpha': 2.3055662579718454}. Best is trial 96 with value: -2.5125609077583126.\u001b[0m\n"
     ]
    },
    {
     "name": "stdout",
     "output_type": "stream",
     "text": [
      "[-2.03443742 -2.32475104 -2.62251908 -2.45046844 -3.22807919]\n"
     ]
    },
    {
     "name": "stderr",
     "output_type": "stream",
     "text": [
      "\u001b[32m[I 2021-05-08 12:07:48,005]\u001b[0m Trial 132 finished with value: -3.0377536633573934 and parameters: {'eta': 0.47284481814611595, 'gamma': 0.00020209756286225253, 'max_depth': 19, 'min_child_weight': 0.16452312043312725, 'subsample': 0.551354854148087, 'reg_lambda': 915.7676077636836, 'reg_alpha': 0.800821426611732}. Best is trial 96 with value: -2.5125609077583126.\u001b[0m\n"
     ]
    },
    {
     "name": "stdout",
     "output_type": "stream",
     "text": [
      "[-2.52407731 -2.74672707 -3.26691024 -3.05023253 -3.60082116]\n"
     ]
    },
    {
     "name": "stderr",
     "output_type": "stream",
     "text": [
      "\u001b[32m[I 2021-05-08 12:07:49,073]\u001b[0m Trial 133 finished with value: -2.7009435396488803 and parameters: {'eta': 0.7065386445546806, 'gamma': 5.067320680871039e-05, 'max_depth': 18, 'min_child_weight': 0.10695183714178016, 'subsample': 0.6118698170981102, 'reg_lambda': 870.4284509051702, 'reg_alpha': 0.47643564883697764}. Best is trial 96 with value: -2.5125609077583126.\u001b[0m\n"
     ]
    },
    {
     "name": "stdout",
     "output_type": "stream",
     "text": [
      "[-2.19268055 -2.4161178  -2.77705166 -2.67613499 -3.44273269]\n"
     ]
    },
    {
     "name": "stderr",
     "output_type": "stream",
     "text": [
      "\u001b[32m[I 2021-05-08 12:07:49,791]\u001b[0m Trial 134 finished with value: -3.2817364751556775 and parameters: {'eta': 0.35284994493566496, 'gamma': 0.00034188835236487056, 'max_depth': 20, 'min_child_weight': 0.2165608419037221, 'subsample': 0.6343297022153536, 'reg_lambda': 934.9026022346211, 'reg_alpha': 30.66891491149997}. Best is trial 96 with value: -2.5125609077583126.\u001b[0m\n"
     ]
    },
    {
     "name": "stdout",
     "output_type": "stream",
     "text": [
      "[-2.75273721 -3.08433654 -3.53575605 -3.26299787 -3.77285471]\n"
     ]
    },
    {
     "name": "stderr",
     "output_type": "stream",
     "text": [
      "\u001b[32m[I 2021-05-08 12:07:50,581]\u001b[0m Trial 135 finished with value: -2.690064036928577 and parameters: {'eta': 0.9888752064434007, 'gamma': 0.0006095283835213745, 'max_depth': 19, 'min_child_weight': 0.9549797828588956, 'subsample': 0.705387269678651, 'reg_lambda': 842.1062954431125, 'reg_alpha': 56.034012210506326}. Best is trial 96 with value: -2.5125609077583126.\u001b[0m\n"
     ]
    },
    {
     "name": "stdout",
     "output_type": "stream",
     "text": [
      "[-2.23513511 -2.41614488 -2.77634198 -2.7064997  -3.31619851]\n"
     ]
    },
    {
     "name": "stderr",
     "output_type": "stream",
     "text": [
      "\u001b[32m[I 2021-05-08 12:07:51,310]\u001b[0m Trial 136 finished with value: -2.7624706053086268 and parameters: {'eta': 0.7158204346296523, 'gamma': 7.816733156606497e-05, 'max_depth': 18, 'min_child_weight': 0.06969308702530974, 'subsample': 0.5930260740078853, 'reg_lambda': 900.4487654928035, 'reg_alpha': 18.565978459241432}. Best is trial 96 with value: -2.5125609077583126.\u001b[0m\n"
     ]
    },
    {
     "name": "stdout",
     "output_type": "stream",
     "text": [
      "[-2.3077058  -2.42177542 -2.88842981 -2.76858058 -3.42586142]\n"
     ]
    },
    {
     "name": "stderr",
     "output_type": "stream",
     "text": [
      "\u001b[32m[I 2021-05-08 12:07:51,600]\u001b[0m Trial 137 finished with value: -21.343829042711377 and parameters: {'eta': 9.02937244667342e-08, 'gamma': 0.00021941143972954515, 'max_depth': 17, 'min_child_weight': 0.04697362394353829, 'subsample': 0.6649719159032716, 'reg_lambda': 952.0883217328576, 'reg_alpha': 37.68032980388146}. Best is trial 96 with value: -2.5125609077583126.\u001b[0m\n"
     ]
    },
    {
     "name": "stdout",
     "output_type": "stream",
     "text": [
      "[-20.25428546 -22.21601469 -20.75922391 -21.32465613 -22.16496501]\n"
     ]
    },
    {
     "name": "stderr",
     "output_type": "stream",
     "text": [
      "\u001b[32m[I 2021-05-08 12:07:52,238]\u001b[0m Trial 138 finished with value: -3.11641065795922 and parameters: {'eta': 0.4763911282663056, 'gamma': 0.002311141260996286, 'max_depth': 20, 'min_child_weight': 0.15294617402058422, 'subsample': 0.4700383019023461, 'reg_lambda': 882.480867831756, 'reg_alpha': 3.2116117987649835}. Best is trial 96 with value: -2.5125609077583126.\u001b[0m\n"
     ]
    },
    {
     "name": "stdout",
     "output_type": "stream",
     "text": [
      "[-2.56203823 -2.95263103 -3.34104816 -3.1249426  -3.60139326]\n"
     ]
    },
    {
     "name": "stderr",
     "output_type": "stream",
     "text": [
      "\u001b[32m[I 2021-05-08 12:07:53,024]\u001b[0m Trial 139 finished with value: -2.6906010973777303 and parameters: {'eta': 0.99775726102625, 'gamma': 0.0008278212201178159, 'max_depth': 16, 'min_child_weight': 0.5978619358376215, 'subsample': 0.7241697959640686, 'reg_lambda': 824.6866723856721, 'reg_alpha': 60.398798464159924}. Best is trial 96 with value: -2.5125609077583126.\u001b[0m\n"
     ]
    },
    {
     "name": "stdout",
     "output_type": "stream",
     "text": [
      "[-2.24814462 -2.46458304 -2.77650945 -2.64764605 -3.31612234]\n"
     ]
    },
    {
     "name": "stderr",
     "output_type": "stream",
     "text": [
      "\u001b[32m[I 2021-05-08 12:07:54,126]\u001b[0m Trial 140 finished with value: -3.327405623747979 and parameters: {'eta': 0.2876217363381711, 'gamma': 1.0940732876824537e-05, 'max_depth': 19, 'min_child_weight': 0.2443938230368343, 'subsample': 0.6788888523496183, 'reg_lambda': 912.818109235784, 'reg_alpha': 19.514783336220418}. Best is trial 96 with value: -2.5125609077583126.\u001b[0m\n"
     ]
    },
    {
     "name": "stdout",
     "output_type": "stream",
     "text": [
      "[-2.79742094 -3.09590514 -3.62181975 -3.35110933 -3.77077296]\n"
     ]
    },
    {
     "name": "stderr",
     "output_type": "stream",
     "text": [
      "\u001b[32m[I 2021-05-08 12:07:54,852]\u001b[0m Trial 141 finished with value: -2.6790952916321933 and parameters: {'eta': 0.7156491547829672, 'gamma': 0.0012283947591905503, 'max_depth': 20, 'min_child_weight': 0.3914674308560878, 'subsample': 0.6942145675336732, 'reg_lambda': 843.2401885372407, 'reg_alpha': 22.78010122747648}. Best is trial 96 with value: -2.5125609077583126.\u001b[0m\n"
     ]
    },
    {
     "name": "stdout",
     "output_type": "stream",
     "text": [
      "[-2.13384111 -2.41815522 -2.64566938 -2.71478422 -3.48302653]\n"
     ]
    },
    {
     "name": "stderr",
     "output_type": "stream",
     "text": [
      "\u001b[32m[I 2021-05-08 12:07:55,633]\u001b[0m Trial 142 finished with value: -2.487647931428603 and parameters: {'eta': 0.988221901764209, 'gamma': 0.00039052216102239786, 'max_depth': 20, 'min_child_weight': 0.30131967411499727, 'subsample': 0.750568959196895, 'reg_lambda': 861.1020459131887, 'reg_alpha': 0.3407468333960637}. Best is trial 142 with value: -2.487647931428603.\u001b[0m\n"
     ]
    },
    {
     "name": "stdout",
     "output_type": "stream",
     "text": [
      "[-2.14488004 -2.33673543 -2.44922117 -2.38726226 -3.12014077]\n"
     ]
    },
    {
     "name": "stderr",
     "output_type": "stream",
     "text": [
      "\u001b[32m[I 2021-05-08 12:07:56,648]\u001b[0m Trial 143 finished with value: -2.517137389924791 and parameters: {'eta': 0.9657381829094337, 'gamma': 0.0003845433690731313, 'max_depth': 19, 'min_child_weight': 0.09812763431413929, 'subsample': 0.7445892998688299, 'reg_lambda': 865.5567232830335, 'reg_alpha': 0.0325339015686652}. Best is trial 142 with value: -2.487647931428603.\u001b[0m\n"
     ]
    },
    {
     "name": "stdout",
     "output_type": "stream",
     "text": [
      "[-2.14544532 -2.22232453 -2.48124687 -2.48367456 -3.25299567]\n"
     ]
    },
    {
     "name": "stderr",
     "output_type": "stream",
     "text": [
      "\u001b[32m[I 2021-05-08 12:07:57,524]\u001b[0m Trial 144 finished with value: -2.7332232631165305 and parameters: {'eta': 0.4889787325808995, 'gamma': 0.0003842346545004294, 'max_depth': 18, 'min_child_weight': 0.9787992100637112, 'subsample': 0.8121734256125435, 'reg_lambda': 863.1248875589059, 'reg_alpha': 3.7361810450420663}. Best is trial 142 with value: -2.487647931428603.\u001b[0m\n"
     ]
    },
    {
     "name": "stdout",
     "output_type": "stream",
     "text": [
      "[-2.16786784 -2.47056476 -2.77825978 -2.79418996 -3.45523397]\n"
     ]
    },
    {
     "name": "stderr",
     "output_type": "stream",
     "text": [
      "\u001b[32m[I 2021-05-08 12:07:59,108]\u001b[0m Trial 145 finished with value: -2.6418664101259206 and parameters: {'eta': 0.6424508003198447, 'gamma': 0.0005444789088673691, 'max_depth': 19, 'min_child_weight': 0.18447351333227588, 'subsample': 0.7490483211434467, 'reg_lambda': 888.5463136264633, 'reg_alpha': 1.558815578957641}. Best is trial 142 with value: -2.487647931428603.\u001b[0m\n"
     ]
    },
    {
     "name": "stdout",
     "output_type": "stream",
     "text": [
      "[-2.17146048 -2.36212767 -2.64394262 -2.63536316 -3.39643813]\n"
     ]
    },
    {
     "name": "stderr",
     "output_type": "stream",
     "text": [
      "\u001b[32m[I 2021-05-08 12:07:59,983]\u001b[0m Trial 146 finished with value: -3.0871665800471364 and parameters: {'eta': 0.39317764458608206, 'gamma': 0.0002403654283742826, 'max_depth': 17, 'min_child_weight': 0.10442947372491197, 'subsample': 0.7866753226394506, 'reg_lambda': 823.1251022550645, 'reg_alpha': 78.35848671113536}. Best is trial 142 with value: -2.487647931428603.\u001b[0m\n"
     ]
    },
    {
     "name": "stdout",
     "output_type": "stream",
     "text": [
      "[-2.48435939 -2.82597609 -3.33073744 -3.12065791 -3.67410207]\n"
     ]
    },
    {
     "name": "stderr",
     "output_type": "stream",
     "text": [
      "\u001b[32m[I 2021-05-08 12:08:00,579]\u001b[0m Trial 147 finished with value: -3.4662804839993697 and parameters: {'eta': 0.2037555871850559, 'gamma': 0.000700660574538747, 'max_depth': 18, 'min_child_weight': 0.2926107469912547, 'subsample': 0.7705089667157179, 'reg_lambda': 857.5799441425661, 'reg_alpha': 1.5355234371722597}. Best is trial 142 with value: -2.487647931428603.\u001b[0m\n"
     ]
    },
    {
     "name": "stdout",
     "output_type": "stream",
     "text": [
      "[-2.78695372 -3.28080809 -3.82629286 -3.55764961 -3.87969812]\n"
     ]
    },
    {
     "name": "stderr",
     "output_type": "stream",
     "text": [
      "\u001b[32m[I 2021-05-08 12:08:01,616]\u001b[0m Trial 148 finished with value: -2.6442047242176385 and parameters: {'eta': 0.9889495942297243, 'gamma': 0.0003725157568736086, 'max_depth': 19, 'min_child_weight': 0.5081918648915628, 'subsample': 0.7391652337897114, 'reg_lambda': 925.5369042881413, 'reg_alpha': 34.19506593431228}. Best is trial 142 with value: -2.487647931428603.\u001b[0m\n"
     ]
    },
    {
     "name": "stdout",
     "output_type": "stream",
     "text": [
      "[-2.21188881 -2.36446433 -2.7076501  -2.61467845 -3.32234194]\n"
     ]
    },
    {
     "name": "stderr",
     "output_type": "stream",
     "text": [
      "\u001b[32m[I 2021-05-08 12:08:02,202]\u001b[0m Trial 149 finished with value: -2.7778195654256845 and parameters: {'eta': 0.6765889187606375, 'gamma': 0.00015300419037374995, 'max_depth': 17, 'min_child_weight': 0.6641846150050167, 'subsample': 0.7174129990305297, 'reg_lambda': 791.9018141994185, 'reg_alpha': 53.315865221412395}. Best is trial 142 with value: -2.487647931428603.\u001b[0m\n"
     ]
    },
    {
     "name": "stdout",
     "output_type": "stream",
     "text": [
      "[-2.24868562 -2.45179162 -2.89871288 -2.83629136 -3.45361633]\n"
     ]
    },
    {
     "name": "stderr",
     "output_type": "stream",
     "text": [
      "\u001b[32m[I 2021-05-08 12:08:02,437]\u001b[0m Trial 150 finished with value: -20.73608974913609 and parameters: {'eta': 0.0014959111358217327, 'gamma': 0.000968419339076994, 'max_depth': 18, 'min_child_weight': 0.14530666268467907, 'subsample': 0.650717957713103, 'reg_lambda': 874.3200161276593, 'reg_alpha': 22.27837283117769}. Best is trial 142 with value: -2.487647931428603.\u001b[0m\n"
     ]
    },
    {
     "name": "stdout",
     "output_type": "stream",
     "text": [
      "[-19.6402222  -21.61568923 -20.14777521 -20.71609432 -21.56066779]\n"
     ]
    },
    {
     "name": "stderr",
     "output_type": "stream",
     "text": [
      "\u001b[32m[I 2021-05-08 12:08:03,068]\u001b[0m Trial 151 finished with value: -2.699297795030806 and parameters: {'eta': 0.617494498738555, 'gamma': 0.0006020422401100435, 'max_depth': 19, 'min_child_weight': 0.19140282347666648, 'subsample': 0.7561709626497229, 'reg_lambda': 895.0619208043393, 'reg_alpha': 22.85500830625631}. Best is trial 142 with value: -2.487647931428603.\u001b[0m\n"
     ]
    },
    {
     "name": "stdout",
     "output_type": "stream",
     "text": [
      "[-2.10431947 -2.42601029 -2.7613871  -2.76500073 -3.43977138]\n"
     ]
    },
    {
     "name": "stderr",
     "output_type": "stream",
     "text": [
      "\u001b[32m[I 2021-05-08 12:08:03,755]\u001b[0m Trial 152 finished with value: -2.551991446877703 and parameters: {'eta': 0.98043534209518, 'gamma': 0.00194784589211303, 'max_depth': 19, 'min_child_weight': 0.09391624679940289, 'subsample': 0.7514063940844948, 'reg_lambda': 890.8982803499522, 'reg_alpha': 9.796301308821425}. Best is trial 142 with value: -2.487647931428603.\u001b[0m\n"
     ]
    },
    {
     "name": "stdout",
     "output_type": "stream",
     "text": [
      "[-2.17795869 -2.26483435 -2.51573112 -2.52428437 -3.2771487 ]\n"
     ]
    },
    {
     "name": "stderr",
     "output_type": "stream",
     "text": [
      "\u001b[32m[I 2021-05-08 12:08:04,472]\u001b[0m Trial 153 finished with value: -2.5545667420022284 and parameters: {'eta': 0.9889395959906508, 'gamma': 0.0028454855621660546, 'max_depth': 20, 'min_child_weight': 0.09533895476904775, 'subsample': 0.8028576252087499, 'reg_lambda': 844.8143454337874, 'reg_alpha': 6.241117965968661}. Best is trial 142 with value: -2.487647931428603.\u001b[0m\n"
     ]
    },
    {
     "name": "stdout",
     "output_type": "stream",
     "text": [
      "[-2.23501704 -2.21989577 -2.53657912 -2.49155448 -3.2897873 ]\n"
     ]
    },
    {
     "name": "stderr",
     "output_type": "stream",
     "text": [
      "\u001b[32m[I 2021-05-08 12:08:04,704]\u001b[0m Trial 154 finished with value: -21.33711583117497 and parameters: {'eta': 1.3641942699825118e-05, 'gamma': 0.005919773149798718, 'max_depth': 19, 'min_child_weight': 0.03778582067820893, 'subsample': 0.8084235063633871, 'reg_lambda': 863.820256291764, 'reg_alpha': 2.464187826570182}. Best is trial 142 with value: -2.487647931428603.\u001b[0m\n"
     ]
    },
    {
     "name": "stdout",
     "output_type": "stream",
     "text": [
      "[-20.24749798 -22.20937849 -20.75247071 -21.31794006 -22.15829191]\n"
     ]
    },
    {
     "name": "stderr",
     "output_type": "stream",
     "text": [
      "\u001b[32m[I 2021-05-08 12:08:05,518]\u001b[0m Trial 155 finished with value: -2.5274370653364393 and parameters: {'eta': 0.9947842738440221, 'gamma': 0.002096220782462081, 'max_depth': 20, 'min_child_weight': 0.024604255779170123, 'subsample': 0.7787101503179437, 'reg_lambda': 909.5371591872646, 'reg_alpha': 2.80224484476878}. Best is trial 142 with value: -2.487647931428603.\u001b[0m\n"
     ]
    },
    {
     "name": "stdout",
     "output_type": "stream",
     "text": [
      "[-2.19889135 -2.21458045 -2.45466228 -2.41609388 -3.35295737]\n"
     ]
    },
    {
     "name": "stderr",
     "output_type": "stream",
     "text": [
      "\u001b[32m[I 2021-05-08 12:08:06,296]\u001b[0m Trial 156 finished with value: -2.5169562431559145 and parameters: {'eta': 0.9840780894210419, 'gamma': 0.002980788331058985, 'max_depth': 20, 'min_child_weight': 0.09464800130441041, 'subsample': 0.7857890660403822, 'reg_lambda': 940.5523621132746, 'reg_alpha': 0.5446577276085534}. Best is trial 142 with value: -2.487647931428603.\u001b[0m\n"
     ]
    },
    {
     "name": "stdout",
     "output_type": "stream",
     "text": [
      "[-2.15860253 -2.3200376  -2.49314326 -2.35896197 -3.25403585]\n"
     ]
    },
    {
     "name": "stderr",
     "output_type": "stream",
     "text": [
      "\u001b[32m[I 2021-05-08 12:08:07,201]\u001b[0m Trial 157 finished with value: -2.954075921729759 and parameters: {'eta': 0.37864506992935437, 'gamma': 0.003738615298054934, 'max_depth': 20, 'min_child_weight': 0.1027264847491522, 'subsample': 0.7982102875931831, 'reg_lambda': 939.5135729194749, 'reg_alpha': 0.8344940056304206}. Best is trial 142 with value: -2.487647931428603.\u001b[0m\n"
     ]
    },
    {
     "name": "stdout",
     "output_type": "stream",
     "text": [
      "[-2.37224041 -2.75820878 -3.16867245 -2.93341184 -3.53784614]\n"
     ]
    },
    {
     "name": "stderr",
     "output_type": "stream",
     "text": [
      "\u001b[32m[I 2021-05-08 12:08:07,901]\u001b[0m Trial 158 finished with value: -2.8955759881396355 and parameters: {'eta': 0.529081925224108, 'gamma': 0.009817196326463239, 'max_depth': 20, 'min_child_weight': 0.08963316866800164, 'subsample': 0.7804193518718348, 'reg_lambda': 912.6735816672614, 'reg_alpha': 50.88087214441157}. Best is trial 142 with value: -2.487647931428603.\u001b[0m\n"
     ]
    },
    {
     "name": "stdout",
     "output_type": "stream",
     "text": [
      "[-2.31833931 -2.66398178 -3.0649719  -2.97075765 -3.4598293 ]\n"
     ]
    },
    {
     "name": "stderr",
     "output_type": "stream",
     "text": [
      "\u001b[32m[I 2021-05-08 12:08:08,693]\u001b[0m Trial 159 finished with value: -2.523736379958965 and parameters: {'eta': 0.9679805757457589, 'gamma': 0.001981342316625105, 'max_depth': 20, 'min_child_weight': 0.028041358830178487, 'subsample': 0.8206122925863149, 'reg_lambda': 951.1148238730055, 'reg_alpha': 0.5583578575553627}. Best is trial 142 with value: -2.487647931428603.\u001b[0m\n"
     ]
    },
    {
     "name": "stdout",
     "output_type": "stream",
     "text": [
      "[-2.14471341 -2.29517556 -2.44834709 -2.39793876 -3.33250707]\n"
     ]
    },
    {
     "name": "stderr",
     "output_type": "stream",
     "text": [
      "\u001b[32m[I 2021-05-08 12:08:09,531]\u001b[0m Trial 160 finished with value: -2.7401897100990205 and parameters: {'eta': 0.9723998384867734, 'gamma': 0.003107220899020623, 'max_depth': 20, 'min_child_weight': 0.02343360838358192, 'subsample': 0.8255785430510436, 'reg_lambda': 963.8111058362313, 'reg_alpha': 69.83589361950953}. Best is trial 142 with value: -2.487647931428603.\u001b[0m\n"
     ]
    },
    {
     "name": "stdout",
     "output_type": "stream",
     "text": [
      "[-2.24432319 -2.41561023 -2.81773549 -2.75872714 -3.46455251]\n"
     ]
    },
    {
     "name": "stderr",
     "output_type": "stream",
     "text": [
      "\u001b[32m[I 2021-05-08 12:08:10,308]\u001b[0m Trial 161 finished with value: -2.5223665046397548 and parameters: {'eta': 0.9901944261448412, 'gamma': 0.00202494416856509, 'max_depth': 20, 'min_child_weight': 0.05875816469211271, 'subsample': 0.7933737282265789, 'reg_lambda': 929.5225878370529, 'reg_alpha': 0.4483934498064861}. Best is trial 142 with value: -2.487647931428603.\u001b[0m\n"
     ]
    },
    {
     "name": "stdout",
     "output_type": "stream",
     "text": [
      "[-2.10125523 -2.19017322 -2.50497088 -2.40760468 -3.40782851]\n"
     ]
    },
    {
     "name": "stderr",
     "output_type": "stream",
     "text": [
      "\u001b[32m[I 2021-05-08 12:08:11,363]\u001b[0m Trial 162 finished with value: -2.51639819404814 and parameters: {'eta': 0.967256438907802, 'gamma': 0.002325428191421722, 'max_depth': 20, 'min_child_weight': 0.037690113912515984, 'subsample': 0.7951718033127394, 'reg_lambda': 934.474132558911, 'reg_alpha': 0.008799504723500107}. Best is trial 142 with value: -2.487647931428603.\u001b[0m\n"
     ]
    },
    {
     "name": "stdout",
     "output_type": "stream",
     "text": [
      "[-2.14577089 -2.25153    -2.45154488 -2.46736766 -3.26577754]\n"
     ]
    },
    {
     "name": "stderr",
     "output_type": "stream",
     "text": [
      "\u001b[32m[I 2021-05-08 12:08:12,017]\u001b[0m Trial 163 finished with value: -2.905247308719305 and parameters: {'eta': 0.48903768780016693, 'gamma': 0.0019212973006419746, 'max_depth': 20, 'min_child_weight': 0.031159344538386074, 'subsample': 0.8227760494769997, 'reg_lambda': 934.877924242857, 'reg_alpha': 42.18708615186266}. Best is trial 142 with value: -2.487647931428603.\u001b[0m\n"
     ]
    },
    {
     "name": "stdout",
     "output_type": "stream",
     "text": [
      "[-2.35144078 -2.74363628 -3.03431566 -2.90668307 -3.49016076]\n"
     ]
    },
    {
     "name": "stderr",
     "output_type": "stream",
     "text": [
      "\u001b[32m[I 2021-05-08 12:08:12,787]\u001b[0m Trial 164 finished with value: -2.6546446917675164 and parameters: {'eta': 0.9497764791985308, 'gamma': 0.005620388785278141, 'max_depth': 20, 'min_child_weight': 0.04869596709556958, 'subsample': 0.7944030251126933, 'reg_lambda': 946.9025015872196, 'reg_alpha': 33.39751325596968}. Best is trial 142 with value: -2.487647931428603.\u001b[0m\n"
     ]
    },
    {
     "name": "stdout",
     "output_type": "stream",
     "text": [
      "[-2.1706419  -2.40946932 -2.66550678 -2.60264973 -3.42495574]\n"
     ]
    },
    {
     "name": "stderr",
     "output_type": "stream",
     "text": [
      "\u001b[32m[I 2021-05-08 12:08:13,718]\u001b[0m Trial 165 finished with value: -2.5464959050284492 and parameters: {'eta': 0.9980252154814215, 'gamma': 0.0028923974928334534, 'max_depth': 3, 'min_child_weight': 0.03965860194782325, 'subsample': 0.8478140518585628, 'reg_lambda': 968.3503764316472, 'reg_alpha': 2.735323346007174}. Best is trial 142 with value: -2.487647931428603.\u001b[0m\n"
     ]
    },
    {
     "name": "stdout",
     "output_type": "stream",
     "text": [
      "[-2.11284161 -2.28479358 -2.51936468 -2.5099988  -3.30548086]\n"
     ]
    },
    {
     "name": "stderr",
     "output_type": "stream",
     "text": [
      "\u001b[32m[I 2021-05-08 12:08:14,263]\u001b[0m Trial 166 finished with value: -2.526438021100598 and parameters: {'eta': 0.9996587481810408, 'gamma': 0.004407349847712783, 'max_depth': 3, 'min_child_weight': 0.02459922841484774, 'subsample': 0.8582298426670217, 'reg_lambda': 966.1238035417805, 'reg_alpha': 1.856341916672505}. Best is trial 142 with value: -2.487647931428603.\u001b[0m\n"
     ]
    },
    {
     "name": "stdout",
     "output_type": "stream",
     "text": [
      "[-2.07805951 -2.27161505 -2.49013744 -2.46229832 -3.33007978]\n"
     ]
    },
    {
     "name": "stderr",
     "output_type": "stream",
     "text": [
      "\u001b[32m[I 2021-05-08 12:08:14,806]\u001b[0m Trial 167 finished with value: -3.0928938388000295 and parameters: {'eta': 0.30206992256218335, 'gamma': 0.005136030537549532, 'max_depth': 4, 'min_child_weight': 0.017297533321840485, 'subsample': 0.8769418294973952, 'reg_lambda': 968.1327915713883, 'reg_alpha': 0.42328140486997695}. Best is trial 142 with value: -2.487647931428603.\u001b[0m\n"
     ]
    },
    {
     "name": "stdout",
     "output_type": "stream",
     "text": [
      "[-2.45546575 -2.94142413 -3.38263436 -3.04771473 -3.63723022]\n"
     ]
    },
    {
     "name": "stderr",
     "output_type": "stream",
     "text": [
      "\u001b[32m[I 2021-05-08 12:08:15,458]\u001b[0m Trial 168 finished with value: -2.7635267387849316 and parameters: {'eta': 0.6224060642918396, 'gamma': 0.0074355382768208364, 'max_depth': 3, 'min_child_weight': 0.01391384870176917, 'subsample': 0.8388993542139881, 'reg_lambda': 991.238002588246, 'reg_alpha': 34.136060039546585}. Best is trial 142 with value: -2.487647931428603.\u001b[0m\n"
     ]
    },
    {
     "name": "stdout",
     "output_type": "stream",
     "text": [
      "[-2.18793275 -2.53538722 -2.87953795 -2.83079538 -3.3839804 ]\n"
     ]
    },
    {
     "name": "stderr",
     "output_type": "stream",
     "text": [
      "\u001b[32m[I 2021-05-08 12:08:15,827]\u001b[0m Trial 169 finished with value: -2.979295484931381 and parameters: {'eta': 0.3924570790353866, 'gamma': 0.0014568528052260024, 'max_depth': 2, 'min_child_weight': 0.03248481691500894, 'subsample': 0.8996445750235441, 'reg_lambda': 963.9499338499345, 'reg_alpha': 41.21068912195102}. Best is trial 142 with value: -2.487647931428603.\u001b[0m\n"
     ]
    },
    {
     "name": "stdout",
     "output_type": "stream",
     "text": [
      "[-2.34623837 -2.87172867 -3.23579549 -2.98616022 -3.45655468]\n"
     ]
    },
    {
     "name": "stderr",
     "output_type": "stream",
     "text": [
      "\u001b[32m[I 2021-05-08 12:08:16,638]\u001b[0m Trial 170 finished with value: -2.5397347729353257 and parameters: {'eta': 0.7254678831974791, 'gamma': 0.003444915010753672, 'max_depth': 7, 'min_child_weight': 0.006660280547757403, 'subsample': 0.8651224508366093, 'reg_lambda': 930.4577606169236, 'reg_alpha': 0.2257104379756864}. Best is trial 142 with value: -2.487647931428603.\u001b[0m\n"
     ]
    },
    {
     "name": "stdout",
     "output_type": "stream",
     "text": [
      "[-2.12450868 -2.34597431 -2.46372331 -2.44463215 -3.31983543]\n"
     ]
    },
    {
     "name": "stderr",
     "output_type": "stream",
     "text": [
      "\u001b[32m[I 2021-05-08 12:08:17,062]\u001b[0m Trial 171 finished with value: -2.604122504711151 and parameters: {'eta': 0.6923552550962925, 'gamma': 0.0033785848867142277, 'max_depth': 3, 'min_child_weight': 0.011592486539202437, 'subsample': 0.8261685795392159, 'reg_lambda': 926.3481815637392, 'reg_alpha': 0.7404965439863704}. Best is trial 142 with value: -2.487647931428603.\u001b[0m\n"
     ]
    },
    {
     "name": "stdout",
     "output_type": "stream",
     "text": [
      "[-2.1139187  -2.34981823 -2.63013239 -2.6354246  -3.2913186 ]\n"
     ]
    },
    {
     "name": "stderr",
     "output_type": "stream",
     "text": [
      "\u001b[32m[I 2021-05-08 12:08:17,424]\u001b[0m Trial 172 finished with value: -2.581199047441836 and parameters: {'eta': 0.7095756169430164, 'gamma': 0.004442574821993795, 'max_depth': 3, 'min_child_weight': 0.0202246851267748, 'subsample': 0.8612379667420396, 'reg_lambda': 947.7673554025235, 'reg_alpha': 0.4703234447492327}. Best is trial 142 with value: -2.487647931428603.\u001b[0m\n"
     ]
    },
    {
     "name": "stdout",
     "output_type": "stream",
     "text": [
      "[-2.10844461 -2.42653818 -2.59169979 -2.53355325 -3.2457594 ]\n"
     ]
    },
    {
     "name": "stderr",
     "output_type": "stream",
     "text": [
      "\u001b[32m[I 2021-05-08 12:08:18,039]\u001b[0m Trial 173 finished with value: -2.8525313112117625 and parameters: {'eta': 0.487253346954345, 'gamma': 0.002707859696935565, 'max_depth': 8, 'min_child_weight': 0.006585813875008539, 'subsample': 0.860369395434963, 'reg_lambda': 980.3527085560968, 'reg_alpha': 21.666694279009455}. Best is trial 142 with value: -2.487647931428603.\u001b[0m\n"
     ]
    },
    {
     "name": "stdout",
     "output_type": "stream",
     "text": [
      "[-2.330911   -2.62135818 -2.92702956 -2.89412534 -3.48923248]\n"
     ]
    },
    {
     "name": "stderr",
     "output_type": "stream",
     "text": [
      "\u001b[32m[I 2021-05-08 12:08:18,626]\u001b[0m Trial 174 finished with value: -2.745135548727012 and parameters: {'eta': 0.9283454899452958, 'gamma': 0.001860029370175438, 'max_depth': 6, 'min_child_weight': 0.025379019405534112, 'subsample': 0.8484440370298556, 'reg_lambda': 997.1390691328146, 'reg_alpha': 65.18143341591077}. Best is trial 142 with value: -2.487647931428603.\u001b[0m\n"
     ]
    },
    {
     "name": "stdout",
     "output_type": "stream",
     "text": [
      "[-2.26188833 -2.50160525 -2.77896118 -2.78539714 -3.39782583]\n"
     ]
    },
    {
     "name": "stderr",
     "output_type": "stream",
     "text": [
      "\u001b[32m[I 2021-05-08 12:08:18,986]\u001b[0m Trial 175 finished with value: -2.763603090698336 and parameters: {'eta': 0.5427253972549531, 'gamma': 0.00121311143685686, 'max_depth': 2, 'min_child_weight': 0.004313286355886874, 'subsample': 0.8959599482544057, 'reg_lambda': 927.640795898633, 'reg_alpha': 19.848194666617363}. Best is trial 142 with value: -2.487647931428603.\u001b[0m\n"
     ]
    },
    {
     "name": "stdout",
     "output_type": "stream",
     "text": [
      "[-2.25265069 -2.52008808 -2.89573422 -2.84528093 -3.30426154]\n"
     ]
    },
    {
     "name": "stderr",
     "output_type": "stream",
     "text": [
      "\u001b[32m[I 2021-05-08 12:08:20,095]\u001b[0m Trial 176 finished with value: -2.7724988944324447 and parameters: {'eta': 0.7341845188601337, 'gamma': 0.003905538574288299, 'max_depth': 5, 'min_child_weight': 0.042610937198998305, 'subsample': 0.7888125924696242, 'reg_lambda': 950.6071660102585, 'reg_alpha': 49.64261239248457}. Best is trial 142 with value: -2.487647931428603.\u001b[0m\n"
     ]
    },
    {
     "name": "stdout",
     "output_type": "stream",
     "text": [
      "[-2.26797704 -2.5239277  -2.82619408 -2.85123799 -3.39315767]\n"
     ]
    },
    {
     "name": "stderr",
     "output_type": "stream",
     "text": [
      "\u001b[32m[I 2021-05-08 12:08:20,595]\u001b[0m Trial 177 finished with value: -2.6312236804020257 and parameters: {'eta': 0.9998251224576066, 'gamma': 0.013991499903728619, 'max_depth': 3, 'min_child_weight': 0.05965192488414543, 'subsample': 0.7629523292876041, 'reg_lambda': 916.2882508402523, 'reg_alpha': 19.795876242096792}. Best is trial 142 with value: -2.487647931428603.\u001b[0m\n"
     ]
    },
    {
     "name": "stdout",
     "output_type": "stream",
     "text": [
      "[-2.13368771 -2.47973042 -2.62068128 -2.66508065 -3.25693833]\n"
     ]
    },
    {
     "name": "stderr",
     "output_type": "stream",
     "text": [
      "\u001b[32m[I 2021-05-08 12:08:21,740]\u001b[0m Trial 178 finished with value: -2.5240978796511517 and parameters: {'eta': 0.9818650433080419, 'gamma': 0.00231947378083445, 'max_depth': 20, 'min_child_weight': 0.04582713911846102, 'subsample': 0.87680722733057, 'reg_lambda': 967.9854355725056, 'reg_alpha': 2.1123054415841924}. Best is trial 142 with value: -2.487647931428603.\u001b[0m\n"
     ]
    },
    {
     "name": "stdout",
     "output_type": "stream",
     "text": [
      "[-2.19689965 -2.16792785 -2.41931471 -2.4400507  -3.39629649]\n"
     ]
    },
    {
     "name": "stderr",
     "output_type": "stream",
     "text": [
      "\u001b[32m[I 2021-05-08 12:08:22,516]\u001b[0m Trial 179 finished with value: -3.0399805548279373 and parameters: {'eta': 0.38240363213722406, 'gamma': 0.008849756056857413, 'max_depth': 6, 'min_child_weight': 0.02799447885138116, 'subsample': 0.8184393155533107, 'reg_lambda': 933.4610958292443, 'reg_alpha': 36.174821694662}. Best is trial 142 with value: -2.487647931428603.\u001b[0m\n"
     ]
    },
    {
     "name": "stdout",
     "output_type": "stream",
     "text": [
      "[-2.44567678 -2.7866827  -3.27706488 -3.01349319 -3.67698522]\n"
     ]
    },
    {
     "name": "stderr",
     "output_type": "stream",
     "text": [
      "\u001b[32m[I 2021-05-08 12:08:23,289]\u001b[0m Trial 180 finished with value: -3.1798305700855494 and parameters: {'eta': 0.26787108210491095, 'gamma': 0.0008763939149764323, 'max_depth': 7, 'min_child_weight': 0.06228062918047834, 'subsample': 0.8805332853475643, 'reg_lambda': 912.4554080263268, 'reg_alpha': 1.9094182468570926}. Best is trial 142 with value: -2.487647931428603.\u001b[0m\n"
     ]
    },
    {
     "name": "stdout",
     "output_type": "stream",
     "text": [
      "[-2.58803588 -3.01382852 -3.40973482 -3.11139478 -3.77615885]\n"
     ]
    },
    {
     "name": "stderr",
     "output_type": "stream",
     "text": [
      "\u001b[32m[I 2021-05-08 12:08:24,125]\u001b[0m Trial 181 finished with value: -2.525703085016321 and parameters: {'eta': 0.9955979221793262, 'gamma': 0.002519550906352821, 'max_depth': 20, 'min_child_weight': 0.00839435481250451, 'subsample': 0.9148497349518968, 'reg_lambda': 959.1936582474374, 'reg_alpha': 2.977188711285156}. Best is trial 142 with value: -2.487647931428603.\u001b[0m\n"
     ]
    },
    {
     "name": "stdout",
     "output_type": "stream",
     "text": [
      "[-2.18924463 -2.2162338  -2.58783291 -2.37188877 -3.26331532]\n"
     ]
    },
    {
     "name": "stderr",
     "output_type": "stream",
     "text": [
      "\u001b[32m[I 2021-05-08 12:08:24,815]\u001b[0m Trial 182 finished with value: -2.5597207045731722 and parameters: {'eta': 0.9996852543360036, 'gamma': 0.002194330902183898, 'max_depth': 20, 'min_child_weight': 0.019805791888426235, 'subsample': 0.8756768436787633, 'reg_lambda': 956.0243868359371, 'reg_alpha': 20.695661158816343}. Best is trial 142 with value: -2.487647931428603.\u001b[0m\n"
     ]
    },
    {
     "name": "stdout",
     "output_type": "stream",
     "text": [
      "[-2.10894719 -2.19542164 -2.50384284 -2.56549648 -3.42489538]\n"
     ]
    },
    {
     "name": "stderr",
     "output_type": "stream",
     "text": [
      "\u001b[32m[I 2021-05-08 12:08:25,645]\u001b[0m Trial 183 finished with value: -2.545864552515524 and parameters: {'eta': 0.9970683870308288, 'gamma': 0.001504078256535203, 'max_depth': 20, 'min_child_weight': 0.009132369636297462, 'subsample': 0.8056222891115682, 'reg_lambda': 997.8611241285863, 'reg_alpha': 1.0806837518769843}. Best is trial 142 with value: -2.487647931428603.\u001b[0m\n"
     ]
    },
    {
     "name": "stdout",
     "output_type": "stream",
     "text": [
      "[-2.18600547 -2.25133448 -2.48798564 -2.40723562 -3.39676156]\n"
     ]
    },
    {
     "name": "stderr",
     "output_type": "stream",
     "text": [
      "\u001b[32m[I 2021-05-08 12:08:26,592]\u001b[0m Trial 184 finished with value: -2.5592268214461247 and parameters: {'eta': 0.6847530541722255, 'gamma': 0.004625486679481511, 'max_depth': 20, 'min_child_weight': 0.01136155471747605, 'subsample': 0.9036529749337401, 'reg_lambda': 876.109023751612, 'reg_alpha': 0.30009236852978427}. Best is trial 142 with value: -2.487647931428603.\u001b[0m\n"
     ]
    },
    {
     "name": "stdout",
     "output_type": "stream",
     "text": [
      "[-2.07129254 -2.35288102 -2.5100272  -2.52718772 -3.33474562]\n"
     ]
    },
    {
     "name": "stderr",
     "output_type": "stream",
     "text": [
      "\u001b[32m[I 2021-05-08 12:08:26,994]\u001b[0m Trial 185 finished with value: -4.411996708446078 and parameters: {'eta': 0.9912222237295617, 'gamma': 0.0024306497509860377, 'max_depth': 19, 'min_child_weight': 0.052219760965613184, 'subsample': 0.9203722801984975, 'reg_lambda': 946.3629321421696, 'reg_alpha': 847.4601256528777}. Best is trial 142 with value: -2.487647931428603.\u001b[0m\n"
     ]
    },
    {
     "name": "stdout",
     "output_type": "stream",
     "text": [
      "[-3.64543117 -4.33737823 -4.82393586 -4.80103078 -4.45220749]\n"
     ]
    },
    {
     "name": "stderr",
     "output_type": "stream",
     "text": [
      "\u001b[32m[I 2021-05-08 12:08:27,604]\u001b[0m Trial 186 finished with value: -2.85864685936916 and parameters: {'eta': 0.5731341711989223, 'gamma': 0.0016044414413785265, 'max_depth': 20, 'min_child_weight': 0.031092508229303744, 'subsample': 0.7768152845878561, 'reg_lambda': 972.4944116510175, 'reg_alpha': 50.021819456599864}. Best is trial 142 with value: -2.487647931428603.\u001b[0m\n"
     ]
    },
    {
     "name": "stdout",
     "output_type": "stream",
     "text": [
      "[-2.30094938 -2.59685127 -3.0463735  -2.91857373 -3.43048642]\n"
     ]
    },
    {
     "name": "stderr",
     "output_type": "stream",
     "text": [
      "\u001b[32m[I 2021-05-08 12:08:27,956]\u001b[0m Trial 187 finished with value: -2.8291346722885415 and parameters: {'eta': 0.9889048261165461, 'gamma': 0.0065615372845486564, 'max_depth': 1, 'min_child_weight': 0.13444531121348302, 'subsample': 0.7400845494440982, 'reg_lambda': 882.83587407658, 'reg_alpha': 23.562515097332998}. Best is trial 142 with value: -2.487647931428603.\u001b[0m\n"
     ]
    },
    {
     "name": "stdout",
     "output_type": "stream",
     "text": [
      "[-2.18118506 -2.641758   -3.16676059 -2.82742353 -3.32854618]\n"
     ]
    },
    {
     "name": "stderr",
     "output_type": "stream",
     "text": [
      "\u001b[32m[I 2021-05-08 12:08:28,677]\u001b[0m Trial 188 finished with value: -2.854167211509045 and parameters: {'eta': 0.48266041704928675, 'gamma': 0.0011541754145490749, 'max_depth': 19, 'min_child_weight': 0.07264234966793746, 'subsample': 0.8359950379950485, 'reg_lambda': 924.425250809225, 'reg_alpha': 33.432533035154734}. Best is trial 142 with value: -2.487647931428603.\u001b[0m\n"
     ]
    },
    {
     "name": "stdout",
     "output_type": "stream",
     "text": [
      "[-2.29718432 -2.65546227 -2.95077141 -2.90569532 -3.46172274]\n"
     ]
    },
    {
     "name": "stderr",
     "output_type": "stream",
     "text": [
      "\u001b[32m[I 2021-05-08 12:08:29,341]\u001b[0m Trial 189 finished with value: -2.778890945505213 and parameters: {'eta': 0.7006426676749322, 'gamma': 0.0030727439560892123, 'max_depth': 20, 'min_child_weight': 0.007210868844743092, 'subsample': 0.7659787002127719, 'reg_lambda': 975.6982868912767, 'reg_alpha': 59.9062100558917}. Best is trial 142 with value: -2.487647931428603.\u001b[0m\n"
     ]
    },
    {
     "name": "stdout",
     "output_type": "stream",
     "text": [
      "[-2.22168224 -2.50317055 -2.93680091 -2.85570763 -3.3770934 ]\n"
     ]
    },
    {
     "name": "stderr",
     "output_type": "stream",
     "text": [
      "\u001b[32m[I 2021-05-08 12:08:29,931]\u001b[0m Trial 190 finished with value: -3.0495478966206675 and parameters: {'eta': 0.4279368912449342, 'gamma': 0.0008467924239953093, 'max_depth': 19, 'min_child_weight': 0.04196398884882408, 'subsample': 0.8648172051034367, 'reg_lambda': 905.17403120096, 'reg_alpha': 85.41861998018173}. Best is trial 142 with value: -2.487647931428603.\u001b[0m\n"
     ]
    },
    {
     "name": "stdout",
     "output_type": "stream",
     "text": [
      "[-2.43196323 -2.81724199 -3.26189106 -3.10469895 -3.63194425]\n"
     ]
    },
    {
     "name": "stderr",
     "output_type": "stream",
     "text": [
      "\u001b[32m[I 2021-05-08 12:08:30,679]\u001b[0m Trial 191 finished with value: -2.633953526231978 and parameters: {'eta': 0.7237766819735103, 'gamma': 0.0015875400423851409, 'max_depth': 20, 'min_child_weight': 0.010318525546082886, 'subsample': 0.8121646116936604, 'reg_lambda': 992.7822979603382, 'reg_alpha': 16.58967868596705}. Best is trial 142 with value: -2.487647931428603.\u001b[0m\n"
     ]
    },
    {
     "name": "stdout",
     "output_type": "stream",
     "text": [
      "[-2.20378105 -2.35346421 -2.59397296 -2.67915345 -3.33939595]\n"
     ]
    },
    {
     "name": "stderr",
     "output_type": "stream",
     "text": [
      "\u001b[32m[I 2021-05-08 12:08:31,690]\u001b[0m Trial 192 finished with value: -2.527508849567837 and parameters: {'eta': 0.9661789918152057, 'gamma': 0.0021541355774435853, 'max_depth': 20, 'min_child_weight': 0.017640571271373372, 'subsample': 0.8067678300113312, 'reg_lambda': 937.2992314579637, 'reg_alpha': 0.9287202749062827}. Best is trial 142 with value: -2.487647931428603.\u001b[0m\n"
     ]
    },
    {
     "name": "stdout",
     "output_type": "stream",
     "text": [
      "[-2.14957398 -2.32447094 -2.4927444  -2.38636374 -3.28439119]\n"
     ]
    },
    {
     "name": "stderr",
     "output_type": "stream",
     "text": [
      "\u001b[32m[I 2021-05-08 12:08:32,941]\u001b[0m Trial 193 finished with value: -2.535584361111676 and parameters: {'eta': 0.9893962550503961, 'gamma': 0.003710709155312535, 'max_depth': 20, 'min_child_weight': 0.015240738539050438, 'subsample': 0.7896470930217195, 'reg_lambda': 935.8536014718012, 'reg_alpha': 0.4629374185105575}. Best is trial 142 with value: -2.487647931428603.\u001b[0m\n"
     ]
    },
    {
     "name": "stdout",
     "output_type": "stream",
     "text": [
      "[-2.12736693 -2.27608497 -2.46256766 -2.42232318 -3.38957906]\n"
     ]
    },
    {
     "name": "stderr",
     "output_type": "stream",
     "text": [
      "\u001b[32m[I 2021-05-08 12:08:33,898]\u001b[0m Trial 194 finished with value: -2.6030585003605595 and parameters: {'eta': 0.7044811450154183, 'gamma': 0.004618366800393667, 'max_depth': 20, 'min_child_weight': 0.01729784349635198, 'subsample': 0.7897155405276259, 'reg_lambda': 936.0012296055924, 'reg_alpha': 1.540794445611351}. Best is trial 142 with value: -2.487647931428603.\u001b[0m\n"
     ]
    },
    {
     "name": "stdout",
     "output_type": "stream",
     "text": [
      "[-2.18039849 -2.30007268 -2.54116945 -2.64066118 -3.3529907 ]\n"
     ]
    },
    {
     "name": "stderr",
     "output_type": "stream",
     "text": [
      "\u001b[32m[I 2021-05-08 12:08:34,742]\u001b[0m Trial 195 finished with value: -2.612455327157621 and parameters: {'eta': 0.9965109263232897, 'gamma': 0.003484414292951041, 'max_depth': 20, 'min_child_weight': 0.005636005294692684, 'subsample': 0.8339624499904212, 'reg_lambda': 892.1241129190644, 'reg_alpha': 36.184044746213004}. Best is trial 142 with value: -2.487647931428603.\u001b[0m\n"
     ]
    },
    {
     "name": "stdout",
     "output_type": "stream",
     "text": [
      "[-2.17606584 -2.30113419 -2.52825248 -2.65191534 -3.40490879]\n"
     ]
    },
    {
     "name": "stderr",
     "output_type": "stream",
     "text": [
      "\u001b[32m[I 2021-05-08 12:08:35,705]\u001b[0m Trial 196 finished with value: -2.791693907937886 and parameters: {'eta': 0.47444604295474113, 'gamma': 0.0004493299901680707, 'max_depth': 19, 'min_child_weight': 0.023349185338771013, 'subsample': 0.7855196473182158, 'reg_lambda': 921.3645473406499, 'reg_alpha': 0.0003631784045980968}. Best is trial 142 with value: -2.487647931428603.\u001b[0m\n"
     ]
    },
    {
     "name": "stdout",
     "output_type": "stream",
     "text": [
      "[-2.14669433 -2.56791904 -2.95637393 -2.82377638 -3.46370586]\n"
     ]
    },
    {
     "name": "stderr",
     "output_type": "stream",
     "text": [
      "\u001b[32m[I 2021-05-08 12:08:39,923]\u001b[0m Trial 197 finished with value: -2.642470352331797 and parameters: {'eta': 0.6959940888762658, 'gamma': 0.002363891110450491, 'max_depth': 20, 'min_child_weight': 0.015471469072227254, 'subsample': 0.914262786425758, 'reg_lambda': 861.980804471023, 'reg_alpha': 18.51713547035047}. Best is trial 142 with value: -2.487647931428603.\u001b[0m\n"
     ]
    },
    {
     "name": "stdout",
     "output_type": "stream",
     "text": [
      "[-2.10433043 -2.35860396 -2.61327418 -2.6730228  -3.46312039]\n"
     ]
    },
    {
     "name": "stderr",
     "output_type": "stream",
     "text": [
      "\u001b[32m[I 2021-05-08 12:08:41,439]\u001b[0m Trial 198 finished with value: -4.3506239782439335 and parameters: {'eta': 0.3435611709725768, 'gamma': 0.00031412282873170155, 'max_depth': 19, 'min_child_weight': 0.025678394657796703, 'subsample': 0.8144766648592185, 'reg_lambda': 945.9663201251034, 'reg_alpha': 685.0666741375246}. Best is trial 142 with value: -2.487647931428603.\u001b[0m\n"
     ]
    },
    {
     "name": "stdout",
     "output_type": "stream",
     "text": [
      "[-3.56914157 -4.28082637 -4.76849709 -4.7532085  -4.38144635]\n"
     ]
    },
    {
     "name": "stderr",
     "output_type": "stream",
     "text": [
      "\u001b[32m[I 2021-05-08 12:08:42,544]\u001b[0m Trial 199 finished with value: -2.4960902544775125 and parameters: {'eta': 0.9869135790941058, 'gamma': 0.008515141206950006, 'max_depth': 20, 'min_child_weight': 0.0034126251956870302, 'subsample': 0.8859708346478998, 'reg_lambda': 905.8432496063317, 'reg_alpha': 1.8202880024943031}. Best is trial 142 with value: -2.487647931428603.\u001b[0m\n"
     ]
    },
    {
     "name": "stdout",
     "output_type": "stream",
     "text": [
      "[-2.12077418 -2.13290974 -2.52667531 -2.44731509 -3.25277695]\n"
     ]
    },
    {
     "name": "stderr",
     "output_type": "stream",
     "text": [
      "\u001b[32m[I 2021-05-08 12:08:43,654]\u001b[0m Trial 200 finished with value: -2.4748692522519895 and parameters: {'eta': 0.9861107963442876, 'gamma': 0.008912250024202383, 'max_depth': 20, 'min_child_weight': 0.01283667847935163, 'subsample': 0.8905666387357126, 'reg_lambda': 901.1851969157224, 'reg_alpha': 0.30462886557546676}. Best is trial 200 with value: -2.4748692522519895.\u001b[0m\n"
     ]
    },
    {
     "name": "stdout",
     "output_type": "stream",
     "text": [
      "[-2.10759341 -2.11911429 -2.50844068 -2.48525538 -3.15394251]\n"
     ]
    },
    {
     "name": "stderr",
     "output_type": "stream",
     "text": [
      "\u001b[32m[I 2021-05-08 12:08:45,145]\u001b[0m Trial 201 finished with value: -2.580588983317952 and parameters: {'eta': 0.9413443587065379, 'gamma': 0.008768948615052594, 'max_depth': 20, 'min_child_weight': 0.013217961866637913, 'subsample': 0.8916126166370812, 'reg_lambda': 903.3651451527378, 'reg_alpha': 21.106755095177927}. Best is trial 200 with value: -2.4748692522519895.\u001b[0m\n"
     ]
    },
    {
     "name": "stdout",
     "output_type": "stream",
     "text": [
      "[-2.17775054 -2.28163516 -2.60268348 -2.57011674 -3.27075899]\n"
     ]
    },
    {
     "name": "stderr",
     "output_type": "stream",
     "text": [
      "\u001b[32m[I 2021-05-08 12:08:48,093]\u001b[0m Trial 202 finished with value: -2.5097167078006413 and parameters: {'eta': 0.9733709115300615, 'gamma': 0.011853133549587428, 'max_depth': 20, 'min_child_weight': 0.038719031659759554, 'subsample': 0.9448205490880556, 'reg_lambda': 882.036960502362, 'reg_alpha': 0.6741154409585226}. Best is trial 200 with value: -2.4748692522519895.\u001b[0m\n"
     ]
    },
    {
     "name": "stdout",
     "output_type": "stream",
     "text": [
      "[-2.14262906 -2.14717479 -2.4793606  -2.46819733 -3.31122176]\n"
     ]
    },
    {
     "name": "stderr",
     "output_type": "stream",
     "text": [
      "\u001b[32m[I 2021-05-08 12:08:49,260]\u001b[0m Trial 203 finished with value: -2.6803234925505555 and parameters: {'eta': 0.5111042703529161, 'gamma': 0.008594150387518486, 'max_depth': 20, 'min_child_weight': 0.03529579750523555, 'subsample': 0.9484057768109625, 'reg_lambda': 877.6929826009017, 'reg_alpha': 1.0465261187140267}. Best is trial 200 with value: -2.4748692522519895.\u001b[0m\n"
     ]
    },
    {
     "name": "stdout",
     "output_type": "stream",
     "text": [
      "[-2.21498398 -2.37028418 -2.73747507 -2.66875209 -3.41012215]\n"
     ]
    },
    {
     "name": "stderr",
     "output_type": "stream",
     "text": [
      "\u001b[32m[I 2021-05-08 12:08:51,186]\u001b[0m Trial 204 finished with value: -2.6153113647861246 and parameters: {'eta': 0.975261008527346, 'gamma': 0.019114587924923987, 'max_depth': 20, 'min_child_weight': 0.0442912018041592, 'subsample': 0.9825321674514196, 'reg_lambda': 843.3133088047259, 'reg_alpha': 39.593370046224706}. Best is trial 200 with value: -2.4748692522519895.\u001b[0m\n"
     ]
    },
    {
     "name": "stdout",
     "output_type": "stream",
     "text": [
      "[-2.1776702  -2.33956717 -2.68012558 -2.5401555  -3.33903838]\n"
     ]
    },
    {
     "name": "stderr",
     "output_type": "stream",
     "text": [
      "\u001b[32m[I 2021-05-08 12:08:52,223]\u001b[0m Trial 205 finished with value: -2.5078134111946015 and parameters: {'eta': 0.9910481507772717, 'gamma': 0.013513139838543796, 'max_depth': 19, 'min_child_weight': 0.025490598197663875, 'subsample': 0.9370230249144346, 'reg_lambda': 878.7585124624642, 'reg_alpha': 1.338171120824796}. Best is trial 200 with value: -2.4748692522519895.\u001b[0m\n"
     ]
    },
    {
     "name": "stdout",
     "output_type": "stream",
     "text": [
      "[-2.15208287 -2.21578815 -2.51160439 -2.39768043 -3.26191121]\n"
     ]
    },
    {
     "name": "stderr",
     "output_type": "stream",
     "text": [
      "\u001b[32m[I 2021-05-08 12:08:53,273]\u001b[0m Trial 206 finished with value: -2.689319026711546 and parameters: {'eta': 0.5882084023128034, 'gamma': 0.02428715971734793, 'max_depth': 19, 'min_child_weight': 0.029827265914289306, 'subsample': 0.9527362301440748, 'reg_lambda': 886.1439725272716, 'reg_alpha': 19.79441028362991}. Best is trial 200 with value: -2.4748692522519895.\u001b[0m\n"
     ]
    },
    {
     "name": "stdout",
     "output_type": "stream",
     "text": [
      "[-2.24577746 -2.41218168 -2.71445549 -2.65694185 -3.41723866]\n"
     ]
    },
    {
     "name": "stderr",
     "output_type": "stream",
     "text": [
      "\u001b[32m[I 2021-05-08 12:08:54,169]\u001b[0m Trial 207 finished with value: -2.5276242741949764 and parameters: {'eta': 0.9979619178811199, 'gamma': 0.016998953340260987, 'max_depth': 19, 'min_child_weight': 0.024728508183698542, 'subsample': 0.9267013262570484, 'reg_lambda': 900.9731041484155, 'reg_alpha': 0.6578401461905343}. Best is trial 200 with value: -2.4748692522519895.\u001b[0m\n"
     ]
    },
    {
     "name": "stdout",
     "output_type": "stream",
     "text": [
      "[-2.12777099 -2.21643275 -2.45653575 -2.50058199 -3.33679989]\n"
     ]
    },
    {
     "name": "stderr",
     "output_type": "stream",
     "text": [
      "\u001b[32m[I 2021-05-08 12:08:54,901]\u001b[0m Trial 208 finished with value: -2.676251984990673 and parameters: {'eta': 0.6897186874639148, 'gamma': 0.012332576737938552, 'max_depth': 19, 'min_child_weight': 0.02320935351078376, 'subsample': 0.9449848991725609, 'reg_lambda': 908.3938133833213, 'reg_alpha': 37.38747942115482}. Best is trial 200 with value: -2.4748692522519895.\u001b[0m\n"
     ]
    },
    {
     "name": "stdout",
     "output_type": "stream",
     "text": [
      "[-2.13302667 -2.40286497 -2.73286334 -2.66927519 -3.44322974]\n"
     ]
    },
    {
     "name": "stderr",
     "output_type": "stream",
     "text": [
      "\u001b[32m[I 2021-05-08 12:08:55,679]\u001b[0m Trial 209 finished with value: -2.6008063448446768 and parameters: {'eta': 0.9825981040357493, 'gamma': 0.011686180110020062, 'max_depth': 19, 'min_child_weight': 0.009726782664086825, 'subsample': 0.9167453629239173, 'reg_lambda': 895.1581378807575, 'reg_alpha': 22.493516874155773}. Best is trial 200 with value: -2.4748692522519895.\u001b[0m\n"
     ]
    },
    {
     "name": "stdout",
     "output_type": "stream",
     "text": [
      "[-2.13745873 -2.36753058 -2.60504007 -2.62386579 -3.27013656]\n"
     ]
    },
    {
     "name": "stderr",
     "output_type": "stream",
     "text": [
      "\u001b[32m[I 2021-05-08 12:08:56,366]\u001b[0m Trial 210 finished with value: -2.860063788620042 and parameters: {'eta': 0.5020077341183161, 'gamma': 0.03309262131182642, 'max_depth': 20, 'min_child_weight': 0.02193493898804479, 'subsample': 0.9232965226253319, 'reg_lambda': 911.3266587625433, 'reg_alpha': 56.920057565799134}. Best is trial 200 with value: -2.4748692522519895.\u001b[0m\n"
     ]
    },
    {
     "name": "stdout",
     "output_type": "stream",
     "text": [
      "[-2.31909973 -2.63431075 -2.96426853 -2.8931309  -3.48950903]\n"
     ]
    },
    {
     "name": "stderr",
     "output_type": "stream",
     "text": [
      "\u001b[32m[I 2021-05-08 12:08:57,294]\u001b[0m Trial 211 finished with value: -2.565663087373898 and parameters: {'eta': 0.7858275719852672, 'gamma': 0.006379567642590588, 'max_depth': 19, 'min_child_weight': 0.05014821978110145, 'subsample': 0.9320054645773839, 'reg_lambda': 872.3671729368135, 'reg_alpha': 1.2497416801543668}. Best is trial 200 with value: -2.4748692522519895.\u001b[0m\n"
     ]
    },
    {
     "name": "stdout",
     "output_type": "stream",
     "text": [
      "[-2.1695627  -2.23253832 -2.5612674  -2.45084791 -3.41409911]\n"
     ]
    },
    {
     "name": "stderr",
     "output_type": "stream",
     "text": [
      "\u001b[32m[I 2021-05-08 12:08:58,304]\u001b[0m Trial 212 finished with value: -2.537841053173866 and parameters: {'eta': 0.7171753562832863, 'gamma': 0.015688586113262386, 'max_depth': 19, 'min_child_weight': 0.03592212063508889, 'subsample': 0.9026781593723119, 'reg_lambda': 860.6660467119493, 'reg_alpha': 1.3335099024123895}. Best is trial 200 with value: -2.4748692522519895.\u001b[0m\n"
     ]
    },
    {
     "name": "stdout",
     "output_type": "stream",
     "text": [
      "[-2.03683289 -2.3383706  -2.47613898 -2.50894618 -3.32891662]\n"
     ]
    },
    {
     "name": "stderr",
     "output_type": "stream",
     "text": [
      "\u001b[32m[I 2021-05-08 12:08:59,247]\u001b[0m Trial 213 finished with value: -2.5004680012891325 and parameters: {'eta': 0.9981550483196286, 'gamma': 0.017488974645139925, 'max_depth': 20, 'min_child_weight': 0.07154866760418868, 'subsample': 0.9704655400081508, 'reg_lambda': 890.4227283216404, 'reg_alpha': 0.5950111135099742}. Best is trial 200 with value: -2.4748692522519895.\u001b[0m\n"
     ]
    },
    {
     "name": "stdout",
     "output_type": "stream",
     "text": [
      "[-2.1973243  -2.23802153 -2.50588369 -2.30342298 -3.25768751]\n"
     ]
    },
    {
     "name": "stderr",
     "output_type": "stream",
     "text": [
      "\u001b[32m[I 2021-05-08 12:09:00,157]\u001b[0m Trial 214 finished with value: -2.567176496223167 and parameters: {'eta': 0.9748408469434903, 'gamma': 0.015360522680002096, 'max_depth': 20, 'min_child_weight': 0.07297061327439995, 'subsample': 0.9732891274347942, 'reg_lambda': 898.9931705840233, 'reg_alpha': 21.29004546726117}. Best is trial 200 with value: -2.4748692522519895.\u001b[0m\n"
     ]
    },
    {
     "name": "stdout",
     "output_type": "stream",
     "text": [
      "[-2.14119986 -2.18647536 -2.53706704 -2.55435185 -3.41678838]\n"
     ]
    },
    {
     "name": "stderr",
     "output_type": "stream",
     "text": [
      "\u001b[32m[I 2021-05-08 12:09:01,426]\u001b[0m Trial 215 finished with value: -2.5453068854661636 and parameters: {'eta': 0.9656085802086498, 'gamma': 0.050789709072443824, 'max_depth': 20, 'min_child_weight': 0.0561556683449553, 'subsample': 0.9335616730834622, 'reg_lambda': 953.6469666396073, 'reg_alpha': 2.374040043353561}. Best is trial 200 with value: -2.4748692522519895.\u001b[0m\n"
     ]
    },
    {
     "name": "stdout",
     "output_type": "stream",
     "text": [
      "[-2.20148858 -2.28718573 -2.52876041 -2.45525958 -3.25384012]\n"
     ]
    },
    {
     "name": "stderr",
     "output_type": "stream",
     "text": [
      "\u001b[32m[I 2021-05-08 12:09:02,735]\u001b[0m Trial 216 finished with value: -2.80910648152269 and parameters: {'eta': 0.5025180365169156, 'gamma': 0.019941542128253456, 'max_depth': 20, 'min_child_weight': 0.0037070344708300127, 'subsample': 0.8833433927552304, 'reg_lambda': 924.6533002306259, 'reg_alpha': 36.511228273774584}. Best is trial 200 with value: -2.4748692522519895.\u001b[0m\n"
     ]
    },
    {
     "name": "stdout",
     "output_type": "stream",
     "text": [
      "[-2.31464633 -2.57346765 -2.9021014  -2.83607381 -3.41924322]\n"
     ]
    },
    {
     "name": "stderr",
     "output_type": "stream",
     "text": [
      "\u001b[32m[I 2021-05-08 12:09:03,602]\u001b[0m Trial 217 finished with value: -2.9387113867865673 and parameters: {'eta': 0.3312275769375219, 'gamma': 0.008434191788113181, 'max_depth': 19, 'min_child_weight': 0.01707051744366065, 'subsample': 0.9672866468061163, 'reg_lambda': 879.5086105989478, 'reg_alpha': 1.9531424965847763}. Best is trial 200 with value: -2.4748692522519895.\u001b[0m\n"
     ]
    },
    {
     "name": "stdout",
     "output_type": "stream",
     "text": [
      "[-2.40263649 -2.69390099 -3.13421182 -2.86279285 -3.60001478]\n"
     ]
    },
    {
     "name": "stderr",
     "output_type": "stream",
     "text": [
      "\u001b[32m[I 2021-05-08 12:09:03,835]\u001b[0m Trial 218 finished with value: -21.343007678785444 and parameters: {'eta': 1.651902874477089e-06, 'gamma': 0.012250656982712297, 'max_depth': 20, 'min_child_weight': 0.03552465858829426, 'subsample': 0.9166513128379127, 'reg_lambda': 919.2746327198304, 'reg_alpha': 19.817851779111784}. Best is trial 200 with value: -2.4748692522519895.\u001b[0m\n",
      "\u001b[32m[I 2021-05-08 12:09:04,027]\u001b[0m Trial 219 finished with value: -11.321527576799747 and parameters: {'eta': 0.9849332371318748, 'gamma': 0.02377138984570607, 'max_depth': 20, 'min_child_weight': 0.07632126826429124, 'subsample': 0.028169475516449105, 'reg_lambda': 887.7632872977592, 'reg_alpha': 50.02708258416166}. Best is trial 200 with value: -2.4748692522519895.\u001b[0m\n"
     ]
    },
    {
     "name": "stdout",
     "output_type": "stream",
     "text": [
      "[-20.25345428 -22.21520234 -20.7583975  -21.32383472 -22.16414956]\n",
      "[-10.04382197 -12.18329107 -10.9982826  -11.43670749 -11.94553475]\n"
     ]
    },
    {
     "name": "stderr",
     "output_type": "stream",
     "text": [
      "\u001b[32m[I 2021-05-08 12:09:04,880]\u001b[0m Trial 220 finished with value: -2.656195332786184 and parameters: {'eta': 0.6405330746840736, 'gamma': 0.011700500569157763, 'max_depth': 20, 'min_child_weight': 0.028344799509397223, 'subsample': 0.8838509820146245, 'reg_lambda': 957.0812686135292, 'reg_alpha': 0.26068500268285855}. Best is trial 200 with value: -2.4748692522519895.\u001b[0m\n"
     ]
    },
    {
     "name": "stdout",
     "output_type": "stream",
     "text": [
      "[-2.12989576 -2.42772002 -2.71910575 -2.60579437 -3.39846076]\n"
     ]
    },
    {
     "name": "stderr",
     "output_type": "stream",
     "text": [
      "\u001b[32m[I 2021-05-08 12:09:06,011]\u001b[0m Trial 221 finished with value: -2.5548873686437252 and parameters: {'eta': 0.962472900606901, 'gamma': 0.0060943445231617845, 'max_depth': 18, 'min_child_weight': 0.020773605345789724, 'subsample': 0.942854907658158, 'reg_lambda': 838.4774809751842, 'reg_alpha': 17.455291592286088}. Best is trial 200 with value: -2.4748692522519895.\u001b[0m\n"
     ]
    },
    {
     "name": "stdout",
     "output_type": "stream",
     "text": [
      "[-2.18238645 -2.26836732 -2.55901871 -2.4931699  -3.27149446]\n"
     ]
    },
    {
     "name": "stderr",
     "output_type": "stream",
     "text": [
      "\u001b[32m[I 2021-05-08 12:09:07,022]\u001b[0m Trial 222 finished with value: -2.4983295999986153 and parameters: {'eta': 0.9794798737188501, 'gamma': 0.005531119531877701, 'max_depth': 19, 'min_child_weight': 0.04225727175018283, 'subsample': 0.9973846405730661, 'reg_lambda': 863.3500571799754, 'reg_alpha': 0.20559351346565705}. Best is trial 200 with value: -2.4748692522519895.\u001b[0m\n"
     ]
    },
    {
     "name": "stdout",
     "output_type": "stream",
     "text": [
      "[-2.16879519 -2.19051938 -2.56351609 -2.3857144  -3.18310294]\n"
     ]
    },
    {
     "name": "stderr",
     "output_type": "stream",
     "text": [
      "\u001b[32m[I 2021-05-08 12:09:07,909]\u001b[0m Trial 223 finished with value: -2.502410859690772 and parameters: {'eta': 0.9707362410741894, 'gamma': 0.004778548672685069, 'max_depth': 19, 'min_child_weight': 0.044161970583955525, 'subsample': 0.9849186605897198, 'reg_lambda': 872.5374780454189, 'reg_alpha': 0.4317346465696704}. Best is trial 200 with value: -2.4748692522519895.\u001b[0m\n"
     ]
    },
    {
     "name": "stdout",
     "output_type": "stream",
     "text": [
      "[-2.13923039 -2.20470164 -2.56847817 -2.38121512 -3.21842899]\n"
     ]
    },
    {
     "name": "stderr",
     "output_type": "stream",
     "text": [
      "\u001b[32m[I 2021-05-08 12:09:08,610]\u001b[0m Trial 224 finished with value: -2.6024037308692933 and parameters: {'eta': 0.9909758017501221, 'gamma': 0.004576597678930046, 'max_depth': 19, 'min_child_weight': 0.05022292114286018, 'subsample': 0.9859207353485773, 'reg_lambda': 872.6380217967959, 'reg_alpha': 30.34969597442543}. Best is trial 200 with value: -2.4748692522519895.\u001b[0m\n"
     ]
    },
    {
     "name": "stdout",
     "output_type": "stream",
     "text": [
      "[-2.17747215 -2.31639686 -2.70923568 -2.51127253 -3.29764144]\n"
     ]
    },
    {
     "name": "stderr",
     "output_type": "stream",
     "text": [
      "\u001b[32m[I 2021-05-08 12:09:09,465]\u001b[0m Trial 225 finished with value: -2.600841350696705 and parameters: {'eta': 0.662068029100915, 'gamma': 0.00613241675558512, 'max_depth': 19, 'min_child_weight': 0.07136832649531323, 'subsample': 0.9913728917921627, 'reg_lambda': 858.5337738289562, 'reg_alpha': 1.9440034370521833}. Best is trial 200 with value: -2.4748692522519895.\u001b[0m\n"
     ]
    },
    {
     "name": "stdout",
     "output_type": "stream",
     "text": [
      "[-2.11298635 -2.3422748  -2.56687887 -2.58019928 -3.40186745]\n"
     ]
    },
    {
     "name": "stderr",
     "output_type": "stream",
     "text": [
      "\u001b[32m[I 2021-05-08 12:09:10,323]\u001b[0m Trial 226 finished with value: -2.6747228570043307 and parameters: {'eta': 0.5212487444731653, 'gamma': 0.0024593612705551314, 'max_depth': 20, 'min_child_weight': 0.044120797407599666, 'subsample': 0.9621922824390106, 'reg_lambda': 908.5597643024428, 'reg_alpha': 0.15527662134729137}. Best is trial 200 with value: -2.4748692522519895.\u001b[0m\n"
     ]
    },
    {
     "name": "stdout",
     "output_type": "stream",
     "text": [
      "[-2.17843606 -2.3661522  -2.73275943 -2.64787575 -3.44839084]\n"
     ]
    },
    {
     "name": "stderr",
     "output_type": "stream",
     "text": [
      "\u001b[32m[I 2021-05-08 12:09:11,065]\u001b[0m Trial 227 finished with value: -2.6307688879142566 and parameters: {'eta': 0.9883139151234813, 'gamma': 0.007652967490474085, 'max_depth': 20, 'min_child_weight': 0.1103143471934908, 'subsample': 0.9988826207483518, 'reg_lambda': 820.95513678709, 'reg_alpha': 20.165912459247053}. Best is trial 200 with value: -2.4748692522519895.\u001b[0m\n"
     ]
    },
    {
     "name": "stdout",
     "output_type": "stream",
     "text": [
      "[-2.10971156 -2.33231395 -2.68309702 -2.61207319 -3.41664872]\n"
     ]
    },
    {
     "name": "stderr",
     "output_type": "stream",
     "text": [
      "\u001b[32m[I 2021-05-08 12:09:11,682]\u001b[0m Trial 228 finished with value: -2.655182201779919 and parameters: {'eta': 0.9912162836097844, 'gamma': 0.004209202716299387, 'max_depth': 19, 'min_child_weight': 0.04025645964305771, 'subsample': 0.8503513550093204, 'reg_lambda': 880.2638114384088, 'reg_alpha': 35.699852940569066}. Best is trial 200 with value: -2.4748692522519895.\u001b[0m\n"
     ]
    },
    {
     "name": "stdout",
     "output_type": "stream",
     "text": [
      "[-2.17382553 -2.37943209 -2.64064012 -2.67349254 -3.40852072]\n"
     ]
    },
    {
     "name": "stderr",
     "output_type": "stream",
     "text": [
      "\u001b[32m[I 2021-05-08 12:09:12,445]\u001b[0m Trial 229 finished with value: -2.6055140160336907 and parameters: {'eta': 0.6998578714118753, 'gamma': 0.005798642488671191, 'max_depth': 20, 'min_child_weight': 0.08122916434463096, 'subsample': 0.7694977128747074, 'reg_lambda': 939.1964698693885, 'reg_alpha': 0.24948030756303735}. Best is trial 200 with value: -2.4748692522519895.\u001b[0m\n"
     ]
    },
    {
     "name": "stdout",
     "output_type": "stream",
     "text": [
      "[-2.1463766  -2.37761579 -2.48909765 -2.65965857 -3.35482147]\n"
     ]
    },
    {
     "name": "stderr",
     "output_type": "stream",
     "text": [
      "\u001b[32m[I 2021-05-08 12:09:13,305]\u001b[0m Trial 230 finished with value: -2.7871203060385623 and parameters: {'eta': 0.3973951889168246, 'gamma': 0.00279461985515294, 'max_depth': 19, 'min_child_weight': 0.013466091916920645, 'subsample': 0.9762625762643783, 'reg_lambda': 854.6079838805593, 'reg_alpha': 0.7331674096278248}. Best is trial 200 with value: -2.4748692522519895.\u001b[0m\n"
     ]
    },
    {
     "name": "stdout",
     "output_type": "stream",
     "text": [
      "[-2.26051351 -2.56184903 -2.86672931 -2.78093358 -3.4655761 ]\n"
     ]
    },
    {
     "name": "stderr",
     "output_type": "stream",
     "text": [
      "\u001b[32m[I 2021-05-08 12:09:14,119]\u001b[0m Trial 231 finished with value: -2.5271248177775627 and parameters: {'eta': 0.9855694569447615, 'gamma': 0.017429632690565713, 'max_depth': 19, 'min_child_weight': 0.028641278265186924, 'subsample': 0.9091271227997684, 'reg_lambda': 895.1303722275962, 'reg_alpha': 0.2251109091194996}. Best is trial 200 with value: -2.4748692522519895.\u001b[0m\n"
     ]
    },
    {
     "name": "stdout",
     "output_type": "stream",
     "text": [
      "[-2.12069557 -2.25993542 -2.51727928 -2.53806732 -3.19964651]\n"
     ]
    },
    {
     "name": "stderr",
     "output_type": "stream",
     "text": [
      "\u001b[32m[I 2021-05-08 12:09:14,860]\u001b[0m Trial 232 finished with value: -2.5638275476502783 and parameters: {'eta': 0.9832268481621256, 'gamma': 0.012254311201231934, 'max_depth': 20, 'min_child_weight': 0.0279945171416006, 'subsample': 0.9007606495304125, 'reg_lambda': 894.4203869112177, 'reg_alpha': 18.960293774848243}. Best is trial 200 with value: -2.4748692522519895.\u001b[0m\n"
     ]
    },
    {
     "name": "stdout",
     "output_type": "stream",
     "text": [
      "[-2.11781734 -2.2985861  -2.57374636 -2.56708797 -3.26189996]\n"
     ]
    },
    {
     "name": "stderr",
     "output_type": "stream",
     "text": [
      "\u001b[32m[I 2021-05-08 12:09:15,141]\u001b[0m Trial 233 finished with value: -4.812122337694521 and parameters: {'eta': 0.9937351358403006, 'gamma': 0.009191940047870946, 'max_depth': 19, 'min_child_weight': 0.06443446097956852, 'subsample': 0.8679244906339685, 'reg_lambda': 919.3409655742374, 'reg_alpha': 994.0346146938987}. Best is trial 200 with value: -2.4748692522519895.\u001b[0m\n"
     ]
    },
    {
     "name": "stdout",
     "output_type": "stream",
     "text": [
      "[-4.0135988  -4.74926262 -5.17966625 -5.23268542 -4.88539859]\n"
     ]
    },
    {
     "name": "stderr",
     "output_type": "stream",
     "text": [
      "\u001b[32m[I 2021-05-08 12:09:16,071]\u001b[0m Trial 234 finished with value: -2.6885683408960888 and parameters: {'eta': 0.5992002638312993, 'gamma': 0.002250020518488028, 'max_depth': 18, 'min_child_weight': 0.033342062787128056, 'subsample': 0.9593086629426556, 'reg_lambda': 879.2468952186516, 'reg_alpha': 19.32039426784747}. Best is trial 200 with value: -2.4748692522519895.\u001b[0m\n"
     ]
    },
    {
     "name": "stdout",
     "output_type": "stream",
     "text": [
      "[-2.16615465 -2.46337075 -2.68168768 -2.68725776 -3.44437087]\n"
     ]
    },
    {
     "name": "stderr",
     "output_type": "stream",
     "text": [
      "\u001b[32m[I 2021-05-08 12:09:16,730]\u001b[0m Trial 235 finished with value: -2.688849172892394 and parameters: {'eta': 0.6779078101733608, 'gamma': 0.04263171544922129, 'max_depth': 20, 'min_child_weight': 0.05031384472057953, 'subsample': 0.8899646405401397, 'reg_lambda': 940.1316682290217, 'reg_alpha': 42.76896040723542}. Best is trial 200 with value: -2.4748692522519895.\u001b[0m\n"
     ]
    },
    {
     "name": "stdout",
     "output_type": "stream",
     "text": [
      "[-2.21660182 -2.46702997 -2.74093773 -2.70013509 -3.31954124]\n"
     ]
    },
    {
     "name": "stderr",
     "output_type": "stream",
     "text": [
      "\u001b[32m[I 2021-05-08 12:09:17,431]\u001b[0m Trial 236 finished with value: -2.6238294706874425 and parameters: {'eta': 0.7224359413807093, 'gamma': 0.004698051639209311, 'max_depth': 19, 'min_child_weight': 0.01951273652810065, 'subsample': 0.8020914391078904, 'reg_lambda': 909.4600605393287, 'reg_alpha': 16.323222254532396}. Best is trial 200 with value: -2.4748692522519895.\u001b[0m\n"
     ]
    },
    {
     "name": "stdout",
     "output_type": "stream",
     "text": [
      "[-2.20232521 -2.32349922 -2.66811794 -2.6167403  -3.3084647 ]\n"
     ]
    },
    {
     "name": "stderr",
     "output_type": "stream",
     "text": [
      "\u001b[32m[I 2021-05-08 12:09:18,079]\u001b[0m Trial 237 finished with value: -2.766986011346181 and parameters: {'eta': 0.5052317412934849, 'gamma': 0.02962219378588367, 'max_depth': 20, 'min_child_weight': 0.03454717662419785, 'subsample': 0.8268700882602703, 'reg_lambda': 834.1959218629197, 'reg_alpha': 34.42991917934464}. Best is trial 200 with value: -2.4748692522519895.\u001b[0m\n"
     ]
    },
    {
     "name": "stdout",
     "output_type": "stream",
     "text": [
      "[-2.29190275 -2.4699881  -2.86650153 -2.8137063  -3.39283138]\n"
     ]
    },
    {
     "name": "stderr",
     "output_type": "stream",
     "text": [
      "\u001b[32m[I 2021-05-08 12:09:18,916]\u001b[0m Trial 238 finished with value: -2.5138082970807583 and parameters: {'eta': 0.9939002413479349, 'gamma': 0.0016449906477760123, 'max_depth': 19, 'min_child_weight': 0.11256295254277951, 'subsample': 0.9085294435502396, 'reg_lambda': 866.767455580409, 'reg_alpha': 0.459912343301204}. Best is trial 200 with value: -2.4748692522519895.\u001b[0m\n"
     ]
    },
    {
     "name": "stdout",
     "output_type": "stream",
     "text": [
      "[-2.11161014 -2.1704215  -2.47820924 -2.52780546 -3.28099514]\n"
     ]
    },
    {
     "name": "stderr",
     "output_type": "stream",
     "text": [
      "\u001b[32m[I 2021-05-08 12:09:19,517]\u001b[0m Trial 239 finished with value: -2.7110453097496503 and parameters: {'eta': 0.9866747399567253, 'gamma': 0.0015846806993513487, 'max_depth': 18, 'min_child_weight': 0.13436354496828223, 'subsample': 0.4288047462388878, 'reg_lambda': 862.7598071130344, 'reg_alpha': 2.5090516424452227}. Best is trial 200 with value: -2.4748692522519895.\u001b[0m\n"
     ]
    },
    {
     "name": "stdout",
     "output_type": "stream",
     "text": [
      "[-2.31862105 -2.36194401 -2.7933207  -2.63856924 -3.44277155]\n"
     ]
    },
    {
     "name": "stderr",
     "output_type": "stream",
     "text": [
      "\u001b[32m[I 2021-05-08 12:09:20,488]\u001b[0m Trial 240 finished with value: -2.490228884761716 and parameters: {'eta': 0.9999454341031859, 'gamma': 0.0009858270133666798, 'max_depth': 19, 'min_child_weight': 0.10631454061527244, 'subsample': 0.911673700759411, 'reg_lambda': 870.4679042544437, 'reg_alpha': 0.5304893152970488}. Best is trial 200 with value: -2.4748692522519895.\u001b[0m\n"
     ]
    },
    {
     "name": "stdout",
     "output_type": "stream",
     "text": [
      "[-2.05445968 -2.15347844 -2.42730031 -2.53729734 -3.27860865]\n"
     ]
    },
    {
     "name": "stderr",
     "output_type": "stream",
     "text": [
      "\u001b[32m[I 2021-05-08 12:09:21,198]\u001b[0m Trial 241 finished with value: -2.5924162819297223 and parameters: {'eta': 0.7174301173753381, 'gamma': 0.0011573477168876562, 'max_depth': 19, 'min_child_weight': 0.10600858146773703, 'subsample': 0.9097995175626862, 'reg_lambda': 849.5268891892352, 'reg_alpha': 16.55084532958705}. Best is trial 200 with value: -2.4748692522519895.\u001b[0m\n"
     ]
    },
    {
     "name": "stdout",
     "output_type": "stream",
     "text": [
      "[-2.08037719 -2.35182806 -2.57817478 -2.57915407 -3.37254731]\n"
     ]
    },
    {
     "name": "stderr",
     "output_type": "stream",
     "text": [
      "\u001b[32m[I 2021-05-08 12:09:21,961]\u001b[0m Trial 242 finished with value: -2.5175990229359377 and parameters: {'eta': 0.9940979303299919, 'gamma': 0.0006497860116121502, 'max_depth': 19, 'min_child_weight': 0.0785483685035593, 'subsample': 0.9420994281884317, 'reg_lambda': 884.384392238172, 'reg_alpha': 0.5328520768281266}. Best is trial 200 with value: -2.4748692522519895.\u001b[0m\n"
     ]
    },
    {
     "name": "stdout",
     "output_type": "stream",
     "text": [
      "[-2.17713054 -2.16770443 -2.5164205  -2.44811034 -3.2786293 ]\n"
     ]
    },
    {
     "name": "stderr",
     "output_type": "stream",
     "text": [
      "\u001b[32m[I 2021-05-08 12:09:22,809]\u001b[0m Trial 243 finished with value: -2.5115011289208025 and parameters: {'eta': 0.9814389629825472, 'gamma': 0.0009561829032902615, 'max_depth': 19, 'min_child_weight': 0.08979078872522232, 'subsample': 0.9397027250728877, 'reg_lambda': 871.7837157672728, 'reg_alpha': 0.4913572768482586}. Best is trial 200 with value: -2.4748692522519895.\u001b[0m\n"
     ]
    },
    {
     "name": "stdout",
     "output_type": "stream",
     "text": [
      "[-2.16358466 -2.14740052 -2.49627028 -2.46620846 -3.28404173]\n"
     ]
    },
    {
     "name": "stderr",
     "output_type": "stream",
     "text": [
      "\u001b[32m[I 2021-05-08 12:09:23,564]\u001b[0m Trial 244 finished with value: -2.5541270218130983 and parameters: {'eta': 0.9995635555530425, 'gamma': 0.0007070456591772708, 'max_depth': 19, 'min_child_weight': 0.09714456269653593, 'subsample': 0.93332253314615, 'reg_lambda': 871.06062545574, 'reg_alpha': 18.720534556327852}. Best is trial 200 with value: -2.4748692522519895.\u001b[0m\n"
     ]
    },
    {
     "name": "stdout",
     "output_type": "stream",
     "text": [
      "[-2.16152317 -2.22819306 -2.57088687 -2.48864129 -3.32139071]\n"
     ]
    },
    {
     "name": "stderr",
     "output_type": "stream",
     "text": [
      "\u001b[32m[I 2021-05-08 12:09:23,801]\u001b[0m Trial 245 finished with value: -21.343856794633986 and parameters: {'eta': 1.3021909178766944e-08, 'gamma': 0.0008235159172787303, 'max_depth': 18, 'min_child_weight': 0.14756720053987213, 'subsample': 0.9462759994613031, 'reg_lambda': 836.3795137646014, 'reg_alpha': 34.461526260828464}. Best is trial 200 with value: -2.4748692522519895.\u001b[0m\n"
     ]
    },
    {
     "name": "stdout",
     "output_type": "stream",
     "text": [
      "[-20.25431348 -22.21604205 -20.75925181 -21.32468397 -22.16499267]\n"
     ]
    },
    {
     "name": "stderr",
     "output_type": "stream",
     "text": [
      "\u001b[32m[I 2021-05-08 12:09:24,563]\u001b[0m Trial 246 finished with value: -2.5753943043579293 and parameters: {'eta': 0.7274869126787584, 'gamma': 0.0005462267076245446, 'max_depth': 19, 'min_child_weight': 0.08401601171991598, 'subsample': 0.9417710637589057, 'reg_lambda': 865.7007224711249, 'reg_alpha': 0.5098170242580293}. Best is trial 200 with value: -2.4748692522519895.\u001b[0m\n"
     ]
    },
    {
     "name": "stdout",
     "output_type": "stream",
     "text": [
      "[-2.20175273 -2.26504043 -2.56971928 -2.47291021 -3.36754887]\n"
     ]
    },
    {
     "name": "stderr",
     "output_type": "stream",
     "text": [
      "\u001b[32m[I 2021-05-08 12:09:25,300]\u001b[0m Trial 247 finished with value: -2.692565347653848 and parameters: {'eta': 0.5246576632604641, 'gamma': 0.0015095887719347176, 'max_depth': 18, 'min_child_weight': 0.06539443595233482, 'subsample': 0.966394631800141, 'reg_lambda': 883.1806329922806, 'reg_alpha': 0.8729821352045398}. Best is trial 200 with value: -2.4748692522519895.\u001b[0m\n"
     ]
    },
    {
     "name": "stdout",
     "output_type": "stream",
     "text": [
      "[-2.16916214 -2.37339411 -2.76042932 -2.66797505 -3.49186611]\n"
     ]
    },
    {
     "name": "stderr",
     "output_type": "stream",
     "text": [
      "\u001b[32m[I 2021-05-08 12:09:26,159]\u001b[0m Trial 248 finished with value: -2.537899900377533 and parameters: {'eta': 0.9992432867004601, 'gamma': 0.0012055288081310662, 'max_depth': 19, 'min_child_weight': 0.1264914895556784, 'subsample': 0.9971860373995924, 'reg_lambda': 852.6077843694231, 'reg_alpha': 0.37842269760140845}. Best is trial 200 with value: -2.4748692522519895.\u001b[0m\n"
     ]
    },
    {
     "name": "stdout",
     "output_type": "stream",
     "text": [
      "[-2.10372207 -2.25727553 -2.61337679 -2.48631862 -3.2288065 ]\n"
     ]
    },
    {
     "name": "stderr",
     "output_type": "stream",
     "text": [
      "\u001b[32m[I 2021-05-08 12:09:26,748]\u001b[0m Trial 249 finished with value: -2.7264423803458975 and parameters: {'eta': 0.6963637969684296, 'gamma': 0.0010478931459500253, 'max_depth': 19, 'min_child_weight': 0.06415882401031889, 'subsample': 0.9108269606510526, 'reg_lambda': 823.579641308528, 'reg_alpha': 53.7846889684593}. Best is trial 200 with value: -2.4748692522519895.\u001b[0m\n"
     ]
    },
    {
     "name": "stdout",
     "output_type": "stream",
     "text": [
      "[-2.15641696 -2.45838901 -2.80402351 -2.77216357 -3.44121885]\n"
     ]
    },
    {
     "name": "stderr",
     "output_type": "stream",
     "text": [
      "\u001b[32m[I 2021-05-08 12:09:27,456]\u001b[0m Trial 250 finished with value: -2.860586025750196 and parameters: {'eta': 0.4097464611744257, 'gamma': 0.0006950386107853722, 'max_depth': 19, 'min_child_weight': 0.21983007267716037, 'subsample': 0.8844807244164947, 'reg_lambda': 875.4114484395595, 'reg_alpha': 20.21771291057664}. Best is trial 200 with value: -2.4748692522519895.\u001b[0m\n"
     ]
    },
    {
     "name": "stdout",
     "output_type": "stream",
     "text": [
      "[-2.3464039  -2.60466611 -3.00493651 -2.85043067 -3.49649294]\n"
     ]
    },
    {
     "name": "stderr",
     "output_type": "stream",
     "text": [
      "\u001b[32m[I 2021-05-08 12:09:28,202]\u001b[0m Trial 251 finished with value: -2.5867977882138007 and parameters: {'eta': 0.6618957376722564, 'gamma': 0.00045149486964482977, 'max_depth': 18, 'min_child_weight': 0.05131805515435793, 'subsample': 0.9270073944037855, 'reg_lambda': 892.6865125864525, 'reg_alpha': 0.8522450375620266}. Best is trial 200 with value: -2.4748692522519895.\u001b[0m\n"
     ]
    },
    {
     "name": "stdout",
     "output_type": "stream",
     "text": [
      "[-2.11165753 -2.34892334 -2.57393769 -2.61069845 -3.28877193]\n"
     ]
    },
    {
     "name": "stderr",
     "output_type": "stream",
     "text": [
      "\u001b[32m[I 2021-05-08 12:09:28,884]\u001b[0m Trial 252 finished with value: -2.571454131202933 and parameters: {'eta': 0.993290110355383, 'gamma': 0.00016646408589542257, 'max_depth': 19, 'min_child_weight': 0.0890915928747541, 'subsample': 0.954557434558736, 'reg_lambda': 840.5901122917141, 'reg_alpha': 28.35034735648168}. Best is trial 200 with value: -2.4748692522519895.\u001b[0m\n"
     ]
    },
    {
     "name": "stdout",
     "output_type": "stream",
     "text": [
      "[-2.19065062 -2.24234018 -2.65338635 -2.48740774 -3.28348576]\n"
     ]
    },
    {
     "name": "stderr",
     "output_type": "stream",
     "text": [
      "\u001b[32m[I 2021-05-08 12:09:29,638]\u001b[0m Trial 253 finished with value: -2.6542027149671386 and parameters: {'eta': 0.5217927734855607, 'gamma': 0.0033407231885986825, 'max_depth': 20, 'min_child_weight': 0.12229771644518228, 'subsample': 0.896740109023397, 'reg_lambda': 856.2256591676178, 'reg_alpha': 0.6485155961325968}. Best is trial 200 with value: -2.4748692522519895.\u001b[0m\n"
     ]
    },
    {
     "name": "stdout",
     "output_type": "stream",
     "text": [
      "[-2.19358799 -2.31509153 -2.68593242 -2.63834436 -3.43805728]\n"
     ]
    },
    {
     "name": "stderr",
     "output_type": "stream",
     "text": [
      "\u001b[32m[I 2021-05-08 12:09:30,292]\u001b[0m Trial 254 finished with value: -2.649578484476348 and parameters: {'eta': 0.9713860238542814, 'gamma': 0.0016109647394750304, 'max_depth': 19, 'min_child_weight': 0.05083999463496347, 'subsample': 0.8690660821563689, 'reg_lambda': 886.0401111758844, 'reg_alpha': 38.46521487507196}. Best is trial 200 with value: -2.4748692522519895.\u001b[0m\n"
     ]
    },
    {
     "name": "stdout",
     "output_type": "stream",
     "text": [
      "[-2.1312265  -2.35393448 -2.75564407 -2.66893629 -3.33815109]\n"
     ]
    },
    {
     "name": "stderr",
     "output_type": "stream",
     "text": [
      "\u001b[32m[I 2021-05-08 12:09:31,011]\u001b[0m Trial 255 finished with value: -2.5747942220075632 and parameters: {'eta': 0.9919943321273126, 'gamma': 0.0008767224572028548, 'max_depth': 18, 'min_child_weight': 0.07973554341179948, 'subsample': 0.9749980630123278, 'reg_lambda': 919.1594726560351, 'reg_alpha': 17.86140805371019}. Best is trial 200 with value: -2.4748692522519895.\u001b[0m\n"
     ]
    },
    {
     "name": "stdout",
     "output_type": "stream",
     "text": [
      "[-2.12180368 -2.18836935 -2.57235977 -2.6007036  -3.39073471]\n"
     ]
    },
    {
     "name": "stderr",
     "output_type": "stream",
     "text": [
      "\u001b[32m[I 2021-05-08 12:09:31,846]\u001b[0m Trial 256 finished with value: -2.622477625558406 and parameters: {'eta': 0.7005106913850258, 'gamma': 0.0028572338470802122, 'max_depth': 20, 'min_child_weight': 0.174926533468405, 'subsample': 0.997877993181294, 'reg_lambda': 965.3429973864361, 'reg_alpha': 0.7334631637295309}. Best is trial 200 with value: -2.4748692522519895.\u001b[0m\n"
     ]
    },
    {
     "name": "stdout",
     "output_type": "stream",
     "text": [
      "[-2.07885084 -2.30931928 -2.6465053  -2.5943449  -3.4833678 ]\n"
     ]
    },
    {
     "name": "stderr",
     "output_type": "stream",
     "text": [
      "\u001b[32m[I 2021-05-08 12:09:32,553]\u001b[0m Trial 257 finished with value: -2.7823256354626316 and parameters: {'eta': 0.4201942894613588, 'gamma': 0.0004003278525805697, 'max_depth': 20, 'min_child_weight': 0.04485155270363198, 'subsample': 0.9265934369037884, 'reg_lambda': 872.3030873883462, 'reg_alpha': 0.617120225813963}. Best is trial 200 with value: -2.4748692522519895.\u001b[0m\n"
     ]
    },
    {
     "name": "stdout",
     "output_type": "stream",
     "text": [
      "[-2.31470196 -2.53771514 -2.85096686 -2.74917501 -3.45906919]\n"
     ]
    },
    {
     "name": "stderr",
     "output_type": "stream",
     "text": [
      "\u001b[32m[I 2021-05-08 12:09:33,182]\u001b[0m Trial 258 finished with value: -2.7494309582357053 and parameters: {'eta': 0.7515976113489723, 'gamma': 0.0002932442589669697, 'max_depth': 19, 'min_child_weight': 0.06271492060796667, 'subsample': 0.9394288855900996, 'reg_lambda': 899.778347883727, 'reg_alpha': 55.30138016786688}. Best is trial 200 with value: -2.4748692522519895.\u001b[0m\n"
     ]
    },
    {
     "name": "stdout",
     "output_type": "stream",
     "text": [
      "[-2.24698294 -2.51324268 -2.79452905 -2.70806787 -3.48433224]\n"
     ]
    },
    {
     "name": "stderr",
     "output_type": "stream",
     "text": [
      "\u001b[32m[I 2021-05-08 12:09:33,825]\u001b[0m Trial 259 finished with value: -2.741306449095408 and parameters: {'eta': 0.5514818425007402, 'gamma': 0.0006424913898410305, 'max_depth': 20, 'min_child_weight': 0.10939796642073076, 'subsample': 0.9102848840216771, 'reg_lambda': 861.6796889869352, 'reg_alpha': 24.08713017822877}. Best is trial 200 with value: -2.4748692522519895.\u001b[0m\n"
     ]
    },
    {
     "name": "stdout",
     "output_type": "stream",
     "text": [
      "[-2.28517753 -2.48541675 -2.7994655  -2.69044249 -3.44602997]\n"
     ]
    },
    {
     "name": "stderr",
     "output_type": "stream",
     "text": [
      "\u001b[32m[I 2021-05-08 12:09:34,354]\u001b[0m Trial 260 finished with value: -3.1978278662893507 and parameters: {'eta': 0.3297034662194135, 'gamma': 0.007382679502503404, 'max_depth': 19, 'min_child_weight': 0.0784847196571466, 'subsample': 0.7362674128109238, 'reg_lambda': 910.7085281246002, 'reg_alpha': 37.33418800999702}. Best is trial 200 with value: -2.4748692522519895.\u001b[0m\n"
     ]
    },
    {
     "name": "stdout",
     "output_type": "stream",
     "text": [
      "[-2.62438158 -2.94812302 -3.48277816 -3.15955471 -3.77430187]\n"
     ]
    },
    {
     "name": "stderr",
     "output_type": "stream",
     "text": [
      "\u001b[32m[I 2021-05-08 12:09:35,095]\u001b[0m Trial 261 finished with value: -2.5673107121785486 and parameters: {'eta': 0.986757389298565, 'gamma': 0.0012066364494412228, 'max_depth': 20, 'min_child_weight': 0.2686964227706568, 'subsample': 0.847338704013443, 'reg_lambda': 804.5218309113529, 'reg_alpha': 17.817169611863406}. Best is trial 200 with value: -2.4748692522519895.\u001b[0m\n"
     ]
    },
    {
     "name": "stdout",
     "output_type": "stream",
     "text": [
      "[-2.14039078 -2.39422471 -2.53592745 -2.46915706 -3.29685356]\n"
     ]
    },
    {
     "name": "stderr",
     "output_type": "stream",
     "text": [
      "\u001b[32m[I 2021-05-08 12:09:35,912]\u001b[0m Trial 262 finished with value: -2.6037888163048546 and parameters: {'eta': 0.7088763501001928, 'gamma': 0.0017825852089192276, 'max_depth': 18, 'min_child_weight': 0.038648847190820804, 'subsample': 0.9527170572309503, 'reg_lambda': 889.4676501206992, 'reg_alpha': 1.6354636945173826}. Best is trial 200 with value: -2.4748692522519895.\u001b[0m\n"
     ]
    },
    {
     "name": "stdout",
     "output_type": "stream",
     "text": [
      "[-2.13708489 -2.29640654 -2.61725477 -2.58558857 -3.38260932]\n"
     ]
    },
    {
     "name": "stderr",
     "output_type": "stream",
     "text": [
      "\u001b[32m[I 2021-05-08 12:09:36,781]\u001b[0m Trial 263 finished with value: -2.510202311509921 and parameters: {'eta': 0.96697733713101, 'gamma': 0.004337695065879484, 'max_depth': 19, 'min_child_weight': 0.16912014960395774, 'subsample': 0.8848627652631154, 'reg_lambda': 929.3826380030387, 'reg_alpha': 0.2672626121966508}. Best is trial 200 with value: -2.4748692522519895.\u001b[0m\n"
     ]
    },
    {
     "name": "stdout",
     "output_type": "stream",
     "text": [
      "[-2.19772519 -2.24047313 -2.49524098 -2.392839   -3.22473325]\n"
     ]
    },
    {
     "name": "stderr",
     "output_type": "stream",
     "text": [
      "\u001b[32m[I 2021-05-08 12:09:38,007]\u001b[0m Trial 264 finished with value: -2.834874050776164 and parameters: {'eta': 0.5108039121180252, 'gamma': 0.0031912915459160196, 'max_depth': 19, 'min_child_weight': 0.21219942693262392, 'subsample': 0.9692164031239465, 'reg_lambda': 924.3491982898562, 'reg_alpha': 45.960272225557915}. Best is trial 200 with value: -2.4748692522519895.\u001b[0m\n"
     ]
    },
    {
     "name": "stdout",
     "output_type": "stream",
     "text": [
      "[-2.31270202 -2.52326957 -2.94386158 -2.86760261 -3.52693446]\n"
     ]
    },
    {
     "name": "stderr",
     "output_type": "stream",
     "text": [
      "\u001b[32m[I 2021-05-08 12:09:39,303]\u001b[0m Trial 265 finished with value: -2.596713896150942 and parameters: {'eta': 0.73857908126849, 'gamma': 0.0055740903402925375, 'max_depth': 19, 'min_child_weight': 0.1599795674542935, 'subsample': 0.8901139750505688, 'reg_lambda': 848.8655922185677, 'reg_alpha': 19.42156283248838}. Best is trial 200 with value: -2.4748692522519895.\u001b[0m\n"
     ]
    },
    {
     "name": "stdout",
     "output_type": "stream",
     "text": [
      "[-2.13781534 -2.44109469 -2.55478588 -2.44612381 -3.40374975]\n"
     ]
    },
    {
     "name": "stderr",
     "output_type": "stream",
     "text": [
      "\u001b[32m[I 2021-05-08 12:09:39,704]\u001b[0m Trial 266 finished with value: -21.23815685013783 and parameters: {'eta': 0.00019611001625463294, 'gamma': 0.00020445918518281766, 'max_depth': 20, 'min_child_weight': 0.1305784514426505, 'subsample': 0.9211612458194558, 'reg_lambda': 877.8284530913053, 'reg_alpha': 1.2344643412607648}. Best is trial 200 with value: -2.4748692522519895.\u001b[0m\n"
     ]
    },
    {
     "name": "stdout",
     "output_type": "stream",
     "text": [
      "[-20.14736105 -22.11151458 -20.65290109 -21.21897501 -22.06003253]\n"
     ]
    },
    {
     "name": "stderr",
     "output_type": "stream",
     "text": [
      "\u001b[32m[I 2021-05-08 12:09:40,276]\u001b[0m Trial 267 finished with value: -2.7468726539494077 and parameters: {'eta': 0.9947056299946669, 'gamma': 0.01041941210682464, 'max_depth': 19, 'min_child_weight': 0.4094419389514921, 'subsample': 0.7539298018990086, 'reg_lambda': 928.0631263865004, 'reg_alpha': 65.68082107491878}. Best is trial 200 with value: -2.4748692522519895.\u001b[0m\n"
     ]
    },
    {
     "name": "stdout",
     "output_type": "stream",
     "text": [
      "[-2.32249886 -2.44305838 -2.84139753 -2.72986698 -3.39754152]\n"
     ]
    },
    {
     "name": "stderr",
     "output_type": "stream",
     "text": [
      "\u001b[32m[I 2021-05-08 12:09:41,008]\u001b[0m Trial 268 finished with value: -2.7436523772993207 and parameters: {'eta': 0.41570224607866524, 'gamma': 0.0009689566525136744, 'max_depth': 19, 'min_child_weight': 0.0023146726970846624, 'subsample': 0.9390847408235171, 'reg_lambda': 830.3757452512851, 'reg_alpha': 0.6621422556999295}. Best is trial 200 with value: -2.4748692522519895.\u001b[0m\n"
     ]
    },
    {
     "name": "stdout",
     "output_type": "stream",
     "text": [
      "[-2.19358599 -2.45848072 -2.85103288 -2.7314346  -3.48372769]\n"
     ]
    },
    {
     "name": "stderr",
     "output_type": "stream",
     "text": [
      "\u001b[32m[I 2021-05-08 12:09:41,273]\u001b[0m Trial 269 finished with value: -21.05541611413014 and parameters: {'eta': 0.0005256245083645287, 'gamma': 0.002167225229972731, 'max_depth': 20, 'min_child_weight': 0.09819802075393096, 'subsample': 0.9855642043501891, 'reg_lambda': 906.1369087796061, 'reg_alpha': 32.117550861187105}. Best is trial 200 with value: -2.4748692522519895.\u001b[0m\n"
     ]
    },
    {
     "name": "stdout",
     "output_type": "stream",
     "text": [
      "[-19.96230722 -21.93071867 -20.46893463 -21.0363046  -21.87881545]\n"
     ]
    },
    {
     "name": "stderr",
     "output_type": "stream",
     "text": [
      "\u001b[32m[I 2021-05-08 12:09:41,631]\u001b[0m Trial 270 finished with value: -3.519552066296707 and parameters: {'eta': 0.6955221694886601, 'gamma': 0.0004443393081008715, 'max_depth': 18, 'min_child_weight': 0.25507210249935813, 'subsample': 0.7077945962415703, 'reg_lambda': 943.7884112359142, 'reg_alpha': 282.68861106780827}. Best is trial 200 with value: -2.4748692522519895.\u001b[0m\n"
     ]
    },
    {
     "name": "stdout",
     "output_type": "stream",
     "text": [
      "[-2.84290601 -3.25000189 -3.95244644 -3.71961913 -3.83278687]\n"
     ]
    },
    {
     "name": "stderr",
     "output_type": "stream",
     "text": [
      "\u001b[32m[I 2021-05-08 12:09:42,446]\u001b[0m Trial 271 finished with value: -2.514138852590396 and parameters: {'eta': 0.9968914531687088, 'gamma': 0.0014349850505376801, 'max_depth': 20, 'min_child_weight': 0.16458172571384033, 'subsample': 0.9035094182929738, 'reg_lambda': 894.661981989476, 'reg_alpha': 0.6393408167108542}. Best is trial 200 with value: -2.4748692522519895.\u001b[0m\n"
     ]
    },
    {
     "name": "stdout",
     "output_type": "stream",
     "text": [
      "[-2.07350733 -2.18541055 -2.56877731 -2.51811437 -3.22488471]\n"
     ]
    },
    {
     "name": "stderr",
     "output_type": "stream",
     "text": [
      "\u001b[32m[I 2021-05-08 12:09:42,736]\u001b[0m Trial 272 finished with value: -17.283651481769702 and parameters: {'eta': 0.008786850439195477, 'gamma': 0.0012606517112003916, 'max_depth': 19, 'min_child_weight': 0.16607339746826047, 'subsample': 0.8765336607846103, 'reg_lambda': 891.40077628283, 'reg_alpha': 16.762138539375673}. Best is trial 200 with value: -2.4748692522519895.\u001b[0m\n"
     ]
    },
    {
     "name": "stdout",
     "output_type": "stream",
     "text": [
      "[-16.14861649 -18.20138172 -16.67471204 -17.26151473 -18.13203243]\n"
     ]
    },
    {
     "name": "stderr",
     "output_type": "stream",
     "text": [
      "\u001b[32m[I 2021-05-08 12:09:43,406]\u001b[0m Trial 273 finished with value: -2.497211987860408 and parameters: {'eta': 0.9958383968266878, 'gamma': 0.000629880552765702, 'max_depth': 18, 'min_child_weight': 0.19448734321784467, 'subsample': 0.7243576919935087, 'reg_lambda': 867.2512965525892, 'reg_alpha': 0.25292068258212536}. Best is trial 200 with value: -2.4748692522519895.\u001b[0m\n"
     ]
    },
    {
     "name": "stdout",
     "output_type": "stream",
     "text": [
      "[-2.10958295 -2.25480661 -2.38878286 -2.48194754 -3.25093998]\n"
     ]
    },
    {
     "name": "stderr",
     "output_type": "stream",
     "text": [
      "\u001b[32m[I 2021-05-08 12:09:44,024]\u001b[0m Trial 274 finished with value: -2.652664624997127 and parameters: {'eta': 0.9995943535919967, 'gamma': 0.0005658863683820882, 'max_depth': 18, 'min_child_weight': 0.29785634666819444, 'subsample': 0.7319018783188711, 'reg_lambda': 865.1743605307447, 'reg_alpha': 37.367598782727946}. Best is trial 200 with value: -2.4748692522519895.\u001b[0m\n"
     ]
    },
    {
     "name": "stdout",
     "output_type": "stream",
     "text": [
      "[-2.22440312 -2.36238022 -2.63521425 -2.71459983 -3.32672571]\n"
     ]
    },
    {
     "name": "stderr",
     "output_type": "stream",
     "text": [
      "\u001b[32m[I 2021-05-08 12:09:44,662]\u001b[0m Trial 275 finished with value: -2.5624382699330646 and parameters: {'eta': 0.9921887220596554, 'gamma': 0.0003137312500488682, 'max_depth': 18, 'min_child_weight': 0.1733569342635018, 'subsample': 0.7204194276056392, 'reg_lambda': 843.6483826663948, 'reg_alpha': 19.22077759541296}. Best is trial 200 with value: -2.4748692522519895.\u001b[0m\n"
     ]
    },
    {
     "name": "stdout",
     "output_type": "stream",
     "text": [
      "[-2.1468494  -2.38463908 -2.51534893 -2.53350885 -3.23184508]\n"
     ]
    },
    {
     "name": "stderr",
     "output_type": "stream",
     "text": [
      "\u001b[32m[I 2021-05-08 12:09:45,229]\u001b[0m Trial 276 finished with value: -2.8526572592170147 and parameters: {'eta': 0.5314668104489246, 'gamma': 0.000712684136485008, 'max_depth': 18, 'min_child_weight': 0.21872284265088224, 'subsample': 0.6986604162917591, 'reg_lambda': 870.3549874158052, 'reg_alpha': 18.226047715206086}. Best is trial 200 with value: -2.4748692522519895.\u001b[0m\n"
     ]
    },
    {
     "name": "stdout",
     "output_type": "stream",
     "text": [
      "[-2.29860925 -2.58493309 -2.9092022  -2.92329817 -3.54724358]\n"
     ]
    },
    {
     "name": "stderr",
     "output_type": "stream",
     "text": [
      "\u001b[32m[I 2021-05-08 12:09:45,760]\u001b[0m Trial 277 finished with value: -3.1786515382130944 and parameters: {'eta': 0.33746845654212687, 'gamma': 0.0008615101462548589, 'max_depth': 19, 'min_child_weight': 0.4353815379137603, 'subsample': 0.764806103575294, 'reg_lambda': 893.9376731496086, 'reg_alpha': 53.413205453591445}. Best is trial 200 with value: -2.4748692522519895.\u001b[0m\n"
     ]
    },
    {
     "name": "stdout",
     "output_type": "stream",
     "text": [
      "[-2.62611792 -2.94313154 -3.49339504 -3.14469762 -3.68591558]\n"
     ]
    },
    {
     "name": "stderr",
     "output_type": "stream",
     "text": [
      "\u001b[32m[I 2021-05-08 12:09:46,463]\u001b[0m Trial 278 finished with value: -2.7033696823414464 and parameters: {'eta': 0.7013789437830236, 'gamma': 0.00026526847570278243, 'max_depth': 18, 'min_child_weight': 0.12268159900838005, 'subsample': 0.7540531639436318, 'reg_lambda': 877.0299077083902, 'reg_alpha': 36.86936612686546}. Best is trial 200 with value: -2.4748692522519895.\u001b[0m\n"
     ]
    },
    {
     "name": "stdout",
     "output_type": "stream",
     "text": [
      "[-2.18063353 -2.467732   -2.71780479 -2.79672678 -3.35395131]\n"
     ]
    },
    {
     "name": "stderr",
     "output_type": "stream",
     "text": [
      "\u001b[32m[I 2021-05-08 12:09:47,264]\u001b[0m Trial 279 finished with value: -2.51007126154723 and parameters: {'eta': 0.9876201060979238, 'gamma': 0.0001208497004911677, 'max_depth': 19, 'min_child_weight': 0.08242903987960964, 'subsample': 0.6785578413416943, 'reg_lambda': 902.7367876259502, 'reg_alpha': 2.071056848483118}. Best is trial 200 with value: -2.4748692522519895.\u001b[0m\n"
     ]
    },
    {
     "name": "stdout",
     "output_type": "stream",
     "text": [
      "[-2.12189832 -2.29412957 -2.53183473 -2.4214231  -3.18107059]\n"
     ]
    },
    {
     "name": "stderr",
     "output_type": "stream",
     "text": [
      "\u001b[32m[I 2021-05-08 12:09:47,977]\u001b[0m Trial 280 finished with value: -2.746370893649113 and parameters: {'eta': 0.5531261690909799, 'gamma': 8.136731708932685e-05, 'max_depth': 19, 'min_child_weight': 0.08915368157680864, 'subsample': 0.6823516420825049, 'reg_lambda': 903.6660856630338, 'reg_alpha': 0.7027177162834357}. Best is trial 200 with value: -2.4748692522519895.\u001b[0m\n"
     ]
    },
    {
     "name": "stdout",
     "output_type": "stream",
     "text": [
      "[-2.20580482 -2.44078256 -2.8541153  -2.76067688 -3.47047491]\n"
     ]
    },
    {
     "name": "stderr",
     "output_type": "stream",
     "text": [
      "\u001b[32m[I 2021-05-08 12:09:48,654]\u001b[0m Trial 281 finished with value: -2.5904080667495726 and parameters: {'eta': 0.9969848343148342, 'gamma': 0.00011518689446602912, 'max_depth': 18, 'min_child_weight': 0.12944578290646916, 'subsample': 0.6624784938482293, 'reg_lambda': 853.5577656570651, 'reg_alpha': 19.807492093322807}. Best is trial 200 with value: -2.4748692522519895.\u001b[0m\n"
     ]
    },
    {
     "name": "stdout",
     "output_type": "stream",
     "text": [
      "[-2.1881329  -2.4575621  -2.56834562 -2.54224534 -3.19575438]\n"
     ]
    },
    {
     "name": "stderr",
     "output_type": "stream",
     "text": [
      "\u001b[32m[I 2021-05-08 12:09:49,624]\u001b[0m Trial 282 finished with value: -2.6050548282199437 and parameters: {'eta': 0.7062689538645995, 'gamma': 0.0001863026937097604, 'max_depth': 19, 'min_child_weight': 0.18521128920440805, 'subsample': 0.7118724951073387, 'reg_lambda': 816.6556328056239, 'reg_alpha': 1.7574742857689012}. Best is trial 200 with value: -2.4748692522519895.\u001b[0m\n"
     ]
    },
    {
     "name": "stdout",
     "output_type": "stream",
     "text": [
      "[-2.09279588 -2.39838062 -2.6336246  -2.60015482 -3.30031822]\n"
     ]
    },
    {
     "name": "stderr",
     "output_type": "stream",
     "text": [
      "\u001b[32m[I 2021-05-08 12:09:50,750]\u001b[0m Trial 283 finished with value: -2.917477218916387 and parameters: {'eta': 0.4185589971248468, 'gamma': 0.00015714676430145626, 'max_depth': 19, 'min_child_weight': 0.0693585086127948, 'subsample': 0.689092763750007, 'reg_lambda': 880.0235761625761, 'reg_alpha': 0.6861421384181234}. Best is trial 200 with value: -2.4748692522519895.\u001b[0m\n"
     ]
    },
    {
     "name": "stdout",
     "output_type": "stream",
     "text": [
      "[-2.40601691 -2.68642996 -3.09345085 -2.91256694 -3.48892143]\n"
     ]
    },
    {
     "name": "stderr",
     "output_type": "stream",
     "text": [
      "\u001b[32m[I 2021-05-08 12:09:51,624]\u001b[0m Trial 284 finished with value: -2.5175259300985458 and parameters: {'eta': 0.9820337441324768, 'gamma': 0.0004233508572762692, 'max_depth': 18, 'min_child_weight': 0.2961555192879046, 'subsample': 0.6408831114075564, 'reg_lambda': 911.5223735168682, 'reg_alpha': 0.7108116072479211}. Best is trial 200 with value: -2.4748692522519895.\u001b[0m\n"
     ]
    },
    {
     "name": "stdout",
     "output_type": "stream",
     "text": [
      "[-2.06021392 -2.20994321 -2.61817988 -2.45598608 -3.24330656]\n"
     ]
    },
    {
     "name": "stderr",
     "output_type": "stream",
     "text": [
      "\u001b[32m[I 2021-05-08 12:09:52,236]\u001b[0m Trial 285 finished with value: -2.916495141147096 and parameters: {'eta': 0.6871762415945176, 'gamma': 0.0005773441402905568, 'max_depth': 18, 'min_child_weight': 0.3321879983510361, 'subsample': 0.6402446440100175, 'reg_lambda': 908.8661888322632, 'reg_alpha': 64.1942479708158}. Best is trial 200 with value: -2.4748692522519895.\u001b[0m\n"
     ]
    },
    {
     "name": "stdout",
     "output_type": "stream",
     "text": [
      "[-2.3910368  -2.63660704 -3.2016148  -2.93494553 -3.41827154]\n"
     ]
    },
    {
     "name": "stderr",
     "output_type": "stream",
     "text": [
      "\u001b[32m[I 2021-05-08 12:09:52,779]\u001b[0m Trial 286 finished with value: -3.8207847002111834 and parameters: {'eta': 0.25942651630104446, 'gamma': 0.0003237174245745623, 'max_depth': 17, 'min_child_weight': 0.5084973163482694, 'subsample': 0.6838229152933362, 'reg_lambda': 837.4493052817526, 'reg_alpha': 247.0755868794578}. Best is trial 200 with value: -2.4748692522519895.\u001b[0m\n"
     ]
    },
    {
     "name": "stdout",
     "output_type": "stream",
     "text": [
      "[-3.14303819 -3.68465981 -4.26611749 -4.06653882 -3.9435692 ]\n"
     ]
    },
    {
     "name": "stderr",
     "output_type": "stream",
     "text": [
      "\u001b[32m[I 2021-05-08 12:09:53,252]\u001b[0m Trial 287 finished with value: -3.1478994502903506 and parameters: {'eta': 0.9888706885797083, 'gamma': 0.0004923769442989996, 'max_depth': 18, 'min_child_weight': 0.2550145952918458, 'subsample': 0.2643494372794357, 'reg_lambda': 862.9442746011073, 'reg_alpha': 34.895109211259445}. Best is trial 200 with value: -2.4748692522519895.\u001b[0m\n"
     ]
    },
    {
     "name": "stdout",
     "output_type": "stream",
     "text": [
      "[-2.66030531 -2.91921593 -3.3667614  -3.16167435 -3.63154027]\n"
     ]
    },
    {
     "name": "stderr",
     "output_type": "stream",
     "text": [
      "\u001b[32m[I 2021-05-08 12:09:53,572]\u001b[0m Trial 288 finished with value: -20.478104491033672 and parameters: {'eta': 0.002495202782055905, 'gamma': 0.00012776543442860724, 'max_depth': 18, 'min_child_weight': 0.32822160524555705, 'subsample': 0.6557320371371987, 'reg_lambda': 892.8845219350364, 'reg_alpha': 599.0079458364229}. Best is trial 200 with value: -2.4748692522519895.\u001b[0m\n"
     ]
    },
    {
     "name": "stdout",
     "output_type": "stream",
     "text": [
      "[-19.37842239 -21.3626141  -19.88738445 -20.45755476 -21.30454675]\n"
     ]
    },
    {
     "name": "stderr",
     "output_type": "stream",
     "text": [
      "\u001b[32m[I 2021-05-08 12:09:54,186]\u001b[0m Trial 289 finished with value: -2.806090953885773 and parameters: {'eta': 0.5207039197897014, 'gamma': 0.00023617821861135057, 'max_depth': 19, 'min_child_weight': 0.14491773886739626, 'subsample': 0.623999158984095, 'reg_lambda': 884.9628444533387, 'reg_alpha': 0.034270268052861486}. Best is trial 200 with value: -2.4748692522519895.\u001b[0m\n"
     ]
    },
    {
     "name": "stdout",
     "output_type": "stream",
     "text": [
      "[-2.27279056 -2.56367237 -2.94960701 -2.81033736 -3.43404747]\n"
     ]
    },
    {
     "name": "stderr",
     "output_type": "stream",
     "text": [
      "\u001b[32m[I 2021-05-08 12:09:54,838]\u001b[0m Trial 290 finished with value: -2.5878389590640127 and parameters: {'eta': 0.9822593039410044, 'gamma': 0.009068783741569894, 'max_depth': 19, 'min_child_weight': 0.6760490225583246, 'subsample': 0.7248585313834652, 'reg_lambda': 915.1962111144692, 'reg_alpha': 20.520063332638017}. Best is trial 200 with value: -2.4748692522519895.\u001b[0m\n"
     ]
    },
    {
     "name": "stdout",
     "output_type": "stream",
     "text": [
      "[-2.13734951 -2.35524583 -2.59824331 -2.56228422 -3.28607193]\n"
     ]
    },
    {
     "name": "stderr",
     "output_type": "stream",
     "text": [
      "\u001b[32m[I 2021-05-08 12:09:55,539]\u001b[0m Trial 291 finished with value: -2.6221984001559973 and parameters: {'eta': 0.7205467767282365, 'gamma': 0.0003920411602277459, 'max_depth': 18, 'min_child_weight': 0.21567242222254132, 'subsample': 0.6695165952346613, 'reg_lambda': 857.9383220625962, 'reg_alpha': 0.712859562151047}. Best is trial 200 with value: -2.4748692522519895.\u001b[0m\n"
     ]
    },
    {
     "name": "stdout",
     "output_type": "stream",
     "text": [
      "[-2.17971475 -2.32663983 -2.55114983 -2.67125863 -3.38222895]\n"
     ]
    },
    {
     "name": "stderr",
     "output_type": "stream",
     "text": [
      "\u001b[32m[I 2021-05-08 12:09:56,235]\u001b[0m Trial 292 finished with value: -2.9458064860708917 and parameters: {'eta': 0.3909459316552645, 'gamma': 0.0006710654495502833, 'max_depth': 19, 'min_child_weight': 0.1067478208842865, 'subsample': 0.9618376067825661, 'reg_lambda': 897.252323402351, 'reg_alpha': 48.94165852702923}. Best is trial 200 with value: -2.4748692522519895.\u001b[0m\n"
     ]
    },
    {
     "name": "stdout",
     "output_type": "stream",
     "text": [
      "[-2.4010737  -2.70208338 -3.13151925 -2.94592081 -3.54843529]\n"
     ]
    },
    {
     "name": "stderr",
     "output_type": "stream",
     "text": [
      "\u001b[32m[I 2021-05-08 12:09:56,965]\u001b[0m Trial 293 finished with value: -2.529050360544228 and parameters: {'eta': 0.9979850520644336, 'gamma': 0.01326112515122466, 'max_depth': 17, 'min_child_weight': 0.4231532386448496, 'subsample': 0.6421152978305994, 'reg_lambda': 870.9221103544809, 'reg_alpha': 0.148820601717072}. Best is trial 200 with value: -2.4748692522519895.\u001b[0m\n"
     ]
    },
    {
     "name": "stdout",
     "output_type": "stream",
     "text": [
      "[-2.06108638 -2.31031036 -2.59174394 -2.47544217 -3.20666895]\n"
     ]
    },
    {
     "name": "stderr",
     "output_type": "stream",
     "text": [
      "\u001b[32m[I 2021-05-08 12:09:57,850]\u001b[0m Trial 294 finished with value: -2.575153755076138 and parameters: {'eta': 0.9865064014827998, 'gamma': 0.0004390889866843692, 'max_depth': 18, 'min_child_weight': 0.168007205043217, 'subsample': 0.7321136723920308, 'reg_lambda': 827.3233406201589, 'reg_alpha': 24.28374129661444}. Best is trial 200 with value: -2.4748692522519895.\u001b[0m\n"
     ]
    },
    {
     "name": "stdout",
     "output_type": "stream",
     "text": [
      "[-2.11510596 -2.42923036 -2.50358908 -2.55664943 -3.27119395]\n"
     ]
    },
    {
     "name": "stderr",
     "output_type": "stream",
     "text": [
      "\u001b[32m[I 2021-05-08 12:09:58,543]\u001b[0m Trial 295 finished with value: -2.7923019653367414 and parameters: {'eta': 0.5491637340327257, 'gamma': 5.913768585957821e-05, 'max_depth': 19, 'min_child_weight': 1.1034504637385061e-05, 'subsample': 0.6667808591587486, 'reg_lambda': 910.8312308294213, 'reg_alpha': 0.38213658203798606}. Best is trial 200 with value: -2.4748692522519895.\u001b[0m\n"
     ]
    },
    {
     "name": "stdout",
     "output_type": "stream",
     "text": [
      "[-2.17863003 -2.52856887 -2.98025962 -2.74614024 -3.52791106]\n"
     ]
    },
    {
     "name": "stderr",
     "output_type": "stream",
     "text": [
      "\u001b[32m[I 2021-05-08 12:09:59,265]\u001b[0m Trial 296 finished with value: -2.648574196550581 and parameters: {'eta': 0.9854355316948731, 'gamma': 0.00026601634913160757, 'max_depth': 19, 'min_child_weight': 0.09028066573881323, 'subsample': 0.7008271158434201, 'reg_lambda': 445.50434696899185, 'reg_alpha': 36.54477403888749}. Best is trial 200 with value: -2.4748692522519895.\u001b[0m\n"
     ]
    },
    {
     "name": "stdout",
     "output_type": "stream",
     "text": [
      "[-2.1590901  -2.4596314  -2.65516023 -2.5309063  -3.43808295]\n"
     ]
    },
    {
     "name": "stderr",
     "output_type": "stream",
     "text": [
      "\u001b[32m[I 2021-05-08 12:09:59,673]\u001b[0m Trial 297 finished with value: -21.343583435812114 and parameters: {'eta': 4.793571682567408e-07, 'gamma': 0.0009699598947333242, 'max_depth': 18, 'min_child_weight': 0.07064649551837739, 'subsample': 0.9990991516391348, 'reg_lambda': 850.5213514036134, 'reg_alpha': 18.162880410138587}. Best is trial 200 with value: -2.4748692522519895.\u001b[0m\n"
     ]
    },
    {
     "name": "stdout",
     "output_type": "stream",
     "text": [
      "[-20.25403673 -22.21577163 -20.75897667 -21.32441068 -22.16472147]\n"
     ]
    },
    {
     "name": "stderr",
     "output_type": "stream",
     "text": [
      "\u001b[32m[I 2021-05-08 12:10:00,458]\u001b[0m Trial 298 finished with value: -2.81039401962139 and parameters: {'eta': 0.6926975444240443, 'gamma': 0.00010147411566456759, 'max_depth': 19, 'min_child_weight': 0.11564744608555694, 'subsample': 0.9462370560922468, 'reg_lambda': 880.6527709226685, 'reg_alpha': 72.77095824623089}. Best is trial 200 with value: -2.4748692522519895.\u001b[0m\n"
     ]
    },
    {
     "name": "stdout",
     "output_type": "stream",
     "text": [
      "[-2.21928487 -2.59007992 -2.8786112  -2.8857477  -3.47824641]\n"
     ]
    },
    {
     "name": "stderr",
     "output_type": "stream",
     "text": [
      "\u001b[32m[I 2021-05-08 12:10:01,353]\u001b[0m Trial 299 finished with value: -2.6163468156449587 and parameters: {'eta': 0.7152138578371517, 'gamma': 0.007326403518268033, 'max_depth': 18, 'min_child_weight': 0.24136263969786723, 'subsample': 0.9823995192030196, 'reg_lambda': 921.8943704117731, 'reg_alpha': 0.9578430313613839}. Best is trial 200 with value: -2.4748692522519895.\u001b[0m\n"
     ]
    },
    {
     "name": "stdout",
     "output_type": "stream",
     "text": [
      "[-2.2167899  -2.35548884 -2.59684816 -2.51799904 -3.39460813]\n"
     ]
    },
    {
     "name": "stderr",
     "output_type": "stream",
     "text": [
      "\u001b[32m[I 2021-05-08 12:10:02,045]\u001b[0m Trial 300 finished with value: -3.1458835441094855 and parameters: {'eta': 0.2999883072585689, 'gamma': 9.677455835682884e-08, 'max_depth': 17, 'min_child_weight': 0.06046119958995147, 'subsample': 0.9003775850413981, 'reg_lambda': 894.0819811380437, 'reg_alpha': 48.12587585839861}. Best is trial 200 with value: -2.4748692522519895.\u001b[0m\n"
     ]
    },
    {
     "name": "stdout",
     "output_type": "stream",
     "text": [
      "[-2.51751018 -2.87540516 -3.42031679 -3.18479743 -3.73138816]\n"
     ]
    },
    {
     "name": "stderr",
     "output_type": "stream",
     "text": [
      "\u001b[32m[I 2021-05-08 12:10:02,902]\u001b[0m Trial 301 finished with value: -2.4779748716413237 and parameters: {'eta': 0.9969087187957528, 'gamma': 0.018873371241682438, 'max_depth': 19, 'min_child_weight': 6.394078765556143e-05, 'subsample': 0.9317286572791319, 'reg_lambda': 808.1101996639791, 'reg_alpha': 0.43614716630148975}. Best is trial 200 with value: -2.4748692522519895.\u001b[0m\n"
     ]
    },
    {
     "name": "stdout",
     "output_type": "stream",
     "text": [
      "[-2.14276159 -2.21306769 -2.53646818 -2.36369275 -3.13388414]\n"
     ]
    },
    {
     "name": "stderr",
     "output_type": "stream",
     "text": [
      "\u001b[32m[I 2021-05-08 12:10:03,634]\u001b[0m Trial 302 finished with value: -2.7136281487264755 and parameters: {'eta': 0.49915738077830857, 'gamma': 0.027087693667673687, 'max_depth': 19, 'min_child_weight': 3.5712845187325e-05, 'subsample': 0.9555700925649977, 'reg_lambda': 810.4532111096185, 'reg_alpha': 22.511407526706364}. Best is trial 200 with value: -2.4748692522519895.\u001b[0m\n"
     ]
    },
    {
     "name": "stdout",
     "output_type": "stream",
     "text": [
      "[-2.18783065 -2.36998115 -2.84983064 -2.70330967 -3.45718863]\n"
     ]
    },
    {
     "name": "stderr",
     "output_type": "stream",
     "text": [
      "\u001b[32m[I 2021-05-08 12:10:04,633]\u001b[0m Trial 303 finished with value: -2.5729250950754423 and parameters: {'eta': 0.7392237935255155, 'gamma': 0.020420490993160737, 'max_depth': 20, 'min_child_weight': 0.0001033195917776547, 'subsample': 0.9260364985627402, 'reg_lambda': 837.0153713841979, 'reg_alpha': 0.3681201452424827}. Best is trial 200 with value: -2.4748692522519895.\u001b[0m\n"
     ]
    },
    {
     "name": "stdout",
     "output_type": "stream",
     "text": [
      "[-2.14614445 -2.24048067 -2.57731849 -2.46228644 -3.43839542]\n"
     ]
    },
    {
     "name": "stderr",
     "output_type": "stream",
     "text": [
      "\u001b[32m[I 2021-05-08 12:10:05,130]\u001b[0m Trial 304 finished with value: -4.29730151522601 and parameters: {'eta': 0.993724034955854, 'gamma': 0.019753804748732045, 'max_depth': 19, 'min_child_weight': 2.1857924327565617e-05, 'subsample': 0.9318109377163757, 'reg_lambda': 871.4810150959167, 'reg_alpha': 795.0323149123294}. Best is trial 200 with value: -2.4748692522519895.\u001b[0m\n"
     ]
    },
    {
     "name": "stdout",
     "output_type": "stream",
     "text": [
      "[-3.55452798 -4.14217291 -4.78629592 -4.62181824 -4.38169252]\n"
     ]
    },
    {
     "name": "stderr",
     "output_type": "stream",
     "text": [
      "\u001b[32m[I 2021-05-08 12:10:06,073]\u001b[0m Trial 305 finished with value: -2.7760917488910537 and parameters: {'eta': 0.5093619346834339, 'gamma': 0.013930039215032552, 'max_depth': 20, 'min_child_weight': 0.09601770882543331, 'subsample': 0.912945676197475, 'reg_lambda': 923.4211860471968, 'reg_alpha': 21.45881915930557}. Best is trial 200 with value: -2.4748692522519895.\u001b[0m\n"
     ]
    },
    {
     "name": "stdout",
     "output_type": "stream",
     "text": [
      "[-2.2575348  -2.47104308 -2.84556257 -2.78845781 -3.51786049]\n"
     ]
    },
    {
     "name": "stderr",
     "output_type": "stream",
     "text": [
      "\u001b[32m[I 2021-05-08 12:10:07,270]\u001b[0m Trial 306 finished with value: -2.709798406159436 and parameters: {'eta': 0.7139873174876219, 'gamma': 0.010717276226539361, 'max_depth': 20, 'min_child_weight': 6.884343877067098e-05, 'subsample': 0.980108471793111, 'reg_lambda': 897.5485092521408, 'reg_alpha': 40.0258881716486}. Best is trial 200 with value: -2.4748692522519895.\u001b[0m\n"
     ]
    },
    {
     "name": "stdout",
     "output_type": "stream",
     "text": [
      "[-2.26053248 -2.38312954 -2.7765545  -2.69193633 -3.43683918]\n"
     ]
    },
    {
     "name": "stderr",
     "output_type": "stream",
     "text": [
      "\u001b[32m[I 2021-05-08 12:10:08,325]\u001b[0m Trial 307 finished with value: -2.8431438165888374 and parameters: {'eta': 0.37459777471863376, 'gamma': 0.006169147698570036, 'max_depth': 19, 'min_child_weight': 0.0001788410287928866, 'subsample': 0.9398877339842585, 'reg_lambda': 786.0978166963362, 'reg_alpha': 18.87371333933642}. Best is trial 200 with value: -2.4748692522519895.\u001b[0m\n"
     ]
    },
    {
     "name": "stdout",
     "output_type": "stream",
     "text": [
      "[-2.33165198 -2.60054321 -2.93556728 -2.82059426 -3.52736235]\n"
     ]
    },
    {
     "name": "stderr",
     "output_type": "stream",
     "text": [
      "\u001b[32m[I 2021-05-08 12:10:09,428]\u001b[0m Trial 308 finished with value: -2.4896057418481803 and parameters: {'eta': 0.9739632312072343, 'gamma': 0.037422955150911395, 'max_depth': 19, 'min_child_weight': 9.704377196141413e-08, 'subsample': 0.7439995427017955, 'reg_lambda': 855.496179911148, 'reg_alpha': 0.6536180374968541}. Best is trial 200 with value: -2.4748692522519895.\u001b[0m\n"
     ]
    },
    {
     "name": "stdout",
     "output_type": "stream",
     "text": [
      "[-2.11738445 -2.19722617 -2.47267908 -2.40427167 -3.25646734]\n"
     ]
    },
    {
     "name": "stderr",
     "output_type": "stream",
     "text": [
      "\u001b[32m[I 2021-05-08 12:10:10,294]\u001b[0m Trial 309 finished with value: -2.7831736352649736 and parameters: {'eta': 0.7260275845377664, 'gamma': 0.09654695358993365, 'max_depth': 19, 'min_child_weight': 1.1106323872054866e-07, 'subsample': 0.7094393805345942, 'reg_lambda': 849.7418041617303, 'reg_alpha': 52.66212437223031}. Best is trial 200 with value: -2.4748692522519895.\u001b[0m\n"
     ]
    },
    {
     "name": "stdout",
     "output_type": "stream",
     "text": [
      "[-2.25040314 -2.47004261 -2.90303207 -2.84675256 -3.4456378 ]\n"
     ]
    },
    {
     "name": "stderr",
     "output_type": "stream",
     "text": [
      "\u001b[32m[I 2021-05-08 12:10:11,535]\u001b[0m Trial 310 finished with value: -2.4967451012693807 and parameters: {'eta': 0.969073536229268, 'gamma': 0.039781190429731064, 'max_depth': 19, 'min_child_weight': 0.05415656236892818, 'subsample': 0.9024438027370582, 'reg_lambda': 864.8115587838192, 'reg_alpha': 0.08191021711587942}. Best is trial 200 with value: -2.4748692522519895.\u001b[0m\n"
     ]
    },
    {
     "name": "stdout",
     "output_type": "stream",
     "text": [
      "[-2.06852592 -2.17107142 -2.49880384 -2.5258536  -3.21947072]\n"
     ]
    },
    {
     "name": "stderr",
     "output_type": "stream",
     "text": [
      "\u001b[32m[I 2021-05-08 12:10:12,433]\u001b[0m Trial 311 finished with value: -2.5283968016129954 and parameters: {'eta': 0.99250015054094, 'gamma': 0.05313618364263181, 'max_depth': 20, 'min_child_weight': 1.1051867721831066e-08, 'subsample': 0.8955792858815403, 'reg_lambda': 806.4901947873749, 'reg_alpha': 18.88421416900913}. Best is trial 200 with value: -2.4748692522519895.\u001b[0m\n"
     ]
    },
    {
     "name": "stdout",
     "output_type": "stream",
     "text": [
      "[-2.08658581 -2.24129001 -2.57334905 -2.4178538  -3.32290533]\n"
     ]
    },
    {
     "name": "stderr",
     "output_type": "stream",
     "text": [
      "\u001b[32m[I 2021-05-08 12:10:12,979]\u001b[0m Trial 312 finished with value: -2.9207097055941453 and parameters: {'eta': 0.5508490182470832, 'gamma': 0.035268621817631796, 'max_depth': 19, 'min_child_weight': 0.038332884726857155, 'subsample': 0.4994737315330876, 'reg_lambda': 827.8400319285707, 'reg_alpha': 0.3381450714429104}. Best is trial 200 with value: -2.4748692522519895.\u001b[0m\n"
     ]
    },
    {
     "name": "stdout",
     "output_type": "stream",
     "text": [
      "[-2.39619451 -2.72873213 -3.09005085 -2.9330936  -3.45547743]\n"
     ]
    },
    {
     "name": "stderr",
     "output_type": "stream",
     "text": [
      "\u001b[32m[I 2021-05-08 12:10:13,723]\u001b[0m Trial 313 finished with value: -3.296189120063075 and parameters: {'eta': 0.24333079058614118, 'gamma': 0.029514973526678125, 'max_depth': 20, 'min_child_weight': 4.696646161803488e-08, 'subsample': 0.7412968234919106, 'reg_lambda': 855.6559390386551, 'reg_alpha': 0.501338216483814}. Best is trial 200 with value: -2.4748692522519895.\u001b[0m\n"
     ]
    },
    {
     "name": "stdout",
     "output_type": "stream",
     "text": [
      "[-2.68684441 -3.1178404  -3.61439399 -3.29372198 -3.76814481]\n"
     ]
    },
    {
     "name": "stderr",
     "output_type": "stream",
     "text": [
      "\u001b[32m[I 2021-05-08 12:10:14,470]\u001b[0m Trial 314 finished with value: -2.605831628923063 and parameters: {'eta': 0.9975024011681495, 'gamma': 0.04643194157457467, 'max_depth': 20, 'min_child_weight': 0.052468515537951635, 'subsample': 0.9028651953892591, 'reg_lambda': 840.2318472163904, 'reg_alpha': 38.34447444015838}. Best is trial 200 with value: -2.4748692522519895.\u001b[0m\n"
     ]
    },
    {
     "name": "stdout",
     "output_type": "stream",
     "text": [
      "[-2.14823954 -2.2402292  -2.62484877 -2.63655779 -3.37928284]\n"
     ]
    },
    {
     "name": "stderr",
     "output_type": "stream",
     "text": [
      "\u001b[32m[I 2021-05-08 12:10:15,441]\u001b[0m Trial 315 finished with value: -2.5293251149801557 and parameters: {'eta': 0.9896470749870196, 'gamma': 0.039468727715617616, 'max_depth': 19, 'min_child_weight': 1.6438421110480397e-06, 'subsample': 0.914837532949962, 'reg_lambda': 869.3844039498643, 'reg_alpha': 0.0014031083134294908}. Best is trial 200 with value: -2.4748692522519895.\u001b[0m\n"
     ]
    },
    {
     "name": "stdout",
     "output_type": "stream",
     "text": [
      "[-2.13254042 -2.21312755 -2.46917766 -2.55352718 -3.27825276]\n"
     ]
    },
    {
     "name": "stderr",
     "output_type": "stream",
     "text": [
      "\u001b[32m[I 2021-05-08 12:10:16,899]\u001b[0m Trial 316 finished with value: -2.7326945549882486 and parameters: {'eta': 0.4514576595670415, 'gamma': 0.07182990065577165, 'max_depth': 19, 'min_child_weight': 6.514442610497341e-06, 'subsample': 0.8821966762596571, 'reg_lambda': 866.577968736093, 'reg_alpha': 0.04586433265087653}. Best is trial 200 with value: -2.4748692522519895.\u001b[0m\n"
     ]
    },
    {
     "name": "stdout",
     "output_type": "stream",
     "text": [
      "[-2.24029992 -2.44734615 -2.79528165 -2.70188418 -3.47866087]\n"
     ]
    },
    {
     "name": "stderr",
     "output_type": "stream",
     "text": [
      "\u001b[32m[I 2021-05-08 12:10:17,232]\u001b[0m Trial 317 finished with value: -21.30585201481831 and parameters: {'eta': 8.229616315217857e-05, 'gamma': 0.020415307405980496, 'max_depth': 20, 'min_child_weight': 0.1240659149839404, 'subsample': 0.7149693997662926, 'reg_lambda': 826.7643565932207, 'reg_alpha': 29.620928943866616}. Best is trial 200 with value: -2.4748692522519895.\u001b[0m\n"
     ]
    },
    {
     "name": "stdout",
     "output_type": "stream",
     "text": [
      "[-20.21588499 -22.17849583 -20.72100935 -21.28667063 -22.12719927]\n"
     ]
    },
    {
     "name": "stderr",
     "output_type": "stream",
     "text": [
      "\u001b[32m[I 2021-05-08 12:10:18,123]\u001b[0m Trial 318 finished with value: -2.775242482950658 and parameters: {'eta': 0.6995969436430337, 'gamma': 0.02544396817353277, 'max_depth': 19, 'min_child_weight': 0.051380805887801646, 'subsample': 0.956788351233726, 'reg_lambda': 886.0883696809716, 'reg_alpha': 68.05172702686637}. Best is trial 200 with value: -2.4748692522519895.\u001b[0m\n"
     ]
    },
    {
     "name": "stdout",
     "output_type": "stream",
     "text": [
      "[-2.18073856 -2.4141352  -2.90655124 -2.90160109 -3.47318633]\n"
     ]
    },
    {
     "name": "stderr",
     "output_type": "stream",
     "text": [
      "\u001b[32m[I 2021-05-08 12:10:18,913]\u001b[0m Trial 319 finished with value: -2.6488112390541736 and parameters: {'eta': 0.7179491656988525, 'gamma': 0.015192930758275209, 'max_depth': 20, 'min_child_weight': 2.0026901763936507e-07, 'subsample': 0.7444630163889975, 'reg_lambda': 851.0086395256583, 'reg_alpha': 19.18323861106006}. Best is trial 200 with value: -2.4748692522519895.\u001b[0m\n"
     ]
    },
    {
     "name": "stdout",
     "output_type": "stream",
     "text": [
      "[-2.12207806 -2.42869975 -2.70901951 -2.56415037 -3.4201085 ]\n"
     ]
    },
    {
     "name": "stderr",
     "output_type": "stream",
     "text": [
      "\u001b[32m[I 2021-05-08 12:10:19,811]\u001b[0m Trial 320 finished with value: -2.5798711846139697 and parameters: {'eta': 0.9789346867065132, 'gamma': 0.004776453622693405, 'max_depth': 19, 'min_child_weight': 0.07384658761864886, 'subsample': 0.9237916367246201, 'reg_lambda': 912.0190625657665, 'reg_alpha': 18.436164428480243}. Best is trial 200 with value: -2.4748692522519895.\u001b[0m\n"
     ]
    },
    {
     "name": "stdout",
     "output_type": "stream",
     "text": [
      "[-2.1708528  -2.35129942 -2.60306745 -2.5195146  -3.25462165]\n"
     ]
    },
    {
     "name": "stderr",
     "output_type": "stream",
     "text": [
      "\u001b[32m[I 2021-05-08 12:10:20,470]\u001b[0m Trial 321 finished with value: -2.98116307973273 and parameters: {'eta': 0.38343580627730983, 'gamma': 0.010776820420248615, 'max_depth': 20, 'min_child_weight': 0.1687440148735972, 'subsample': 0.8936880929098474, 'reg_lambda': 936.39613378713, 'reg_alpha': 37.73656727575393}. Best is trial 200 with value: -2.4748692522519895.\u001b[0m\n"
     ]
    },
    {
     "name": "stdout",
     "output_type": "stream",
     "text": [
      "[-2.43464883 -2.72679661 -3.20568216 -2.93716546 -3.60152234]\n"
     ]
    },
    {
     "name": "stderr",
     "output_type": "stream",
     "text": [
      "\u001b[32m[I 2021-05-08 12:10:21,081]\u001b[0m Trial 322 finished with value: -2.5698863093411477 and parameters: {'eta': 0.9808584483307025, 'gamma': 0.06461806319218806, 'max_depth': 19, 'min_child_weight': 0.08794014504814454, 'subsample': 0.6910354936141032, 'reg_lambda': 877.8458440371301, 'reg_alpha': 16.819455155748013}. Best is trial 200 with value: -2.4748692522519895.\u001b[0m\n"
     ]
    },
    {
     "name": "stdout",
     "output_type": "stream",
     "text": [
      "[-2.08623244 -2.37645352 -2.61283977 -2.51800875 -3.25589706]\n"
     ]
    },
    {
     "name": "stderr",
     "output_type": "stream",
     "text": [
      "\u001b[32m[I 2021-05-08 12:10:22,047]\u001b[0m Trial 323 finished with value: -2.6986027836269804 and parameters: {'eta': 0.4982126198873041, 'gamma': 0.016510989308742643, 'max_depth': 19, 'min_child_weight': 0.044760711381315946, 'subsample': 0.8686614780412758, 'reg_lambda': 902.753146905047, 'reg_alpha': 0.6040972011820037}. Best is trial 200 with value: -2.4748692522519895.\u001b[0m\n"
     ]
    },
    {
     "name": "stdout",
     "output_type": "stream",
     "text": [
      "[-2.25397738 -2.42298312 -2.75476909 -2.68870166 -3.37258266]\n"
     ]
    },
    {
     "name": "stderr",
     "output_type": "stream",
     "text": [
      "\u001b[32m[I 2021-05-08 12:10:22,993]\u001b[0m Trial 324 finished with value: -2.674971746326965 and parameters: {'eta': 0.9784213061852108, 'gamma': 0.008132050815112623, 'max_depth': 20, 'min_child_weight': 0.0013856642585720568, 'subsample': 0.9652401344057909, 'reg_lambda': 863.5812478184553, 'reg_alpha': 53.23157858353923}. Best is trial 200 with value: -2.4748692522519895.\u001b[0m\n"
     ]
    },
    {
     "name": "stdout",
     "output_type": "stream",
     "text": [
      "[-2.25868567 -2.35234986 -2.74104532 -2.60521576 -3.41756212]\n"
     ]
    },
    {
     "name": "stderr",
     "output_type": "stream",
     "text": [
      "\u001b[32m[I 2021-05-08 12:10:23,995]\u001b[0m Trial 325 finished with value: -2.6878414738443164 and parameters: {'eta': 0.6072901037115372, 'gamma': 0.004208695258006875, 'max_depth': 18, 'min_child_weight': 0.1166995146090499, 'subsample': 0.9990190513756063, 'reg_lambda': 842.5073903556676, 'reg_alpha': 28.81815961602027}. Best is trial 200 with value: -2.4748692522519895.\u001b[0m\n"
     ]
    },
    {
     "name": "stdout",
     "output_type": "stream",
     "text": [
      "[-2.12876827 -2.51421545 -2.6812754  -2.7133145  -3.40163376]\n"
     ]
    },
    {
     "name": "stderr",
     "output_type": "stream",
     "text": [
      "\u001b[32m[I 2021-05-08 12:10:24,322]\u001b[0m Trial 326 finished with value: -21.34063385228169 and parameters: {'eta': 6.021590476873741e-06, 'gamma': 0.0013632166380926792, 'max_depth': 19, 'min_child_weight': 0.06065501363075686, 'subsample': 0.9250301473813782, 'reg_lambda': 889.7338017349125, 'reg_alpha': 0.4280212006275278}. Best is trial 200 with value: -2.4748692522519895.\u001b[0m\n"
     ]
    },
    {
     "name": "stdout",
     "output_type": "stream",
     "text": [
      "[-20.25105191 -22.21285517 -20.75600914 -21.32146108 -22.16179196]\n"
     ]
    },
    {
     "name": "stderr",
     "output_type": "stream",
     "text": [
      "\u001b[32m[I 2021-05-08 12:10:25,176]\u001b[0m Trial 327 finished with value: -2.5254436515113454 and parameters: {'eta': 0.993897317900359, 'gamma': 0.02682215809850548, 'max_depth': 20, 'min_child_weight': 3.2518685735130903e-07, 'subsample': 0.7213126669753747, 'reg_lambda': 922.2879560983022, 'reg_alpha': 0.9230932801216645}. Best is trial 200 with value: -2.4748692522519895.\u001b[0m\n"
     ]
    },
    {
     "name": "stdout",
     "output_type": "stream",
     "text": [
      "[-2.09657529 -2.32756687 -2.49944965 -2.44582107 -3.25780539]\n"
     ]
    },
    {
     "name": "stderr",
     "output_type": "stream",
     "text": [
      "\u001b[32m[I 2021-05-08 12:10:25,896]\u001b[0m Trial 328 finished with value: -2.6418416465594445 and parameters: {'eta': 0.7004403660969735, 'gamma': 0.006897879498689413, 'max_depth': 20, 'min_child_weight': 0.036590811645257654, 'subsample': 0.9024916873085568, 'reg_lambda': 818.9849770023667, 'reg_alpha': 35.88259417843218}. Best is trial 200 with value: -2.4748692522519895.\u001b[0m\n"
     ]
    },
    {
     "name": "stdout",
     "output_type": "stream",
     "text": [
      "[-2.12825873 -2.35910791 -2.66883215 -2.7095529  -3.34345654]\n"
     ]
    },
    {
     "name": "stderr",
     "output_type": "stream",
     "text": [
      "\u001b[32m[I 2021-05-08 12:10:26,409]\u001b[0m Trial 329 finished with value: -3.137753866731385 and parameters: {'eta': 0.33734039557871875, 'gamma': 0.0012409988757955692, 'max_depth': 19, 'min_child_weight': 0.14741291375560114, 'subsample': 0.9399578443193434, 'reg_lambda': 871.9940175075187, 'reg_alpha': 87.40110107632132}. Best is trial 200 with value: -2.4748692522519895.\u001b[0m\n"
     ]
    },
    {
     "name": "stdout",
     "output_type": "stream",
     "text": [
      "[-2.59137432 -2.81015158 -3.41169641 -3.14533108 -3.73021595]\n"
     ]
    },
    {
     "name": "stderr",
     "output_type": "stream",
     "text": [
      "\u001b[32m[I 2021-05-08 12:10:27,072]\u001b[0m Trial 330 finished with value: -2.7861524328832274 and parameters: {'eta': 0.5997976242655887, 'gamma': 0.0037391616025602447, 'max_depth': 19, 'min_child_weight': 0.07951328785131735, 'subsample': 0.6823132201770548, 'reg_lambda': 904.7424934927151, 'reg_alpha': 18.434127287302104}. Best is trial 200 with value: -2.4748692522519895.\u001b[0m\n"
     ]
    },
    {
     "name": "stdout",
     "output_type": "stream",
     "text": [
      "[-2.24221094 -2.52782125 -2.91894188 -2.77727331 -3.46451478]\n"
     ]
    },
    {
     "name": "stderr",
     "output_type": "stream",
     "text": [
      "\u001b[32m[I 2021-05-08 12:10:27,898]\u001b[0m Trial 331 finished with value: -2.6554864143618833 and parameters: {'eta': 0.9672291491676177, 'gamma': 0.03799718237515264, 'max_depth': 18, 'min_child_weight': 3.0133088488021795e-08, 'subsample': 0.8819165286469557, 'reg_lambda': 936.7367902393208, 'reg_alpha': 52.61686135566209}. Best is trial 200 with value: -2.4748692522519895.\u001b[0m\n"
     ]
    },
    {
     "name": "stdout",
     "output_type": "stream",
     "text": [
      "[-2.15265836 -2.23783653 -2.73023513 -2.66935523 -3.48734682]\n"
     ]
    },
    {
     "name": "stderr",
     "output_type": "stream",
     "text": [
      "\u001b[32m[I 2021-05-08 12:10:28,629]\u001b[0m Trial 332 finished with value: -2.589736724223619 and parameters: {'eta': 0.9827217533385797, 'gamma': 0.011642566472312973, 'max_depth': 20, 'min_child_weight': 0.052990835941580425, 'subsample': 0.7442908610858879, 'reg_lambda': 850.8114010444622, 'reg_alpha': 19.664296181377743}. Best is trial 200 with value: -2.4748692522519895.\u001b[0m\n"
     ]
    },
    {
     "name": "stdout",
     "output_type": "stream",
     "text": [
      "[-2.18505748 -2.32425104 -2.59018724 -2.51280374 -3.33638412]\n"
     ]
    },
    {
     "name": "stderr",
     "output_type": "stream",
     "text": [
      "\u001b[32m[I 2021-05-08 12:10:29,393]\u001b[0m Trial 333 finished with value: -2.7487056944458574 and parameters: {'eta': 0.49051933270590603, 'gamma': 0.0008074696668770032, 'max_depth': 19, 'min_child_weight': 0.0006893399418925224, 'subsample': 0.9659462001379052, 'reg_lambda': 880.4481232930627, 'reg_alpha': 13.059393295148844}. Best is trial 200 with value: -2.4748692522519895.\u001b[0m\n"
     ]
    },
    {
     "name": "stdout",
     "output_type": "stream",
     "text": [
      "[-2.26970143 -2.44530819 -2.78814058 -2.75551497 -3.4848633 ]\n"
     ]
    },
    {
     "name": "stderr",
     "output_type": "stream",
     "text": [
      "\u001b[32m[I 2021-05-08 12:10:30,243]\u001b[0m Trial 334 finished with value: -2.5692932630586034 and parameters: {'eta': 0.7093950020971455, 'gamma': 0.019416866317405194, 'max_depth': 18, 'min_child_weight': 7.564114320359877e-07, 'subsample': 0.7650598985613383, 'reg_lambda': 902.366396443443, 'reg_alpha': 0.1993184919057467}. Best is trial 200 with value: -2.4748692522519895.\u001b[0m\n"
     ]
    },
    {
     "name": "stdout",
     "output_type": "stream",
     "text": [
      "[-2.11790788 -2.29713315 -2.50772729 -2.57386326 -3.34983473]\n"
     ]
    },
    {
     "name": "stderr",
     "output_type": "stream",
     "text": [
      "\u001b[32m[I 2021-05-08 12:10:31,111]\u001b[0m Trial 335 finished with value: -2.6796516334922225 and parameters: {'eta': 0.6892048554452703, 'gamma': 0.005528820188833686, 'max_depth': 19, 'min_child_weight': 0.10730226786820724, 'subsample': 0.9171581265937748, 'reg_lambda': 860.3666824516146, 'reg_alpha': 35.71129603232439}. Best is trial 200 with value: -2.4748692522519895.\u001b[0m\n"
     ]
    },
    {
     "name": "stdout",
     "output_type": "stream",
     "text": [
      "[-2.159791   -2.44206688 -2.68684521 -2.62027261 -3.48928247]\n"
     ]
    },
    {
     "name": "stderr",
     "output_type": "stream",
     "text": [
      "\u001b[32m[I 2021-05-08 12:10:31,746]\u001b[0m Trial 336 finished with value: -2.8562256272987083 and parameters: {'eta': 0.4137006696426178, 'gamma': 0.001833344711596036, 'max_depth': 20, 'min_child_weight': 0.1961435712464706, 'subsample': 0.7070418076247524, 'reg_lambda': 689.7639783593313, 'reg_alpha': 15.835494430639024}. Best is trial 200 with value: -2.4748692522519895.\u001b[0m\n"
     ]
    },
    {
     "name": "stdout",
     "output_type": "stream",
     "text": [
      "[-2.20203083 -2.64132832 -2.91570588 -2.96495855 -3.55710455]\n"
     ]
    },
    {
     "name": "stderr",
     "output_type": "stream",
     "text": [
      "\u001b[32m[I 2021-05-08 12:10:32,488]\u001b[0m Trial 337 finished with value: -2.4597310230202147 and parameters: {'eta': 0.9884484830835643, 'gamma': 0.00313705396557801, 'max_depth': 20, 'min_child_weight': 0.0375165186137641, 'subsample': 0.6515420279892726, 'reg_lambda': 351.72509560328626, 'reg_alpha': 1.3443336384466598}. Best is trial 337 with value: -2.4597310230202147.\u001b[0m\n"
     ]
    },
    {
     "name": "stdout",
     "output_type": "stream",
     "text": [
      "[-2.0981466  -2.19184513 -2.54739795 -2.54190426 -2.91936118]\n"
     ]
    },
    {
     "name": "stderr",
     "output_type": "stream",
     "text": [
      "\u001b[32m[I 2021-05-08 12:10:33,212]\u001b[0m Trial 338 finished with value: -2.729677810986837 and parameters: {'eta': 0.18536584397307787, 'gamma': 0.0038842273652302, 'max_depth': 20, 'min_child_weight': 0.03123687226914329, 'subsample': 0.6657019193983086, 'reg_lambda': 217.26121468337112, 'reg_alpha': 1.4040805944798849}. Best is trial 337 with value: -2.4597310230202147.\u001b[0m\n"
     ]
    },
    {
     "name": "stdout",
     "output_type": "stream",
     "text": [
      "[-2.23174066 -2.50172785 -2.71766482 -2.72314471 -3.47411102]\n"
     ]
    },
    {
     "name": "stderr",
     "output_type": "stream",
     "text": [
      "\u001b[32m[I 2021-05-08 12:10:33,886]\u001b[0m Trial 339 finished with value: -2.7221110412632976 and parameters: {'eta': 0.99376494944597, 'gamma': 0.0031281057637832553, 'max_depth': 20, 'min_child_weight': 0.040000469728073626, 'subsample': 0.9826500080406262, 'reg_lambda': 833.5877863956152, 'reg_alpha': 57.06298937805667}. Best is trial 337 with value: -2.4597310230202147.\u001b[0m\n"
     ]
    },
    {
     "name": "stdout",
     "output_type": "stream",
     "text": [
      "[-2.26840224 -2.39694723 -2.7826289  -2.71060158 -3.45197527]\n"
     ]
    },
    {
     "name": "stderr",
     "output_type": "stream",
     "text": [
      "\u001b[32m[I 2021-05-08 12:10:34,729]\u001b[0m Trial 340 finished with value: -2.3673103362366006 and parameters: {'eta': 0.9876077816947297, 'gamma': 0.009281259279330826, 'max_depth': 20, 'min_child_weight': 0.06176794546958502, 'subsample': 0.7263582662284843, 'reg_lambda': 356.95703964395165, 'reg_alpha': 0.3093731899836243}. Best is trial 340 with value: -2.3673103362366006.\u001b[0m\n"
     ]
    },
    {
     "name": "stdout",
     "output_type": "stream",
     "text": [
      "[-2.0081198  -2.03189124 -2.43250663 -2.46339422 -2.90063979]\n"
     ]
    },
    {
     "name": "stderr",
     "output_type": "stream",
     "text": [
      "\u001b[32m[I 2021-05-08 12:10:35,009]\u001b[0m Trial 341 finished with value: -21.324706930914044 and parameters: {'eta': 2.5030206011926528e-05, 'gamma': 0.008612835445852849, 'max_depth': 20, 'min_child_weight': 0.05482321297922699, 'subsample': 0.6884159372193838, 'reg_lambda': 392.50228671493807, 'reg_alpha': 31.266194076235532}. Best is trial 340 with value: -2.3673103362366006.\u001b[0m\n"
     ]
    },
    {
     "name": "stdout",
     "output_type": "stream",
     "text": [
      "[-20.23494721 -22.19712395 -20.73998133 -21.30551344 -22.14596871]\n"
     ]
    },
    {
     "name": "stderr",
     "output_type": "stream",
     "text": [
      "\u001b[32m[I 2021-05-08 12:10:35,828]\u001b[0m Trial 342 finished with value: -2.479824700867688 and parameters: {'eta': 0.5654288480537166, 'gamma': 0.006159203713630766, 'max_depth': 20, 'min_child_weight': 0.028697534028500345, 'subsample': 0.7224260348137356, 'reg_lambda': 342.3007537853263, 'reg_alpha': 1.512529222042906}. Best is trial 340 with value: -2.3673103362366006.\u001b[0m\n"
     ]
    },
    {
     "name": "stdout",
     "output_type": "stream",
     "text": [
      "[-2.15989152 -2.25290566 -2.48077803 -2.44829242 -3.05725588]\n"
     ]
    },
    {
     "name": "stderr",
     "output_type": "stream",
     "text": [
      "\u001b[32m[I 2021-05-08 12:10:36,590]\u001b[0m Trial 343 finished with value: -2.5033143944092737 and parameters: {'eta': 0.548287903764307, 'gamma': 0.011009672175054582, 'max_depth': 20, 'min_child_weight': 0.027955780479549417, 'subsample': 0.7071406479510647, 'reg_lambda': 517.5451038274658, 'reg_alpha': 0.3287835318480161}. Best is trial 340 with value: -2.3673103362366006.\u001b[0m\n"
     ]
    },
    {
     "name": "stdout",
     "output_type": "stream",
     "text": [
      "[-2.03773503 -2.25724109 -2.44965415 -2.47592306 -3.29601864]\n"
     ]
    },
    {
     "name": "stderr",
     "output_type": "stream",
     "text": [
      "\u001b[32m[I 2021-05-08 12:10:36,980]\u001b[0m Trial 344 finished with value: -4.032554939576137 and parameters: {'eta': 0.28072025651618104, 'gamma': 0.01249593145085839, 'max_depth': 20, 'min_child_weight': 0.024861508404610565, 'subsample': 0.7130469894874545, 'reg_lambda': 357.3404394600822, 'reg_alpha': 528.2823005167697}. Best is trial 340 with value: -2.3673103362366006.\u001b[0m\n"
     ]
    },
    {
     "name": "stdout",
     "output_type": "stream",
     "text": [
      "[-3.27284844 -3.93699378 -4.43588203 -4.37238896 -4.14466149]\n"
     ]
    },
    {
     "name": "stderr",
     "output_type": "stream",
     "text": [
      "\u001b[32m[I 2021-05-08 12:10:37,666]\u001b[0m Trial 345 finished with value: -2.5975455898885373 and parameters: {'eta': 0.5141904896598238, 'gamma': 0.0074835215541742646, 'max_depth': 20, 'min_child_weight': 0.02027700446285088, 'subsample': 0.6769263779692298, 'reg_lambda': 323.3361964620535, 'reg_alpha': 38.12268724220546}. Best is trial 340 with value: -2.3673103362366006.\u001b[0m\n"
     ]
    },
    {
     "name": "stdout",
     "output_type": "stream",
     "text": [
      "[-2.14036821 -2.40409442 -2.59169144 -2.64181215 -3.20976172]\n"
     ]
    },
    {
     "name": "stderr",
     "output_type": "stream",
     "text": [
      "\u001b[32m[I 2021-05-08 12:10:38,334]\u001b[0m Trial 346 finished with value: -2.664624117627556 and parameters: {'eta': 0.3244223801736016, 'gamma': 0.009969517994662034, 'max_depth': 20, 'min_child_weight': 0.028922087623697846, 'subsample': 0.6992459876677911, 'reg_lambda': 342.23687473212954, 'reg_alpha': 16.199592752847593}. Best is trial 340 with value: -2.3673103362366006.\u001b[0m\n"
     ]
    },
    {
     "name": "stdout",
     "output_type": "stream",
     "text": [
      "[-2.18013574 -2.45663794 -2.65169215 -2.66702694 -3.36762781]\n"
     ]
    },
    {
     "name": "stderr",
     "output_type": "stream",
     "text": [
      "\u001b[32m[I 2021-05-08 12:10:39,028]\u001b[0m Trial 347 finished with value: -2.527126750433886 and parameters: {'eta': 0.5328321353789998, 'gamma': 0.01619596170921519, 'max_depth': 20, 'min_child_weight': 0.01232500904233778, 'subsample': 0.6543162078505089, 'reg_lambda': 294.2296996169462, 'reg_alpha': 16.81209686584996}. Best is trial 340 with value: -2.3673103362366006.\u001b[0m\n"
     ]
    },
    {
     "name": "stdout",
     "output_type": "stream",
     "text": [
      "[-2.09873853 -2.42908041 -2.48185979 -2.37514013 -3.2508149 ]\n"
     ]
    },
    {
     "name": "stderr",
     "output_type": "stream",
     "text": [
      "\u001b[32m[I 2021-05-08 12:10:39,816]\u001b[0m Trial 348 finished with value: -2.447807460979179 and parameters: {'eta': 0.7065476217434162, 'gamma': 0.006945884434724511, 'max_depth': 20, 'min_child_weight': 0.034346949651350454, 'subsample': 0.729014056614066, 'reg_lambda': 349.0561922543772, 'reg_alpha': 1.2566023671420696}. Best is trial 340 with value: -2.3673103362366006.\u001b[0m\n"
     ]
    },
    {
     "name": "stdout",
     "output_type": "stream",
     "text": [
      "[-2.21115541 -2.17312358 -2.38229733 -2.38604735 -3.08641363]\n"
     ]
    },
    {
     "name": "stderr",
     "output_type": "stream",
     "text": [
      "\u001b[32m[I 2021-05-08 12:10:40,319]\u001b[0m Trial 349 finished with value: -2.963087027997146 and parameters: {'eta': 0.2516183281601184, 'gamma': 0.0074360918835991155, 'max_depth': 19, 'min_child_weight': 0.01848412750134868, 'subsample': 0.7198691053387108, 'reg_lambda': 362.74015833577863, 'reg_alpha': 73.13353752228612}. Best is trial 340 with value: -2.3673103362366006.\u001b[0m\n"
     ]
    },
    {
     "name": "stdout",
     "output_type": "stream",
     "text": [
      "[-2.27960859 -2.70767373 -3.10772987 -3.07776652 -3.64265643]\n"
     ]
    },
    {
     "name": "stderr",
     "output_type": "stream",
     "text": [
      "\u001b[32m[I 2021-05-08 12:10:41,133]\u001b[0m Trial 350 finished with value: -2.5171036623613334 and parameters: {'eta': 0.4609136306209947, 'gamma': 0.00525806863575802, 'max_depth': 19, 'min_child_weight': 0.031337995480772964, 'subsample': 0.7223798084519973, 'reg_lambda': 368.4047848081911, 'reg_alpha': 0.06888060371642513}. Best is trial 340 with value: -2.3673103362366006.\u001b[0m\n"
     ]
    },
    {
     "name": "stdout",
     "output_type": "stream",
     "text": [
      "[-2.05136049 -2.44627113 -2.45009394 -2.40563076 -3.23216199]\n"
     ]
    },
    {
     "name": "stderr",
     "output_type": "stream",
     "text": [
      "\u001b[32m[I 2021-05-08 12:10:41,780]\u001b[0m Trial 351 finished with value: -2.598446478066621 and parameters: {'eta': 0.6618695129756145, 'gamma': 0.010822146387847165, 'max_depth': 20, 'min_child_weight': 0.03876239185334233, 'subsample': 0.6977383195089224, 'reg_lambda': 295.44013136828886, 'reg_alpha': 37.39051763117146}. Best is trial 340 with value: -2.3673103362366006.\u001b[0m\n"
     ]
    },
    {
     "name": "stdout",
     "output_type": "stream",
     "text": [
      "[-2.23527097 -2.35480602 -2.6635265  -2.4826496  -3.25597929]\n"
     ]
    },
    {
     "name": "stderr",
     "output_type": "stream",
     "text": [
      "\u001b[32m[I 2021-05-08 12:10:42,525]\u001b[0m Trial 352 finished with value: -2.580093029987665 and parameters: {'eta': 0.37933694641841176, 'gamma': 0.013505828372839503, 'max_depth': 19, 'min_child_weight': 0.019966721054709247, 'subsample': 0.7260789965700881, 'reg_lambda': 379.85075607919794, 'reg_alpha': 0.18579648285204206}. Best is trial 340 with value: -2.3673103362366006.\u001b[0m\n"
     ]
    },
    {
     "name": "stdout",
     "output_type": "stream",
     "text": [
      "[-2.10933383 -2.31961158 -2.46589868 -2.62269912 -3.38292193]\n"
     ]
    },
    {
     "name": "stderr",
     "output_type": "stream",
     "text": [
      "\u001b[32m[I 2021-05-08 12:10:43,208]\u001b[0m Trial 353 finished with value: -2.739338057206001 and parameters: {'eta': 0.6987168879497178, 'gamma': 0.005795024128469332, 'max_depth': 20, 'min_child_weight': 0.04455882167379171, 'subsample': 0.6815992348611176, 'reg_lambda': 752.8111902315576, 'reg_alpha': 47.23846213206678}. Best is trial 340 with value: -2.3673103362366006.\u001b[0m\n"
     ]
    },
    {
     "name": "stdout",
     "output_type": "stream",
     "text": [
      "[-2.1886064  -2.5130354  -2.85715598 -2.73172663 -3.40616587]\n"
     ]
    },
    {
     "name": "stderr",
     "output_type": "stream",
     "text": [
      "\u001b[32m[I 2021-05-08 12:10:43,895]\u001b[0m Trial 354 finished with value: -2.544107483834396 and parameters: {'eta': 0.717175169936639, 'gamma': 0.02166117582264133, 'max_depth': 19, 'min_child_weight': 0.02956990299810086, 'subsample': 0.695184685315078, 'reg_lambda': 338.6763665747945, 'reg_alpha': 21.892502664406564}. Best is trial 340 with value: -2.3673103362366006.\u001b[0m\n"
     ]
    },
    {
     "name": "stdout",
     "output_type": "stream",
     "text": [
      "[-2.24850553 -2.24962383 -2.52778857 -2.52328148 -3.17133802]\n"
     ]
    },
    {
     "name": "stderr",
     "output_type": "stream",
     "text": [
      "\u001b[32m[I 2021-05-08 12:10:44,650]\u001b[0m Trial 355 finished with value: -2.561897591620316 and parameters: {'eta': 0.5164082608528076, 'gamma': 0.008837744399713377, 'max_depth': 20, 'min_child_weight': 0.06562574391109975, 'subsample': 0.7386866665437074, 'reg_lambda': 539.8120394076793, 'reg_alpha': 2.0460703816773593}. Best is trial 340 with value: -2.3673103362366006.\u001b[0m\n"
     ]
    },
    {
     "name": "stdout",
     "output_type": "stream",
     "text": [
      "[-2.07520695 -2.35879158 -2.48810274 -2.56550086 -3.32188583]\n"
     ]
    },
    {
     "name": "stderr",
     "output_type": "stream",
     "text": [
      "\u001b[32m[I 2021-05-08 12:10:45,871]\u001b[0m Trial 356 finished with value: -2.5240610197267412 and parameters: {'eta': 0.7324640748748463, 'gamma': 0.01467454041489741, 'max_depth': 19, 'min_child_weight': 0.043167141976920585, 'subsample': 0.9994476396710391, 'reg_lambda': 343.2978420870731, 'reg_alpha': 18.057322279269023}. Best is trial 340 with value: -2.3673103362366006.\u001b[0m\n"
     ]
    },
    {
     "name": "stdout",
     "output_type": "stream",
     "text": [
      "[-2.07579512 -2.12674072 -2.67943036 -2.58723305 -3.15110585]\n"
     ]
    },
    {
     "name": "stderr",
     "output_type": "stream",
     "text": [
      "\u001b[32m[I 2021-05-08 12:10:46,536]\u001b[0m Trial 357 finished with value: -2.6533276966471733 and parameters: {'eta': 0.9926719592838412, 'gamma': 0.006018205152115284, 'max_depth': 20, 'min_child_weight': 0.02522918494977638, 'subsample': 0.7032635201257766, 'reg_lambda': 423.02283197199864, 'reg_alpha': 56.93205993049147}. Best is trial 340 with value: -2.3673103362366006.\u001b[0m\n"
     ]
    },
    {
     "name": "stdout",
     "output_type": "stream",
     "text": [
      "[-2.11146892 -2.46960769 -2.61679136 -2.60022837 -3.46854215]\n"
     ]
    },
    {
     "name": "stderr",
     "output_type": "stream",
     "text": [
      "\u001b[32m[I 2021-05-08 12:10:46,911]\u001b[0m Trial 358 finished with value: -21.34373852871671 and parameters: {'eta': 1.3962028671198403e-07, 'gamma': 0.025975517026621674, 'max_depth': 19, 'min_child_weight': 0.013048405581829691, 'subsample': 0.7248858081221116, 'reg_lambda': 319.2248994289587, 'reg_alpha': 0.23224062087158143}. Best is trial 340 with value: -2.3673103362366006.\u001b[0m\n"
     ]
    },
    {
     "name": "stdout",
     "output_type": "stream",
     "text": [
      "[-20.25419405 -22.21592512 -20.75913291 -21.32456555 -22.16487501]\n"
     ]
    },
    {
     "name": "stderr",
     "output_type": "stream",
     "text": [
      "\u001b[32m[I 2021-05-08 12:10:48,371]\u001b[0m Trial 359 finished with value: -2.753234350092617 and parameters: {'eta': 0.37416755871592977, 'gamma': 0.009907143431430246, 'max_depth': 19, 'min_child_weight': 0.06063792792009487, 'subsample': 0.6656623647990932, 'reg_lambda': 394.8035660772554, 'reg_alpha': 33.00011087365098}. Best is trial 340 with value: -2.3673103362366006.\u001b[0m\n"
     ]
    },
    {
     "name": "stdout",
     "output_type": "stream",
     "text": [
      "[-2.25936822 -2.54399792 -2.77492607 -2.79326002 -3.39461952]\n"
     ]
    },
    {
     "name": "stderr",
     "output_type": "stream",
     "text": [
      "\u001b[32m[I 2021-05-08 12:10:49,216]\u001b[0m Trial 360 finished with value: -2.564550813239298 and parameters: {'eta': 0.9873546977845228, 'gamma': 0.004894780809442255, 'max_depth': 20, 'min_child_weight': 2.1452117602959644e-06, 'subsample': 0.9585196840809321, 'reg_lambda': 299.5325894918543, 'reg_alpha': 18.442884074873316}. Best is trial 340 with value: -2.3673103362366006.\u001b[0m\n"
     ]
    },
    {
     "name": "stdout",
     "output_type": "stream",
     "text": [
      "[-2.16957665 -2.31220597 -2.53814683 -2.59334396 -3.20948065]\n"
     ]
    },
    {
     "name": "stderr",
     "output_type": "stream",
     "text": [
      "\u001b[32m[I 2021-05-08 12:10:49,835]\u001b[0m Trial 361 finished with value: -3.207203771809001 and parameters: {'eta': 0.5596267096930743, 'gamma': 0.04011320400518111, 'max_depth': 20, 'min_child_weight': 0.048129950830309035, 'subsample': 0.6758077335710075, 'reg_lambda': 492.7889562602429, 'reg_alpha': 182.15892201816143}. Best is trial 340 with value: -2.3673103362366006.\u001b[0m\n"
     ]
    },
    {
     "name": "stdout",
     "output_type": "stream",
     "text": [
      "[-2.54681644 -2.93281526 -3.5407798  -3.28823767 -3.72736969]\n"
     ]
    },
    {
     "name": "stderr",
     "output_type": "stream",
     "text": [
      "\u001b[32m[I 2021-05-08 12:10:51,413]\u001b[0m Trial 362 finished with value: -2.367482925306132 and parameters: {'eta': 0.989704225063195, 'gamma': 0.007061695385684874, 'max_depth': 19, 'min_child_weight': 0.02619539450892248, 'subsample': 0.6394297238289246, 'reg_lambda': 347.11044403213737, 'reg_alpha': 0.8703677397556154}. Best is trial 340 with value: -2.3673103362366006.\u001b[0m\n"
     ]
    },
    {
     "name": "stdout",
     "output_type": "stream",
     "text": [
      "[-2.0578511  -1.94092545 -2.43746863 -2.50755093 -2.89361852]\n"
     ]
    },
    {
     "name": "stderr",
     "output_type": "stream",
     "text": [
      "\u001b[32m[I 2021-05-08 12:10:52,253]\u001b[0m Trial 363 finished with value: -2.748113863685985 and parameters: {'eta': 0.24226116332021524, 'gamma': 0.007641166134996427, 'max_depth': 19, 'min_child_weight': 0.014770576963045363, 'subsample': 0.616314492333106, 'reg_lambda': 319.58055078795337, 'reg_alpha': 1.7688660010280213}. Best is trial 340 with value: -2.3673103362366006.\u001b[0m\n"
     ]
    },
    {
     "name": "stdout",
     "output_type": "stream",
     "text": [
      "[-2.23315325 -2.54214973 -2.78919484 -2.74684013 -3.42923136]\n"
     ]
    },
    {
     "name": "stderr",
     "output_type": "stream",
     "text": [
      "\u001b[32m[I 2021-05-08 12:10:53,037]\u001b[0m Trial 364 finished with value: -2.5953386955967654 and parameters: {'eta': 0.9926054001100147, 'gamma': 0.014259839597937278, 'max_depth': 20, 'min_child_weight': 0.020921494331602748, 'subsample': 0.5975268907145778, 'reg_lambda': 349.899238597172, 'reg_alpha': 35.302573904099916}. Best is trial 340 with value: -2.3673103362366006.\u001b[0m\n"
     ]
    },
    {
     "name": "stdout",
     "output_type": "stream",
     "text": [
      "[-2.24485044 -2.40113108 -2.61478316 -2.6025544  -3.1133744 ]\n"
     ]
    },
    {
     "name": "stderr",
     "output_type": "stream",
     "text": [
      "\u001b[32m[I 2021-05-08 12:10:54,078]\u001b[0m Trial 365 finished with value: -2.689411748350402 and parameters: {'eta': 0.7148270042215635, 'gamma': 0.0067679256999242715, 'max_depth': 19, 'min_child_weight': 0.029072703563885114, 'subsample': 0.6441248241542892, 'reg_lambda': 370.3420440835469, 'reg_alpha': 70.20860101558624}. Best is trial 340 with value: -2.3673103362366006.\u001b[0m\n"
     ]
    },
    {
     "name": "stdout",
     "output_type": "stream",
     "text": [
      "[-2.30551532 -2.61748441 -2.69306927 -2.58047148 -3.25051827]\n"
     ]
    },
    {
     "name": "stderr",
     "output_type": "stream",
     "text": [
      "\u001b[32m[I 2021-05-08 12:10:55,133]\u001b[0m Trial 366 finished with value: -2.642122949188138 and parameters: {'eta': 0.4063504179506329, 'gamma': 0.010713923850553838, 'max_depth': 20, 'min_child_weight': 0.032082188492769635, 'subsample': 0.6309382326091123, 'reg_lambda': 355.6793438768986, 'reg_alpha': 18.41298429166031}. Best is trial 340 with value: -2.3673103362366006.\u001b[0m\n"
     ]
    },
    {
     "name": "stdout",
     "output_type": "stream",
     "text": [
      "[-2.07158602 -2.49243083 -2.68267269 -2.62443012 -3.33949508]\n"
     ]
    },
    {
     "name": "stderr",
     "output_type": "stream",
     "text": [
      "\u001b[32m[I 2021-05-08 12:10:55,755]\u001b[0m Trial 367 finished with value: -2.5794154129204925 and parameters: {'eta': 0.988592033483286, 'gamma': 0.016644628958224304, 'max_depth': 20, 'min_child_weight': 0.016691258595340566, 'subsample': 0.6692462727341218, 'reg_lambda': 331.53794699199517, 'reg_alpha': 49.98560367526954}. Best is trial 340 with value: -2.3673103362366006.\u001b[0m\n"
     ]
    },
    {
     "name": "stdout",
     "output_type": "stream",
     "text": [
      "[-2.11808401 -2.30223318 -2.68523753 -2.66598182 -3.12554053]\n"
     ]
    },
    {
     "name": "stderr",
     "output_type": "stream",
     "text": [
      "\u001b[32m[I 2021-05-08 12:10:56,590]\u001b[0m Trial 368 finished with value: -2.5324285521860475 and parameters: {'eta': 0.5746107396335708, 'gamma': 0.0048732028673630495, 'max_depth': 19, 'min_child_weight': 0.040994651140953964, 'subsample': 0.657869497958186, 'reg_lambda': 412.44301852498245, 'reg_alpha': 0.5676929335743499}. Best is trial 340 with value: -2.3673103362366006.\u001b[0m\n"
     ]
    },
    {
     "name": "stdout",
     "output_type": "stream",
     "text": [
      "[-2.13602058 -2.36986113 -2.51151729 -2.43838883 -3.20635493]\n"
     ]
    },
    {
     "name": "stderr",
     "output_type": "stream",
     "text": [
      "\u001b[32m[I 2021-05-08 12:10:57,363]\u001b[0m Trial 369 finished with value: -2.483890277008951 and parameters: {'eta': 0.7105431325278422, 'gamma': 0.00763862203620199, 'max_depth': 19, 'min_child_weight': 0.029431819571476787, 'subsample': 0.7057109355315934, 'reg_lambda': 435.9915013388534, 'reg_alpha': 1.283402982923453}. Best is trial 340 with value: -2.3673103362366006.\u001b[0m\n"
     ]
    },
    {
     "name": "stdout",
     "output_type": "stream",
     "text": [
      "[-2.13884899 -2.22627342 -2.4222402  -2.49546654 -3.13662224]\n"
     ]
    },
    {
     "name": "stderr",
     "output_type": "stream",
     "text": [
      "\u001b[32m[I 2021-05-08 12:10:58,198]\u001b[0m Trial 370 finished with value: -2.765655375480652 and parameters: {'eta': 0.3206777940558088, 'gamma': 0.009131996158774735, 'max_depth': 18, 'min_child_weight': 0.00929673336300426, 'subsample': 0.7279146031143382, 'reg_lambda': 439.8643189853274, 'reg_alpha': 30.572269427113774}. Best is trial 340 with value: -2.3673103362366006.\u001b[0m\n"
     ]
    },
    {
     "name": "stdout",
     "output_type": "stream",
     "text": [
      "[-2.17291922 -2.4690494  -2.84310454 -2.85554993 -3.48765378]\n"
     ]
    },
    {
     "name": "stderr",
     "output_type": "stream",
     "text": [
      "\u001b[32m[I 2021-05-08 12:10:59,578]\u001b[0m Trial 371 finished with value: -2.491535303551474 and parameters: {'eta': 0.5147472176560086, 'gamma': 0.006407111414734631, 'max_depth': 19, 'min_child_weight': 0.021443122724249714, 'subsample': 0.7049694223967238, 'reg_lambda': 262.48725141882437, 'reg_alpha': 0.45321644146634205}. Best is trial 340 with value: -2.3673103362366006.\u001b[0m\n"
     ]
    },
    {
     "name": "stdout",
     "output_type": "stream",
     "text": [
      "[-2.24801164 -2.27856316 -2.417578   -2.40130763 -3.11221609]\n"
     ]
    },
    {
     "name": "stderr",
     "output_type": "stream",
     "text": [
      "\u001b[32m[I 2021-05-08 12:11:00,194]\u001b[0m Trial 372 finished with value: -3.0014397898426766 and parameters: {'eta': 0.14763745101639125, 'gamma': 0.0057607372411586045, 'max_depth': 19, 'min_child_weight': 0.02352739713109517, 'subsample': 0.7530119937634221, 'reg_lambda': 267.55428563840087, 'reg_alpha': 22.339542535256587}. Best is trial 340 with value: -2.3673103362366006.\u001b[0m\n"
     ]
    },
    {
     "name": "stdout",
     "output_type": "stream",
     "text": [
      "[-2.45477776 -2.7521865  -3.18976472 -2.95409592 -3.65637405]\n"
     ]
    },
    {
     "name": "stderr",
     "output_type": "stream",
     "text": [
      "\u001b[32m[I 2021-05-08 12:11:00,867]\u001b[0m Trial 373 finished with value: -2.6657862613230576 and parameters: {'eta': 0.21160313264176558, 'gamma': 0.006919106484801598, 'max_depth': 19, 'min_child_weight': 0.011499784588931104, 'subsample': 0.7084645123760382, 'reg_lambda': 236.49870894163053, 'reg_alpha': 1.8072855897623068}. Best is trial 340 with value: -2.3673103362366006.\u001b[0m\n"
     ]
    },
    {
     "name": "stdout",
     "output_type": "stream",
     "text": [
      "[-2.19597135 -2.4486439  -2.63066393 -2.64396167 -3.40969045]\n"
     ]
    },
    {
     "name": "stderr",
     "output_type": "stream",
     "text": [
      "\u001b[32m[I 2021-05-08 12:11:01,801]\u001b[0m Trial 374 finished with value: -2.591255289254365 and parameters: {'eta': 0.42022908849535756, 'gamma': 0.004112962874099526, 'max_depth': 19, 'min_child_weight': 0.02083012916414227, 'subsample': 0.7318526965324145, 'reg_lambda': 384.73958298366864, 'reg_alpha': 16.901701005028993}. Best is trial 340 with value: -2.3673103362366006.\u001b[0m\n"
     ]
    },
    {
     "name": "stdout",
     "output_type": "stream",
     "text": [
      "[-2.1151997  -2.3654458  -2.55241351 -2.57822032 -3.34499712]\n"
     ]
    },
    {
     "name": "stderr",
     "output_type": "stream",
     "text": [
      "\u001b[32m[I 2021-05-08 12:11:02,864]\u001b[0m Trial 375 finished with value: -2.5384574760448784 and parameters: {'eta': 0.5552294521115408, 'gamma': 0.010160698640006115, 'max_depth': 19, 'min_child_weight': 0.03188049116474091, 'subsample': 0.7076490332377751, 'reg_lambda': 443.1506556958931, 'reg_alpha': 1.821875751549144}. Best is trial 340 with value: -2.3673103362366006.\u001b[0m\n"
     ]
    },
    {
     "name": "stdout",
     "output_type": "stream",
     "text": [
      "[-2.18190062 -2.40007998 -2.42202843 -2.44241911 -3.24585923]\n"
     ]
    },
    {
     "name": "stderr",
     "output_type": "stream",
     "text": [
      "\u001b[32m[I 2021-05-08 12:11:03,498]\u001b[0m Trial 376 finished with value: -3.0126123932967954 and parameters: {'eta': 0.28297516765712427, 'gamma': 0.021077529869459852, 'max_depth': 19, 'min_child_weight': 0.01555595103267371, 'subsample': 0.5815522815740388, 'reg_lambda': 394.6491587707685, 'reg_alpha': 48.591716798093216}. Best is trial 340 with value: -2.3673103362366006.\u001b[0m\n"
     ]
    },
    {
     "name": "stdout",
     "output_type": "stream",
     "text": [
      "[-2.43502128 -2.71386678 -3.21215304 -3.03086929 -3.67115157]\n"
     ]
    },
    {
     "name": "stderr",
     "output_type": "stream",
     "text": [
      "\u001b[32m[I 2021-05-08 12:11:04,008]\u001b[0m Trial 377 finished with value: -2.684659702389329 and parameters: {'eta': 0.7282146799497233, 'gamma': 0.008245189906960906, 'max_depth': 19, 'min_child_weight': 0.02446547389696484, 'subsample': 0.3707565431024882, 'reg_lambda': 327.64203557336634, 'reg_alpha': 32.72052696446698}. Best is trial 340 with value: -2.3673103362366006.\u001b[0m\n"
     ]
    },
    {
     "name": "stdout",
     "output_type": "stream",
     "text": [
      "[-2.17821534 -2.43695975 -2.68451067 -2.69613529 -3.42747745]\n"
     ]
    },
    {
     "name": "stderr",
     "output_type": "stream",
     "text": [
      "\u001b[32m[I 2021-05-08 12:11:05,325]\u001b[0m Trial 378 finished with value: -2.6511960404537342 and parameters: {'eta': 0.48260059104927866, 'gamma': 0.004583418191710624, 'max_depth': 20, 'min_child_weight': 0.03580057927634266, 'subsample': 0.7560390028248485, 'reg_lambda': 625.3146963316608, 'reg_alpha': 16.914410421485}. Best is trial 340 with value: -2.3673103362366006.\u001b[0m\n"
     ]
    },
    {
     "name": "stdout",
     "output_type": "stream",
     "text": [
      "[-2.09434296 -2.38867906 -2.65111581 -2.69395366 -3.4278887 ]\n"
     ]
    },
    {
     "name": "stderr",
     "output_type": "stream",
     "text": [
      "\u001b[32m[I 2021-05-08 12:11:06,299]\u001b[0m Trial 379 finished with value: -2.3881349790302324 and parameters: {'eta': 0.6974393899244139, 'gamma': 0.011025135561472955, 'max_depth': 19, 'min_child_weight': 0.016279065025225144, 'subsample': 0.7387878239233564, 'reg_lambda': 170.3642433256161, 'reg_alpha': 1.509275013607828}. Best is trial 340 with value: -2.3673103362366006.\u001b[0m\n"
     ]
    },
    {
     "name": "stdout",
     "output_type": "stream",
     "text": [
      "[-2.0610257  -2.21112711 -2.18733738 -2.71898748 -2.76219723]\n"
     ]
    },
    {
     "name": "stderr",
     "output_type": "stream",
     "text": [
      "\u001b[32m[I 2021-05-08 12:11:07,239]\u001b[0m Trial 380 finished with value: -2.379939426586952 and parameters: {'eta': 0.3504850354280843, 'gamma': 0.01233884426837124, 'max_depth': 19, 'min_child_weight': 0.010428977292097692, 'subsample': 0.7475416741979569, 'reg_lambda': 31.71536297501126, 'reg_alpha': 1.2466944969048384}. Best is trial 340 with value: -2.3673103362366006.\u001b[0m\n"
     ]
    },
    {
     "name": "stdout",
     "output_type": "stream",
     "text": [
      "[-2.05128961 -2.31359392 -2.08944727 -2.50218941 -2.94317693]\n"
     ]
    },
    {
     "name": "stderr",
     "output_type": "stream",
     "text": [
      "\u001b[32m[I 2021-05-08 12:11:07,999]\u001b[0m Trial 381 finished with value: -2.4460745755183844 and parameters: {'eta': 0.29871911292918996, 'gamma': 0.012997068637649701, 'max_depth': 20, 'min_child_weight': 0.007590915472443011, 'subsample': 0.7384795443160023, 'reg_lambda': 161.19762767970707, 'reg_alpha': 2.1989069971229727}. Best is trial 340 with value: -2.3673103362366006.\u001b[0m\n"
     ]
    },
    {
     "name": "stdout",
     "output_type": "stream",
     "text": [
      "[-2.2115194  -2.14034231 -2.36534914 -2.48337763 -3.0297844 ]\n"
     ]
    },
    {
     "name": "stderr",
     "output_type": "stream",
     "text": [
      "\u001b[32m[I 2021-05-08 12:11:08,506]\u001b[0m Trial 382 finished with value: -3.5055239592187197 and parameters: {'eta': 0.27797763494596983, 'gamma': 0.013660553516850115, 'max_depth': 20, 'min_child_weight': 0.005475341393064639, 'subsample': 0.7509579961810827, 'reg_lambda': 28.60124127069838, 'reg_alpha': 358.4544854613666}. Best is trial 340 with value: -2.3673103362366006.\u001b[0m\n"
     ]
    },
    {
     "name": "stdout",
     "output_type": "stream",
     "text": [
      "[-2.98151769 -3.4433892  -3.67675115 -3.44296598 -3.98299578]\n"
     ]
    },
    {
     "name": "stderr",
     "output_type": "stream",
     "text": [
      "\u001b[32m[I 2021-05-08 12:11:09,207]\u001b[0m Trial 383 finished with value: -2.6446248267432786 and parameters: {'eta': 0.19100099097357884, 'gamma': 0.018168036277754537, 'max_depth': 20, 'min_child_weight': 0.007478150516751306, 'subsample': 0.733750710047966, 'reg_lambda': 56.63538746662485, 'reg_alpha': 34.09361133159982}. Best is trial 340 with value: -2.3673103362366006.\u001b[0m\n"
     ]
    },
    {
     "name": "stdout",
     "output_type": "stream",
     "text": [
      "[-2.20897354 -2.49653744 -2.56295295 -2.63704666 -3.31761355]\n"
     ]
    },
    {
     "name": "stderr",
     "output_type": "stream",
     "text": [
      "\u001b[32m[I 2021-05-08 12:11:09,729]\u001b[0m Trial 384 finished with value: -2.732189547597626 and parameters: {'eta': 0.317184915209041, 'gamma': 0.02495938936022119, 'max_depth': 20, 'min_child_weight': 0.0036318380204111325, 'subsample': 0.7658085270757355, 'reg_lambda': 190.34771388579335, 'reg_alpha': 67.60719884057882}. Best is trial 340 with value: -2.3673103362366006.\u001b[0m\n"
     ]
    },
    {
     "name": "stdout",
     "output_type": "stream",
     "text": [
      "[-2.19035177 -2.49626389 -2.76058293 -2.65228193 -3.56146723]\n"
     ]
    },
    {
     "name": "stderr",
     "output_type": "stream",
     "text": [
      "\u001b[32m[I 2021-05-08 12:11:11,105]\u001b[0m Trial 385 finished with value: -2.646777069868865 and parameters: {'eta': 0.161653716274222, 'gamma': 0.012412129209880109, 'max_depth': 20, 'min_child_weight': 0.008468193164033069, 'subsample': 0.7471612858097119, 'reg_lambda': 166.02280263614708, 'reg_alpha': 1.2301935667074437}. Best is trial 340 with value: -2.3673103362366006.\u001b[0m\n"
     ]
    },
    {
     "name": "stdout",
     "output_type": "stream",
     "text": [
      "[-2.06049186 -2.46856702 -2.6472858  -2.68756578 -3.36997489]\n"
     ]
    },
    {
     "name": "stderr",
     "output_type": "stream",
     "text": [
      "\u001b[32m[I 2021-05-08 12:11:11,858]\u001b[0m Trial 386 finished with value: -2.5182840691436956 and parameters: {'eta': 0.32533035261890286, 'gamma': 0.01567323557936658, 'max_depth': 20, 'min_child_weight': 0.004173175584710058, 'subsample': 0.7126339716935531, 'reg_lambda': 91.76855499259023, 'reg_alpha': 20.802807429309805}. Best is trial 340 with value: -2.3673103362366006.\u001b[0m\n"
     ]
    },
    {
     "name": "stdout",
     "output_type": "stream",
     "text": [
      "[-2.17756425 -2.19080803 -2.45869458 -2.58671036 -3.17764312]\n"
     ]
    },
    {
     "name": "stderr",
     "output_type": "stream",
     "text": [
      "\u001b[32m[I 2021-05-08 12:11:12,813]\u001b[0m Trial 387 finished with value: -2.371970694123963 and parameters: {'eta': 0.389541155421839, 'gamma': 0.03478175665848042, 'max_depth': 20, 'min_child_weight': 0.012247892085933304, 'subsample': 0.7330124788263324, 'reg_lambda': 135.56662953363082, 'reg_alpha': 1.101966715075735}. Best is trial 340 with value: -2.3673103362366006.\u001b[0m\n"
     ]
    },
    {
     "name": "stdout",
     "output_type": "stream",
     "text": [
      "[-2.12623547 -2.08958485 -2.21360189 -2.34095492 -3.08947634]\n"
     ]
    },
    {
     "name": "stderr",
     "output_type": "stream",
     "text": [
      "\u001b[32m[I 2021-05-08 12:11:13,598]\u001b[0m Trial 388 finished with value: -2.855899683304775 and parameters: {'eta': 0.0996256789470095, 'gamma': 0.053433175069615015, 'max_depth': 20, 'min_child_weight': 0.008667786040688245, 'subsample': 0.7713682665150008, 'reg_lambda': 141.61724538233472, 'reg_alpha': 1.2949361607779468}. Best is trial 340 with value: -2.3673103362366006.\u001b[0m\n"
     ]
    },
    {
     "name": "stdout",
     "output_type": "stream",
     "text": [
      "[-2.35290521 -2.61543132 -2.966459   -2.76597072 -3.57873217]\n"
     ]
    },
    {
     "name": "stderr",
     "output_type": "stream",
     "text": [
      "\u001b[32m[I 2021-05-08 12:11:14,855]\u001b[0m Trial 389 finished with value: -2.4994014612303834 and parameters: {'eta': 0.2068237778144925, 'gamma': 0.032596395992391704, 'max_depth': 20, 'min_child_weight': 0.0129068072773014, 'subsample': 0.737483590266841, 'reg_lambda': 146.7556045852, 'reg_alpha': 0.5397465949016997}. Best is trial 340 with value: -2.3673103362366006.\u001b[0m\n"
     ]
    },
    {
     "name": "stdout",
     "output_type": "stream",
     "text": [
      "[-2.11862659 -2.33297141 -2.40387275 -2.42681108 -3.21472547]\n"
     ]
    },
    {
     "name": "stderr",
     "output_type": "stream",
     "text": [
      "\u001b[32m[I 2021-05-08 12:11:15,311]\u001b[0m Trial 390 finished with value: -3.7590420734028753 and parameters: {'eta': 0.04719735139587529, 'gamma': 0.03343442094312144, 'max_depth': 20, 'min_child_weight': 0.00606946521986173, 'subsample': 0.7404601387232859, 'reg_lambda': 129.0092301951932, 'reg_alpha': 48.267632633513486}. Best is trial 340 with value: -2.3673103362366006.\u001b[0m\n"
     ]
    },
    {
     "name": "stdout",
     "output_type": "stream",
     "text": [
      "[-3.07002723 -3.61919081 -4.0932555  -3.93289476 -4.07984206]\n"
     ]
    },
    {
     "name": "stderr",
     "output_type": "stream",
     "text": [
      "\u001b[32m[I 2021-05-08 12:11:15,719]\u001b[0m Trial 391 finished with value: -3.454988898230188 and parameters: {'eta': 0.26098521808087166, 'gamma': 0.03470174901408865, 'max_depth': 20, 'min_child_weight': 0.010845642383824879, 'subsample': 0.7360608416505795, 'reg_lambda': 154.43037429563236, 'reg_alpha': 307.5965707019294}. Best is trial 340 with value: -2.3673103362366006.\u001b[0m\n"
     ]
    },
    {
     "name": "stdout",
     "output_type": "stream",
     "text": [
      "[-2.87928518 -3.24409463 -3.78742649 -3.36105069 -4.0030875 ]\n"
     ]
    },
    {
     "name": "stderr",
     "output_type": "stream",
     "text": [
      "\u001b[32m[I 2021-05-08 12:11:16,739]\u001b[0m Trial 392 finished with value: -2.7212158253281205 and parameters: {'eta': 0.1578176907683711, 'gamma': 0.027586148154545534, 'max_depth': 20, 'min_child_weight': 0.011768325746433994, 'subsample': 0.7571106640772018, 'reg_lambda': 156.57253971631616, 'reg_alpha': 18.07467385050721}. Best is trial 340 with value: -2.3673103362366006.\u001b[0m\n"
     ]
    },
    {
     "name": "stdout",
     "output_type": "stream",
     "text": [
      "[-2.18281437 -2.53725542 -2.69448252 -2.75133867 -3.44018815]\n"
     ]
    },
    {
     "name": "stderr",
     "output_type": "stream",
     "text": [
      "\u001b[32m[I 2021-05-08 12:11:18,046]\u001b[0m Trial 393 finished with value: -2.3785750030882564 and parameters: {'eta': 0.2113105802570504, 'gamma': 0.02135503357608007, 'max_depth': 20, 'min_child_weight': 0.015541557715810093, 'subsample': 0.774299270652905, 'reg_lambda': 108.40675086411396, 'reg_alpha': 0.40135478077204845}. Best is trial 340 with value: -2.3673103362366006.\u001b[0m\n"
     ]
    },
    {
     "name": "stdout",
     "output_type": "stream",
     "text": [
      "[-2.09891197 -2.11167338 -2.34274251 -2.32344571 -3.01610144]\n"
     ]
    },
    {
     "name": "stderr",
     "output_type": "stream",
     "text": [
      "\u001b[32m[I 2021-05-08 12:11:19,361]\u001b[0m Trial 394 finished with value: -2.6116376085104767 and parameters: {'eta': 0.11438759509521848, 'gamma': 0.09194595927031163, 'max_depth': 20, 'min_child_weight': 0.006558821890411881, 'subsample': 0.7764161458012803, 'reg_lambda': 107.87150007654087, 'reg_alpha': 0.19458968123817508}. Best is trial 340 with value: -2.3673103362366006.\u001b[0m\n"
     ]
    },
    {
     "name": "stdout",
     "output_type": "stream",
     "text": [
      "[-2.12568357 -2.45043472 -2.52238572 -2.59909722 -3.36058681]\n"
     ]
    },
    {
     "name": "stderr",
     "output_type": "stream",
     "text": [
      "\u001b[32m[I 2021-05-08 12:11:20,330]\u001b[0m Trial 395 finished with value: -2.6498548307124477 and parameters: {'eta': 0.17206635288851427, 'gamma': 0.07026052539603982, 'max_depth': 20, 'min_child_weight': 0.011835265778062477, 'subsample': 0.7300740740875911, 'reg_lambda': 187.40648622448384, 'reg_alpha': 0.3262201855646196}. Best is trial 340 with value: -2.3673103362366006.\u001b[0m\n"
     ]
    },
    {
     "name": "stdout",
     "output_type": "stream",
     "text": [
      "[-2.15489479 -2.47062794 -2.61888536 -2.58331725 -3.42154883]\n"
     ]
    },
    {
     "name": "stderr",
     "output_type": "stream",
     "text": [
      "\u001b[32m[I 2021-05-08 12:11:21,105]\u001b[0m Trial 396 finished with value: -2.64880734418351 and parameters: {'eta': 0.2053395481361549, 'gamma': 0.023970351305904056, 'max_depth': 20, 'min_child_weight': 0.013839035185080019, 'subsample': 0.7552297483893211, 'reg_lambda': 76.54994487675884, 'reg_alpha': 38.33483800454492}. Best is trial 340 with value: -2.3673103362366006.\u001b[0m\n"
     ]
    },
    {
     "name": "stdout",
     "output_type": "stream",
     "text": [
      "[-2.28521828 -2.46060414 -2.59058062 -2.66989599 -3.2377377 ]\n"
     ]
    },
    {
     "name": "stderr",
     "output_type": "stream",
     "text": [
      "\u001b[32m[I 2021-05-08 12:11:21,873]\u001b[0m Trial 397 finished with value: -2.593754735269664 and parameters: {'eta': 0.11303937438582351, 'gamma': 0.05070380993491446, 'max_depth': 20, 'min_child_weight': 0.008719388527567387, 'subsample': 0.7723345581026264, 'reg_lambda': 48.19220708664291, 'reg_alpha': 20.898196131497652}. Best is trial 340 with value: -2.3673103362366006.\u001b[0m\n"
     ]
    },
    {
     "name": "stdout",
     "output_type": "stream",
     "text": [
      "[-2.23897588 -2.41863805 -2.50872809 -2.4508038  -3.35162787]\n"
     ]
    },
    {
     "name": "stderr",
     "output_type": "stream",
     "text": [
      "\u001b[32m[I 2021-05-08 12:11:22,306]\u001b[0m Trial 398 finished with value: -3.8093052509095933 and parameters: {'eta': 0.209059930356823, 'gamma': 0.020334517311290327, 'max_depth': 20, 'min_child_weight': 0.015172475180604834, 'subsample': 0.7389289158712365, 'reg_lambda': 133.20672179980627, 'reg_alpha': 463.05286475546995}. Best is trial 340 with value: -2.3673103362366006.\u001b[0m\n"
     ]
    },
    {
     "name": "stdout",
     "output_type": "stream",
     "text": [
      "[-3.11186821 -3.63820021 -4.23264273 -4.03310687 -4.03070824]\n"
     ]
    },
    {
     "name": "stderr",
     "output_type": "stream",
     "text": [
      "\u001b[32m[I 2021-05-08 12:11:22,928]\u001b[0m Trial 399 finished with value: -3.821857386583163 and parameters: {'eta': 0.06818350404879973, 'gamma': 0.039490353232200924, 'max_depth': 20, 'min_child_weight': 0.005750219384861599, 'subsample': 0.7180151064518513, 'reg_lambda': 281.7622237921747, 'reg_alpha': 0.6269138990448031}. Best is trial 340 with value: -2.3673103362366006.\u001b[0m\n"
     ]
    },
    {
     "name": "stdout",
     "output_type": "stream",
     "text": [
      "[-3.0937196  -3.72460926 -4.18360602 -4.07551024 -4.0318418 ]\n"
     ]
    },
    {
     "name": "stderr",
     "output_type": "stream",
     "text": [
      "\u001b[32m[I 2021-05-08 12:11:23,749]\u001b[0m Trial 400 finished with value: -2.5329728784090206 and parameters: {'eta': 0.2433305712497825, 'gamma': 0.03714561678553687, 'max_depth': 20, 'min_child_weight': 0.015937705666605535, 'subsample': 0.746590339666721, 'reg_lambda': 205.06345402041092, 'reg_alpha': 0.44402261369036156}. Best is trial 340 with value: -2.3673103362366006.\u001b[0m\n"
     ]
    },
    {
     "name": "stdout",
     "output_type": "stream",
     "text": [
      "[-2.12308482 -2.28690962 -2.50658163 -2.46127753 -3.28701079]\n"
     ]
    },
    {
     "name": "stderr",
     "output_type": "stream",
     "text": [
      "\u001b[32m[I 2021-05-08 12:11:24,328]\u001b[0m Trial 401 finished with value: -2.8021864599946107 and parameters: {'eta': 0.3303727910794092, 'gamma': 0.020358668188193714, 'max_depth': 19, 'min_child_weight': 0.00968697790628288, 'subsample': 0.7206913245175176, 'reg_lambda': 121.26043896602275, 'reg_alpha': 87.24969664361679}. Best is trial 340 with value: -2.3673103362366006.\u001b[0m\n"
     ]
    },
    {
     "name": "stdout",
     "output_type": "stream",
     "text": [
      "[-2.38923252 -2.59381082 -2.85095255 -2.74033579 -3.43660063]\n"
     ]
    },
    {
     "name": "stderr",
     "output_type": "stream",
     "text": [
      "\u001b[32m[I 2021-05-08 12:11:24,916]\u001b[0m Trial 402 finished with value: -2.8251048507454954 and parameters: {'eta': 0.1739053822623533, 'gamma': 0.14406467447341503, 'max_depth': 20, 'min_child_weight': 0.016963016743768523, 'subsample': 0.7663468258271781, 'reg_lambda': 176.73820432951882, 'reg_alpha': 51.90383479732288}. Best is trial 340 with value: -2.3673103362366006.\u001b[0m\n"
     ]
    },
    {
     "name": "stdout",
     "output_type": "stream",
     "text": [
      "[-2.29549817 -2.57250044 -2.83848322 -2.87288029 -3.54616214]\n"
     ]
    },
    {
     "name": "stderr",
     "output_type": "stream",
     "text": [
      "\u001b[32m[I 2021-05-08 12:11:25,579]\u001b[0m Trial 403 finished with value: -2.763837515342383 and parameters: {'eta': 0.2335138758527329, 'gamma': 0.00867799814649629, 'max_depth': 19, 'min_child_weight': 0.011407478651756927, 'subsample': 0.7252232010913474, 'reg_lambda': 250.60828778608322, 'reg_alpha': 33.308420039929864}. Best is trial 340 with value: -2.3673103362366006.\u001b[0m\n"
     ]
    },
    {
     "name": "stdout",
     "output_type": "stream",
     "text": [
      "[-2.23554107 -2.58045185 -2.7819373  -2.77438806 -3.4468693 ]\n"
     ]
    },
    {
     "name": "stderr",
     "output_type": "stream",
     "text": [
      "\u001b[32m[I 2021-05-08 12:11:26,349]\u001b[0m Trial 404 finished with value: -2.5095866211196522 and parameters: {'eta': 0.36200650389831845, 'gamma': 0.027913696975902184, 'max_depth': 10, 'min_child_weight': 0.0029993379012546156, 'subsample': 0.7013047399065715, 'reg_lambda': 95.94799701644402, 'reg_alpha': 20.680590440485116}. Best is trial 340 with value: -2.3673103362366006.\u001b[0m\n"
     ]
    },
    {
     "name": "stdout",
     "output_type": "stream",
     "text": [
      "[-2.15453593 -2.34865716 -2.3465497  -2.53309801 -3.16509231]\n"
     ]
    },
    {
     "name": "stderr",
     "output_type": "stream",
     "text": [
      "\u001b[32m[I 2021-05-08 12:11:27,250]\u001b[0m Trial 405 finished with value: -2.285430052975078 and parameters: {'eta': 0.33204503454739404, 'gamma': 0.014807139623642235, 'max_depth': 20, 'min_child_weight': 0.01850258579991804, 'subsample': 0.7483330415244754, 'reg_lambda': 18.096701069892028, 'reg_alpha': 0.03505585570256142}. Best is trial 405 with value: -2.285430052975078.\u001b[0m\n"
     ]
    },
    {
     "name": "stdout",
     "output_type": "stream",
     "text": [
      "[-2.254625   -2.15892309 -2.22723973 -2.29877232 -2.48759013]\n"
     ]
    },
    {
     "name": "stderr",
     "output_type": "stream",
     "text": [
      "\u001b[32m[I 2021-05-08 12:11:27,836]\u001b[0m Trial 406 finished with value: -2.647590618292491 and parameters: {'eta': 0.15244225772130768, 'gamma': 0.016815605509614383, 'max_depth': 19, 'min_child_weight': 0.007283238840015818, 'subsample': 0.7853893165681206, 'reg_lambda': 52.90289649229941, 'reg_alpha': 37.40513791761273}. Best is trial 405 with value: -2.285430052975078.\u001b[0m\n"
     ]
    },
    {
     "name": "stdout",
     "output_type": "stream",
     "text": [
      "[-2.25333737 -2.49075402 -2.54714669 -2.59076306 -3.35595195]\n"
     ]
    },
    {
     "name": "stderr",
     "output_type": "stream",
     "text": [
      "\u001b[32m[I 2021-05-08 12:11:28,257]\u001b[0m Trial 407 finished with value: -4.323867804409545 and parameters: {'eta': 0.22948963178671686, 'gamma': 0.0068832418491711995, 'max_depth': 19, 'min_child_weight': 0.014263744652633921, 'subsample': 0.7589278828992873, 'reg_lambda': 16.509516973539967, 'reg_alpha': 719.9513358645598}. Best is trial 405 with value: -2.285430052975078.\u001b[0m\n"
     ]
    },
    {
     "name": "stdout",
     "output_type": "stream",
     "text": [
      "[-3.7165047  -4.19937958 -4.60094892 -4.71919743 -4.3833084 ]\n"
     ]
    },
    {
     "name": "stderr",
     "output_type": "stream",
     "text": [
      "\u001b[32m[I 2021-05-08 12:11:29,096]\u001b[0m Trial 408 finished with value: -2.538850356419881 and parameters: {'eta': 0.3295339539881602, 'gamma': 0.055188241043985106, 'max_depth': 20, 'min_child_weight': 0.0200873073205826, 'subsample': 0.745999739790955, 'reg_lambda': 152.30695063002366, 'reg_alpha': 18.649552993342336}. Best is trial 405 with value: -2.285430052975078.\u001b[0m\n"
     ]
    },
    {
     "name": "stdout",
     "output_type": "stream",
     "text": [
      "[-2.19616301 -2.33508474 -2.39234618 -2.54626993 -3.22438792]\n"
     ]
    },
    {
     "name": "stderr",
     "output_type": "stream",
     "text": [
      "\u001b[32m[I 2021-05-08 12:11:29,883]\u001b[0m Trial 409 finished with value: -2.198178296530688 and parameters: {'eta': 0.12578315147997318, 'gamma': 0.027422541977837618, 'max_depth': 20, 'min_child_weight': 0.0002584179982699702, 'subsample': 0.7384958928244094, 'reg_lambda': 0.7991009257864441, 'reg_alpha': 18.13719486327069}. Best is trial 409 with value: -2.198178296530688.\u001b[0m\n"
     ]
    },
    {
     "name": "stdout",
     "output_type": "stream",
     "text": [
      "[-1.61153435 -2.10129802 -2.17134153 -2.47917369 -2.62754389]\n"
     ]
    },
    {
     "name": "stderr",
     "output_type": "stream",
     "text": [
      "\u001b[32m[I 2021-05-08 12:11:30,861]\u001b[0m Trial 410 finished with value: -3.216164033000852 and parameters: {'eta': 0.11289083000122477, 'gamma': 0.030558872519522988, 'max_depth': 20, 'min_child_weight': 5.708043249999115e-05, 'subsample': 0.7683630406443672, 'reg_lambda': 223.89231838742913, 'reg_alpha': 60.694384225943594}. Best is trial 409 with value: -2.198178296530688.\u001b[0m\n"
     ]
    },
    {
     "name": "stdout",
     "output_type": "stream",
     "text": [
      "[-2.67639829 -2.99921334 -3.48896566 -3.122175   -3.79406787]\n"
     ]
    },
    {
     "name": "stderr",
     "output_type": "stream",
     "text": [
      "\u001b[32m[I 2021-05-08 12:11:31,566]\u001b[0m Trial 411 finished with value: -2.6451249481954693 and parameters: {'eta': 0.1871901938853242, 'gamma': 0.04277728459756323, 'max_depth': 20, 'min_child_weight': 0.009210760278531765, 'subsample': 0.7401131178479168, 'reg_lambda': 171.03623717645473, 'reg_alpha': 19.473588933450493}. Best is trial 409 with value: -2.198178296530688.\u001b[0m\n"
     ]
    },
    {
     "name": "stdout",
     "output_type": "stream",
     "text": [
      "[-2.12874222 -2.50692484 -2.64741154 -2.5600257  -3.38252045]\n"
     ]
    },
    {
     "name": "stderr",
     "output_type": "stream",
     "text": [
      "\u001b[32m[I 2021-05-08 12:11:32,367]\u001b[0m Trial 412 finished with value: -2.844682470810266 and parameters: {'eta': 0.06583909758272256, 'gamma': 0.021227556695316875, 'max_depth': 20, 'min_child_weight': 0.0008634418090943287, 'subsample': 0.7336513008277478, 'reg_lambda': 42.460997265378936, 'reg_alpha': 38.18415551053821}. Best is trial 409 with value: -2.198178296530688.\u001b[0m\n"
     ]
    },
    {
     "name": "stdout",
     "output_type": "stream",
     "text": [
      "[-2.3511326  -2.64502888 -2.89331911 -2.81175174 -3.52218002]\n"
     ]
    },
    {
     "name": "stderr",
     "output_type": "stream",
     "text": [
      "\u001b[32m[I 2021-05-08 12:11:33,523]\u001b[0m Trial 413 finished with value: -2.1966634956877913 and parameters: {'eta': 0.21057945075610526, 'gamma': 0.014597794977745642, 'max_depth': 20, 'min_child_weight': 0.004266743191144052, 'subsample': 0.7788542880608242, 'reg_lambda': 13.122840402821023, 'reg_alpha': 0.42800700056545793}. Best is trial 413 with value: -2.1966634956877913.\u001b[0m\n"
     ]
    },
    {
     "name": "stdout",
     "output_type": "stream",
     "text": [
      "[-1.89770321 -1.99827042 -1.93302282 -2.31785322 -2.83646781]\n"
     ]
    },
    {
     "name": "stderr",
     "output_type": "stream",
     "text": [
      "\u001b[32m[I 2021-05-08 12:11:34,542]\u001b[0m Trial 414 finished with value: -2.1627999439062897 and parameters: {'eta': 0.12431480315926093, 'gamma': 0.013864299039933586, 'max_depth': 20, 'min_child_weight': 0.00026757516481943256, 'subsample': 0.7827976262982584, 'reg_lambda': 8.711742070027295, 'reg_alpha': 0.011220672106432517}. Best is trial 414 with value: -2.1627999439062897.\u001b[0m\n"
     ]
    },
    {
     "name": "stdout",
     "output_type": "stream",
     "text": [
      "[-1.77903089 -1.88880622 -1.94739884 -2.34680715 -2.85195662]\n"
     ]
    },
    {
     "name": "stderr",
     "output_type": "stream",
     "text": [
      "\u001b[32m[I 2021-05-08 12:11:34,882]\u001b[0m Trial 415 finished with value: -4.092953947938519 and parameters: {'eta': 0.15466228348044475, 'gamma': 0.011896535783579281, 'max_depth': 20, 'min_child_weight': 0.0002276322137329727, 'subsample': 0.8021614770937747, 'reg_lambda': 4.8069217331832945, 'reg_alpha': 653.6675965298724}. Best is trial 414 with value: -2.1627999439062897.\u001b[0m\n"
     ]
    },
    {
     "name": "stdout",
     "output_type": "stream",
     "text": [
      "[-3.51191636 -3.9628554  -4.43925266 -4.40786168 -4.14288364]\n"
     ]
    },
    {
     "name": "stderr",
     "output_type": "stream",
     "text": [
      "\u001b[32m[I 2021-05-08 12:11:35,483]\u001b[0m Trial 416 finished with value: -2.3014340978846137 and parameters: {'eta': 0.09594369848929346, 'gamma': 0.012340004750420313, 'max_depth': 20, 'min_child_weight': 0.0002654409103534568, 'subsample': 0.7809520173054633, 'reg_lambda': 5.233594627316451, 'reg_alpha': 19.0696975450624}. Best is trial 414 with value: -2.1627999439062897.\u001b[0m\n"
     ]
    },
    {
     "name": "stdout",
     "output_type": "stream",
     "text": [
      "[-1.80684635 -2.02962131 -2.25269184 -2.43317245 -2.98483854]\n"
     ]
    },
    {
     "name": "stderr",
     "output_type": "stream",
     "text": [
      "\u001b[32m[I 2021-05-08 12:11:35,918]\u001b[0m Trial 417 finished with value: -2.738035377902749 and parameters: {'eta': 0.10762590520765887, 'gamma': 0.014834100491112674, 'max_depth': 20, 'min_child_weight': 0.00039204293105366797, 'subsample': 0.7874801027155958, 'reg_lambda': 4.362623030332189, 'reg_alpha': 77.50248088353577}. Best is trial 414 with value: -2.1627999439062897.\u001b[0m\n"
     ]
    },
    {
     "name": "stdout",
     "output_type": "stream",
     "text": [
      "[-2.33187275 -2.61642114 -2.60145236 -2.65694638 -3.48348426]\n"
     ]
    },
    {
     "name": "stderr",
     "output_type": "stream",
     "text": [
      "\u001b[32m[I 2021-05-08 12:11:36,388]\u001b[0m Trial 418 finished with value: -2.7796802061281083 and parameters: {'eta': 0.052280976275673005, 'gamma': 0.015044552052434951, 'max_depth': 20, 'min_child_weight': 0.0014407327824526451, 'subsample': 0.7785994171000926, 'reg_lambda': 15.03496080970365, 'reg_alpha': 52.21818651215867}. Best is trial 414 with value: -2.1627999439062897.\u001b[0m\n"
     ]
    },
    {
     "name": "stdout",
     "output_type": "stream",
     "text": [
      "[-2.25552559 -2.70085017 -2.85851262 -2.73698603 -3.34652661]\n"
     ]
    },
    {
     "name": "stderr",
     "output_type": "stream",
     "text": [
      "\u001b[32m[I 2021-05-08 12:11:36,890]\u001b[0m Trial 419 finished with value: -2.6832892711721823 and parameters: {'eta': 0.08376079741771462, 'gamma': 0.010280520456964468, 'max_depth': 9, 'min_child_weight': 0.0002472979227934909, 'subsample': 0.7554856550769704, 'reg_lambda': 35.448340427117856, 'reg_alpha': 31.047213175929535}. Best is trial 414 with value: -2.1627999439062897.\u001b[0m\n"
     ]
    },
    {
     "name": "stdout",
     "output_type": "stream",
     "text": [
      "[-2.31443377 -2.50254008 -2.66944612 -2.57474725 -3.35527914]\n"
     ]
    },
    {
     "name": "stderr",
     "output_type": "stream",
     "text": [
      "\u001b[32m[I 2021-05-08 12:11:37,657]\u001b[0m Trial 420 finished with value: -2.437139277546494 and parameters: {'eta': 0.15783508755672598, 'gamma': 0.02470831752523704, 'max_depth': 20, 'min_child_weight': 0.00024275428571205403, 'subsample': 0.7908883263310418, 'reg_lambda': 65.63315173589304, 'reg_alpha': 0.011440373572314325}. Best is trial 414 with value: -2.1627999439062897.\u001b[0m\n"
     ]
    },
    {
     "name": "stdout",
     "output_type": "stream",
     "text": [
      "[-2.17280935 -2.18222619 -2.42738927 -2.3213437  -3.08192788]\n"
     ]
    },
    {
     "name": "stderr",
     "output_type": "stream",
     "text": [
      "\u001b[32m[I 2021-05-08 12:11:38,181]\u001b[0m Trial 421 finished with value: -3.6969906934926535 and parameters: {'eta': 0.07152602052195615, 'gamma': 0.021631662456451598, 'max_depth': 20, 'min_child_weight': 0.0001353233490766084, 'subsample': 0.7926187750177208, 'reg_lambda': 62.01906829942497, 'reg_alpha': 383.55819369521805}. Best is trial 414 with value: -2.1627999439062897.\u001b[0m\n"
     ]
    },
    {
     "name": "stdout",
     "output_type": "stream",
     "text": [
      "[-3.07116806 -3.48114921 -4.07455387 -3.87343588 -3.98464645]\n"
     ]
    },
    {
     "name": "stderr",
     "output_type": "stream",
     "text": [
      "\u001b[32m[I 2021-05-08 12:11:38,950]\u001b[0m Trial 422 finished with value: -2.4937720802860497 and parameters: {'eta': 0.0861939267789235, 'gamma': 0.02561369674120517, 'max_depth': 20, 'min_child_weight': 0.0003075072251844161, 'subsample': 0.8108918427513896, 'reg_lambda': 24.081881610723705, 'reg_alpha': 19.218122227511518}. Best is trial 414 with value: -2.1627999439062897.\u001b[0m\n"
     ]
    },
    {
     "name": "stdout",
     "output_type": "stream",
     "text": [
      "[-2.08190511 -2.41584284 -2.46222305 -2.41818086 -3.09070855]\n"
     ]
    },
    {
     "name": "stderr",
     "output_type": "stream",
     "text": [
      "\u001b[32m[I 2021-05-08 12:11:40,180]\u001b[0m Trial 423 finished with value: -2.6852928617206624 and parameters: {'eta': 0.10858342694049761, 'gamma': 0.022137839062137062, 'max_depth': 20, 'min_child_weight': 0.0005680888099596134, 'subsample': 0.80740561435775, 'reg_lambda': 17.963874903697075, 'reg_alpha': 61.60065132901124}. Best is trial 414 with value: -2.1627999439062897.\u001b[0m\n"
     ]
    },
    {
     "name": "stdout",
     "output_type": "stream",
     "text": [
      "[-2.37850969 -2.60484855 -2.56510915 -2.57300153 -3.30499539]\n"
     ]
    },
    {
     "name": "stderr",
     "output_type": "stream",
     "text": [
      "\u001b[32m[I 2021-05-08 12:11:41,215]\u001b[0m Trial 424 finished with value: -2.473429097093182 and parameters: {'eta': 0.0918774997377903, 'gamma': 0.013262665300885698, 'max_depth': 20, 'min_child_weight': 0.00016690349162287182, 'subsample': 0.8178361574814532, 'reg_lambda': 0.22592238749813198, 'reg_alpha': 38.56861877562668}. Best is trial 414 with value: -2.1627999439062897.\u001b[0m\n"
     ]
    },
    {
     "name": "stdout",
     "output_type": "stream",
     "text": [
      "[-1.85520006 -2.30135847 -2.41699921 -2.54095874 -3.252629  ]\n"
     ]
    },
    {
     "name": "stderr",
     "output_type": "stream",
     "text": [
      "\u001b[32m[I 2021-05-08 12:11:42,174]\u001b[0m Trial 425 finished with value: -2.734628026408914 and parameters: {'eta': 0.07667785934790215, 'gamma': 0.016950545578921904, 'max_depth': 20, 'min_child_weight': 8.965538392504328e-05, 'subsample': 0.8215289543527946, 'reg_lambda': 6.024837538660664, 'reg_alpha': 96.14914233375583}. Best is trial 414 with value: -2.1627999439062897.\u001b[0m\n"
     ]
    },
    {
     "name": "stdout",
     "output_type": "stream",
     "text": [
      "[-2.22170578 -2.57405913 -2.70101063 -2.70051616 -3.47584844]\n"
     ]
    },
    {
     "name": "stderr",
     "output_type": "stream",
     "text": [
      "\u001b[32m[I 2021-05-08 12:11:43,198]\u001b[0m Trial 426 finished with value: -2.654331243261879 and parameters: {'eta': 0.12345691432895065, 'gamma': 0.025630685843535655, 'max_depth': 20, 'min_child_weight': 0.0004306560174356106, 'subsample': 0.7863835203775512, 'reg_lambda': 31.074241507903192, 'reg_alpha': 44.94659385180759}. Best is trial 414 with value: -2.1627999439062897.\u001b[0m\n"
     ]
    },
    {
     "name": "stdout",
     "output_type": "stream",
     "text": [
      "[-2.23129283 -2.61266663 -2.6218922  -2.57363103 -3.23217352]\n"
     ]
    },
    {
     "name": "stderr",
     "output_type": "stream",
     "text": [
      "\u001b[32m[I 2021-05-08 12:11:43,729]\u001b[0m Trial 427 finished with value: -4.212903774579366 and parameters: {'eta': 0.02940977828939443, 'gamma': 0.013478501231108442, 'max_depth': 20, 'min_child_weight': 0.00037017948203094044, 'subsample': 0.8049512437114521, 'reg_lambda': 75.96623356060005, 'reg_alpha': 28.00545852896525}. Best is trial 414 with value: -2.1627999439062897.\u001b[0m\n"
     ]
    },
    {
     "name": "stdout",
     "output_type": "stream",
     "text": [
      "[-3.5174776  -4.1019441  -4.50450201 -4.38912577 -4.5514694 ]\n"
     ]
    },
    {
     "name": "stderr",
     "output_type": "stream",
     "text": [
      "\u001b[32m[I 2021-05-08 12:11:44,332]\u001b[0m Trial 428 finished with value: -2.675000565552417 and parameters: {'eta': 0.06613250312663282, 'gamma': 0.010671724376120796, 'max_depth': 20, 'min_child_weight': 0.0001618064341974746, 'subsample': 0.7748771539697589, 'reg_lambda': 3.916302291259978, 'reg_alpha': 74.4021228745433}. Best is trial 414 with value: -2.1627999439062897.\u001b[0m\n"
     ]
    },
    {
     "name": "stdout",
     "output_type": "stream",
     "text": [
      "[-2.18297143 -2.62400794 -2.67320008 -2.65857682 -3.23624656]\n"
     ]
    },
    {
     "name": "stderr",
     "output_type": "stream",
     "text": [
      "\u001b[32m[I 2021-05-08 12:11:45,014]\u001b[0m Trial 429 finished with value: -2.654852859220387 and parameters: {'eta': 0.10117506706145646, 'gamma': 0.01602181941184911, 'max_depth': 20, 'min_child_weight': 0.00030039254704186495, 'subsample': 0.7827671377138227, 'reg_lambda': 31.118995011428176, 'reg_alpha': 44.19198958702488}. Best is trial 414 with value: -2.1627999439062897.\u001b[0m\n"
     ]
    },
    {
     "name": "stdout",
     "output_type": "stream",
     "text": [
      "[-2.24838776 -2.55002442 -2.58366289 -2.59753319 -3.29465603]\n"
     ]
    },
    {
     "name": "stderr",
     "output_type": "stream",
     "text": [
      "\u001b[32m[I 2021-05-08 12:11:45,616]\u001b[0m Trial 430 finished with value: -3.01594336105276 and parameters: {'eta': 0.038120918423598896, 'gamma': 0.022646262277763233, 'max_depth': 20, 'min_child_weight': 0.00022802549821338767, 'subsample': 0.8119251479121734, 'reg_lambda': 28.662588146580124, 'reg_alpha': 20.4947698352804}. Best is trial 414 with value: -2.1627999439062897.\u001b[0m\n"
     ]
    },
    {
     "name": "stdout",
     "output_type": "stream",
     "text": [
      "[-2.47137146 -2.87931012 -3.23492705 -2.99238362 -3.50172456]\n"
     ]
    },
    {
     "name": "stderr",
     "output_type": "stream",
     "text": [
      "\u001b[32m[I 2021-05-08 12:11:46,439]\u001b[0m Trial 431 finished with value: -4.32995870703238 and parameters: {'eta': 0.018516530333247003, 'gamma': 0.010689586666674925, 'max_depth': 20, 'min_child_weight': 0.00014812868464003027, 'subsample': 0.7778445629945996, 'reg_lambda': 3.77079397552345, 'reg_alpha': 18.18709462145342}. Best is trial 414 with value: -2.1627999439062897.\u001b[0m\n"
     ]
    },
    {
     "name": "stdout",
     "output_type": "stream",
     "text": [
      "[-3.96618838 -4.35951572 -4.40176403 -4.13384414 -4.78848126]\n"
     ]
    },
    {
     "name": "stderr",
     "output_type": "stream",
     "text": [
      "\u001b[32m[I 2021-05-08 12:11:47,108]\u001b[0m Trial 432 finished with value: -2.716512538056315 and parameters: {'eta': 0.15052034969965733, 'gamma': 0.028229088581135566, 'max_depth': 20, 'min_child_weight': 0.00034055417753010267, 'subsample': 0.7933419147957549, 'reg_lambda': 66.87022818372034, 'reg_alpha': 57.77544932344146}. Best is trial 414 with value: -2.1627999439062897.\u001b[0m\n"
     ]
    },
    {
     "name": "stdout",
     "output_type": "stream",
     "text": [
      "[-2.18804376 -2.60731149 -2.67056789 -2.55789912 -3.55874042]\n"
     ]
    },
    {
     "name": "stderr",
     "output_type": "stream",
     "text": [
      "\u001b[32m[I 2021-05-08 12:11:47,766]\u001b[0m Trial 433 finished with value: -2.9469523717385755 and parameters: {'eta': 0.08600876246553628, 'gamma': 0.00841387971675467, 'max_depth': 20, 'min_child_weight': 0.00019656777560204996, 'subsample': 0.8348566167613685, 'reg_lambda': 109.3278812024111, 'reg_alpha': 30.951099799507745}. Best is trial 414 with value: -2.1627999439062897.\u001b[0m\n"
     ]
    },
    {
     "name": "stdout",
     "output_type": "stream",
     "text": [
      "[-2.41249661 -2.7047453  -3.09513742 -2.9642678  -3.55811473]\n"
     ]
    },
    {
     "name": "stderr",
     "output_type": "stream",
     "text": [
      "\u001b[32m[I 2021-05-08 12:11:48,618]\u001b[0m Trial 434 finished with value: -2.520705199630172 and parameters: {'eta': 0.12379937195006083, 'gamma': 0.01801992755782681, 'max_depth': 20, 'min_child_weight': 0.0002707265629382506, 'subsample': 0.7643940270107938, 'reg_lambda': 45.610067077798476, 'reg_alpha': 18.594869654923244}. Best is trial 414 with value: -2.1627999439062897.\u001b[0m\n"
     ]
    },
    {
     "name": "stdout",
     "output_type": "stream",
     "text": [
      "[-2.16883608 -2.33425419 -2.51436449 -2.52740755 -3.05866369]\n"
     ]
    },
    {
     "name": "stderr",
     "output_type": "stream",
     "text": [
      "\u001b[32m[I 2021-05-08 12:11:49,500]\u001b[0m Trial 435 finished with value: -2.8147967517876333 and parameters: {'eta': 0.05425628588019536, 'gamma': 0.013689824339074388, 'max_depth': 20, 'min_child_weight': 0.0002897587724973265, 'subsample': 0.7633060391486514, 'reg_lambda': 26.49928291415977, 'reg_alpha': 39.9205972491978}. Best is trial 414 with value: -2.1627999439062897.\u001b[0m\n"
     ]
    },
    {
     "name": "stdout",
     "output_type": "stream",
     "text": [
      "[-2.29652276 -2.65737321 -2.93474739 -2.75213679 -3.43320362]\n"
     ]
    },
    {
     "name": "stderr",
     "output_type": "stream",
     "text": [
      "\u001b[32m[I 2021-05-08 12:11:50,002]\u001b[0m Trial 436 finished with value: -4.811174595815165 and parameters: {'eta': 0.14295165848952612, 'gamma': 0.032331672223047885, 'max_depth': 20, 'min_child_weight': 0.00012902998433128482, 'subsample': 0.7987820165042923, 'reg_lambda': 3.314317368325948, 'reg_alpha': 965.9227458513822}. Best is trial 414 with value: -2.1627999439062897.\u001b[0m\n"
     ]
    },
    {
     "name": "stdout",
     "output_type": "stream",
     "text": [
      "[-4.06773282 -4.77020467 -5.04212698 -5.22338918 -4.95241934]\n"
     ]
    },
    {
     "name": "stderr",
     "output_type": "stream",
     "text": [
      "\u001b[32m[I 2021-05-08 12:11:50,517]\u001b[0m Trial 437 finished with value: -3.054369598553505 and parameters: {'eta': 0.10248202896311184, 'gamma': 0.008231867025834715, 'max_depth': 20, 'min_child_weight': 0.0006079104726184945, 'subsample': 0.7554158753326128, 'reg_lambda': 84.30854820319077, 'reg_alpha': 121.13830651335664}. Best is trial 414 with value: -2.1627999439062897.\u001b[0m\n"
     ]
    },
    {
     "name": "stdout",
     "output_type": "stream",
     "text": [
      "[-2.55089945 -2.80794541 -3.12745372 -3.0657395  -3.71980991]\n"
     ]
    },
    {
     "name": "stderr",
     "output_type": "stream",
     "text": [
      "\u001b[32m[I 2021-05-08 12:11:51,083]\u001b[0m Trial 438 finished with value: -3.2537117132434132 and parameters: {'eta': 0.043780932139599944, 'gamma': 0.05909861127313483, 'max_depth': 20, 'min_child_weight': 8.639310853954969e-05, 'subsample': 0.8220868594951117, 'reg_lambda': 64.72423062826786, 'reg_alpha': 16.41333840332798}. Best is trial 414 with value: -2.1627999439062897.\u001b[0m\n"
     ]
    },
    {
     "name": "stdout",
     "output_type": "stream",
     "text": [
      "[-2.68238136 -3.07986514 -3.54151241 -3.20938961 -3.75541004]\n"
     ]
    },
    {
     "name": "stderr",
     "output_type": "stream",
     "text": [
      "\u001b[32m[I 2021-05-08 12:11:51,804]\u001b[0m Trial 439 finished with value: -2.6042634049462685 and parameters: {'eta': 0.08759666346164723, 'gamma': 0.012451189547540948, 'max_depth': 19, 'min_child_weight': 0.000155802351756125, 'subsample': 0.7767759360019355, 'reg_lambda': 41.646113369213, 'reg_alpha': 16.152525062042745}. Best is trial 414 with value: -2.1627999439062897.\u001b[0m\n"
     ]
    },
    {
     "name": "stdout",
     "output_type": "stream",
     "text": [
      "[-2.21080276 -2.38268241 -2.54743209 -2.48765649 -3.39274327]\n"
     ]
    },
    {
     "name": "stderr",
     "output_type": "stream",
     "text": [
      "\u001b[32m[I 2021-05-08 12:11:52,418]\u001b[0m Trial 440 finished with value: -3.2729398522789097 and parameters: {'eta': 0.14910915080328632, 'gamma': 0.01935461468977344, 'max_depth': 20, 'min_child_weight': 0.00046428161336014814, 'subsample': 0.7541977462676143, 'reg_lambda': 470.86442138044987, 'reg_alpha': 0.14012720541487567}. Best is trial 414 with value: -2.1627999439062897.\u001b[0m\n"
     ]
    },
    {
     "name": "stdout",
     "output_type": "stream",
     "text": [
      "[-2.64478204 -3.09999948 -3.57924797 -3.24615359 -3.79451619]\n"
     ]
    },
    {
     "name": "stderr",
     "output_type": "stream",
     "text": [
      "\u001b[32m[I 2021-05-08 12:11:52,991]\u001b[0m Trial 441 finished with value: -2.9653851261845343 and parameters: {'eta': 0.1890453447893386, 'gamma': 0.008718071913096594, 'max_depth': 19, 'min_child_weight': 0.00018560254585567174, 'subsample': 0.7999990224550448, 'reg_lambda': 312.1355368535576, 'reg_alpha': 51.331268923567436}. Best is trial 414 with value: -2.1627999439062897.\u001b[0m\n"
     ]
    },
    {
     "name": "stdout",
     "output_type": "stream",
     "text": [
      "[-2.33469458 -2.71037887 -3.16400137 -2.9800257  -3.63782511]\n"
     ]
    },
    {
     "name": "stderr",
     "output_type": "stream",
     "text": [
      "\u001b[32m[I 2021-05-08 12:11:53,723]\u001b[0m Trial 442 finished with value: -2.519623628516256 and parameters: {'eta': 0.12600737843850426, 'gamma': 0.030435470600096163, 'max_depth': 20, 'min_child_weight': 0.0001142996351161162, 'subsample': 0.7783299354441975, 'reg_lambda': 6.1968563058612425, 'reg_alpha': 36.9444755198421}. Best is trial 414 with value: -2.1627999439062897.\u001b[0m\n"
     ]
    },
    {
     "name": "stdout",
     "output_type": "stream",
     "text": [
      "[-2.03159389 -2.3808799  -2.3932853  -2.56796932 -3.22438973]\n"
     ]
    },
    {
     "name": "stderr",
     "output_type": "stream",
     "text": [
      "\u001b[32m[I 2021-05-08 12:11:54,940]\u001b[0m Trial 443 finished with value: -2.5750880777099985 and parameters: {'eta': 0.06450040053049876, 'gamma': 0.006794005116659593, 'max_depth': 20, 'min_child_weight': 0.0002122418575994286, 'subsample': 0.7508531051144534, 'reg_lambda': 21.6118487651947, 'reg_alpha': 15.306182225116126}. Best is trial 414 with value: -2.1627999439062897.\u001b[0m\n"
     ]
    },
    {
     "name": "stdout",
     "output_type": "stream",
     "text": [
      "[-2.12600106 -2.46352232 -2.57189425 -2.45772779 -3.25629497]\n"
     ]
    },
    {
     "name": "stderr",
     "output_type": "stream",
     "text": [
      "\u001b[32m[I 2021-05-08 12:11:56,716]\u001b[0m Trial 444 finished with value: -2.57644869989819 and parameters: {'eta': 0.1878019686998289, 'gamma': 0.01524826534183558, 'max_depth': 19, 'min_child_weight': 0.0004059754274589643, 'subsample': 0.7692284625150099, 'reg_lambda': 114.71176694768873, 'reg_alpha': 17.000201815730705}. Best is trial 414 with value: -2.1627999439062897.\u001b[0m\n"
     ]
    },
    {
     "name": "stdout",
     "output_type": "stream",
     "text": [
      "[-2.18123389 -2.3942354  -2.46802247 -2.42226678 -3.41648496]\n"
     ]
    },
    {
     "name": "stderr",
     "output_type": "stream",
     "text": [
      "\u001b[32m[I 2021-05-08 12:11:57,109]\u001b[0m Trial 445 finished with value: -2.672869219309018 and parameters: {'eta': 0.2293190164968741, 'gamma': 0.04351501589297274, 'max_depth': 19, 'min_child_weight': 0.00030333353916701776, 'subsample': 0.8172792023688049, 'reg_lambda': 1.886145294707458, 'reg_alpha': 67.82130022850777}. Best is trial 414 with value: -2.1627999439062897.\u001b[0m\n"
     ]
    },
    {
     "name": "stdout",
     "output_type": "stream",
     "text": [
      "[-2.0717243  -2.65459366 -2.55982417 -2.67198881 -3.40621517]\n"
     ]
    },
    {
     "name": "stderr",
     "output_type": "stream",
     "text": [
      "\u001b[32m[I 2021-05-08 12:11:57,699]\u001b[0m Trial 446 finished with value: -3.2182871592133138 and parameters: {'eta': 0.13545117018071795, 'gamma': 0.02206906134254446, 'max_depth': 20, 'min_child_weight': 0.00024482830261921706, 'subsample': 0.745231613030934, 'reg_lambda': 362.752431979483, 'reg_alpha': 1.2480948586016365}. Best is trial 414 with value: -2.1627999439062897.\u001b[0m\n"
     ]
    },
    {
     "name": "stdout",
     "output_type": "stream",
     "text": [
      "[-2.66265423 -3.01877372 -3.4565393  -3.13515172 -3.81831683]\n"
     ]
    },
    {
     "name": "stderr",
     "output_type": "stream",
     "text": [
      "\u001b[32m[I 2021-05-08 12:11:58,349]\u001b[0m Trial 447 finished with value: -2.5506994678179424 and parameters: {'eta': 0.08307287164131597, 'gamma': 0.010977318472595496, 'max_depth': 20, 'min_child_weight': 5.849902641518402e-05, 'subsample': 0.7928090432560442, 'reg_lambda': 46.34937148352863, 'reg_alpha': 1.1833551325050118}. Best is trial 414 with value: -2.1627999439062897.\u001b[0m\n"
     ]
    },
    {
     "name": "stdout",
     "output_type": "stream",
     "text": [
      "[-2.1425663  -2.40162395 -2.45975796 -2.38996404 -3.35958509]\n"
     ]
    },
    {
     "name": "stderr",
     "output_type": "stream",
     "text": [
      "\u001b[32m[I 2021-05-08 12:11:58,711]\u001b[0m Trial 448 finished with value: -4.021661318107887 and parameters: {'eta': 0.2435079579972525, 'gamma': 0.00691414353939601, 'max_depth': 19, 'min_child_weight': 0.004300905884153964, 'subsample': 0.7255159670421754, 'reg_lambda': 93.02402917258156, 'reg_alpha': 558.7252780557588}. Best is trial 414 with value: -2.1627999439062897.\u001b[0m\n"
     ]
    },
    {
     "name": "stdout",
     "output_type": "stream",
     "text": [
      "[-3.30025852 -3.93021305 -4.39889099 -4.31571647 -4.16322757]\n"
     ]
    },
    {
     "name": "stderr",
     "output_type": "stream",
     "text": [
      "\u001b[32m[I 2021-05-08 12:11:59,957]\u001b[0m Trial 449 finished with value: -2.412236288989032 and parameters: {'eta': 0.14391284100941892, 'gamma': 0.01628306678285743, 'max_depth': 20, 'min_child_weight': 0.0006973697775896547, 'subsample': 0.8315247764329928, 'reg_lambda': 1.8556455554637878, 'reg_alpha': 36.1605840415152}. Best is trial 414 with value: -2.1627999439062897.\u001b[0m\n"
     ]
    },
    {
     "name": "stdout",
     "output_type": "stream",
     "text": [
      "[-1.91515945 -2.18854112 -2.48282266 -2.41092933 -3.06372889]\n"
     ]
    },
    {
     "name": "stderr",
     "output_type": "stream",
     "text": [
      "\u001b[32m[I 2021-05-08 12:12:00,510]\u001b[0m Trial 450 finished with value: -3.0003183914349405 and parameters: {'eta': 0.21959985070133245, 'gamma': 0.012914832866302196, 'max_depth': 20, 'min_child_weight': 0.00010803092769815779, 'subsample': 0.7656938689490516, 'reg_lambda': 308.3023403058706, 'reg_alpha': 84.9229208326031}. Best is trial 414 with value: -2.1627999439062897.\u001b[0m\n"
     ]
    },
    {
     "name": "stdout",
     "output_type": "stream",
     "text": [
      "[-2.41803567 -2.74362004 -3.18399193 -3.0058225  -3.65012182]\n"
     ]
    },
    {
     "name": "stderr",
     "output_type": "stream",
     "text": [
      "\u001b[32m[I 2021-05-08 12:12:01,065]\u001b[0m Trial 451 finished with value: -3.1949461317768804 and parameters: {'eta': 0.1382382908384663, 'gamma': 0.010015651775287621, 'max_depth': 19, 'min_child_weight': 0.002491052563317237, 'subsample': 0.8521486605436617, 'reg_lambda': 348.0076739335258, 'reg_alpha': 51.51045142277793}. Best is trial 414 with value: -2.1627999439062897.\u001b[0m\n"
     ]
    },
    {
     "name": "stdout",
     "output_type": "stream",
     "text": [
      "[-2.62417699 -2.94767944 -3.44737431 -3.16433056 -3.79116936]\n"
     ]
    },
    {
     "name": "stderr",
     "output_type": "stream",
     "text": [
      "\u001b[32m[I 2021-05-08 12:12:01,761]\u001b[0m Trial 452 finished with value: -2.683944500022464 and parameters: {'eta': 0.2789223438154024, 'gamma': 0.01755095087858003, 'max_depth': 20, 'min_child_weight': 0.0009919663037239088, 'subsample': 0.8409803170804779, 'reg_lambda': 426.2979925691816, 'reg_alpha': 0.803928476438068}. Best is trial 414 with value: -2.1627999439062897.\u001b[0m\n"
     ]
    },
    {
     "name": "stdout",
     "output_type": "stream",
     "text": [
      "[-2.304006   -2.41579293 -2.72333944 -2.59391157 -3.38267256]\n"
     ]
    },
    {
     "name": "stderr",
     "output_type": "stream",
     "text": [
      "\u001b[32m[I 2021-05-08 12:12:02,245]\u001b[0m Trial 453 finished with value: -2.489332869376665 and parameters: {'eta': 0.16116956469216737, 'gamma': 0.006187404077080261, 'max_depth': 19, 'min_child_weight': 0.00504093937603377, 'subsample': 0.7407840909074548, 'reg_lambda': 4.786457682556055, 'reg_alpha': 37.293220240332325}. Best is trial 414 with value: -2.1627999439062897.\u001b[0m\n"
     ]
    },
    {
     "name": "stdout",
     "output_type": "stream",
     "text": [
      "[-2.11173848 -2.27108062 -2.2997263  -2.51280932 -3.25130963]\n"
     ]
    },
    {
     "name": "stderr",
     "output_type": "stream",
     "text": [
      "\u001b[32m[I 2021-05-08 12:12:02,523]\u001b[0m Trial 454 finished with value: -3.276128676864836 and parameters: {'eta': 0.209749665938505, 'gamma': 0.013337037696252028, 'max_depth': 20, 'min_child_weight': 0.0034623821608820754, 'subsample': 0.17435005836728812, 'reg_lambda': 7.549384052276707, 'reg_alpha': 71.97338814173162}. Best is trial 414 with value: -2.1627999439062897.\u001b[0m\n"
     ]
    },
    {
     "name": "stdout",
     "output_type": "stream",
     "text": [
      "[-2.96993849 -2.87029542 -3.31514245 -3.21062193 -4.01464511]\n"
     ]
    },
    {
     "name": "stderr",
     "output_type": "stream",
     "text": [
      "\u001b[32m[I 2021-05-08 12:12:03,001]\u001b[0m Trial 455 finished with value: -2.7697534673773214 and parameters: {'eta': 0.09587456293660836, 'gamma': 0.009356044633522357, 'max_depth': 19, 'min_child_weight': 0.004088463807597518, 'subsample': 0.7559641401326976, 'reg_lambda': 4.37298820188416, 'reg_alpha': 98.30667559344029}. Best is trial 414 with value: -2.1627999439062897.\u001b[0m\n"
     ]
    },
    {
     "name": "stdout",
     "output_type": "stream",
     "text": [
      "[-2.40228928 -2.60378964 -2.71676307 -2.69847166 -3.42745369]\n"
     ]
    },
    {
     "name": "stderr",
     "output_type": "stream",
     "text": [
      "\u001b[32m[I 2021-05-08 12:12:03,511]\u001b[0m Trial 456 finished with value: -2.6578944824889854 and parameters: {'eta': 0.1531509722910959, 'gamma': 0.01777045310934891, 'max_depth': 20, 'min_child_weight': 0.004989926247289678, 'subsample': 0.7830346831744185, 'reg_lambda': 28.196131356322468, 'reg_alpha': 57.754388992905064}. Best is trial 414 with value: -2.1627999439062897.\u001b[0m\n"
     ]
    },
    {
     "name": "stdout",
     "output_type": "stream",
     "text": [
      "[-2.15724469 -2.56135974 -2.68387967 -2.49443053 -3.39255779]\n"
     ]
    },
    {
     "name": "stderr",
     "output_type": "stream",
     "text": [
      "\u001b[32m[I 2021-05-08 12:12:04,139]\u001b[0m Trial 457 finished with value: -3.180112344759482 and parameters: {'eta': 0.19554570221138573, 'gamma': 0.006969634040534834, 'max_depth': 19, 'min_child_weight': 0.0007984876250787848, 'subsample': 0.7434665652245052, 'reg_lambda': 479.6649662364405, 'reg_alpha': 36.76940981410116}. Best is trial 414 with value: -2.1627999439062897.\u001b[0m\n"
     ]
    },
    {
     "name": "stdout",
     "output_type": "stream",
     "text": [
      "[-2.66312381 -2.93726143 -3.43892251 -3.14667285 -3.71458112]\n"
     ]
    },
    {
     "name": "stderr",
     "output_type": "stream",
     "text": [
      "\u001b[32m[I 2021-05-08 12:12:04,704]\u001b[0m Trial 458 finished with value: -2.6299009955900687 and parameters: {'eta': 0.1436134142567007, 'gamma': 0.029092225807130924, 'max_depth': 20, 'min_child_weight': 0.00681439622263202, 'subsample': 0.7305206923394563, 'reg_lambda': 69.90493853725155, 'reg_alpha': 36.571189335567595}. Best is trial 414 with value: -2.1627999439062897.\u001b[0m\n"
     ]
    },
    {
     "name": "stdout",
     "output_type": "stream",
     "text": [
      "[-2.19118395 -2.48398216 -2.58042544 -2.51853637 -3.37537706]\n"
     ]
    },
    {
     "name": "stderr",
     "output_type": "stream",
     "text": [
      "\u001b[32m[I 2021-05-08 12:12:05,179]\u001b[0m Trial 459 finished with value: -2.5485687215769732 and parameters: {'eta': 0.12609871374136522, 'gamma': 0.011777801925050098, 'max_depth': 20, 'min_child_weight': 1.7931774756553575e-08, 'subsample': 0.7670615925714251, 'reg_lambda': 0.7686914451816174, 'reg_alpha': 62.14319438471305}. Best is trial 414 with value: -2.1627999439062897.\u001b[0m\n"
     ]
    },
    {
     "name": "stdout",
     "output_type": "stream",
     "text": [
      "[-2.11755334 -2.44952084 -2.43641667 -2.53068524 -3.20866751]\n"
     ]
    },
    {
     "name": "stderr",
     "output_type": "stream",
     "text": [
      "\u001b[32m[I 2021-05-08 12:12:05,835]\u001b[0m Trial 460 finished with value: -2.62046171879474 and parameters: {'eta': 0.28905271491719775, 'gamma': 0.0057757436286574575, 'max_depth': 19, 'min_child_weight': 0.007543091495487624, 'subsample': 0.787678279782686, 'reg_lambda': 50.482083368549205, 'reg_alpha': 38.99505173716908}. Best is trial 414 with value: -2.1627999439062897.\u001b[0m\n"
     ]
    },
    {
     "name": "stdout",
     "output_type": "stream",
     "text": [
      "[-2.21641662 -2.49353815 -2.47032186 -2.64940292 -3.27262906]\n"
     ]
    },
    {
     "name": "stderr",
     "output_type": "stream",
     "text": [
      "\u001b[32m[I 2021-05-08 12:12:06,408]\u001b[0m Trial 461 finished with value: -2.4764945793328463 and parameters: {'eta': 0.05999547705743421, 'gamma': 0.01879463148607746, 'max_depth': 15, 'min_child_weight': 0.0024543264948047308, 'subsample': 0.7437071205215616, 'reg_lambda': 1.96983539914226, 'reg_alpha': 32.012668852553425}. Best is trial 414 with value: -2.1627999439062897.\u001b[0m\n"
     ]
    },
    {
     "name": "stdout",
     "output_type": "stream",
     "text": [
      "[-1.95131535 -2.28336551 -2.49003261 -2.57564472 -3.0821147 ]\n"
     ]
    },
    {
     "name": "stderr",
     "output_type": "stream",
     "text": [
      "\u001b[32m[I 2021-05-08 12:12:06,862]\u001b[0m Trial 462 finished with value: -2.771741600401607 and parameters: {'eta': 0.0740764412263405, 'gamma': 0.019699321354603932, 'max_depth': 16, 'min_child_weight': 0.0016463542725330298, 'subsample': 0.7227380336573794, 'reg_lambda': 15.362240341416706, 'reg_alpha': 75.963146756892}. Best is trial 414 with value: -2.1627999439062897.\u001b[0m\n"
     ]
    },
    {
     "name": "stdout",
     "output_type": "stream",
     "text": [
      "[-2.26914819 -2.62178278 -2.88119762 -2.68088297 -3.40569644]\n"
     ]
    },
    {
     "name": "stderr",
     "output_type": "stream",
     "text": [
      "\u001b[32m[I 2021-05-08 12:12:07,253]\u001b[0m Trial 463 finished with value: -6.604999328271843 and parameters: {'eta': 0.036865487437302266, 'gamma': 0.045650023654111076, 'max_depth': 14, 'min_child_weight': 0.0049039907438517445, 'subsample': 0.744147298703792, 'reg_lambda': 378.54413712245537, 'reg_alpha': 56.30814589061231}. Best is trial 414 with value: -2.1627999439062897.\u001b[0m\n"
     ]
    },
    {
     "name": "stdout",
     "output_type": "stream",
     "text": [
      "[-5.64177575 -6.92594848 -6.57501668 -6.90225721 -6.97999853]\n"
     ]
    },
    {
     "name": "stderr",
     "output_type": "stream",
     "text": [
      "\u001b[32m[I 2021-05-08 12:12:07,688]\u001b[0m Trial 464 finished with value: -3.7779091171394157 and parameters: {'eta': 0.04554317975538184, 'gamma': 0.07801671101558047, 'max_depth': 20, 'min_child_weight': 0.0005417667195311641, 'subsample': 0.7613516905241334, 'reg_lambda': 128.91831719079846, 'reg_alpha': 44.1522434160909}. Best is trial 414 with value: -2.1627999439062897.\u001b[0m\n"
     ]
    },
    {
     "name": "stdout",
     "output_type": "stream",
     "text": [
      "[-3.0655404  -3.65502908 -4.12634428 -3.92258442 -4.1200474 ]\n"
     ]
    },
    {
     "name": "stderr",
     "output_type": "stream",
     "text": [
      "\u001b[32m[I 2021-05-08 12:12:08,221]\u001b[0m Trial 465 finished with value: -2.616212562313786 and parameters: {'eta': 0.10262516473201429, 'gamma': 0.025472332463692904, 'max_depth': 15, 'min_child_weight': 0.0020138530398567367, 'subsample': 0.7402252838179876, 'reg_lambda': 35.99978646606456, 'reg_alpha': 31.615803793701478}. Best is trial 414 with value: -2.1627999439062897.\u001b[0m\n"
     ]
    },
    {
     "name": "stdout",
     "output_type": "stream",
     "text": [
      "[-2.19623782 -2.38325958 -2.66795706 -2.56089572 -3.27271263]\n"
     ]
    },
    {
     "name": "stderr",
     "output_type": "stream",
     "text": [
      "\u001b[32m[I 2021-05-08 12:12:08,677]\u001b[0m Trial 466 finished with value: -2.884001297950745 and parameters: {'eta': 0.05604064735581744, 'gamma': 0.015344693519749077, 'max_depth': 20, 'min_child_weight': 0.0022318492870729324, 'subsample': 0.8260700799346032, 'reg_lambda': 18.284754407260266, 'reg_alpha': 85.38939823565045}. Best is trial 414 with value: -2.1627999439062897.\u001b[0m\n"
     ]
    },
    {
     "name": "stdout",
     "output_type": "stream",
     "text": [
      "[-2.39405461 -2.70467695 -2.94690581 -2.83338561 -3.54098351]\n"
     ]
    },
    {
     "name": "stderr",
     "output_type": "stream",
     "text": [
      "\u001b[32m[I 2021-05-08 12:12:09,404]\u001b[0m Trial 467 finished with value: -2.473477712819606 and parameters: {'eta': 0.14470363312639847, 'gamma': 0.009657495132100078, 'max_depth': 20, 'min_child_weight': 8.857791118483468e-08, 'subsample': 0.7159205968557298, 'reg_lambda': 5.260810423864563, 'reg_alpha': 28.3355549405044}. Best is trial 414 with value: -2.1627999439062897.\u001b[0m\n"
     ]
    },
    {
     "name": "stdout",
     "output_type": "stream",
     "text": [
      "[-1.99069878 -2.22811473 -2.45624153 -2.6144004  -3.07793313]\n"
     ]
    },
    {
     "name": "stderr",
     "output_type": "stream",
     "text": [
      "\u001b[32m[I 2021-05-08 12:12:09,978]\u001b[0m Trial 468 finished with value: -2.6440080918088373 and parameters: {'eta': 0.12011314391760387, 'gamma': 7.919274410350749e-07, 'max_depth': 20, 'min_child_weight': 0.0011525874977384252, 'subsample': 0.7138684773834265, 'reg_lambda': 4.202064347342853, 'reg_alpha': 66.86400712800543}. Best is trial 414 with value: -2.1627999439062897.\u001b[0m\n"
     ]
    },
    {
     "name": "stdout",
     "output_type": "stream",
     "text": [
      "[-2.09848292 -2.62594182 -2.53077356 -2.66454113 -3.30030102]\n"
     ]
    },
    {
     "name": "stderr",
     "output_type": "stream",
     "text": [
      "\u001b[32m[I 2021-05-08 12:12:10,523]\u001b[0m Trial 469 finished with value: -3.4898505790616254 and parameters: {'eta': 0.17428189299464703, 'gamma': 0.009938948118340589, 'max_depth': 11, 'min_child_weight': 0.005589596750448941, 'subsample': 0.6999891327402095, 'reg_lambda': 592.2591666287318, 'reg_alpha': 51.15946531411913}. Best is trial 414 with value: -2.1627999439062897.\u001b[0m\n"
     ]
    },
    {
     "name": "stdout",
     "output_type": "stream",
     "text": [
      "[-2.85212641 -3.26837667 -3.83250077 -3.5937029  -3.90254614]\n"
     ]
    },
    {
     "name": "stderr",
     "output_type": "stream",
     "text": [
      "\u001b[32m[I 2021-05-08 12:12:10,959]\u001b[0m Trial 470 finished with value: -2.912860295283941 and parameters: {'eta': 0.16292113766335906, 'gamma': 0.008269162787248072, 'max_depth': 20, 'min_child_weight': 0.009318050756008821, 'subsample': 0.719214720271757, 'reg_lambda': 51.49118016983775, 'reg_alpha': 108.98449263293423}. Best is trial 414 with value: -2.1627999439062897.\u001b[0m\n"
     ]
    },
    {
     "name": "stdout",
     "output_type": "stream",
     "text": [
      "[-2.46724325 -2.6596549  -2.92687403 -2.9223566  -3.5881727 ]\n"
     ]
    },
    {
     "name": "stderr",
     "output_type": "stream",
     "text": [
      "\u001b[32m[I 2021-05-08 12:12:11,439]\u001b[0m Trial 471 finished with value: -2.527195220794207 and parameters: {'eta': 0.08238311322249416, 'gamma': 0.013197814025675977, 'max_depth': 20, 'min_child_weight': 0.003204864660313038, 'subsample': 0.5540536618277243, 'reg_lambda': 3.3668286957106517, 'reg_alpha': 30.500266935354492}. Best is trial 414 with value: -2.1627999439062897.\u001b[0m\n"
     ]
    },
    {
     "name": "stdout",
     "output_type": "stream",
     "text": [
      "[-2.0544397  -2.29460632 -2.57628793 -2.61703804 -3.0936041 ]\n"
     ]
    },
    {
     "name": "stderr",
     "output_type": "stream",
     "text": [
      "\u001b[32m[I 2021-05-08 12:12:11,982]\u001b[0m Trial 472 finished with value: -2.6895642145357015 and parameters: {'eta': 0.11002992822610567, 'gamma': 0.007739230889467833, 'max_depth': 20, 'min_child_weight': 0.007035191900772774, 'subsample': 0.800537685346851, 'reg_lambda': 31.254619762861378, 'reg_alpha': 51.907195967371024}. Best is trial 414 with value: -2.1627999439062897.\u001b[0m\n"
     ]
    },
    {
     "name": "stdout",
     "output_type": "stream",
     "text": [
      "[-2.27641915 -2.47230741 -2.66012158 -2.65189726 -3.38707567]\n"
     ]
    },
    {
     "name": "stderr",
     "output_type": "stream",
     "text": [
      "\u001b[32m[I 2021-05-08 12:12:12,476]\u001b[0m Trial 473 finished with value: -2.42892666461144 and parameters: {'eta': 0.2525617634080801, 'gamma': 0.01973109937003142, 'max_depth': 20, 'min_child_weight': 0.00019550614167189348, 'subsample': 0.7763157129350124, 'reg_lambda': 0.596166310741495, 'reg_alpha': 30.65375305739349}. Best is trial 414 with value: -2.1627999439062897.\u001b[0m\n"
     ]
    },
    {
     "name": "stdout",
     "output_type": "stream",
     "text": [
      "[-1.85155086 -2.22255806 -2.42866076 -2.65346958 -2.98839406]\n"
     ]
    },
    {
     "name": "stderr",
     "output_type": "stream",
     "text": [
      "\u001b[32m[I 2021-05-08 12:12:13,117]\u001b[0m Trial 474 finished with value: -2.341745321703546 and parameters: {'eta': 0.25248983292546334, 'gamma': 0.02052523417432672, 'max_depth': 20, 'min_child_weight': 0.00020767732691723257, 'subsample': 0.777321798298063, 'reg_lambda': 0.3251506730772584, 'reg_alpha': 21.695360279248405}. Best is trial 414 with value: -2.1627999439062897.\u001b[0m\n"
     ]
    },
    {
     "name": "stdout",
     "output_type": "stream",
     "text": [
      "[-2.0107357  -1.991845   -2.38272751 -2.46148765 -2.86193074]\n"
     ]
    },
    {
     "name": "stderr",
     "output_type": "stream",
     "text": [
      "\u001b[32m[I 2021-05-08 12:12:13,929]\u001b[0m Trial 475 finished with value: -2.52953896607293 and parameters: {'eta': 0.251407008071829, 'gamma': 0.020987720823965345, 'max_depth': 20, 'min_child_weight': 0.000211458986297175, 'subsample': 0.7908826881922038, 'reg_lambda': 25.93235491094255, 'reg_alpha': 24.067204203813034}. Best is trial 414 with value: -2.1627999439062897.\u001b[0m\n"
     ]
    },
    {
     "name": "stdout",
     "output_type": "stream",
     "text": [
      "[-2.14604827 -2.25043198 -2.48500274 -2.59763292 -3.16857892]\n"
     ]
    },
    {
     "name": "stderr",
     "output_type": "stream",
     "text": [
      "\u001b[32m[I 2021-05-08 12:12:14,496]\u001b[0m Trial 476 finished with value: -2.7350693005926816 and parameters: {'eta': 0.2568130200459756, 'gamma': 2.3292149784652153e-08, 'max_depth': 12, 'min_child_weight': 0.00017333338480942411, 'subsample': 0.7692915970668295, 'reg_lambda': 73.8861458374901, 'reg_alpha': 66.08683498845092}. Best is trial 414 with value: -2.1627999439062897.\u001b[0m\n"
     ]
    },
    {
     "name": "stdout",
     "output_type": "stream",
     "text": [
      "[-2.35592551 -2.51870383 -2.63506694 -2.65124486 -3.51440536]\n"
     ]
    },
    {
     "name": "stderr",
     "output_type": "stream",
     "text": [
      "\u001b[32m[I 2021-05-08 12:12:15,010]\u001b[0m Trial 477 finished with value: -2.3397955019797805 and parameters: {'eta': 0.1809359033437351, 'gamma': 0.02022755653600168, 'max_depth': 8, 'min_child_weight': 0.00014529642278150753, 'subsample': 0.8227471463371049, 'reg_lambda': 2.3655274741121475, 'reg_alpha': 27.593648037542454}. Best is trial 414 with value: -2.1627999439062897.\u001b[0m\n"
     ]
    },
    {
     "name": "stdout",
     "output_type": "stream",
     "text": [
      "[-1.85904506 -2.10318248 -2.41385533 -2.35971882 -2.96317583]\n"
     ]
    },
    {
     "name": "stderr",
     "output_type": "stream",
     "text": [
      "\u001b[32m[I 2021-05-08 12:12:15,390]\u001b[0m Trial 478 finished with value: -2.8344715060481316 and parameters: {'eta': 0.20488017241175016, 'gamma': 0.027165403965337433, 'max_depth': 8, 'min_child_weight': 9.58548109384548e-05, 'subsample': 0.8262778202708756, 'reg_lambda': 2.9117648597234833, 'reg_alpha': 91.52120693496663}. Best is trial 414 with value: -2.1627999439062897.\u001b[0m\n"
     ]
    },
    {
     "name": "stdout",
     "output_type": "stream",
     "text": [
      "[-2.28510429 -2.80020155 -2.73166787 -2.71545192 -3.63993191]\n"
     ]
    },
    {
     "name": "stderr",
     "output_type": "stream",
     "text": [
      "\u001b[32m[I 2021-05-08 12:12:15,801]\u001b[0m Trial 479 finished with value: -2.6463229576040197 and parameters: {'eta': 0.13798967611567406, 'gamma': 0.01728044439228614, 'max_depth': 6, 'min_child_weight': 0.00014571499987284226, 'subsample': 0.8356765708570444, 'reg_lambda': 2.129288329436858, 'reg_alpha': 74.74317745387819}. Best is trial 414 with value: -2.1627999439062897.\u001b[0m\n"
     ]
    },
    {
     "name": "stdout",
     "output_type": "stream",
     "text": [
      "[-2.23000399 -2.56142977 -2.55346063 -2.57662104 -3.31009936]\n"
     ]
    },
    {
     "name": "stderr",
     "output_type": "stream",
     "text": [
      "\u001b[32m[I 2021-05-08 12:12:16,343]\u001b[0m Trial 480 finished with value: -2.663895682929474 and parameters: {'eta': 0.2541687836868185, 'gamma': 0.021366962110480836, 'max_depth': 10, 'min_child_weight': 0.000392523806368428, 'subsample': 0.8064750547619518, 'reg_lambda': 42.23663373403041, 'reg_alpha': 45.52261060803411}. Best is trial 414 with value: -2.1627999439062897.\u001b[0m\n"
     ]
    },
    {
     "name": "stdout",
     "output_type": "stream",
     "text": [
      "[-2.31494369 -2.50560549 -2.60014616 -2.5806862  -3.31809687]\n"
     ]
    },
    {
     "name": "stderr",
     "output_type": "stream",
     "text": [
      "\u001b[32m[I 2021-05-08 12:12:16,842]\u001b[0m Trial 481 finished with value: -2.514974660402463 and parameters: {'eta': 0.057586280667149936, 'gamma': 0.033837527886328815, 'max_depth': 11, 'min_child_weight': 0.00015596852042488383, 'subsample': 0.5255121626184392, 'reg_lambda': 2.059512926021508, 'reg_alpha': 31.405487520357088}. Best is trial 414 with value: -2.1627999439062897.\u001b[0m\n"
     ]
    },
    {
     "name": "stdout",
     "output_type": "stream",
     "text": [
      "[-2.03503481 -2.34676912 -2.54121525 -2.60194897 -3.04990516]\n"
     ]
    },
    {
     "name": "stderr",
     "output_type": "stream",
     "text": [
      "\u001b[32m[I 2021-05-08 12:12:17,333]\u001b[0m Trial 482 finished with value: -2.6779520856716017 and parameters: {'eta': 0.08968125480182716, 'gamma': 0.016170805024023908, 'max_depth': 20, 'min_child_weight': 6.191224549691881e-05, 'subsample': 0.8135056166032179, 'reg_lambda': 21.384607308575028, 'reg_alpha': 54.66939671815452}. Best is trial 414 with value: -2.1627999439062897.\u001b[0m\n"
     ]
    },
    {
     "name": "stdout",
     "output_type": "stream",
     "text": [
      "[-2.20001422 -2.53503111 -2.6719535  -2.6020736  -3.380688  ]\n"
     ]
    },
    {
     "name": "stderr",
     "output_type": "stream",
     "text": [
      "\u001b[32m[I 2021-05-08 12:12:18,001]\u001b[0m Trial 483 finished with value: -2.357772666772207 and parameters: {'eta': 0.2027235410566457, 'gamma': 0.02570182313583099, 'max_depth': 20, 'min_child_weight': 0.0002123200025303928, 'subsample': 0.842858026996048, 'reg_lambda': 0.08501847939589169, 'reg_alpha': 24.005881353691787}. Best is trial 414 with value: -2.1627999439062897.\u001b[0m\n"
     ]
    },
    {
     "name": "stdout",
     "output_type": "stream",
     "text": [
      "[-1.76687038 -2.22735675 -2.3854312  -2.54406096 -2.86514405]\n"
     ]
    },
    {
     "name": "stderr",
     "output_type": "stream",
     "text": [
      "\u001b[32m[I 2021-05-08 12:12:18,399]\u001b[0m Trial 484 finished with value: -2.707152392717055 and parameters: {'eta': 0.183994739647082, 'gamma': 0.04823675491518802, 'max_depth': 8, 'min_child_weight': 0.00025891049370982915, 'subsample': 0.860097501959576, 'reg_lambda': 1.9111080443575497, 'reg_alpha': 69.1116994838687}. Best is trial 414 with value: -2.1627999439062897.\u001b[0m\n"
     ]
    },
    {
     "name": "stdout",
     "output_type": "stream",
     "text": [
      "[-2.10965597 -2.66968402 -2.64712556 -2.64071085 -3.46858556]\n"
     ]
    },
    {
     "name": "stderr",
     "output_type": "stream",
     "text": [
      "\u001b[32m[I 2021-05-08 12:12:19,117]\u001b[0m Trial 485 finished with value: -2.9609330992698673 and parameters: {'eta': 0.11729465875916092, 'gamma': 0.0250173011574832, 'max_depth': 20, 'min_child_weight': 0.00011491511627383295, 'subsample': 0.8278777363631781, 'reg_lambda': 197.20182165048325, 'reg_alpha': 31.85723336366894}. Best is trial 414 with value: -2.1627999439062897.\u001b[0m\n"
     ]
    },
    {
     "name": "stdout",
     "output_type": "stream",
     "text": [
      "[-2.37973589 -2.67530633 -3.14104554 -2.90337513 -3.70520261]\n"
     ]
    },
    {
     "name": "stderr",
     "output_type": "stream",
     "text": [
      "\u001b[32m[I 2021-05-08 12:12:19,767]\u001b[0m Trial 486 finished with value: -2.624871872813613 and parameters: {'eta': 0.2076505967618401, 'gamma': 0.03213560552420917, 'max_depth': 20, 'min_child_weight': 0.0001994223454850394, 'subsample': 0.8477882046261684, 'reg_lambda': 57.07727463318218, 'reg_alpha': 46.69243872637075}. Best is trial 414 with value: -2.1627999439062897.\u001b[0m\n"
     ]
    },
    {
     "name": "stdout",
     "output_type": "stream",
     "text": [
      "[-2.15359476 -2.40259587 -2.52992885 -2.6220544  -3.41618548]\n"
     ]
    },
    {
     "name": "stderr",
     "output_type": "stream",
     "text": [
      "\u001b[32m[I 2021-05-08 12:12:20,384]\u001b[0m Trial 487 finished with value: -2.4210497970404448 and parameters: {'eta': 0.2807464557104878, 'gamma': 0.02020967090906022, 'max_depth': 5, 'min_child_weight': 0.00046768993157196863, 'subsample': 0.8334650528375166, 'reg_lambda': 22.31779640238361, 'reg_alpha': 21.39245970100458}. Best is trial 414 with value: -2.1627999439062897.\u001b[0m\n"
     ]
    },
    {
     "name": "stdout",
     "output_type": "stream",
     "text": [
      "[-2.17002537 -2.2478936  -2.22416142 -2.41533805 -3.04783054]\n"
     ]
    },
    {
     "name": "stderr",
     "output_type": "stream",
     "text": [
      "\u001b[32m[I 2021-05-08 12:12:20,806]\u001b[0m Trial 488 finished with value: -2.703392058454914 and parameters: {'eta': 0.29674590836743936, 'gamma': 0.039553213718421375, 'max_depth': 2, 'min_child_weight': 0.000541426599200193, 'subsample': 0.8348081634035563, 'reg_lambda': 28.070743023445857, 'reg_alpha': 58.97758055111149}. Best is trial 414 with value: -2.1627999439062897.\u001b[0m\n"
     ]
    },
    {
     "name": "stdout",
     "output_type": "stream",
     "text": [
      "[-2.28314714 -2.5438475  -2.78400588 -2.71810149 -3.18785829]\n"
     ]
    },
    {
     "name": "stderr",
     "output_type": "stream",
     "text": [
      "\u001b[32m[I 2021-05-08 12:12:21,520]\u001b[0m Trial 489 finished with value: -2.514055801944968 and parameters: {'eta': 0.15374357504662817, 'gamma': 0.01978207269261088, 'max_depth': 9, 'min_child_weight': 0.00034174993944595676, 'subsample': 0.8238124903519275, 'reg_lambda': 43.546981214668406, 'reg_alpha': 25.422823970015916}. Best is trial 414 with value: -2.1627999439062897.\u001b[0m\n"
     ]
    },
    {
     "name": "stdout",
     "output_type": "stream",
     "text": [
      "[-2.16995211 -2.3695199  -2.33555455 -2.42366688 -3.27158557]\n"
     ]
    },
    {
     "name": "stderr",
     "output_type": "stream",
     "text": [
      "\u001b[32m[I 2021-05-08 12:12:21,829]\u001b[0m Trial 490 finished with value: -3.7914307835160947 and parameters: {'eta': 0.268532337129577, 'gamma': 0.014901670534640544, 'max_depth': 13, 'min_child_weight': 0.0002532127880576627, 'subsample': 0.8044604705552305, 'reg_lambda': 1.0443211198157645, 'reg_alpha': 487.688893994691}. Best is trial 414 with value: -2.1627999439062897.\u001b[0m\n"
     ]
    },
    {
     "name": "stdout",
     "output_type": "stream",
     "text": [
      "[-3.21859471 -3.53904024 -4.21992601 -3.96669687 -4.01289609]\n"
     ]
    },
    {
     "name": "stderr",
     "output_type": "stream",
     "text": [
      "\u001b[32m[I 2021-05-08 12:12:22,271]\u001b[0m Trial 491 finished with value: -2.8276602174382153 and parameters: {'eta': 0.186858500457485, 'gamma': 0.028512668937454962, 'max_depth': 9, 'min_child_weight': 0.0007120804661650806, 'subsample': 0.8536362056232207, 'reg_lambda': 22.901299758661807, 'reg_alpha': 84.9996794591488}. Best is trial 414 with value: -2.1627999439062897.\u001b[0m\n"
     ]
    },
    {
     "name": "stdout",
     "output_type": "stream",
     "text": [
      "[-2.41609262 -2.65158617 -2.75957242 -2.69039579 -3.62065407]\n"
     ]
    },
    {
     "name": "stderr",
     "output_type": "stream",
     "text": [
      "\u001b[32m[I 2021-05-08 12:12:22,790]\u001b[0m Trial 492 finished with value: -2.971644572328638 and parameters: {'eta': 0.07931051151405062, 'gamma': 5.080504297630723e-06, 'max_depth': 15, 'min_child_weight': 0.0004386134158869714, 'subsample': 0.8418020698041547, 'reg_lambda': 98.91069037151686, 'reg_alpha': 47.23380218757486}. Best is trial 414 with value: -2.1627999439062897.\u001b[0m\n"
     ]
    },
    {
     "name": "stdout",
     "output_type": "stream",
     "text": [
      "[-2.43450824 -2.70187766 -3.16202924 -2.96883223 -3.5909755 ]\n"
     ]
    },
    {
     "name": "stderr",
     "output_type": "stream",
     "text": [
      "\u001b[32m[I 2021-05-08 12:12:23,289]\u001b[0m Trial 493 finished with value: -2.2619574712058648 and parameters: {'eta': 0.12361520080657219, 'gamma': 0.01282053681301935, 'max_depth': 5, 'min_child_weight': 0.00013858859722454825, 'subsample': 0.7940872780705447, 'reg_lambda': 0.23657815311167774, 'reg_alpha': 21.89410496721875}. Best is trial 414 with value: -2.1627999439062897.\u001b[0m\n"
     ]
    },
    {
     "name": "stdout",
     "output_type": "stream",
     "text": [
      "[-1.79596718 -2.07853639 -2.24454153 -2.32152031 -2.86922194]\n"
     ]
    },
    {
     "name": "stderr",
     "output_type": "stream",
     "text": [
      "\u001b[32m[I 2021-05-08 12:12:23,770]\u001b[0m Trial 494 finished with value: -2.654685249157894 and parameters: {'eta': 0.12907207786010325, 'gamma': 0.010909902717069198, 'max_depth': 5, 'min_child_weight': 9.361637488202769e-05, 'subsample': 0.8240358913337237, 'reg_lambda': 71.45768319029774, 'reg_alpha': 25.560979878564474}. Best is trial 414 with value: -2.1627999439062897.\u001b[0m\n"
     ]
    },
    {
     "name": "stdout",
     "output_type": "stream",
     "text": [
      "[-2.31564058 -2.50188546 -2.55583647 -2.49134636 -3.40871737]\n"
     ]
    },
    {
     "name": "stderr",
     "output_type": "stream",
     "text": [
      "\u001b[32m[I 2021-05-08 12:12:24,200]\u001b[0m Trial 495 finished with value: -2.4396339394663586 and parameters: {'eta': 0.29922973504756784, 'gamma': 0.013523374881679364, 'max_depth': 4, 'min_child_weight': 0.00018372466170922657, 'subsample': 0.797620481646365, 'reg_lambda': 38.23968499004663, 'reg_alpha': 16.50150209405159}. Best is trial 414 with value: -2.1627999439062897.\u001b[0m\n"
     ]
    },
    {
     "name": "stdout",
     "output_type": "stream",
     "text": [
      "[-2.16596908 -2.24749565 -2.28243647 -2.46897814 -3.03329036]\n"
     ]
    },
    {
     "name": "stderr",
     "output_type": "stream",
     "text": [
      "\u001b[32m[I 2021-05-08 12:12:24,671]\u001b[0m Trial 496 finished with value: -2.4496514438523187 and parameters: {'eta': 0.31700614409374156, 'gamma': 0.061151719242569146, 'max_depth': 4, 'min_child_weight': 0.00013746729258262588, 'subsample': 0.7990801093268347, 'reg_lambda': 42.76367740639336, 'reg_alpha': 18.29885414365141}. Best is trial 414 with value: -2.1627999439062897.\u001b[0m\n"
     ]
    },
    {
     "name": "stdout",
     "output_type": "stream",
     "text": [
      "[-2.14831327 -2.25524432 -2.29870022 -2.44453551 -3.10146391]\n"
     ]
    },
    {
     "name": "stderr",
     "output_type": "stream",
     "text": [
      "\u001b[32m[I 2021-05-08 12:12:25,250]\u001b[0m Trial 497 finished with value: -2.5177295683224994 and parameters: {'eta': 0.31275398480016975, 'gamma': 0.038589533504988234, 'max_depth': 8, 'min_child_weight': 0.00013534616198503612, 'subsample': 0.7974106152947238, 'reg_lambda': 50.10574411922109, 'reg_alpha': 18.38633849711286}. Best is trial 414 with value: -2.1627999439062897.\u001b[0m\n"
     ]
    },
    {
     "name": "stdout",
     "output_type": "stream",
     "text": [
      "[-2.36620123 -2.31156664 -2.3250797  -2.56300986 -3.02279042]\n"
     ]
    },
    {
     "name": "stderr",
     "output_type": "stream",
     "text": [
      "\u001b[32m[I 2021-05-08 12:12:26,926]\u001b[0m Trial 498 finished with value: -2.6755946073708707 and parameters: {'eta': 0.27649707641833954, 'gamma': 0.06406311960608245, 'max_depth': 6, 'min_child_weight': 0.00017639499220538666, 'subsample': 0.8084471381016022, 'reg_lambda': 82.54025318029711, 'reg_alpha': 48.87859178444825}. Best is trial 414 with value: -2.1627999439062897.\u001b[0m\n"
     ]
    },
    {
     "name": "stdout",
     "output_type": "stream",
     "text": [
      "[-2.19476978 -2.55158366 -2.58711991 -2.60316209 -3.4413376 ]\n"
     ]
    },
    {
     "name": "stderr",
     "output_type": "stream",
     "text": [
      "\u001b[32m[I 2021-05-08 12:12:28,391]\u001b[0m Trial 499 finished with value: -2.4323250863581527 and parameters: {'eta': 0.21703309716044514, 'gamma': 0.07031181370580056, 'max_depth': 5, 'min_child_weight': 7.349184716136029e-05, 'subsample': 0.7914437865648652, 'reg_lambda': 37.53008022424496, 'reg_alpha': 18.6029128601035}. Best is trial 414 with value: -2.1627999439062897.\u001b[0m\n"
     ]
    },
    {
     "name": "stdout",
     "output_type": "stream",
     "text": [
      "[-2.07395816 -2.23299532 -2.3687257  -2.41169112 -3.07425513]\n",
      "CPU times: user 11min 9s, sys: 14.7 s, total: 11min 24s\n",
      "Wall time: 5min 58s\n"
     ]
    }
   ],
   "source": [
    "%%time\n",
    "# optunaで最適値を見つける\n",
    "# 注：cross_val_scoreの出力は全て高いほど良い\n",
    "study = optuna.create_study(direction='maximize')\n",
    "study.optimize(objective, n_trials=500)"
   ]
  },
  {
   "cell_type": "code",
   "execution_count": 6,
   "metadata": {},
   "outputs": [],
   "source": [
    "# チューニングしたハイパーパラメーターをフィット\n",
    "optimised_model = xgb.XGBRegressor(eta = study.best_params['eta'],\n",
    "                                   gamma = study.best_params['gamma'],\n",
    "                                   max_depth = study.best_params['max_depth'],\n",
    "                                   min_child_weight = study.best_params['min_child_weight'],\n",
    "                                   subsample = study.best_params['subsample'],\n",
    "                                   reg_lambda = study.best_params['reg_lambda'],\n",
    "                                   reg_alpha = study.best_params['reg_alpha']\n",
    "                                  )\n",
    "\n",
    "optimised_model.fit(x_train ,y_train)\n",
    "\n",
    "# XGBoost推論\n",
    "y_pred = optimised_model.predict(x_test)"
   ]
  },
  {
   "cell_type": "code",
   "execution_count": 7,
   "metadata": {},
   "outputs": [],
   "source": [
    "# 評価\n",
    "def calculate_scores(true, pred):\n",
    "    \"\"\"全ての評価指標を計算する\n",
    "\n",
    "    Parameters\n",
    "    ----------\n",
    "    true (np.array)       : 実測値\n",
    "    pred (np.array)       : 予測値\n",
    "\n",
    "    Returns\n",
    "    -------\n",
    "    scores (pd.DataFrame) : 各評価指標を纏めた結果\n",
    "\n",
    "    \"\"\"\n",
    "    scores = {}\n",
    "    scores = pd.DataFrame({'R2': r2_score(true, pred),\n",
    "                          'MAE': mean_absolute_error(true, pred),\n",
    "                          'MSE': mean_squared_error(true, pred),\n",
    "                          'RMSE': np.sqrt(mean_squared_error(true, pred))},\n",
    "                           index = ['scores'])\n",
    "    return scores"
   ]
  },
  {
   "cell_type": "code",
   "execution_count": 8,
   "metadata": {},
   "outputs": [
    {
     "name": "stdout",
     "output_type": "stream",
     "text": [
      "              R2       MAE       MSE      RMSE\n",
      "scores  0.808442  2.989264  20.03328  4.475855\n"
     ]
    }
   ],
   "source": [
    "scores = calculate_scores(y_test, y_pred)\n",
    "print(scores)"
   ]
  }
 ],
 "metadata": {
  "kernelspec": {
   "display_name": "Python 3",
   "language": "python",
   "name": "python3"
  },
  "language_info": {
   "codemirror_mode": {
    "name": "ipython",
    "version": 3
   },
   "file_extension": ".py",
   "mimetype": "text/x-python",
   "name": "python",
   "nbconvert_exporter": "python",
   "pygments_lexer": "ipython3",
   "version": "3.7.6"
  }
 },
 "nbformat": 4,
 "nbformat_minor": 4
}
