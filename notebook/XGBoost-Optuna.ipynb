{
 "cells": [
  {
   "cell_type": "markdown",
   "metadata": {},
   "source": [
    "## XGBoost-Optunaのサンプルコード"
   ]
  },
  {
   "cell_type": "code",
   "execution_count": 1,
   "metadata": {},
   "outputs": [],
   "source": [
    "# ライブラリーのインポート\n",
    "import os\n",
    "\n",
    "import pandas as pd\n",
    "import numpy as np\n",
    "\n",
    "import seaborn as sns\n",
    "import matplotlib.pyplot as plt\n",
    "%matplotlib inline\n",
    "\n",
    "# ボストンの住宅価格データ\n",
    "from sklearn.datasets import load_boston\n",
    "\n",
    "# 前処理\n",
    "from sklearn.preprocessing import StandardScaler\n",
    "from sklearn.model_selection import train_test_split\n",
    "\n",
    "# XGBoost\n",
    "import xgboost as xgb\n",
    "\n",
    "# Optuna\n",
    "import optuna\n",
    "from sklearn.model_selection import cross_val_score\n",
    "\n",
    "# 評価指標\n",
    "from sklearn.metrics import r2_score\n",
    "from sklearn.metrics import mean_absolute_error\n",
    "from sklearn.metrics import mean_squared_error"
   ]
  },
  {
   "cell_type": "code",
   "execution_count": 2,
   "metadata": {},
   "outputs": [
    {
     "data": {
      "text/html": [
       "<div>\n",
       "<style scoped>\n",
       "    .dataframe tbody tr th:only-of-type {\n",
       "        vertical-align: middle;\n",
       "    }\n",
       "\n",
       "    .dataframe tbody tr th {\n",
       "        vertical-align: top;\n",
       "    }\n",
       "\n",
       "    .dataframe thead th {\n",
       "        text-align: right;\n",
       "    }\n",
       "</style>\n",
       "<table border=\"1\" class=\"dataframe\">\n",
       "  <thead>\n",
       "    <tr style=\"text-align: right;\">\n",
       "      <th></th>\n",
       "      <th>CRIM</th>\n",
       "      <th>ZN</th>\n",
       "      <th>INDUS</th>\n",
       "      <th>CHAS</th>\n",
       "      <th>NOX</th>\n",
       "      <th>RM</th>\n",
       "      <th>AGE</th>\n",
       "      <th>DIS</th>\n",
       "      <th>RAD</th>\n",
       "      <th>TAX</th>\n",
       "      <th>PTRATIO</th>\n",
       "      <th>B</th>\n",
       "      <th>LSTAT</th>\n",
       "      <th>MEDV</th>\n",
       "    </tr>\n",
       "  </thead>\n",
       "  <tbody>\n",
       "    <tr>\n",
       "      <th>0</th>\n",
       "      <td>0.00632</td>\n",
       "      <td>18.0</td>\n",
       "      <td>2.31</td>\n",
       "      <td>0.0</td>\n",
       "      <td>0.538</td>\n",
       "      <td>6.575</td>\n",
       "      <td>65.2</td>\n",
       "      <td>4.0900</td>\n",
       "      <td>1.0</td>\n",
       "      <td>296.0</td>\n",
       "      <td>15.3</td>\n",
       "      <td>396.90</td>\n",
       "      <td>4.98</td>\n",
       "      <td>24.0</td>\n",
       "    </tr>\n",
       "    <tr>\n",
       "      <th>1</th>\n",
       "      <td>0.02731</td>\n",
       "      <td>0.0</td>\n",
       "      <td>7.07</td>\n",
       "      <td>0.0</td>\n",
       "      <td>0.469</td>\n",
       "      <td>6.421</td>\n",
       "      <td>78.9</td>\n",
       "      <td>4.9671</td>\n",
       "      <td>2.0</td>\n",
       "      <td>242.0</td>\n",
       "      <td>17.8</td>\n",
       "      <td>396.90</td>\n",
       "      <td>9.14</td>\n",
       "      <td>21.6</td>\n",
       "    </tr>\n",
       "    <tr>\n",
       "      <th>2</th>\n",
       "      <td>0.02729</td>\n",
       "      <td>0.0</td>\n",
       "      <td>7.07</td>\n",
       "      <td>0.0</td>\n",
       "      <td>0.469</td>\n",
       "      <td>7.185</td>\n",
       "      <td>61.1</td>\n",
       "      <td>4.9671</td>\n",
       "      <td>2.0</td>\n",
       "      <td>242.0</td>\n",
       "      <td>17.8</td>\n",
       "      <td>392.83</td>\n",
       "      <td>4.03</td>\n",
       "      <td>34.7</td>\n",
       "    </tr>\n",
       "    <tr>\n",
       "      <th>3</th>\n",
       "      <td>0.03237</td>\n",
       "      <td>0.0</td>\n",
       "      <td>2.18</td>\n",
       "      <td>0.0</td>\n",
       "      <td>0.458</td>\n",
       "      <td>6.998</td>\n",
       "      <td>45.8</td>\n",
       "      <td>6.0622</td>\n",
       "      <td>3.0</td>\n",
       "      <td>222.0</td>\n",
       "      <td>18.7</td>\n",
       "      <td>394.63</td>\n",
       "      <td>2.94</td>\n",
       "      <td>33.4</td>\n",
       "    </tr>\n",
       "    <tr>\n",
       "      <th>4</th>\n",
       "      <td>0.06905</td>\n",
       "      <td>0.0</td>\n",
       "      <td>2.18</td>\n",
       "      <td>0.0</td>\n",
       "      <td>0.458</td>\n",
       "      <td>7.147</td>\n",
       "      <td>54.2</td>\n",
       "      <td>6.0622</td>\n",
       "      <td>3.0</td>\n",
       "      <td>222.0</td>\n",
       "      <td>18.7</td>\n",
       "      <td>396.90</td>\n",
       "      <td>5.33</td>\n",
       "      <td>36.2</td>\n",
       "    </tr>\n",
       "  </tbody>\n",
       "</table>\n",
       "</div>"
      ],
      "text/plain": [
       "      CRIM    ZN  INDUS  CHAS    NOX     RM   AGE     DIS  RAD    TAX  \\\n",
       "0  0.00632  18.0   2.31   0.0  0.538  6.575  65.2  4.0900  1.0  296.0   \n",
       "1  0.02731   0.0   7.07   0.0  0.469  6.421  78.9  4.9671  2.0  242.0   \n",
       "2  0.02729   0.0   7.07   0.0  0.469  7.185  61.1  4.9671  2.0  242.0   \n",
       "3  0.03237   0.0   2.18   0.0  0.458  6.998  45.8  6.0622  3.0  222.0   \n",
       "4  0.06905   0.0   2.18   0.0  0.458  7.147  54.2  6.0622  3.0  222.0   \n",
       "\n",
       "   PTRATIO       B  LSTAT  MEDV  \n",
       "0     15.3  396.90   4.98  24.0  \n",
       "1     17.8  396.90   9.14  21.6  \n",
       "2     17.8  392.83   4.03  34.7  \n",
       "3     18.7  394.63   2.94  33.4  \n",
       "4     18.7  396.90   5.33  36.2  "
      ]
     },
     "execution_count": 2,
     "metadata": {},
     "output_type": "execute_result"
    }
   ],
   "source": [
    "# データセットの読込み\n",
    "boston = load_boston()\n",
    "\n",
    "# 説明変数の格納\n",
    "df = pd.DataFrame(boston.data, columns = boston.feature_names)\n",
    "# 目的変数の追加\n",
    "df['MEDV'] = boston.target\n",
    "\n",
    "# データの中身を確認\n",
    "df.head()"
   ]
  },
  {
   "cell_type": "markdown",
   "metadata": {},
   "source": [
    "#### 前処理"
   ]
  },
  {
   "cell_type": "code",
   "execution_count": 3,
   "metadata": {},
   "outputs": [],
   "source": [
    "# ランダムシード値\n",
    "RANDOM_STATE = 10\n",
    "\n",
    "# 学習データと評価データの割合\n",
    "TEST_SIZE = 0.2\n",
    "\n",
    "# 学習データと評価データを作成\n",
    "x_train, x_test, y_train, y_test = train_test_split(df.iloc[:, 0:df.shape[1]-1],\n",
    "                                                    df.iloc[:, df.shape[1]-1],\n",
    "                                                    test_size=TEST_SIZE,\n",
    "                                                    random_state=RANDOM_STATE)"
   ]
  },
  {
   "cell_type": "code",
   "execution_count": 4,
   "metadata": {},
   "outputs": [],
   "source": [
    "def objective(trial):\n",
    "    \n",
    "    eta =  trial.suggest_loguniform('eta', 1e-8, 1.0)\n",
    "    gamma = trial.suggest_loguniform('gamma', 1e-8, 1.0)\n",
    "    max_depth = trial.suggest_int('max_depth', 1, 20)\n",
    "    min_child_weight = trial.suggest_loguniform('min_child_weight', 1e-8, 1.0)\n",
    "    subsample = trial.suggest_uniform('subsample', 0.0, 1.0)\n",
    "    reg_lambda = trial.suggest_uniform('reg_lambda', 0.0, 1000.0)\n",
    "    reg_alpha = trial.suggest_uniform('reg_alpha', 0.0, 1000.0)\n",
    "\n",
    "\n",
    "    model =xgb.XGBRegressor(eta = eta,\n",
    "                            gamma = gamma,\n",
    "                            max_depth = max_depth,\n",
    "                            min_child_weight = min_child_weight,\n",
    "                            subsample = subsample,\n",
    "                            reg_lambda = reg_lambda,\n",
    "                            reg_alpha = reg_alpha\n",
    "                           )\n",
    "\n",
    "    score = cross_val_score(model,\n",
    "                            x_train,\n",
    "                            y_train,\n",
    "                            cv=5,\n",
    "                            scoring=\"neg_mean_absolute_error\"\n",
    "                           )\n",
    "    print(score)\n",
    "    mae = score.mean()\n",
    "\n",
    "    return mae"
   ]
  },
  {
   "cell_type": "code",
   "execution_count": 5,
   "metadata": {},
   "outputs": [
    {
     "name": "stderr",
     "output_type": "stream",
     "text": [
      "\u001b[32m[I 2021-05-08 10:01:04,954]\u001b[0m A new study created in memory with name: no-name-37756620-6678-4d42-bb5e-cf43c3687513\u001b[0m\n",
      "\u001b[32m[I 2021-05-08 10:01:05,158]\u001b[0m Trial 0 finished with value: -21.32003762225163 and parameters: {'eta': 4.893787827381806e-05, 'gamma': 1.6790883203191978e-05, 'max_depth': 3, 'min_child_weight': 0.09852275197108669, 'subsample': 0.7277910086840357, 'reg_lambda': 666.3837025757402, 'reg_alpha': 613.0101247081783}. Best is trial 0 with value: -21.32003762225163.\u001b[0m\n",
      "\u001b[32m[I 2021-05-08 10:01:05,317]\u001b[0m Trial 1 finished with value: -21.297835488119244 and parameters: {'eta': 0.00018102320991114995, 'gamma': 4.627784993811587e-05, 'max_depth': 6, 'min_child_weight': 0.0026322297907259763, 'subsample': 0.49940689780553293, 'reg_lambda': 818.2063393917749, 'reg_alpha': 956.8001163820826}. Best is trial 1 with value: -21.297835488119244.\u001b[0m\n"
     ]
    },
    {
     "name": "stdout",
     "output_type": "stream",
     "text": [
      "[-20.23018981 -22.19254566 -20.73526374 -21.30085522 -22.14133368]\n",
      "[-20.20757366 -22.1707672  -20.71289233 -21.2786817  -22.11926255]\n"
     ]
    },
    {
     "name": "stderr",
     "output_type": "stream",
     "text": [
      "\u001b[32m[I 2021-05-08 10:01:05,482]\u001b[0m Trial 2 finished with value: -21.05611203412068 and parameters: {'eta': 0.0009950512747066151, 'gamma': 0.00027484208928785713, 'max_depth': 14, 'min_child_weight': 0.00035029765320008133, 'subsample': 0.4123791328365103, 'reg_lambda': 841.8183338736751, 'reg_alpha': 11.390419213288316}. Best is trial 2 with value: -21.05611203412068.\u001b[0m\n",
      "\u001b[32m[I 2021-05-08 10:01:05,626]\u001b[0m Trial 3 finished with value: -21.293891472616316 and parameters: {'eta': 5.8305046710018006e-05, 'gamma': 0.1825276374681468, 'max_depth': 10, 'min_child_weight': 6.533711212703294e-08, 'subsample': 0.9386640828993914, 'reg_lambda': 365.32049477547713, 'reg_alpha': 733.134571768201}. Best is trial 2 with value: -21.05611203412068.\u001b[0m\n"
     ]
    },
    {
     "name": "stdout",
     "output_type": "stream",
     "text": [
      "[-19.96324463 -21.93155671 -20.47008709 -21.03681976 -21.87885199]\n",
      "[-20.20367254 -22.1666999  -20.70893929 -21.27471978 -22.11542586]\n"
     ]
    },
    {
     "name": "stderr",
     "output_type": "stream",
     "text": [
      "\u001b[32m[I 2021-05-08 10:01:05,794]\u001b[0m Trial 4 finished with value: -21.34301048020375 and parameters: {'eta': 2.921317139379561e-06, 'gamma': 0.10582283937976816, 'max_depth': 3, 'min_child_weight': 0.32415863481286483, 'subsample': 0.525106661052768, 'reg_lambda': 908.2615300723569, 'reg_alpha': 477.4042265543027}. Best is trial 2 with value: -21.05611203412068.\u001b[0m\n",
      "\u001b[32m[I 2021-05-08 10:01:05,938]\u001b[0m Trial 5 finished with value: -20.646539015569807 and parameters: {'eta': 0.001215779782909126, 'gamma': 3.7078809850721246e-08, 'max_depth': 13, 'min_child_weight': 0.00856745351520768, 'subsample': 0.44052827445019493, 'reg_lambda': 372.30913962138976, 'reg_alpha': 39.57308691999329}. Best is trial 5 with value: -20.646539015569807.\u001b[0m\n"
     ]
    },
    {
     "name": "stdout",
     "output_type": "stream",
     "text": [
      "[-20.2534569  -22.21520782 -20.75840048 -21.32383681 -22.1641504 ]\n",
      "[-19.5487342  -21.52676983 -20.05834511 -20.62722105 -21.47162489]\n"
     ]
    },
    {
     "name": "stderr",
     "output_type": "stream",
     "text": [
      "\u001b[32m[I 2021-05-08 10:01:06,113]\u001b[0m Trial 6 finished with value: -21.342639357843517 and parameters: {'eta': 1.9476313862339165e-06, 'gamma': 0.39273298552246677, 'max_depth': 20, 'min_child_weight': 8.091348588651917e-05, 'subsample': 0.8585017540877745, 'reg_lambda': 570.1164426358318, 'reg_alpha': 582.5400584649242}. Best is trial 5 with value: -20.646539015569807.\u001b[0m\n",
      "\u001b[32m[I 2021-05-08 10:01:06,262]\u001b[0m Trial 7 finished with value: -19.66697915369199 and parameters: {'eta': 0.00209637955272054, 'gamma': 6.6267100763573684e-06, 'max_depth': 16, 'min_child_weight': 0.00015840142766078424, 'subsample': 0.9095987696300831, 'reg_lambda': 430.1305748181609, 'reg_alpha': 229.1433732902033}. Best is trial 7 with value: -19.66697915369199.\u001b[0m\n"
     ]
    },
    {
     "name": "stdout",
     "output_type": "stream",
     "text": [
      "[-20.25308067 -22.21484036 -20.75802586 -21.32346571 -22.16378418]\n",
      "[-18.55791176 -20.55751343 -19.07160971 -19.64657861 -20.50128225]\n"
     ]
    },
    {
     "name": "stderr",
     "output_type": "stream",
     "text": [
      "\u001b[32m[I 2021-05-08 10:01:06,434]\u001b[0m Trial 8 finished with value: -17.16027504282822 and parameters: {'eta': 0.006588732815130112, 'gamma': 3.606462507108836e-08, 'max_depth': 9, 'min_child_weight': 0.00010810968714028334, 'subsample': 0.7261814829562052, 'reg_lambda': 369.128002769318, 'reg_alpha': 649.828238878906}. Best is trial 8 with value: -17.16027504282822.\u001b[0m\n",
      "\u001b[32m[I 2021-05-08 10:01:06,581]\u001b[0m Trial 9 finished with value: -21.33480290869725 and parameters: {'eta': 3.222914952822775e-05, 'gamma': 0.014263396463811487, 'max_depth': 19, 'min_child_weight': 9.057936910054867e-06, 'subsample': 0.2613641899642515, 'reg_lambda': 404.45763912060704, 'reg_alpha': 417.00392460495704}. Best is trial 8 with value: -17.16027504282822.\u001b[0m\n"
     ]
    },
    {
     "name": "stdout",
     "output_type": "stream",
     "text": [
      "[-16.02471232 -18.08615164 -16.54858838 -17.13497628 -18.0069466 ]\n",
      "[-20.24512638 -22.20714296 -20.75015948 -21.31563223 -22.15595351]\n"
     ]
    },
    {
     "name": "stderr",
     "output_type": "stream",
     "text": [
      "\u001b[32m[I 2021-05-08 10:01:06,794]\u001b[0m Trial 10 finished with value: -21.343864197530866 and parameters: {'eta': 0.9748051417923426, 'gamma': 1.563794862029864e-08, 'max_depth': 7, 'min_child_weight': 4.4597338869995316e-07, 'subsample': 0.035191287457756903, 'reg_lambda': 29.91487301347746, 'reg_alpha': 947.0831295684308}. Best is trial 8 with value: -17.16027504282822.\u001b[0m\n"
     ]
    },
    {
     "name": "stdout",
     "output_type": "stream",
     "text": [
      "[-20.25432099 -22.21604938 -20.75925926 -21.32469136 -22.165     ]\n"
     ]
    },
    {
     "name": "stderr",
     "output_type": "stream",
     "text": [
      "\u001b[32m[I 2021-05-08 10:01:07,196]\u001b[0m Trial 11 finished with value: -3.475842115349239 and parameters: {'eta': 0.10548468362324866, 'gamma': 6.998357214712551e-07, 'max_depth': 16, 'min_child_weight': 7.4349549830688365e-06, 'subsample': 0.7403438653980909, 'reg_lambda': 163.9196356208463, 'reg_alpha': 226.27075840212}. Best is trial 11 with value: -3.475842115349239.\u001b[0m\n"
     ]
    },
    {
     "name": "stdout",
     "output_type": "stream",
     "text": [
      "[-2.91162081 -3.24700869 -3.82975437 -3.48305208 -3.90777463]\n"
     ]
    },
    {
     "name": "stderr",
     "output_type": "stream",
     "text": [
      "\u001b[32m[I 2021-05-08 10:01:07,795]\u001b[0m Trial 12 finished with value: -3.4347181956385384 and parameters: {'eta': 0.22374024334551165, 'gamma': 5.194538482350072e-07, 'max_depth': 10, 'min_child_weight': 2.5925322983134554e-06, 'subsample': 0.6907844615832314, 'reg_lambda': 110.26789650156775, 'reg_alpha': 278.28926651409836}. Best is trial 12 with value: -3.4347181956385384.\u001b[0m\n"
     ]
    },
    {
     "name": "stdout",
     "output_type": "stream",
     "text": [
      "[-2.95325985 -3.24362401 -3.65252132 -3.40726417 -3.91692163]\n"
     ]
    },
    {
     "name": "stderr",
     "output_type": "stream",
     "text": [
      "\u001b[32m[I 2021-05-08 10:01:08,024]\u001b[0m Trial 13 finished with value: -3.8383880708835747 and parameters: {'eta': 0.6804036595678394, 'gamma': 7.601172590110384e-07, 'max_depth': 17, 'min_child_weight': 2.7000456373643316e-06, 'subsample': 0.6922151032837097, 'reg_lambda': 14.83348212687568, 'reg_alpha': 251.944318963599}. Best is trial 12 with value: -3.4347181956385384.\u001b[0m\n"
     ]
    },
    {
     "name": "stdout",
     "output_type": "stream",
     "text": [
      "[-3.45339374 -3.81152833 -4.13553483 -3.68747237 -4.10401108]\n"
     ]
    },
    {
     "name": "stderr",
     "output_type": "stream",
     "text": [
      "\u001b[32m[I 2021-05-08 10:01:08,315]\u001b[0m Trial 14 finished with value: -3.8856733282348257 and parameters: {'eta': 0.07224817592567849, 'gamma': 6.899119808530665e-07, 'max_depth': 13, 'min_child_weight': 1.276859302778871e-08, 'subsample': 0.6322051948719274, 'reg_lambda': 170.4604543261821, 'reg_alpha': 232.9612660077802}. Best is trial 12 with value: -3.4347181956385384.\u001b[0m\n"
     ]
    },
    {
     "name": "stdout",
     "output_type": "stream",
     "text": [
      "[-3.2000886  -3.79366241 -4.21996473 -4.15717923 -4.05747167]\n"
     ]
    },
    {
     "name": "stderr",
     "output_type": "stream",
     "text": [
      "\u001b[32m[I 2021-05-08 10:01:08,628]\u001b[0m Trial 15 finished with value: -3.8307307157339876 and parameters: {'eta': 0.07823752472851248, 'gamma': 4.90435228580777e-07, 'max_depth': 11, 'min_child_weight': 4.025506730801255e-06, 'subsample': 0.7982571698405566, 'reg_lambda': 185.18208945149993, 'reg_alpha': 336.1776478040844}. Best is trial 12 with value: -3.4347181956385384.\u001b[0m\n",
      "\u001b[32m[I 2021-05-08 10:01:08,812]\u001b[0m Trial 16 finished with value: -21.34382692404956 and parameters: {'eta': 3.439601124348604e-08, 'gamma': 0.0008156698664559377, 'max_depth': 16, 'min_child_weight': 1.787299051047522e-07, 'subsample': 0.6158017747510014, 'reg_lambda': 181.99543169584626, 'reg_alpha': 112.33743563563903}. Best is trial 12 with value: -3.4347181956385384.\u001b[0m\n"
     ]
    },
    {
     "name": "stdout",
     "output_type": "stream",
     "text": [
      "[-3.1523327  -3.68764552 -4.19958564 -4.06687488 -4.04721484]\n",
      "[-20.25428344 -22.21601251 -20.75922185 -21.32465395 -22.16496288]\n"
     ]
    },
    {
     "name": "stderr",
     "output_type": "stream",
     "text": [
      "\u001b[32m[I 2021-05-08 10:01:09,413]\u001b[0m Trial 17 finished with value: -3.596058828141954 and parameters: {'eta': 0.1364760266654693, 'gamma': 1.990130655655471e-07, 'max_depth': 6, 'min_child_weight': 1.1715001573043084e-06, 'subsample': 0.27970692577905476, 'reg_lambda': 83.54966415200427, 'reg_alpha': 130.1489679573872}. Best is trial 12 with value: -3.4347181956385384.\u001b[0m\n"
     ]
    },
    {
     "name": "stdout",
     "output_type": "stream",
     "text": [
      "[-3.05840957 -3.38889633 -4.00384955 -3.63137409 -3.89776461]\n"
     ]
    },
    {
     "name": "stderr",
     "output_type": "stream",
     "text": [
      "\u001b[32m[I 2021-05-08 10:01:10,161]\u001b[0m Trial 18 finished with value: -8.15086312880634 and parameters: {'eta': 0.021613515516614643, 'gamma': 3.0463319288701275e-06, 'max_depth': 11, 'min_child_weight': 1.0428877685691709e-05, 'subsample': 0.9932645630820872, 'reg_lambda': 268.15540497395557, 'reg_alpha': 362.2149717397838}. Best is trial 12 with value: -3.4347181956385384.\u001b[0m\n"
     ]
    },
    {
     "name": "stdout",
     "output_type": "stream",
     "text": [
      "[-7.1371841  -8.65015138 -8.02653027 -8.30558896 -8.63486094]\n"
     ]
    },
    {
     "name": "stderr",
     "output_type": "stream",
     "text": [
      "\u001b[32m[I 2021-05-08 10:01:10,938]\u001b[0m Trial 19 finished with value: -3.059522851805628 and parameters: {'eta': 0.5848310736175091, 'gamma': 1.1992468684284546e-07, 'max_depth': 8, 'min_child_weight': 1.2274480000935173e-08, 'subsample': 0.8216035131079048, 'reg_lambda': 102.25582345234729, 'reg_alpha': 145.93660533449298}. Best is trial 19 with value: -3.059522851805628.\u001b[0m\n"
     ]
    },
    {
     "name": "stdout",
     "output_type": "stream",
     "text": [
      "[-2.67305    -2.79059636 -2.97817177 -3.01923918 -3.83655695]\n"
     ]
    },
    {
     "name": "stderr",
     "output_type": "stream",
     "text": [
      "\u001b[32m[I 2021-05-08 10:01:12,019]\u001b[0m Trial 20 finished with value: -3.0935626986527147 and parameters: {'eta': 0.4403653708581131, 'gamma': 1.1961227461827094e-08, 'max_depth': 1, 'min_child_weight': 1.0757740442239423e-08, 'subsample': 0.8723686300971725, 'reg_lambda': 7.500604332049534, 'reg_alpha': 122.39432420357834}. Best is trial 19 with value: -3.059522851805628.\u001b[0m\n"
     ]
    },
    {
     "name": "stdout",
     "output_type": "stream",
     "text": [
      "[-2.43221335 -2.88804953 -3.3923889  -3.09171822 -3.66344349]\n"
     ]
    },
    {
     "name": "stderr",
     "output_type": "stream",
     "text": [
      "\u001b[32m[I 2021-05-08 10:01:12,630]\u001b[0m Trial 21 finished with value: -3.4706483707957796 and parameters: {'eta': 0.8540805998814451, 'gamma': 8.772513024980179e-08, 'max_depth': 1, 'min_child_weight': 1.0042694809904645e-08, 'subsample': 0.8406317355472468, 'reg_lambda': 9.237698631511837, 'reg_alpha': 101.97100461968652}. Best is trial 19 with value: -3.059522851805628.\u001b[0m\n"
     ]
    },
    {
     "name": "stdout",
     "output_type": "stream",
     "text": [
      "[-2.76901329 -3.42216675 -3.92661929 -3.33612216 -3.89932037]\n"
     ]
    },
    {
     "name": "stderr",
     "output_type": "stream",
     "text": [
      "\u001b[32m[I 2021-05-08 10:01:14,313]\u001b[0m Trial 22 finished with value: -2.4225420888147235 and parameters: {'eta': 0.8029561711375183, 'gamma': 1.1103560614264914e-08, 'max_depth': 8, 'min_child_weight': 4.3023384424790005e-08, 'subsample': 0.9779763307603598, 'reg_lambda': 84.52987819443769, 'reg_alpha': 5.885586801247413}. Best is trial 22 with value: -2.4225420888147235.\u001b[0m\n"
     ]
    },
    {
     "name": "stdout",
     "output_type": "stream",
     "text": [
      "[-2.05929561 -2.12453287 -2.32348455 -2.66557847 -2.93981895]\n"
     ]
    },
    {
     "name": "stderr",
     "output_type": "stream",
     "text": [
      "\u001b[32m[I 2021-05-08 10:01:14,630]\u001b[0m Trial 23 finished with value: -10.204091887209149 and parameters: {'eta': 0.014342524820239075, 'gamma': 1.1246125909865445e-08, 'max_depth': 4, 'min_child_weight': 2.8325338402398254e-08, 'subsample': 0.9997984616096859, 'reg_lambda': 264.65320021553316, 'reg_alpha': 11.24425259668493}. Best is trial 22 with value: -2.4225420888147235.\u001b[0m\n"
     ]
    },
    {
     "name": "stdout",
     "output_type": "stream",
     "text": [
      "[ -9.15442144 -10.8830473   -9.91330448 -10.23330911 -10.83637711]\n"
     ]
    },
    {
     "name": "stderr",
     "output_type": "stream",
     "text": [
      "\u001b[32m[I 2021-05-08 10:01:14,930]\u001b[0m Trial 24 finished with value: -3.369294118510352 and parameters: {'eta': 0.9974790583242222, 'gamma': 1.1106950643787724e-08, 'max_depth': 1, 'min_child_weight': 7.697560320778008e-08, 'subsample': 0.9968528510126572, 'reg_lambda': 82.64617348506557, 'reg_alpha': 139.79086043541787}. Best is trial 22 with value: -2.4225420888147235.\u001b[0m\n"
     ]
    },
    {
     "name": "stdout",
     "output_type": "stream",
     "text": [
      "[-3.16499936 -3.21157792 -3.84758433 -3.03332322 -3.58898577]\n"
     ]
    },
    {
     "name": "stderr",
     "output_type": "stream",
     "text": [
      "\u001b[32m[I 2021-05-08 10:01:15,165]\u001b[0m Trial 25 finished with value: -21.34384362068294 and parameters: {'eta': 1.8831715769265583e-08, 'gamma': 9.58155898326144e-08, 'max_depth': 8, 'min_child_weight': 1.0983155244946807e-08, 'subsample': 0.9121397815370395, 'reg_lambda': 279.1744536010056, 'reg_alpha': 16.96883509533484}. Best is trial 22 with value: -2.4225420888147235.\u001b[0m\n"
     ]
    },
    {
     "name": "stdout",
     "output_type": "stream",
     "text": [
      "[-20.25430016 -22.216029   -20.75923854 -21.32467079 -22.16497962]\n"
     ]
    },
    {
     "name": "stderr",
     "output_type": "stream",
     "text": [
      "\u001b[32m[I 2021-05-08 10:01:15,484]\u001b[0m Trial 26 finished with value: -3.0746983719107543 and parameters: {'eta': 0.4056977440087973, 'gamma': 1.034426176033525e-08, 'max_depth': 5, 'min_child_weight': 1.5816376061188807e-07, 'subsample': 0.8566934140497762, 'reg_lambda': 39.1325519222454, 'reg_alpha': 157.33661051165896}. Best is trial 22 with value: -2.4225420888147235.\u001b[0m\n"
     ]
    },
    {
     "name": "stdout",
     "output_type": "stream",
     "text": [
      "[-3.00671794 -2.50115783 -3.0288495  -2.94901858 -3.88774801]\n"
     ]
    },
    {
     "name": "stderr",
     "output_type": "stream",
     "text": [
      "\u001b[32m[I 2021-05-08 10:01:15,804]\u001b[0m Trial 27 finished with value: -8.149761233070752 and parameters: {'eta': 0.03601055144484928, 'gamma': 5.5941695190181374e-08, 'max_depth': 5, 'min_child_weight': 3.0058812601568075e-07, 'subsample': 0.7810883109747264, 'reg_lambda': 536.7988308444166, 'reg_alpha': 181.96285553496648}. Best is trial 22 with value: -2.4225420888147235.\u001b[0m\n"
     ]
    },
    {
     "name": "stdout",
     "output_type": "stream",
     "text": [
      "[-6.99857301 -8.68977041 -8.07072464 -8.36412751 -8.6256106 ]\n"
     ]
    },
    {
     "name": "stderr",
     "output_type": "stream",
     "text": [
      "\u001b[32m[I 2021-05-08 10:01:16,601]\u001b[0m Trial 28 finished with value: -2.69540348472713 and parameters: {'eta': 0.27610002650007404, 'gamma': 3.4880656490767767e-06, 'max_depth': 8, 'min_child_weight': 6.447868009542335e-08, 'subsample': 0.9591416618340666, 'reg_lambda': 102.04369634014213, 'reg_alpha': 42.99869309705946}. Best is trial 22 with value: -2.4225420888147235.\u001b[0m\n"
     ]
    },
    {
     "name": "stdout",
     "output_type": "stream",
     "text": [
      "[-2.239363   -2.53819413 -2.65239604 -2.62523376 -3.42183049]\n"
     ]
    },
    {
     "name": "stderr",
     "output_type": "stream",
     "text": [
      "\u001b[32m[I 2021-05-08 10:01:17,204]\u001b[0m Trial 29 finished with value: -17.528572315969587 and parameters: {'eta': 0.006072731214130701, 'gamma': 2.811620368307135e-06, 'max_depth': 8, 'min_child_weight': 4.611020186433889e-08, 'subsample': 0.9688776775932813, 'reg_lambda': 645.5751763429942, 'reg_alpha': 44.576984453455516}. Best is trial 22 with value: -2.4225420888147235.\u001b[0m\n"
     ]
    },
    {
     "name": "stdout",
     "output_type": "stream",
     "text": [
      "[-16.39315992 -18.44156115 -16.92042745 -17.50856358 -18.37914948]\n"
     ]
    },
    {
     "name": "stderr",
     "output_type": "stream",
     "text": [
      "\u001b[32m[I 2021-05-08 10:01:17,521]\u001b[0m Trial 30 finished with value: -20.94155947341448 and parameters: {'eta': 0.00036450853855052176, 'gamma': 2.640146227955697e-05, 'max_depth': 8, 'min_child_weight': 4.540976233308073e-07, 'subsample': 0.7974130607514894, 'reg_lambda': 227.10732082604542, 'reg_alpha': 84.70633586313406}. Best is trial 22 with value: -2.4225420888147235.\u001b[0m\n"
     ]
    },
    {
     "name": "stdout",
     "output_type": "stream",
     "text": [
      "[-19.84791177 -21.81802959 -20.35481227 -20.92163995 -21.76540379]\n"
     ]
    },
    {
     "name": "stderr",
     "output_type": "stream",
     "text": [
      "\u001b[32m[I 2021-05-08 10:01:18,064]\u001b[0m Trial 31 finished with value: -3.080500312151732 and parameters: {'eta': 0.33008163687804476, 'gamma': 9.26523170458384e-06, 'max_depth': 5, 'min_child_weight': 1.1375221369231684e-07, 'subsample': 0.8914502241114693, 'reg_lambda': 101.59267980061146, 'reg_alpha': 176.75086609723928}. Best is trial 22 with value: -2.4225420888147235.\u001b[0m\n"
     ]
    },
    {
     "name": "stdout",
     "output_type": "stream",
     "text": [
      "[-2.62597468 -2.69863581 -3.24166391 -3.09603331 -3.74019385]\n"
     ]
    },
    {
     "name": "stderr",
     "output_type": "stream",
     "text": [
      "\u001b[32m[I 2021-05-08 10:01:18,629]\u001b[0m Trial 32 finished with value: -2.653556246963548 and parameters: {'eta': 0.26286584405065383, 'gamma': 1.7487487613449042e-07, 'max_depth': 6, 'min_child_weight': 2.6833915209956965e-08, 'subsample': 0.9575034100892016, 'reg_lambda': 65.49127509080232, 'reg_alpha': 58.81355011365052}. Best is trial 22 with value: -2.4225420888147235.\u001b[0m\n"
     ]
    },
    {
     "name": "stdout",
     "output_type": "stream",
     "text": [
      "[-2.17118601 -2.39171791 -2.74960897 -2.57065973 -3.38460861]\n"
     ]
    },
    {
     "name": "stderr",
     "output_type": "stream",
     "text": [
      "\u001b[32m[I 2021-05-08 10:01:19,010]\u001b[0m Trial 33 finished with value: -4.350412157064603 and parameters: {'eta': 0.030571508011492606, 'gamma': 1.6797958053029073e-07, 'max_depth': 7, 'min_child_weight': 2.8880035375132955e-08, 'subsample': 0.9496797624789097, 'reg_lambda': 109.41561823051576, 'reg_alpha': 48.8449132280919}. Best is trial 22 with value: -2.4225420888147235.\u001b[0m\n"
     ]
    },
    {
     "name": "stdout",
     "output_type": "stream",
     "text": [
      "[-3.61137354 -4.25330857 -4.65126932 -4.57147275 -4.6646366 ]\n"
     ]
    },
    {
     "name": "stderr",
     "output_type": "stream",
     "text": [
      "\u001b[32m[I 2021-05-08 10:01:19,545]\u001b[0m Trial 34 finished with value: -3.3358803111712136 and parameters: {'eta': 0.19943191314550454, 'gamma': 6.214801070902126e-05, 'max_depth': 9, 'min_child_weight': 3.019478827488695e-08, 'subsample': 0.9546944085776937, 'reg_lambda': 304.13265118701906, 'reg_alpha': 307.6532429780856}. Best is trial 22 with value: -2.4225420888147235.\u001b[0m\n"
     ]
    },
    {
     "name": "stdout",
     "output_type": "stream",
     "text": [
      "[-2.74404855 -3.10655383 -3.63232452 -3.29369304 -3.90278161]\n"
     ]
    },
    {
     "name": "stderr",
     "output_type": "stream",
     "text": [
      "\u001b[32m[I 2021-05-08 10:01:19,964]\u001b[0m Trial 35 finished with value: -2.395412264035072 and parameters: {'eta': 0.9650468889295774, 'gamma': 2.2939511778516248e-07, 'max_depth': 3, 'min_child_weight': 1.019891132151363e-08, 'subsample': 0.9938064415019705, 'reg_lambda': 138.5166453399209, 'reg_alpha': 7.095710727630268}. Best is trial 35 with value: -2.395412264035072.\u001b[0m\n"
     ]
    },
    {
     "name": "stdout",
     "output_type": "stream",
     "text": [
      "[-2.28668113 -2.16689845 -2.25406387 -2.52916098 -2.7402569 ]\n"
     ]
    },
    {
     "name": "stderr",
     "output_type": "stream",
     "text": [
      "\u001b[32m[I 2021-05-08 10:01:20,439]\u001b[0m Trial 36 finished with value: -19.559743208685042 and parameters: {'eta': 0.00411470813874701, 'gamma': 0.00019657398998578073, 'max_depth': 3, 'min_child_weight': 7.826663528411902e-07, 'subsample': 0.9889426465512694, 'reg_lambda': 992.1705937500758, 'reg_alpha': 846.9603363914041}. Best is trial 35 with value: -2.395412264035072.\u001b[0m\n"
     ]
    },
    {
     "name": "stdout",
     "output_type": "stream",
     "text": [
      "[-18.44549788 -20.4541976  -18.962019   -19.54088742 -20.39611415]\n"
     ]
    },
    {
     "name": "stderr",
     "output_type": "stream",
     "text": [
      "\u001b[32m[I 2021-05-08 10:01:20,963]\u001b[0m Trial 37 finished with value: -3.3077373486801434 and parameters: {'eta': 0.07452068374924034, 'gamma': 2.0673596916453873e-06, 'max_depth': 6, 'min_child_weight': 0.001617801755435428, 'subsample': 0.9312832772709435, 'reg_lambda': 218.22637893649596, 'reg_alpha': 13.787063601865427}. Best is trial 35 with value: -2.395412264035072.\u001b[0m\n",
      "\u001b[32m[I 2021-05-08 10:01:21,155]\u001b[0m Trial 38 finished with value: -21.343856067457317 and parameters: {'eta': 6.507222782453907e-07, 'gamma': 3.384304218990937e-08, 'max_depth': 2, 'min_child_weight': 2.7399463142003325e-05, 'subsample': 0.014476736609081109, 'reg_lambda': 321.75236934517494, 'reg_alpha': 72.64943533737714}. Best is trial 35 with value: -2.395412264035072.\u001b[0m\n"
     ]
    },
    {
     "name": "stdout",
     "output_type": "stream",
     "text": [
      "[-2.69286827 -3.18816391 -3.63092637 -3.20792503 -3.81880316]\n",
      "[-20.25431276 -22.2160414  -20.75925115 -21.32468313 -22.16499189]\n"
     ]
    },
    {
     "name": "stderr",
     "output_type": "stream",
     "text": [
      "\u001b[32m[I 2021-05-08 10:01:21,825]\u001b[0m Trial 39 finished with value: -15.574797515963331 and parameters: {'eta': 0.011247122418887437, 'gamma': 2.8308251152834063e-07, 'max_depth': 3, 'min_child_weight': 6.575458270155106e-08, 'subsample': 0.9073371091521256, 'reg_lambda': 749.1280221520462, 'reg_alpha': 0.8046550052203258}. Best is trial 35 with value: -2.395412264035072.\u001b[0m\n"
     ]
    },
    {
     "name": "stdout",
     "output_type": "stream",
     "text": [
      "[-14.40606065 -16.49382964 -14.99796204 -15.56065411 -16.41548113]\n"
     ]
    },
    {
     "name": "stderr",
     "output_type": "stream",
     "text": [
      "\u001b[32m[I 2021-05-08 10:01:22,146]\u001b[0m Trial 40 finished with value: -21.112960949593855 and parameters: {'eta': 0.00020599192742731755, 'gamma': 1.2959149904207544e-05, 'max_depth': 4, 'min_child_weight': 1.2294535331075922e-06, 'subsample': 0.5189911287580236, 'reg_lambda': 143.34904319466798, 'reg_alpha': 64.13119744512734}. Best is trial 35 with value: -2.395412264035072.\u001b[0m\n"
     ]
    },
    {
     "name": "stdout",
     "output_type": "stream",
     "text": [
      "[-20.02215992 -21.98740122 -20.5272762  -21.09303357 -21.93493384]\n"
     ]
    },
    {
     "name": "stderr",
     "output_type": "stream",
     "text": [
      "\u001b[32m[I 2021-05-08 10:01:23,056]\u001b[0m Trial 41 finished with value: -2.459871829038785 and parameters: {'eta': 0.9399497587584543, 'gamma': 1.786047712652457e-06, 'max_depth': 7, 'min_child_weight': 1.8591236583323834e-08, 'subsample': 0.8346806969164865, 'reg_lambda': 77.18722972758178, 'reg_alpha': 7.109317034305093}. Best is trial 35 with value: -2.395412264035072.\u001b[0m\n"
     ]
    },
    {
     "name": "stdout",
     "output_type": "stream",
     "text": [
      "[-2.04649418 -2.22195948 -2.25757739 -2.57850081 -3.19482729]\n"
     ]
    },
    {
     "name": "stderr",
     "output_type": "stream",
     "text": [
      "\u001b[32m[I 2021-05-08 10:01:24,096]\u001b[0m Trial 42 finished with value: -2.4120758433165372 and parameters: {'eta': 0.8973380502169895, 'gamma': 2.555352734886879e-06, 'max_depth': 7, 'min_child_weight': 4.00198565086369e-08, 'subsample': 0.9956366702256515, 'reg_lambda': 49.0768881358158, 'reg_alpha': 2.5083328440522124}. Best is trial 35 with value: -2.395412264035072.\u001b[0m\n"
     ]
    },
    {
     "name": "stdout",
     "output_type": "stream",
     "text": [
      "[-2.46971452 -2.10221828 -1.98872446 -3.15261866 -2.3471033 ]\n"
     ]
    },
    {
     "name": "stderr",
     "output_type": "stream",
     "text": [
      "\u001b[32m[I 2021-05-08 10:01:24,433]\u001b[0m Trial 43 finished with value: -4.429876194541837 and parameters: {'eta': 0.9493494350016817, 'gamma': 1.1827474744217281e-06, 'max_depth': 7, 'min_child_weight': 1.7768453944081628e-08, 'subsample': 0.9977438678418771, 'reg_lambda': 52.30956957324225, 'reg_alpha': 575.6712856424975}. Best is trial 35 with value: -2.395412264035072.\u001b[0m\n"
     ]
    },
    {
     "name": "stdout",
     "output_type": "stream",
     "text": [
      "[-3.97562848 -4.4578643  -5.03658576 -4.30946263 -4.36983979]\n"
     ]
    },
    {
     "name": "stderr",
     "output_type": "stream",
     "text": [
      "\u001b[32m[I 2021-05-08 10:01:25,168]\u001b[0m Trial 44 finished with value: -2.409441670058686 and parameters: {'eta': 0.9144609544646498, 'gamma': 0.0009295004414669239, 'max_depth': 6, 'min_child_weight': 1.3250011415196331e-07, 'subsample': 0.894242139808697, 'reg_lambda': 145.02332012858363, 'reg_alpha': 4.395631436312621}. Best is trial 35 with value: -2.395412264035072.\u001b[0m\n"
     ]
    },
    {
     "name": "stdout",
     "output_type": "stream",
     "text": [
      "[-2.33989308 -2.22716541 -2.15030331 -2.56504285 -2.76480369]\n"
     ]
    },
    {
     "name": "stderr",
     "output_type": "stream",
     "text": [
      "\u001b[32m[I 2021-05-08 10:01:26,068]\u001b[0m Trial 45 finished with value: -2.4211462648356403 and parameters: {'eta': 0.9825478240026788, 'gamma': 0.0006765448236598294, 'max_depth': 9, 'min_child_weight': 2.6106847574457136e-07, 'subsample': 0.7580190192422231, 'reg_lambda': 140.62936766560148, 'reg_alpha': 13.014188445859965}. Best is trial 35 with value: -2.395412264035072.\u001b[0m\n"
     ]
    },
    {
     "name": "stdout",
     "output_type": "stream",
     "text": [
      "[-2.22352997 -2.13716376 -2.40915296 -2.5473251  -2.78855953]\n"
     ]
    },
    {
     "name": "stderr",
     "output_type": "stream",
     "text": [
      "\u001b[32m[I 2021-05-08 10:01:26,323]\u001b[0m Trial 46 finished with value: -21.31622486118034 and parameters: {'eta': 2.548662657790901e-05, 'gamma': 0.0015442828114317652, 'max_depth': 12, 'min_child_weight': 0.09789949073876252, 'subsample': 0.7597028203473837, 'reg_lambda': 219.32650157262356, 'reg_alpha': 179.8313910654054}. Best is trial 35 with value: -2.395412264035072.\u001b[0m\n"
     ]
    },
    {
     "name": "stdout",
     "output_type": "stream",
     "text": [
      "[-20.22642503 -22.1887124  -20.73146123 -21.29699904 -22.13752661]\n"
     ]
    },
    {
     "name": "stderr",
     "output_type": "stream",
     "text": [
      "\u001b[32m[I 2021-05-08 10:01:26,688]\u001b[0m Trial 47 finished with value: -9.433690279542663 and parameters: {'eta': 0.043183488477305215, 'gamma': 0.0057521019899863714, 'max_depth': 9, 'min_child_weight': 3.265685536353904e-07, 'subsample': 0.3697673441942557, 'reg_lambda': 461.46356205203705, 'reg_alpha': 6.772331084442901}. Best is trial 35 with value: -2.395412264035072.\u001b[0m\n"
     ]
    },
    {
     "name": "stdout",
     "output_type": "stream",
     "text": [
      "[ -8.2600055  -10.15917867  -9.18718917  -9.61047195  -9.9516061 ]\n"
     ]
    },
    {
     "name": "stderr",
     "output_type": "stream",
     "text": [
      "\u001b[32m[I 2021-05-08 10:01:27,326]\u001b[0m Trial 48 finished with value: -2.957472315093617 and parameters: {'eta': 0.12898335697350907, 'gamma': 0.029525465157935537, 'max_depth': 10, 'min_child_weight': 1.5343279165120386e-07, 'subsample': 0.8941851076524747, 'reg_lambda': 145.39337509832885, 'reg_alpha': 91.96021948809624}. Best is trial 35 with value: -2.395412264035072.\u001b[0m\n"
     ]
    },
    {
     "name": "stdout",
     "output_type": "stream",
     "text": [
      "[-2.50349556 -2.7052653  -3.0661079  -2.87318678 -3.63930603]\n"
     ]
    },
    {
     "name": "stderr",
     "output_type": "stream",
     "text": [
      "\u001b[32m[I 2021-05-08 10:01:27,580]\u001b[0m Trial 49 finished with value: -6.271746678434772 and parameters: {'eta': 0.8981503302128184, 'gamma': 0.00016390441743178717, 'max_depth': 4, 'min_child_weight': 2.7763715479996083e-07, 'subsample': 0.08737980437476167, 'reg_lambda': 214.22265604990153, 'reg_alpha': 204.70960246918628}. Best is trial 35 with value: -2.395412264035072.\u001b[0m\n"
     ]
    },
    {
     "name": "stdout",
     "output_type": "stream",
     "text": [
      "[-5.53818326 -6.45028178 -6.44338364 -6.41582355 -6.51106115]\n"
     ]
    },
    {
     "name": "stderr",
     "output_type": "stream",
     "text": [
      "\u001b[32m[I 2021-05-08 10:01:28,003]\u001b[0m Trial 50 finished with value: -5.199246955288781 and parameters: {'eta': 0.1456234731398418, 'gamma': 0.0007472720456972319, 'max_depth': 9, 'min_child_weight': 1.3582489364704184e-06, 'subsample': 0.5789091062965541, 'reg_lambda': 143.033128664014, 'reg_alpha': 796.7010086959128}. Best is trial 35 with value: -2.395412264035072.\u001b[0m\n"
     ]
    },
    {
     "name": "stdout",
     "output_type": "stream",
     "text": [
      "[-4.33468875 -5.24840576 -5.42940943 -5.63392097 -5.34980987]\n"
     ]
    },
    {
     "name": "stderr",
     "output_type": "stream",
     "text": [
      "\u001b[32m[I 2021-05-08 10:01:28,862]\u001b[0m Trial 51 finished with value: -2.6115514877696095 and parameters: {'eta': 0.9830926790716431, 'gamma': 0.005010536707828067, 'max_depth': 7, 'min_child_weight': 6.347257380824098e-08, 'subsample': 0.7229277874508165, 'reg_lambda': 6.909331868120248, 'reg_alpha': 13.667410048551062}. Best is trial 35 with value: -2.395412264035072.\u001b[0m\n"
     ]
    },
    {
     "name": "stdout",
     "output_type": "stream",
     "text": [
      "[-2.42072558 -2.32358493 -2.16509392 -2.99714308 -3.15120993]\n"
     ]
    },
    {
     "name": "stderr",
     "output_type": "stream",
     "text": [
      "\u001b[32m[I 2021-05-08 10:01:29,773]\u001b[0m Trial 52 finished with value: -2.255420092947689 and parameters: {'eta': 0.4930300390902278, 'gamma': 0.0004206084440301275, 'max_depth': 5, 'min_child_weight': 2.020675471796923e-08, 'subsample': 0.8256619440248445, 'reg_lambda': 40.415065886567255, 'reg_alpha': 2.6651626544315903}. Best is trial 52 with value: -2.255420092947689.\u001b[0m\n"
     ]
    },
    {
     "name": "stdout",
     "output_type": "stream",
     "text": [
      "[-1.7783312  -1.95864254 -2.07927462 -2.62018128 -2.84067082]\n"
     ]
    },
    {
     "name": "stderr",
     "output_type": "stream",
     "text": [
      "\u001b[32m[I 2021-05-08 10:01:30,901]\u001b[0m Trial 53 finished with value: -2.8962858086073844 and parameters: {'eta': 0.3493823232012979, 'gamma': 0.00039807412626616945, 'max_depth': 5, 'min_child_weight': 1.2275722783037916e-07, 'subsample': 0.8784610000689582, 'reg_lambda': 47.97409964536209, 'reg_alpha': 87.55606486962762}. Best is trial 52 with value: -2.255420092947689.\u001b[0m\n"
     ]
    },
    {
     "name": "stdout",
     "output_type": "stream",
     "text": [
      "[-2.55952343 -2.67042304 -2.83384046 -2.7938928  -3.62374931]\n"
     ]
    },
    {
     "name": "stderr",
     "output_type": "stream",
     "text": [
      "\u001b[32m[I 2021-05-08 10:01:31,942]\u001b[0m Trial 54 finished with value: -3.833232334702103 and parameters: {'eta': 0.503590834502851, 'gamma': 0.0013903112977848844, 'max_depth': 2, 'min_child_weight': 4.3078878089324844e-08, 'subsample': 0.6982212975334272, 'reg_lambda': 144.85320652315409, 'reg_alpha': 472.69589613393765}. Best is trial 52 with value: -2.255420092947689.\u001b[0m\n"
     ]
    },
    {
     "name": "stdout",
     "output_type": "stream",
     "text": [
      "[-3.08445042 -3.74323936 -4.45125068 -3.88074483 -4.00647638]\n"
     ]
    },
    {
     "name": "stderr",
     "output_type": "stream",
     "text": [
      "\u001b[32m[I 2021-05-08 10:01:32,542]\u001b[0m Trial 55 finished with value: -2.175705342958003 and parameters: {'eta': 0.05889271650572993, 'gamma': 6.71046887226921e-05, 'max_depth': 6, 'min_child_weight': 1.0044008950843652e-08, 'subsample': 0.6618357073572245, 'reg_lambda': 1.0762849557075924, 'reg_alpha': 3.5472292638976803}. Best is trial 55 with value: -2.175705342958003.\u001b[0m\n"
     ]
    },
    {
     "name": "stdout",
     "output_type": "stream",
     "text": [
      "[-1.69318195 -1.90314938 -2.18475271 -2.42699903 -2.67044364]\n"
     ]
    },
    {
     "name": "stderr",
     "output_type": "stream",
     "text": [
      "\u001b[32m[I 2021-05-08 10:01:32,916]\u001b[0m Trial 56 finished with value: -3.1375656565501364 and parameters: {'eta': 0.05067694839934264, 'gamma': 8.121196956802913e-05, 'max_depth': 6, 'min_child_weight': 1.058992305176298e-08, 'subsample': 0.611549851996648, 'reg_lambda': 14.566570693031537, 'reg_alpha': 127.12033392554585}. Best is trial 55 with value: -2.175705342958003.\u001b[0m\n"
     ]
    },
    {
     "name": "stdout",
     "output_type": "stream",
     "text": [
      "[-2.72425994 -2.95341504 -3.31696403 -3.00591312 -3.68727616]\n"
     ]
    },
    {
     "name": "stderr",
     "output_type": "stream",
     "text": [
      "\u001b[32m[I 2021-05-08 10:01:33,290]\u001b[0m Trial 57 finished with value: -3.073454861664478 and parameters: {'eta': 0.12129716832771159, 'gamma': 3.175919317128493e-05, 'max_depth': 4, 'min_child_weight': 4.914440641710274e-07, 'subsample': 0.6507648475607677, 'reg_lambda': 191.6992921655707, 'reg_alpha': 40.49618955822154}. Best is trial 55 with value: -2.175705342958003.\u001b[0m\n",
      "\u001b[32m[I 2021-05-08 10:01:33,478]\u001b[0m Trial 58 finished with value: -21.338986534872173 and parameters: {'eta': 1.1215891620958537e-05, 'gamma': 0.00040075094110214387, 'max_depth': 2, 'min_child_weight': 1.8684443247940278e-08, 'subsample': 0.46195114951754257, 'reg_lambda': 355.9140428767099, 'reg_alpha': 999.2135521782998}. Best is trial 55 with value: -2.175705342958003.\u001b[0m\n"
     ]
    },
    {
     "name": "stdout",
     "output_type": "stream",
     "text": [
      "[-2.52902308 -2.87061461 -3.24096937 -3.03901063 -3.68765663]\n",
      "[-20.24936576 -22.21125514 -20.7543467  -21.31981224 -22.16015283]\n"
     ]
    },
    {
     "name": "stderr",
     "output_type": "stream",
     "text": [
      "\u001b[32m[I 2021-05-08 10:01:33,737]\u001b[0m Trial 59 finished with value: -20.321572887660544 and parameters: {'eta': 0.0012359153879812083, 'gamma': 0.003352674950288816, 'max_depth': 6, 'min_child_weight': 0.00045140088706170986, 'subsample': 0.570956756501984, 'reg_lambda': 245.9544524154722, 'reg_alpha': 274.1360879476707}. Best is trial 55 with value: -2.175705342958003.\u001b[0m\n"
     ]
    },
    {
     "name": "stdout",
     "output_type": "stream",
     "text": [
      "[-19.22329881 -21.20630981 -19.73230876 -20.30052951 -21.14541756]\n"
     ]
    },
    {
     "name": "stderr",
     "output_type": "stream",
     "text": [
      "\u001b[32m[I 2021-05-08 10:01:34,039]\u001b[0m Trial 60 finished with value: -21.343508056029126 and parameters: {'eta': 1.8187962629643684e-07, 'gamma': 0.002439446445210407, 'max_depth': 5, 'min_child_weight': 2.6514672125853103e-05, 'subsample': 0.6671701083558176, 'reg_lambda': 5.548087880659182, 'reg_alpha': 104.36525146128889}. Best is trial 55 with value: -2.175705342958003.\u001b[0m\n"
     ]
    },
    {
     "name": "stdout",
     "output_type": "stream",
     "text": [
      "[-20.25397441 -22.21568795 -20.7589061  -21.32433282 -22.16463901]\n"
     ]
    },
    {
     "name": "stderr",
     "output_type": "stream",
     "text": [
      "\u001b[32m[I 2021-05-08 10:01:34,599]\u001b[0m Trial 61 finished with value: -2.444504845542672 and parameters: {'eta': 0.4963414028639228, 'gamma': 0.0006749504516545961, 'max_depth': 9, 'min_child_weight': 9.502293754940063e-08, 'subsample': 0.7621208594241464, 'reg_lambda': 45.921921847985544, 'reg_alpha': 11.50742822572819}. Best is trial 55 with value: -2.175705342958003.\u001b[0m\n"
     ]
    },
    {
     "name": "stdout",
     "output_type": "stream",
     "text": [
      "[-2.27628141 -2.42701598 -2.08834619 -2.48287865 -2.94800199]\n"
     ]
    },
    {
     "name": "stderr",
     "output_type": "stream",
     "text": [
      "\u001b[32m[I 2021-05-08 10:01:35,167]\u001b[0m Trial 62 finished with value: -2.5087862989284373 and parameters: {'eta': 0.23560406892019825, 'gamma': 0.0001324080843997445, 'max_depth': 7, 'min_child_weight': 4.130868853686754e-08, 'subsample': 0.8065876761072615, 'reg_lambda': 173.35261740293058, 'reg_alpha': 2.5431621379173115}. Best is trial 55 with value: -2.175705342958003.\u001b[0m\n"
     ]
    },
    {
     "name": "stdout",
     "output_type": "stream",
     "text": [
      "[-2.08296073 -2.45373564 -2.42198958 -2.34008865 -3.24515689]\n"
     ]
    },
    {
     "name": "stderr",
     "output_type": "stream",
     "text": [
      "\u001b[32m[I 2021-05-08 10:01:35,639]\u001b[0m Trial 63 finished with value: -2.6407988148677495 and parameters: {'eta': 0.6120647427826728, 'gamma': 0.01328717097472637, 'max_depth': 11, 'min_child_weight': 1.6874704444381167e-08, 'subsample': 0.8579047713339067, 'reg_lambda': 136.66100591964874, 'reg_alpha': 48.204660965425056}. Best is trial 55 with value: -2.175705342958003.\u001b[0m\n"
     ]
    },
    {
     "name": "stdout",
     "output_type": "stream",
     "text": [
      "[-2.04474317 -2.51569386 -2.69537377 -2.604325   -3.34385827]\n"
     ]
    },
    {
     "name": "stderr",
     "output_type": "stream",
     "text": [
      "\u001b[32m[I 2021-05-08 10:01:36,031]\u001b[0m Trial 64 finished with value: -3.1296535134080017 and parameters: {'eta': 0.07465757433179614, 'gamma': 6.125663393550782e-06, 'max_depth': 6, 'min_child_weight': 1.0514412100124464e-08, 'subsample': 0.9254934316225284, 'reg_lambda': 120.62385074402934, 'reg_alpha': 78.88366272890799}. Best is trial 55 with value: -2.175705342958003.\u001b[0m\n"
     ]
    },
    {
     "name": "stdout",
     "output_type": "stream",
     "text": [
      "[-2.53911341 -2.91792892 -3.41170436 -3.0349426  -3.74457827]\n"
     ]
    },
    {
     "name": "stderr",
     "output_type": "stream",
     "text": [
      "\u001b[32m[I 2021-05-08 10:01:36,591]\u001b[0m Trial 65 finished with value: -2.598260621059088 and parameters: {'eta': 0.1902498978871554, 'gamma': 0.0003243945270020144, 'max_depth': 10, 'min_child_weight': 1.741151462285975e-07, 'subsample': 0.8408672115483338, 'reg_lambda': 74.96541612414211, 'reg_alpha': 32.02092483130701}. Best is trial 55 with value: -2.175705342958003.\u001b[0m\n"
     ]
    },
    {
     "name": "stdout",
     "output_type": "stream",
     "text": [
      "[-2.27826009 -2.42635737 -2.50176081 -2.43512326 -3.34980158]\n"
     ]
    },
    {
     "name": "stderr",
     "output_type": "stream",
     "text": [
      "\u001b[32m[I 2021-05-08 10:01:36,879]\u001b[0m Trial 66 finished with value: -3.410876405965767 and parameters: {'eta': 0.9751873535069951, 'gamma': 4.182564719084795e-05, 'max_depth': 3, 'min_child_weight': 2.264531967368758e-07, 'subsample': 0.7291350722541705, 'reg_lambda': 33.55450795096222, 'reg_alpha': 151.5674039940743}. Best is trial 55 with value: -2.175705342958003.\u001b[0m\n"
     ]
    },
    {
     "name": "stdout",
     "output_type": "stream",
     "text": [
      "[-2.98547003 -3.21275717 -3.44099588 -3.49075446 -3.92440449]\n"
     ]
    },
    {
     "name": "stderr",
     "output_type": "stream",
     "text": [
      "\u001b[32m[I 2021-05-08 10:01:37,234]\u001b[0m Trial 67 finished with value: -2.8791211985070033 and parameters: {'eta': 0.5064160884861503, 'gamma': 1.9161752751474877e-05, 'max_depth': 8, 'min_child_weight': 4.400464332950283e-08, 'subsample': 0.7998947256023009, 'reg_lambda': 183.45216838856493, 'reg_alpha': 110.98894866464686}. Best is trial 55 with value: -2.175705342958003.\u001b[0m\n"
     ]
    },
    {
     "name": "stdout",
     "output_type": "stream",
     "text": [
      "[-2.44933813 -2.58639077 -2.81035127 -2.89216022 -3.6573656 ]\n"
     ]
    },
    {
     "name": "stderr",
     "output_type": "stream",
     "text": [
      "\u001b[32m[I 2021-05-08 10:01:37,553]\u001b[0m Trial 68 finished with value: -6.371365772138407 and parameters: {'eta': 0.019799101941551663, 'gamma': 9.220648323446283e-05, 'max_depth': 5, 'min_child_weight': 9.009241103630746e-08, 'subsample': 0.7635885467114362, 'reg_lambda': 92.1651482856195, 'reg_alpha': 72.22040902793067}. Best is trial 55 with value: -2.175705342958003.\u001b[0m\n"
     ]
    },
    {
     "name": "stdout",
     "output_type": "stream",
     "text": [
      "[-5.56491852 -6.54515994 -6.37599255 -6.53051162 -6.84024623]\n"
     ]
    },
    {
     "name": "stderr",
     "output_type": "stream",
     "text": [
      "\u001b[32m[I 2021-05-08 10:01:37,896]\u001b[0m Trial 69 finished with value: -3.9838643346833593 and parameters: {'eta': 0.29565723648147885, 'gamma': 2.9744309311028302e-08, 'max_depth': 7, 'min_child_weight': 6.547323993821471e-07, 'subsample': 0.978862181396106, 'reg_lambda': 67.61188250139107, 'reg_alpha': 681.196479300802}. Best is trial 55 with value: -2.175705342958003.\u001b[0m\n"
     ]
    },
    {
     "name": "stdout",
     "output_type": "stream",
     "text": [
      "[-3.17878056 -3.79720123 -4.4135549  -4.36833718 -4.1614478 ]\n"
     ]
    },
    {
     "name": "stderr",
     "output_type": "stream",
     "text": [
      "\u001b[32m[I 2021-05-08 10:01:38,167]\u001b[0m Trial 70 finished with value: -4.52410459638525 and parameters: {'eta': 0.9905504494698509, 'gamma': 0.0009820647257118903, 'max_depth': 4, 'min_child_weight': 2.2282051188486087e-06, 'subsample': 0.9192897598046369, 'reg_lambda': 5.73293814152752, 'reg_alpha': 394.7574984630297}. Best is trial 55 with value: -2.175705342958003.\u001b[0m\n"
     ]
    },
    {
     "name": "stdout",
     "output_type": "stream",
     "text": [
      "[-4.58252804 -3.92566995 -4.6381629  -4.75982717 -4.71433493]\n"
     ]
    },
    {
     "name": "stderr",
     "output_type": "stream",
     "text": [
      "\u001b[32m[I 2021-05-08 10:01:38,753]\u001b[0m Trial 71 finished with value: -2.3892641748145778 and parameters: {'eta': 0.4869473797240428, 'gamma': 0.00025300162399115615, 'max_depth': 9, 'min_child_weight': 8.981719439819886e-08, 'subsample': 0.7663933085506165, 'reg_lambda': 45.84696293457515, 'reg_alpha': 9.33112123837521}. Best is trial 55 with value: -2.175705342958003.\u001b[0m\n"
     ]
    },
    {
     "name": "stdout",
     "output_type": "stream",
     "text": [
      "[-2.12180692 -2.4548425  -2.05259774 -2.41514062 -2.9019331 ]\n"
     ]
    },
    {
     "name": "stderr",
     "output_type": "stream",
     "text": [
      "\u001b[32m[I 2021-05-08 10:01:39,276]\u001b[0m Trial 72 finished with value: -2.559722878026373 and parameters: {'eta': 0.5417800152872703, 'gamma': 0.0002579921106615757, 'max_depth': 10, 'min_child_weight': 2.667778255969204e-08, 'subsample': 0.7029727810787816, 'reg_lambda': 114.16423636911608, 'reg_alpha': 39.71237197847485}. Best is trial 55 with value: -2.175705342958003.\u001b[0m\n"
     ]
    },
    {
     "name": "stdout",
     "output_type": "stream",
     "text": [
      "[-2.19410088 -2.30237336 -2.49277551 -2.6794598  -3.12990484]\n"
     ]
    },
    {
     "name": "stderr",
     "output_type": "stream",
     "text": [
      "\u001b[32m[I 2021-05-08 10:01:39,891]\u001b[0m Trial 73 finished with value: -2.352263100365062 and parameters: {'eta': 0.19866528262268968, 'gamma': 0.0005128577619838316, 'max_depth': 8, 'min_child_weight': 6.963510383147914e-08, 'subsample': 0.8287574562221844, 'reg_lambda': 37.17308828650562, 'reg_alpha': 0.6012457024638085}. Best is trial 55 with value: -2.175705342958003.\u001b[0m\n"
     ]
    },
    {
     "name": "stdout",
     "output_type": "stream",
     "text": [
      "[-1.9717239  -2.14990899 -2.19021078 -2.36841004 -3.0810618 ]\n"
     ]
    },
    {
     "name": "stderr",
     "output_type": "stream",
     "text": [
      "\u001b[32m[I 2021-05-08 10:01:40,496]\u001b[0m Trial 74 finished with value: -2.426711595600034 and parameters: {'eta': 0.10122011549109908, 'gamma': 0.0020689134424975355, 'max_depth': 9, 'min_child_weight': 9.515795023917396e-08, 'subsample': 0.8282804394143308, 'reg_lambda': 39.11089312210851, 'reg_alpha': 0.08150210243917722}. Best is trial 55 with value: -2.175705342958003.\u001b[0m\n"
     ]
    },
    {
     "name": "stdout",
     "output_type": "stream",
     "text": [
      "[-2.10339203 -2.25292606 -2.38259246 -2.27538862 -3.1192588 ]\n"
     ]
    },
    {
     "name": "stderr",
     "output_type": "stream",
     "text": [
      "\u001b[32m[I 2021-05-08 10:01:41,065]\u001b[0m Trial 75 finished with value: -2.5388826527360044 and parameters: {'eta': 0.16699269177786547, 'gamma': 0.000511572507327976, 'max_depth': 12, 'min_child_weight': 2.4548874208821927e-08, 'subsample': 0.7850623963452302, 'reg_lambda': 26.794673907147953, 'reg_alpha': 32.01212404677533}. Best is trial 55 with value: -2.175705342958003.\u001b[0m\n"
     ]
    },
    {
     "name": "stdout",
     "output_type": "stream",
     "text": [
      "[-2.08790424 -2.476555   -2.50306117 -2.54229549 -3.08459737]\n"
     ]
    },
    {
     "name": "stderr",
     "output_type": "stream",
     "text": [
      "\u001b[32m[I 2021-05-08 10:01:41,483]\u001b[0m Trial 76 finished with value: -2.670918484623049 and parameters: {'eta': 0.3392481615391471, 'gamma': 0.00020904801331370353, 'max_depth': 8, 'min_child_weight': 5.5591182314795086e-08, 'subsample': 0.8741660166655894, 'reg_lambda': 117.98594608801842, 'reg_alpha': 68.03014408856677}. Best is trial 55 with value: -2.175705342958003.\u001b[0m\n"
     ]
    },
    {
     "name": "stdout",
     "output_type": "stream",
     "text": [
      "[-2.15449547 -2.50525218 -2.70223864 -2.51595917 -3.47664697]\n"
     ]
    },
    {
     "name": "stderr",
     "output_type": "stream",
     "text": [
      "\u001b[32m[I 2021-05-08 10:01:41,898]\u001b[0m Trial 77 finished with value: -3.442665275038024 and parameters: {'eta': 0.05343870548915912, 'gamma': 0.0010499074932320317, 'max_depth': 6, 'min_child_weight': 2.1910469473576678e-07, 'subsample': 0.6620454714982145, 'reg_lambda': 65.06655351249356, 'reg_alpha': 118.28708573178675}. Best is trial 55 with value: -2.175705342958003.\u001b[0m\n"
     ]
    },
    {
     "name": "stdout",
     "output_type": "stream",
     "text": [
      "[-2.94412166 -3.24238703 -3.68150924 -3.40476433 -3.94054412]\n"
     ]
    },
    {
     "name": "stderr",
     "output_type": "stream",
     "text": [
      "\u001b[32m[I 2021-05-08 10:01:42,481]\u001b[0m Trial 78 finished with value: -2.575901930614754 and parameters: {'eta': 0.18852945750580485, 'gamma': 0.00012434133895667377, 'max_depth': 8, 'min_child_weight': 1.0359638611351287e-08, 'subsample': 0.7433896737004556, 'reg_lambda': 167.7761009524798, 'reg_alpha': 2.553757772639522}. Best is trial 55 with value: -2.175705342958003.\u001b[0m\n"
     ]
    },
    {
     "name": "stdout",
     "output_type": "stream",
     "text": [
      "[-2.13629953 -2.30563346 -2.49572992 -2.57083784 -3.3710089 ]\n"
     ]
    },
    {
     "name": "stderr",
     "output_type": "stream",
     "text": [
      "\u001b[32m[I 2021-05-08 10:01:42,948]\u001b[0m Trial 79 finished with value: -2.746670357056606 and parameters: {'eta': 0.031542223098580596, 'gamma': 5.701641884652357e-05, 'max_depth': 7, 'min_child_weight': 0.023976341310056173, 'subsample': 0.8178438365005366, 'reg_lambda': 0.4223715304773208, 'reg_alpha': 34.16326539797329}. Best is trial 55 with value: -2.175705342958003.\u001b[0m\n"
     ]
    },
    {
     "name": "stdout",
     "output_type": "stream",
     "text": [
      "[-2.24771797 -2.61186361 -2.85947325 -2.75006421 -3.26423274]\n"
     ]
    },
    {
     "name": "stderr",
     "output_type": "stream",
     "text": [
      "\u001b[32m[I 2021-05-08 10:01:43,303]\u001b[0m Trial 80 finished with value: -3.1337076005405855 and parameters: {'eta': 0.08937329580410328, 'gamma': 0.0002833740213734833, 'max_depth': 5, 'min_child_weight': 1.7707583064092298e-08, 'subsample': 0.8610520508859512, 'reg_lambda': 86.85581892799479, 'reg_alpha': 158.81791025621033}. Best is trial 55 with value: -2.175705342958003.\u001b[0m\n"
     ]
    },
    {
     "name": "stdout",
     "output_type": "stream",
     "text": [
      "[-2.67070471 -2.84460454 -3.31701191 -3.09058317 -3.74563368]\n"
     ]
    },
    {
     "name": "stderr",
     "output_type": "stream",
     "text": [
      "\u001b[32m[I 2021-05-08 10:01:43,636]\u001b[0m Trial 81 finished with value: -2.904306792815526 and parameters: {'eta': 0.5989020224239116, 'gamma': 0.0005231061433100058, 'max_depth': 8, 'min_child_weight': 3.5162999530371564e-08, 'subsample': 0.9414863350251035, 'reg_lambda': 55.92064571614338, 'reg_alpha': 69.39640387284905}. Best is trial 55 with value: -2.175705342958003.\u001b[0m\n"
     ]
    },
    {
     "name": "stdout",
     "output_type": "stream",
     "text": [
      "[-2.75942536 -2.67159589 -2.87008294 -2.79006758 -3.43036221]\n"
     ]
    },
    {
     "name": "stderr",
     "output_type": "stream",
     "text": [
      "\u001b[32m[I 2021-05-08 10:01:44,306]\u001b[0m Trial 82 finished with value: -2.5088667545642385 and parameters: {'eta': 0.7142021469026067, 'gamma': 0.009214614867584207, 'max_depth': 9, 'min_child_weight': 1.3779905305689765e-07, 'subsample': 0.8930339559796018, 'reg_lambda': 122.4345361341982, 'reg_alpha': 4.1576285344183495}. Best is trial 55 with value: -2.175705342958003.\u001b[0m\n"
     ]
    },
    {
     "name": "stdout",
     "output_type": "stream",
     "text": [
      "[-2.21457763 -2.47033229 -2.27369766 -2.71424701 -2.87147918]\n"
     ]
    },
    {
     "name": "stderr",
     "output_type": "stream",
     "text": [
      "\u001b[32m[I 2021-05-08 10:01:44,791]\u001b[0m Trial 83 finished with value: -2.6008801125950285 and parameters: {'eta': 0.23417927922654685, 'gamma': 4.864653339381375e-07, 'max_depth': 6, 'min_child_weight': 7.789498536614758e-08, 'subsample': 0.7847273769287567, 'reg_lambda': 99.16435938174396, 'reg_alpha': 28.41077619986571}. Best is trial 55 with value: -2.175705342958003.\u001b[0m\n"
     ]
    },
    {
     "name": "stdout",
     "output_type": "stream",
     "text": [
      "[-2.24999253 -2.27966412 -2.5956242  -2.52634452 -3.35277519]\n"
     ]
    },
    {
     "name": "stderr",
     "output_type": "stream",
     "text": [
      "\u001b[32m[I 2021-05-08 10:01:45,191]\u001b[0m Trial 84 finished with value: -2.7809000765070504 and parameters: {'eta': 0.3615813431264486, 'gamma': 0.00179505227231555, 'max_depth': 7, 'min_child_weight': 3.5885822024622403e-07, 'subsample': 0.9982077143612843, 'reg_lambda': 197.1198879948098, 'reg_alpha': 91.60654951814755}. Best is trial 55 with value: -2.175705342958003.\u001b[0m\n"
     ]
    },
    {
     "name": "stdout",
     "output_type": "stream",
     "text": [
      "[-2.3739113  -2.44935343 -2.82907575 -2.7155586  -3.5366013 ]\n"
     ]
    },
    {
     "name": "stderr",
     "output_type": "stream",
     "text": [
      "\u001b[32m[I 2021-05-08 10:01:45,659]\u001b[0m Trial 85 finished with value: -2.692986416369309 and parameters: {'eta': 0.9659065236124762, 'gamma': 0.00015624059083318368, 'max_depth': 11, 'min_child_weight': 5.196889653327601e-08, 'subsample': 0.9090669323836643, 'reg_lambda': 160.97111261140248, 'reg_alpha': 55.91232284611625}. Best is trial 55 with value: -2.175705342958003.\u001b[0m\n"
     ]
    },
    {
     "name": "stdout",
     "output_type": "stream",
     "text": [
      "[-2.19855395 -2.742748   -2.6562613  -2.71665564 -3.15071319]\n"
     ]
    },
    {
     "name": "stderr",
     "output_type": "stream",
     "text": [
      "\u001b[32m[I 2021-05-08 10:01:46,091]\u001b[0m Trial 86 finished with value: -2.5243885670120334 and parameters: {'eta': 0.38932304201818396, 'gamma': 0.0035139514389046687, 'max_depth': 10, 'min_child_weight': 8.127191161357124e-07, 'subsample': 0.9635211017822272, 'reg_lambda': 28.94296952992346, 'reg_alpha': 29.043659642007366}. Best is trial 55 with value: -2.175705342958003.\u001b[0m\n"
     ]
    },
    {
     "name": "stdout",
     "output_type": "stream",
     "text": [
      "[-2.0519107  -2.4091419  -2.45465556 -2.43819082 -3.26804385]\n"
     ]
    },
    {
     "name": "stderr",
     "output_type": "stream",
     "text": [
      "\u001b[32m[I 2021-05-08 10:01:46,731]\u001b[0m Trial 87 finished with value: -2.367130215532986 and parameters: {'eta': 0.7063559413949482, 'gamma': 1.9356969338076445e-08, 'max_depth': 8, 'min_child_weight': 2.0716880549986018e-08, 'subsample': 0.8371981287415649, 'reg_lambda': 81.68821675653274, 'reg_alpha': 0.4966000243071207}. Best is trial 55 with value: -2.175705342958003.\u001b[0m\n"
     ]
    },
    {
     "name": "stdout",
     "output_type": "stream",
     "text": [
      "[-2.28940539 -2.14336998 -2.3616222  -2.47970107 -2.56155243]\n"
     ]
    },
    {
     "name": "stderr",
     "output_type": "stream",
     "text": [
      "\u001b[32m[I 2021-05-08 10:01:47,387]\u001b[0m Trial 88 finished with value: -2.5467651725227447 and parameters: {'eta': 0.10604706512566892, 'gamma': 4.58506930785401e-06, 'max_depth': 9, 'min_child_weight': 1.4681023020009575e-08, 'subsample': 0.8326418064682557, 'reg_lambda': 67.68710129324192, 'reg_alpha': 1.6438364372199912}. Best is trial 55 with value: -2.175705342958003.\u001b[0m\n"
     ]
    },
    {
     "name": "stdout",
     "output_type": "stream",
     "text": [
      "[-2.18859919 -2.35184645 -2.47879789 -2.39514235 -3.31943999]\n"
     ]
    },
    {
     "name": "stderr",
     "output_type": "stream",
     "text": [
      "\u001b[32m[I 2021-05-08 10:01:47,649]\u001b[0m Trial 89 finished with value: -3.190217170968468 and parameters: {'eta': 0.6408057423671594, 'gamma': 3.311068151410375e-07, 'max_depth': 6, 'min_child_weight': 2.332689674118922e-08, 'subsample': 0.7445365130013912, 'reg_lambda': 135.82199080350938, 'reg_alpha': 211.0334807670996}. Best is trial 55 with value: -2.175705342958003.\u001b[0m\n"
     ]
    },
    {
     "name": "stdout",
     "output_type": "stream",
     "text": [
      "[-2.69407153 -2.84684853 -3.43387598 -3.37729994 -3.59898988]\n"
     ]
    },
    {
     "name": "stderr",
     "output_type": "stream",
     "text": [
      "\u001b[32m[I 2021-05-08 10:01:48,059]\u001b[0m Trial 90 finished with value: -3.207254648102654 and parameters: {'eta': 0.16218121820399298, 'gamma': 5.185949254986755e-08, 'max_depth': 4, 'min_child_weight': 1.170199922930032e-07, 'subsample': 0.7167641520945731, 'reg_lambda': 251.64655028110138, 'reg_alpha': 130.428687841467}. Best is trial 55 with value: -2.175705342958003.\u001b[0m\n"
     ]
    },
    {
     "name": "stdout",
     "output_type": "stream",
     "text": [
      "[-2.66242032 -2.89917455 -3.47524656 -3.2164322  -3.78299962]\n"
     ]
    },
    {
     "name": "stderr",
     "output_type": "stream",
     "text": [
      "\u001b[32m[I 2021-05-08 10:01:48,562]\u001b[0m Trial 91 finished with value: -2.695232144302792 and parameters: {'eta': 0.2681590457069739, 'gamma': 2.3165737088716907e-08, 'max_depth': 8, 'min_child_weight': 1.0590826686680102e-08, 'subsample': 0.8487432898310875, 'reg_lambda': 89.74084277817467, 'reg_alpha': 63.227858540952944}. Best is trial 55 with value: -2.175705342958003.\u001b[0m\n"
     ]
    },
    {
     "name": "stdout",
     "output_type": "stream",
     "text": [
      "[-2.06934403 -2.70995228 -2.66097206 -2.54140699 -3.49448536]\n"
     ]
    },
    {
     "name": "stderr",
     "output_type": "stream",
     "text": [
      "\u001b[32m[I 2021-05-08 10:01:49,015]\u001b[0m Trial 92 finished with value: -2.6592025282294665 and parameters: {'eta': 0.6817925002070535, 'gamma': 1.9660254914928084e-08, 'max_depth': 7, 'min_child_weight': 3.442539066702039e-08, 'subsample': 0.8857849402738825, 'reg_lambda': 23.76929991590387, 'reg_alpha': 22.760481975855672}. Best is trial 55 with value: -2.175705342958003.\u001b[0m\n"
     ]
    },
    {
     "name": "stdout",
     "output_type": "stream",
     "text": [
      "[-2.49366501 -2.66075821 -2.35326545 -2.78537916 -3.00294481]\n"
     ]
    },
    {
     "name": "stderr",
     "output_type": "stream",
     "text": [
      "\u001b[32m[I 2021-05-08 10:01:49,363]\u001b[0m Trial 93 finished with value: -2.9534372458104734 and parameters: {'eta': 0.348899887272944, 'gamma': 5.887318663415564e-08, 'max_depth': 9, 'min_child_weight': 5.938047058892233e-08, 'subsample': 0.9326588711145073, 'reg_lambda': 51.925569461209605, 'reg_alpha': 95.9466257111407}. Best is trial 55 with value: -2.175705342958003.\u001b[0m\n"
     ]
    },
    {
     "name": "stdout",
     "output_type": "stream",
     "text": [
      "[-2.65531683 -2.71556488 -2.74657329 -2.84198258 -3.80774865]\n"
     ]
    },
    {
     "name": "stderr",
     "output_type": "stream",
     "text": [
      "\u001b[32m[I 2021-05-08 10:01:49,936]\u001b[0m Trial 94 finished with value: -3.2339395379313713 and parameters: {'eta': 0.9584382820916288, 'gamma': 0.0006068768056562842, 'max_depth': 8, 'min_child_weight': 0.8626118534864389, 'subsample': 0.7676657565966964, 'reg_lambda': 2.8356895064567667, 'reg_alpha': 0.3768696010294228}. Best is trial 55 with value: -2.175705342958003.\u001b[0m\n"
     ]
    },
    {
     "name": "stdout",
     "output_type": "stream",
     "text": [
      "[-2.73576438 -2.86295872 -3.11802891 -3.76097405 -3.69197163]\n"
     ]
    },
    {
     "name": "stderr",
     "output_type": "stream",
     "text": [
      "\u001b[32m[I 2021-05-08 10:01:50,442]\u001b[0m Trial 95 finished with value: -2.6676491264884854 and parameters: {'eta': 0.4496689702699268, 'gamma': 0.0011147948174520471, 'max_depth': 7, 'min_child_weight': 2.202704432756681e-07, 'subsample': 0.8186821888998892, 'reg_lambda': 159.19753248491148, 'reg_alpha': 43.01613313941806}. Best is trial 55 with value: -2.175705342958003.\u001b[0m\n"
     ]
    },
    {
     "name": "stdout",
     "output_type": "stream",
     "text": [
      "[-2.26054152 -2.56372391 -2.55373155 -2.48538804 -3.47486061]\n"
     ]
    },
    {
     "name": "stderr",
     "output_type": "stream",
     "text": [
      "\u001b[32m[I 2021-05-08 10:01:50,827]\u001b[0m Trial 96 finished with value: -5.185137490331391 and parameters: {'eta': 0.056780350036597586, 'gamma': 9.166573029108132e-08, 'max_depth': 5, 'min_child_weight': 1.4861979168214726e-08, 'subsample': 0.9764680166242707, 'reg_lambda': 606.9353892961194, 'reg_alpha': 65.81330693918207}. Best is trial 55 with value: -2.175705342958003.\u001b[0m\n"
     ]
    },
    {
     "name": "stdout",
     "output_type": "stream",
     "text": [
      "[-4.35892128 -5.18996149 -5.37147206 -5.51374854 -5.49158408]\n"
     ]
    },
    {
     "name": "stderr",
     "output_type": "stream",
     "text": [
      "\u001b[32m[I 2021-05-08 10:01:51,458]\u001b[0m Trial 97 finished with value: -2.4446394719783173 and parameters: {'eta': 0.2281447740894015, 'gamma': 1.0085584246331719e-06, 'max_depth': 10, 'min_child_weight': 2.9684050152696352e-08, 'subsample': 0.6778531099487767, 'reg_lambda': 95.84434571155865, 'reg_alpha': 0.9695102653297103}. Best is trial 55 with value: -2.175705342958003.\u001b[0m\n"
     ]
    },
    {
     "name": "stdout",
     "output_type": "stream",
     "text": [
      "[-2.14920137 -2.24031106 -2.31151297 -2.51810352 -3.00406845]\n"
     ]
    },
    {
     "name": "stderr",
     "output_type": "stream",
     "text": [
      "\u001b[32m[I 2021-05-08 10:01:52,051]\u001b[0m Trial 98 finished with value: -2.5985227575714207 and parameters: {'eta': 0.7255194516498403, 'gamma': 0.03248243254738201, 'max_depth': 8, 'min_child_weight': 7.569726118145944e-08, 'subsample': 0.8712205617893725, 'reg_lambda': 722.6529795503996, 'reg_alpha': 23.54441045689756}. Best is trial 55 with value: -2.175705342958003.\u001b[0m\n"
     ]
    },
    {
     "name": "stdout",
     "output_type": "stream",
     "text": [
      "[-2.13059133 -2.303814   -2.55730478 -2.58126246 -3.41964122]\n"
     ]
    },
    {
     "name": "stderr",
     "output_type": "stream",
     "text": [
      "\u001b[32m[I 2021-05-08 10:01:52,441]\u001b[0m Trial 99 finished with value: -2.79023286762944 and parameters: {'eta': 0.148624568107138, 'gamma': 1.3824213084330177e-08, 'max_depth': 7, 'min_child_weight': 1.4633886519472674e-07, 'subsample': 0.6290851617789015, 'reg_lambda': 77.46182532637457, 'reg_alpha': 54.181304658106015}. Best is trial 55 with value: -2.175705342958003.\u001b[0m\n"
     ]
    },
    {
     "name": "stdout",
     "output_type": "stream",
     "text": [
      "[-2.30191332 -2.6097817  -2.71568999 -2.76396519 -3.55981413]\n"
     ]
    },
    {
     "name": "stderr",
     "output_type": "stream",
     "text": [
      "\u001b[32m[I 2021-05-08 10:01:52,808]\u001b[0m Trial 100 finished with value: -2.7530201462669135 and parameters: {'eta': 0.47945373000785363, 'gamma': 0.0003181886569423741, 'max_depth': 8, 'min_child_weight': 4.117692561181154e-08, 'subsample': 0.808850985506863, 'reg_lambda': 119.79699385417112, 'reg_alpha': 91.7447769478984}. Best is trial 55 with value: -2.175705342958003.\u001b[0m\n"
     ]
    },
    {
     "name": "stdout",
     "output_type": "stream",
     "text": [
      "[-2.40185666 -2.57474337 -2.61924048 -2.71124323 -3.45801699]\n"
     ]
    },
    {
     "name": "stderr",
     "output_type": "stream",
     "text": [
      "\u001b[32m[I 2021-05-08 10:01:53,369]\u001b[0m Trial 101 finished with value: -2.5387934275203277 and parameters: {'eta': 0.10870630316628938, 'gamma': 0.0021051261300995975, 'max_depth': 9, 'min_child_weight': 9.509825500941033e-08, 'subsample': 0.8437571904931392, 'reg_lambda': 36.98944704604013, 'reg_alpha': 20.523965456646877}. Best is trial 55 with value: -2.175705342958003.\u001b[0m\n"
     ]
    },
    {
     "name": "stdout",
     "output_type": "stream",
     "text": [
      "[-2.2004451  -2.38941139 -2.49002107 -2.42321071 -3.19087888]\n"
     ]
    },
    {
     "name": "stderr",
     "output_type": "stream",
     "text": [
      "\u001b[32m[I 2021-05-08 10:01:53,730]\u001b[0m Trial 102 finished with value: -5.7042977703000295 and parameters: {'eta': 0.018326130038666958, 'gamma': 0.0030535809469499162, 'max_depth': 9, 'min_child_weight': 1.8968373128489146e-08, 'subsample': 0.783992334840382, 'reg_lambda': 44.48218124529232, 'reg_alpha': 3.802560661473292}. Best is trial 55 with value: -2.175705342958003.\u001b[0m\n"
     ]
    },
    {
     "name": "stdout",
     "output_type": "stream",
     "text": [
      "[-5.00082643 -5.85250327 -5.84117942 -5.68918551 -6.13779422]\n"
     ]
    },
    {
     "name": "stderr",
     "output_type": "stream",
     "text": [
      "\u001b[32m[I 2021-05-08 10:01:54,134]\u001b[0m Trial 103 finished with value: -3.487542198716858 and parameters: {'eta': 0.0694538530980069, 'gamma': 0.0060203194559925845, 'max_depth': 6, 'min_child_weight': 1.0095559830192994e-07, 'subsample': 0.8284326916414584, 'reg_lambda': 204.90025872400662, 'reg_alpha': 46.25495162157965}. Best is trial 55 with value: -2.175705342958003.\u001b[0m\n"
     ]
    },
    {
     "name": "stdout",
     "output_type": "stream",
     "text": [
      "[-2.85862603 -3.34995653 -3.83327456 -3.54034548 -3.85550839]\n"
     ]
    },
    {
     "name": "stderr",
     "output_type": "stream",
     "text": [
      "\u001b[32m[I 2021-05-08 10:01:54,738]\u001b[0m Trial 104 finished with value: -2.646691236884506 and parameters: {'eta': 0.9804234542747191, 'gamma': 0.0013475902262930375, 'max_depth': 9, 'min_child_weight': 4.3689072797577394e-07, 'subsample': 0.9074501650677458, 'reg_lambda': 22.472073146204846, 'reg_alpha': 2.3376833218442266}. Best is trial 55 with value: -2.175705342958003.\u001b[0m\n"
     ]
    },
    {
     "name": "stdout",
     "output_type": "stream",
     "text": [
      "[-2.11574267 -2.34983062 -2.44053193 -2.93134045 -3.39601051]\n"
     ]
    },
    {
     "name": "stderr",
     "output_type": "stream",
     "text": [
      "\u001b[32m[I 2021-05-08 10:01:55,428]\u001b[0m Trial 105 finished with value: -2.480278186792209 and parameters: {'eta': 0.1037522899372213, 'gamma': 0.0004956131118563647, 'max_depth': 10, 'min_child_weight': 5.8539781887045685e-08, 'subsample': 0.9458261932223051, 'reg_lambda': 60.059488870404174, 'reg_alpha': 0.5525741572024647}. Best is trial 55 with value: -2.175705342958003.\u001b[0m\n"
     ]
    },
    {
     "name": "stdout",
     "output_type": "stream",
     "text": [
      "[-1.99347846 -2.24444572 -2.52071655 -2.35424379 -3.28850641]\n"
     ]
    },
    {
     "name": "stderr",
     "output_type": "stream",
     "text": [
      "\u001b[32m[I 2021-05-08 10:01:55,945]\u001b[0m Trial 106 finished with value: -2.5498645637241415 and parameters: {'eta': 0.25903649413350716, 'gamma': 0.0009839178795024168, 'max_depth': 7, 'min_child_weight': 2.8245832357414223e-07, 'subsample': 0.7465165720205067, 'reg_lambda': 135.19258782788552, 'reg_alpha': 27.605679949008934}. Best is trial 55 with value: -2.175705342958003.\u001b[0m\n"
     ]
    },
    {
     "name": "stdout",
     "output_type": "stream",
     "text": [
      "[-2.18575409 -2.29644808 -2.54628409 -2.47111481 -3.24972175]\n"
     ]
    },
    {
     "name": "stderr",
     "output_type": "stream",
     "text": [
      "\u001b[32m[I 2021-05-08 10:01:56,278]\u001b[0m Trial 107 finished with value: -11.13601898678144 and parameters: {'eta': 0.007075708204165121, 'gamma': 0.0002263465960219434, 'max_depth': 3, 'min_child_weight': 2.354442405896605e-08, 'subsample': 0.8056330515951793, 'reg_lambda': 1.6107570771041253, 'reg_alpha': 109.07367638395024}. Best is trial 55 with value: -2.175705342958003.\u001b[0m\n"
     ]
    },
    {
     "name": "stdout",
     "output_type": "stream",
     "text": [
      "[-10.44816388 -11.82432915 -10.7865271  -10.94579956 -11.67527524]\n"
     ]
    },
    {
     "name": "stderr",
     "output_type": "stream",
     "text": [
      "\u001b[32m[I 2021-05-08 10:01:56,775]\u001b[0m Trial 108 finished with value: -3.0914905966240687 and parameters: {'eta': 0.3760055614570521, 'gamma': 0.0001068765378576145, 'max_depth': 8, 'min_child_weight': 1.8294279349481673e-07, 'subsample': 0.8621036415580359, 'reg_lambda': 879.4715613702192, 'reg_alpha': 83.41789084901974}. Best is trial 55 with value: -2.175705342958003.\u001b[0m\n"
     ]
    },
    {
     "name": "stdout",
     "output_type": "stream",
     "text": [
      "[-2.50258167 -2.78683817 -3.35682133 -3.1482497  -3.66296211]\n"
     ]
    },
    {
     "name": "stderr",
     "output_type": "stream",
     "text": [
      "\u001b[32m[I 2021-05-08 10:01:57,207]\u001b[0m Trial 109 finished with value: -2.6685329548458996 and parameters: {'eta': 0.7308626875584339, 'gamma': 1.3020955761853987e-05, 'max_depth': 11, 'min_child_weight': 3.748911210981556e-08, 'subsample': 0.7652895023079948, 'reg_lambda': 105.53209595824814, 'reg_alpha': 51.44342797711597}. Best is trial 55 with value: -2.175705342958003.\u001b[0m\n"
     ]
    },
    {
     "name": "stdout",
     "output_type": "stream",
     "text": [
      "[-2.3873881  -2.57931449 -2.68121773 -2.52151779 -3.17322665]\n"
     ]
    },
    {
     "name": "stderr",
     "output_type": "stream",
     "text": [
      "\u001b[32m[I 2021-05-08 10:01:57,481]\u001b[0m Trial 110 finished with value: -5.418075858239774 and parameters: {'eta': 0.03234896768582938, 'gamma': 0.0007092050075065659, 'max_depth': 2, 'min_child_weight': 1.0487844558401416e-08, 'subsample': 0.7103746522787313, 'reg_lambda': 82.73078307287429, 'reg_alpha': 544.5493305882418}. Best is trial 55 with value: -2.175705342958003.\u001b[0m\n"
     ]
    },
    {
     "name": "stdout",
     "output_type": "stream",
     "text": [
      "[-4.62424768 -5.4574167  -5.52518893 -5.70146087 -5.78206511]\n"
     ]
    },
    {
     "name": "stderr",
     "output_type": "stream",
     "text": [
      "\u001b[32m[I 2021-05-08 10:01:58,060]\u001b[0m Trial 111 finished with value: -2.3914702840616675 and parameters: {'eta': 0.52453984279009, 'gamma': 0.0003599779723639855, 'max_depth': 9, 'min_child_weight': 8.673535525952479e-08, 'subsample': 0.7823273242905057, 'reg_lambda': 39.67654474743725, 'reg_alpha': 17.686652839839475}. Best is trial 55 with value: -2.175705342958003.\u001b[0m\n"
     ]
    },
    {
     "name": "stdout",
     "output_type": "stream",
     "text": [
      "[-1.94107212 -2.06597039 -2.38570291 -2.44386305 -3.12074295]\n"
     ]
    },
    {
     "name": "stderr",
     "output_type": "stream",
     "text": [
      "\u001b[32m[I 2021-05-08 10:01:58,644]\u001b[0m Trial 112 finished with value: -2.446426888112669 and parameters: {'eta': 0.18923939401642326, 'gamma': 0.0003980647624676431, 'max_depth': 9, 'min_child_weight': 7.157568125904368e-08, 'subsample': 0.7834581012373659, 'reg_lambda': 39.63959567721962, 'reg_alpha': 18.301789541556285}. Best is trial 55 with value: -2.175705342958003.\u001b[0m\n"
     ]
    },
    {
     "name": "stdout",
     "output_type": "stream",
     "text": [
      "[-2.16579515 -2.31337211 -2.30634025 -2.35083134 -3.09579559]\n"
     ]
    },
    {
     "name": "stderr",
     "output_type": "stream",
     "text": [
      "\u001b[32m[I 2021-05-08 10:01:59,034]\u001b[0m Trial 113 finished with value: -2.850983766167252 and parameters: {'eta': 0.4898249319678492, 'gamma': 0.0020987382365713517, 'max_depth': 10, 'min_child_weight': 9.812899307858182e-08, 'subsample': 0.8228474340227596, 'reg_lambda': 0.5810690350682225, 'reg_alpha': 45.214009981416716}. Best is trial 55 with value: -2.175705342958003.\u001b[0m\n"
     ]
    },
    {
     "name": "stdout",
     "output_type": "stream",
     "text": [
      "[-2.1777032  -2.99561061 -2.56239075 -3.04285404 -3.47636023]\n"
     ]
    },
    {
     "name": "stderr",
     "output_type": "stream",
     "text": [
      "\u001b[32m[I 2021-05-08 10:01:59,558]\u001b[0m Trial 114 finished with value: -2.29894240144447 and parameters: {'eta': 0.31300865454065285, 'gamma': 0.5801334348016359, 'max_depth': 6, 'min_child_weight': 4.696654473154192e-08, 'subsample': 0.7299077473900732, 'reg_lambda': 57.16322432433371, 'reg_alpha': 0.8825215763501575}. Best is trial 55 with value: -2.175705342958003.\u001b[0m\n"
     ]
    },
    {
     "name": "stdout",
     "output_type": "stream",
     "text": [
      "[-2.0807933  -2.01233656 -2.05413215 -2.56998647 -2.77746353]\n"
     ]
    },
    {
     "name": "stderr",
     "output_type": "stream",
     "text": [
      "\u001b[32m[I 2021-05-08 10:01:59,903]\u001b[0m Trial 115 finished with value: -2.9568382296856535 and parameters: {'eta': 0.994698380813476, 'gamma': 0.719609721605229, 'max_depth': 6, 'min_child_weight': 1.4323862030969601e-08, 'subsample': 0.6911600872394551, 'reg_lambda': 63.37843334775509, 'reg_alpha': 69.25511801743514}. Best is trial 55 with value: -2.175705342958003.\u001b[0m\n"
     ]
    },
    {
     "name": "stdout",
     "output_type": "stream",
     "text": [
      "[-2.453129   -2.86153498 -2.99241838 -2.81139192 -3.66571687]\n"
     ]
    },
    {
     "name": "stderr",
     "output_type": "stream",
     "text": [
      "\u001b[32m[I 2021-05-08 10:02:00,343]\u001b[0m Trial 116 finished with value: -2.4575549514794055 and parameters: {'eta': 0.3158793883900933, 'gamma': 0.16943700325123073, 'max_depth': 5, 'min_child_weight': 4.263216165164645e-08, 'subsample': 0.7411270206915119, 'reg_lambda': 15.888893219478348, 'reg_alpha': 21.669157273338236}. Best is trial 55 with value: -2.175705342958003.\u001b[0m\n"
     ]
    },
    {
     "name": "stdout",
     "output_type": "stream",
     "text": [
      "[-2.39079606 -2.30277725 -2.24876858 -2.458527   -2.88690586]\n"
     ]
    },
    {
     "name": "stderr",
     "output_type": "stream",
     "text": [
      "\u001b[32m[I 2021-05-08 10:02:00,696]\u001b[0m Trial 117 finished with value: -2.7603709518232464 and parameters: {'eta': 0.6686182328797947, 'gamma': 7.880997018368686e-05, 'max_depth': 6, 'min_child_weight': 2.2691296759132447e-08, 'subsample': 0.7297722041000543, 'reg_lambda': 151.74544828088275, 'reg_alpha': 81.83305574668654}. Best is trial 55 with value: -2.175705342958003.\u001b[0m\n"
     ]
    },
    {
     "name": "stdout",
     "output_type": "stream",
     "text": [
      "[-2.30191839 -2.52273116 -2.65154429 -2.96086369 -3.36479724]\n"
     ]
    },
    {
     "name": "stderr",
     "output_type": "stream",
     "text": [
      "\u001b[32m[I 2021-05-08 10:02:00,983]\u001b[0m Trial 118 finished with value: -20.902140977988275 and parameters: {'eta': 0.0003451677990795024, 'gamma': 0.06305357297179767, 'max_depth': 7, 'min_child_weight': 1.434880035423785e-07, 'subsample': 0.5853589290116977, 'reg_lambda': 121.63145260199494, 'reg_alpha': 0.8141227381526468}. Best is trial 55 with value: -2.175705342958003.\u001b[0m\n"
     ]
    },
    {
     "name": "stdout",
     "output_type": "stream",
     "text": [
      "[-19.8107316  -21.77861098 -20.31575683 -20.8816932  -21.72391228]\n"
     ]
    },
    {
     "name": "stderr",
     "output_type": "stream",
     "text": [
      "\u001b[32m[I 2021-05-08 10:02:01,511]\u001b[0m Trial 119 finished with value: -2.6154599199030137 and parameters: {'eta': 0.45882526735796875, 'gamma': 3.1012342770684355e-05, 'max_depth': 8, 'min_child_weight': 3.1976351382251494e-08, 'subsample': 0.7940648040495228, 'reg_lambda': 99.42774154612218, 'reg_alpha': 30.976602829902074}. Best is trial 55 with value: -2.175705342958003.\u001b[0m\n"
     ]
    },
    {
     "name": "stdout",
     "output_type": "stream",
     "text": [
      "[-2.17110468 -2.57640872 -2.43901999 -2.7084681  -3.18229811]\n"
     ]
    },
    {
     "name": "stderr",
     "output_type": "stream",
     "text": [
      "\u001b[32m[I 2021-05-08 10:02:01,993]\u001b[0m Trial 120 finished with value: -2.7622777282691295 and parameters: {'eta': 0.15204205153285594, 'gamma': 0.00018441493306920058, 'max_depth': 5, 'min_child_weight': 4.947033700155348e-08, 'subsample': 0.7626247126805568, 'reg_lambda': 76.13660871433677, 'reg_alpha': 56.294736474352966}. Best is trial 55 with value: -2.175705342958003.\u001b[0m\n"
     ]
    },
    {
     "name": "stdout",
     "output_type": "stream",
     "text": [
      "[-2.35199439 -2.62419922 -2.59884832 -2.63469977 -3.60164693]\n"
     ]
    },
    {
     "name": "stderr",
     "output_type": "stream",
     "text": [
      "\u001b[32m[I 2021-05-08 10:02:02,305]\u001b[0m Trial 121 finished with value: -4.531723454863936 and parameters: {'eta': 0.2515352147429561, 'gamma': 0.0008013118413184309, 'max_depth': 8, 'min_child_weight': 5.877776452023422e-08, 'subsample': 0.8498113553899956, 'reg_lambda': 50.232862566947446, 'reg_alpha': 901.6452149698341}. Best is trial 55 with value: -2.175705342958003.\u001b[0m\n"
     ]
    },
    {
     "name": "stdout",
     "output_type": "stream",
     "text": [
      "[-3.78722705 -4.49437471 -4.83277542 -4.89685467 -4.64738544]\n"
     ]
    },
    {
     "name": "stderr",
     "output_type": "stream",
     "text": [
      "\u001b[32m[I 2021-05-08 10:02:03,067]\u001b[0m Trial 122 finished with value: -2.3378473461881097 and parameters: {'eta': 0.08991640214210785, 'gamma': 0.0003099991259538368, 'max_depth': 9, 'min_child_weight': 1.1784091180062058e-07, 'subsample': 0.8041292989968063, 'reg_lambda': 26.838782256917803, 'reg_alpha': 1.7678083084105332}. Best is trial 55 with value: -2.175705342958003.\u001b[0m\n"
     ]
    },
    {
     "name": "stdout",
     "output_type": "stream",
     "text": [
      "[-1.98147427 -2.14450812 -2.26032521 -2.33156039 -2.97136874]\n"
     ]
    },
    {
     "name": "stderr",
     "output_type": "stream",
     "text": [
      "\u001b[32m[I 2021-05-08 10:02:03,638]\u001b[0m Trial 123 finished with value: -2.5663326938240614 and parameters: {'eta': 0.9855730692753742, 'gamma': 0.00013951016528488932, 'max_depth': 6, 'min_child_weight': 6.458418312147234e-07, 'subsample': 0.7739676837311226, 'reg_lambda': 23.05548192301629, 'reg_alpha': 16.941838951024767}. Best is trial 55 with value: -2.175705342958003.\u001b[0m\n"
     ]
    },
    {
     "name": "stdout",
     "output_type": "stream",
     "text": [
      "[-2.2750316  -2.62547239 -2.18058852 -2.61808581 -3.13248516]\n"
     ]
    },
    {
     "name": "stderr",
     "output_type": "stream",
     "text": [
      "\u001b[32m[I 2021-05-08 10:02:04,368]\u001b[0m Trial 124 finished with value: -2.465198192973196 and parameters: {'eta': 0.6411771859292744, 'gamma': 0.0003672874780454185, 'max_depth': 8, 'min_child_weight': 1.7192063343523813e-07, 'subsample': 0.8038633418472441, 'reg_lambda': 82.693760558994, 'reg_alpha': 1.9081032755514507}. Best is trial 55 with value: -2.175705342958003.\u001b[0m\n"
     ]
    },
    {
     "name": "stdout",
     "output_type": "stream",
     "text": [
      "[-2.20116484 -2.37567516 -2.24372062 -2.55548563 -2.94994472]\n"
     ]
    },
    {
     "name": "stderr",
     "output_type": "stream",
     "text": [
      "\u001b[32m[I 2021-05-08 10:02:04,762]\u001b[0m Trial 125 finished with value: -2.6177163698997026 and parameters: {'eta': 0.3316044261212478, 'gamma': 0.0002531884995671208, 'max_depth': 4, 'min_child_weight': 3.44155570886705e-07, 'subsample': 0.890438614757912, 'reg_lambda': 57.265691387795414, 'reg_alpha': 39.21119335469077}. Best is trial 55 with value: -2.175705342958003.\u001b[0m\n"
     ]
    },
    {
     "name": "stdout",
     "output_type": "stream",
     "text": [
      "[-2.22095374 -2.42664781 -2.52788641 -2.70535289 -3.20774099]\n"
     ]
    },
    {
     "name": "stderr",
     "output_type": "stream",
     "text": [
      "\u001b[32m[I 2021-05-08 10:02:04,998]\u001b[0m Trial 126 finished with value: -21.267695907084295 and parameters: {'eta': 6.531603840768285e-05, 'gamma': 4.945663559140059e-05, 'max_depth': 7, 'min_child_weight': 1.4619317602789784e-08, 'subsample': 0.6834543540901278, 'reg_lambda': 179.559271886276, 'reg_alpha': 19.935723220999105}. Best is trial 55 with value: -2.175705342958003.\u001b[0m\n"
     ]
    },
    {
     "name": "stdout",
     "output_type": "stream",
     "text": [
      "[-20.17754237 -22.14069421 -20.68268159 -21.24829882 -22.08926254]\n"
     ]
    },
    {
     "name": "stderr",
     "output_type": "stream",
     "text": [
      "\u001b[32m[I 2021-05-08 10:02:05,694]\u001b[0m Trial 127 finished with value: -2.2304783552840903 and parameters: {'eta': 0.18384114230511953, 'gamma': 8.279389983119892e-06, 'max_depth': 9, 'min_child_weight': 2.452611419814684e-07, 'subsample': 0.7130204159231712, 'reg_lambda': 1.6323113051376872, 'reg_alpha': 1.729308379625507}. Best is trial 55 with value: -2.175705342958003.\u001b[0m\n"
     ]
    },
    {
     "name": "stdout",
     "output_type": "stream",
     "text": [
      "[-1.88126981 -1.92886727 -2.21332034 -2.51631934 -2.61261502]\n"
     ]
    },
    {
     "name": "stderr",
     "output_type": "stream",
     "text": [
      "\u001b[32m[I 2021-05-08 10:02:06,118]\u001b[0m Trial 128 finished with value: -2.70681614863431 and parameters: {'eta': 0.04229538251358775, 'gamma': 2.0953885912148326e-06, 'max_depth': 10, 'min_child_weight': 2.78331789094326e-07, 'subsample': 0.6425218353744595, 'reg_lambda': 0.03692775213862798, 'reg_alpha': 57.34101837926039}. Best is trial 55 with value: -2.175705342958003.\u001b[0m\n"
     ]
    },
    {
     "name": "stdout",
     "output_type": "stream",
     "text": [
      "[-2.2108332  -2.70400444 -2.75460292 -2.71085334 -3.15378685]\n"
     ]
    },
    {
     "name": "stderr",
     "output_type": "stream",
     "text": [
      "\u001b[32m[I 2021-05-08 10:02:06,673]\u001b[0m Trial 129 finished with value: -2.5020632975837334 and parameters: {'eta': 0.06261686954939279, 'gamma': 6.529750072276051e-06, 'max_depth': 9, 'min_child_weight': 1.8099780601601988e-06, 'subsample': 0.7184040266437509, 'reg_lambda': 26.411670454781426, 'reg_alpha': 0.33320823971368113}. Best is trial 55 with value: -2.175705342958003.\u001b[0m\n"
     ]
    },
    {
     "name": "stdout",
     "output_type": "stream",
     "text": [
      "[-2.07979956 -2.31426926 -2.45878731 -2.43622313 -3.22123723]\n"
     ]
    },
    {
     "name": "stderr",
     "output_type": "stream",
     "text": [
      "\u001b[32m[I 2021-05-08 10:02:07,088]\u001b[0m Trial 130 finished with value: -2.9042692357434166 and parameters: {'eta': 0.19236727098218953, 'gamma': 1.5985758469010366e-05, 'max_depth': 19, 'min_child_weight': 1.1444895046310497e-07, 'subsample': 0.7436921077438142, 'reg_lambda': 42.3806513636452, 'reg_alpha': 107.07983720207768}. Best is trial 55 with value: -2.175705342958003.\u001b[0m\n"
     ]
    },
    {
     "name": "stdout",
     "output_type": "stream",
     "text": [
      "[-2.49487532 -2.66012443 -2.79585921 -2.87373013 -3.69675707]\n"
     ]
    },
    {
     "name": "stderr",
     "output_type": "stream",
     "text": [
      "\u001b[32m[I 2021-05-08 10:02:07,608]\u001b[0m Trial 131 finished with value: -2.604010975637554 and parameters: {'eta': 0.4473708379515502, 'gamma': 1.4947079761241407e-06, 'max_depth': 9, 'min_child_weight': 3.9105103612863334e-06, 'subsample': 0.702884675762466, 'reg_lambda': 113.02850663908677, 'reg_alpha': 36.41332854494677}. Best is trial 55 with value: -2.175705342958003.\u001b[0m\n"
     ]
    },
    {
     "name": "stdout",
     "output_type": "stream",
     "text": [
      "[-2.14717092 -2.2789681  -2.54542783 -2.75604182 -3.29244621]\n"
     ]
    },
    {
     "name": "stderr",
     "output_type": "stream",
     "text": [
      "\u001b[32m[I 2021-05-08 10:02:08,114]\u001b[0m Trial 132 finished with value: -2.5807141802458116 and parameters: {'eta': 0.12309541073756479, 'gamma': 8.799851828470894e-06, 'max_depth': 10, 'min_child_weight': 7.251965443192025e-08, 'subsample': 0.3905076710511104, 'reg_lambda': 20.589777893951062, 'reg_alpha': 21.2037304788451}. Best is trial 55 with value: -2.175705342958003.\u001b[0m\n"
     ]
    },
    {
     "name": "stdout",
     "output_type": "stream",
     "text": [
      "[-2.08576214 -2.46515362 -2.43374543 -2.68719358 -3.23171613]\n"
     ]
    },
    {
     "name": "stderr",
     "output_type": "stream",
     "text": [
      "\u001b[32m[I 2021-05-08 10:02:08,695]\u001b[0m Trial 133 finished with value: -2.8152777585983277 and parameters: {'eta': 0.2666164143094618, 'gamma': 3.979790239168756e-06, 'max_depth': 9, 'min_child_weight': 2.2432305357395474e-07, 'subsample': 0.75209738674742, 'reg_lambda': 486.9503854009441, 'reg_alpha': 0.4007040319299362}. Best is trial 55 with value: -2.175705342958003.\u001b[0m\n"
     ]
    },
    {
     "name": "stdout",
     "output_type": "stream",
     "text": [
      "[-2.27390155 -2.53689914 -2.92692054 -2.84260715 -3.49606042]\n"
     ]
    },
    {
     "name": "stderr",
     "output_type": "stream",
     "text": [
      "\u001b[32m[I 2021-05-08 10:02:09,415]\u001b[0m Trial 134 finished with value: -2.470670789477266 and parameters: {'eta': 0.9962678450601172, 'gamma': 1.3782122529079872e-07, 'max_depth': 8, 'min_child_weight': 2.955298920862374e-08, 'subsample': 0.9945201540496263, 'reg_lambda': 69.61932963825, 'reg_alpha': 0.6016433872123936}. Best is trial 55 with value: -2.175705342958003.\u001b[0m\n"
     ]
    },
    {
     "name": "stdout",
     "output_type": "stream",
     "text": [
      "[-2.33128209 -2.33005546 -2.30189058 -2.71060305 -2.67952277]\n"
     ]
    },
    {
     "name": "stderr",
     "output_type": "stream",
     "text": [
      "\u001b[32m[I 2021-05-08 10:02:09,778]\u001b[0m Trial 135 finished with value: -2.744322493806297 and parameters: {'eta': 0.5446960873061387, 'gamma': 7.20365517010939e-07, 'max_depth': 7, 'min_child_weight': 2.1704023239412037e-08, 'subsample': 0.7909347484671364, 'reg_lambda': 91.50202530236803, 'reg_alpha': 72.54907845257884}. Best is trial 55 with value: -2.175705342958003.\u001b[0m\n"
     ]
    },
    {
     "name": "stdout",
     "output_type": "stream",
     "text": [
      "[-2.2322657  -2.68654753 -2.77116554 -2.67630532 -3.35532837]\n"
     ]
    },
    {
     "name": "stderr",
     "output_type": "stream",
     "text": [
      "\u001b[32m[I 2021-05-08 10:02:10,312]\u001b[0m Trial 136 finished with value: -3.1441124156080646 and parameters: {'eta': 0.08284407712901602, 'gamma': 2.1733210039842246e-05, 'max_depth': 8, 'min_child_weight': 5.041046063092749e-07, 'subsample': 0.7291377985796491, 'reg_lambda': 133.54462110296345, 'reg_alpha': 40.757421945604555}. Best is trial 55 with value: -2.175705342958003.\u001b[0m\n"
     ]
    },
    {
     "name": "stdout",
     "output_type": "stream",
     "text": [
      "[-2.55660158 -2.88921639 -3.41465291 -3.08774325 -3.77234795]\n"
     ]
    },
    {
     "name": "stderr",
     "output_type": "stream",
     "text": [
      "\u001b[32m[I 2021-05-08 10:02:10,905]\u001b[0m Trial 137 finished with value: -2.640656729068285 and parameters: {'eta': 0.71507567168589, 'gamma': 7.250495253086848e-05, 'max_depth': 11, 'min_child_weight': 1.4152880254663697e-07, 'subsample': 0.8193664804121545, 'reg_lambda': 54.01965170424132, 'reg_alpha': 19.480518483267364}. Best is trial 55 with value: -2.175705342958003.\u001b[0m\n"
     ]
    },
    {
     "name": "stdout",
     "output_type": "stream",
     "text": [
      "[-2.5501522  -2.27390139 -2.43265053 -2.88132943 -3.0652501 ]\n"
     ]
    },
    {
     "name": "stderr",
     "output_type": "stream",
     "text": [
      "\u001b[32m[I 2021-05-08 10:02:11,357]\u001b[0m Trial 138 finished with value: -2.6328507056530612 and parameters: {'eta': 0.15457396490055325, 'gamma': 0.0006351879165963896, 'max_depth': 7, 'min_child_weight': 4.606193707292207e-08, 'subsample': 0.8760214006319386, 'reg_lambda': 6.344619768677063, 'reg_alpha': 53.00871574419752}. Best is trial 55 with value: -2.175705342958003.\u001b[0m\n"
     ]
    },
    {
     "name": "stdout",
     "output_type": "stream",
     "text": [
      "[-2.0607362  -2.60142544 -2.57525468 -2.59048942 -3.33634779]\n"
     ]
    },
    {
     "name": "stderr",
     "output_type": "stream",
     "text": [
      "\u001b[32m[I 2021-05-08 10:02:12,352]\u001b[0m Trial 139 finished with value: -2.333557540640419 and parameters: {'eta': 0.35652277959193135, 'gamma': 2.679648892154059e-07, 'max_depth': 5, 'min_child_weight': 8.509834404102021e-08, 'subsample': 0.665295908406173, 'reg_lambda': 71.90158158736767, 'reg_alpha': 2.4531690066445866}. Best is trial 55 with value: -2.175705342958003.\u001b[0m\n"
     ]
    },
    {
     "name": "stdout",
     "output_type": "stream",
     "text": [
      "[-2.0770865  -2.06105082 -2.05512152 -2.44409544 -3.03043342]\n"
     ]
    },
    {
     "name": "stderr",
     "output_type": "stream",
     "text": [
      "\u001b[32m[I 2021-05-08 10:02:12,814]\u001b[0m Trial 140 finished with value: -2.3392164394826063 and parameters: {'eta': 0.3491421602086295, 'gamma': 2.5992774343784715e-07, 'max_depth': 4, 'min_child_weight': 7.935436686068961e-08, 'subsample': 0.6113102769231644, 'reg_lambda': 0.8620213832105157, 'reg_alpha': 0.8268817978919927}. Best is trial 55 with value: -2.175705342958003.\u001b[0m\n"
     ]
    },
    {
     "name": "stdout",
     "output_type": "stream",
     "text": [
      "[-2.08264386 -2.11965296 -2.11654259 -2.68847175 -2.68877104]\n"
     ]
    },
    {
     "name": "stderr",
     "output_type": "stream",
     "text": [
      "\u001b[32m[I 2021-05-08 10:02:13,218]\u001b[0m Trial 141 finished with value: -2.2483175893241976 and parameters: {'eta': 0.22888432033817604, 'gamma': 2.4900334323466574e-07, 'max_depth': 4, 'min_child_weight': 8.15851583400009e-08, 'subsample': 0.6094057480334673, 'reg_lambda': 1.5755897712077431, 'reg_alpha': 17.655206230378607}. Best is trial 55 with value: -2.175705342958003.\u001b[0m\n"
     ]
    },
    {
     "name": "stdout",
     "output_type": "stream",
     "text": [
      "[-1.58548693 -2.03797596 -2.35710814 -2.46882442 -2.7921925 ]\n"
     ]
    },
    {
     "name": "stderr",
     "output_type": "stream",
     "text": [
      "\u001b[32m[I 2021-05-08 10:02:13,640]\u001b[0m Trial 142 finished with value: -2.4444922066971104 and parameters: {'eta': 0.23252195641354945, 'gamma': 4.069177300153887e-07, 'max_depth': 4, 'min_child_weight': 7.173179042387267e-08, 'subsample': 0.5322260568406131, 'reg_lambda': 34.00758013975009, 'reg_alpha': 2.2173351955950285}. Best is trial 55 with value: -2.175705342958003.\u001b[0m\n"
     ]
    },
    {
     "name": "stdout",
     "output_type": "stream",
     "text": [
      "[-2.03083385 -2.24355083 -2.18713814 -2.63571529 -3.12522292]\n"
     ]
    },
    {
     "name": "stderr",
     "output_type": "stream",
     "text": [
      "\u001b[32m[I 2021-05-08 10:02:13,964]\u001b[0m Trial 143 finished with value: -2.525339107413351 and parameters: {'eta': 0.3273477623511412, 'gamma': 3.649581962282173e-07, 'max_depth': 3, 'min_child_weight': 1.0568131689502393e-07, 'subsample': 0.5908518441494709, 'reg_lambda': 0.7720685688690023, 'reg_alpha': 32.186026958828215}. Best is trial 55 with value: -2.175705342958003.\u001b[0m\n"
     ]
    },
    {
     "name": "stdout",
     "output_type": "stream",
     "text": [
      "[-2.1106764  -2.33345506 -2.55211337 -2.67404616 -2.95640455]\n"
     ]
    },
    {
     "name": "stderr",
     "output_type": "stream",
     "text": [
      "\u001b[32m[I 2021-05-08 10:02:14,371]\u001b[0m Trial 144 finished with value: -2.300768772119357 and parameters: {'eta': 0.13478706533756862, 'gamma': 2.921040212463013e-07, 'max_depth': 4, 'min_child_weight': 3.20411267702552e-08, 'subsample': 0.6663229873567332, 'reg_lambda': 20.865797888937625, 'reg_alpha': 2.39303083633878}. Best is trial 55 with value: -2.175705342958003.\u001b[0m\n"
     ]
    },
    {
     "name": "stdout",
     "output_type": "stream",
     "text": [
      "[-2.00948743 -2.01670053 -2.18504997 -2.39761407 -2.89499185]\n"
     ]
    },
    {
     "name": "stderr",
     "output_type": "stream",
     "text": [
      "\u001b[32m[I 2021-05-08 10:02:14,733]\u001b[0m Trial 145 finished with value: -2.6682664411332873 and parameters: {'eta': 0.08962835798619699, 'gamma': 2.343284560169237e-07, 'max_depth': 4, 'min_child_weight': 8.077162063063257e-08, 'subsample': 0.5546931139141569, 'reg_lambda': 1.8178116655784606, 'reg_alpha': 74.76480415661396}. Best is trial 55 with value: -2.175705342958003.\u001b[0m\n"
     ]
    },
    {
     "name": "stdout",
     "output_type": "stream",
     "text": [
      "[-2.15673673 -2.54879376 -2.70227825 -2.60951102 -3.32401244]\n"
     ]
    },
    {
     "name": "stderr",
     "output_type": "stream",
     "text": [
      "\u001b[32m[I 2021-05-08 10:02:15,090]\u001b[0m Trial 146 finished with value: -3.4205641597936185 and parameters: {'eta': 0.13616974802972043, 'gamma': 2.2623785863867637e-07, 'max_depth': 3, 'min_child_weight': 3.099306430722319e-08, 'subsample': 0.6203495309197442, 'reg_lambda': 404.63266251583343, 'reg_alpha': 1.690388607628398}. Best is trial 55 with value: -2.175705342958003.\u001b[0m\n"
     ]
    },
    {
     "name": "stdout",
     "output_type": "stream",
     "text": [
      "[-2.80186212 -3.23407407 -3.75072654 -3.48196256 -3.83419551]\n"
     ]
    },
    {
     "name": "stderr",
     "output_type": "stream",
     "text": [
      "\u001b[32m[I 2021-05-08 10:02:15,498]\u001b[0m Trial 147 finished with value: -2.5676291029188367 and parameters: {'eta': 0.19836463157786047, 'gamma': 1.5258514623443817e-07, 'max_depth': 4, 'min_child_weight': 5.637944669783525e-08, 'subsample': 0.6577436448877759, 'reg_lambda': 27.425559345673825, 'reg_alpha': 36.39564429183039}. Best is trial 55 with value: -2.175705342958003.\u001b[0m\n"
     ]
    },
    {
     "name": "stdout",
     "output_type": "stream",
     "text": [
      "[-2.03173103 -2.43968524 -2.53876111 -2.64405704 -3.18391109]\n"
     ]
    },
    {
     "name": "stderr",
     "output_type": "stream",
     "text": [
      "\u001b[32m[I 2021-05-08 10:02:15,932]\u001b[0m Trial 148 finished with value: -2.8862683926452823 and parameters: {'eta': 0.062236068213115586, 'gamma': 5.661965550935234e-07, 'max_depth': 5, 'min_child_weight': 1.0322948986495305e-08, 'subsample': 0.6071652280683888, 'reg_lambda': 60.46147729566016, 'reg_alpha': 0.44241560711981853}. Best is trial 55 with value: -2.175705342958003.\u001b[0m\n"
     ]
    },
    {
     "name": "stdout",
     "output_type": "stream",
     "text": [
      "[-2.42105348 -2.69379008 -3.04350066 -2.76355583 -3.50944191]\n"
     ]
    },
    {
     "name": "stderr",
     "output_type": "stream",
     "text": [
      "\u001b[32m[I 2021-05-08 10:02:16,293]\u001b[0m Trial 149 finished with value: -2.721818523000788 and parameters: {'eta': 0.1307265207092195, 'gamma': 1.073106516185758e-07, 'max_depth': 5, 'min_child_weight': 1.8304310140553272e-07, 'subsample': 0.4697771436886799, 'reg_lambda': 18.632872987303088, 'reg_alpha': 54.25140569074147}. Best is trial 55 with value: -2.175705342958003.\u001b[0m\n"
     ]
    },
    {
     "name": "stdout",
     "output_type": "stream",
     "text": [
      "[-2.2369852  -2.48478214 -2.6475148  -2.68368424 -3.55612624]\n"
     ]
    },
    {
     "name": "stderr",
     "output_type": "stream",
     "text": [
      "\u001b[32m[I 2021-05-08 10:02:16,604]\u001b[0m Trial 150 finished with value: -3.2017846519682145 and parameters: {'eta': 0.024316026068005803, 'gamma': 6.284207437322551e-08, 'max_depth': 2, 'min_child_weight': 1.871934071629509e-08, 'subsample': 0.6693981495344401, 'reg_lambda': 1.4775362071234315, 'reg_alpha': 19.779975797802884}. Best is trial 55 with value: -2.175705342958003.\u001b[0m\n"
     ]
    },
    {
     "name": "stdout",
     "output_type": "stream",
     "text": [
      "[-2.73389183 -3.16170925 -3.41085294 -3.11758173 -3.58488751]\n"
     ]
    },
    {
     "name": "stderr",
     "output_type": "stream",
     "text": [
      "\u001b[32m[I 2021-05-08 10:02:17,105]\u001b[0m Trial 151 finished with value: -2.4024640203758523 and parameters: {'eta': 0.3843103590815499, 'gamma': 8.518790532610033e-07, 'max_depth': 5, 'min_child_weight': 3.926919102155377e-08, 'subsample': 0.6332908337835781, 'reg_lambda': 45.29219683373914, 'reg_alpha': 0.4963162954111193}. Best is trial 55 with value: -2.175705342958003.\u001b[0m\n"
     ]
    },
    {
     "name": "stdout",
     "output_type": "stream",
     "text": [
      "[-2.08753661 -2.29075052 -2.17086818 -2.60871608 -2.85444871]\n"
     ]
    },
    {
     "name": "stderr",
     "output_type": "stream",
     "text": [
      "\u001b[32m[I 2021-05-08 10:02:17,564]\u001b[0m Trial 152 finished with value: -2.3833030158914164 and parameters: {'eta': 0.3760315134846074, 'gamma': 1.9217413274457874e-07, 'max_depth': 5, 'min_child_weight': 4.933011592966131e-08, 'subsample': 0.6365028988289472, 'reg_lambda': 45.68872781023889, 'reg_alpha': 0.588384986940298}. Best is trial 55 with value: -2.175705342958003.\u001b[0m\n"
     ]
    },
    {
     "name": "stdout",
     "output_type": "stream",
     "text": [
      "[-1.96701348 -2.20516898 -2.14688646 -2.70480886 -2.89263729]\n"
     ]
    },
    {
     "name": "stderr",
     "output_type": "stream",
     "text": [
      "\u001b[32m[I 2021-05-08 10:02:18,009]\u001b[0m Trial 153 finished with value: -2.389693759506131 and parameters: {'eta': 0.41534753583499157, 'gamma': 1.038363953051136e-06, 'max_depth': 4, 'min_child_weight': 2.991671293216337e-08, 'subsample': 0.6343228180649736, 'reg_lambda': 41.56072269805825, 'reg_alpha': 21.551815336075038}. Best is trial 55 with value: -2.175705342958003.\u001b[0m\n"
     ]
    },
    {
     "name": "stdout",
     "output_type": "stream",
     "text": [
      "[-1.96674198 -2.09248529 -2.25880278 -2.53726901 -3.09316973]\n"
     ]
    },
    {
     "name": "stderr",
     "output_type": "stream",
     "text": [
      "\u001b[32m[I 2021-05-08 10:02:18,381]\u001b[0m Trial 154 finished with value: -2.442387853669531 and parameters: {'eta': 0.23319852843009736, 'gamma': 5.316737437522456e-07, 'max_depth': 3, 'min_child_weight': 2.399898611830441e-08, 'subsample': 0.6014655538713152, 'reg_lambda': 35.19454571279921, 'reg_alpha': 25.020293473451197}. Best is trial 55 with value: -2.175705342958003.\u001b[0m\n"
     ]
    },
    {
     "name": "stdout",
     "output_type": "stream",
     "text": [
      "[-2.04410023 -2.23798222 -2.38099995 -2.59940165 -2.94945521]\n"
     ]
    },
    {
     "name": "stderr",
     "output_type": "stream",
     "text": [
      "\u001b[32m[I 2021-05-08 10:02:18,777]\u001b[0m Trial 155 finished with value: -2.6985713600818024 and parameters: {'eta': 0.40885196917414596, 'gamma': 2.523367277796491e-07, 'max_depth': 4, 'min_child_weight': 5.175118344597668e-08, 'subsample': 0.6483816134658243, 'reg_lambda': 74.8813705414399, 'reg_alpha': 44.69737569710736}. Best is trial 55 with value: -2.175705342958003.\u001b[0m\n"
     ]
    },
    {
     "name": "stdout",
     "output_type": "stream",
     "text": [
      "[-2.24370236 -2.5532149  -2.63542988 -2.68099728 -3.37951237]\n"
     ]
    },
    {
     "name": "stderr",
     "output_type": "stream",
     "text": [
      "\u001b[32m[I 2021-05-08 10:02:19,177]\u001b[0m Trial 156 finished with value: -2.2778580460018585 and parameters: {'eta': 0.18870138576941753, 'gamma': 1.7339909854213369e-07, 'max_depth': 4, 'min_child_weight': 1.4870736969534002e-08, 'subsample': 0.5605105245675792, 'reg_lambda': 1.0835258849060931, 'reg_alpha': 17.32752555800654}. Best is trial 55 with value: -2.175705342958003.\u001b[0m\n"
     ]
    },
    {
     "name": "stdout",
     "output_type": "stream",
     "text": [
      "[-1.79872305 -2.0074428  -2.30344121 -2.52174854 -2.75793464]\n"
     ]
    },
    {
     "name": "stderr",
     "output_type": "stream",
     "text": [
      "\u001b[32m[I 2021-05-08 10:02:19,492]\u001b[0m Trial 157 finished with value: -2.676066608982322 and parameters: {'eta': 0.17460162107324398, 'gamma': 1.2028782458438391e-06, 'max_depth': 4, 'min_child_weight': 1.5032635122982036e-08, 'subsample': 0.6251228889366313, 'reg_lambda': 0.29505252766458767, 'reg_alpha': 84.9067342004924}. Best is trial 55 with value: -2.175705342958003.\u001b[0m\n"
     ]
    },
    {
     "name": "stdout",
     "output_type": "stream",
     "text": [
      "[-2.13484782 -2.61279433 -2.65216204 -2.64582641 -3.33470243]\n"
     ]
    },
    {
     "name": "stderr",
     "output_type": "stream",
     "text": [
      "\u001b[32m[I 2021-05-08 10:02:19,857]\u001b[0m Trial 158 finished with value: -2.746957405655472 and parameters: {'eta': 0.08384198250714676, 'gamma': 7.194390307358618e-08, 'max_depth': 5, 'min_child_weight': 3.06431931997824e-08, 'subsample': 0.5629440411234015, 'reg_lambda': 20.010889618375277, 'reg_alpha': 63.64024415152514}. Best is trial 55 with value: -2.175705342958003.\u001b[0m\n"
     ]
    },
    {
     "name": "stdout",
     "output_type": "stream",
     "text": [
      "[-2.29315203 -2.52837821 -2.78359267 -2.77865877 -3.35100534]\n"
     ]
    },
    {
     "name": "stderr",
     "output_type": "stream",
     "text": [
      "\u001b[32m[I 2021-05-08 10:02:20,250]\u001b[0m Trial 159 finished with value: -2.2991636460445544 and parameters: {'eta': 0.2948675301126087, 'gamma': 1.5207577132554987e-07, 'max_depth': 4, 'min_child_weight': 7.801347317732785e-08, 'subsample': 0.6472427807120159, 'reg_lambda': 0.6724424987560805, 'reg_alpha': 19.608062508052974}. Best is trial 55 with value: -2.175705342958003.\u001b[0m\n"
     ]
    },
    {
     "name": "stdout",
     "output_type": "stream",
     "text": [
      "[-1.79802945 -2.11047408 -2.44590062 -2.38144645 -2.75996763]\n"
     ]
    },
    {
     "name": "stderr",
     "output_type": "stream",
     "text": [
      "\u001b[32m[I 2021-05-08 10:02:20,681]\u001b[0m Trial 160 finished with value: -2.7922460223362773 and parameters: {'eta': 0.04350532046191321, 'gamma': 1.339441408117463e-07, 'max_depth': 4, 'min_child_weight': 6.712995533832938e-08, 'subsample': 0.680277407918497, 'reg_lambda': 13.191063976162333, 'reg_alpha': 36.14173578726772}. Best is trial 55 with value: -2.175705342958003.\u001b[0m\n"
     ]
    },
    {
     "name": "stdout",
     "output_type": "stream",
     "text": [
      "[-2.25016608 -2.64667911 -2.93386064 -2.74416509 -3.38635919]\n"
     ]
    },
    {
     "name": "stderr",
     "output_type": "stream",
     "text": [
      "\u001b[32m[I 2021-05-08 10:02:21,136]\u001b[0m Trial 161 finished with value: -2.442586143758562 and parameters: {'eta': 0.3208714963890428, 'gamma': 4.468959801233543e-08, 'max_depth': 5, 'min_child_weight': 1.0032434600440574e-07, 'subsample': 0.5459861175802261, 'reg_lambda': 40.94535730657487, 'reg_alpha': 18.848179425492727}. Best is trial 55 with value: -2.175705342958003.\u001b[0m\n"
     ]
    },
    {
     "name": "stdout",
     "output_type": "stream",
     "text": [
      "[-2.01783371 -2.2204423  -2.22236593 -2.5972623  -3.15502649]\n"
     ]
    },
    {
     "name": "stderr",
     "output_type": "stream",
     "text": [
      "\u001b[32m[I 2021-05-08 10:02:21,449]\u001b[0m Trial 162 finished with value: -3.8382452194366925 and parameters: {'eta': 0.19725073920158626, 'gamma': 1.8268048646086645e-07, 'max_depth': 4, 'min_child_weight': 5.2150663197618177e-08, 'subsample': 0.6607379717479691, 'reg_lambda': 60.322586803788326, 'reg_alpha': 452.034390112119}. Best is trial 55 with value: -2.175705342958003.\u001b[0m\n"
     ]
    },
    {
     "name": "stdout",
     "output_type": "stream",
     "text": [
      "[-3.1456212  -3.69935127 -4.19228704 -4.03360184 -4.12036474]\n"
     ]
    },
    {
     "name": "stderr",
     "output_type": "stream",
     "text": [
      "\u001b[32m[I 2021-05-08 10:02:21,826]\u001b[0m Trial 163 finished with value: -2.3135230803842894 and parameters: {'eta': 0.2658862025235668, 'gamma': 3.780986302186511e-07, 'max_depth': 3, 'min_child_weight': 1.2572545328711788e-07, 'subsample': 0.6037564072054326, 'reg_lambda': 23.892031278312615, 'reg_alpha': 1.1527931964226052}. Best is trial 55 with value: -2.175705342958003.\u001b[0m\n"
     ]
    },
    {
     "name": "stdout",
     "output_type": "stream",
     "text": [
      "[-1.88653452 -2.16507797 -2.14166902 -2.63165802 -2.74267588]\n"
     ]
    },
    {
     "name": "stderr",
     "output_type": "stream",
     "text": [
      "\u001b[32m[I 2021-05-08 10:02:22,195]\u001b[0m Trial 164 finished with value: -2.171234936637643 and parameters: {'eta': 0.10992574869633359, 'gamma': 3.628358295966498e-07, 'max_depth': 3, 'min_child_weight': 3.835823732976316e-08, 'subsample': 0.5790428071301176, 'reg_lambda': 0.4270242271064981, 'reg_alpha': 0.3211487991496931}. Best is trial 164 with value: -2.171234936637643.\u001b[0m\n"
     ]
    },
    {
     "name": "stdout",
     "output_type": "stream",
     "text": [
      "[-1.77934123 -1.88553851 -2.27307803 -2.63139517 -2.28682174]\n"
     ]
    },
    {
     "name": "stderr",
     "output_type": "stream",
     "text": [
      "\u001b[32m[I 2021-05-08 10:02:22,542]\u001b[0m Trial 165 finished with value: -2.19713678311713 and parameters: {'eta': 0.1418220669038538, 'gamma': 3.075060959227478e-07, 'max_depth': 3, 'min_child_weight': 1.3060971889381448e-07, 'subsample': 0.5824631574737195, 'reg_lambda': 0.595220363211304, 'reg_alpha': 4.749592189189875}. Best is trial 164 with value: -2.171234936637643.\u001b[0m\n"
     ]
    },
    {
     "name": "stdout",
     "output_type": "stream",
     "text": [
      "[-1.7116651  -1.95635988 -2.11411021 -2.53504115 -2.66850757]\n"
     ]
    },
    {
     "name": "stderr",
     "output_type": "stream",
     "text": [
      "\u001b[32m[I 2021-05-08 10:02:22,901]\u001b[0m Trial 166 finished with value: -2.5476553147280656 and parameters: {'eta': 0.11266608509427434, 'gamma': 3.20003192194932e-07, 'max_depth': 3, 'min_child_weight': 1.3925320982609697e-07, 'subsample': 0.5157726393063072, 'reg_lambda': 2.8039984054502014, 'reg_alpha': 44.529421878586554}. Best is trial 164 with value: -2.171234936637643.\u001b[0m\n"
     ]
    },
    {
     "name": "stdout",
     "output_type": "stream",
     "text": [
      "[-2.01462596 -2.41075357 -2.54191051 -2.59347025 -3.17751628]\n"
     ]
    },
    {
     "name": "stderr",
     "output_type": "stream",
     "text": [
      "\u001b[32m[I 2021-05-08 10:02:23,200]\u001b[0m Trial 167 finished with value: -3.5782484777945056 and parameters: {'eta': 0.0895172889214318, 'gamma': 3.193251438970955e-07, 'max_depth': 2, 'min_child_weight': 2.0312359564952239e-07, 'subsample': 0.5815260463143452, 'reg_lambda': 16.53111799456701, 'reg_alpha': 327.2739869092983}. Best is trial 164 with value: -2.171234936637643.\u001b[0m\n"
     ]
    },
    {
     "name": "stdout",
     "output_type": "stream",
     "text": [
      "[-2.94838663 -3.41775428 -3.92068246 -3.71974932 -3.8846697 ]\n"
     ]
    },
    {
     "name": "stderr",
     "output_type": "stream",
     "text": [
      "\u001b[32m[I 2021-05-08 10:02:23,529]\u001b[0m Trial 168 finished with value: -2.2961145803840073 and parameters: {'eta': 0.06934964950401963, 'gamma': 1.005379621236219e-07, 'max_depth': 3, 'min_child_weight': 4.5992960665799985e-08, 'subsample': 0.6090444618206583, 'reg_lambda': 1.951658601519977, 'reg_alpha': 0.38995368588948276}. Best is trial 164 with value: -2.171234936637643.\u001b[0m\n"
     ]
    },
    {
     "name": "stdout",
     "output_type": "stream",
     "text": [
      "[-1.90286736 -1.93289365 -2.503012   -2.57369065 -2.56810923]\n"
     ]
    },
    {
     "name": "stderr",
     "output_type": "stream",
     "text": [
      "\u001b[32m[I 2021-05-08 10:02:23,890]\u001b[0m Trial 169 finished with value: -2.3238003937638836 and parameters: {'eta': 0.061340237888613404, 'gamma': 1.1139503679866895e-07, 'max_depth': 3, 'min_child_weight': 2.1360724734045287e-08, 'subsample': 0.6027902205972117, 'reg_lambda': 3.081834439251714, 'reg_alpha': 1.9723405408655006}. Best is trial 164 with value: -2.171234936637643.\u001b[0m\n"
     ]
    },
    {
     "name": "stdout",
     "output_type": "stream",
     "text": [
      "[-1.81025352 -2.04443246 -2.34130928 -2.6353508  -2.78765591]\n"
     ]
    },
    {
     "name": "stderr",
     "output_type": "stream",
     "text": [
      "\u001b[32m[I 2021-05-08 10:02:24,179]\u001b[0m Trial 170 finished with value: -11.65601237832764 and parameters: {'eta': 0.03847816735185909, 'gamma': 9.725605411746111e-08, 'max_depth': 3, 'min_child_weight': 1.0158812477926169e-08, 'subsample': 0.6059209512165645, 'reg_lambda': 981.8423920818993, 'reg_alpha': 58.57820775326692}. Best is trial 164 with value: -2.171234936637643.\u001b[0m\n"
     ]
    },
    {
     "name": "stdout",
     "output_type": "stream",
     "text": [
      "[-10.37181754 -12.54824552 -11.31011136 -11.75314758 -12.29673989]\n"
     ]
    },
    {
     "name": "stderr",
     "output_type": "stream",
     "text": [
      "\u001b[32m[I 2021-05-08 10:02:24,475]\u001b[0m Trial 171 finished with value: -2.427694425653528 and parameters: {'eta': 0.06124474161174616, 'gamma': 1.2996674410853656e-07, 'max_depth': 2, 'min_child_weight': 3.762318031035611e-08, 'subsample': 0.5681285169911228, 'reg_lambda': 2.6109889212984854, 'reg_alpha': 0.7504584041753812}. Best is trial 164 with value: -2.171234936637643.\u001b[0m\n"
     ]
    },
    {
     "name": "stdout",
     "output_type": "stream",
     "text": [
      "[-1.9733965  -2.13857017 -2.55943787 -2.74486625 -2.72220133]\n"
     ]
    },
    {
     "name": "stderr",
     "output_type": "stream",
     "text": [
      "\u001b[32m[I 2021-05-08 10:02:24,859]\u001b[0m Trial 172 finished with value: -2.4290316583021188 and parameters: {'eta': 0.12685678695543015, 'gamma': 3.521885487865479e-08, 'max_depth': 3, 'min_child_weight': 1.938106927865966e-08, 'subsample': 0.5953943577607901, 'reg_lambda': 18.12791566178281, 'reg_alpha': 20.314622417204273}. Best is trial 164 with value: -2.171234936637643.\u001b[0m\n"
     ]
    },
    {
     "name": "stdout",
     "output_type": "stream",
     "text": [
      "[-1.96740784 -2.16000976 -2.44323586 -2.52084085 -3.05366397]\n"
     ]
    },
    {
     "name": "stderr",
     "output_type": "stream",
     "text": [
      "\u001b[32m[I 2021-05-08 10:02:25,243]\u001b[0m Trial 173 finished with value: -2.333195049427174 and parameters: {'eta': 0.07142008208621786, 'gamma': 4.618224992023287e-07, 'max_depth': 3, 'min_child_weight': 1.3578200729225238e-08, 'subsample': 0.5363070303284169, 'reg_lambda': 4.779378785103045, 'reg_alpha': 0.09575928028535718}. Best is trial 164 with value: -2.171234936637643.\u001b[0m\n"
     ]
    },
    {
     "name": "stdout",
     "output_type": "stream",
     "text": [
      "[-1.93460576 -2.0893835  -2.30626971 -2.58220942 -2.75350687]\n"
     ]
    },
    {
     "name": "stderr",
     "output_type": "stream",
     "text": [
      "\u001b[32m[I 2021-05-08 10:02:25,467]\u001b[0m Trial 174 finished with value: -3.395173302403203 and parameters: {'eta': 0.02890362290137222, 'gamma': 4.5556059072883014e-07, 'max_depth': 1, 'min_child_weight': 1.218367261328251e-07, 'subsample': 0.5322050382034745, 'reg_lambda': 5.848342014785133, 'reg_alpha': 2.8437047103484234}. Best is trial 164 with value: -2.171234936637643.\u001b[0m\n"
     ]
    },
    {
     "name": "stdout",
     "output_type": "stream",
     "text": [
      "[-3.10408335 -3.3931118  -3.79973676 -3.30027792 -3.37865667]\n"
     ]
    },
    {
     "name": "stderr",
     "output_type": "stream",
     "text": [
      "\u001b[32m[I 2021-05-08 10:02:25,858]\u001b[0m Trial 175 finished with value: -2.5072891617645454 and parameters: {'eta': 0.0505966058590573, 'gamma': 1.979527619577206e-07, 'max_depth': 3, 'min_child_weight': 1.4564109590639509e-08, 'subsample': 0.5044928283125482, 'reg_lambda': 0.686555755028295, 'reg_alpha': 36.005553852697545}. Best is trial 164 with value: -2.171234936637643.\u001b[0m\n"
     ]
    },
    {
     "name": "stdout",
     "output_type": "stream",
     "text": [
      "[-1.98612431 -2.30518179 -2.62011781 -2.48907846 -3.13594345]\n"
     ]
    },
    {
     "name": "stderr",
     "output_type": "stream",
     "text": [
      "\u001b[32m[I 2021-05-08 10:02:26,154]\u001b[0m Trial 176 finished with value: -9.276624053045555 and parameters: {'eta': 0.01020258144766223, 'gamma': 7.01385672616423e-07, 'max_depth': 2, 'min_child_weight': 7.444176782753564e-08, 'subsample': 0.5499141900539419, 'reg_lambda': 22.392483963855817, 'reg_alpha': 2.183392635620339}. Best is trial 164 with value: -2.171234936637643.\u001b[0m\n"
     ]
    },
    {
     "name": "stdout",
     "output_type": "stream",
     "text": [
      "[-8.50814057 -9.79321942 -8.99170603 -9.29047145 -9.7995828 ]\n"
     ]
    },
    {
     "name": "stderr",
     "output_type": "stream",
     "text": [
      "\u001b[32m[I 2021-05-08 10:02:26,519]\u001b[0m Trial 177 finished with value: -2.562391796347536 and parameters: {'eta': 0.07187852139451324, 'gamma': 8.843176079268065e-08, 'max_depth': 3, 'min_child_weight': 0.0001784999960288513, 'subsample': 0.6160189785102876, 'reg_lambda': 27.124866377382656, 'reg_alpha': 0.15414962785999553}. Best is trial 164 with value: -2.171234936637643.\u001b[0m\n"
     ]
    },
    {
     "name": "stdout",
     "output_type": "stream",
     "text": [
      "[-2.08961048 -2.37805159 -2.61796306 -2.48719248 -3.23914137]\n"
     ]
    },
    {
     "name": "stderr",
     "output_type": "stream",
     "text": [
      "\u001b[32m[I 2021-05-08 10:02:26,936]\u001b[0m Trial 178 finished with value: -2.42044167072979 and parameters: {'eta': 0.11847616731792465, 'gamma': 2.744097339945296e-07, 'max_depth': 4, 'min_child_weight': 3.6516029799083974e-08, 'subsample': 0.5881987052062667, 'reg_lambda': 2.0739412233862504, 'reg_alpha': 26.95944344611125}. Best is trial 164 with value: -2.171234936637643.\u001b[0m\n"
     ]
    },
    {
     "name": "stdout",
     "output_type": "stream",
     "text": [
      "[-1.78652078 -2.21470117 -2.45717378 -2.59861661 -3.04519602]\n"
     ]
    },
    {
     "name": "stderr",
     "output_type": "stream",
     "text": [
      "\u001b[32m[I 2021-05-08 10:02:27,279]\u001b[0m Trial 179 finished with value: -2.59178489354216 and parameters: {'eta': 0.15295707445475779, 'gamma': 4.1886852310659315e-07, 'max_depth': 3, 'min_child_weight': 6.698628529740039e-08, 'subsample': 0.5671532195141173, 'reg_lambda': 25.48783953262573, 'reg_alpha': 48.178862465072186}. Best is trial 164 with value: -2.171234936637643.\u001b[0m\n"
     ]
    },
    {
     "name": "stdout",
     "output_type": "stream",
     "text": [
      "[-2.04382635 -2.43637394 -2.48656103 -2.62185113 -3.37031202]\n"
     ]
    },
    {
     "name": "stderr",
     "output_type": "stream",
     "text": [
      "\u001b[32m[I 2021-05-08 10:02:27,588]\u001b[0m Trial 180 finished with value: -2.4171141959355205 and parameters: {'eta': 0.08221885565472477, 'gamma': 1.8104820940454663e-07, 'max_depth': 2, 'min_child_weight': 2.5516689301015743e-08, 'subsample': 0.4725089339199639, 'reg_lambda': 1.1079912001530718, 'reg_alpha': 0.828440076672751}. Best is trial 164 with value: -2.171234936637643.\u001b[0m\n"
     ]
    },
    {
     "name": "stdout",
     "output_type": "stream",
     "text": [
      "[-2.08756883 -2.06045825 -2.72670217 -2.69309106 -2.51775067]\n"
     ]
    },
    {
     "name": "stderr",
     "output_type": "stream",
     "text": [
      "\u001b[32m[I 2021-05-08 10:02:28,054]\u001b[0m Trial 181 finished with value: -2.4131912853276285 and parameters: {'eta': 0.211182162927359, 'gamma': 5.368408275082875e-07, 'max_depth': 4, 'min_child_weight': 1.3232435671356685e-08, 'subsample': 0.6516205250055429, 'reg_lambda': 60.297333072873045, 'reg_alpha': 0.36067714840482457}. Best is trial 164 with value: -2.171234936637643.\u001b[0m\n"
     ]
    },
    {
     "name": "stdout",
     "output_type": "stream",
     "text": [
      "[-2.07081871 -2.19311401 -2.24193954 -2.52406655 -3.03601762]\n"
     ]
    },
    {
     "name": "stderr",
     "output_type": "stream",
     "text": [
      "\u001b[32m[I 2021-05-08 10:02:28,416]\u001b[0m Trial 182 finished with value: -2.8559052140565564 and parameters: {'eta': 0.04887111464847316, 'gamma': 2.5988696977121e-07, 'max_depth': 3, 'min_child_weight': 2.335278178127069e-08, 'subsample': 0.6117063018534931, 'reg_lambda': 31.233466248209616, 'reg_alpha': 21.095647115475927}. Best is trial 164 with value: -2.171234936637643.\u001b[0m\n"
     ]
    },
    {
     "name": "stdout",
     "output_type": "stream",
     "text": [
      "[-2.32939842 -2.68092536 -3.06822996 -2.82176556 -3.37920677]\n"
     ]
    },
    {
     "name": "stderr",
     "output_type": "stream",
     "text": [
      "\u001b[32m[I 2021-05-08 10:02:28,860]\u001b[0m Trial 183 finished with value: -4.635685669027729 and parameters: {'eta': 0.10710585933311974, 'gamma': 7.712276740938927e-08, 'max_depth': 4, 'min_child_weight': 1.0007788260371166e-08, 'subsample': 0.6904120775024973, 'reg_lambda': 74.16932081076945, 'reg_alpha': 740.9777751367689}. Best is trial 164 with value: -2.171234936637643.\u001b[0m\n"
     ]
    },
    {
     "name": "stdout",
     "output_type": "stream",
     "text": [
      "[-3.90594953 -4.53129339 -4.94951113 -5.02320056 -4.76847373]\n"
     ]
    },
    {
     "name": "stderr",
     "output_type": "stream",
     "text": [
      "\u001b[32m[I 2021-05-08 10:02:29,566]\u001b[0m Trial 184 finished with value: -2.2364511568752334 and parameters: {'eta': 0.15981310685443936, 'gamma': 1.218765601881239e-07, 'max_depth': 3, 'min_child_weight': 1.1830745731287161e-07, 'subsample': 0.5774898749504418, 'reg_lambda': 0.09764966886973125, 'reg_alpha': 0.8224326987087666}. Best is trial 164 with value: -2.171234936637643.\u001b[0m\n"
     ]
    },
    {
     "name": "stdout",
     "output_type": "stream",
     "text": [
      "[-1.97721972 -2.06310345 -2.1585522  -2.41907777 -2.56430264]\n"
     ]
    },
    {
     "name": "stderr",
     "output_type": "stream",
     "text": [
      "\u001b[32m[I 2021-05-08 10:02:30,413]\u001b[0m Trial 185 finished with value: -2.181533211719843 and parameters: {'eta': 0.16420386580731094, 'gamma': 1.302123823421916e-07, 'max_depth': 3, 'min_child_weight': 1.2068560535604895e-07, 'subsample': 0.5791831016275434, 'reg_lambda': 1.4054636856877742, 'reg_alpha': 0.052071017916801854}. Best is trial 164 with value: -2.171234936637643.\u001b[0m\n"
     ]
    },
    {
     "name": "stdout",
     "output_type": "stream",
     "text": [
      "[-1.71862361 -1.87684779 -2.13327762 -2.50415666 -2.67476039]\n"
     ]
    },
    {
     "name": "stderr",
     "output_type": "stream",
     "text": [
      "\u001b[32m[I 2021-05-08 10:02:31,030]\u001b[0m Trial 186 finished with value: -2.4416559184215685 and parameters: {'eta': 0.16975879135615896, 'gamma': 1.5814720995814436e-07, 'max_depth': 3, 'min_child_weight': 1.4684991087363022e-07, 'subsample': 0.5466641328242452, 'reg_lambda': 0.7405256725523301, 'reg_alpha': 35.6658843861757}. Best is trial 164 with value: -2.171234936637643.\u001b[0m\n"
     ]
    },
    {
     "name": "stdout",
     "output_type": "stream",
     "text": [
      "[-1.8501412  -2.33274557 -2.39870965 -2.70464233 -2.92204085]\n"
     ]
    },
    {
     "name": "stderr",
     "output_type": "stream",
     "text": [
      "\u001b[32m[I 2021-05-08 10:02:31,636]\u001b[0m Trial 187 finished with value: -2.3802029487527445 and parameters: {'eta': 0.07413987541718388, 'gamma': 1.0526738345457356e-07, 'max_depth': 2, 'min_child_weight': 1.0709886253990907e-07, 'subsample': 0.5884932197329835, 'reg_lambda': 0.5373252822284954, 'reg_alpha': 17.72661668902232}. Best is trial 164 with value: -2.171234936637643.\u001b[0m\n"
     ]
    },
    {
     "name": "stdout",
     "output_type": "stream",
     "text": [
      "[-1.85743947 -2.09884894 -2.57671771 -2.57952222 -2.7884864 ]\n"
     ]
    },
    {
     "name": "stderr",
     "output_type": "stream",
     "text": [
      "\u001b[32m[I 2021-05-08 10:02:32,001]\u001b[0m Trial 188 finished with value: -2.6340179586116177 and parameters: {'eta': 0.2787494415341078, 'gamma': 1.2429187854919612e-07, 'max_depth': 3, 'min_child_weight': 2.452557151995452e-07, 'subsample': 0.5766051063241483, 'reg_lambda': 19.95751656738736, 'reg_alpha': 60.55869367402035}. Best is trial 164 with value: -2.171234936637643.\u001b[0m\n"
     ]
    },
    {
     "name": "stdout",
     "output_type": "stream",
     "text": [
      "[-2.10187091 -2.45979823 -2.73012998 -2.66398712 -3.21430355]\n"
     ]
    },
    {
     "name": "stderr",
     "output_type": "stream",
     "text": [
      "\u001b[32m[I 2021-05-08 10:02:32,686]\u001b[0m Trial 189 finished with value: -2.354369651588393 and parameters: {'eta': 0.12473988739158967, 'gamma': 3.297433397626091e-07, 'max_depth': 2, 'min_child_weight': 1.8408563049973396e-07, 'subsample': 0.5264250239500353, 'reg_lambda': 1.5205782872916642, 'reg_alpha': 21.35409717251762}. Best is trial 164 with value: -2.171234936637643.\u001b[0m\n"
     ]
    },
    {
     "name": "stdout",
     "output_type": "stream",
     "text": [
      "[-1.86041505 -2.23017995 -2.34302432 -2.60421206 -2.73401687]\n"
     ]
    },
    {
     "name": "stderr",
     "output_type": "stream",
     "text": [
      "\u001b[32m[I 2021-05-08 10:02:33,591]\u001b[0m Trial 190 finished with value: -5.671800968891309 and parameters: {'eta': 0.01713095809086729, 'gamma': 5.815303831432199e-08, 'max_depth': 4, 'min_child_weight': 8.90116563339115e-08, 'subsample': 0.6191503693364125, 'reg_lambda': 22.363337635131742, 'reg_alpha': 0.2638637447851703}. Best is trial 164 with value: -2.171234936637643.\u001b[0m\n"
     ]
    },
    {
     "name": "stdout",
     "output_type": "stream",
     "text": [
      "[-4.98553479 -5.85064566 -5.85291638 -5.53031178 -6.13959624]\n"
     ]
    },
    {
     "name": "stderr",
     "output_type": "stream",
     "text": [
      "\u001b[32m[I 2021-05-08 10:02:34,523]\u001b[0m Trial 191 finished with value: -2.3219741572921655 and parameters: {'eta': 0.20944729281247812, 'gamma': 1.8898548207312514e-07, 'max_depth': 3, 'min_child_weight': 5.4637921554477773e-08, 'subsample': 0.6009317976996527, 'reg_lambda': 42.62747766638743, 'reg_alpha': 0.7158252922189732}. Best is trial 164 with value: -2.171234936637643.\u001b[0m\n"
     ]
    },
    {
     "name": "stdout",
     "output_type": "stream",
     "text": [
      "[-1.93273939 -2.04450794 -2.22011727 -2.5766703  -2.83583589]\n"
     ]
    },
    {
     "name": "stderr",
     "output_type": "stream",
     "text": [
      "\u001b[32m[I 2021-05-08 10:02:34,956]\u001b[0m Trial 192 finished with value: -2.5379457186887295 and parameters: {'eta': 0.25426325681918405, 'gamma': 2.065034564186294e-07, 'max_depth': 3, 'min_child_weight': 5.1398873060170274e-08, 'subsample': 0.5992072364254499, 'reg_lambda': 48.64580522258813, 'reg_alpha': 33.9703956860483}. Best is trial 164 with value: -2.171234936637643.\u001b[0m\n"
     ]
    },
    {
     "name": "stdout",
     "output_type": "stream",
     "text": [
      "[-2.05903748 -2.3212741  -2.45053661 -2.7525352  -3.10634519]\n"
     ]
    },
    {
     "name": "stderr",
     "output_type": "stream",
     "text": [
      "\u001b[32m[I 2021-05-08 10:02:36,140]\u001b[0m Trial 193 finished with value: -2.2624235424877686 and parameters: {'eta': 0.15920914688990762, 'gamma': 1.3419037949007387e-07, 'max_depth': 15, 'min_child_weight': 4.2394601730445564e-08, 'subsample': 0.5687021534618307, 'reg_lambda': 18.022910863503835, 'reg_alpha': 1.1186763525274581}. Best is trial 164 with value: -2.171234936637643.\u001b[0m\n"
     ]
    },
    {
     "name": "stdout",
     "output_type": "stream",
     "text": [
      "[-1.87393407 -2.0246418  -2.00263802 -2.47595936 -2.93494447]\n"
     ]
    },
    {
     "name": "stderr",
     "output_type": "stream",
     "text": [
      "\u001b[32m[I 2021-05-08 10:02:36,730]\u001b[0m Trial 194 finished with value: -2.763413188327978 and parameters: {'eta': 0.09829283968333352, 'gamma': 1.4328004795655834e-07, 'max_depth': 1, 'min_child_weight': 3.7246100731838955e-08, 'subsample': 0.5577511099666789, 'reg_lambda': 33.99879732387621, 'reg_alpha': 18.45194522297561}. Best is trial 164 with value: -2.171234936637643.\u001b[0m\n"
     ]
    },
    {
     "name": "stdout",
     "output_type": "stream",
     "text": [
      "[-2.25673633 -2.49513376 -3.06384664 -2.79033513 -3.21101406]\n"
     ]
    },
    {
     "name": "stderr",
     "output_type": "stream",
     "text": [
      "\u001b[32m[I 2021-05-08 10:02:37,682]\u001b[0m Trial 195 finished with value: -2.5671108428225105 and parameters: {'eta': 0.1737499454870092, 'gamma': 7.89259203455149e-08, 'max_depth': 13, 'min_child_weight': 5.3430811540218396e-08, 'subsample': 0.5682146376418796, 'reg_lambda': 1.6306349653469643, 'reg_alpha': 43.742814136378506}. Best is trial 164 with value: -2.171234936637643.\u001b[0m\n"
     ]
    },
    {
     "name": "stdout",
     "output_type": "stream",
     "text": [
      "[-1.8622429  -2.44291656 -2.66278933 -2.74838211 -3.1192233 ]\n"
     ]
    },
    {
     "name": "stderr",
     "output_type": "stream",
     "text": [
      "\u001b[32m[I 2021-05-08 10:02:38,447]\u001b[0m Trial 196 finished with value: -2.935054846999086 and parameters: {'eta': 0.059166798876890435, 'gamma': 1.1241756738034664e-07, 'max_depth': 14, 'min_child_weight': 1.1611248304781245e-07, 'subsample': 0.6504785813241766, 'reg_lambda': 57.15224620581829, 'reg_alpha': 13.468850248327737}. Best is trial 164 with value: -2.171234936637643.\u001b[0m\n"
     ]
    },
    {
     "name": "stdout",
     "output_type": "stream",
     "text": [
      "[-2.39827405 -2.7471989  -3.09344544 -2.88168689 -3.55466896]\n"
     ]
    },
    {
     "name": "stderr",
     "output_type": "stream",
     "text": [
      "\u001b[32m[I 2021-05-08 10:02:39,593]\u001b[0m Trial 197 finished with value: -2.5301351778183454 and parameters: {'eta': 0.14375432585455727, 'gamma': 3.8974549130382406e-07, 'max_depth': 3, 'min_child_weight': 1.758190431589846e-08, 'subsample': 0.5841930199725007, 'reg_lambda': 19.805593318164014, 'reg_alpha': 34.688848912592114}. Best is trial 164 with value: -2.171234936637643.\u001b[0m\n"
     ]
    },
    {
     "name": "stdout",
     "output_type": "stream",
     "text": [
      "[-1.98607865 -2.40256472 -2.41108845 -2.67220489 -3.17873917]\n"
     ]
    },
    {
     "name": "stderr",
     "output_type": "stream",
     "text": [
      "\u001b[32m[I 2021-05-08 10:02:40,069]\u001b[0m Trial 198 finished with value: -2.267271733908006 and parameters: {'eta': 0.22765816828637647, 'gamma': 1.7245363120764812e-07, 'max_depth': 3, 'min_child_weight': 3.756532729303783e-08, 'subsample': 0.540593591203778, 'reg_lambda': 0.71454654031524, 'reg_alpha': 0.5331199742815278}. Best is trial 164 with value: -2.171234936637643.\u001b[0m\n"
     ]
    },
    {
     "name": "stdout",
     "output_type": "stream",
     "text": [
      "[-1.96822391 -2.06622198 -1.87748299 -2.74950895 -2.67492084]\n"
     ]
    },
    {
     "name": "stderr",
     "output_type": "stream",
     "text": [
      "\u001b[32m[I 2021-05-08 10:02:40,908]\u001b[0m Trial 199 finished with value: -2.3126175573137067 and parameters: {'eta': 0.2514008348849449, 'gamma': 1.6667341735723615e-07, 'max_depth': 14, 'min_child_weight': 2.7856249073891447e-08, 'subsample': 0.5432255206836321, 'reg_lambda': 2.417915195934672, 'reg_alpha': 1.8952852296233353}. Best is trial 164 with value: -2.171234936637643.\u001b[0m\n"
     ]
    },
    {
     "name": "stdout",
     "output_type": "stream",
     "text": [
      "[-1.87734653 -1.92029365 -2.11177794 -2.7195214  -2.93414826]\n"
     ]
    },
    {
     "name": "stderr",
     "output_type": "stream",
     "text": [
      "\u001b[32m[I 2021-05-08 10:02:41,422]\u001b[0m Trial 200 finished with value: -2.6452634030330326 and parameters: {'eta': 0.21744382615316718, 'gamma': 1.6765825554594556e-07, 'max_depth': 15, 'min_child_weight': 2.4950096483735602e-08, 'subsample': 0.5314062956507282, 'reg_lambda': 1.806607017546436, 'reg_alpha': 56.11321907242062}. Best is trial 164 with value: -2.171234936637643.\u001b[0m\n"
     ]
    },
    {
     "name": "stdout",
     "output_type": "stream",
     "text": [
      "[-2.01127011 -2.51286332 -2.620305   -2.78555344 -3.29632514]\n"
     ]
    },
    {
     "name": "stderr",
     "output_type": "stream",
     "text": [
      "\u001b[32m[I 2021-05-08 10:02:42,631]\u001b[0m Trial 201 finished with value: -2.3809983938181842 and parameters: {'eta': 0.28781206809720417, 'gamma': 2.433193907263691e-07, 'max_depth': 16, 'min_child_weight': 3.865594084014246e-08, 'subsample': 0.4937883219667855, 'reg_lambda': 19.351841952336372, 'reg_alpha': 0.9146064129399862}. Best is trial 164 with value: -2.171234936637643.\u001b[0m\n"
     ]
    },
    {
     "name": "stdout",
     "output_type": "stream",
     "text": [
      "[-2.08088391 -2.08907096 -1.98562441 -2.75424565 -2.99516704]\n"
     ]
    },
    {
     "name": "stderr",
     "output_type": "stream",
     "text": [
      "\u001b[32m[I 2021-05-08 10:02:43,413]\u001b[0m Trial 202 finished with value: -2.290843551064715 and parameters: {'eta': 0.16500613430613273, 'gamma': 4.2201788334391874e-08, 'max_depth': 15, 'min_child_weight': 3.163410660715825e-08, 'subsample': 0.4896105184263682, 'reg_lambda': 1.3433480865190026, 'reg_alpha': 17.89758080380802}. Best is trial 164 with value: -2.171234936637643.\u001b[0m\n"
     ]
    },
    {
     "name": "stdout",
     "output_type": "stream",
     "text": [
      "[-1.70319726 -2.18552913 -2.15041211 -2.4825193  -2.93255996]\n"
     ]
    },
    {
     "name": "stderr",
     "output_type": "stream",
     "text": [
      "\u001b[32m[I 2021-05-08 10:02:43,971]\u001b[0m Trial 203 finished with value: -2.3053538333928145 and parameters: {'eta': 0.17196384100446624, 'gamma': 4.213392615140405e-08, 'max_depth': 15, 'min_child_weight': 1.8647332186916585e-08, 'subsample': 0.5335457441843519, 'reg_lambda': 3.8574624388390233, 'reg_alpha': 21.226079832174396}. Best is trial 164 with value: -2.171234936637643.\u001b[0m\n"
     ]
    },
    {
     "name": "stdout",
     "output_type": "stream",
     "text": [
      "[-1.6635238  -2.10354469 -2.38681487 -2.56593906 -2.80694674]\n"
     ]
    },
    {
     "name": "stderr",
     "output_type": "stream",
     "text": [
      "\u001b[32m[I 2021-05-08 10:02:44,485]\u001b[0m Trial 204 finished with value: -2.3868778949137086 and parameters: {'eta': 0.16761407669138914, 'gamma': 2.5457813378299647e-08, 'max_depth': 15, 'min_child_weight': 3.0626648337644056e-08, 'subsample': 0.495110013033395, 'reg_lambda': 1.5714236974646951, 'reg_alpha': 23.951761311876542}. Best is trial 164 with value: -2.171234936637643.\u001b[0m\n"
     ]
    },
    {
     "name": "stdout",
     "output_type": "stream",
     "text": [
      "[-1.65741448 -2.28563794 -2.41303512 -2.70359424 -2.87470769]\n"
     ]
    },
    {
     "name": "stderr",
     "output_type": "stream",
     "text": [
      "\u001b[32m[I 2021-05-08 10:02:45,169]\u001b[0m Trial 205 finished with value: -2.6294038697230966 and parameters: {'eta': 0.2280048704829852, 'gamma': 4.235372821668443e-08, 'max_depth': 15, 'min_child_weight': 2.0549997869606092e-08, 'subsample': 0.5018996331501401, 'reg_lambda': 36.894267659289014, 'reg_alpha': 39.40995151754512}. Best is trial 164 with value: -2.171234936637643.\u001b[0m\n"
     ]
    },
    {
     "name": "stdout",
     "output_type": "stream",
     "text": [
      "[-2.18580913 -2.51852366 -2.4722812  -2.5077418  -3.46266356]\n"
     ]
    },
    {
     "name": "stderr",
     "output_type": "stream",
     "text": [
      "\u001b[32m[I 2021-05-08 10:02:45,890]\u001b[0m Trial 206 finished with value: -2.360688834690753 and parameters: {'eta': 0.10631800309946454, 'gamma': 7.013082596628569e-08, 'max_depth': 16, 'min_child_weight': 4.540959648625432e-08, 'subsample': 0.5547154746801046, 'reg_lambda': 0.8467035648675081, 'reg_alpha': 20.576320096696474}. Best is trial 164 with value: -2.171234936637643.\u001b[0m\n"
     ]
    },
    {
     "name": "stdout",
     "output_type": "stream",
     "text": [
      "[-1.72041105 -2.29141476 -2.35576682 -2.60506438 -2.83078717]\n"
     ]
    },
    {
     "name": "stderr",
     "output_type": "stream",
     "text": [
      "\u001b[32m[I 2021-05-08 10:02:46,636]\u001b[0m Trial 207 finished with value: -2.660463174272467 and parameters: {'eta': 0.13748587750507185, 'gamma': 4.4384769588953985e-08, 'max_depth': 14, 'min_child_weight': 2.7323546194722407e-08, 'subsample': 0.4518572944821952, 'reg_lambda': 0.2595291386010268, 'reg_alpha': 73.18118027373706}. Best is trial 164 with value: -2.171234936637643.\u001b[0m\n"
     ]
    },
    {
     "name": "stdout",
     "output_type": "stream",
     "text": [
      "[-2.12993749 -2.60136179 -2.66677913 -2.60977561 -3.29446186]\n"
     ]
    },
    {
     "name": "stderr",
     "output_type": "stream",
     "text": [
      "\u001b[32m[I 2021-05-08 10:02:47,623]\u001b[0m Trial 208 finished with value: -2.503706768889486 and parameters: {'eta': 0.20021818360335766, 'gamma': 1.010995401127199e-07, 'max_depth': 15, 'min_child_weight': 1.8448541734230418e-08, 'subsample': 0.5138389747456616, 'reg_lambda': 39.60019788548499, 'reg_alpha': 18.595992704085255}. Best is trial 164 with value: -2.171234936637643.\u001b[0m\n"
     ]
    },
    {
     "name": "stdout",
     "output_type": "stream",
     "text": [
      "[-2.07313736 -2.26820298 -2.418565   -2.57885326 -3.17977524]\n"
     ]
    },
    {
     "name": "stderr",
     "output_type": "stream",
     "text": [
      "\u001b[32m[I 2021-05-08 10:02:49,619]\u001b[0m Trial 209 finished with value: -2.317838704474178 and parameters: {'eta': 0.27387003482110345, 'gamma': 6.308986193910015e-08, 'max_depth': 15, 'min_child_weight': 0.0012343608968421063, 'subsample': 0.5721655890323094, 'reg_lambda': 18.63302199223756, 'reg_alpha': 0.9415370663997548}. Best is trial 164 with value: -2.171234936637643.\u001b[0m\n"
     ]
    },
    {
     "name": "stdout",
     "output_type": "stream",
     "text": [
      "[-1.85088165 -2.21773516 -2.03964657 -2.72417904 -2.7567511 ]\n"
     ]
    },
    {
     "name": "stderr",
     "output_type": "stream",
     "text": [
      "\u001b[32m[I 2021-05-08 10:02:50,154]\u001b[0m Trial 210 finished with value: -2.5981186108000482 and parameters: {'eta': 0.2475374251089905, 'gamma': 2.9909345099037025e-08, 'max_depth': 14, 'min_child_weight': 0.03294929048135326, 'subsample': 0.5748160315685982, 'reg_lambda': 21.43329434394707, 'reg_alpha': 48.50596801277476}. Best is trial 164 with value: -2.171234936637643.\u001b[0m\n"
     ]
    },
    {
     "name": "stdout",
     "output_type": "stream",
     "text": [
      "[-2.13107789 -2.49248131 -2.50085228 -2.67558339 -3.19059818]\n"
     ]
    },
    {
     "name": "stderr",
     "output_type": "stream",
     "text": [
      "\u001b[32m[I 2021-05-08 10:02:51,261]\u001b[0m Trial 211 finished with value: -2.3374962624090694 and parameters: {'eta': 0.28162571246347406, 'gamma': 8.92421337198295e-08, 'max_depth': 14, 'min_child_weight': 3.561796653565266e-05, 'subsample': 0.5980042324324815, 'reg_lambda': 17.126822753892306, 'reg_alpha': 0.6301634134311866}. Best is trial 164 with value: -2.171234936637643.\u001b[0m\n"
     ]
    },
    {
     "name": "stdout",
     "output_type": "stream",
     "text": [
      "[-1.86096693 -2.38991526 -1.96588756 -2.49852553 -2.97218604]\n"
     ]
    },
    {
     "name": "stderr",
     "output_type": "stream",
     "text": [
      "\u001b[32m[I 2021-05-08 10:02:51,914]\u001b[0m Trial 212 finished with value: -2.5377310796019477 and parameters: {'eta': 0.16093008407565798, 'gamma': 6.114787491253936e-08, 'max_depth': 15, 'min_child_weight': 0.0089390357789801, 'subsample': 0.5603056753253844, 'reg_lambda': 47.64185021350827, 'reg_alpha': 18.854443969004553}. Best is trial 164 with value: -2.171234936637643.\u001b[0m\n"
     ]
    },
    {
     "name": "stdout",
     "output_type": "stream",
     "text": [
      "[-2.2023145  -2.48893759 -2.35268901 -2.46722957 -3.17748473]\n"
     ]
    },
    {
     "name": "stderr",
     "output_type": "stream",
     "text": [
      "\u001b[32m[I 2021-05-08 10:02:53,323]\u001b[0m Trial 213 finished with value: -2.2437226858197907 and parameters: {'eta': 0.1188534905569741, 'gamma': 1.3853665556409338e-07, 'max_depth': 16, 'min_child_weight': 3.801133521104471e-08, 'subsample': 0.5443684536949851, 'reg_lambda': 1.9566589649320945, 'reg_alpha': 14.591071155604435}. Best is trial 164 with value: -2.171234936637643.\u001b[0m\n"
     ]
    },
    {
     "name": "stdout",
     "output_type": "stream",
     "text": [
      "[-1.60073757 -2.17285677 -2.15956762 -2.50507437 -2.7803771 ]\n"
     ]
    },
    {
     "name": "stderr",
     "output_type": "stream",
     "text": [
      "\u001b[32m[I 2021-05-08 10:02:53,805]\u001b[0m Trial 214 finished with value: -2.6714376223705436 and parameters: {'eta': 0.1397134933061314, 'gamma': 1.477513386638785e-07, 'max_depth': 17, 'min_child_weight': 4.736048689277998e-08, 'subsample': 0.48398122576966923, 'reg_lambda': 28.970567017152288, 'reg_alpha': 33.21991647793722}. Best is trial 164 with value: -2.171234936637643.\u001b[0m\n"
     ]
    },
    {
     "name": "stdout",
     "output_type": "stream",
     "text": [
      "[-2.20177546 -2.52733669 -2.50823104 -2.65569735 -3.46414757]\n"
     ]
    },
    {
     "name": "stderr",
     "output_type": "stream",
     "text": [
      "\u001b[32m[I 2021-05-08 10:02:54,436]\u001b[0m Trial 215 finished with value: -2.3968812550791987 and parameters: {'eta': 0.2717709743228518, 'gamma': 4.582830949317128e-08, 'max_depth': 16, 'min_child_weight': 6.618565582349415e-08, 'subsample': 0.5424922757604573, 'reg_lambda': 17.49396965742727, 'reg_alpha': 16.428379027721395}. Best is trial 164 with value: -2.171234936637643.\u001b[0m\n"
     ]
    },
    {
     "name": "stdout",
     "output_type": "stream",
     "text": [
      "[-2.0012403  -2.30522079 -2.25248829 -2.53594268 -2.88951422]\n"
     ]
    },
    {
     "name": "stderr",
     "output_type": "stream",
     "text": [
      "\u001b[32m[I 2021-05-08 10:02:55,374]\u001b[0m Trial 216 finished with value: -2.229948904749788 and parameters: {'eta': 0.18527405198752603, 'gamma': 1.8134444395886573e-07, 'max_depth': 16, 'min_child_weight': 0.0005678660370646632, 'subsample': 0.5132976300100462, 'reg_lambda': 1.1807509466671142, 'reg_alpha': 2.349365048429604}. Best is trial 164 with value: -2.171234936637643.\u001b[0m\n"
     ]
    },
    {
     "name": "stdout",
     "output_type": "stream",
     "text": [
      "[-2.01084535 -1.97826138 -1.99424018 -2.46928227 -2.69711534]\n"
     ]
    },
    {
     "name": "stderr",
     "output_type": "stream",
     "text": [
      "\u001b[32m[I 2021-05-08 10:02:55,934]\u001b[0m Trial 217 finished with value: -2.6111380786424805 and parameters: {'eta': 0.10631512032247555, 'gamma': 6.110321000085263e-08, 'max_depth': 17, 'min_child_weight': 0.0006234893952563121, 'subsample': 0.5170403480794888, 'reg_lambda': 16.723489407826765, 'reg_alpha': 38.612171849461106}. Best is trial 164 with value: -2.171234936637643.\u001b[0m\n"
     ]
    },
    {
     "name": "stdout",
     "output_type": "stream",
     "text": [
      "[-2.23006078 -2.3435026  -2.60269719 -2.61297599 -3.26645383]\n"
     ]
    },
    {
     "name": "stderr",
     "output_type": "stream",
     "text": [
      "\u001b[32m[I 2021-05-08 10:02:56,670]\u001b[0m Trial 218 finished with value: -2.3168901550563765 and parameters: {'eta': 0.15888441797099018, 'gamma': 1.379209470405202e-07, 'max_depth': 15, 'min_child_weight': 3.42814619498849e-08, 'subsample': 0.5520478889436359, 'reg_lambda': 15.908175077678777, 'reg_alpha': 0.5549545022903715}. Best is trial 164 with value: -2.171234936637643.\u001b[0m\n"
     ]
    },
    {
     "name": "stdout",
     "output_type": "stream",
     "text": [
      "[-1.95164095 -2.0154086  -1.90695109 -2.51381217 -3.19663796]\n"
     ]
    },
    {
     "name": "stderr",
     "output_type": "stream",
     "text": [
      "\u001b[32m[I 2021-05-08 10:02:57,145]\u001b[0m Trial 219 finished with value: -2.607018282484125 and parameters: {'eta': 0.1592595996775541, 'gamma': 1.542025193895587e-07, 'max_depth': 16, 'min_child_weight': 0.0026946930579628877, 'subsample': 0.523108137379651, 'reg_lambda': 0.6003463205268473, 'reg_alpha': 52.22560288844757}. Best is trial 164 with value: -2.171234936637643.\u001b[0m\n"
     ]
    },
    {
     "name": "stdout",
     "output_type": "stream",
     "text": [
      "[-1.94105667 -2.55805171 -2.63379058 -2.75946499 -3.14272746]\n"
     ]
    },
    {
     "name": "stderr",
     "output_type": "stream",
     "text": [
      "\u001b[32m[I 2021-05-08 10:02:57,939]\u001b[0m Trial 220 finished with value: -2.340038912378712 and parameters: {'eta': 0.10167703899255275, 'gamma': 3.130918131171226e-07, 'max_depth': 16, 'min_child_weight': 3.5100253947221084e-08, 'subsample': 0.41825822203907737, 'reg_lambda': 1.029986356679126, 'reg_alpha': 19.721725947386744}. Best is trial 164 with value: -2.171234936637643.\u001b[0m\n"
     ]
    },
    {
     "name": "stdout",
     "output_type": "stream",
     "text": [
      "[-1.82475297 -2.17759444 -2.34384723 -2.53017766 -2.82382226]\n"
     ]
    },
    {
     "name": "stderr",
     "output_type": "stream",
     "text": [
      "\u001b[32m[I 2021-05-08 10:02:58,760]\u001b[0m Trial 221 finished with value: -2.331140719190056 and parameters: {'eta': 0.2987723359444334, 'gamma': 1.1864927756658269e-07, 'max_depth': 15, 'min_child_weight': 0.0011686731800755366, 'subsample': 0.5478727195742211, 'reg_lambda': 0.4991920106871155, 'reg_alpha': 0.31556023780694176}. Best is trial 164 with value: -2.171234936637643.\u001b[0m\n"
     ]
    },
    {
     "name": "stdout",
     "output_type": "stream",
     "text": [
      "[-1.9700086  -2.37145188 -2.19651534 -2.24884197 -2.86888581]\n"
     ]
    },
    {
     "name": "stderr",
     "output_type": "stream",
     "text": [
      "\u001b[32m[I 2021-05-08 10:02:59,400]\u001b[0m Trial 222 finished with value: -2.4803137392055836 and parameters: {'eta': 0.19207617029278085, 'gamma': 7.541441106564169e-08, 'max_depth': 15, 'min_child_weight': 0.003045525064239192, 'subsample': 0.5714325471649775, 'reg_lambda': 31.618925662941002, 'reg_alpha': 15.0017982840771}. Best is trial 164 with value: -2.171234936637643.\u001b[0m\n"
     ]
    },
    {
     "name": "stdout",
     "output_type": "stream",
     "text": [
      "[-1.9306911  -2.41954883 -2.29202018 -2.62333784 -3.13597074]\n"
     ]
    },
    {
     "name": "stderr",
     "output_type": "stream",
     "text": [
      "\u001b[32m[I 2021-05-08 10:02:59,791]\u001b[0m Trial 223 finished with value: -16.49755453691659 and parameters: {'eta': 0.0026665897931432594, 'gamma': 2.0434561741930136e-07, 'max_depth': 15, 'min_child_weight': 0.0018183180089778699, 'subsample': 0.5384065405763345, 'reg_lambda': 0.9380236103618362, 'reg_alpha': 0.9716227958091559}. Best is trial 164 with value: -2.171234936637643.\u001b[0m\n"
     ]
    },
    {
     "name": "stdout",
     "output_type": "stream",
     "text": [
      "[-15.68819301 -17.21634982 -15.97947311 -16.37989247 -17.22386427]\n"
     ]
    },
    {
     "name": "stderr",
     "output_type": "stream",
     "text": [
      "\u001b[32m[I 2021-05-08 10:03:01,047]\u001b[0m Trial 224 finished with value: -2.3791826826024938 and parameters: {'eta': 0.4109519125930927, 'gamma': 9.74185045106142e-08, 'max_depth': 16, 'min_child_weight': 0.0009432214340541904, 'subsample': 0.5759398330552429, 'reg_lambda': 19.832471885468635, 'reg_alpha': 1.5127427945714738}. Best is trial 164 with value: -2.171234936637643.\u001b[0m\n"
     ]
    },
    {
     "name": "stdout",
     "output_type": "stream",
     "text": [
      "[-2.0321763  -2.23499382 -2.31903154 -2.47467458 -2.83503717]\n"
     ]
    },
    {
     "name": "stderr",
     "output_type": "stream",
     "text": [
      "\u001b[32m[I 2021-05-08 10:03:01,631]\u001b[0m Trial 225 finished with value: -2.592044032591361 and parameters: {'eta': 0.12547122924225992, 'gamma': 1.8366397384834283e-08, 'max_depth': 16, 'min_child_weight': 0.00036766870633658474, 'subsample': 0.6287173182510222, 'reg_lambda': 51.06669379617015, 'reg_alpha': 28.352443801942833}. Best is trial 164 with value: -2.171234936637643.\u001b[0m\n"
     ]
    },
    {
     "name": "stdout",
     "output_type": "stream",
     "text": [
      "[-2.18713269 -2.45945641 -2.56787373 -2.46011678 -3.28564055]\n"
     ]
    },
    {
     "name": "stderr",
     "output_type": "stream",
     "text": [
      "\u001b[32m[I 2021-05-08 10:03:02,140]\u001b[0m Trial 226 finished with value: -2.5972005791664126 and parameters: {'eta': 0.18722614097126372, 'gamma': 3.4770717514027986e-08, 'max_depth': 14, 'min_child_weight': 0.00010632063390479465, 'subsample': 0.5112736061377904, 'reg_lambda': 19.226626710177037, 'reg_alpha': 36.138398244956996}. Best is trial 164 with value: -2.171234936637643.\u001b[0m\n"
     ]
    },
    {
     "name": "stdout",
     "output_type": "stream",
     "text": [
      "[-2.035533   -2.44504551 -2.60861781 -2.68279904 -3.21400754]\n"
     ]
    },
    {
     "name": "stderr",
     "output_type": "stream",
     "text": [
      "\u001b[32m[I 2021-05-08 10:03:02,537]\u001b[0m Trial 227 finished with value: -21.333027271082376 and parameters: {'eta': 5.281391551416999e-06, 'gamma': 1.3423237931208305e-07, 'max_depth': 15, 'min_child_weight': 0.00021898446755632629, 'subsample': 0.5647074688806974, 'reg_lambda': 1.512122225330278, 'reg_alpha': 0.13150995750472927}. Best is trial 164 with value: -2.171234936637643.\u001b[0m\n"
     ]
    },
    {
     "name": "stdout",
     "output_type": "stream",
     "text": [
      "[-20.24406387 -22.20488023 -20.7486254  -21.31363953 -22.15392733]\n"
     ]
    },
    {
     "name": "stderr",
     "output_type": "stream",
     "text": [
      "\u001b[32m[I 2021-05-08 10:03:03,996]\u001b[0m Trial 228 finished with value: -2.3596141516720808 and parameters: {'eta': 0.2867124065899452, 'gamma': 1.9768513292220393e-07, 'max_depth': 14, 'min_child_weight': 3.288223158380236e-08, 'subsample': 0.5365876124242139, 'reg_lambda': 36.17317985015356, 'reg_alpha': 2.2176707899586834}. Best is trial 164 with value: -2.171234936637643.\u001b[0m\n"
     ]
    },
    {
     "name": "stdout",
     "output_type": "stream",
     "text": [
      "[-1.98294459 -2.05577842 -2.03168053 -2.62528253 -3.10238469]\n"
     ]
    },
    {
     "name": "stderr",
     "output_type": "stream",
     "text": [
      "\u001b[32m[I 2021-05-08 10:03:05,173]\u001b[0m Trial 229 finished with value: -2.5925380770188786 and parameters: {'eta': 0.12890677539460973, 'gamma': 2.8625636705649866e-07, 'max_depth': 17, 'min_child_weight': 0.0014207993098068379, 'subsample': 0.5878629020955778, 'reg_lambda': 57.79124340725223, 'reg_alpha': 18.93326258760486}. Best is trial 164 with value: -2.171234936637643.\u001b[0m\n"
     ]
    },
    {
     "name": "stdout",
     "output_type": "stream",
     "text": [
      "[-2.14026927 -2.48682582 -2.56915737 -2.54813596 -3.21830196]\n"
     ]
    },
    {
     "name": "stderr",
     "output_type": "stream",
     "text": [
      "\u001b[32m[I 2021-05-08 10:03:06,325]\u001b[0m Trial 230 finished with value: -2.201515331468465 and parameters: {'eta': 0.08545616312531137, 'gamma': 8.234087353333911e-08, 'max_depth': 13, 'min_child_weight': 1.3779747604513459e-08, 'subsample': 0.4848684490871197, 'reg_lambda': 0.20033538724008038, 'reg_alpha': 0.11453564728543875}. Best is trial 164 with value: -2.171234936637643.\u001b[0m\n"
     ]
    },
    {
     "name": "stdout",
     "output_type": "stream",
     "text": [
      "[-1.87676458 -1.95733003 -2.15993172 -2.50182624 -2.51172408]\n"
     ]
    },
    {
     "name": "stderr",
     "output_type": "stream",
     "text": [
      "\u001b[32m[I 2021-05-08 10:03:07,157]\u001b[0m Trial 231 finished with value: -2.1308653162202718 and parameters: {'eta': 0.09282218312942042, 'gamma': 8.166880921645503e-08, 'max_depth': 12, 'min_child_weight': 1.434595687143483e-08, 'subsample': 0.499068361479584, 'reg_lambda': 1.1427018341193358, 'reg_alpha': 0.4144596718468774}. Best is trial 231 with value: -2.1308653162202718.\u001b[0m\n"
     ]
    },
    {
     "name": "stdout",
     "output_type": "stream",
     "text": [
      "[-1.70971982 -1.85443173 -2.0519863  -2.41999326 -2.61819546]\n"
     ]
    },
    {
     "name": "stderr",
     "output_type": "stream",
     "text": [
      "\u001b[32m[I 2021-05-08 10:03:07,690]\u001b[0m Trial 232 finished with value: -2.4667264499782044 and parameters: {'eta': 0.07441994940369638, 'gamma': 1.2359902781175142e-07, 'max_depth': 12, 'min_child_weight': 1.014589715072266e-08, 'subsample': 0.49027818188562866, 'reg_lambda': 0.9662009564205492, 'reg_alpha': 20.578628259319125}. Best is trial 231 with value: -2.1308653162202718.\u001b[0m\n"
     ]
    },
    {
     "name": "stdout",
     "output_type": "stream",
     "text": [
      "[-1.86322045 -2.30057953 -2.38403122 -2.766927   -3.01887405]\n"
     ]
    },
    {
     "name": "stderr",
     "output_type": "stream",
     "text": [
      "\u001b[32m[I 2021-05-08 10:03:08,373]\u001b[0m Trial 233 finished with value: -2.185007750755475 and parameters: {'eta': 0.1127186916759533, 'gamma': 8.399061516970625e-08, 'max_depth': 14, 'min_child_weight': 1.3997289153685199e-08, 'subsample': 0.464725093166346, 'reg_lambda': 0.23048558085968396, 'reg_alpha': 1.7527186014779965}. Best is trial 231 with value: -2.1308653162202718.\u001b[0m\n"
     ]
    },
    {
     "name": "stdout",
     "output_type": "stream",
     "text": [
      "[-1.92191169 -1.90543483 -2.06928334 -2.46543717 -2.56297172]\n"
     ]
    },
    {
     "name": "stderr",
     "output_type": "stream",
     "text": [
      "\u001b[32m[I 2021-05-08 10:03:08,901]\u001b[0m Trial 234 finished with value: -2.517754337263696 and parameters: {'eta': 0.09725625434557648, 'gamma': 8.151399854013109e-08, 'max_depth': 13, 'min_child_weight': 1.1865691183155058e-08, 'subsample': 0.48113790480251534, 'reg_lambda': 0.10921120530154749, 'reg_alpha': 37.979133842959946}. Best is trial 231 with value: -2.1308653162202718.\u001b[0m\n"
     ]
    },
    {
     "name": "stdout",
     "output_type": "stream",
     "text": [
      "[-1.89057684 -2.34845143 -2.57052269 -2.6799051  -3.09931563]\n"
     ]
    },
    {
     "name": "stderr",
     "output_type": "stream",
     "text": [
      "\u001b[32m[I 2021-05-08 10:03:09,587]\u001b[0m Trial 235 finished with value: -2.0981628140108084 and parameters: {'eta': 0.09224528013247982, 'gamma': 4.9707413088410744e-08, 'max_depth': 14, 'min_child_weight': 1.5593507519343765e-08, 'subsample': 0.4397904784763786, 'reg_lambda': 0.4709655581656263, 'reg_alpha': 1.5354026043450282}. Best is trial 235 with value: -2.0981628140108084.\u001b[0m\n"
     ]
    },
    {
     "name": "stdout",
     "output_type": "stream",
     "text": [
      "[-1.71690732 -1.83192168 -2.14922057 -2.36685852 -2.42590599]\n"
     ]
    },
    {
     "name": "stderr",
     "output_type": "stream",
     "text": [
      "\u001b[32m[I 2021-05-08 10:03:10,204]\u001b[0m Trial 236 finished with value: -2.223940736823612 and parameters: {'eta': 0.043167910964650724, 'gamma': 4.605793116259447e-08, 'max_depth': 14, 'min_child_weight': 1.4328799176520397e-08, 'subsample': 0.4330558108570579, 'reg_lambda': 0.9765725730296104, 'reg_alpha': 0.05930619404920767}. Best is trial 235 with value: -2.0981628140108084.\u001b[0m\n"
     ]
    },
    {
     "name": "stdout",
     "output_type": "stream",
     "text": [
      "[-1.88128405 -2.00484348 -2.13675928 -2.40842583 -2.68839105]\n"
     ]
    },
    {
     "name": "stderr",
     "output_type": "stream",
     "text": [
      "\u001b[32m[I 2021-05-08 10:03:10,836]\u001b[0m Trial 237 finished with value: -2.2297564643224086 and parameters: {'eta': 0.04406853227422123, 'gamma': 4.615941742857757e-08, 'max_depth': 13, 'min_child_weight': 1.507333858185031e-08, 'subsample': 0.41549339323657997, 'reg_lambda': 0.7886518645190563, 'reg_alpha': 0.19125863054693681}. Best is trial 235 with value: -2.0981628140108084.\u001b[0m\n"
     ]
    },
    {
     "name": "stdout",
     "output_type": "stream",
     "text": [
      "[-1.82291963 -1.95503526 -2.20495034 -2.45501693 -2.71086016]\n"
     ]
    },
    {
     "name": "stderr",
     "output_type": "stream",
     "text": [
      "\u001b[32m[I 2021-05-08 10:03:11,271]\u001b[0m Trial 238 finished with value: -3.2176777111453774 and parameters: {'eta': 0.04446377466663279, 'gamma': 5.033376899299123e-08, 'max_depth': 13, 'min_child_weight': 1.357942985908295e-08, 'subsample': 0.42446343050718394, 'reg_lambda': 37.97111340275729, 'reg_alpha': 1.2627890102153796}. Best is trial 235 with value: -2.0981628140108084.\u001b[0m\n"
     ]
    },
    {
     "name": "stdout",
     "output_type": "stream",
     "text": [
      "[-2.64998418 -3.05553222 -3.50196905 -3.12542247 -3.75548065]\n"
     ]
    },
    {
     "name": "stderr",
     "output_type": "stream",
     "text": [
      "\u001b[32m[I 2021-05-08 10:03:11,772]\u001b[0m Trial 239 finished with value: -2.6870765920980477 and parameters: {'eta': 0.02920694941694319, 'gamma': 3.245560344433151e-08, 'max_depth': 12, 'min_child_weight': 1.0623171210769218e-08, 'subsample': 0.44336711025432474, 'reg_lambda': 1.9856472503268492, 'reg_alpha': 0.49158162464342003}. Best is trial 235 with value: -2.0981628140108084.\u001b[0m\n"
     ]
    },
    {
     "name": "stdout",
     "output_type": "stream",
     "text": [
      "[-2.35198155 -2.60554333 -2.70765415 -2.63254689 -3.13765705]\n"
     ]
    },
    {
     "name": "stderr",
     "output_type": "stream",
     "text": [
      "\u001b[32m[I 2021-05-08 10:03:12,210]\u001b[0m Trial 240 finished with value: -2.834609838132505 and parameters: {'eta': 0.03815364595244276, 'gamma': 2.5577519035719695e-08, 'max_depth': 13, 'min_child_weight': 1.428767491414011e-08, 'subsample': 0.4446614716738811, 'reg_lambda': 1.6730748282817907, 'reg_alpha': 53.27254145320441}. Best is trial 235 with value: -2.0981628140108084.\u001b[0m\n"
     ]
    },
    {
     "name": "stdout",
     "output_type": "stream",
     "text": [
      "[-2.29434531 -2.77053087 -3.01202629 -2.64495694 -3.45118979]\n"
     ]
    },
    {
     "name": "stderr",
     "output_type": "stream",
     "text": [
      "\u001b[32m[I 2021-05-08 10:03:12,714]\u001b[0m Trial 241 finished with value: -2.4465612805743278 and parameters: {'eta': 0.06032889443182142, 'gamma': 4.15573452102809e-08, 'max_depth': 12, 'min_child_weight': 1.641698938484961e-08, 'subsample': 0.4016309386327264, 'reg_lambda': 0.5920726685878077, 'reg_alpha': 21.610250230652124}. Best is trial 235 with value: -2.0981628140108084.\u001b[0m\n"
     ]
    },
    {
     "name": "stdout",
     "output_type": "stream",
     "text": [
      "[-1.86463757 -2.26089921 -2.3794626  -2.63434927 -3.09345774]\n"
     ]
    },
    {
     "name": "stderr",
     "output_type": "stream",
     "text": [
      "\u001b[32m[I 2021-05-08 10:03:13,237]\u001b[0m Trial 242 finished with value: -2.589432948548117 and parameters: {'eta': 0.080444953263921, 'gamma': 5.4635154995943e-08, 'max_depth': 13, 'min_child_weight': 1.0153763816826708e-08, 'subsample': 0.45287076782831515, 'reg_lambda': 20.60551638037319, 'reg_alpha': 21.247821158576688}. Best is trial 235 with value: -2.0981628140108084.\u001b[0m\n"
     ]
    },
    {
     "name": "stdout",
     "output_type": "stream",
     "text": [
      "[-2.06556272 -2.36673451 -2.65713341 -2.6224554  -3.2352787 ]\n"
     ]
    },
    {
     "name": "stderr",
     "output_type": "stream",
     "text": [
      "\u001b[32m[I 2021-05-08 10:03:13,706]\u001b[0m Trial 243 finished with value: -2.921083695941501 and parameters: {'eta': 0.05160019964965127, 'gamma': 8.866612518312286e-08, 'max_depth': 14, 'min_child_weight': 1.8713058546586942e-08, 'subsample': 0.421778991533468, 'reg_lambda': 31.754890371056046, 'reg_alpha': 0.5526738036032555}. Best is trial 235 with value: -2.0981628140108084.\u001b[0m\n"
     ]
    },
    {
     "name": "stdout",
     "output_type": "stream",
     "text": [
      "[-2.50299135 -2.666665   -3.05374201 -2.78353588 -3.59848424]\n"
     ]
    },
    {
     "name": "stderr",
     "output_type": "stream",
     "text": [
      "\u001b[32m[I 2021-05-08 10:03:14,126]\u001b[0m Trial 244 finished with value: -5.051073255291692 and parameters: {'eta': 0.08157454917490979, 'gamma': 7.748505162387728e-08, 'max_depth': 13, 'min_child_weight': 2.073408121214403e-08, 'subsample': 0.4628017104327233, 'reg_lambda': 1.2848355030034313, 'reg_alpha': 627.1457476794822}. Best is trial 235 with value: -2.0981628140108084.\u001b[0m\n"
     ]
    },
    {
     "name": "stdout",
     "output_type": "stream",
     "text": [
      "[-4.33108654 -4.98211968 -5.22294839 -5.42039657 -5.2988151 ]\n"
     ]
    },
    {
     "name": "stderr",
     "output_type": "stream",
     "text": [
      "\u001b[32m[I 2021-05-08 10:03:14,566]\u001b[0m Trial 245 finished with value: -6.572968296981152 and parameters: {'eta': 0.10397300047785123, 'gamma': 4.168411641937218e-08, 'max_depth': 12, 'min_child_weight': 6.212952289537064e-05, 'subsample': 0.4023085602197598, 'reg_lambda': 788.7582177879933, 'reg_alpha': 35.581080848225454}. Best is trial 235 with value: -2.0981628140108084.\u001b[0m\n"
     ]
    },
    {
     "name": "stdout",
     "output_type": "stream",
     "text": [
      "[-5.53308154 -6.93236262 -6.61519891 -6.85304357 -6.93115484]\n"
     ]
    },
    {
     "name": "stderr",
     "output_type": "stream",
     "text": [
      "\u001b[32m[I 2021-05-08 10:03:15,264]\u001b[0m Trial 246 finished with value: -2.3773630472171456 and parameters: {'eta': 0.07187673840330958, 'gamma': 5.777401755403374e-08, 'max_depth': 14, 'min_child_weight': 1.3911587377815482e-08, 'subsample': 0.4337326541866361, 'reg_lambda': 1.0325671348955934, 'reg_alpha': 21.519688540211632}. Best is trial 235 with value: -2.0981628140108084.\u001b[0m\n"
     ]
    },
    {
     "name": "stdout",
     "output_type": "stream",
     "text": [
      "[-1.79434445 -2.21799829 -2.24531913 -2.59982854 -3.02932483]\n"
     ]
    },
    {
     "name": "stderr",
     "output_type": "stream",
     "text": [
      "\u001b[32m[I 2021-05-08 10:03:15,882]\u001b[0m Trial 247 finished with value: -2.424958117302553 and parameters: {'eta': 0.12094278762737959, 'gamma': 2.6430117250356036e-08, 'max_depth': 13, 'min_child_weight': 1.0104656441073733e-08, 'subsample': 0.3442926525227341, 'reg_lambda': 1.0986730726235692, 'reg_alpha': 20.19786080845578}. Best is trial 235 with value: -2.0981628140108084.\u001b[0m\n"
     ]
    },
    {
     "name": "stdout",
     "output_type": "stream",
     "text": [
      "[-1.94750324 -2.44120384 -2.47143435 -2.60721766 -2.6574315 ]\n"
     ]
    },
    {
     "name": "stderr",
     "output_type": "stream",
     "text": [
      "\u001b[32m[I 2021-05-08 10:03:16,527]\u001b[0m Trial 248 finished with value: -2.2533727332397744 and parameters: {'eta': 0.03952044514831869, 'gamma': 8.417349402295173e-08, 'max_depth': 4, 'min_child_weight': 2.3402500165375388e-08, 'subsample': 0.4685748501609532, 'reg_lambda': 0.23700708300682397, 'reg_alpha': 1.2189943967814543}. Best is trial 235 with value: -2.0981628140108084.\u001b[0m\n"
     ]
    },
    {
     "name": "stdout",
     "output_type": "stream",
     "text": [
      "[-1.88992141 -2.01640828 -2.34952994 -2.53740318 -2.47360085]\n"
     ]
    },
    {
     "name": "stderr",
     "output_type": "stream",
     "text": [
      "\u001b[32m[I 2021-05-08 10:03:17,061]\u001b[0m Trial 249 finished with value: -4.3625148721918645 and parameters: {'eta': 0.023728925258690678, 'gamma': 9.466718771690509e-08, 'max_depth': 4, 'min_child_weight': 2.3694559265084582e-08, 'subsample': 0.4664952440326965, 'reg_lambda': 26.091901014167178, 'reg_alpha': 2.5585124620104427}. Best is trial 235 with value: -2.0981628140108084.\u001b[0m\n"
     ]
    },
    {
     "name": "stdout",
     "output_type": "stream",
     "text": [
      "[-3.82178452 -4.3426099  -4.58854968 -4.33042959 -4.72920067]\n"
     ]
    },
    {
     "name": "stderr",
     "output_type": "stream",
     "text": [
      "\u001b[32m[I 2021-05-08 10:03:17,602]\u001b[0m Trial 250 finished with value: -3.3352618636908353 and parameters: {'eta': 0.03768809505460972, 'gamma': 1.147132471856484e-07, 'max_depth': 4, 'min_child_weight': 2.705057968819171e-08, 'subsample': 0.48393954556642904, 'reg_lambda': 38.220259545691086, 'reg_alpha': 1.187332574851427}. Best is trial 235 with value: -2.0981628140108084.\u001b[0m\n"
     ]
    },
    {
     "name": "stdout",
     "output_type": "stream",
     "text": [
      "[-2.738272   -3.27277708 -3.64704649 -3.25098819 -3.76722556]\n"
     ]
    },
    {
     "name": "stderr",
     "output_type": "stream",
     "text": [
      "\u001b[32m[I 2021-05-08 10:03:18,415]\u001b[0m Trial 251 finished with value: -2.2034588819727485 and parameters: {'eta': 0.05946604008438867, 'gamma': 7.094904674084338e-08, 'max_depth': 14, 'min_child_weight': 1.5174982417946328e-08, 'subsample': 0.47854137979824607, 'reg_lambda': 0.7237221813576522, 'reg_alpha': 0.7465289698298929}. Best is trial 235 with value: -2.0981628140108084.\u001b[0m\n"
     ]
    },
    {
     "name": "stdout",
     "output_type": "stream",
     "text": [
      "[-1.77475239 -1.95100338 -2.15846036 -2.46305078 -2.6700275 ]\n"
     ]
    },
    {
     "name": "stderr",
     "output_type": "stream",
     "text": [
      "\u001b[32m[I 2021-05-08 10:03:18,988]\u001b[0m Trial 252 finished with value: -3.0155405865951823 and parameters: {'eta': 0.04557958783934162, 'gamma': 7.21768635814102e-08, 'max_depth': 14, 'min_child_weight': 1.516846356643318e-08, 'subsample': 0.4378387303690521, 'reg_lambda': 17.648718420184668, 'reg_alpha': 41.59683675804517}. Best is trial 235 with value: -2.0981628140108084.\u001b[0m\n"
     ]
    },
    {
     "name": "stdout",
     "output_type": "stream",
     "text": [
      "[-2.52568078 -2.79316745 -3.23136767 -2.85679184 -3.67069519]\n"
     ]
    },
    {
     "name": "stderr",
     "output_type": "stream",
     "text": [
      "\u001b[32m[I 2021-05-08 10:03:19,407]\u001b[0m Trial 253 finished with value: -2.851967616293166 and parameters: {'eta': 0.03256563799612971, 'gamma': 6.258817975033052e-08, 'max_depth': 13, 'min_child_weight': 1.0703783114207338e-08, 'subsample': 0.37788578779969384, 'reg_lambda': 0.2221827791661537, 'reg_alpha': 34.76280177938133}. Best is trial 235 with value: -2.0981628140108084.\u001b[0m\n"
     ]
    },
    {
     "name": "stdout",
     "output_type": "stream",
     "text": [
      "[-2.36616486 -2.73635158 -2.99081395 -2.80236655 -3.36414114]\n"
     ]
    },
    {
     "name": "stderr",
     "output_type": "stream",
     "text": [
      "\u001b[32m[I 2021-05-08 10:03:19,727]\u001b[0m Trial 254 finished with value: -7.981791166482148 and parameters: {'eta': 0.052765148713466846, 'gamma': 1.0126712376087866e-07, 'max_depth': 14, 'min_child_weight': 1.6672946263882738e-08, 'subsample': 0.4612955633371748, 'reg_lambda': 536.4116222487885, 'reg_alpha': 62.98366706516993}. Best is trial 235 with value: -2.0981628140108084.\u001b[0m\n"
     ]
    },
    {
     "name": "stdout",
     "output_type": "stream",
     "text": [
      "[-6.86280373 -8.54611527 -7.89376898 -8.20256097 -8.40370688]\n"
     ]
    },
    {
     "name": "stderr",
     "output_type": "stream",
     "text": [
      "\u001b[32m[I 2021-05-08 10:03:20,268]\u001b[0m Trial 255 finished with value: -2.3714222972481336 and parameters: {'eta': 0.06518991072145028, 'gamma': 1.6259865878540668e-07, 'max_depth': 17, 'min_child_weight': 2.3381524567771307e-08, 'subsample': 0.5011108181765261, 'reg_lambda': 0.6423316620874804, 'reg_alpha': 16.993797080215806}. Best is trial 235 with value: -2.0981628140108084.\u001b[0m\n"
     ]
    },
    {
     "name": "stdout",
     "output_type": "stream",
     "text": [
      "[-1.83195157 -2.14934156 -2.26001316 -2.53816071 -3.07764448]\n"
     ]
    },
    {
     "name": "stderr",
     "output_type": "stream",
     "text": [
      "\u001b[32m[I 2021-05-08 10:03:20,952]\u001b[0m Trial 256 finished with value: -2.3185320440162847 and parameters: {'eta': 0.08607072532414445, 'gamma': 8.325374311586384e-08, 'max_depth': 14, 'min_child_weight': 4.6481935988184875e-08, 'subsample': 0.46738870710496055, 'reg_lambda': 0.4722829708708607, 'reg_alpha': 16.991189777407076}. Best is trial 235 with value: -2.0981628140108084.\u001b[0m\n"
     ]
    },
    {
     "name": "stdout",
     "output_type": "stream",
     "text": [
      "[-1.67785637 -2.22690382 -2.29428225 -2.55759157 -2.83602621]\n"
     ]
    },
    {
     "name": "stderr",
     "output_type": "stream",
     "text": [
      "\u001b[32m[I 2021-05-08 10:03:21,479]\u001b[0m Trial 257 finished with value: -2.8302273543852348 and parameters: {'eta': 0.05858791281995106, 'gamma': 0.28093175324082137, 'max_depth': 13, 'min_child_weight': 1.2767465108315098e-08, 'subsample': 0.4954062676364305, 'reg_lambda': 38.62863739864876, 'reg_alpha': 0.7434823597844407}. Best is trial 235 with value: -2.0981628140108084.\u001b[0m\n"
     ]
    },
    {
     "name": "stdout",
     "output_type": "stream",
     "text": [
      "[-2.34253997 -2.5736813  -3.00097577 -2.73371035 -3.50022939]\n"
     ]
    },
    {
     "name": "stderr",
     "output_type": "stream",
     "text": [
      "\u001b[32m[I 2021-05-08 10:03:21,898]\u001b[0m Trial 258 finished with value: -2.6841860985461574 and parameters: {'eta': 0.09570712613683924, 'gamma': 1.2876833473075343e-07, 'max_depth': 14, 'min_child_weight': 6.266146103387577e-08, 'subsample': 0.4793984529194781, 'reg_lambda': 18.87779181656931, 'reg_alpha': 45.28857039890895}. Best is trial 235 with value: -2.0981628140108084.\u001b[0m\n"
     ]
    },
    {
     "name": "stdout",
     "output_type": "stream",
     "text": [
      "[-2.16241033 -2.47977313 -2.60261417 -2.74942788 -3.42670498]\n"
     ]
    },
    {
     "name": "stderr",
     "output_type": "stream",
     "text": [
      "\u001b[32m[I 2021-05-08 10:03:22,383]\u001b[0m Trial 259 finished with value: -2.739830060552668 and parameters: {'eta': 0.0473636467206666, 'gamma': 5.0396070452882814e-08, 'max_depth': 4, 'min_child_weight': 3.8244833144193766e-08, 'subsample': 0.45289657906733427, 'reg_lambda': 19.19408031457256, 'reg_alpha': 1.0126626025439887}. Best is trial 235 with value: -2.0981628140108084.\u001b[0m\n"
     ]
    },
    {
     "name": "stdout",
     "output_type": "stream",
     "text": [
      "[-2.20021145 -2.53046721 -2.95698706 -2.67182904 -3.33965555]\n"
     ]
    },
    {
     "name": "stderr",
     "output_type": "stream",
     "text": [
      "\u001b[32m[I 2021-05-08 10:03:22,854]\u001b[0m Trial 260 finished with value: -2.9291743761875013 and parameters: {'eta': 0.028802695321585935, 'gamma': 1.255962620333792e-08, 'max_depth': 3, 'min_child_weight': 2.4029001016122673e-08, 'subsample': 0.4150081323858056, 'reg_lambda': 0.28106697476567954, 'reg_alpha': 32.88376624805251}. Best is trial 235 with value: -2.0981628140108084.\u001b[0m\n"
     ]
    },
    {
     "name": "stdout",
     "output_type": "stream",
     "text": [
      "[-2.41784747 -2.87836507 -3.12956385 -2.88828137 -3.33181412]\n"
     ]
    },
    {
     "name": "stderr",
     "output_type": "stream",
     "text": [
      "\u001b[32m[I 2021-05-08 10:03:23,249]\u001b[0m Trial 261 finished with value: -6.648715680410833 and parameters: {'eta': 0.012109302486417001, 'gamma': 2.1309627988050496e-07, 'max_depth': 2, 'min_child_weight': 1.0055878233964785e-08, 'subsample': 0.5188697540250433, 'reg_lambda': 0.0002796050385998061, 'reg_alpha': 2.2576065103798175}. Best is trial 235 with value: -2.0981628140108084.\u001b[0m\n"
     ]
    },
    {
     "name": "stdout",
     "output_type": "stream",
     "text": [
      "[-6.0512507  -7.17492852 -6.46390891 -6.46375869 -7.08973159]\n"
     ]
    },
    {
     "name": "stderr",
     "output_type": "stream",
     "text": [
      "\u001b[32m[I 2021-05-08 10:03:23,875]\u001b[0m Trial 262 finished with value: -2.512945478286272 and parameters: {'eta': 0.11477452751403178, 'gamma': 6.851899157332137e-08, 'max_depth': 14, 'min_child_weight': 1.53605013538374e-08, 'subsample': 0.5021664341584897, 'reg_lambda': 55.33179204760519, 'reg_alpha': 0.5862764458996574}. Best is trial 235 with value: -2.0981628140108084.\u001b[0m\n"
     ]
    },
    {
     "name": "stdout",
     "output_type": "stream",
     "text": [
      "[-2.10790164 -2.26845801 -2.49750054 -2.49235939 -3.19850781]\n"
     ]
    },
    {
     "name": "stderr",
     "output_type": "stream",
     "text": [
      "\u001b[32m[I 2021-05-08 10:03:24,344]\u001b[0m Trial 263 finished with value: -2.6957410257127554 and parameters: {'eta': 0.07152981730894441, 'gamma': 3.426192313312275e-08, 'max_depth': 5, 'min_child_weight': 4.4773492629530786e-08, 'subsample': 0.43454804382091455, 'reg_lambda': 36.12448322637178, 'reg_alpha': 0.44301461280883114}. Best is trial 235 with value: -2.0981628140108084.\u001b[0m\n"
     ]
    },
    {
     "name": "stdout",
     "output_type": "stream",
     "text": [
      "[-2.1995757  -2.4232617  -2.82497298 -2.6169936  -3.41390116]\n"
     ]
    },
    {
     "name": "stderr",
     "output_type": "stream",
     "text": [
      "\u001b[32m[I 2021-05-08 10:03:24,769]\u001b[0m Trial 264 finished with value: -2.6924256932411668 and parameters: {'eta': 0.15482058676944058, 'gamma': 1.6091767116750512e-07, 'max_depth': 3, 'min_child_weight': 2.0561961964534787e-08, 'subsample': 0.4689257252638406, 'reg_lambda': 19.258516638747988, 'reg_alpha': 54.17127352341149}. Best is trial 235 with value: -2.0981628140108084.\u001b[0m\n"
     ]
    },
    {
     "name": "stdout",
     "output_type": "stream",
     "text": [
      "[-2.26894646 -2.38539086 -2.57112065 -2.81018077 -3.42648974]\n"
     ]
    },
    {
     "name": "stderr",
     "output_type": "stream",
     "text": [
      "\u001b[32m[I 2021-05-08 10:03:25,246]\u001b[0m Trial 265 finished with value: -21.342851874124122 and parameters: {'eta': 4.883983830866194e-07, 'gamma': 1.797555124023927e-08, 'max_depth': 13, 'min_child_weight': 8.77918311662206e-08, 'subsample': 0.513143403249472, 'reg_lambda': 0.7245598013007923, 'reg_alpha': 0.007500717180941419}. Best is trial 235 with value: -2.0981628140108084.\u001b[0m\n"
     ]
    },
    {
     "name": "stdout",
     "output_type": "stream",
     "text": [
      "[-20.25336676 -22.21500405 -20.75826109 -21.32366074 -22.16396674]\n"
     ]
    },
    {
     "name": "stderr",
     "output_type": "stream",
     "text": [
      "\u001b[32m[I 2021-05-08 10:03:25,692]\u001b[0m Trial 266 finished with value: -3.90173003883715 and parameters: {'eta': 0.019990612748302883, 'gamma': 1.1491106578599495e-07, 'max_depth': 4, 'min_child_weight': 3.0944786650587625e-08, 'subsample': 0.48137809578930985, 'reg_lambda': 0.06081311659300559, 'reg_alpha': 26.860173788531622}. Best is trial 235 with value: -2.0981628140108084.\u001b[0m\n"
     ]
    },
    {
     "name": "stdout",
     "output_type": "stream",
     "text": [
      "[-3.5472135  -3.9472579  -3.98607746 -3.68832275 -4.33977858]\n"
     ]
    },
    {
     "name": "stderr",
     "output_type": "stream",
     "text": [
      "\u001b[32m[I 2021-05-08 10:03:26,241]\u001b[0m Trial 267 finished with value: -2.9077796907719273 and parameters: {'eta': 0.09263285309008358, 'gamma': 8.997624716791029e-08, 'max_depth': 16, 'min_child_weight': 6.905196839274958e-08, 'subsample': 0.36741370090315195, 'reg_lambda': 50.19736116348713, 'reg_alpha': 18.892864744382063}. Best is trial 235 with value: -2.0981628140108084.\u001b[0m\n"
     ]
    },
    {
     "name": "stdout",
     "output_type": "stream",
     "text": [
      "[-2.36676063 -2.66429917 -2.99461588 -2.85085105 -3.66237173]\n"
     ]
    },
    {
     "name": "stderr",
     "output_type": "stream",
     "text": [
      "\u001b[32m[I 2021-05-08 10:03:26,708]\u001b[0m Trial 268 finished with value: -2.5332487393190832 and parameters: {'eta': 0.1812837619532404, 'gamma': 2.08238114690264e-07, 'max_depth': 3, 'min_child_weight': 1.6567023974136186e-08, 'subsample': 0.6304171525521023, 'reg_lambda': 20.528636586706615, 'reg_alpha': 39.21518042336251}. Best is trial 235 with value: -2.0981628140108084.\u001b[0m\n"
     ]
    },
    {
     "name": "stdout",
     "output_type": "stream",
     "text": [
      "[-2.05233795 -2.34595837 -2.49410354 -2.61363629 -3.16020754]\n"
     ]
    },
    {
     "name": "stderr",
     "output_type": "stream",
     "text": [
      "\u001b[32m[I 2021-05-08 10:03:27,267]\u001b[0m Trial 269 finished with value: -3.352716896292604 and parameters: {'eta': 0.040409925339737085, 'gamma': 4.458474130556097e-08, 'max_depth': 12, 'min_child_weight': 1.0426741643028574e-08, 'subsample': 0.44623164975293317, 'reg_lambda': 35.63215144048378, 'reg_alpha': 17.249994272682915}. Best is trial 235 with value: -2.0981628140108084.\u001b[0m\n"
     ]
    },
    {
     "name": "stdout",
     "output_type": "stream",
     "text": [
      "[-2.76273038 -3.22189361 -3.67078806 -3.28814731 -3.82002512]\n"
     ]
    },
    {
     "name": "stderr",
     "output_type": "stream",
     "text": [
      "\u001b[32m[I 2021-05-08 10:03:27,697]\u001b[0m Trial 270 finished with value: -2.625550416657954 and parameters: {'eta': 0.11246066307914641, 'gamma': 6.22999630051236e-08, 'max_depth': 2, 'min_child_weight': 2.754122039048876e-08, 'subsample': 0.49446150465750377, 'reg_lambda': 0.3666169890019617, 'reg_alpha': 61.87161273224049}. Best is trial 235 with value: -2.0981628140108084.\u001b[0m\n"
     ]
    },
    {
     "name": "stdout",
     "output_type": "stream",
     "text": [
      "[-2.20301672 -2.3620384  -2.702769   -2.66559341 -3.19433455]\n"
     ]
    },
    {
     "name": "stderr",
     "output_type": "stream",
     "text": [
      "\u001b[32m[I 2021-05-08 10:03:28,385]\u001b[0m Trial 271 finished with value: -2.4601134699538902 and parameters: {'eta': 0.07471343964416018, 'gamma': 1.2658301652745601e-07, 'max_depth': 3, 'min_child_weight': 3.968157968805233e-08, 'subsample': 0.5814841531148255, 'reg_lambda': 19.246871854573357, 'reg_alpha': 0.3407939336637895}. Best is trial 235 with value: -2.0981628140108084.\u001b[0m\n"
     ]
    },
    {
     "name": "stdout",
     "output_type": "stream",
     "text": [
      "[-1.97094925 -2.27576249 -2.48968556 -2.51601316 -3.04815689]\n"
     ]
    },
    {
     "name": "stderr",
     "output_type": "stream",
     "text": [
      "\u001b[32m[I 2021-05-08 10:03:29,518]\u001b[0m Trial 272 finished with value: -2.1446933419027445 and parameters: {'eta': 0.13819685240487367, 'gamma': 2.443736399515608e-07, 'max_depth': 4, 'min_child_weight': 5.136209374637117e-08, 'subsample': 0.5208030614437923, 'reg_lambda': 0.2284915225316564, 'reg_alpha': 0.28203938197546896}. Best is trial 235 with value: -2.0981628140108084.\u001b[0m\n"
     ]
    },
    {
     "name": "stdout",
     "output_type": "stream",
     "text": [
      "[-1.9446164  -1.93567556 -2.01532645 -2.44955474 -2.37829356]\n"
     ]
    },
    {
     "name": "stderr",
     "output_type": "stream",
     "text": [
      "\u001b[32m[I 2021-05-08 10:03:30,004]\u001b[0m Trial 273 finished with value: -4.393887764536304 and parameters: {'eta': 0.13268877870212967, 'gamma': 2.0864043988238958e-07, 'max_depth': 15, 'min_child_weight': 2.0311255405557116e-08, 'subsample': 0.5119335242488929, 'reg_lambda': 0.004882088309769328, 'reg_alpha': 533.3490663218886}. Best is trial 235 with value: -2.0981628140108084.\u001b[0m\n"
     ]
    },
    {
     "name": "stdout",
     "output_type": "stream",
     "text": [
      "[-3.69007719 -4.31208847 -4.66635771 -4.79539413 -4.50552131]\n"
     ]
    },
    {
     "name": "stderr",
     "output_type": "stream",
     "text": [
      "\u001b[32m[I 2021-05-08 10:03:30,483]\u001b[0m Trial 274 finished with value: -3.027814789283423 and parameters: {'eta': 0.05693586540954945, 'gamma': 8.60717711571531e-06, 'max_depth': 5, 'min_child_weight': 5.281379005575968e-08, 'subsample': 0.5284574408750059, 'reg_lambda': 50.022193854696695, 'reg_alpha': 17.77473822385835}. Best is trial 235 with value: -2.0981628140108084.\u001b[0m\n"
     ]
    },
    {
     "name": "stdout",
     "output_type": "stream",
     "text": [
      "[-2.58106197 -2.80308861 -3.25923501 -2.93525135 -3.56043701]\n"
     ]
    },
    {
     "name": "stderr",
     "output_type": "stream",
     "text": [
      "\u001b[32m[I 2021-05-08 10:03:31,120]\u001b[0m Trial 275 finished with value: -3.0733687328173787 and parameters: {'eta': 0.18595818183544205, 'gamma': 2.690175295566472e-07, 'max_depth': 14, 'min_child_weight': 2.842822062692678e-08, 'subsample': 0.48119290645361623, 'reg_lambda': 302.5434210369475, 'reg_alpha': 0.18252368544630812}. Best is trial 235 with value: -2.0981628140108084.\u001b[0m\n"
     ]
    },
    {
     "name": "stdout",
     "output_type": "stream",
     "text": [
      "[-2.5356711  -2.87341056 -3.2555622  -3.0692471  -3.6329527 ]\n"
     ]
    },
    {
     "name": "stderr",
     "output_type": "stream",
     "text": [
      "\u001b[32m[I 2021-05-08 10:03:31,998]\u001b[0m Trial 276 finished with value: -2.481417467882604 and parameters: {'eta': 0.094492492417032, 'gamma': 0.697345241715522, 'max_depth': 4, 'min_child_weight': 1.0256670631613762e-08, 'subsample': 0.5546086290147918, 'reg_lambda': 31.650494894108988, 'reg_alpha': 0.16115180949267138}. Best is trial 235 with value: -2.0981628140108084.\u001b[0m\n"
     ]
    },
    {
     "name": "stdout",
     "output_type": "stream",
     "text": [
      "[-2.08137959 -2.36739388 -2.47762276 -2.39635986 -3.08433126]\n"
     ]
    },
    {
     "name": "stderr",
     "output_type": "stream",
     "text": [
      "\u001b[32m[I 2021-05-08 10:03:32,496]\u001b[0m Trial 277 finished with value: -4.45760431834209 and parameters: {'eta': 0.13573450833729864, 'gamma': 2.983962531260139e-08, 'max_depth': 6, 'min_child_weight': 1.3551873124763603e-08, 'subsample': 0.4572681032037869, 'reg_lambda': 668.0691991328258, 'reg_alpha': 0.22003386129738167}. Best is trial 235 with value: -2.0981628140108084.\u001b[0m\n"
     ]
    },
    {
     "name": "stdout",
     "output_type": "stream",
     "text": [
      "[-3.67746125 -4.39518043 -4.84030687 -4.82599122 -4.54908181]\n"
     ]
    },
    {
     "name": "stderr",
     "output_type": "stream",
     "text": [
      "\u001b[32m[I 2021-05-08 10:03:32,836]\u001b[0m Trial 278 finished with value: -3.493162713804363 and parameters: {'eta': 0.06551365113263204, 'gamma': 8.646248101235916e-08, 'max_depth': 11, 'min_child_weight': 4.0900510186865394e-08, 'subsample': 0.15125041195527272, 'reg_lambda': 18.37792180247779, 'reg_alpha': 37.10354731664293}. Best is trial 235 with value: -2.0981628140108084.\u001b[0m\n"
     ]
    },
    {
     "name": "stdout",
     "output_type": "stream",
     "text": [
      "[-3.24447666 -3.24747338 -3.66435894 -3.3875728  -3.92193179]\n"
     ]
    },
    {
     "name": "stderr",
     "output_type": "stream",
     "text": [
      "\u001b[32m[I 2021-05-08 10:03:33,501]\u001b[0m Trial 279 finished with value: -2.4210574405281635 and parameters: {'eta': 0.19955866680746745, 'gamma': 3.8228708776262636e-07, 'max_depth': 13, 'min_child_weight': 0.004415395502149037, 'subsample': 0.5253624196939867, 'reg_lambda': 64.71876740527412, 'reg_alpha': 0.7021569829738796}. Best is trial 235 with value: -2.0981628140108084.\u001b[0m\n"
     ]
    },
    {
     "name": "stdout",
     "output_type": "stream",
     "text": [
      "[-2.11892759 -2.22918076 -2.27833808 -2.45706417 -3.02177662]\n"
     ]
    },
    {
     "name": "stderr",
     "output_type": "stream",
     "text": [
      "\u001b[32m[I 2021-05-08 10:03:33,849]\u001b[0m Trial 280 finished with value: -3.151773892649898 and parameters: {'eta': 0.038895882582379755, 'gamma': 3.7874777771151984e-05, 'max_depth': 3, 'min_child_weight': 2.0479256964860997e-08, 'subsample': 0.4029253606000157, 'reg_lambda': 17.812635504549302, 'reg_alpha': 34.265997853204645}. Best is trial 235 with value: -2.0981628140108084.\u001b[0m\n"
     ]
    },
    {
     "name": "stdout",
     "output_type": "stream",
     "text": [
      "[-2.59876209 -2.98295959 -3.4707313  -2.99287144 -3.71354505]\n"
     ]
    },
    {
     "name": "stderr",
     "output_type": "stream",
     "text": [
      "\u001b[32m[I 2021-05-08 10:03:34,185]\u001b[0m Trial 281 finished with value: -21.343844836542267 and parameters: {'eta': 1.1775042962401652e-08, 'gamma': 6.154542687167717e-08, 'max_depth': 4, 'min_child_weight': 5.788099471950709e-08, 'subsample': 0.4239845759249433, 'reg_lambda': 37.327929084084204, 'reg_alpha': 19.106260419662235}. Best is trial 235 with value: -2.0981628140108084.\u001b[0m\n"
     ]
    },
    {
     "name": "stdout",
     "output_type": "stream",
     "text": [
      "[-20.25430176 -22.21603002 -20.75923988 -21.32467187 -22.16498066]\n"
     ]
    },
    {
     "name": "stderr",
     "output_type": "stream",
     "text": [
      "\u001b[32m[I 2021-05-08 10:03:34,670]\u001b[0m Trial 282 finished with value: -2.587811154236028 and parameters: {'eta': 0.09557536960954037, 'gamma': 2.955108203393359e-06, 'max_depth': 18, 'min_child_weight': 1.0013385915780555e-08, 'subsample': 0.5502315423302796, 'reg_lambda': 0.7676654879567097, 'reg_alpha': 54.09000928865842}. Best is trial 235 with value: -2.0981628140108084.\u001b[0m\n"
     ]
    },
    {
     "name": "stdout",
     "output_type": "stream",
     "text": [
      "[-1.97435612 -2.49911744 -2.66072669 -2.64031123 -3.16454429]\n"
     ]
    },
    {
     "name": "stderr",
     "output_type": "stream",
     "text": [
      "\u001b[32m[I 2021-05-08 10:03:35,575]\u001b[0m Trial 283 finished with value: -2.152954112359035 and parameters: {'eta': 0.1363450873598467, 'gamma': 6.124701474058034e-07, 'max_depth': 16, 'min_child_weight': 2.8417392241971784e-08, 'subsample': 0.4998355138245269, 'reg_lambda': 0.44509366740298517, 'reg_alpha': 0.612176561056847}. Best is trial 235 with value: -2.0981628140108084.\u001b[0m\n"
     ]
    },
    {
     "name": "stdout",
     "output_type": "stream",
     "text": [
      "[-1.76808149 -1.79888413 -2.16406677 -2.33516882 -2.69856936]\n"
     ]
    },
    {
     "name": "stderr",
     "output_type": "stream",
     "text": [
      "\u001b[32m[I 2021-05-08 10:03:36,201]\u001b[0m Trial 284 finished with value: -2.295549033035466 and parameters: {'eta': 0.13977465646012097, 'gamma': 6.105253627618547e-07, 'max_depth': 16, 'min_child_weight': 1.5236779635423644e-08, 'subsample': 0.5002137352847538, 'reg_lambda': 1.0009711265863177, 'reg_alpha': 19.239306223907565}. Best is trial 235 with value: -2.0981628140108084.\u001b[0m\n"
     ]
    },
    {
     "name": "stdout",
     "output_type": "stream",
     "text": [
      "[-1.58689363 -2.24163972 -2.33497574 -2.5841928  -2.73004328]\n"
     ]
    },
    {
     "name": "stderr",
     "output_type": "stream",
     "text": [
      "\u001b[32m[I 2021-05-08 10:03:36,659]\u001b[0m Trial 285 finished with value: -3.528825580602811 and parameters: {'eta': 0.13158127303329517, 'gamma': 7.342684315203364e-07, 'max_depth': 16, 'min_child_weight': 1.53702683658942e-08, 'subsample': 0.5126642849935278, 'reg_lambda': 17.69273152526569, 'reg_alpha': 255.3782110534144}. Best is trial 235 with value: -2.0981628140108084.\u001b[0m\n"
     ]
    },
    {
     "name": "stdout",
     "output_type": "stream",
     "text": [
      "[-3.02886062 -3.25318909 -3.76947452 -3.50292809 -4.08967558]\n"
     ]
    },
    {
     "name": "stderr",
     "output_type": "stream",
     "text": [
      "\u001b[32m[I 2021-05-08 10:03:37,290]\u001b[0m Trial 286 finished with value: -2.7293424131840838 and parameters: {'eta': 0.15042210114813065, 'gamma': 6.034024550451384e-07, 'max_depth': 17, 'min_child_weight': 1.772239541025477e-08, 'subsample': 0.4935330842307321, 'reg_lambda': 0.278326173867121, 'reg_alpha': 80.5982507694135}. Best is trial 235 with value: -2.0981628140108084.\u001b[0m\n"
     ]
    },
    {
     "name": "stdout",
     "output_type": "stream",
     "text": [
      "[-2.11862261 -2.52254839 -2.72069606 -2.80164469 -3.48320031]\n"
     ]
    },
    {
     "name": "stderr",
     "output_type": "stream",
     "text": [
      "\u001b[32m[I 2021-05-08 10:03:37,899]\u001b[0m Trial 287 finished with value: -3.9539422800864705 and parameters: {'eta': 0.2015062076206213, 'gamma': 1.3034828341978644e-06, 'max_depth': 16, 'min_child_weight': 1.002352407443891e-08, 'subsample': 0.47587347514129297, 'reg_lambda': 0.5507799014915137, 'reg_alpha': 386.2027490379341}. Best is trial 235 with value: -2.0981628140108084.\u001b[0m\n"
     ]
    },
    {
     "name": "stdout",
     "output_type": "stream",
     "text": [
      "[-3.22361502 -3.79301424 -4.35193949 -4.20157084 -4.19957181]\n"
     ]
    },
    {
     "name": "stderr",
     "output_type": "stream",
     "text": [
      "\u001b[32m[I 2021-05-08 10:03:39,780]\u001b[0m Trial 288 finished with value: -19.3468610940399 and parameters: {'eta': 0.0010271482836545318, 'gamma': 3.5517238073836966e-07, 'max_depth': 16, 'min_child_weight': 2.8621973667674294e-08, 'subsample': 0.5035865742573432, 'reg_lambda': 0.7518701337140647, 'reg_alpha': 32.83725310006828}. Best is trial 235 with value: -2.0981628140108084.\u001b[0m\n"
     ]
    },
    {
     "name": "stdout",
     "output_type": "stream",
     "text": [
      "[-18.35551383 -20.18790359 -18.79941436 -19.2662077  -20.12526599]\n"
     ]
    },
    {
     "name": "stderr",
     "output_type": "stream",
     "text": [
      "\u001b[32m[I 2021-05-08 10:03:41,505]\u001b[0m Trial 289 finished with value: -2.5772079139050144 and parameters: {'eta': 0.11143425662427994, 'gamma': 5.734461365250763e-07, 'max_depth': 15, 'min_child_weight': 1.4155603617410008e-08, 'subsample': 0.5265819595144215, 'reg_lambda': 31.322058364867942, 'reg_alpha': 18.366822734344783}. Best is trial 235 with value: -2.0981628140108084.\u001b[0m\n"
     ]
    },
    {
     "name": "stdout",
     "output_type": "stream",
     "text": [
      "[-2.18466221 -2.38101302 -2.49139945 -2.57532992 -3.25363497]\n"
     ]
    },
    {
     "name": "stderr",
     "output_type": "stream",
     "text": [
      "\u001b[32m[I 2021-05-08 10:03:42,367]\u001b[0m Trial 290 finished with value: -2.1499202407789824 and parameters: {'eta': 0.08632959397838344, 'gamma': 4.811320784249871e-07, 'max_depth': 16, 'min_child_weight': 2.3869499457937097e-08, 'subsample': 0.46672438335084016, 'reg_lambda': 0.06508950710160011, 'reg_alpha': 0.4399500472725748}. Best is trial 235 with value: -2.0981628140108084.\u001b[0m\n"
     ]
    },
    {
     "name": "stdout",
     "output_type": "stream",
     "text": [
      "[-1.84775531 -1.86772912 -2.04619873 -2.34734179 -2.64057626]\n"
     ]
    },
    {
     "name": "stderr",
     "output_type": "stream",
     "text": [
      "\u001b[32m[I 2021-05-08 10:03:43,302]\u001b[0m Trial 291 finished with value: -2.3967686945067515 and parameters: {'eta': 0.08343999033413818, 'gamma': 2.69471935744651e-07, 'max_depth': 17, 'min_child_weight': 2.3974557564618447e-08, 'subsample': 0.4522251223127084, 'reg_lambda': 19.323599661471413, 'reg_alpha': 0.08256890873151276}. Best is trial 235 with value: -2.0981628140108084.\u001b[0m\n"
     ]
    },
    {
     "name": "stdout",
     "output_type": "stream",
     "text": [
      "[-1.8515075  -2.17013041 -2.33041417 -2.47980451 -3.15198688]\n"
     ]
    },
    {
     "name": "stderr",
     "output_type": "stream",
     "text": [
      "\u001b[32m[I 2021-05-08 10:03:44,581]\u001b[0m Trial 292 finished with value: -2.620696679174164 and parameters: {'eta': 0.05291656801104399, 'gamma': 2.156887017188039e-07, 'max_depth': 16, 'min_child_weight': 3.1029954703082635e-08, 'subsample': 0.4688513116339194, 'reg_lambda': 0.699129977241723, 'reg_alpha': 47.98935970349743}. Best is trial 235 with value: -2.0981628140108084.\u001b[0m\n"
     ]
    },
    {
     "name": "stdout",
     "output_type": "stream",
     "text": [
      "[-2.07802104 -2.56866585 -2.65433897 -2.59278725 -3.20967029]\n"
     ]
    },
    {
     "name": "stderr",
     "output_type": "stream",
     "text": [
      "\u001b[32m[I 2021-05-08 10:03:46,055]\u001b[0m Trial 293 finished with value: -4.1542102560997005 and parameters: {'eta': 0.02905731789753591, 'gamma': 4.6204561458700014e-07, 'max_depth': 15, 'min_child_weight': 2.2339230828822026e-08, 'subsample': 0.4285423552169703, 'reg_lambda': 40.60357124783799, 'reg_alpha': 1.1656827782056465}. Best is trial 235 with value: -2.0981628140108084.\u001b[0m\n"
     ]
    },
    {
     "name": "stdout",
     "output_type": "stream",
     "text": [
      "[-3.50692934 -4.14463152 -4.44098182 -4.20683963 -4.47166898]\n"
     ]
    },
    {
     "name": "stderr",
     "output_type": "stream",
     "text": [
      "\u001b[32m[I 2021-05-08 10:03:49,533]\u001b[0m Trial 294 finished with value: -2.359762493033468 and parameters: {'eta': 0.09505963682897203, 'gamma': 1.4710562060834723e-07, 'max_depth': 14, 'min_child_weight': 1.002480646239803e-08, 'subsample': 0.4852458069503374, 'reg_lambda': 18.82899949926354, 'reg_alpha': 0.1301018016613218}. Best is trial 235 with value: -2.0981628140108084.\u001b[0m\n"
     ]
    },
    {
     "name": "stdout",
     "output_type": "stream",
     "text": [
      "[-1.98820258 -2.1370691  -2.16995256 -2.45601758 -3.04757065]\n"
     ]
    },
    {
     "name": "stderr",
     "output_type": "stream",
     "text": [
      "\u001b[32m[I 2021-05-08 10:03:51,905]\u001b[0m Trial 295 finished with value: -2.5914519334663577 and parameters: {'eta': 0.20788409991670648, 'gamma': 3.413715942300683e-07, 'max_depth': 15, 'min_child_weight': 7.600515137575995e-06, 'subsample': 0.4424048529094377, 'reg_lambda': 18.45510852489973, 'reg_alpha': 33.97921873973927}. Best is trial 235 with value: -2.0981628140108084.\u001b[0m\n"
     ]
    },
    {
     "name": "stdout",
     "output_type": "stream",
     "text": [
      "[-2.10553736 -2.40966212 -2.5181346  -2.69576956 -3.22815604]\n"
     ]
    },
    {
     "name": "stderr",
     "output_type": "stream",
     "text": [
      "\u001b[32m[I 2021-05-08 10:03:54,087]\u001b[0m Trial 296 finished with value: -2.374939219716155 and parameters: {'eta': 0.07101181898418839, 'gamma': 8.783494996098633e-07, 'max_depth': 16, 'min_child_weight': 1.3325898723821116e-05, 'subsample': 0.5555265123827249, 'reg_lambda': 0.030073512516589407, 'reg_alpha': 18.83880444224107}. Best is trial 235 with value: -2.0981628140108084.\u001b[0m\n"
     ]
    },
    {
     "name": "stdout",
     "output_type": "stream",
     "text": [
      "[-1.94170359 -2.15324716 -2.2757076  -2.59032178 -2.91371597]\n"
     ]
    },
    {
     "name": "stderr",
     "output_type": "stream",
     "text": [
      "\u001b[32m[I 2021-05-08 10:03:54,988]\u001b[0m Trial 297 finished with value: -2.4084910011468113 and parameters: {'eta': 0.13370197452421603, 'gamma': 1.816196062629146e-07, 'max_depth': 12, 'min_child_weight': 3.668071875450355e-08, 'subsample': 0.5342787094687359, 'reg_lambda': 39.448983589748686, 'reg_alpha': 0.3050740734112339}. Best is trial 235 with value: -2.0981628140108084.\u001b[0m\n"
     ]
    },
    {
     "name": "stdout",
     "output_type": "stream",
     "text": [
      "[-2.04118088 -2.18654892 -2.2048639  -2.4358515  -3.17400981]\n"
     ]
    },
    {
     "name": "stderr",
     "output_type": "stream",
     "text": [
      "\u001b[32m[I 2021-05-08 10:03:55,702]\u001b[0m Trial 298 finished with value: -3.210705332879667 and parameters: {'eta': 0.04671991870630444, 'gamma': 4.6443344257330116e-08, 'max_depth': 13, 'min_child_weight': 2.067960974902144e-08, 'subsample': 0.46550245354576997, 'reg_lambda': 22.50362280946182, 'reg_alpha': 68.62258034627887}. Best is trial 235 with value: -2.0981628140108084.\u001b[0m\n"
     ]
    },
    {
     "name": "stdout",
     "output_type": "stream",
     "text": [
      "[-2.75638523 -3.01442945 -3.43211577 -3.04575009 -3.80484612]\n"
     ]
    },
    {
     "name": "stderr",
     "output_type": "stream",
     "text": [
      "\u001b[32m[I 2021-05-08 10:03:56,413]\u001b[0m Trial 299 finished with value: -2.6584610658280647 and parameters: {'eta': 0.19671570087534274, 'gamma': 2.2496441761604453e-08, 'max_depth': 14, 'min_child_weight': 1.828235597427484e-07, 'subsample': 0.5693696611033009, 'reg_lambda': 52.603664326625776, 'reg_alpha': 46.32417413520182}. Best is trial 235 with value: -2.0981628140108084.\u001b[0m\n"
     ]
    },
    {
     "name": "stdout",
     "output_type": "stream",
     "text": [
      "[-2.15054133 -2.64506869 -2.52238211 -2.65506158 -3.31925161]\n"
     ]
    },
    {
     "name": "stderr",
     "output_type": "stream",
     "text": [
      "\u001b[32m[I 2021-05-08 10:03:57,065]\u001b[0m Trial 300 finished with value: -2.505463041929551 and parameters: {'eta': 0.09763596481539126, 'gamma': 2.8953211989947136e-07, 'max_depth': 15, 'min_child_weight': 8.510672703089965e-08, 'subsample': 0.5144818771551982, 'reg_lambda': 17.18096232750151, 'reg_alpha': 20.269804945327166}. Best is trial 235 with value: -2.0981628140108084.\u001b[0m\n"
     ]
    },
    {
     "name": "stdout",
     "output_type": "stream",
     "text": [
      "[-2.11263559 -2.28357029 -2.49727227 -2.53801088 -3.09582618]\n"
     ]
    },
    {
     "name": "stderr",
     "output_type": "stream",
     "text": [
      "\u001b[32m[I 2021-05-08 10:03:58,203]\u001b[0m Trial 301 finished with value: -2.2598820609457695 and parameters: {'eta': 0.16131127165611125, 'gamma': 1.1341227282822347e-07, 'max_depth': 17, 'min_child_weight': 3.0945830300310525e-08, 'subsample': 0.48257751857802983, 'reg_lambda': 1.3191431157163365, 'reg_alpha': 0.0767955944701223}. Best is trial 235 with value: -2.0981628140108084.\u001b[0m\n"
     ]
    },
    {
     "name": "stdout",
     "output_type": "stream",
     "text": [
      "[-1.86708492 -1.98897543 -2.02094088 -2.59373682 -2.82867225]\n"
     ]
    },
    {
     "name": "stderr",
     "output_type": "stream",
     "text": [
      "\u001b[32m[I 2021-05-08 10:03:58,911]\u001b[0m Trial 302 finished with value: -5.155880314096993 and parameters: {'eta': 0.06550851730103834, 'gamma': 1.1808307802272091e-07, 'max_depth': 18, 'min_child_weight': 1.3249602515037889e-08, 'subsample': 0.44385972491069675, 'reg_lambda': 346.1183042473302, 'reg_alpha': 15.321464810067942}. Best is trial 235 with value: -2.0981628140108084.\u001b[0m\n"
     ]
    },
    {
     "name": "stdout",
     "output_type": "stream",
     "text": [
      "[-4.28434508 -5.18256947 -5.34960987 -5.51324406 -5.4496331 ]\n"
     ]
    },
    {
     "name": "stderr",
     "output_type": "stream",
     "text": [
      "\u001b[32m[I 2021-05-08 10:03:59,863]\u001b[0m Trial 303 finished with value: -2.35028454679913 and parameters: {'eta': 0.4036083653074102, 'gamma': 2.1899437228061795e-07, 'max_depth': 17, 'min_child_weight': 2.0699794101252456e-08, 'subsample': 0.47322200187761715, 'reg_lambda': 34.02323438861727, 'reg_alpha': 0.39473495739962294}. Best is trial 235 with value: -2.0981628140108084.\u001b[0m\n"
     ]
    },
    {
     "name": "stdout",
     "output_type": "stream",
     "text": [
      "[-1.86602094 -2.37295813 -2.1505989  -2.64978992 -2.71205485]\n"
     ]
    },
    {
     "name": "stderr",
     "output_type": "stream",
     "text": [
      "\u001b[32m[I 2021-05-08 10:04:00,955]\u001b[0m Trial 304 finished with value: -2.4687664626380545 and parameters: {'eta': 0.23975796668075625, 'gamma': 1.6203189137214782e-07, 'max_depth': 4, 'min_child_weight': 1.2300511699141258e-07, 'subsample': 0.5861217109013552, 'reg_lambda': 0.005210424396513869, 'reg_alpha': 35.352807819620345}. Best is trial 235 with value: -2.0981628140108084.\u001b[0m\n"
     ]
    },
    {
     "name": "stdout",
     "output_type": "stream",
     "text": [
      "[-1.82183695 -2.3150861  -2.41403037 -2.68771156 -3.10516733]\n"
     ]
    },
    {
     "name": "stderr",
     "output_type": "stream",
     "text": [
      "\u001b[32m[I 2021-05-08 10:04:01,767]\u001b[0m Trial 305 finished with value: -2.2631188189424116 and parameters: {'eta': 0.1157387676812034, 'gamma': 8.582872203501337e-08, 'max_depth': 18, 'min_child_weight': 5.736530610027696e-08, 'subsample': 0.5391984634444716, 'reg_lambda': 1.3228436477695094, 'reg_alpha': 1.320163958141631}. Best is trial 235 with value: -2.0981628140108084.\u001b[0m\n"
     ]
    },
    {
     "name": "stdout",
     "output_type": "stream",
     "text": [
      "[-1.84084131 -1.90712662 -2.15643171 -2.58224197 -2.82895247]\n"
     ]
    },
    {
     "name": "stderr",
     "output_type": "stream",
     "text": [
      "\u001b[32m[I 2021-05-08 10:04:02,291]\u001b[0m Trial 306 finished with value: -2.9501122047989456 and parameters: {'eta': 0.037684739694019816, 'gamma': 9.455775570470337e-08, 'max_depth': 19, 'min_child_weight': 7.830868419797147e-08, 'subsample': 0.5363030309801788, 'reg_lambda': 20.397656344522517, 'reg_alpha': 3.185331714206619}. Best is trial 235 with value: -2.0981628140108084.\u001b[0m\n"
     ]
    },
    {
     "name": "stdout",
     "output_type": "stream",
     "text": [
      "[-2.45271407 -2.78399978 -3.1922669  -2.88462456 -3.43695572]\n"
     ]
    },
    {
     "name": "stderr",
     "output_type": "stream",
     "text": [
      "\u001b[32m[I 2021-05-08 10:04:02,594]\u001b[0m Trial 307 finished with value: -21.343786501204157 and parameters: {'eta': 5.136472792860465e-08, 'gamma': 6.585143827877e-08, 'max_depth': 18, 'min_child_weight': 4.0670050258568416e-08, 'subsample': 0.4939831018367082, 'reg_lambda': 63.75347385268036, 'reg_alpha': 0.21992476968564156}. Best is trial 235 with value: -2.0981628140108084.\u001b[0m\n"
     ]
    },
    {
     "name": "stdout",
     "output_type": "stream",
     "text": [
      "[-20.25424371 -22.21597204 -20.75918102 -21.32461333 -22.1649224 ]\n"
     ]
    },
    {
     "name": "stderr",
     "output_type": "stream",
     "text": [
      "\u001b[32m[I 2021-05-08 10:04:03,960]\u001b[0m Trial 308 finished with value: -2.5703330821990966 and parameters: {'eta': 0.10304725825380114, 'gamma': 9.920041475757567e-08, 'max_depth': 17, 'min_child_weight': 5.4304050873692876e-08, 'subsample': 0.41100568060686304, 'reg_lambda': 39.12222282632845, 'reg_alpha': 1.1458921506150483}. Best is trial 235 with value: -2.0981628140108084.\u001b[0m\n"
     ]
    },
    {
     "name": "stdout",
     "output_type": "stream",
     "text": [
      "[-2.12603002 -2.24257035 -2.43976883 -2.6384954  -3.40480081]\n"
     ]
    },
    {
     "name": "stderr",
     "output_type": "stream",
     "text": [
      "\u001b[32m[I 2021-05-08 10:04:04,577]\u001b[0m Trial 309 finished with value: -3.6289597886403397 and parameters: {'eta': 0.022635345157830663, 'gamma': 1.2726238097232854e-07, 'max_depth': 18, 'min_child_weight': 5.618964964088176e-08, 'subsample': 0.5148100612866386, 'reg_lambda': 1.935568146522082, 'reg_alpha': 34.16805084999285}. Best is trial 235 with value: -2.0981628140108084.\u001b[0m\n"
     ]
    },
    {
     "name": "stdout",
     "output_type": "stream",
     "text": [
      "[-3.23799092 -3.66019593 -3.77611376 -3.51239712 -3.95810121]\n"
     ]
    },
    {
     "name": "stderr",
     "output_type": "stream",
     "text": [
      "\u001b[32m[I 2021-05-08 10:04:04,945]\u001b[0m Trial 310 finished with value: -20.299811049646802 and parameters: {'eta': 0.0005859776164740113, 'gamma': 7.266567123320137e-08, 'max_depth': 18, 'min_child_weight': 1.3752834711917425e-07, 'subsample': 0.3873336604213611, 'reg_lambda': 15.733291340409178, 'reg_alpha': 0.4606687233926563}. Best is trial 235 with value: -2.0981628140108084.\u001b[0m\n"
     ]
    },
    {
     "name": "stdout",
     "output_type": "stream",
     "text": [
      "[-19.23587781 -21.14505659 -19.73616823 -20.27197211 -21.10998051]\n"
     ]
    },
    {
     "name": "stderr",
     "output_type": "stream",
     "text": [
      "\u001b[32m[I 2021-05-08 10:04:05,512]\u001b[0m Trial 311 finished with value: -2.432649410436183 and parameters: {'eta': 0.07486307576087012, 'gamma': 5.2508172982606325e-06, 'max_depth': 17, 'min_child_weight': 2.9220825396358335e-08, 'subsample': 0.4685441872279651, 'reg_lambda': 1.2621995280784573, 'reg_alpha': 21.13527729441261}. Best is trial 235 with value: -2.0981628140108084.\u001b[0m\n"
     ]
    },
    {
     "name": "stdout",
     "output_type": "stream",
     "text": [
      "[-1.79491851 -2.23125819 -2.41481554 -2.68375973 -3.03849508]\n"
     ]
    },
    {
     "name": "stderr",
     "output_type": "stream",
     "text": [
      "\u001b[32m[I 2021-05-08 10:04:06,332]\u001b[0m Trial 312 finished with value: -2.792346650370845 and parameters: {'eta': 0.05346896811549136, 'gamma': 3.7990120485579554e-07, 'max_depth': 17, 'min_child_weight': 7.057686581395565e-08, 'subsample': 0.5498121440701416, 'reg_lambda': 35.0835764911576, 'reg_alpha': 0.2002781755527363}. Best is trial 235 with value: -2.0981628140108084.\u001b[0m\n"
     ]
    },
    {
     "name": "stdout",
     "output_type": "stream",
     "text": [
      "[-2.24651419 -2.59451959 -2.93166324 -2.76351875 -3.42551747]\n"
     ]
    },
    {
     "name": "stderr",
     "output_type": "stream",
     "text": [
      "\u001b[32m[I 2021-05-08 10:04:06,912]\u001b[0m Trial 313 finished with value: -2.6861550607563536 and parameters: {'eta': 0.13138193318333935, 'gamma': 5.492669060587401e-08, 'max_depth': 19, 'min_child_weight': 3.855678322379586e-08, 'subsample': 0.4351426814630135, 'reg_lambda': 16.673919322473512, 'reg_alpha': 51.65892318409515}. Best is trial 235 with value: -2.0981628140108084.\u001b[0m\n"
     ]
    },
    {
     "name": "stdout",
     "output_type": "stream",
     "text": [
      "[-2.1686311  -2.46636871 -2.56425159 -2.77168024 -3.45984367]\n"
     ]
    },
    {
     "name": "stderr",
     "output_type": "stream",
     "text": [
      "\u001b[32m[I 2021-05-08 10:04:07,916]\u001b[0m Trial 314 finished with value: -2.170517118824853 and parameters: {'eta': 0.08635710342858305, 'gamma': 8.563753619052545e-08, 'max_depth': 14, 'min_child_weight': 9.298800205761973e-08, 'subsample': 0.4548269953035871, 'reg_lambda': 1.0200043787601378, 'reg_alpha': 0.7816367462942113}. Best is trial 235 with value: -2.0981628140108084.\u001b[0m\n"
     ]
    },
    {
     "name": "stdout",
     "output_type": "stream",
     "text": [
      "[-1.67567639 -1.97313456 -2.04177507 -2.49703275 -2.66496682]\n"
     ]
    },
    {
     "name": "stderr",
     "output_type": "stream",
     "text": [
      "\u001b[32m[I 2021-05-08 10:04:08,512]\u001b[0m Trial 315 finished with value: -2.535190925274366 and parameters: {'eta': 0.07588520503917856, 'gamma': 7.592604239381992e-08, 'max_depth': 14, 'min_child_weight': 1.0450763706543454e-07, 'subsample': 0.427547246766927, 'reg_lambda': 1.1590452882157325, 'reg_alpha': 30.38274785274402}. Best is trial 235 with value: -2.0981628140108084.\u001b[0m\n"
     ]
    },
    {
     "name": "stdout",
     "output_type": "stream",
     "text": [
      "[-2.04602764 -2.36323454 -2.51096668 -2.61473468 -3.14099108]\n"
     ]
    },
    {
     "name": "stderr",
     "output_type": "stream",
     "text": [
      "\u001b[32m[I 2021-05-08 10:04:09,070]\u001b[0m Trial 316 finished with value: -21.288028584246284 and parameters: {'eta': 2.6924120594973147e-05, 'gamma': 3.950193834146185e-08, 'max_depth': 13, 'min_child_weight': 1.7219105585330724e-07, 'subsample': 0.4497471256769031, 'reg_lambda': 0.45753799147213503, 'reg_alpha': 0.07521421916616555}. Best is trial 235 with value: -2.0981628140108084.\u001b[0m\n"
     ]
    },
    {
     "name": "stdout",
     "output_type": "stream",
     "text": [
      "[-20.20175382 -22.15849722 -20.70421008 -21.26779655 -22.10788525]\n"
     ]
    },
    {
     "name": "stderr",
     "output_type": "stream",
     "text": [
      "\u001b[32m[I 2021-05-08 10:04:09,522]\u001b[0m Trial 317 finished with value: -3.915294107160451 and parameters: {'eta': 0.034737209471309226, 'gamma': 2.417024920708337e-05, 'max_depth': 20, 'min_child_weight': 2.679279550909335e-07, 'subsample': 0.4578749542339801, 'reg_lambda': 51.79383380275774, 'reg_alpha': 22.398347881070514}. Best is trial 235 with value: -2.0981628140108084.\u001b[0m\n"
     ]
    },
    {
     "name": "stdout",
     "output_type": "stream",
     "text": [
      "[-3.24821697 -3.85754088 -4.2411654  -4.01245959 -4.2170877 ]\n"
     ]
    },
    {
     "name": "stderr",
     "output_type": "stream",
     "text": [
      "\u001b[32m[I 2021-05-08 10:04:10,061]\u001b[0m Trial 318 finished with value: -2.8272473346804396 and parameters: {'eta': 0.05252400292212858, 'gamma': 1.9050737239452772e-06, 'max_depth': 14, 'min_child_weight': 9.0659427330906e-08, 'subsample': 0.49410000910183915, 'reg_lambda': 31.239750123886637, 'reg_alpha': 0.06324784331547939}. Best is trial 235 with value: -2.0981628140108084.\u001b[0m\n"
     ]
    },
    {
     "name": "stdout",
     "output_type": "stream",
     "text": [
      "[-2.33708216 -2.53457979 -2.9874503  -2.77553857 -3.50158586]\n"
     ]
    },
    {
     "name": "stderr",
     "output_type": "stream",
     "text": [
      "\u001b[32m[I 2021-05-08 10:04:10,777]\u001b[0m Trial 319 finished with value: -2.384521442825412 and parameters: {'eta': 0.1255014781880887, 'gamma': 1.0705762666911791e-07, 'max_depth': 14, 'min_child_weight': 1.1054272982159596e-07, 'subsample': 0.4789377214077759, 'reg_lambda': 20.694770868988243, 'reg_alpha': 0.24782817729494047}. Best is trial 235 with value: -2.0981628140108084.\u001b[0m\n"
     ]
    },
    {
     "name": "stdout",
     "output_type": "stream",
     "text": [
      "[-2.06392884 -2.21447085 -2.08625811 -2.63001547 -2.92793394]\n"
     ]
    },
    {
     "name": "stderr",
     "output_type": "stream",
     "text": [
      "\u001b[32m[I 2021-05-08 10:04:11,238]\u001b[0m Trial 320 finished with value: -2.640785276106846 and parameters: {'eta': 0.09181317055492862, 'gamma': 5.469393180535811e-08, 'max_depth': 13, 'min_child_weight': 6.269912839770195e-08, 'subsample': 0.46198406902021527, 'reg_lambda': 0.3532747091233547, 'reg_alpha': 49.13748181213366}. Best is trial 235 with value: -2.0981628140108084.\u001b[0m\n"
     ]
    },
    {
     "name": "stdout",
     "output_type": "stream",
     "text": [
      "[-2.15935726 -2.48288094 -2.51948192 -2.73567132 -3.30653494]\n"
     ]
    },
    {
     "name": "stderr",
     "output_type": "stream",
     "text": [
      "\u001b[32m[I 2021-05-08 10:04:11,775]\u001b[0m Trial 321 finished with value: -2.374662092144107 and parameters: {'eta': 0.07961740542492662, 'gamma': 7.729783838702806e-08, 'max_depth': 16, 'min_child_weight': 0.0007309071190037877, 'subsample': 0.41794525240267794, 'reg_lambda': 0.240437996711101, 'reg_alpha': 19.029460263861484}. Best is trial 235 with value: -2.0981628140108084.\u001b[0m\n"
     ]
    },
    {
     "name": "stdout",
     "output_type": "stream",
     "text": [
      "[-1.81939609 -2.15156202 -2.36462572 -2.6530854  -2.88464123]\n"
     ]
    },
    {
     "name": "stderr",
     "output_type": "stream",
     "text": [
      "\u001b[32m[I 2021-05-08 10:04:12,629]\u001b[0m Trial 322 finished with value: -2.652814492266855 and parameters: {'eta': 0.13972480789521377, 'gamma': 1.371060293719206e-07, 'max_depth': 12, 'min_child_weight': 2.465706143404663e-08, 'subsample': 0.5105790443716254, 'reg_lambda': 48.592750556614824, 'reg_alpha': 38.43538436055743}. Best is trial 235 with value: -2.0981628140108084.\u001b[0m\n"
     ]
    },
    {
     "name": "stdout",
     "output_type": "stream",
     "text": [
      "[-2.19968261 -2.48118916 -2.62680261 -2.58592931 -3.37046877]\n"
     ]
    },
    {
     "name": "stderr",
     "output_type": "stream",
     "text": [
      "\u001b[32m[I 2021-05-08 10:04:13,434]\u001b[0m Trial 323 finished with value: -6.331380525865673 and parameters: {'eta': 0.05265873179905734, 'gamma': 3.118481456310213e-08, 'max_depth': 14, 'min_child_weight': 1.4297720777508854e-07, 'subsample': 0.4854876734025341, 'reg_lambda': 20.014169668612503, 'reg_alpha': 854.9225189324268}. Best is trial 235 with value: -2.0981628140108084.\u001b[0m\n"
     ]
    },
    {
     "name": "stdout",
     "output_type": "stream",
     "text": [
      "[-5.35542876 -6.64870931 -6.31892774 -6.688248   -6.64558882]\n"
     ]
    },
    {
     "name": "stderr",
     "output_type": "stream",
     "text": [
      "\u001b[32m[I 2021-05-08 10:04:14,816]\u001b[0m Trial 324 finished with value: -2.9663659648306577 and parameters: {'eta': 0.09849084001748229, 'gamma': 2.3234130094430503e-07, 'max_depth': 15, 'min_child_weight': 1.0067055518418925e-08, 'subsample': 0.5897162020470261, 'reg_lambda': 66.61431494863332, 'reg_alpha': 65.41653192462991}. Best is trial 235 with value: -2.0981628140108084.\u001b[0m\n"
     ]
    },
    {
     "name": "stdout",
     "output_type": "stream",
     "text": [
      "[-2.49736302 -2.73681514 -3.07147324 -2.92088327 -3.60529515]\n"
     ]
    },
    {
     "name": "stderr",
     "output_type": "stream",
     "text": [
      "\u001b[32m[I 2021-05-08 10:04:15,287]\u001b[0m Trial 325 finished with value: -6.050842630545299 and parameters: {'eta': 0.13378736779530848, 'gamma': 8.530809283992343e-08, 'max_depth': 16, 'min_child_weight': 1.7612513480415416e-08, 'subsample': 0.35554657520000477, 'reg_lambda': 0.43648960742082527, 'reg_alpha': 684.3596815766965}. Best is trial 235 with value: -2.0981628140108084.\u001b[0m\n"
     ]
    },
    {
     "name": "stdout",
     "output_type": "stream",
     "text": [
      "[-5.11697828 -6.31763479 -6.0207758  -6.38108024 -6.41774404]\n"
     ]
    },
    {
     "name": "stderr",
     "output_type": "stream",
     "text": [
      "\u001b[32m[I 2021-05-08 10:04:15,752]\u001b[0m Trial 326 finished with value: -3.29094678947072 and parameters: {'eta': 0.03933461711630415, 'gamma': 1.3570383604884684e-05, 'max_depth': 14, 'min_child_weight': 3.697098389972005e-07, 'subsample': 0.4432534616561955, 'reg_lambda': 35.18557581833802, 'reg_alpha': 0.12012227705226652}. Best is trial 235 with value: -2.0981628140108084.\u001b[0m\n"
     ]
    },
    {
     "name": "stdout",
     "output_type": "stream",
     "text": [
      "[-2.69514654 -3.18095206 -3.59106518 -3.20521839 -3.78235177]\n"
     ]
    },
    {
     "name": "stderr",
     "output_type": "stream",
     "text": [
      "\u001b[32m[I 2021-05-08 10:04:16,186]\u001b[0m Trial 327 finished with value: -5.329297274442366 and parameters: {'eta': 0.015510850325705868, 'gamma': 1.1808566443558623e-07, 'max_depth': 18, 'min_child_weight': 5.581224694236737e-08, 'subsample': 0.39978398921124914, 'reg_lambda': 0.7080231845894822, 'reg_alpha': 20.197691055333998}. Best is trial 235 with value: -2.0981628140108084.\u001b[0m\n"
     ]
    },
    {
     "name": "stdout",
     "output_type": "stream",
     "text": [
      "[-4.94067337 -5.62675907 -5.30791818 -5.13943654 -5.63169921]\n"
     ]
    },
    {
     "name": "stderr",
     "output_type": "stream",
     "text": [
      "\u001b[32m[I 2021-05-08 10:04:16,849]\u001b[0m Trial 328 finished with value: -2.531283572903386 and parameters: {'eta': 0.06118535754707442, 'gamma': 4.4861854794706995e-07, 'max_depth': 13, 'min_child_weight': 1.0005164222373836e-08, 'subsample': 0.4749883821841615, 'reg_lambda': 20.38401078279153, 'reg_alpha': 0.4204968456146164}. Best is trial 235 with value: -2.0981628140108084.\u001b[0m\n"
     ]
    },
    {
     "name": "stdout",
     "output_type": "stream",
     "text": [
      "[-2.06467428 -2.30041081 -2.61070468 -2.4462547  -3.23437339]\n"
     ]
    },
    {
     "name": "stderr",
     "output_type": "stream",
     "text": [
      "\u001b[32m[I 2021-05-08 10:04:17,473]\u001b[0m Trial 329 finished with value: -2.5987377488230483 and parameters: {'eta': 0.17508288611884595, 'gamma': 5.32785138090575e-08, 'max_depth': 15, 'min_child_weight': 2.9352856417695953e-08, 'subsample': 0.5216698171565756, 'reg_lambda': 41.41029832480072, 'reg_alpha': 36.510488866878674}. Best is trial 235 with value: -2.0981628140108084.\u001b[0m\n"
     ]
    },
    {
     "name": "stdout",
     "output_type": "stream",
     "text": [
      "[-2.23107078 -2.45250999 -2.3961847  -2.6590366  -3.25488668]\n"
     ]
    },
    {
     "name": "stderr",
     "output_type": "stream",
     "text": [
      "\u001b[32m[I 2021-05-08 10:04:18,158]\u001b[0m Trial 330 finished with value: -2.4372471052982188 and parameters: {'eta': 0.09929140969917334, 'gamma': 2.6771035672414623e-07, 'max_depth': 17, 'min_child_weight': 8.529624139005379e-08, 'subsample': 0.5642935513344464, 'reg_lambda': 20.191379476464547, 'reg_alpha': 17.01077913719253}. Best is trial 235 with value: -2.0981628140108084.\u001b[0m\n"
     ]
    },
    {
     "name": "stdout",
     "output_type": "stream",
     "text": [
      "[-2.00800177 -2.34327802 -2.29238703 -2.44229627 -3.10027244]\n"
     ]
    },
    {
     "name": "stderr",
     "output_type": "stream",
     "text": [
      "\u001b[32m[I 2021-05-08 10:04:18,810]\u001b[0m Trial 331 finished with value: -2.562072979409018 and parameters: {'eta': 0.07248633602682313, 'gamma': 3.5687088757435915e-08, 'max_depth': 11, 'min_child_weight': 2.0684312393135494e-07, 'subsample': 0.6167278373487065, 'reg_lambda': 17.08564625850707, 'reg_alpha': 18.586921457619333}. Best is trial 235 with value: -2.0981628140108084.\u001b[0m\n"
     ]
    },
    {
     "name": "stdout",
     "output_type": "stream",
     "text": [
      "[-2.05293295 -2.49697111 -2.52196234 -2.49414877 -3.24434973]\n"
     ]
    },
    {
     "name": "stderr",
     "output_type": "stream",
     "text": [
      "\u001b[32m[I 2021-05-08 10:04:19,939]\u001b[0m Trial 332 finished with value: -2.3586919149469447 and parameters: {'eta': 0.33086052548597733, 'gamma': 1.4843851148800593e-07, 'max_depth': 13, 'min_child_weight': 0.00021459507733051709, 'subsample': 0.503284186808455, 'reg_lambda': 0.1194691482507153, 'reg_alpha': 1.2667773306320584}. Best is trial 235 with value: -2.0981628140108084.\u001b[0m\n"
     ]
    },
    {
     "name": "stdout",
     "output_type": "stream",
     "text": [
      "[-2.09909366 -2.09134539 -2.16997985 -2.40092943 -3.03211124]\n"
     ]
    },
    {
     "name": "stderr",
     "output_type": "stream",
     "text": [
      "\u001b[32m[I 2021-05-08 10:04:20,399]\u001b[0m Trial 333 finished with value: -3.1424531624111127 and parameters: {'eta': 0.028117367515538734, 'gamma': 8.435311117527665e-08, 'max_depth': 5, 'min_child_weight': 4.250859855202877e-08, 'subsample': 0.4630748820068009, 'reg_lambda': 0.42956415019363736, 'reg_alpha': 50.35387732545659}. Best is trial 235 with value: -2.0981628140108084.\u001b[0m\n"
     ]
    },
    {
     "name": "stdout",
     "output_type": "stream",
     "text": [
      "[-2.68085129 -3.03960136 -3.379018   -3.05651676 -3.5562784 ]\n"
     ]
    },
    {
     "name": "stderr",
     "output_type": "stream",
     "text": [
      "\u001b[32m[I 2021-05-08 10:04:21,491]\u001b[0m Trial 334 finished with value: -2.4071463061026583 and parameters: {'eta': 0.18135225255246734, 'gamma': 1.7868278207319555e-07, 'max_depth': 16, 'min_child_weight': 1.7189524986457476e-08, 'subsample': 0.538405151579123, 'reg_lambda': 73.46760553988696, 'reg_alpha': 0.9284799439800673}. Best is trial 235 with value: -2.0981628140108084.\u001b[0m\n"
     ]
    },
    {
     "name": "stdout",
     "output_type": "stream",
     "text": [
      "[-1.96491111 -2.3021095  -2.27606882 -2.40889943 -3.08374267]\n"
     ]
    },
    {
     "name": "stderr",
     "output_type": "stream",
     "text": [
      "\u001b[32m[I 2021-05-08 10:04:22,065]\u001b[0m Trial 335 finished with value: -2.6694857681710045 and parameters: {'eta': 0.12828842657035444, 'gamma': 5.55602113217034e-05, 'max_depth': 14, 'min_child_weight': 2.331570673771152e-08, 'subsample': 0.4315821792461186, 'reg_lambda': 36.11323851638961, 'reg_alpha': 31.91758673153467}. Best is trial 235 with value: -2.0981628140108084.\u001b[0m\n"
     ]
    },
    {
     "name": "stdout",
     "output_type": "stream",
     "text": [
      "[-2.2106112  -2.41551951 -2.59984417 -2.68735239 -3.43410156]\n"
     ]
    },
    {
     "name": "stderr",
     "output_type": "stream",
     "text": [
      "\u001b[32m[I 2021-05-08 10:04:22,459]\u001b[0m Trial 336 finished with value: -2.4590968671963536 and parameters: {'eta': 0.22874607069444056, 'gamma': 1.0375510832088684e-07, 'max_depth': 2, 'min_child_weight': 1.389475835281137e-08, 'subsample': 0.5780987973547232, 'reg_lambda': 50.836843562309824, 'reg_alpha': 0.37019327231530774}. Best is trial 235 with value: -2.0981628140108084.\u001b[0m\n"
     ]
    },
    {
     "name": "stdout",
     "output_type": "stream",
     "text": [
      "[-1.93437697 -2.29329455 -2.45571282 -2.69798626 -2.91411374]\n"
     ]
    },
    {
     "name": "stderr",
     "output_type": "stream",
     "text": [
      "\u001b[32m[I 2021-05-08 10:04:23,118]\u001b[0m Trial 337 finished with value: -2.5032141950984057 and parameters: {'eta': 0.09918322294414592, 'gamma': 9.679755463586495e-05, 'max_depth': 12, 'min_child_weight': 6.710543993594006e-08, 'subsample': 0.48992805504318593, 'reg_lambda': 16.68546583330304, 'reg_alpha': 16.790597607153405}. Best is trial 235 with value: -2.0981628140108084.\u001b[0m\n"
     ]
    },
    {
     "name": "stdout",
     "output_type": "stream",
     "text": [
      "[-2.11023186 -2.30730933 -2.53529215 -2.49019679 -3.07304084]\n"
     ]
    },
    {
     "name": "stderr",
     "output_type": "stream",
     "text": [
      "\u001b[32m[I 2021-05-08 10:04:24,205]\u001b[0m Trial 338 finished with value: -2.7693342109786143 and parameters: {'eta': 0.0608566520287219, 'gamma': 5.631593056042121e-08, 'max_depth': 16, 'min_child_weight': 3.514262157715582e-08, 'subsample': 0.45088926856779404, 'reg_lambda': 0.16661398424872564, 'reg_alpha': 79.08480669968804}. Best is trial 235 with value: -2.0981628140108084.\u001b[0m\n"
     ]
    },
    {
     "name": "stdout",
     "output_type": "stream",
     "text": [
      "[-2.26190694 -2.65440843 -2.75133813 -2.66636178 -3.51265578]\n"
     ]
    },
    {
     "name": "stderr",
     "output_type": "stream",
     "text": [
      "\u001b[32m[I 2021-05-08 10:04:24,740]\u001b[0m Trial 339 finished with value: -3.616440537382055 and parameters: {'eta': 0.15492910658625633, 'gamma': 9.390248402705329e-07, 'max_depth': 15, 'min_child_weight': 2.4772342447886897e-08, 'subsample': 0.519108620322355, 'reg_lambda': 450.6815066633672, 'reg_alpha': 36.516047597897284}. Best is trial 235 with value: -2.0981628140108084.\u001b[0m\n"
     ]
    },
    {
     "name": "stdout",
     "output_type": "stream",
     "text": [
      "[-2.98821364 -3.48078845 -4.00530223 -3.74776298 -3.8601354 ]\n"
     ]
    },
    {
     "name": "stderr",
     "output_type": "stream",
     "text": [
      "\u001b[32m[I 2021-05-08 10:04:25,348]\u001b[0m Trial 340 finished with value: -2.9070250138471154 and parameters: {'eta': 0.045753907835987095, 'gamma': 3.058907603529374e-07, 'max_depth': 14, 'min_child_weight': 1.0977964336239365e-07, 'subsample': 0.5988859462421594, 'reg_lambda': 32.88748472251903, 'reg_alpha': 0.01783702111774088}. Best is trial 235 with value: -2.0981628140108084.\u001b[0m\n"
     ]
    },
    {
     "name": "stdout",
     "output_type": "stream",
     "text": [
      "[-2.37242653 -2.76647361 -3.11442008 -2.72374528 -3.55805957]\n"
     ]
    },
    {
     "name": "stderr",
     "output_type": "stream",
     "text": [
      "\u001b[32m[I 2021-05-08 10:04:25,906]\u001b[0m Trial 341 finished with value: -2.504134031142718 and parameters: {'eta': 0.48799516682951477, 'gamma': 7.165827366393942e-08, 'max_depth': 19, 'min_child_weight': 4.583270160902402e-08, 'subsample': 0.409778033609939, 'reg_lambda': 16.87183663503793, 'reg_alpha': 19.90756616339198}. Best is trial 235 with value: -2.0981628140108084.\u001b[0m\n"
     ]
    },
    {
     "name": "stdout",
     "output_type": "stream",
     "text": [
      "[-2.09956648 -2.35114839 -2.40300616 -2.83351201 -2.83343712]\n"
     ]
    },
    {
     "name": "stderr",
     "output_type": "stream",
     "text": [
      "\u001b[32m[I 2021-05-08 10:04:26,712]\u001b[0m Trial 342 finished with value: -2.6651890149646333 and parameters: {'eta': 0.28341500213508203, 'gamma': 4.881149732760492e-07, 'max_depth': 5, 'min_child_weight': 1.359952465410437e-08, 'subsample': 0.5572001811619672, 'reg_lambda': 52.08421975771975, 'reg_alpha': 55.76693233255378}. Best is trial 235 with value: -2.0981628140108084.\u001b[0m\n"
     ]
    },
    {
     "name": "stdout",
     "output_type": "stream",
     "text": [
      "[-2.29604853 -2.3754377  -2.44801692 -2.66880602 -3.5376359 ]\n"
     ]
    },
    {
     "name": "stderr",
     "output_type": "stream",
     "text": [
      "\u001b[32m[I 2021-05-08 10:04:27,154]\u001b[0m Trial 343 finished with value: -21.12844181392149 and parameters: {'eta': 0.00011685346306501361, 'gamma': 2.1974519702909229e-07, 'max_depth': 17, 'min_child_weight': 2.098630990969177e-08, 'subsample': 0.48286566499530736, 'reg_lambda': 17.384356308291455, 'reg_alpha': 17.47183336148617}. Best is trial 235 with value: -2.0981628140108084.\u001b[0m\n"
     ]
    },
    {
     "name": "stdout",
     "output_type": "stream",
     "text": [
      "[-20.04344304 -21.99681649 -20.54653892 -21.10722584 -21.94818478]\n"
     ]
    },
    {
     "name": "stderr",
     "output_type": "stream",
     "text": [
      "\u001b[32m[I 2021-05-08 10:04:27,635]\u001b[0m Trial 344 finished with value: -7.530325229597681 and parameters: {'eta': 0.0843171511155527, 'gamma': 1.2597512461586748e-07, 'max_depth': 13, 'min_child_weight': 1.5375544326545833e-07, 'subsample': 0.5070531630921129, 'reg_lambda': 960.5231670182941, 'reg_alpha': 36.9944247145121}. Best is trial 235 with value: -2.0981628140108084.\u001b[0m\n"
     ]
    },
    {
     "name": "stdout",
     "output_type": "stream",
     "text": [
      "[-6.42639321 -8.03986076 -7.47192363 -7.80688448 -7.90656406]\n"
     ]
    },
    {
     "name": "stderr",
     "output_type": "stream",
     "text": [
      "\u001b[32m[I 2021-05-08 10:04:28,187]\u001b[0m Trial 345 finished with value: -3.5797792278984444 and parameters: {'eta': 0.11784080512950655, 'gamma': 4.055687121601869e-08, 'max_depth': 15, 'min_child_weight': 6.729915172840412e-08, 'subsample': 0.5335039769488085, 'reg_lambda': 0.4192647817795928, 'reg_alpha': 289.384507282049}. Best is trial 235 with value: -2.0981628140108084.\u001b[0m\n"
     ]
    },
    {
     "name": "stdout",
     "output_type": "stream",
     "text": [
      "[-3.09014866 -3.29799119 -3.78251301 -3.68954676 -4.03869652]\n"
     ]
    },
    {
     "name": "stderr",
     "output_type": "stream",
     "text": [
      "\u001b[32m[I 2021-05-08 10:04:29,028]\u001b[0m Trial 346 finished with value: -2.4126272765088963 and parameters: {'eta': 0.1946698152695894, 'gamma': 1.6486386902133116e-07, 'max_depth': 14, 'min_child_weight': 3.602856016851745e-08, 'subsample': 0.4597370925276146, 'reg_lambda': 31.6501443511152, 'reg_alpha': 0.9453366182906395}. Best is trial 235 with value: -2.0981628140108084.\u001b[0m\n"
     ]
    },
    {
     "name": "stdout",
     "output_type": "stream",
     "text": [
      "[-1.98181361 -2.20985888 -2.18496197 -2.6596511  -3.02685083]\n"
     ]
    },
    {
     "name": "stderr",
     "output_type": "stream",
     "text": [
      "\u001b[32m[I 2021-05-08 10:04:29,871]\u001b[0m Trial 347 finished with value: -2.5352558261730054 and parameters: {'eta': 0.06797591141514231, 'gamma': 2.307938982170463e-08, 'max_depth': 16, 'min_child_weight': 1.319987058716361e-08, 'subsample': 0.5677138329762881, 'reg_lambda': 15.600709547347572, 'reg_alpha': 19.46195262500047}. Best is trial 235 with value: -2.0981628140108084.\u001b[0m\n"
     ]
    },
    {
     "name": "stdout",
     "output_type": "stream",
     "text": [
      "[-1.99461083 -2.44078699 -2.52906966 -2.49869231 -3.21311935]\n"
     ]
    },
    {
     "name": "stderr",
     "output_type": "stream",
     "text": [
      "\u001b[32m[I 2021-05-08 10:04:30,336]\u001b[0m Trial 348 finished with value: -8.818101421939001 and parameters: {'eta': 0.03620115670552232, 'gamma': 8.311457203841735e-08, 'max_depth': 4, 'min_child_weight': 2.0255962245073794e-08, 'subsample': 0.38295724717203405, 'reg_lambda': 2.7929820516766153, 'reg_alpha': 996.3031132396592}. Best is trial 235 with value: -2.0981628140108084.\u001b[0m\n"
     ]
    },
    {
     "name": "stdout",
     "output_type": "stream",
     "text": [
      "[-7.65230786 -9.54165709 -8.63115873 -8.98742091 -9.27796252]\n"
     ]
    },
    {
     "name": "stderr",
     "output_type": "stream",
     "text": [
      "\u001b[32m[I 2021-05-08 10:04:30,930]\u001b[0m Trial 349 finished with value: -2.1792648031858755 and parameters: {'eta': 0.1108894267293177, 'gamma': 5.6086321417044444e-08, 'max_depth': 3, 'min_child_weight': 5.1582142624793945e-08, 'subsample': 0.43211733491395177, 'reg_lambda': 1.801517934033863, 'reg_alpha': 0.22012284712123287}. Best is trial 235 with value: -2.0981628140108084.\u001b[0m\n"
     ]
    },
    {
     "name": "stdout",
     "output_type": "stream",
     "text": [
      "[-1.78386694 -1.971374   -2.2218001  -2.48980056 -2.42948242]\n"
     ]
    },
    {
     "name": "stderr",
     "output_type": "stream",
     "text": [
      "\u001b[32m[I 2021-05-08 10:04:31,431]\u001b[0m Trial 350 finished with value: -2.5390698108496492 and parameters: {'eta': 0.161871785541328, 'gamma': 4.961873192952011e-08, 'max_depth': 3, 'min_child_weight': 2.6789527089278284e-08, 'subsample': 0.428492839478783, 'reg_lambda': 0.7111531565384704, 'reg_alpha': 56.713618543931894}. Best is trial 235 with value: -2.0981628140108084.\u001b[0m\n"
     ]
    },
    {
     "name": "stdout",
     "output_type": "stream",
     "text": [
      "[-2.02602777 -2.37038458 -2.57159921 -2.55935323 -3.16798427]\n"
     ]
    },
    {
     "name": "stderr",
     "output_type": "stream",
     "text": [
      "\u001b[32m[I 2021-05-08 10:04:31,883]\u001b[0m Trial 351 finished with value: -2.860437541378869 and parameters: {'eta': 0.08396297752987969, 'gamma': 3.3696092673555255e-07, 'max_depth': 3, 'min_child_weight': 1.0075516909233185e-08, 'subsample': 0.4395821179195997, 'reg_lambda': 37.19799688670854, 'reg_alpha': 34.78388889734723}. Best is trial 235 with value: -2.0981628140108084.\u001b[0m\n"
     ]
    },
    {
     "name": "stdout",
     "output_type": "stream",
     "text": [
      "[-2.36984682 -2.54955081 -2.98785773 -2.80499395 -3.58993839]\n"
     ]
    },
    {
     "name": "stderr",
     "output_type": "stream",
     "text": [
      "\u001b[32m[I 2021-05-08 10:04:32,249]\u001b[0m Trial 352 finished with value: -2.542920351628904 and parameters: {'eta': 0.25768563715728454, 'gamma': 3.005610981458986e-08, 'max_depth': 2, 'min_child_weight': 1.0008154719864682e-07, 'subsample': 0.40891368865654837, 'reg_lambda': 61.80057916810533, 'reg_alpha': 14.68726021090165}. Best is trial 235 with value: -2.0981628140108084.\u001b[0m\n"
     ]
    },
    {
     "name": "stdout",
     "output_type": "stream",
     "text": [
      "[-2.22737313 -2.24008478 -2.56516143 -2.62819433 -3.05378809]\n"
     ]
    },
    {
     "name": "stderr",
     "output_type": "stream",
     "text": [
      "\u001b[32m[I 2021-05-08 10:04:32,681]\u001b[0m Trial 353 finished with value: -2.4687112201643577 and parameters: {'eta': 0.051465038116438065, 'gamma': 5.7690360346798607e-08, 'max_depth': 2, 'min_child_weight': 1.0013014238730245e-08, 'subsample': 0.45189152832885754, 'reg_lambda': 0.18102057232311997, 'reg_alpha': 2.239899081895783}. Best is trial 235 with value: -2.0981628140108084.\u001b[0m\n"
     ]
    },
    {
     "name": "stdout",
     "output_type": "stream",
     "text": [
      "[-1.94352397 -2.24569155 -2.7471763  -2.70099435 -2.70616993]\n"
     ]
    },
    {
     "name": "stderr",
     "output_type": "stream",
     "text": [
      "\u001b[32m[I 2021-05-08 10:04:33,491]\u001b[0m Trial 354 finished with value: -2.182794665342496 and parameters: {'eta': 0.10928788298540407, 'gamma': 1.3630901871098926e-07, 'max_depth': 3, 'min_child_weight': 4.38987488575365e-08, 'subsample': 0.4779914483740801, 'reg_lambda': 1.030802222843072, 'reg_alpha': 0.7390995609949516}. Best is trial 235 with value: -2.0981628140108084.\u001b[0m\n"
     ]
    },
    {
     "name": "stdout",
     "output_type": "stream",
     "text": [
      "[-1.72533156 -1.84438907 -2.39192445 -2.58087019 -2.37145805]\n"
     ]
    },
    {
     "name": "stderr",
     "output_type": "stream",
     "text": [
      "\u001b[32m[I 2021-05-08 10:04:34,110]\u001b[0m Trial 355 finished with value: -3.3658251446912315 and parameters: {'eta': 0.02353362439951617, 'gamma': 1.071320682630133e-07, 'max_depth': 3, 'min_child_weight': 1.600345166971376e-08, 'subsample': 0.4735461268441757, 'reg_lambda': 0.0207895521633798, 'reg_alpha': 35.791648955266226}. Best is trial 235 with value: -2.0981628140108084.\u001b[0m\n"
     ]
    },
    {
     "name": "stdout",
     "output_type": "stream",
     "text": [
      "[-2.94835158 -3.34839171 -3.5284296  -3.20575003 -3.7982028 ]\n"
     ]
    },
    {
     "name": "stderr",
     "output_type": "stream",
     "text": [
      "\u001b[32m[I 2021-05-08 10:04:34,601]\u001b[0m Trial 356 finished with value: -2.6886821022328036 and parameters: {'eta': 0.08118591499502843, 'gamma': 2.485852997450564e-07, 'max_depth': 3, 'min_child_weight': 2.954155980182623e-08, 'subsample': 0.42942881977517805, 'reg_lambda': 27.84528990938632, 'reg_alpha': 16.51132002496924}. Best is trial 235 with value: -2.0981628140108084.\u001b[0m\n"
     ]
    },
    {
     "name": "stdout",
     "output_type": "stream",
     "text": [
      "[-2.13050083 -2.44437375 -2.7280948  -2.74960056 -3.39084056]\n"
     ]
    },
    {
     "name": "stderr",
     "output_type": "stream",
     "text": [
      "\u001b[32m[I 2021-05-08 10:04:35,532]\u001b[0m Trial 357 finished with value: -2.6928699218785317 and parameters: {'eta': 0.053775660389099644, 'gamma': 1.769896891828816e-08, 'max_depth': 4, 'min_child_weight': 5.418130478772689e-08, 'subsample': 0.4809561014782945, 'reg_lambda': 0.2887561465461619, 'reg_alpha': 71.65660607907857}. Best is trial 235 with value: -2.0981628140108084.\u001b[0m\n"
     ]
    },
    {
     "name": "stdout",
     "output_type": "stream",
     "text": [
      "[-2.18954993 -2.54339003 -2.81636711 -2.64873925 -3.26630329]\n"
     ]
    },
    {
     "name": "stderr",
     "output_type": "stream",
     "text": [
      "\u001b[32m[I 2021-05-08 10:04:36,090]\u001b[0m Trial 358 finished with value: -2.404556292539761 and parameters: {'eta': 0.10967834597392641, 'gamma': 6.265398485196718e-07, 'max_depth': 3, 'min_child_weight': 1.8339096462872798e-08, 'subsample': 0.4681505771485989, 'reg_lambda': 19.37579729443744, 'reg_alpha': 1.5529491690938257}. Best is trial 235 with value: -2.0981628140108084.\u001b[0m\n"
     ]
    },
    {
     "name": "stdout",
     "output_type": "stream",
     "text": [
      "[-2.05941101 -2.14844683 -2.2291969  -2.64278921 -2.94293751]\n"
     ]
    },
    {
     "name": "stderr",
     "output_type": "stream",
     "text": [
      "\u001b[32m[I 2021-05-08 10:04:36,556]\u001b[0m Trial 359 finished with value: -4.1898003680499984 and parameters: {'eta': 0.035231040714857796, 'gamma': 3.457121312156218e-08, 'max_depth': 2, 'min_child_weight': 3.5229316092632296e-08, 'subsample': 0.3315488909027072, 'reg_lambda': 45.54460102077101, 'reg_alpha': 47.129414610916456}. Best is trial 235 with value: -2.0981628140108084.\u001b[0m\n"
     ]
    },
    {
     "name": "stdout",
     "output_type": "stream",
     "text": [
      "[-3.46810665 -4.10895443 -4.50657346 -4.33544    -4.5299273 ]\n"
     ]
    },
    {
     "name": "stderr",
     "output_type": "stream",
     "text": [
      "\u001b[32m[I 2021-05-08 10:04:37,361]\u001b[0m Trial 360 finished with value: -2.1536707537144792 and parameters: {'eta': 0.1346375688424295, 'gamma': 1.8357583413918994e-07, 'max_depth': 3, 'min_child_weight': 8.039402705941238e-08, 'subsample': 0.4934137255487649, 'reg_lambda': 1.6976347001840055, 'reg_alpha': 0.33113465430420286}. Best is trial 235 with value: -2.0981628140108084.\u001b[0m\n"
     ]
    },
    {
     "name": "stdout",
     "output_type": "stream",
     "text": [
      "[-1.82121666 -1.80698079 -2.25350043 -2.41349675 -2.47315914]\n"
     ]
    },
    {
     "name": "stderr",
     "output_type": "stream",
     "text": [
      "\u001b[32m[I 2021-05-08 10:04:37,918]\u001b[0m Trial 361 finished with value: -2.801830810258418 and parameters: {'eta': 0.06552358231070463, 'gamma': 1.9567824128782565e-07, 'max_depth': 3, 'min_child_weight': 8.7692074311345e-08, 'subsample': 0.5049416653830107, 'reg_lambda': 30.97844655346682, 'reg_alpha': 26.801598499985616}. Best is trial 235 with value: -2.0981628140108084.\u001b[0m\n"
     ]
    },
    {
     "name": "stdout",
     "output_type": "stream",
     "text": [
      "[-2.3169301  -2.48550408 -2.96658564 -2.81491603 -3.4252182 ]\n"
     ]
    },
    {
     "name": "stderr",
     "output_type": "stream",
     "text": [
      "\u001b[32m[I 2021-05-08 10:04:39,070]\u001b[0m Trial 362 finished with value: -2.2030303093651193 and parameters: {'eta': 0.10944041282297332, 'gamma': 4.568675559122155e-07, 'max_depth': 4, 'min_child_weight': 2.401630163101189e-07, 'subsample': 0.4469971399826662, 'reg_lambda': 0.9469804052193901, 'reg_alpha': 0.6194317561555305}. Best is trial 235 with value: -2.0981628140108084.\u001b[0m\n"
     ]
    },
    {
     "name": "stdout",
     "output_type": "stream",
     "text": [
      "[-1.80152726 -1.7853893  -2.25102582 -2.65489765 -2.52231151]\n"
     ]
    },
    {
     "name": "stderr",
     "output_type": "stream",
     "text": [
      "\u001b[32m[I 2021-05-08 10:04:39,898]\u001b[0m Trial 363 finished with value: -2.311231939409986 and parameters: {'eta': 0.09812923571213654, 'gamma': 6.653923702762869e-07, 'max_depth': 3, 'min_child_weight': 2.928820669498668e-07, 'subsample': 0.44686169721837016, 'reg_lambda': 0.3269485871289326, 'reg_alpha': 18.42881119134643}. Best is trial 235 with value: -2.0981628140108084.\u001b[0m\n"
     ]
    },
    {
     "name": "stdout",
     "output_type": "stream",
     "text": [
      "[-1.69792025 -2.05798598 -2.30465872 -2.64369584 -2.85189891]\n"
     ]
    },
    {
     "name": "stderr",
     "output_type": "stream",
     "text": [
      "\u001b[32m[I 2021-05-08 10:04:40,477]\u001b[0m Trial 364 finished with value: -2.442466384128288 and parameters: {'eta': 0.11501690882940084, 'gamma': 4.2290581436489753e-07, 'max_depth': 4, 'min_child_weight': 6.632006224765515e-07, 'subsample': 0.4492003382283277, 'reg_lambda': 17.798297425499815, 'reg_alpha': 0.49683923126580254}. Best is trial 235 with value: -2.0981628140108084.\u001b[0m\n"
     ]
    },
    {
     "name": "stdout",
     "output_type": "stream",
     "text": [
      "[-2.04313513 -2.21185469 -2.25427237 -2.59002429 -3.11304544]\n"
     ]
    },
    {
     "name": "stderr",
     "output_type": "stream",
     "text": [
      "\u001b[32m[I 2021-05-08 10:04:41,517]\u001b[0m Trial 365 finished with value: -2.425877406008449 and parameters: {'eta': 0.07886425996267003, 'gamma': 3.6460400979976836e-07, 'max_depth': 2, 'min_child_weight': 3.957575032501742e-07, 'subsample': 0.41595764890767545, 'reg_lambda': 2.1671447138521973, 'reg_alpha': 1.3501229025309414}. Best is trial 235 with value: -2.0981628140108084.\u001b[0m\n"
     ]
    },
    {
     "name": "stdout",
     "output_type": "stream",
     "text": [
      "[-2.0852043  -2.15711661 -2.4961494  -2.69008007 -2.70083665]\n"
     ]
    },
    {
     "name": "stderr",
     "output_type": "stream",
     "text": [
      "\u001b[32m[I 2021-05-08 10:04:42,031]\u001b[0m Trial 366 finished with value: -3.436631653155809 and parameters: {'eta': 0.04897567479104988, 'gamma': 1.080137024564601e-06, 'max_depth': 3, 'min_child_weight': 1.8564958469856535e-07, 'subsample': 0.3888679549696853, 'reg_lambda': 49.75308511723704, 'reg_alpha': 34.274985357941375}. Best is trial 235 with value: -2.0981628140108084.\u001b[0m\n"
     ]
    },
    {
     "name": "stdout",
     "output_type": "stream",
     "text": [
      "[-2.90295629 -3.29536398 -3.76800827 -3.41002745 -3.80680227]\n"
     ]
    },
    {
     "name": "stderr",
     "output_type": "stream",
     "text": [
      "\u001b[32m[I 2021-05-08 10:04:42,516]\u001b[0m Trial 367 finished with value: -2.1583003301267274 and parameters: {'eta': 0.1499697231177397, 'gamma': 5.196567797002177e-07, 'max_depth': 4, 'min_child_weight': 2.3313001965781205e-07, 'subsample': 0.6967408923394625, 'reg_lambda': 1.6691418153593613, 'reg_alpha': 0.5949287193131494}. Best is trial 235 with value: -2.0981628140108084.\u001b[0m\n"
     ]
    },
    {
     "name": "stdout",
     "output_type": "stream",
     "text": [
      "[-1.8635993  -1.76060521 -2.06438634 -2.45612705 -2.64678375]\n"
     ]
    },
    {
     "name": "stderr",
     "output_type": "stream",
     "text": [
      "\u001b[32m[I 2021-05-08 10:04:42,992]\u001b[0m Trial 368 finished with value: -2.096921031392651 and parameters: {'eta': 0.15925024314207728, 'gamma': 7.154333257737099e-07, 'max_depth': 3, 'min_child_weight': 2.96803397772214e-07, 'subsample': 0.72539141216024, 'reg_lambda': 0.18377839371920202, 'reg_alpha': 0.3113363786980621}. Best is trial 368 with value: -2.096921031392651.\u001b[0m\n"
     ]
    },
    {
     "name": "stdout",
     "output_type": "stream",
     "text": [
      "[-1.88693053 -1.90228677 -1.97371885 -2.30464982 -2.41701918]\n"
     ]
    },
    {
     "name": "stderr",
     "output_type": "stream",
     "text": [
      "\u001b[32m[I 2021-05-08 10:04:43,365]\u001b[0m Trial 369 finished with value: -2.369663812325325 and parameters: {'eta': 0.1612506777916534, 'gamma': 8.309112375427058e-07, 'max_depth': 2, 'min_child_weight': 2.602856436295254e-07, 'subsample': 0.7177006090006641, 'reg_lambda': 22.25111971845218, 'reg_alpha': 1.185889086536576}. Best is trial 368 with value: -2.096921031392651.\u001b[0m\n"
     ]
    },
    {
     "name": "stdout",
     "output_type": "stream",
     "text": [
      "[-1.95781055 -2.21959206 -2.32911349 -2.55719204 -2.78461092]\n"
     ]
    },
    {
     "name": "stderr",
     "output_type": "stream",
     "text": [
      "\u001b[32m[I 2021-05-08 10:04:43,663]\u001b[0m Trial 370 finished with value: -2.705714031278351 and parameters: {'eta': 0.10386145812944188, 'gamma': 6.652399303318343e-07, 'max_depth': 1, 'min_child_weight': 4.5471954244614974e-07, 'subsample': 0.7084775422934639, 'reg_lambda': 0.38265339212288874, 'reg_alpha': 18.108789584313545}. Best is trial 368 with value: -2.096921031392651.\u001b[0m\n"
     ]
    },
    {
     "name": "stdout",
     "output_type": "stream",
     "text": [
      "[-2.19426626 -2.54983206 -2.96531336 -2.82605068 -2.9931078 ]\n"
     ]
    },
    {
     "name": "stderr",
     "output_type": "stream",
     "text": [
      "\u001b[32m[I 2021-05-08 10:04:44,381]\u001b[0m Trial 371 finished with value: -3.755135118926013 and parameters: {'eta': 0.14414546092770084, 'gamma': 9.568467082697056e-07, 'max_depth': 3, 'min_child_weight': 2.5563106768486084e-07, 'subsample': 0.6999450404111794, 'reg_lambda': 29.344953976585003, 'reg_alpha': 429.28665221999114}. Best is trial 368 with value: -2.096921031392651.\u001b[0m\n"
     ]
    },
    {
     "name": "stdout",
     "output_type": "stream",
     "text": [
      "[-3.10678676 -3.5683869  -4.12197888 -3.92455468 -4.05396838]\n"
     ]
    },
    {
     "name": "stderr",
     "output_type": "stream",
     "text": [
      "\u001b[32m[I 2021-05-08 10:04:45,372]\u001b[0m Trial 372 finished with value: -2.6673165677153037 and parameters: {'eta': 0.21819834665539034, 'gamma': 1.7218452876721264e-06, 'max_depth': 3, 'min_child_weight': 1.9774840541294052e-07, 'subsample': 0.6769998613126449, 'reg_lambda': 82.93240450689909, 'reg_alpha': 50.11532852843061}. Best is trial 368 with value: -2.096921031392651.\u001b[0m\n"
     ]
    },
    {
     "name": "stdout",
     "output_type": "stream",
     "text": [
      "[-2.35710814 -2.45670014 -2.63146825 -2.58225555 -3.30905076]\n"
     ]
    },
    {
     "name": "stderr",
     "output_type": "stream",
     "text": [
      "\u001b[32m[I 2021-05-08 10:04:46,716]\u001b[0m Trial 373 finished with value: -2.445457287311554 and parameters: {'eta': 0.12309139467640391, 'gamma': 3.8414941493531755e-07, 'max_depth': 11, 'min_child_weight': 1.486843968049202e-07, 'subsample': 0.7248396037501775, 'reg_lambda': 15.351698435567263, 'reg_alpha': 19.362338812724175}. Best is trial 368 with value: -2.096921031392651.\u001b[0m\n"
     ]
    },
    {
     "name": "stdout",
     "output_type": "stream",
     "text": [
      "[-2.10173269 -2.18339813 -2.40200225 -2.45602527 -3.0841281 ]\n"
     ]
    },
    {
     "name": "stderr",
     "output_type": "stream",
     "text": [
      "\u001b[32m[I 2021-05-08 10:04:47,382]\u001b[0m Trial 374 finished with value: -2.6059120275591625 and parameters: {'eta': 0.08395426636497642, 'gamma': 5.857029976625243e-07, 'max_depth': 3, 'min_child_weight': 3.238401405251903e-07, 'subsample': 0.6894507038222939, 'reg_lambda': 44.50110499919363, 'reg_alpha': 1.1397812106300318}. Best is trial 368 with value: -2.096921031392651.\u001b[0m\n"
     ]
    },
    {
     "name": "stdout",
     "output_type": "stream",
     "text": [
      "[-2.21366606 -2.40092583 -2.57953293 -2.55287951 -3.2825558 ]\n"
     ]
    },
    {
     "name": "stderr",
     "output_type": "stream",
     "text": [
      "\u001b[32m[I 2021-05-08 10:04:47,838]\u001b[0m Trial 375 finished with value: -2.2972624045948926 and parameters: {'eta': 0.16568025598541578, 'gamma': 4.021261805360032e-07, 'max_depth': 2, 'min_child_weight': 2.768711216704522e-07, 'subsample': 0.7351267912189713, 'reg_lambda': 1.3466125258022377, 'reg_alpha': 0.07398985745906828}. Best is trial 368 with value: -2.096921031392651.\u001b[0m\n"
     ]
    },
    {
     "name": "stdout",
     "output_type": "stream",
     "text": [
      "[-1.94562729 -2.04550878 -2.32565596 -2.52954637 -2.63997362]\n"
     ]
    },
    {
     "name": "stderr",
     "output_type": "stream",
     "text": [
      "\u001b[32m[I 2021-05-08 10:04:48,869]\u001b[0m Trial 376 finished with value: -2.9491770279436933 and parameters: {'eta': 0.06937183722552306, 'gamma': 1.1674917894663683e-06, 'max_depth': 12, 'min_child_weight': 1.651768313019359e-07, 'subsample': 0.7571497189531566, 'reg_lambda': 64.4276219419018, 'reg_alpha': 40.079217701999}. Best is trial 368 with value: -2.096921031392651.\u001b[0m\n"
     ]
    },
    {
     "name": "stdout",
     "output_type": "stream",
     "text": [
      "[-2.43342783 -2.75340822 -3.09199488 -2.89616334 -3.57089086]\n"
     ]
    },
    {
     "name": "stderr",
     "output_type": "stream",
     "text": [
      "\u001b[32m[I 2021-05-08 10:04:49,312]\u001b[0m Trial 377 finished with value: -2.5046651227150436 and parameters: {'eta': 0.12287697415378927, 'gamma': 5.004114503657035e-07, 'max_depth': 3, 'min_child_weight': 2.3433453321408783e-07, 'subsample': 0.4954648599836105, 'reg_lambda': 18.16551752090419, 'reg_alpha': 27.503849665249646}. Best is trial 368 with value: -2.096921031392651.\u001b[0m\n"
     ]
    },
    {
     "name": "stdout",
     "output_type": "stream",
     "text": [
      "[-2.02920897 -2.28395001 -2.43636074 -2.60286801 -3.17093789]\n"
     ]
    },
    {
     "name": "stderr",
     "output_type": "stream",
     "text": [
      "\u001b[32m[I 2021-05-08 10:04:49,899]\u001b[0m Trial 378 finished with value: -2.3768315476547053 and parameters: {'eta': 0.21524621274313802, 'gamma': 6.969088297100345e-07, 'max_depth': 2, 'min_child_weight': 4.924682293204718e-07, 'subsample': 0.7405330447487938, 'reg_lambda': 18.93536279706606, 'reg_alpha': 1.4797561489740105}. Best is trial 368 with value: -2.096921031392651.\u001b[0m\n"
     ]
    },
    {
     "name": "stdout",
     "output_type": "stream",
     "text": [
      "[-2.1245595  -2.14322865 -2.25863792 -2.6164278  -2.74130387]\n"
     ]
    },
    {
     "name": "stderr",
     "output_type": "stream",
     "text": [
      "\u001b[32m[I 2021-05-08 10:04:50,446]\u001b[0m Trial 379 finished with value: -2.4786839778747085 and parameters: {'eta': 0.0950195066966424, 'gamma': 2.8661658388868574e-07, 'max_depth': 3, 'min_child_weight': 1.0702269571886613e-07, 'subsample': 0.700619737004488, 'reg_lambda': 36.61356670555674, 'reg_alpha': 1.2485600192684532}. Best is trial 368 with value: -2.096921031392651.\u001b[0m\n"
     ]
    },
    {
     "name": "stdout",
     "output_type": "stream",
     "text": [
      "[-2.08527067 -2.27797499 -2.51004437 -2.43405659 -3.08607327]\n"
     ]
    },
    {
     "name": "stderr",
     "output_type": "stream",
     "text": [
      "\u001b[32m[I 2021-05-08 10:04:51,335]\u001b[0m Trial 380 finished with value: -2.4320399728468907 and parameters: {'eta': 0.3288619218062907, 'gamma': 4.686707988463065e-07, 'max_depth': 13, 'min_child_weight': 1.4517057137580467e-07, 'subsample': 0.4286174875296115, 'reg_lambda': 0.05341611480945428, 'reg_alpha': 0.18663800215721615}. Best is trial 368 with value: -2.096921031392651.\u001b[0m\n"
     ]
    },
    {
     "name": "stdout",
     "output_type": "stream",
     "text": [
      "[-2.15196171 -2.30791226 -2.31687716 -2.66622363 -2.71722511]\n"
     ]
    },
    {
     "name": "stderr",
     "output_type": "stream",
     "text": [
      "\u001b[32m[I 2021-05-08 10:04:51,766]\u001b[0m Trial 381 finished with value: -2.626567314512936 and parameters: {'eta': 0.15853695403111503, 'gamma': 3.9321610879556524e-06, 'max_depth': 4, 'min_child_weight': 1.1974601726999018e-06, 'subsample': 0.6781246015514039, 'reg_lambda': 0.5604139916881552, 'reg_alpha': 65.23781493546039}. Best is trial 368 with value: -2.096921031392651.\u001b[0m\n"
     ]
    },
    {
     "name": "stdout",
     "output_type": "stream",
     "text": [
      "[-2.07829703 -2.4457798  -2.65325647 -2.77520847 -3.1802948 ]\n"
     ]
    },
    {
     "name": "stderr",
     "output_type": "stream",
     "text": [
      "\u001b[32m[I 2021-05-08 10:04:52,274]\u001b[0m Trial 382 finished with value: -2.201428179758566 and parameters: {'eta': 0.07083022061148914, 'gamma': 2.071295377296395e-07, 'max_depth': 3, 'min_child_weight': 3.4404408223351845e-07, 'subsample': 0.7156831273659249, 'reg_lambda': 1.1779586577812229, 'reg_alpha': 0.33413246435825983}. Best is trial 368 with value: -2.096921031392651.\u001b[0m\n"
     ]
    },
    {
     "name": "stdout",
     "output_type": "stream",
     "text": [
      "[-1.80938796 -1.9567923  -2.2190393  -2.52715502 -2.49476631]\n"
     ]
    },
    {
     "name": "stderr",
     "output_type": "stream",
     "text": [
      "\u001b[32m[I 2021-05-08 10:04:52,811]\u001b[0m Trial 383 finished with value: -2.730630929640782 and parameters: {'eta': 0.06907163806442532, 'gamma': 2.5296605369441333e-07, 'max_depth': 3, 'min_child_weight': 8.65994657547817e-07, 'subsample': 0.724367338956591, 'reg_lambda': 36.05405139184676, 'reg_alpha': 30.380426871130453}. Best is trial 368 with value: -2.096921031392651.\u001b[0m\n"
     ]
    },
    {
     "name": "stdout",
     "output_type": "stream",
     "text": [
      "[-2.24144419 -2.5488962  -2.80015581 -2.70468263 -3.35797583]\n"
     ]
    },
    {
     "name": "stderr",
     "output_type": "stream",
     "text": [
      "\u001b[32m[I 2021-05-08 10:04:53,298]\u001b[0m Trial 384 finished with value: -2.359573912767716 and parameters: {'eta': 0.05540283222159918, 'gamma': 4.996599698978352e-07, 'max_depth': 3, 'min_child_weight': 3.311945814453164e-07, 'subsample': 0.6992066467647448, 'reg_lambda': 0.8943386072006165, 'reg_alpha': 18.86558705163184}. Best is trial 368 with value: -2.096921031392651.\u001b[0m\n"
     ]
    },
    {
     "name": "stdout",
     "output_type": "stream",
     "text": [
      "[-1.89326862 -2.04917081 -2.35514798 -2.55230944 -2.94797271]\n"
     ]
    },
    {
     "name": "stderr",
     "output_type": "stream",
     "text": [
      "\u001b[32m[I 2021-05-08 10:04:53,840]\u001b[0m Trial 385 finished with value: -4.261971547456436 and parameters: {'eta': 0.09892457261894523, 'gamma': 1.3732733483621264e-06, 'max_depth': 2, 'min_child_weight': 4.980864209946332e-07, 'subsample': 0.7213513061923498, 'reg_lambda': 607.7226727586141, 'reg_alpha': 48.558596493024}. Best is trial 368 with value: -2.096921031392651.\u001b[0m\n"
     ]
    },
    {
     "name": "stdout",
     "output_type": "stream",
     "text": [
      "[-3.52386802 -4.20811603 -4.6111232  -4.59754251 -4.36920798]\n"
     ]
    },
    {
     "name": "stderr",
     "output_type": "stream",
     "text": [
      "\u001b[32m[I 2021-05-08 10:04:54,307]\u001b[0m Trial 386 finished with value: -2.5795462307223564 and parameters: {'eta': 0.05908593415958869, 'gamma': 2.0319007616520035e-07, 'max_depth': 3, 'min_child_weight': 2.2682379722144215e-07, 'subsample': 0.6610222015855971, 'reg_lambda': 21.426912288789886, 'reg_alpha': 0.880955057105082}. Best is trial 368 with value: -2.096921031392651.\u001b[0m\n"
     ]
    },
    {
     "name": "stdout",
     "output_type": "stream",
     "text": [
      "[-2.09882014 -2.37961088 -2.68159815 -2.53798206 -3.19971992]\n"
     ]
    },
    {
     "name": "stderr",
     "output_type": "stream",
     "text": [
      "\u001b[32m[I 2021-05-08 10:04:54,877]\u001b[0m Trial 387 finished with value: -2.4974012616563726 and parameters: {'eta': 0.25887182447157525, 'gamma': 7.589843589902591e-07, 'max_depth': 4, 'min_child_weight': 3.7742495649572675e-07, 'subsample': 0.7007399246625542, 'reg_lambda': 56.809265516379675, 'reg_alpha': 20.450629688681335}. Best is trial 368 with value: -2.096921031392651.\u001b[0m\n"
     ]
    },
    {
     "name": "stdout",
     "output_type": "stream",
     "text": [
      "[-2.01102744 -2.39860649 -2.32789425 -2.56061126 -3.18886687]\n"
     ]
    },
    {
     "name": "stderr",
     "output_type": "stream",
     "text": [
      "\u001b[32m[I 2021-05-08 10:04:55,511]\u001b[0m Trial 388 finished with value: -2.4253796063352517 and parameters: {'eta': 0.14049992814451204, 'gamma': 3.337046130135334e-07, 'max_depth': 3, 'min_child_weight': 6.082938415770544e-05, 'subsample': 0.40859220702420984, 'reg_lambda': 20.3281566533298, 'reg_alpha': 1.3159145732158661}. Best is trial 368 with value: -2.096921031392651.\u001b[0m\n"
     ]
    },
    {
     "name": "stdout",
     "output_type": "stream",
     "text": [
      "[-2.04072445 -2.13261861 -2.30632705 -2.71028671 -2.93694121]\n"
     ]
    },
    {
     "name": "stderr",
     "output_type": "stream",
     "text": [
      "\u001b[32m[I 2021-05-08 10:04:56,014]\u001b[0m Trial 389 finished with value: -2.628553517406369 and parameters: {'eta': 0.08217052770652628, 'gamma': 3.2263541479988516e-07, 'max_depth': 2, 'min_child_weight': 1.9069030935500583e-07, 'subsample': 0.45537248071349357, 'reg_lambda': 36.456448729698735, 'reg_alpha': 0.24762853437741894}. Best is trial 368 with value: -2.096921031392651.\u001b[0m\n"
     ]
    },
    {
     "name": "stdout",
     "output_type": "stream",
     "text": [
      "[-2.11324706 -2.44132097 -2.70626305 -2.65947977 -3.22245673]\n"
     ]
    },
    {
     "name": "stderr",
     "output_type": "stream",
     "text": [
      "\u001b[32m[I 2021-05-08 10:04:56,625]\u001b[0m Trial 390 finished with value: -2.8928245695255423 and parameters: {'eta': 0.03831521964406368, 'gamma': 2.1472780029590263e-07, 'max_depth': 4, 'min_child_weight': 1.5916685236620708e-07, 'subsample': 0.7439231939188115, 'reg_lambda': 14.374227824713948, 'reg_alpha': 36.306752889171335}. Best is trial 368 with value: -2.096921031392651.\u001b[0m\n"
     ]
    },
    {
     "name": "stdout",
     "output_type": "stream",
     "text": [
      "[-2.36270308 -2.81928589 -3.10412339 -2.79738456 -3.38062592]\n"
     ]
    },
    {
     "name": "stderr",
     "output_type": "stream",
     "text": [
      "\u001b[32m[I 2021-05-08 10:04:57,305]\u001b[0m Trial 391 finished with value: -2.3086328518537824 and parameters: {'eta': 0.19894127162984676, 'gamma': 1.6666845611313727e-07, 'max_depth': 13, 'min_child_weight': 5.611418992822385e-07, 'subsample': 0.4417968512843729, 'reg_lambda': 1.3806180616808166, 'reg_alpha': 20.313930162096838}. Best is trial 368 with value: -2.096921031392651.\u001b[0m\n"
     ]
    },
    {
     "name": "stdout",
     "output_type": "stream",
     "text": [
      "[-1.78390835 -2.09790824 -2.18858982 -2.54372122 -2.92903663]\n"
     ]
    },
    {
     "name": "stderr",
     "output_type": "stream",
     "text": [
      "\u001b[32m[I 2021-05-08 10:04:57,916]\u001b[0m Trial 392 finished with value: -3.084097634804102 and parameters: {'eta': 0.1154987255600053, 'gamma': 5.197665447458423e-08, 'max_depth': 3, 'min_child_weight': 3.0142691252788844e-07, 'subsample': 0.6876353192102632, 'reg_lambda': 0.5036315186230469, 'reg_alpha': 211.8939860244234}. Best is trial 368 with value: -2.096921031392651.\u001b[0m\n"
     ]
    },
    {
     "name": "stdout",
     "output_type": "stream",
     "text": [
      "[-2.56522339 -2.98392703 -3.25234128 -2.98614658 -3.6328499 ]\n"
     ]
    },
    {
     "name": "stderr",
     "output_type": "stream",
     "text": [
      "\u001b[32m[I 2021-05-08 10:04:58,414]\u001b[0m Trial 393 finished with value: -3.2398386510272084 and parameters: {'eta': 0.07104814365602712, 'gamma': 1.0037627237979364e-05, 'max_depth': 4, 'min_child_weight': 0.00029184146644906973, 'subsample': 0.46608961296152523, 'reg_lambda': 51.37561283334624, 'reg_alpha': 89.19919432558676}. Best is trial 368 with value: -2.096921031392651.\u001b[0m\n"
     ]
    },
    {
     "name": "stdout",
     "output_type": "stream",
     "text": [
      "[-2.70277782 -2.9999454  -3.50914485 -3.16296244 -3.82436276]\n"
     ]
    },
    {
     "name": "stderr",
     "output_type": "stream",
     "text": [
      "\u001b[32m[I 2021-05-08 10:04:59,022]\u001b[0m Trial 394 finished with value: -2.6377265362033135 and parameters: {'eta': 0.04721037534628224, 'gamma': 1.0493488874756695e-08, 'max_depth': 3, 'min_child_weight': 1.2504415821977867e-07, 'subsample': 0.7136047304062045, 'reg_lambda': 1.9673991173683243, 'reg_alpha': 58.38781092935581}. Best is trial 368 with value: -2.096921031392651.\u001b[0m\n"
     ]
    },
    {
     "name": "stdout",
     "output_type": "stream",
     "text": [
      "[-2.10463505 -2.53877134 -2.80401552 -2.53500751 -3.20620324]\n"
     ]
    },
    {
     "name": "stderr",
     "output_type": "stream",
     "text": [
      "\u001b[32m[I 2021-05-08 10:05:01,106]\u001b[0m Trial 395 finished with value: -2.7179010217749044 and parameters: {'eta': 0.1635246303081974, 'gamma': 2.561214622385684e-06, 'max_depth': 1, 'min_child_weight': 7.624019492274236e-07, 'subsample': 0.49274205488599143, 'reg_lambda': 0.3827967746462093, 'reg_alpha': 0.3766805192354099}. Best is trial 368 with value: -2.096921031392651.\u001b[0m\n"
     ]
    },
    {
     "name": "stdout",
     "output_type": "stream",
     "text": [
      "[-2.4927123  -2.3908081  -2.71026193 -3.10555933 -2.89016345]\n"
     ]
    },
    {
     "name": "stderr",
     "output_type": "stream",
     "text": [
      "\u001b[32m[I 2021-05-08 10:05:03,270]\u001b[0m Trial 396 finished with value: -2.5145307727331 and parameters: {'eta': 0.09556027533413945, 'gamma': 4.401049475056485e-07, 'max_depth': 4, 'min_child_weight': 2.2633151196836824e-07, 'subsample': 0.42877752665737595, 'reg_lambda': 0.7378430861785541, 'reg_alpha': 34.96652647098204}. Best is trial 368 with value: -2.096921031392651.\u001b[0m\n"
     ]
    },
    {
     "name": "stdout",
     "output_type": "stream",
     "text": [
      "[-2.01360715 -2.34147807 -2.55807076 -2.54771937 -3.11177851]\n"
     ]
    },
    {
     "name": "stderr",
     "output_type": "stream",
     "text": [
      "\u001b[32m[I 2021-05-08 10:05:04,090]\u001b[0m Trial 397 finished with value: -2.557295164190693 and parameters: {'eta': 0.3200036576361377, 'gamma': 1.566329482391429e-07, 'max_depth': 14, 'min_child_weight': 0.0076745425606619235, 'subsample': 0.39476376955833703, 'reg_lambda': 31.312041178050936, 'reg_alpha': 19.149763114591963}. Best is trial 368 with value: -2.096921031392651.\u001b[0m\n"
     ]
    },
    {
     "name": "stdout",
     "output_type": "stream",
     "text": [
      "[-2.23146894 -2.29896155 -2.43450156 -2.87971084 -2.94183293]\n"
     ]
    },
    {
     "name": "stderr",
     "output_type": "stream",
     "text": [
      "\u001b[32m[I 2021-05-08 10:05:04,544]\u001b[0m Trial 398 finished with value: -5.28127716004407 and parameters: {'eta': 0.025708390809778017, 'gamma': 2.5196678588916747e-08, 'max_depth': 12, 'min_child_weight': 0.7523846629959311, 'subsample': 0.4785146862301411, 'reg_lambda': 74.33353332837682, 'reg_alpha': 1.8646267837042023}. Best is trial 368 with value: -2.096921031392651.\u001b[0m\n"
     ]
    },
    {
     "name": "stdout",
     "output_type": "stream",
     "text": [
      "[-4.53897872 -5.31876865 -5.38467585 -5.46678894 -5.69717364]\n"
     ]
    },
    {
     "name": "stderr",
     "output_type": "stream",
     "text": [
      "\u001b[32m[I 2021-05-08 10:05:04,952]\u001b[0m Trial 399 finished with value: -2.513776606389034 and parameters: {'eta': 0.20404460336725488, 'gamma': 6.889265379571942e-08, 'max_depth': 3, 'min_child_weight': 1.0105746702323375e-07, 'subsample': 0.45647262658914944, 'reg_lambda': 0.28630820434685844, 'reg_alpha': 44.06345388481102}. Best is trial 368 with value: -2.096921031392651.\u001b[0m\n"
     ]
    },
    {
     "name": "stdout",
     "output_type": "stream",
     "text": [
      "[-2.04511812 -2.41318855 -2.3835321  -2.7023416  -3.02470267]\n"
     ]
    },
    {
     "name": "stderr",
     "output_type": "stream",
     "text": [
      "\u001b[32m[I 2021-05-08 10:05:05,303]\u001b[0m Trial 400 finished with value: -2.47655352483561 and parameters: {'eta': 0.12258938546694635, 'gamma': 4.2150032294547807e-08, 'max_depth': 2, 'min_child_weight': 1.2928979006951935e-07, 'subsample': 0.49627833332849236, 'reg_lambda': 22.51603132192861, 'reg_alpha': 0.2855244564714794}. Best is trial 368 with value: -2.096921031392651.\u001b[0m\n"
     ]
    },
    {
     "name": "stdout",
     "output_type": "stream",
     "text": [
      "[-2.11749703 -2.31131337 -2.38713041 -2.66912376 -2.89770306]\n"
     ]
    },
    {
     "name": "stderr",
     "output_type": "stream",
     "text": [
      "\u001b[32m[I 2021-05-08 10:05:05,967]\u001b[0m Trial 401 finished with value: -2.6648248883529946 and parameters: {'eta': 0.06716018537262138, 'gamma': 2.687589374439285e-07, 'max_depth': 13, 'min_child_weight': 3.4427262988493344e-07, 'subsample': 0.6755052293837965, 'reg_lambda': 39.17472261978186, 'reg_alpha': 0.9424539536969581}. Best is trial 368 with value: -2.096921031392651.\u001b[0m\n"
     ]
    },
    {
     "name": "stdout",
     "output_type": "stream",
     "text": [
      "[-2.23894223 -2.52225268 -2.68219267 -2.58712691 -3.29360996]\n"
     ]
    },
    {
     "name": "stderr",
     "output_type": "stream",
     "text": [
      "\u001b[32m[I 2021-05-08 10:05:07,020]\u001b[0m Trial 402 finished with value: -2.336225152168745 and parameters: {'eta': 0.09142273590468779, 'gamma': 8.320478397793187e-07, 'max_depth': 3, 'min_child_weight': 0.0004608375902164417, 'subsample': 0.41790901255243806, 'reg_lambda': 0.23714927637834032, 'reg_alpha': 23.0078649473822}. Best is trial 368 with value: -2.096921031392651.\u001b[0m\n"
     ]
    },
    {
     "name": "stdout",
     "output_type": "stream",
     "text": [
      "[-1.84127813 -2.13657557 -2.35654276 -2.53483643 -2.81189288]\n"
     ]
    },
    {
     "name": "stderr",
     "output_type": "stream",
     "text": [
      "\u001b[32m[I 2021-05-08 10:05:07,574]\u001b[0m Trial 403 finished with value: -4.121499638628077 and parameters: {'eta': 0.04700382594623493, 'gamma': 1.1639810226765712e-07, 'max_depth': 14, 'min_child_weight': 2.3480791444145584e-07, 'subsample': 0.43826726349316997, 'reg_lambda': 0.21384068482530394, 'reg_alpha': 340.2720649625496}. Best is trial 368 with value: -2.096921031392651.\u001b[0m\n"
     ]
    },
    {
     "name": "stdout",
     "output_type": "stream",
     "text": [
      "[-3.50438172 -3.99225306 -4.40269765 -4.42314583 -4.28501993]\n"
     ]
    },
    {
     "name": "stderr",
     "output_type": "stream",
     "text": [
      "\u001b[32m[I 2021-05-08 10:05:08,369]\u001b[0m Trial 404 finished with value: -2.400984391141821 and parameters: {'eta': 0.1434910173940798, 'gamma': 5.036304239777104e-07, 'max_depth': 4, 'min_child_weight': 1.765616241440841e-07, 'subsample': 0.367491496218437, 'reg_lambda': 20.64107829642912, 'reg_alpha': 0.19504767808585166}. Best is trial 368 with value: -2.096921031392651.\u001b[0m\n"
     ]
    },
    {
     "name": "stdout",
     "output_type": "stream",
     "text": [
      "[-2.05099422 -2.18954578 -2.23770482 -2.66704692 -2.85963022]\n"
     ]
    },
    {
     "name": "stderr",
     "output_type": "stream",
     "text": [
      "\u001b[32m[I 2021-05-08 10:05:08,799]\u001b[0m Trial 405 finished with value: -3.2850312497645247 and parameters: {'eta': 0.20908638547431305, 'gamma': 6.782032935317588e-08, 'max_depth': 2, 'min_child_weight': 8.306725615007112e-08, 'subsample': 0.46610313795209707, 'reg_lambda': 413.3455642037458, 'reg_alpha': 18.686101904557148}. Best is trial 368 with value: -2.096921031392651.\u001b[0m\n"
     ]
    },
    {
     "name": "stdout",
     "output_type": "stream",
     "text": [
      "[-2.69251025 -3.09840996 -3.63986831 -3.27425336 -3.72011436]\n"
     ]
    },
    {
     "name": "stderr",
     "output_type": "stream",
     "text": [
      "\u001b[32m[I 2021-05-08 10:05:10,654]\u001b[0m Trial 406 finished with value: -2.62568153243006 and parameters: {'eta': 0.07513561404675753, 'gamma': 2.0558403488148057e-07, 'max_depth': 3, 'min_child_weight': 1.2289899608089163e-07, 'subsample': 0.5147268349645105, 'reg_lambda': 0.36917167496080916, 'reg_alpha': 65.39911630936044}. Best is trial 368 with value: -2.096921031392651.\u001b[0m\n"
     ]
    },
    {
     "name": "stdout",
     "output_type": "stream",
     "text": [
      "[-2.21563862 -2.37078523 -2.68181089 -2.60928093 -3.25089198]\n"
     ]
    },
    {
     "name": "stderr",
     "output_type": "stream",
     "text": [
      "\u001b[32m[I 2021-05-08 10:05:12,456]\u001b[0m Trial 407 finished with value: -2.4356130463282266 and parameters: {'eta': 0.11410341748725386, 'gamma': 2.922968477724661e-07, 'max_depth': 13, 'min_child_weight': 4.3177916187652234e-07, 'subsample': 0.6470594604793554, 'reg_lambda': 45.785465500969664, 'reg_alpha': 0.3452276189245268}. Best is trial 368 with value: -2.096921031392651.\u001b[0m\n"
     ]
    },
    {
     "name": "stdout",
     "output_type": "stream",
     "text": [
      "[-2.04280467 -2.32173473 -2.36785377 -2.30316337 -3.14250869]\n"
     ]
    },
    {
     "name": "stderr",
     "output_type": "stream",
     "text": [
      "\u001b[32m[I 2021-05-08 10:05:13,283]\u001b[0m Trial 408 finished with value: -2.399363757575 and parameters: {'eta': 0.2551672181949522, 'gamma': 1.364767275159329e-07, 'max_depth': 4, 'min_child_weight': 7.918099145304864e-08, 'subsample': 0.4809453282953292, 'reg_lambda': 18.73881660118361, 'reg_alpha': 0.05091208471854944}. Best is trial 368 with value: -2.096921031392651.\u001b[0m\n"
     ]
    },
    {
     "name": "stdout",
     "output_type": "stream",
     "text": [
      "[-1.85293826 -2.30542467 -2.3316154  -2.74610214 -2.76073832]\n"
     ]
    },
    {
     "name": "stderr",
     "output_type": "stream",
     "text": [
      "\u001b[32m[I 2021-05-08 10:05:14,096]\u001b[0m Trial 409 finished with value: -2.4110268762199967 and parameters: {'eta': 0.16395296180918909, 'gamma': 3.3628162817193565e-08, 'max_depth': 14, 'min_child_weight': 2.0228831353480352e-07, 'subsample': 0.7532419963534457, 'reg_lambda': 0.013512740082629815, 'reg_alpha': 34.98049230361149}. Best is trial 368 with value: -2.096921031392651.\u001b[0m\n"
     ]
    },
    {
     "name": "stdout",
     "output_type": "stream",
     "text": [
      "[-1.92359667 -2.08820128 -2.503453   -2.5667584  -2.97312502]\n"
     ]
    },
    {
     "name": "stderr",
     "output_type": "stream",
     "text": [
      "\u001b[32m[I 2021-05-08 10:05:14,662]\u001b[0m Trial 410 finished with value: -3.6512005859186623 and parameters: {'eta': 0.03227096139813371, 'gamma': 6.91573154350857e-08, 'max_depth': 12, 'min_child_weight': 1.0329692052756613e-08, 'subsample': 0.4492973851507935, 'reg_lambda': 34.24993599902913, 'reg_alpha': 0.26577909355357743}. Best is trial 368 with value: -2.096921031392651.\u001b[0m\n"
     ]
    },
    {
     "name": "stdout",
     "output_type": "stream",
     "text": [
      "[-3.03138645 -3.58627249 -3.90070964 -3.67193766 -4.06569668]\n"
     ]
    },
    {
     "name": "stderr",
     "output_type": "stream",
     "text": [
      "\u001b[32m[I 2021-05-08 10:05:15,682]\u001b[0m Trial 411 finished with value: -2.873012126746001 and parameters: {'eta': 0.05708058891319469, 'gamma': 1.0556177178748715e-07, 'max_depth': 11, 'min_child_weight': 1.5378271057108002e-07, 'subsample': 0.4948853143314564, 'reg_lambda': 18.953992139149662, 'reg_alpha': 46.00739992651604}. Best is trial 368 with value: -2.096921031392651.\u001b[0m\n"
     ]
    },
    {
     "name": "stdout",
     "output_type": "stream",
     "text": [
      "[-2.39553832 -2.54056872 -3.02119705 -2.83569401 -3.57206254]\n"
     ]
    },
    {
     "name": "stderr",
     "output_type": "stream",
     "text": [
      "\u001b[32m[I 2021-05-08 10:05:16,614]\u001b[0m Trial 412 finished with value: -2.3200726432447083 and parameters: {'eta': 0.10108311492655048, 'gamma': 5.204389212432949e-07, 'max_depth': 3, 'min_child_weight': 3.370825918666897e-06, 'subsample': 0.7247144559754728, 'reg_lambda': 0.3144968157324496, 'reg_alpha': 22.2507670313014}. Best is trial 368 with value: -2.096921031392651.\u001b[0m\n"
     ]
    },
    {
     "name": "stdout",
     "output_type": "stream",
     "text": [
      "[-1.77479293 -2.12746661 -2.35075466 -2.45617981 -2.89116921]\n"
     ]
    },
    {
     "name": "stderr",
     "output_type": "stream",
     "text": [
      "\u001b[32m[I 2021-05-08 10:05:17,143]\u001b[0m Trial 413 finished with value: -3.2926747157014447 and parameters: {'eta': 0.358656161468844, 'gamma': 5.058031165418727e-08, 'max_depth': 2, 'min_child_weight': 6.7187647415168e-08, 'subsample': 0.4689947159243831, 'reg_lambda': 851.3048635751109, 'reg_alpha': 0.18646494787469514}. Best is trial 368 with value: -2.096921031392651.\u001b[0m\n"
     ]
    },
    {
     "name": "stdout",
     "output_type": "stream",
     "text": [
      "[-2.70987754 -3.12368834 -3.60857853 -3.30988923 -3.71133994]\n"
     ]
    },
    {
     "name": "stderr",
     "output_type": "stream",
     "text": [
      "\u001b[32m[I 2021-05-08 10:05:18,154]\u001b[0m Trial 414 finished with value: -2.6885386779632103 and parameters: {'eta': 0.15267123412760314, 'gamma': 1.8105623530963994e-07, 'max_depth': 3, 'min_child_weight': 1.0017006632445706e-08, 'subsample': 0.4002746445669388, 'reg_lambda': 62.12511102384793, 'reg_alpha': 20.896725041348713}. Best is trial 368 with value: -2.096921031392651.\u001b[0m\n"
     ]
    },
    {
     "name": "stdout",
     "output_type": "stream",
     "text": [
      "[-2.183789   -2.42927397 -2.73788237 -2.66379006 -3.42795799]\n"
     ]
    },
    {
     "name": "stderr",
     "output_type": "stream",
     "text": [
      "\u001b[32m[I 2021-05-08 10:05:18,818]\u001b[0m Trial 415 finished with value: -6.617778665819285 and parameters: {'eta': 0.07690557760885038, 'gamma': 3.4412478661044e-07, 'max_depth': 4, 'min_child_weight': 1.237984380358213e-05, 'subsample': 0.514370461501567, 'reg_lambda': 718.3834206771256, 'reg_alpha': 35.948051004917836}. Best is trial 368 with value: -2.096921031392651.\u001b[0m\n"
     ]
    },
    {
     "name": "stdout",
     "output_type": "stream",
     "text": [
      "[-5.5872973  -6.9783547  -6.64159701 -6.90854487 -6.97309945]\n"
     ]
    },
    {
     "name": "stderr",
     "output_type": "stream",
     "text": [
      "\u001b[32m[I 2021-05-08 10:05:19,322]\u001b[0m Trial 416 finished with value: -3.680545131088775 and parameters: {'eta': 0.05279535978787407, 'gamma': 8.780776694571075e-08, 'max_depth': 14, 'min_child_weight': 1.0776544545634135e-07, 'subsample': 0.4303187468457547, 'reg_lambda': 31.648934304820862, 'reg_alpha': 170.2617744057778}. Best is trial 368 with value: -2.096921031392651.\u001b[0m\n"
     ]
    },
    {
     "name": "stdout",
     "output_type": "stream",
     "text": [
      "[-3.16878324 -3.47369861 -3.96554675 -3.77873989 -4.01595717]\n"
     ]
    },
    {
     "name": "stderr",
     "output_type": "stream",
     "text": [
      "\u001b[32m[I 2021-05-08 10:05:19,761]\u001b[0m Trial 417 finished with value: -2.2792363773275306 and parameters: {'eta': 0.11734645828449031, 'gamma': 1.2386792416010062e-06, 'max_depth': 3, 'min_child_weight': 3.1232541900434067e-07, 'subsample': 0.7005441249375912, 'reg_lambda': 0.6145058543432694, 'reg_alpha': 18.11477684998522}. Best is trial 368 with value: -2.096921031392651.\u001b[0m\n"
     ]
    },
    {
     "name": "stdout",
     "output_type": "stream",
     "text": [
      "[-1.6537012  -2.11993253 -2.26972304 -2.60210418 -2.75072093]\n"
     ]
    },
    {
     "name": "stderr",
     "output_type": "stream",
     "text": [
      "\u001b[32m[I 2021-05-08 10:05:20,863]\u001b[0m Trial 418 finished with value: -2.640971373240153 and parameters: {'eta': 0.22095217774143644, 'gamma': 1.3445818640451812e-07, 'max_depth': 13, 'min_child_weight': 5.586068377253665e-08, 'subsample': 0.4554293096037548, 'reg_lambda': 18.177895936318464, 'reg_alpha': 55.62808017004546}. Best is trial 368 with value: -2.096921031392651.\u001b[0m\n"
     ]
    },
    {
     "name": "stdout",
     "output_type": "stream",
     "text": [
      "[-2.12317572 -2.47371228 -2.57775804 -2.75553635 -3.27467447]\n"
     ]
    },
    {
     "name": "stderr",
     "output_type": "stream",
     "text": [
      "\u001b[32m[I 2021-05-08 10:05:21,572]\u001b[0m Trial 419 finished with value: -18.612540253053478 and parameters: {'eta': 0.0018437210834506548, 'gamma': 2.362743131360155e-07, 'max_depth': 10, 'min_child_weight': 0.00013636476934041666, 'subsample': 0.48310134263302784, 'reg_lambda': 49.73784576329741, 'reg_alpha': 17.815380446311494}. Best is trial 368 with value: -2.096921031392651.\u001b[0m\n"
     ]
    },
    {
     "name": "stdout",
     "output_type": "stream",
     "text": [
      "[-17.54622775 -19.48134298 -18.03384268 -18.57863939 -19.42264847]\n"
     ]
    },
    {
     "name": "stderr",
     "output_type": "stream",
     "text": [
      "\u001b[32m[I 2021-05-08 10:05:21,952]\u001b[0m Trial 420 finished with value: -2.4631629844771488 and parameters: {'eta': 0.08642636471070866, 'gamma': 7.165075231742546e-07, 'max_depth': 3, 'min_child_weight': 1.4779179776996205e-08, 'subsample': 0.510478911853179, 'reg_lambda': 20.714641460943497, 'reg_alpha': 0.601196179637447}. Best is trial 368 with value: -2.096921031392651.\u001b[0m\n"
     ]
    },
    {
     "name": "stdout",
     "output_type": "stream",
     "text": [
      "[-1.94981667 -2.33997968 -2.39906628 -2.58915933 -3.03779296]\n"
     ]
    },
    {
     "name": "stderr",
     "output_type": "stream",
     "text": [
      "\u001b[32m[I 2021-05-08 10:05:22,646]\u001b[0m Trial 421 finished with value: -2.4965128978741022 and parameters: {'eta': 0.1710356934685597, 'gamma': 4.522721919771771e-08, 'max_depth': 4, 'min_child_weight': 1.332243694704675e-07, 'subsample': 0.4155098957271525, 'reg_lambda': 33.84142886165675, 'reg_alpha': 0.4080058896706542}. Best is trial 368 with value: -2.096921031392651.\u001b[0m\n"
     ]
    },
    {
     "name": "stdout",
     "output_type": "stream",
     "text": [
      "[-2.13992167 -2.30223321 -2.2481127  -2.60199406 -3.19030285]\n"
     ]
    },
    {
     "name": "stderr",
     "output_type": "stream",
     "text": [
      "\u001b[32m[I 2021-05-08 10:05:23,273]\u001b[0m Trial 422 finished with value: -2.4531713419019434 and parameters: {'eta': 0.12115969849933028, 'gamma': 8.877344089786853e-08, 'max_depth': 3, 'min_child_weight': 8.283153561716004e-08, 'subsample': 0.4408160389996163, 'reg_lambda': 0.7155838196478033, 'reg_alpha': 36.021984263212595}. Best is trial 368 with value: -2.096921031392651.\u001b[0m\n"
     ]
    },
    {
     "name": "stdout",
     "output_type": "stream",
     "text": [
      "[-1.84011761 -2.30559478 -2.52981249 -2.60240394 -2.98792788]\n"
     ]
    },
    {
     "name": "stderr",
     "output_type": "stream",
     "text": [
      "\u001b[32m[I 2021-05-08 10:05:23,849]\u001b[0m Trial 423 finished with value: -6.141494973553551 and parameters: {'eta': 0.03571216981695867, 'gamma': 3.4101442334725636e-07, 'max_depth': 14, 'min_child_weight': 2.226084360298411e-07, 'subsample': 0.4970213311849766, 'reg_lambda': 0.6100110197147002, 'reg_alpha': 778.3017878733183}. Best is trial 368 with value: -2.096921031392651.\u001b[0m\n"
     ]
    },
    {
     "name": "stdout",
     "output_type": "stream",
     "text": [
      "[-5.25386837 -6.36569511 -6.13757154 -6.47323735 -6.47710249]\n"
     ]
    },
    {
     "name": "stderr",
     "output_type": "stream",
     "text": [
      "\u001b[32m[I 2021-05-08 10:05:24,224]\u001b[0m Trial 424 finished with value: -7.404743468225739 and parameters: {'eta': 0.01637652937935676, 'gamma': 1.6555951385741272e-07, 'max_depth': 2, 'min_child_weight': 1.39092470198219e-08, 'subsample': 0.7118566297121912, 'reg_lambda': 86.63472333674413, 'reg_alpha': 18.416369501122666}. Best is trial 368 with value: -2.096921031392651.\u001b[0m\n"
     ]
    },
    {
     "name": "stdout",
     "output_type": "stream",
     "text": [
      "[-6.54936117 -7.74275661 -7.33629362 -7.53197319 -7.86333276]\n"
     ]
    },
    {
     "name": "stderr",
     "output_type": "stream",
     "text": [
      "\u001b[32m[I 2021-05-08 10:05:25,340]\u001b[0m Trial 425 finished with value: -2.1002803312937415 and parameters: {'eta': 0.0666332715035738, 'gamma': 2.9680576234558428e-08, 'max_depth': 13, 'min_child_weight': 4.9888928600463775e-08, 'subsample': 0.6680670584036762, 'reg_lambda': 0.21514904136913593, 'reg_alpha': 0.0776759126646116}. Best is trial 368 with value: -2.096921031392651.\u001b[0m\n"
     ]
    },
    {
     "name": "stdout",
     "output_type": "stream",
     "text": [
      "[-1.76508652 -1.88962085 -2.10362196 -2.39245014 -2.35062219]\n"
     ]
    },
    {
     "name": "stderr",
     "output_type": "stream",
     "text": [
      "\u001b[32m[I 2021-05-08 10:05:25,829]\u001b[0m Trial 426 finished with value: -3.073138940864139 and parameters: {'eta': 0.04241645705691539, 'gamma': 1.3136445200774531e-08, 'max_depth': 13, 'min_child_weight': 5.431078574145965e-08, 'subsample': 0.6605487743314742, 'reg_lambda': 18.637324868875957, 'reg_alpha': 70.34983518600876}. Best is trial 368 with value: -2.096921031392651.\u001b[0m\n"
     ]
    },
    {
     "name": "stdout",
     "output_type": "stream",
     "text": [
      "[-2.53198086 -2.94726539 -3.27676056 -3.00688341 -3.60280448]\n"
     ]
    },
    {
     "name": "stderr",
     "output_type": "stream",
     "text": [
      "\u001b[32m[I 2021-05-08 10:05:26,273]\u001b[0m Trial 427 finished with value: -4.223612231961003 and parameters: {'eta': 0.05972828081897474, 'gamma': 2.323331554599645e-08, 'max_depth': 12, 'min_child_weight': 4.4167880128694676e-08, 'subsample': 0.6842008857214825, 'reg_lambda': 60.48877311050424, 'reg_alpha': 518.3949743316707}. Best is trial 368 with value: -2.096921031392651.\u001b[0m\n"
     ]
    },
    {
     "name": "stdout",
     "output_type": "stream",
     "text": [
      "[-3.53074995 -4.13357299 -4.50731788 -4.58299233 -4.36342802]\n"
     ]
    },
    {
     "name": "stderr",
     "output_type": "stream",
     "text": [
      "\u001b[32m[I 2021-05-08 10:05:26,752]\u001b[0m Trial 428 finished with value: -4.541654705124136 and parameters: {'eta': 0.02398096153810498, 'gamma': 3.508822855033569e-08, 'max_depth': 13, 'min_child_weight': 1.0034084204471167e-08, 'subsample': 0.6740702732374579, 'reg_lambda': 39.26621873670992, 'reg_alpha': 44.27333232717001}. Best is trial 368 with value: -2.096921031392651.\u001b[0m\n"
     ]
    },
    {
     "name": "stdout",
     "output_type": "stream",
     "text": [
      "[-3.87430732 -4.5481825  -4.76644124 -4.63828563 -4.88105684]\n"
     ]
    },
    {
     "name": "stderr",
     "output_type": "stream",
     "text": [
      "\u001b[32m[I 2021-05-08 10:05:27,583]\u001b[0m Trial 429 finished with value: -2.291379768430451 and parameters: {'eta': 0.07077097789533361, 'gamma': 2.4501757036448293e-08, 'max_depth': 13, 'min_child_weight': 2.2986298327966244e-08, 'subsample': 0.6265617289732853, 'reg_lambda': 0.4007003156635638, 'reg_alpha': 17.90442132120266}. Best is trial 368 with value: -2.096921031392651.\u001b[0m\n"
     ]
    },
    {
     "name": "stdout",
     "output_type": "stream",
     "text": [
      "[-1.79336954 -2.07512871 -2.23836892 -2.48283683 -2.86719483]\n"
     ]
    },
    {
     "name": "stderr",
     "output_type": "stream",
     "text": [
      "\u001b[32m[I 2021-05-08 10:05:28,949]\u001b[0m Trial 430 finished with value: -2.589422890315821 and parameters: {'eta': 0.04718580559712313, 'gamma': 3.713070188855112e-08, 'max_depth': 13, 'min_child_weight': 4.5029109266471255e-08, 'subsample': 0.7018596181378869, 'reg_lambda': 17.245319682179158, 'reg_alpha': 1.024155598253141}. Best is trial 368 with value: -2.096921031392651.\u001b[0m\n"
     ]
    },
    {
     "name": "stdout",
     "output_type": "stream",
     "text": [
      "[-2.12441461 -2.51791439 -2.59971668 -2.48494067 -3.2201281 ]\n"
     ]
    },
    {
     "name": "stderr",
     "output_type": "stream",
     "text": [
      "\u001b[32m[I 2021-05-08 10:05:29,620]\u001b[0m Trial 431 finished with value: -2.5059396862807097 and parameters: {'eta': 0.08210270189928785, 'gamma': 1.4125773557889758e-08, 'max_depth': 14, 'min_child_weight': 2.0317821925307314e-08, 'subsample': 0.478294843662649, 'reg_lambda': 0.5277887377907726, 'reg_alpha': 32.32238174693338}. Best is trial 368 with value: -2.096921031392651.\u001b[0m\n"
     ]
    },
    {
     "name": "stdout",
     "output_type": "stream",
     "text": [
      "[-1.86736296 -2.33667578 -2.44024143 -2.80428536 -3.08113289]\n"
     ]
    },
    {
     "name": "stderr",
     "output_type": "stream",
     "text": [
      "\u001b[32m[I 2021-05-08 10:05:30,501]\u001b[0m Trial 432 finished with value: -2.3830606753678967 and parameters: {'eta': 0.10127064679195369, 'gamma': 6.643757574020668e-08, 'max_depth': 12, 'min_child_weight': 6.645974979916233e-08, 'subsample': 0.652312783885584, 'reg_lambda': 20.587658489781067, 'reg_alpha': 0.14119982645373552}. Best is trial 368 with value: -2.096921031392651.\u001b[0m\n"
     ]
    },
    {
     "name": "stdout",
     "output_type": "stream",
     "text": [
      "[-2.03524706 -2.24711574 -2.25029503 -2.332452   -3.05019355]\n"
     ]
    },
    {
     "name": "stderr",
     "output_type": "stream",
     "text": [
      "\u001b[32m[I 2021-05-08 10:05:31,206]\u001b[0m Trial 433 finished with value: -3.060763848375391 and parameters: {'eta': 0.06066264120374634, 'gamma': 2.0246107869602685e-08, 'max_depth': 14, 'min_child_weight': 1.430670887442204e-08, 'subsample': 0.4599121718066291, 'reg_lambda': 45.25559275902926, 'reg_alpha': 20.39358327710054}. Best is trial 368 with value: -2.096921031392651.\u001b[0m\n"
     ]
    },
    {
     "name": "stdout",
     "output_type": "stream",
     "text": [
      "[-2.63504803 -2.89519449 -3.23843265 -2.90769456 -3.62744951]\n"
     ]
    },
    {
     "name": "stderr",
     "output_type": "stream",
     "text": [
      "\u001b[32m[I 2021-05-08 10:05:32,420]\u001b[0m Trial 434 finished with value: -2.2211085371470745 and parameters: {'eta': 0.03450244651528062, 'gamma': 4.834213228497962e-07, 'max_depth': 12, 'min_child_weight': 3.2712609664536576e-08, 'subsample': 0.7334396453813465, 'reg_lambda': 0.3324257439373085, 'reg_alpha': 0.027877427317872572}. Best is trial 368 with value: -2.096921031392651.\u001b[0m\n"
     ]
    },
    {
     "name": "stdout",
     "output_type": "stream",
     "text": [
      "[-2.02271327 -1.9739163  -2.22622275 -2.35621302 -2.52647734]\n"
     ]
    },
    {
     "name": "stderr",
     "output_type": "stream",
     "text": [
      "\u001b[32m[I 2021-05-08 10:05:33,025]\u001b[0m Trial 435 finished with value: -3.0813489997239762 and parameters: {'eta': 0.02990549568326597, 'gamma': 5.619897016094364e-07, 'max_depth': 12, 'min_child_weight': 3.6287395294176074e-08, 'subsample': 0.432516853537801, 'reg_lambda': 0.2287564310112643, 'reg_alpha': 56.96587163448361}. Best is trial 368 with value: -2.096921031392651.\u001b[0m\n"
     ]
    },
    {
     "name": "stdout",
     "output_type": "stream",
     "text": [
      "[-2.57689157 -3.03015452 -3.29175193 -2.95127847 -3.55666851]\n"
     ]
    },
    {
     "name": "stderr",
     "output_type": "stream",
     "text": [
      "\u001b[32m[I 2021-05-08 10:05:33,599]\u001b[0m Trial 436 finished with value: -3.1236576264993645 and parameters: {'eta': 0.03504194268448453, 'gamma': 5.049213544131673e-07, 'max_depth': 13, 'min_child_weight': 2.8518748256955344e-08, 'subsample': 0.7352916893919448, 'reg_lambda': 31.392827798425877, 'reg_alpha': 0.08730069295113042}. Best is trial 368 with value: -2.096921031392651.\u001b[0m\n"
     ]
    },
    {
     "name": "stdout",
     "output_type": "stream",
     "text": [
      "[-2.55346436 -2.96213239 -3.39545532 -3.09278404 -3.61445202]\n"
     ]
    },
    {
     "name": "stderr",
     "output_type": "stream",
     "text": [
      "\u001b[32m[I 2021-05-08 10:05:34,133]\u001b[0m Trial 437 finished with value: -3.8363829687318685 and parameters: {'eta': 0.024330711124304755, 'gamma': 8.251356739084606e-07, 'max_depth': 11, 'min_child_weight': 4.58384330124292e-08, 'subsample': 0.7736930452743784, 'reg_lambda': 18.356216605439027, 'reg_alpha': 34.942562463160165}. Best is trial 368 with value: -2.096921031392651.\u001b[0m\n"
     ]
    },
    {
     "name": "stdout",
     "output_type": "stream",
     "text": [
      "[-3.27308167 -3.80263491 -4.09101015 -3.73090852 -4.2842796 ]\n"
     ]
    },
    {
     "name": "stderr",
     "output_type": "stream",
     "text": [
      "\u001b[32m[I 2021-05-08 10:05:34,848]\u001b[0m Trial 438 finished with value: -2.407193278030113 and parameters: {'eta': 0.04409838078450724, 'gamma': 4.0960998509546556e-07, 'max_depth': 13, 'min_child_weight': 2.6533199374192e-08, 'subsample': 0.747052394135028, 'reg_lambda': 0.1521702053230598, 'reg_alpha': 15.400208820130112}. Best is trial 368 with value: -2.096921031392651.\u001b[0m\n"
     ]
    },
    {
     "name": "stdout",
     "output_type": "stream",
     "text": [
      "[-1.89847925 -2.17734147 -2.46283027 -2.51546519 -2.98185022]\n"
     ]
    },
    {
     "name": "stderr",
     "output_type": "stream",
     "text": [
      "\u001b[32m[I 2021-05-08 10:05:35,566]\u001b[0m Trial 439 finished with value: -12.257451902825157 and parameters: {'eta': 0.008385451496162816, 'gamma': 2.9248107203077404e-07, 'max_depth': 12, 'min_child_weight': 1.6373103116049172e-08, 'subsample': 0.4735863322860083, 'reg_lambda': 61.54508474575872, 'reg_alpha': 87.24110255229235}. Best is trial 368 with value: -2.096921031392651.\u001b[0m\n"
     ]
    },
    {
     "name": "stdout",
     "output_type": "stream",
     "text": [
      "[-11.23699466 -13.02493822 -11.84451454 -12.23611508 -12.94469701]\n"
     ]
    },
    {
     "name": "stderr",
     "output_type": "stream",
     "text": [
      "\u001b[32m[I 2021-05-08 10:05:36,194]\u001b[0m Trial 440 finished with value: -14.345094628545974 and parameters: {'eta': 0.004625642762752605, 'gamma': 5.28181421163301e-08, 'max_depth': 12, 'min_child_weight': 6.748995276677016e-08, 'subsample': 0.5265126953310076, 'reg_lambda': 17.102180382580755, 'reg_alpha': 17.211051408671988}. Best is trial 368 with value: -2.096921031392651.\u001b[0m\n"
     ]
    },
    {
     "name": "stdout",
     "output_type": "stream",
     "text": [
      "[-13.47617089 -15.02877528 -13.88422228 -14.29858048 -15.03772422]\n"
     ]
    },
    {
     "name": "stderr",
     "output_type": "stream",
     "text": [
      "\u001b[32m[I 2021-05-08 10:05:36,801]\u001b[0m Trial 441 finished with value: -3.0660965734646646 and parameters: {'eta': 0.051358613089958184, 'gamma': 2.9441982804850704e-08, 'max_depth': 15, 'min_child_weight': 2.9158097139917326e-08, 'subsample': 0.6368618046554259, 'reg_lambda': 38.8179282892564, 'reg_alpha': 46.46690838779245}. Best is trial 368 with value: -2.096921031392651.\u001b[0m\n"
     ]
    },
    {
     "name": "stdout",
     "output_type": "stream",
     "text": [
      "[-2.5513502  -2.96512931 -3.23432284 -2.9533354  -3.62634511]\n"
     ]
    },
    {
     "name": "stderr",
     "output_type": "stream",
     "text": [
      "\u001b[32m[I 2021-05-08 10:05:37,588]\u001b[0m Trial 442 finished with value: -2.1028628827613076 and parameters: {'eta': 0.08578888757549823, 'gamma': 9.183886689167177e-07, 'max_depth': 11, 'min_child_weight': 1.9533521487211347e-08, 'subsample': 0.3983336903107099, 'reg_lambda': 1.394035440405916, 'reg_alpha': 0.2766459132680832}. Best is trial 368 with value: -2.096921031392651.\u001b[0m\n"
     ]
    },
    {
     "name": "stdout",
     "output_type": "stream",
     "text": [
      "[-1.66284599 -1.86454475 -2.03608339 -2.5107644  -2.44007589]\n"
     ]
    },
    {
     "name": "stderr",
     "output_type": "stream",
     "text": [
      "\u001b[32m[I 2021-05-08 10:05:39,135]\u001b[0m Trial 443 finished with value: -5.877339049657186 and parameters: {'eta': 0.06434737541639704, 'gamma': 9.482080890727541e-07, 'max_depth': 11, 'min_child_weight': 1.7608820705421074e-08, 'subsample': 0.396827378849992, 'reg_lambda': 381.81317055297563, 'reg_alpha': 0.2020290747758755}. Best is trial 368 with value: -2.096921031392651.\u001b[0m\n"
     ]
    },
    {
     "name": "stdout",
     "output_type": "stream",
     "text": [
      "[-4.91160311 -6.09053697 -5.94606773 -6.17571346 -6.26277398]\n"
     ]
    },
    {
     "name": "stderr",
     "output_type": "stream",
     "text": [
      "\u001b[32m[I 2021-05-08 10:05:41,683]\u001b[0m Trial 444 finished with value: -2.7565008185645676 and parameters: {'eta': 0.07832136895160588, 'gamma': 1.6790150115031008e-06, 'max_depth': 11, 'min_child_weight': 2.070086720902166e-08, 'subsample': 0.3515998455646629, 'reg_lambda': 18.07117463936186, 'reg_alpha': 29.44560244998054}. Best is trial 368 with value: -2.096921031392651.\u001b[0m\n"
     ]
    },
    {
     "name": "stdout",
     "output_type": "stream",
     "text": [
      "[-2.26808049 -2.5011441  -2.72935882 -2.67593791 -3.60798277]\n"
     ]
    },
    {
     "name": "stderr",
     "output_type": "stream",
     "text": [
      "\u001b[32m[I 2021-05-08 10:05:43,476]\u001b[0m Trial 445 finished with value: -2.156239278357706 and parameters: {'eta': 0.04618267042569163, 'gamma': 6.506253214010294e-07, 'max_depth': 12, 'min_child_weight': 1.072883966621997e-08, 'subsample': 0.4120289533887868, 'reg_lambda': 0.5480740234364175, 'reg_alpha': 1.3183372063434962}. Best is trial 368 with value: -2.096921031392651.\u001b[0m\n"
     ]
    },
    {
     "name": "stdout",
     "output_type": "stream",
     "text": [
      "[-1.76495409 -1.84326967 -2.05682804 -2.40564578 -2.71049881]\n"
     ]
    },
    {
     "name": "stderr",
     "output_type": "stream",
     "text": [
      "\u001b[32m[I 2021-05-08 10:05:44,053]\u001b[0m Trial 446 finished with value: -3.8590808514960018 and parameters: {'eta': 0.035387959352732486, 'gamma': 7.080092834012457e-07, 'max_depth': 12, 'min_child_weight': 1.0494929634159166e-08, 'subsample': 0.4062157779396611, 'reg_lambda': 50.166470312335605, 'reg_alpha': 1.6026095183336175}. Best is trial 368 with value: -2.096921031392651.\u001b[0m\n"
     ]
    },
    {
     "name": "stdout",
     "output_type": "stream",
     "text": [
      "[-3.21116618 -3.81067022 -4.15961082 -3.91795027 -4.19600677]\n"
     ]
    },
    {
     "name": "stderr",
     "output_type": "stream",
     "text": [
      "\u001b[32m[I 2021-05-08 10:05:44,550]\u001b[0m Trial 447 finished with value: -4.96767681691676 and parameters: {'eta': 0.06183127403043637, 'gamma': 7.747351095197842e-07, 'max_depth': 11, 'min_child_weight': 3.940183988150935e-08, 'subsample': 0.3863348603330742, 'reg_lambda': 31.520249135335913, 'reg_alpha': 470.534714428094}. Best is trial 368 with value: -2.096921031392651.\u001b[0m\n"
     ]
    },
    {
     "name": "stdout",
     "output_type": "stream",
     "text": [
      "[-4.16051026 -5.01466984 -5.15164405 -5.29562077 -5.21593916]\n"
     ]
    },
    {
     "name": "stderr",
     "output_type": "stream",
     "text": [
      "\u001b[32m[I 2021-05-08 10:05:45,303]\u001b[0m Trial 448 finished with value: -2.3825615707444556 and parameters: {'eta': 0.09320636779213098, 'gamma': 1.103281278532995e-06, 'max_depth': 12, 'min_child_weight': 1.0036337882369365e-08, 'subsample': 0.37881067782558836, 'reg_lambda': 0.7661492497946825, 'reg_alpha': 18.575778544074254}. Best is trial 368 with value: -2.096921031392651.\u001b[0m\n"
     ]
    },
    {
     "name": "stdout",
     "output_type": "stream",
     "text": [
      "[-1.82587149 -2.2628121  -2.35492002 -2.513226   -2.95597825]\n"
     ]
    },
    {
     "name": "stderr",
     "output_type": "stream",
     "text": [
      "\u001b[32m[I 2021-05-08 10:05:46,256]\u001b[0m Trial 449 finished with value: -2.216461646945388 and parameters: {'eta': 0.05001799077487199, 'gamma': 5.933752905035297e-07, 'max_depth': 11, 'min_child_weight': 1.3410689923017264e-08, 'subsample': 0.42649983255701185, 'reg_lambda': 1.330797116443115, 'reg_alpha': 0.6621531874297316}. Best is trial 368 with value: -2.096921031392651.\u001b[0m\n"
     ]
    },
    {
     "name": "stdout",
     "output_type": "stream",
     "text": [
      "[-1.72020261 -2.09194767 -2.09402704 -2.47321143 -2.70291949]\n"
     ]
    },
    {
     "name": "stderr",
     "output_type": "stream",
     "text": [
      "\u001b[32m[I 2021-05-08 10:05:46,907]\u001b[0m Trial 450 finished with value: -4.724437139181444 and parameters: {'eta': 0.018016421512392095, 'gamma': 5.959665348692923e-07, 'max_depth': 11, 'min_child_weight': 1.001387884413971e-08, 'subsample': 0.4151652229822807, 'reg_lambda': 0.8188064915651314, 'reg_alpha': 48.7864329186868}. Best is trial 368 with value: -2.096921031392651.\u001b[0m\n"
     ]
    },
    {
     "name": "stdout",
     "output_type": "stream",
     "text": [
      "[-4.33430532 -4.83386356 -4.81558554 -4.54884559 -5.08958569]\n"
     ]
    },
    {
     "name": "stderr",
     "output_type": "stream",
     "text": [
      "\u001b[32m[I 2021-05-08 10:05:47,344]\u001b[0m Trial 451 finished with value: -5.105403009973926 and parameters: {'eta': 0.08959787435976939, 'gamma': 1.0993725298791063e-06, 'max_depth': 11, 'min_child_weight': 3.193027564894345e-08, 'subsample': 0.44913178505844414, 'reg_lambda': 526.3344136272772, 'reg_alpha': 0.1462171640198094}. Best is trial 368 with value: -2.096921031392651.\u001b[0m\n"
     ]
    },
    {
     "name": "stdout",
     "output_type": "stream",
     "text": [
      "[-4.23300457 -5.13573585 -5.31310237 -5.47112348 -5.37404877]\n"
     ]
    },
    {
     "name": "stderr",
     "output_type": "stream",
     "text": [
      "\u001b[32m[I 2021-05-08 10:05:47,816]\u001b[0m Trial 452 finished with value: -3.647797789826805 and parameters: {'eta': 0.11836292208451062, 'gamma': 4.93763383222882e-07, 'max_depth': 11, 'min_child_weight': 5.403814531557049e-08, 'subsample': 0.36832671805163647, 'reg_lambda': 240.34931104944965, 'reg_alpha': 30.05412671434601}. Best is trial 368 with value: -2.096921031392651.\u001b[0m\n"
     ]
    },
    {
     "name": "stdout",
     "output_type": "stream",
     "text": [
      "[-3.06397679 -3.55945532 -4.05259756 -3.73149244 -3.83146685]\n"
     ]
    },
    {
     "name": "stderr",
     "output_type": "stream",
     "text": [
      "\u001b[32m[I 2021-05-08 10:05:48,382]\u001b[0m Trial 453 finished with value: -2.9926814666206454 and parameters: {'eta': 0.06583604408109914, 'gamma': 6.46491778892486e-07, 'max_depth': 12, 'min_child_weight': 2.241361215424899e-08, 'subsample': 0.6833504155996504, 'reg_lambda': 77.35380043878472, 'reg_alpha': 19.882880831791173}. Best is trial 368 with value: -2.096921031392651.\u001b[0m\n"
     ]
    },
    {
     "name": "stdout",
     "output_type": "stream",
     "text": [
      "[-2.45550681 -2.74521685 -3.22892141 -2.92112339 -3.61263888]\n"
     ]
    },
    {
     "name": "stderr",
     "output_type": "stream",
     "text": [
      "\u001b[32m[I 2021-05-08 10:05:48,967]\u001b[0m Trial 454 finished with value: -2.9384231735865276 and parameters: {'eta': 0.04579733372280974, 'gamma': 1.4295104464384543e-06, 'max_depth': 10, 'min_child_weight': 1.354056029696716e-08, 'subsample': 0.30341918187086986, 'reg_lambda': 0.22776773336371736, 'reg_alpha': 68.45204043515653}. Best is trial 368 with value: -2.096921031392651.\u001b[0m\n"
     ]
    },
    {
     "name": "stdout",
     "output_type": "stream",
     "text": [
      "[-2.42737497 -2.66736078 -3.00665316 -2.79315906 -3.7975679 ]\n"
     ]
    },
    {
     "name": "stderr",
     "output_type": "stream",
     "text": [
      "\u001b[32m[I 2021-05-08 10:05:49,494]\u001b[0m Trial 455 finished with value: -2.483957913999204 and parameters: {'eta': 0.12044675165030092, 'gamma': 8.9647108667018e-07, 'max_depth': 10, 'min_child_weight': 4.3169748435049814e-08, 'subsample': 0.22045705071037858, 'reg_lambda': 20.543416967601996, 'reg_alpha': 0.7733837862267707}. Best is trial 368 with value: -2.096921031392651.\u001b[0m\n"
     ]
    },
    {
     "name": "stdout",
     "output_type": "stream",
     "text": [
      "[-2.07891093 -2.2267557  -2.4300845  -2.53132979 -3.15270864]\n"
     ]
    },
    {
     "name": "stderr",
     "output_type": "stream",
     "text": [
      "\u001b[32m[I 2021-05-08 10:05:50,543]\u001b[0m Trial 456 finished with value: -2.702095177679886 and parameters: {'eta': 0.07986230855631873, 'gamma': 4.1866452599080363e-07, 'max_depth': 12, 'min_child_weight': 8.151845973189049e-08, 'subsample': 0.765464377498934, 'reg_lambda': 35.26471643765421, 'reg_alpha': 39.49973378144016}. Best is trial 368 with value: -2.096921031392651.\u001b[0m\n"
     ]
    },
    {
     "name": "stdout",
     "output_type": "stream",
     "text": [
      "[-2.2448027  -2.55112851 -2.66836948 -2.64116261 -3.40501259]\n"
     ]
    },
    {
     "name": "stderr",
     "output_type": "stream",
     "text": [
      "\u001b[32m[I 2021-05-08 10:05:52,188]\u001b[0m Trial 457 finished with value: -3.3666308943312844 and parameters: {'eta': 0.030222143568500382, 'gamma': 6.347638640930248e-07, 'max_depth': 11, 'min_child_weight': 1.8425659473207886e-08, 'subsample': 0.4280404922815303, 'reg_lambda': 17.296132974527595, 'reg_alpha': 1.2014594191967207}. Best is trial 368 with value: -2.096921031392651.\u001b[0m\n"
     ]
    },
    {
     "name": "stdout",
     "output_type": "stream",
     "text": [
      "[-2.82125553 -3.1966965  -3.64110828 -3.27608358 -3.89801058]\n"
     ]
    },
    {
     "name": "stderr",
     "output_type": "stream",
     "text": [
      "\u001b[32m[I 2021-05-08 10:05:53,182]\u001b[0m Trial 458 finished with value: -3.092410902529587 and parameters: {'eta': 0.05419858678640503, 'gamma': 4.18224656842981e-07, 'max_depth': 10, 'min_child_weight': 1.0036805275695483e-08, 'subsample': 0.4552406838745648, 'reg_lambda': 50.76390311987738, 'reg_alpha': 1.1518682680416343}. Best is trial 368 with value: -2.096921031392651.\u001b[0m\n"
     ]
    },
    {
     "name": "stdout",
     "output_type": "stream",
     "text": [
      "[-2.5736523  -2.93497971 -3.31070499 -2.97399605 -3.66872147]\n"
     ]
    },
    {
     "name": "stderr",
     "output_type": "stream",
     "text": [
      "\u001b[32m[I 2021-05-08 10:05:53,929]\u001b[0m Trial 459 finished with value: -2.4429895005814823 and parameters: {'eta': 0.12844219551957903, 'gamma': 2.1038679996187313e-06, 'max_depth': 12, 'min_child_weight': 2.852289099217977e-08, 'subsample': 0.7286452077341314, 'reg_lambda': 16.262426125779157, 'reg_alpha': 20.40972543252132}. Best is trial 368 with value: -2.096921031392651.\u001b[0m\n"
     ]
    },
    {
     "name": "stdout",
     "output_type": "stream",
     "text": [
      "[-2.09299874 -2.2421553  -2.31751425 -2.48765014 -3.07462909]\n"
     ]
    },
    {
     "name": "stderr",
     "output_type": "stream",
     "text": [
      "\u001b[32m[I 2021-05-08 10:05:54,827]\u001b[0m Trial 460 finished with value: -2.2134459143155887 and parameters: {'eta': 0.09750948399294754, 'gamma': 0.028534248372273377, 'max_depth': 11, 'min_child_weight': 5.729487345782555e-08, 'subsample': 0.4067280380883865, 'reg_lambda': 0.31255891016800147, 'reg_alpha': 0.49816744582397215}. Best is trial 368 with value: -2.096921031392651.\u001b[0m\n"
     ]
    },
    {
     "name": "stdout",
     "output_type": "stream",
     "text": [
      "[-1.88551781 -1.92468629 -2.13210921 -2.50394626 -2.62097   ]\n"
     ]
    },
    {
     "name": "stderr",
     "output_type": "stream",
     "text": [
      "\u001b[32m[I 2021-05-08 10:05:55,355]\u001b[0m Trial 461 finished with value: -2.8379561012350485 and parameters: {'eta': 0.09288759177952721, 'gamma': 0.004782945681330753, 'max_depth': 11, 'min_child_weight': 9.533849695099145e-08, 'subsample': 0.3861586976303186, 'reg_lambda': 33.33361706793829, 'reg_alpha': 35.79846560024659}. Best is trial 368 with value: -2.096921031392651.\u001b[0m\n"
     ]
    },
    {
     "name": "stdout",
     "output_type": "stream",
     "text": [
      "[-2.34897538 -2.55457891 -2.83078183 -2.77212529 -3.6833191 ]\n"
     ]
    },
    {
     "name": "stderr",
     "output_type": "stream",
     "text": [
      "\u001b[32m[I 2021-05-08 10:05:56,085]\u001b[0m Trial 462 finished with value: -2.3108417326256077 and parameters: {'eta': 0.14061996040690514, 'gamma': 0.04380669865544464, 'max_depth': 11, 'min_child_weight': 7.641131199378524e-08, 'subsample': 0.3990316107374285, 'reg_lambda': 19.32194296208154, 'reg_alpha': 0.21277700628513974}. Best is trial 368 with value: -2.096921031392651.\u001b[0m\n"
     ]
    },
    {
     "name": "stdout",
     "output_type": "stream",
     "text": [
      "[-1.9261699  -2.17612952 -2.08211041 -2.44751776 -2.92228108]\n"
     ]
    },
    {
     "name": "stderr",
     "output_type": "stream",
     "text": [
      "\u001b[32m[I 2021-05-08 10:05:56,782]\u001b[0m Trial 463 finished with value: -2.785661083392155 and parameters: {'eta': 0.08975333871900884, 'gamma': 1.3859029712335622e-06, 'max_depth': 10, 'min_child_weight': 4.495041897506215e-08, 'subsample': 0.41205060826696605, 'reg_lambda': 64.18743199472505, 'reg_alpha': 0.028777791351238147}. Best is trial 368 with value: -2.096921031392651.\u001b[0m\n"
     ]
    },
    {
     "name": "stdout",
     "output_type": "stream",
     "text": [
      "[-2.25070491 -2.48865265 -2.96832945 -2.68311378 -3.53750463]\n"
     ]
    },
    {
     "name": "stderr",
     "output_type": "stream",
     "text": [
      "\u001b[32m[I 2021-05-08 10:05:57,235]\u001b[0m Trial 464 finished with value: -2.627843665799977 and parameters: {'eta': 0.14762189443950355, 'gamma': 2.4809378962034155e-07, 'max_depth': 11, 'min_child_weight': 5.633804402633094e-08, 'subsample': 0.36778665610310385, 'reg_lambda': 0.40214620777650245, 'reg_alpha': 52.958358357218835}. Best is trial 368 with value: -2.096921031392651.\u001b[0m\n"
     ]
    },
    {
     "name": "stdout",
     "output_type": "stream",
     "text": [
      "[-2.22146636 -2.5694764  -2.51987294 -2.61134865 -3.21705397]\n"
     ]
    },
    {
     "name": "stderr",
     "output_type": "stream",
     "text": [
      "\u001b[32m[I 2021-05-08 10:05:57,886]\u001b[0m Trial 465 finished with value: -2.4134593280391927 and parameters: {'eta': 0.06452819385850832, 'gamma': 0.4564662909400551, 'max_depth': 11, 'min_child_weight': 6.463677526403669e-08, 'subsample': 0.42671050631901053, 'reg_lambda': 1.156342431239024, 'reg_alpha': 19.879439100609158}. Best is trial 368 with value: -2.096921031392651.\u001b[0m\n"
     ]
    },
    {
     "name": "stdout",
     "output_type": "stream",
     "text": [
      "[-1.91879787 -2.18929504 -2.37189527 -2.63397471 -2.95333375]\n"
     ]
    },
    {
     "name": "stderr",
     "output_type": "stream",
     "text": [
      "\u001b[32m[I 2021-05-08 10:05:58,309]\u001b[0m Trial 466 finished with value: -2.4592451478875716 and parameters: {'eta': 0.21827392723489378, 'gamma': 3.2845617769301093e-07, 'max_depth': 4, 'min_child_weight': 1.0572346393563962e-07, 'subsample': 0.387503070142009, 'reg_lambda': 0.5849530156869731, 'reg_alpha': 18.2866741443789}. Best is trial 368 with value: -2.096921031392651.\u001b[0m\n"
     ]
    },
    {
     "name": "stdout",
     "output_type": "stream",
     "text": [
      "[-1.89261871 -2.44087706 -2.42703985 -2.69285701 -2.84283312]\n"
     ]
    },
    {
     "name": "stderr",
     "output_type": "stream",
     "text": [
      "\u001b[32m[I 2021-05-08 10:05:58,992]\u001b[0m Trial 467 finished with value: -2.4565117659804256 and parameters: {'eta': 0.11461994898834844, 'gamma': 0.012935678215738535, 'max_depth': 11, 'min_child_weight': 1.9039025290881038e-08, 'subsample': 0.43607775197217896, 'reg_lambda': 38.43553826748222, 'reg_alpha': 0.3622493308591465}. Best is trial 368 with value: -2.096921031392651.\u001b[0m\n"
     ]
    },
    {
     "name": "stdout",
     "output_type": "stream",
     "text": [
      "[-1.99638782 -2.24446924 -2.40436226 -2.47374831 -3.16359121]\n"
     ]
    },
    {
     "name": "stderr",
     "output_type": "stream",
     "text": [
      "\u001b[32m[I 2021-05-08 10:05:59,353]\u001b[0m Trial 468 finished with value: -2.7459672727584836 and parameters: {'eta': 0.07855483928450208, 'gamma': 6.234012781951503e-07, 'max_depth': 2, 'min_child_weight': 1.2425560698429304e-08, 'subsample': 0.4088144284955086, 'reg_lambda': 20.949541746378205, 'reg_alpha': 38.075316413062}. Best is trial 368 with value: -2.096921031392651.\u001b[0m\n"
     ]
    },
    {
     "name": "stdout",
     "output_type": "stream",
     "text": [
      "[-2.2838307  -2.45439962 -2.89856314 -2.79589095 -3.29715194]\n"
     ]
    },
    {
     "name": "stderr",
     "output_type": "stream",
     "text": [
      "\u001b[32m[I 2021-05-08 10:05:59,710]\u001b[0m Trial 469 finished with value: -21.329965046563636 and parameters: {'eta': 8.765097109194607e-06, 'gamma': 2.915136919748902e-07, 'max_depth': 10, 'min_child_weight': 1.3689010623540757e-07, 'subsample': 0.4586453866495912, 'reg_lambda': 49.14983444321562, 'reg_alpha': 0.3570118767141337}. Best is trial 368 with value: -2.096921031392651.\u001b[0m\n"
     ]
    },
    {
     "name": "stdout",
     "output_type": "stream",
     "text": [
      "[-20.2404985  -22.20219835 -20.74531854 -21.31071104 -22.1510988 ]\n"
     ]
    },
    {
     "name": "stderr",
     "output_type": "stream",
     "text": [
      "\u001b[32m[I 2021-05-08 10:06:00,252]\u001b[0m Trial 470 finished with value: -2.531824480044989 and parameters: {'eta': 0.14656725298057835, 'gamma': 9.883161857343973e-07, 'max_depth': 5, 'min_child_weight': 5.1520893824120015e-08, 'subsample': 0.48891605544715644, 'reg_lambda': 18.08821106957717, 'reg_alpha': 19.27111793790126}. Best is trial 368 with value: -2.096921031392651.\u001b[0m\n"
     ]
    },
    {
     "name": "stdout",
     "output_type": "stream",
     "text": [
      "[-2.10701222 -2.26627299 -2.41762533 -2.71843289 -3.14977896]\n"
     ]
    },
    {
     "name": "stderr",
     "output_type": "stream",
     "text": [
      "\u001b[32m[I 2021-05-08 10:06:00,694]\u001b[0m Trial 471 finished with value: -2.696337730089824 and parameters: {'eta': 0.10252936115234361, 'gamma': 4.087499998143162e-07, 'max_depth': 3, 'min_child_weight': 2.443927835055098e-08, 'subsample': 0.4422883961619942, 'reg_lambda': 1.1819810469600576, 'reg_alpha': 71.43598986598681}. Best is trial 368 with value: -2.096921031392651.\u001b[0m\n"
     ]
    },
    {
     "name": "stdout",
     "output_type": "stream",
     "text": [
      "[-2.21969361 -2.46451032 -2.7129723  -2.69112555 -3.39338686]\n"
     ]
    },
    {
     "name": "stderr",
     "output_type": "stream",
     "text": [
      "\u001b[32m[I 2021-05-08 10:06:01,095]\u001b[0m Trial 472 finished with value: -21.34046988162215 and parameters: {'eta': 1.9857414119219486e-06, 'gamma': 7.688814540386237e-07, 'max_depth': 4, 'min_child_weight': 7.566496821212553e-08, 'subsample': 0.4754611172232056, 'reg_lambda': 35.13903797310451, 'reg_alpha': 0.024564447376525522}. Best is trial 368 with value: -2.096921031392651.\u001b[0m\n"
     ]
    },
    {
     "name": "stdout",
     "output_type": "stream",
     "text": [
      "[-20.25097296 -22.21264335 -20.75586446 -21.32127983 -22.16158881]\n"
     ]
    },
    {
     "name": "stderr",
     "output_type": "stream",
     "text": [
      "\u001b[32m[I 2021-05-08 10:06:01,593]\u001b[0m Trial 473 finished with value: -5.2179036517673065 and parameters: {'eta': 0.06126087426977753, 'gamma': 2.38711912129671e-07, 'max_depth': 11, 'min_child_weight': 3.726497686024769e-08, 'subsample': 0.4217483244936022, 'reg_lambda': 0.10419324871970842, 'reg_alpha': 587.2580633699649}. Best is trial 368 with value: -2.096921031392651.\u001b[0m\n"
     ]
    },
    {
     "name": "stdout",
     "output_type": "stream",
     "text": [
      "[-4.44273474 -5.21732853 -5.34974723 -5.5851909  -5.49451687]\n"
     ]
    },
    {
     "name": "stderr",
     "output_type": "stream",
     "text": [
      "\u001b[32m[I 2021-05-08 10:06:02,062]\u001b[0m Trial 474 finished with value: -2.564722583423426 and parameters: {'eta': 0.2524672248424215, 'gamma': 4.10689617213254e-07, 'max_depth': 3, 'min_child_weight': 1.2908895765630407e-08, 'subsample': 0.46073371222327, 'reg_lambda': 0.5944322744134297, 'reg_alpha': 35.47200461063725}. Best is trial 368 with value: -2.096921031392651.\u001b[0m\n"
     ]
    },
    {
     "name": "stdout",
     "output_type": "stream",
     "text": [
      "[-1.84933789 -2.57560689 -2.48739931 -2.85743392 -3.05383491]\n"
     ]
    },
    {
     "name": "stderr",
     "output_type": "stream",
     "text": [
      "\u001b[32m[I 2021-05-08 10:06:02,503]\u001b[0m Trial 475 finished with value: -3.0341572473578977 and parameters: {'eta': 0.18055282526197092, 'gamma': 1.8009081859593974e-07, 'max_depth': 4, 'min_child_weight': 1.0383437376629021e-07, 'subsample': 0.4005960537490221, 'reg_lambda': 18.788570299440867, 'reg_alpha': 104.59436488657796}. Best is trial 368 with value: -2.096921031392651.\u001b[0m\n"
     ]
    },
    {
     "name": "stdout",
     "output_type": "stream",
     "text": [
      "[-2.60641344 -2.54306662 -3.11308363 -3.1709959  -3.73722665]\n"
     ]
    },
    {
     "name": "stderr",
     "output_type": "stream",
     "text": [
      "\u001b[32m[I 2021-05-08 10:06:03,085]\u001b[0m Trial 476 finished with value: -2.4556658662042503 and parameters: {'eta': 0.1035038459238518, 'gamma': 3.028275345189947e-07, 'max_depth': 3, 'min_child_weight': 1.0052312356267649e-08, 'subsample': 0.4421500915853511, 'reg_lambda': 33.746369684440474, 'reg_alpha': 0.17708667147453647}. Best is trial 368 with value: -2.096921031392651.\u001b[0m\n"
     ]
    },
    {
     "name": "stdout",
     "output_type": "stream",
     "text": [
      "[-1.90019343 -2.24947799 -2.48685583 -2.4863034  -3.15549868]\n"
     ]
    },
    {
     "name": "stderr",
     "output_type": "stream",
     "text": [
      "\u001b[32m[I 2021-05-08 10:06:03,541]\u001b[0m Trial 477 finished with value: -3.0525661819363816 and parameters: {'eta': 0.08125290147323287, 'gamma': 0.026855530417678082, 'max_depth': 2, 'min_child_weight': 1.7637420657075035e-08, 'subsample': 0.5025101487261567, 'reg_lambda': 69.39548639656056, 'reg_alpha': 57.91828957849505}. Best is trial 368 with value: -2.096921031392651.\u001b[0m\n"
     ]
    },
    {
     "name": "stdout",
     "output_type": "stream",
     "text": [
      "[-2.54607457 -2.82286064 -3.29337061 -3.07615441 -3.52437067]\n"
     ]
    },
    {
     "name": "stderr",
     "output_type": "stream",
     "text": [
      "\u001b[32m[I 2021-05-08 10:06:04,171]\u001b[0m Trial 478 finished with value: -2.474668560610877 and parameters: {'eta': 0.1615056829754456, 'gamma': 5.632524644079533e-07, 'max_depth': 11, 'min_child_weight': 1.6523035850007285e-07, 'subsample': 0.4754513583133815, 'reg_lambda': 17.815650937840935, 'reg_alpha': 21.40898494344794}. Best is trial 368 with value: -2.096921031392651.\u001b[0m\n"
     ]
    },
    {
     "name": "stdout",
     "output_type": "stream",
     "text": [
      "[-1.87210241 -2.44999446 -2.38045187 -2.59236232 -3.07843175]\n"
     ]
    },
    {
     "name": "stderr",
     "output_type": "stream",
     "text": [
      "\u001b[32m[I 2021-05-08 10:06:04,944]\u001b[0m Trial 479 finished with value: -2.229555267828482 and parameters: {'eta': 0.05331060896426674, 'gamma': 9.72496615126515e-08, 'max_depth': 10, 'min_child_weight': 2.803932466724643e-08, 'subsample': 0.494373584446263, 'reg_lambda': 1.5000461213431622, 'reg_alpha': 0.09735603057237519}. Best is trial 368 with value: -2.096921031392651.\u001b[0m\n"
     ]
    },
    {
     "name": "stdout",
     "output_type": "stream",
     "text": [
      "[-1.83403003 -1.9232489  -2.12250741 -2.41421561 -2.85377439]\n"
     ]
    },
    {
     "name": "stderr",
     "output_type": "stream",
     "text": [
      "\u001b[32m[I 2021-05-08 10:06:05,489]\u001b[0m Trial 480 finished with value: -2.3332287659939426 and parameters: {'eta': 0.12586949527656893, 'gamma': 8.471128314229199e-07, 'max_depth': 3, 'min_child_weight': 5.948144930550904e-08, 'subsample': 0.450519548013907, 'reg_lambda': 0.8932374977724771, 'reg_alpha': 18.703815669437933}. Best is trial 368 with value: -2.096921031392651.\u001b[0m\n"
     ]
    },
    {
     "name": "stdout",
     "output_type": "stream",
     "text": [
      "[-1.86830495 -2.09895279 -2.2527652  -2.56615916 -2.87996172]\n"
     ]
    },
    {
     "name": "stderr",
     "output_type": "stream",
     "text": [
      "\u001b[32m[I 2021-05-08 10:06:06,043]\u001b[0m Trial 481 finished with value: -5.433090598082837 and parameters: {'eta': 0.07355555485917915, 'gamma': 2.1670011491331975e-07, 'max_depth': 12, 'min_child_weight': 4.824634628740532e-08, 'subsample': 0.6687874422178824, 'reg_lambda': 50.88737818669848, 'reg_alpha': 946.6154745103047}. Best is trial 368 with value: -2.096921031392651.\u001b[0m\n"
     ]
    },
    {
     "name": "stdout",
     "output_type": "stream",
     "text": [
      "[-4.59150709 -5.49221612 -5.58001118 -5.83588549 -5.66583312]\n"
     ]
    },
    {
     "name": "stderr",
     "output_type": "stream",
     "text": [
      "\u001b[32m[I 2021-05-08 10:06:06,371]\u001b[0m Trial 482 finished with value: -4.648677685619873 and parameters: {'eta': 0.2502827834615023, 'gamma': 1.2442025926479029e-06, 'max_depth': 1, 'min_child_weight': 2.1675783809570002e-08, 'subsample': 0.34325133355737764, 'reg_lambda': 924.4896658497947, 'reg_alpha': 44.29228123663609}. Best is trial 368 with value: -2.096921031392651.\u001b[0m\n"
     ]
    },
    {
     "name": "stdout",
     "output_type": "stream",
     "text": [
      "[-4.06440414 -4.48646044 -5.14180966 -4.89225832 -4.65845586]\n"
     ]
    },
    {
     "name": "stderr",
     "output_type": "stream",
     "text": [
      "\u001b[32m[I 2021-05-08 10:06:06,831]\u001b[0m Trial 483 finished with value: -2.434520671244021 and parameters: {'eta': 0.11354399967115332, 'gamma': 1.4610049693843393e-07, 'max_depth': 4, 'min_child_weight': 8.482527525320855e-08, 'subsample': 0.3761134878351726, 'reg_lambda': 0.6351559790238331, 'reg_alpha': 20.47655944839208}. Best is trial 368 with value: -2.096921031392651.\u001b[0m\n"
     ]
    },
    {
     "name": "stdout",
     "output_type": "stream",
     "text": [
      "[-1.83919024 -2.28604385 -2.41320732 -2.60540668 -3.02875527]\n"
     ]
    },
    {
     "name": "stderr",
     "output_type": "stream",
     "text": [
      "\u001b[32m[I 2021-05-08 10:06:07,231]\u001b[0m Trial 484 finished with value: -3.102454639464249 and parameters: {'eta': 0.04484184955875808, 'gamma': 3.507259956735371e-07, 'max_depth': 3, 'min_child_weight': 3.4392018348170266e-08, 'subsample': 0.4210575586935569, 'reg_lambda': 33.455545089875784, 'reg_alpha': 1.0879330179778122}. Best is trial 368 with value: -2.096921031392651.\u001b[0m\n"
     ]
    },
    {
     "name": "stdout",
     "output_type": "stream",
     "text": [
      "[-2.52014294 -2.90649184 -3.38823368 -3.00468671 -3.69271802]\n"
     ]
    },
    {
     "name": "stderr",
     "output_type": "stream",
     "text": [
      "\u001b[32m[I 2021-05-08 10:06:07,746]\u001b[0m Trial 485 finished with value: -2.449667435604849 and parameters: {'eta': 0.16976097380506866, 'gamma': 4.883828467896073e-07, 'max_depth': 12, 'min_child_weight': 1.4372937937529359e-08, 'subsample': 0.4672496271463742, 'reg_lambda': 0.4222124731832546, 'reg_alpha': 33.18056634268579}. Best is trial 368 with value: -2.096921031392651.\u001b[0m\n"
     ]
    },
    {
     "name": "stdout",
     "output_type": "stream",
     "text": [
      "[-1.71542687 -2.32229596 -2.40833173 -2.83949195 -2.96279067]\n"
     ]
    },
    {
     "name": "stderr",
     "output_type": "stream",
     "text": [
      "\u001b[32m[I 2021-05-08 10:06:08,333]\u001b[0m Trial 486 finished with value: -2.5511491383623195 and parameters: {'eta': 0.07239890064114586, 'gamma': 1.097116249048242e-07, 'max_depth': 3, 'min_child_weight': 4.039782497542093e-07, 'subsample': 0.6443463010215638, 'reg_lambda': 19.65742364258496, 'reg_alpha': 19.322888014353303}. Best is trial 368 with value: -2.096921031392651.\u001b[0m\n"
     ]
    },
    {
     "name": "stdout",
     "output_type": "stream",
     "text": [
      "[-2.10281194 -2.41678895 -2.59848553 -2.48971467 -3.1479446 ]\n"
     ]
    },
    {
     "name": "stderr",
     "output_type": "stream",
     "text": [
      "\u001b[32m[I 2021-05-08 10:06:08,789]\u001b[0m Trial 487 finished with value: -3.5719563400245007 and parameters: {'eta': 0.09921787446539335, 'gamma': 0.9246228741347176, 'max_depth': 2, 'min_child_weight': 1.1418547575500023e-07, 'subsample': 0.5190213872900776, 'reg_lambda': 275.0793654645702, 'reg_alpha': 0.49313312630995226}. Best is trial 368 with value: -2.096921031392651.\u001b[0m\n"
     ]
    },
    {
     "name": "stdout",
     "output_type": "stream",
     "text": [
      "[-2.94672022 -3.44287114 -3.96642238 -3.65410152 -3.84966644]\n"
     ]
    },
    {
     "name": "stderr",
     "output_type": "stream",
     "text": [
      "\u001b[32m[I 2021-05-08 10:06:09,292]\u001b[0m Trial 488 finished with value: -2.4912199721218626 and parameters: {'eta': 0.35689445646854207, 'gamma': 0.253010672358619, 'max_depth': 4, 'min_child_weight': 0.09290476441589562, 'subsample': 0.4403301855341517, 'reg_lambda': 96.62507465445127, 'reg_alpha': 0.3262383698774758}. Best is trial 368 with value: -2.096921031392651.\u001b[0m\n"
     ]
    },
    {
     "name": "stdout",
     "output_type": "stream",
     "text": [
      "[-2.18738822 -2.19106274 -2.23719387 -2.71555281 -3.12490221]\n"
     ]
    },
    {
     "name": "stderr",
     "output_type": "stream",
     "text": [
      "\u001b[32m[I 2021-05-08 10:06:10,272]\u001b[0m Trial 489 finished with value: -2.658201746752233 and parameters: {'eta': 0.04928730886261847, 'gamma': 0.13684073593215704, 'max_depth': 5, 'min_child_weight': 2.4382113546454203e-08, 'subsample': 0.49063600542239044, 'reg_lambda': 0.6068743452249774, 'reg_alpha': 51.88060790044639}. Best is trial 368 with value: -2.096921031392651.\u001b[0m\n"
     ]
    },
    {
     "name": "stdout",
     "output_type": "stream",
     "text": [
      "[-2.14356705 -2.58955569 -2.71286582 -2.62391118 -3.221109  ]\n"
     ]
    },
    {
     "name": "stderr",
     "output_type": "stream",
     "text": [
      "\u001b[32m[I 2021-05-08 10:06:10,763]\u001b[0m Trial 490 finished with value: -2.702784388300813 and parameters: {'eta': 0.14923669763209757, 'gamma': 2.272205445895335e-07, 'max_depth': 3, 'min_child_weight': 8.90943774075566e-07, 'subsample': 0.39474575750238544, 'reg_lambda': 50.66578589711114, 'reg_alpha': 31.66805606337599}. Best is trial 368 with value: -2.096921031392651.\u001b[0m\n"
     ]
    },
    {
     "name": "stdout",
     "output_type": "stream",
     "text": [
      "[-2.2748748  -2.38769649 -2.68841695 -2.63531071 -3.527623  ]\n"
     ]
    },
    {
     "name": "stderr",
     "output_type": "stream",
     "text": [
      "\u001b[32m[I 2021-05-08 10:06:11,535]\u001b[0m Trial 491 finished with value: -2.4862845445562294 and parameters: {'eta': 0.07198007931185955, 'gamma': 7.014491021156429e-07, 'max_depth': 11, 'min_child_weight': 4.222342716983891e-08, 'subsample': 0.41510477393086725, 'reg_lambda': 20.0308497889281, 'reg_alpha': 0.3905423309948582}. Best is trial 368 with value: -2.096921031392651.\u001b[0m\n"
     ]
    },
    {
     "name": "stdout",
     "output_type": "stream",
     "text": [
      "[-1.92410318 -2.34122439 -2.44413083 -2.52776663 -3.1941977 ]\n"
     ]
    },
    {
     "name": "stderr",
     "output_type": "stream",
     "text": [
      "\u001b[32m[I 2021-05-08 10:06:11,899]\u001b[0m Trial 492 finished with value: -8.497996220806499 and parameters: {'eta': 0.21342224063583445, 'gamma': 6.284794846379882e-08, 'max_depth': 2, 'min_child_weight': 6.659790156016278e-08, 'subsample': 0.008720034154612921, 'reg_lambda': 33.73198842814034, 'reg_alpha': 16.81514709005573}. Best is trial 368 with value: -2.096921031392651.\u001b[0m\n"
     ]
    },
    {
     "name": "stdout",
     "output_type": "stream",
     "text": [
      "[-7.41294744 -8.74776321 -8.42692295 -8.42147924 -9.48086826]\n"
     ]
    },
    {
     "name": "stderr",
     "output_type": "stream",
     "text": [
      "\u001b[32m[I 2021-05-08 10:06:12,878]\u001b[0m Trial 493 finished with value: -2.180045009883833 and parameters: {'eta': 0.10364054295817934, 'gamma': 1.65689871709321e-07, 'max_depth': 13, 'min_child_weight': 1.0168795642477338e-08, 'subsample': 0.46760307312312355, 'reg_lambda': 0.8403840026679907, 'reg_alpha': 0.3769678290664654}. Best is trial 368 with value: -2.096921031392651.\u001b[0m\n"
     ]
    },
    {
     "name": "stdout",
     "output_type": "stream",
     "text": [
      "[-1.88772243 -1.86311853 -2.05908257 -2.3780428  -2.71225872]\n"
     ]
    },
    {
     "name": "stderr",
     "output_type": "stream",
     "text": [
      "\u001b[32m[I 2021-05-08 10:06:13,501]\u001b[0m Trial 494 finished with value: -21.24566622166207 and parameters: {'eta': 5.626352595834332e-05, 'gamma': 1.4655595887366235e-07, 'max_depth': 13, 'min_child_weight': 1.6454931914593382e-07, 'subsample': 0.46800566105557373, 'reg_lambda': 30.136213299403813, 'reg_alpha': 0.12785491711561692}. Best is trial 368 with value: -2.096921031392651.\u001b[0m\n"
     ]
    },
    {
     "name": "stdout",
     "output_type": "stream",
     "text": [
      "[-20.15762689 -22.11733945 -20.66121624 -21.22591652 -22.066232  ]\n"
     ]
    },
    {
     "name": "stderr",
     "output_type": "stream",
     "text": [
      "\u001b[32m[I 2021-05-08 10:06:14,519]\u001b[0m Trial 495 finished with value: -2.6295174106491936 and parameters: {'eta': 0.1301048199062037, 'gamma': 9.788037915232545e-08, 'max_depth': 13, 'min_child_weight': 2.946339308249251e-07, 'subsample': 0.503680569313077, 'reg_lambda': 1.3521868650871447, 'reg_alpha': 47.83590115459329}. Best is trial 368 with value: -2.096921031392651.\u001b[0m\n"
     ]
    },
    {
     "name": "stdout",
     "output_type": "stream",
     "text": [
      "[-1.94892441 -2.59569142 -2.71745988 -2.58555721 -3.29995413]\n"
     ]
    },
    {
     "name": "stderr",
     "output_type": "stream",
     "text": [
      "\u001b[32m[I 2021-05-08 10:06:16,325]\u001b[0m Trial 496 finished with value: -2.192048593238548 and parameters: {'eta': 0.10399691724581434, 'gamma': 1.751529112511277e-07, 'max_depth': 14, 'min_child_weight': 1.0288068160549898e-08, 'subsample': 0.4888803139077578, 'reg_lambda': 0.5342562706385936, 'reg_alpha': 0.1855989736322159}. Best is trial 368 with value: -2.096921031392651.\u001b[0m\n"
     ]
    },
    {
     "name": "stdout",
     "output_type": "stream",
     "text": [
      "[-1.82807254 -1.84100633 -2.15469431 -2.53643172 -2.60003806]\n"
     ]
    },
    {
     "name": "stderr",
     "output_type": "stream",
     "text": [
      "\u001b[32m[I 2021-05-08 10:06:16,936]\u001b[0m Trial 497 finished with value: -2.533112098587884 and parameters: {'eta': 0.20885145415626122, 'gamma': 1.6015543149606087e-07, 'max_depth': 14, 'min_child_weight': 1.0196485542596255e-08, 'subsample': 0.5034879066320237, 'reg_lambda': 18.6039978280154, 'reg_alpha': 33.86475717345811}. Best is trial 368 with value: -2.096921031392651.\u001b[0m\n"
     ]
    },
    {
     "name": "stdout",
     "output_type": "stream",
     "text": [
      "[-2.10667663 -2.41663367 -2.42781584 -2.63514261 -3.07929174]\n"
     ]
    },
    {
     "name": "stderr",
     "output_type": "stream",
     "text": [
      "\u001b[32m[I 2021-05-08 10:06:17,437]\u001b[0m Trial 498 finished with value: -2.8537146895255576 and parameters: {'eta': 0.2853908893650242, 'gamma': 2.0195975839541739e-07, 'max_depth': 14, 'min_child_weight': 1.0035268483648305e-08, 'subsample': 0.48449998503003194, 'reg_lambda': 54.33898677520666, 'reg_alpha': 83.22931678336641}. Best is trial 368 with value: -2.096921031392651.\u001b[0m\n"
     ]
    },
    {
     "name": "stdout",
     "output_type": "stream",
     "text": [
      "[-2.33705345 -2.53567934 -2.80439286 -2.85680035 -3.73464745]\n"
     ]
    },
    {
     "name": "stderr",
     "output_type": "stream",
     "text": [
      "\u001b[32m[I 2021-05-08 10:06:18,167]\u001b[0m Trial 499 finished with value: -2.4202989725301296 and parameters: {'eta': 0.14283484373447333, 'gamma': 1.117900530061839e-07, 'max_depth': 14, 'min_child_weight': 1.0085702908491227e-08, 'subsample': 0.5225486120225962, 'reg_lambda': 16.79469672450902, 'reg_alpha': 16.968933738947793}. Best is trial 368 with value: -2.096921031392651.\u001b[0m\n"
     ]
    },
    {
     "name": "stdout",
     "output_type": "stream",
     "text": [
      "[-1.92703959 -2.29776026 -2.33649292 -2.51622667 -3.02397542]\n",
      "CPU times: user 9min 35s, sys: 16 s, total: 9min 51s\n",
      "Wall time: 5min 13s\n"
     ]
    }
   ],
   "source": [
    "%%time\n",
    "# optunaで最適値を見つける\n",
    "# 注：cross_val_scoreの出力は全て高いほど良い\n",
    "study = optuna.create_study(direction='maximize')\n",
    "study.optimize(objective, n_trials=500)"
   ]
  },
  {
   "cell_type": "code",
   "execution_count": 6,
   "metadata": {},
   "outputs": [],
   "source": [
    "# チューニングしたハイパーパラメーターをフィット\n",
    "optimised_model = xgb.XGBRegressor(eta = study.best_params['eta'],\n",
    "                                   gamma = study.best_params['gamma'],\n",
    "                                   max_depth = study.best_params['max_depth'],\n",
    "                                   min_child_weight = study.best_params['min_child_weight'],\n",
    "                                   subsample = study.best_params['subsample'],\n",
    "                                   reg_lambda = study.best_params['reg_lambda'],\n",
    "                                   reg_alpha = study.best_params['reg_alpha']\n",
    "                                  )\n",
    "\n",
    "optimised_model.fit(x_train ,y_train)\n",
    "\n",
    "# XGBoost推論\n",
    "y_pred = optimised_model.predict(x_test)"
   ]
  },
  {
   "cell_type": "code",
   "execution_count": 7,
   "metadata": {},
   "outputs": [],
   "source": [
    "# 評価\n",
    "def calculate_scores(true, pred):\n",
    "    \"\"\"全ての評価指標を計算する\n",
    "\n",
    "    Parameters\n",
    "    ----------\n",
    "    true (np.array)       : 実測値\n",
    "    pred (np.array)       : 予測値\n",
    "\n",
    "    Returns\n",
    "    -------\n",
    "    scores (pd.DataFrame) : 各評価指標を纏めた結果\n",
    "\n",
    "    \"\"\"\n",
    "    scores = {}\n",
    "    scores = pd.DataFrame({'R2': r2_score(true, pred),\n",
    "                          'MAE': mean_absolute_error(true, pred),\n",
    "                          'MSE': mean_squared_error(true, pred),\n",
    "                          'RMSE': np.sqrt(mean_squared_error(true, pred))},\n",
    "                           index = ['scores'])\n",
    "    return scores"
   ]
  },
  {
   "cell_type": "code",
   "execution_count": 8,
   "metadata": {},
   "outputs": [
    {
     "name": "stdout",
     "output_type": "stream",
     "text": [
      "              R2       MAE        MSE      RMSE\n",
      "scores  0.879891  2.475511  12.561133  3.544169\n"
     ]
    }
   ],
   "source": [
    "scores = calculate_scores(y_test, y_pred)\n",
    "print(scores)"
   ]
  }
 ],
 "metadata": {
  "kernelspec": {
   "display_name": "Python 3",
   "language": "python",
   "name": "python3"
  },
  "language_info": {
   "codemirror_mode": {
    "name": "ipython",
    "version": 3
   },
   "file_extension": ".py",
   "mimetype": "text/x-python",
   "name": "python",
   "nbconvert_exporter": "python",
   "pygments_lexer": "ipython3",
   "version": "3.7.6"
  }
 },
 "nbformat": 4,
 "nbformat_minor": 4
}
