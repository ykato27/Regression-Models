{
 "cells": [
  {
   "cell_type": "markdown",
   "metadata": {},
   "source": [
    "## LightGBM-Optunaのサンプルコード"
   ]
  },
  {
   "cell_type": "code",
   "execution_count": 1,
   "metadata": {},
   "outputs": [],
   "source": [
    "%load_ext lab_black"
   ]
  },
  {
   "cell_type": "code",
   "execution_count": 2,
   "metadata": {},
   "outputs": [],
   "source": [
    "# ライブラリーのインポート\n",
    "import os\n",
    "\n",
    "import pandas as pd\n",
    "import numpy as np\n",
    "\n",
    "import seaborn as sns\n",
    "import matplotlib.pyplot as plt\n",
    "\n",
    "%matplotlib inline\n",
    "\n",
    "# ボストンの住宅価格データ\n",
    "from sklearn.datasets import load_boston\n",
    "\n",
    "# 前処理\n",
    "from sklearn.preprocessing import StandardScaler\n",
    "from sklearn.model_selection import train_test_split\n",
    "\n",
    "# LightGBM\n",
    "import optuna.integration.lightgbm as lgb\n",
    "\n",
    "# 評価指標\n",
    "from sklearn.metrics import r2_score\n",
    "from sklearn.metrics import mean_absolute_error\n",
    "from sklearn.metrics import mean_squared_error"
   ]
  },
  {
   "cell_type": "code",
   "execution_count": 3,
   "metadata": {},
   "outputs": [
    {
     "data": {
      "text/html": [
       "<div>\n",
       "<style scoped>\n",
       "    .dataframe tbody tr th:only-of-type {\n",
       "        vertical-align: middle;\n",
       "    }\n",
       "\n",
       "    .dataframe tbody tr th {\n",
       "        vertical-align: top;\n",
       "    }\n",
       "\n",
       "    .dataframe thead th {\n",
       "        text-align: right;\n",
       "    }\n",
       "</style>\n",
       "<table border=\"1\" class=\"dataframe\">\n",
       "  <thead>\n",
       "    <tr style=\"text-align: right;\">\n",
       "      <th></th>\n",
       "      <th>CRIM</th>\n",
       "      <th>ZN</th>\n",
       "      <th>INDUS</th>\n",
       "      <th>CHAS</th>\n",
       "      <th>NOX</th>\n",
       "      <th>RM</th>\n",
       "      <th>AGE</th>\n",
       "      <th>DIS</th>\n",
       "      <th>RAD</th>\n",
       "      <th>TAX</th>\n",
       "      <th>PTRATIO</th>\n",
       "      <th>B</th>\n",
       "      <th>LSTAT</th>\n",
       "      <th>MEDV</th>\n",
       "    </tr>\n",
       "  </thead>\n",
       "  <tbody>\n",
       "    <tr>\n",
       "      <th>0</th>\n",
       "      <td>0.00632</td>\n",
       "      <td>18.0</td>\n",
       "      <td>2.31</td>\n",
       "      <td>0.0</td>\n",
       "      <td>0.538</td>\n",
       "      <td>6.575</td>\n",
       "      <td>65.2</td>\n",
       "      <td>4.0900</td>\n",
       "      <td>1.0</td>\n",
       "      <td>296.0</td>\n",
       "      <td>15.3</td>\n",
       "      <td>396.90</td>\n",
       "      <td>4.98</td>\n",
       "      <td>24.0</td>\n",
       "    </tr>\n",
       "    <tr>\n",
       "      <th>1</th>\n",
       "      <td>0.02731</td>\n",
       "      <td>0.0</td>\n",
       "      <td>7.07</td>\n",
       "      <td>0.0</td>\n",
       "      <td>0.469</td>\n",
       "      <td>6.421</td>\n",
       "      <td>78.9</td>\n",
       "      <td>4.9671</td>\n",
       "      <td>2.0</td>\n",
       "      <td>242.0</td>\n",
       "      <td>17.8</td>\n",
       "      <td>396.90</td>\n",
       "      <td>9.14</td>\n",
       "      <td>21.6</td>\n",
       "    </tr>\n",
       "    <tr>\n",
       "      <th>2</th>\n",
       "      <td>0.02729</td>\n",
       "      <td>0.0</td>\n",
       "      <td>7.07</td>\n",
       "      <td>0.0</td>\n",
       "      <td>0.469</td>\n",
       "      <td>7.185</td>\n",
       "      <td>61.1</td>\n",
       "      <td>4.9671</td>\n",
       "      <td>2.0</td>\n",
       "      <td>242.0</td>\n",
       "      <td>17.8</td>\n",
       "      <td>392.83</td>\n",
       "      <td>4.03</td>\n",
       "      <td>34.7</td>\n",
       "    </tr>\n",
       "    <tr>\n",
       "      <th>3</th>\n",
       "      <td>0.03237</td>\n",
       "      <td>0.0</td>\n",
       "      <td>2.18</td>\n",
       "      <td>0.0</td>\n",
       "      <td>0.458</td>\n",
       "      <td>6.998</td>\n",
       "      <td>45.8</td>\n",
       "      <td>6.0622</td>\n",
       "      <td>3.0</td>\n",
       "      <td>222.0</td>\n",
       "      <td>18.7</td>\n",
       "      <td>394.63</td>\n",
       "      <td>2.94</td>\n",
       "      <td>33.4</td>\n",
       "    </tr>\n",
       "    <tr>\n",
       "      <th>4</th>\n",
       "      <td>0.06905</td>\n",
       "      <td>0.0</td>\n",
       "      <td>2.18</td>\n",
       "      <td>0.0</td>\n",
       "      <td>0.458</td>\n",
       "      <td>7.147</td>\n",
       "      <td>54.2</td>\n",
       "      <td>6.0622</td>\n",
       "      <td>3.0</td>\n",
       "      <td>222.0</td>\n",
       "      <td>18.7</td>\n",
       "      <td>396.90</td>\n",
       "      <td>5.33</td>\n",
       "      <td>36.2</td>\n",
       "    </tr>\n",
       "  </tbody>\n",
       "</table>\n",
       "</div>"
      ],
      "text/plain": [
       "      CRIM    ZN  INDUS  CHAS    NOX     RM   AGE     DIS  RAD    TAX  \\\n",
       "0  0.00632  18.0   2.31   0.0  0.538  6.575  65.2  4.0900  1.0  296.0   \n",
       "1  0.02731   0.0   7.07   0.0  0.469  6.421  78.9  4.9671  2.0  242.0   \n",
       "2  0.02729   0.0   7.07   0.0  0.469  7.185  61.1  4.9671  2.0  242.0   \n",
       "3  0.03237   0.0   2.18   0.0  0.458  6.998  45.8  6.0622  3.0  222.0   \n",
       "4  0.06905   0.0   2.18   0.0  0.458  7.147  54.2  6.0622  3.0  222.0   \n",
       "\n",
       "   PTRATIO       B  LSTAT  MEDV  \n",
       "0     15.3  396.90   4.98  24.0  \n",
       "1     17.8  396.90   9.14  21.6  \n",
       "2     17.8  392.83   4.03  34.7  \n",
       "3     18.7  394.63   2.94  33.4  \n",
       "4     18.7  396.90   5.33  36.2  "
      ]
     },
     "execution_count": 3,
     "metadata": {},
     "output_type": "execute_result"
    }
   ],
   "source": [
    "# データセットの読込み\n",
    "boston = load_boston()\n",
    "\n",
    "# 説明変数の格納\n",
    "df = pd.DataFrame(boston.data, columns=boston.feature_names)\n",
    "# 目的変数の追加\n",
    "df[\"MEDV\"] = boston.target\n",
    "\n",
    "# データの中身を確認\n",
    "df.head()"
   ]
  },
  {
   "cell_type": "markdown",
   "metadata": {},
   "source": [
    "#### 前処理"
   ]
  },
  {
   "cell_type": "code",
   "execution_count": 4,
   "metadata": {},
   "outputs": [],
   "source": [
    "# ランダムシード値\n",
    "RANDOM_STATE = 10\n",
    "\n",
    "# 学習データと評価データの割合\n",
    "TEST_SIZE = 0.2\n",
    "\n",
    "# 学習データと評価データを作成\n",
    "x_train, x_test, y_train, y_test = train_test_split(\n",
    "    df.iloc[:, 0 : df.shape[1] - 1],\n",
    "    df.iloc[:, df.shape[1] - 1],\n",
    "    test_size=TEST_SIZE,\n",
    "    random_state=RANDOM_STATE,\n",
    ")\n",
    "\n",
    "# trainのデータセットの2割をモデル学習時のバリデーションデータとして利用する\n",
    "x_train, x_valid, y_train, y_valid = train_test_split(\n",
    "    x_train, y_train, test_size=TEST_SIZE, random_state=RANDOM_STATE\n",
    ")\n",
    "\n",
    "# LightGBMを利用するのに必要なフォーマットに変換\n",
    "lgb_train = lgb.Dataset(x_train, y_train)\n",
    "lgb_eval = lgb.Dataset(x_valid, y_valid, reference=lgb_train)"
   ]
  },
  {
   "cell_type": "code",
   "execution_count": 5,
   "metadata": {},
   "outputs": [
    {
     "name": "stderr",
     "output_type": "stream",
     "text": [
      "\u001b[32m[I 2021-05-28 14:55:03,539]\u001b[0m A new study created in memory with name: no-name-45e68d47-206d-4cf1-a90a-a1f35b98fdc5\u001b[0m\n",
      "feature_fraction, val_score: inf:   0%|          | 0/7 [00:00<?, ?it/s]"
     ]
    },
    {
     "name": "stdout",
     "output_type": "stream",
     "text": [
      "Training until validation scores don't improve for 100 rounds\n",
      "[50]\tvalid_0's rmse: 2.29947\tvalid_1's rmse: 2.96402\n",
      "[100]\tvalid_0's rmse: 1.58202\tvalid_1's rmse: 2.96425\n"
     ]
    },
    {
     "name": "stderr",
     "output_type": "stream",
     "text": [
      "feature_fraction, val_score: 2.924797:  14%|#4        | 1/7 [00:00<00:04,  1.40it/s]\u001b[32m[I 2021-05-28 14:55:04,292]\u001b[0m Trial 0 finished with value: 2.9247970880412133 and parameters: {'feature_fraction': 0.6}. Best is trial 0 with value: 2.9247970880412133.\u001b[0m\n",
      "feature_fraction, val_score: 2.924797:  14%|#4        | 1/7 [00:00<00:04,  1.40it/s]"
     ]
    },
    {
     "name": "stdout",
     "output_type": "stream",
     "text": [
      "Early stopping, best iteration is:\n",
      "[38]\tvalid_0's rmse: 2.59897\tvalid_1's rmse: 2.9248\n",
      "Training until validation scores don't improve for 100 rounds\n",
      "[50]\tvalid_0's rmse: 2.31706\tvalid_1's rmse: 3.18378\n",
      "[100]\tvalid_0's rmse: 1.53914\tvalid_1's rmse: 2.98479\n",
      "[150]\tvalid_0's rmse: 1.16032\tvalid_1's rmse: 2.96396\n",
      "[200]\tvalid_0's rmse: 0.913527\tvalid_1's rmse: 2.95325\n",
      "[250]\tvalid_0's rmse: 0.750357\tvalid_1's rmse: 2.93815\n",
      "[300]\tvalid_0's rmse: 0.627879\tvalid_1's rmse: 2.92698\n",
      "[350]\tvalid_0's rmse: 0.53372\tvalid_1's rmse: 2.92501\n",
      "[400]\tvalid_0's rmse: 0.460032\tvalid_1's rmse: 2.90336\n",
      "[450]\tvalid_0's rmse: 0.400247\tvalid_1's rmse: 2.89365\n",
      "[500]\tvalid_0's rmse: 0.354627\tvalid_1's rmse: 2.88808\n",
      "[550]\tvalid_0's rmse: 0.310126\tvalid_1's rmse: 2.88638\n",
      "[600]\tvalid_0's rmse: 0.278825\tvalid_1's rmse: 2.89207\n"
     ]
    },
    {
     "name": "stderr",
     "output_type": "stream",
     "text": [
      "feature_fraction, val_score: 2.885625:  29%|##8       | 2/7 [00:04<00:07,  1.57s/it]"
     ]
    },
    {
     "name": "stdout",
     "output_type": "stream",
     "text": [
      "Early stopping, best iteration is:\n",
      "[545]\tvalid_0's rmse: 0.314357\tvalid_1's rmse: 2.88563\n"
     ]
    },
    {
     "name": "stderr",
     "output_type": "stream",
     "text": [
      "\u001b[32m[I 2021-05-28 14:55:07,856]\u001b[0m Trial 1 finished with value: 2.885625071435 and parameters: {'feature_fraction': 1.0}. Best is trial 1 with value: 2.885625071435.\u001b[0m\n",
      "feature_fraction, val_score: 2.885625:  29%|##8       | 2/7 [00:04<00:07,  1.57s/it]"
     ]
    },
    {
     "name": "stdout",
     "output_type": "stream",
     "text": [
      "Training until validation scores don't improve for 100 rounds\n",
      "[50]\tvalid_0's rmse: 2.33551\tvalid_1's rmse: 3.0866\n"
     ]
    },
    {
     "name": "stderr",
     "output_type": "stream",
     "text": [
      "feature_fraction, val_score: 2.885625:  43%|####2     | 3/7 [00:04<00:05,  1.27s/it]\u001b[32m[I 2021-05-28 14:55:08,428]\u001b[0m Trial 2 finished with value: 3.0331680946497985 and parameters: {'feature_fraction': 0.5}. Best is trial 1 with value: 2.885625071435.\u001b[0m\n",
      "feature_fraction, val_score: 2.885625:  43%|####2     | 3/7 [00:04<00:05,  1.27s/it]"
     ]
    },
    {
     "name": "stdout",
     "output_type": "stream",
     "text": [
      "[100]\tvalid_0's rmse: 1.6056\tvalid_1's rmse: 3.10106\n",
      "Early stopping, best iteration is:\n",
      "[34]\tvalid_0's rmse: 2.78196\tvalid_1's rmse: 3.03317\n",
      "Training until validation scores don't improve for 100 rounds\n",
      "[50]\tvalid_0's rmse: 2.39314\tvalid_1's rmse: 3.16573\n",
      "[100]\tvalid_0's rmse: 1.56193\tvalid_1's rmse: 3.08848\n",
      "[150]\tvalid_0's rmse: 1.1903\tvalid_1's rmse: 3.05121\n",
      "[200]\tvalid_0's rmse: 0.951202\tvalid_1's rmse: 3.04018\n",
      "[250]\tvalid_0's rmse: 0.78003\tvalid_1's rmse: 3.03043\n",
      "[300]\tvalid_0's rmse: 0.652737\tvalid_1's rmse: 3.0138\n",
      "[350]\tvalid_0's rmse: 0.555857\tvalid_1's rmse: 3.01775\n",
      "[400]\tvalid_0's rmse: 0.475638\tvalid_1's rmse: 3.01158\n",
      "[450]\tvalid_0's rmse: 0.417786\tvalid_1's rmse: 3.00577\n",
      "[500]\tvalid_0's rmse: 0.366841\tvalid_1's rmse: 3.01088\n"
     ]
    },
    {
     "name": "stderr",
     "output_type": "stream",
     "text": [
      "feature_fraction, val_score: 2.885625:  57%|#####7    | 4/7 [00:08<00:05,  1.86s/it]\u001b[32m[I 2021-05-28 14:55:11,678]\u001b[0m Trial 3 finished with value: 3.0040910014517714 and parameters: {'feature_fraction': 0.8}. Best is trial 1 with value: 2.885625071435.\u001b[0m\n",
      "feature_fraction, val_score: 2.885625:  57%|#####7    | 4/7 [00:08<00:05,  1.86s/it]"
     ]
    },
    {
     "name": "stdout",
     "output_type": "stream",
     "text": [
      "[550]\tvalid_0's rmse: 0.32299\tvalid_1's rmse: 3.00941\n",
      "Early stopping, best iteration is:\n",
      "[452]\tvalid_0's rmse: 0.415466\tvalid_1's rmse: 3.00409\n",
      "Training until validation scores don't improve for 100 rounds\n",
      "[50]\tvalid_0's rmse: 2.31141\tvalid_1's rmse: 2.95725\n",
      "[100]\tvalid_0's rmse: 1.53207\tvalid_1's rmse: 2.92611\n",
      "[150]\tvalid_0's rmse: 1.1732\tvalid_1's rmse: 2.89599\n",
      "[200]\tvalid_0's rmse: 0.938613\tvalid_1's rmse: 2.87864\n",
      "[250]\tvalid_0's rmse: 0.778322\tvalid_1's rmse: 2.86976\n",
      "[300]\tvalid_0's rmse: 0.657446\tvalid_1's rmse: 2.86006\n",
      "[350]\tvalid_0's rmse: 0.568051\tvalid_1's rmse: 2.86638\n"
     ]
    },
    {
     "name": "stderr",
     "output_type": "stream",
     "text": [
      "feature_fraction, val_score: 2.854421:  71%|#######1  | 5/7 [00:10<00:04,  2.15s/it]\u001b[32m[I 2021-05-28 14:55:14,492]\u001b[0m Trial 4 finished with value: 2.8544213457390777 and parameters: {'feature_fraction': 0.7}. Best is trial 4 with value: 2.8544213457390777.\u001b[0m\n",
      "feature_fraction, val_score: 2.854421:  71%|#######1  | 5/7 [00:10<00:04,  2.15s/it]"
     ]
    },
    {
     "name": "stdout",
     "output_type": "stream",
     "text": [
      "Early stopping, best iteration is:\n",
      "[289]\tvalid_0's rmse: 0.67972\tvalid_1's rmse: 2.85442\n",
      "Training until validation scores don't improve for 100 rounds\n",
      "[50]\tvalid_0's rmse: 2.51258\tvalid_1's rmse: 3.11038\n",
      "[100]\tvalid_0's rmse: 1.73206\tvalid_1's rmse: 3.08034\n",
      "[150]\tvalid_0's rmse: 1.31881\tvalid_1's rmse: 3.05892\n",
      "[200]\tvalid_0's rmse: 1.0698\tvalid_1's rmse: 3.04527\n",
      "[250]\tvalid_0's rmse: 0.885366\tvalid_1's rmse: 3.04252\n",
      "Early stopping, best iteration is:\n",
      "[172]\tvalid_0's rmse: 1.19495\tvalid_1's rmse: 3.02476"
     ]
    },
    {
     "name": "stderr",
     "output_type": "stream",
     "text": [
      "feature_fraction, val_score: 2.854421:  86%|########5 | 6/7 [00:12<00:02,  2.01s/it]\u001b[32m[I 2021-05-28 14:55:16,182]\u001b[0m Trial 5 finished with value: 3.024756270735715 and parameters: {'feature_fraction': 0.4}. Best is trial 4 with value: 2.8544213457390777.\u001b[0m\n",
      "feature_fraction, val_score: 2.854421:  86%|########5 | 6/7 [00:12<00:02,  2.01s/it]"
     ]
    },
    {
     "name": "stdout",
     "output_type": "stream",
     "text": [
      "\n",
      "Training until validation scores don't improve for 100 rounds\n",
      "[50]\tvalid_0's rmse: 2.32828\tvalid_1's rmse: 3.14029\n",
      "[100]\tvalid_0's rmse: 1.53992\tvalid_1's rmse: 2.98839\n",
      "[150]\tvalid_0's rmse: 1.1773\tvalid_1's rmse: 2.96889\n",
      "[200]\tvalid_0's rmse: 0.93957\tvalid_1's rmse: 2.9461\n",
      "[250]\tvalid_0's rmse: 0.768197\tvalid_1's rmse: 2.93003\n",
      "[300]\tvalid_0's rmse: 0.648609\tvalid_1's rmse: 2.91471\n",
      "[350]\tvalid_0's rmse: 0.552764\tvalid_1's rmse: 2.90905\n",
      "[400]\tvalid_0's rmse: 0.479135\tvalid_1's rmse: 2.90792\n",
      "[450]\tvalid_0's rmse: 0.414233\tvalid_1's rmse: 2.89968\n",
      "[500]\tvalid_0's rmse: 0.368056\tvalid_1's rmse: 2.89829\n",
      "[550]\tvalid_0's rmse: 0.324335\tvalid_1's rmse: 2.89558\n",
      "[600]\tvalid_0's rmse: 0.291297\tvalid_1's rmse: 2.89751\n",
      "Early stopping, best iteration is:\n",
      "[543]\tvalid_0's rmse: 0.329557\tvalid_1's rmse: 2.894\n"
     ]
    },
    {
     "name": "stderr",
     "output_type": "stream",
     "text": [
      "feature_fraction, val_score: 2.854421: 100%|##########| 7/7 [00:16<00:00,  2.62s/it]\u001b[32m[I 2021-05-28 14:55:20,227]\u001b[0m Trial 6 finished with value: 2.894004294970741 and parameters: {'feature_fraction': 0.8999999999999999}. Best is trial 4 with value: 2.8544213457390777.\u001b[0m\n",
      "feature_fraction, val_score: 2.854421: 100%|##########| 7/7 [00:16<00:00,  2.38s/it]\n",
      "num_leaves, val_score: 2.854421:   0%|          | 0/20 [00:00<?, ?it/s]"
     ]
    },
    {
     "name": "stdout",
     "output_type": "stream",
     "text": [
      "Training until validation scores don't improve for 100 rounds\n",
      "[50]\tvalid_0's rmse: 2.31141\tvalid_1's rmse: 2.95725\n",
      "[100]\tvalid_0's rmse: 1.53207\tvalid_1's rmse: 2.92611\n",
      "[150]\tvalid_0's rmse: 1.1732\tvalid_1's rmse: 2.89599\n",
      "[200]\tvalid_0's rmse: 0.938613\tvalid_1's rmse: 2.87864\n",
      "[250]\tvalid_0's rmse: 0.778322\tvalid_1's rmse: 2.86976\n",
      "[300]\tvalid_0's rmse: 0.657446\tvalid_1's rmse: 2.86006\n",
      "[350]\tvalid_0's rmse: 0.568051\tvalid_1's rmse: 2.86638\n"
     ]
    },
    {
     "name": "stderr",
     "output_type": "stream",
     "text": [
      "num_leaves, val_score: 2.854421:   5%|5         | 1/20 [00:03<01:14,  3.90s/it]\u001b[32m[I 2021-05-28 14:55:24,170]\u001b[0m Trial 7 finished with value: 2.8544213457390777 and parameters: {'num_leaves': 220}. Best is trial 7 with value: 2.8544213457390777.\u001b[0m\n",
      "num_leaves, val_score: 2.854421:   5%|5         | 1/20 [00:03<01:14,  3.90s/it]"
     ]
    },
    {
     "name": "stdout",
     "output_type": "stream",
     "text": [
      "Early stopping, best iteration is:\n",
      "[289]\tvalid_0's rmse: 0.67972\tvalid_1's rmse: 2.85442\n",
      "Training until validation scores don't improve for 100 rounds\n",
      "[50]\tvalid_0's rmse: 2.31141\tvalid_1's rmse: 2.95725\n",
      "[100]\tvalid_0's rmse: 1.53207\tvalid_1's rmse: 2.92611\n",
      "[150]\tvalid_0's rmse: 1.1732\tvalid_1's rmse: 2.89599\n",
      "[200]\tvalid_0's rmse: 0.938613\tvalid_1's rmse: 2.87864\n",
      "[250]\tvalid_0's rmse: 0.778322\tvalid_1's rmse: 2.86976\n",
      "[300]\tvalid_0's rmse: 0.657446\tvalid_1's rmse: 2.86006\n",
      "[350]\tvalid_0's rmse: 0.568051\tvalid_1's rmse: 2.86638\n",
      "Early stopping, best iteration is:\n",
      "[289]\tvalid_0's rmse: 0.67972\tvalid_1's rmse: 2.85442\n"
     ]
    },
    {
     "name": "stderr",
     "output_type": "stream",
     "text": [
      "num_leaves, val_score: 2.854421:  10%|#         | 2/20 [00:06<01:04,  3.57s/it]\u001b[32m[I 2021-05-28 14:55:26,964]\u001b[0m Trial 8 finished with value: 2.8544213457390777 and parameters: {'num_leaves': 149}. Best is trial 7 with value: 2.8544213457390777.\u001b[0m\n",
      "num_leaves, val_score: 2.854421:  10%|#         | 2/20 [00:06<01:04,  3.57s/it]"
     ]
    },
    {
     "name": "stdout",
     "output_type": "stream",
     "text": [
      "Training until validation scores don't improve for 100 rounds\n",
      "[50]\tvalid_0's rmse: 2.31141\tvalid_1's rmse: 2.95725\n",
      "[100]\tvalid_0's rmse: 1.53207\tvalid_1's rmse: 2.92611\n",
      "[150]\tvalid_0's rmse: 1.1732\tvalid_1's rmse: 2.89599\n",
      "[200]\tvalid_0's rmse: 0.938613\tvalid_1's rmse: 2.87864\n",
      "[250]\tvalid_0's rmse: 0.778322\tvalid_1's rmse: 2.86976\n",
      "[300]\tvalid_0's rmse: 0.657446\tvalid_1's rmse: 2.86006\n",
      "[350]\tvalid_0's rmse: 0.568051\tvalid_1's rmse: 2.86638\n",
      "Early stopping, best iteration is:\n",
      "[289]\tvalid_0's rmse: 0.67972\tvalid_1's rmse: 2.85442\n"
     ]
    },
    {
     "name": "stderr",
     "output_type": "stream",
     "text": [
      "num_leaves, val_score: 2.854421:  15%|#5        | 3/20 [00:08<00:52,  3.07s/it]\u001b[32m[I 2021-05-28 14:55:28,861]\u001b[0m Trial 9 finished with value: 2.8544213457390777 and parameters: {'num_leaves': 87}. Best is trial 7 with value: 2.8544213457390777.\u001b[0m\n",
      "num_leaves, val_score: 2.854421:  15%|#5        | 3/20 [00:08<00:52,  3.07s/it]"
     ]
    },
    {
     "name": "stdout",
     "output_type": "stream",
     "text": [
      "Training until validation scores don't improve for 100 rounds\n",
      "[50]\tvalid_0's rmse: 2.31141\tvalid_1's rmse: 2.95725\n",
      "[100]\tvalid_0's rmse: 1.53207\tvalid_1's rmse: 2.92611\n",
      "[150]\tvalid_0's rmse: 1.1732\tvalid_1's rmse: 2.89599\n",
      "[200]\tvalid_0's rmse: 0.938613\tvalid_1's rmse: 2.87864\n",
      "[250]\tvalid_0's rmse: 0.778322\tvalid_1's rmse: 2.86976\n",
      "[300]\tvalid_0's rmse: 0.657446\tvalid_1's rmse: 2.86006\n",
      "[350]\tvalid_0's rmse: 0.568051\tvalid_1's rmse: 2.86638\n",
      "Early stopping, best iteration is:\n",
      "[289]\tvalid_0's rmse: 0.67972\tvalid_1's rmse: 2.85442\n"
     ]
    },
    {
     "name": "stderr",
     "output_type": "stream",
     "text": [
      "num_leaves, val_score: 2.854421:  20%|##        | 4/20 [00:10<00:42,  2.66s/it]\u001b[32m[I 2021-05-28 14:55:30,561]\u001b[0m Trial 10 finished with value: 2.8544213457390777 and parameters: {'num_leaves': 218}. Best is trial 7 with value: 2.8544213457390777.\u001b[0m\n",
      "num_leaves, val_score: 2.854421:  20%|##        | 4/20 [00:10<00:42,  2.66s/it]"
     ]
    },
    {
     "name": "stdout",
     "output_type": "stream",
     "text": [
      "Training until validation scores don't improve for 100 rounds\n",
      "[50]\tvalid_0's rmse: 2.31141\tvalid_1's rmse: 2.95725\n",
      "[100]\tvalid_0's rmse: 1.53207\tvalid_1's rmse: 2.92611\n",
      "[150]\tvalid_0's rmse: 1.1732\tvalid_1's rmse: 2.89599\n",
      "[200]\tvalid_0's rmse: 0.938613\tvalid_1's rmse: 2.87864\n",
      "[250]\tvalid_0's rmse: 0.778322\tvalid_1's rmse: 2.86976\n",
      "[300]\tvalid_0's rmse: 0.657446\tvalid_1's rmse: 2.86006\n",
      "[350]\tvalid_0's rmse: 0.568051\tvalid_1's rmse: 2.86638\n"
     ]
    },
    {
     "name": "stderr",
     "output_type": "stream",
     "text": [
      "num_leaves, val_score: 2.854421:  25%|##5       | 5/20 [00:12<00:39,  2.62s/it]\u001b[32m[I 2021-05-28 14:55:33,101]\u001b[0m Trial 11 finished with value: 2.8544213457390777 and parameters: {'num_leaves': 134}. Best is trial 7 with value: 2.8544213457390777.\u001b[0m\n",
      "num_leaves, val_score: 2.854421:  25%|##5       | 5/20 [00:12<00:39,  2.62s/it]"
     ]
    },
    {
     "name": "stdout",
     "output_type": "stream",
     "text": [
      "Early stopping, best iteration is:\n",
      "[289]\tvalid_0's rmse: 0.67972\tvalid_1's rmse: 2.85442\n",
      "Training until validation scores don't improve for 100 rounds\n",
      "[50]\tvalid_0's rmse: 2.31141\tvalid_1's rmse: 2.95725\n",
      "[100]\tvalid_0's rmse: 1.53207\tvalid_1's rmse: 2.92611\n",
      "[150]\tvalid_0's rmse: 1.1732\tvalid_1's rmse: 2.89599\n",
      "[200]\tvalid_0's rmse: 0.938613\tvalid_1's rmse: 2.87864\n",
      "[250]\tvalid_0's rmse: 0.778322\tvalid_1's rmse: 2.86976\n",
      "[300]\tvalid_0's rmse: 0.657446\tvalid_1's rmse: 2.86006\n",
      "[350]\tvalid_0's rmse: 0.568051\tvalid_1's rmse: 2.86638\n"
     ]
    },
    {
     "name": "stderr",
     "output_type": "stream",
     "text": [
      "num_leaves, val_score: 2.854421:  30%|###       | 6/20 [00:15<00:35,  2.53s/it]\u001b[32m[I 2021-05-28 14:55:35,398]\u001b[0m Trial 12 finished with value: 2.8544213457390777 and parameters: {'num_leaves': 194}. Best is trial 7 with value: 2.8544213457390777.\u001b[0m\n",
      "num_leaves, val_score: 2.854421:  30%|###       | 6/20 [00:15<00:35,  2.53s/it]"
     ]
    },
    {
     "name": "stdout",
     "output_type": "stream",
     "text": [
      "Early stopping, best iteration is:\n",
      "[289]\tvalid_0's rmse: 0.67972\tvalid_1's rmse: 2.85442\n",
      "Training until validation scores don't improve for 100 rounds\n",
      "[50]\tvalid_0's rmse: 2.31141\tvalid_1's rmse: 2.95725\n",
      "[100]\tvalid_0's rmse: 1.53207\tvalid_1's rmse: 2.92611\n",
      "[150]\tvalid_0's rmse: 1.1732\tvalid_1's rmse: 2.89599\n",
      "[200]\tvalid_0's rmse: 0.938613\tvalid_1's rmse: 2.87864\n",
      "[250]\tvalid_0's rmse: 0.778322\tvalid_1's rmse: 2.86976\n",
      "[300]\tvalid_0's rmse: 0.657446\tvalid_1's rmse: 2.86006\n",
      "[350]\tvalid_0's rmse: 0.568051\tvalid_1's rmse: 2.86638\n"
     ]
    },
    {
     "name": "stderr",
     "output_type": "stream",
     "text": [
      "num_leaves, val_score: 2.854421:  35%|###5      | 7/20 [00:17<00:31,  2.39s/it]\u001b[32m[I 2021-05-28 14:55:37,488]\u001b[0m Trial 13 finished with value: 2.8544213457390777 and parameters: {'num_leaves': 21}. Best is trial 7 with value: 2.8544213457390777.\u001b[0m\n",
      "num_leaves, val_score: 2.854421:  35%|###5      | 7/20 [00:17<00:31,  2.39s/it]"
     ]
    },
    {
     "name": "stdout",
     "output_type": "stream",
     "text": [
      "Early stopping, best iteration is:\n",
      "[289]\tvalid_0's rmse: 0.67972\tvalid_1's rmse: 2.85442\n",
      "Training until validation scores don't improve for 100 rounds\n",
      "[50]\tvalid_0's rmse: 2.31141\tvalid_1's rmse: 2.95725\n",
      "[100]\tvalid_0's rmse: 1.53207\tvalid_1's rmse: 2.92611\n",
      "[150]\tvalid_0's rmse: 1.1732\tvalid_1's rmse: 2.89599\n",
      "[200]\tvalid_0's rmse: 0.938613\tvalid_1's rmse: 2.87864\n",
      "[250]\tvalid_0's rmse: 0.778322\tvalid_1's rmse: 2.86976\n",
      "[300]\tvalid_0's rmse: 0.657446\tvalid_1's rmse: 2.86006\n"
     ]
    },
    {
     "name": "stderr",
     "output_type": "stream",
     "text": [
      "num_leaves, val_score: 2.854421:  40%|####      | 8/20 [00:20<00:31,  2.59s/it]"
     ]
    },
    {
     "name": "stdout",
     "output_type": "stream",
     "text": [
      "[350]\tvalid_0's rmse: 0.568051\tvalid_1's rmse: 2.86638\n",
      "Early stopping, best iteration is:\n",
      "[289]\tvalid_0's rmse: 0.67972\tvalid_1's rmse: 2.85442\n"
     ]
    },
    {
     "name": "stderr",
     "output_type": "stream",
     "text": [
      "\u001b[32m[I 2021-05-28 14:55:40,539]\u001b[0m Trial 14 finished with value: 2.8544213457390777 and parameters: {'num_leaves': 83}. Best is trial 7 with value: 2.8544213457390777.\u001b[0m\n",
      "num_leaves, val_score: 2.854421:  40%|####      | 8/20 [00:20<00:31,  2.59s/it]"
     ]
    },
    {
     "name": "stdout",
     "output_type": "stream",
     "text": [
      "Training until validation scores don't improve for 100 rounds\n",
      "[50]\tvalid_0's rmse: 2.31141\tvalid_1's rmse: 2.95725\n",
      "[100]\tvalid_0's rmse: 1.53207\tvalid_1's rmse: 2.92611\n",
      "[150]\tvalid_0's rmse: 1.1732\tvalid_1's rmse: 2.89599\n",
      "[200]\tvalid_0's rmse: 0.938613\tvalid_1's rmse: 2.87864\n",
      "[250]\tvalid_0's rmse: 0.778322\tvalid_1's rmse: 2.86976\n",
      "[300]\tvalid_0's rmse: 0.657446\tvalid_1's rmse: 2.86006\n",
      "[350]\tvalid_0's rmse: 0.568051\tvalid_1's rmse: 2.86638\n"
     ]
    },
    {
     "name": "stderr",
     "output_type": "stream",
     "text": [
      "num_leaves, val_score: 2.854421:  45%|####5     | 9/20 [00:23<00:29,  2.69s/it]\u001b[32m[I 2021-05-28 14:55:43,453]\u001b[0m Trial 15 finished with value: 2.8544213457390777 and parameters: {'num_leaves': 196}. Best is trial 7 with value: 2.8544213457390777.\u001b[0m\n",
      "num_leaves, val_score: 2.854421:  45%|####5     | 9/20 [00:23<00:29,  2.69s/it]"
     ]
    },
    {
     "name": "stdout",
     "output_type": "stream",
     "text": [
      "Early stopping, best iteration is:\n",
      "[289]\tvalid_0's rmse: 0.67972\tvalid_1's rmse: 2.85442\n",
      "Training until validation scores don't improve for 100 rounds\n",
      "[50]\tvalid_0's rmse: 2.31141\tvalid_1's rmse: 2.95725\n",
      "[100]\tvalid_0's rmse: 1.53207\tvalid_1's rmse: 2.92611\n",
      "[150]\tvalid_0's rmse: 1.1732\tvalid_1's rmse: 2.89599\n",
      "[200]\tvalid_0's rmse: 0.938613\tvalid_1's rmse: 2.87864\n",
      "[250]\tvalid_0's rmse: 0.778322\tvalid_1's rmse: 2.86976\n",
      "[300]\tvalid_0's rmse: 0.657446\tvalid_1's rmse: 2.86006\n"
     ]
    },
    {
     "name": "stderr",
     "output_type": "stream",
     "text": [
      "num_leaves, val_score: 2.854421:  45%|####5     | 9/20 [00:25<00:29,  2.69s/it]"
     ]
    },
    {
     "name": "stdout",
     "output_type": "stream",
     "text": [
      "[350]\tvalid_0's rmse: 0.568051\tvalid_1's rmse: 2.86638\n",
      "Early stopping, best iteration is:\n",
      "[289]\tvalid_0's rmse: 0.67972\tvalid_1's rmse: 2.85442\n"
     ]
    },
    {
     "name": "stderr",
     "output_type": "stream",
     "text": [
      "num_leaves, val_score: 2.854421:  50%|#####     | 10/20 [00:25<00:26,  2.62s/it]\u001b[32m[I 2021-05-28 14:55:45,936]\u001b[0m Trial 16 finished with value: 2.8544213457390777 and parameters: {'num_leaves': 80}. Best is trial 7 with value: 2.8544213457390777.\u001b[0m\n",
      "num_leaves, val_score: 2.854421:  50%|#####     | 10/20 [00:25<00:26,  2.62s/it]"
     ]
    },
    {
     "name": "stdout",
     "output_type": "stream",
     "text": [
      "Training until validation scores don't improve for 100 rounds\n",
      "[50]\tvalid_0's rmse: 2.31141\tvalid_1's rmse: 2.95725\n",
      "[100]\tvalid_0's rmse: 1.53207\tvalid_1's rmse: 2.92611\n",
      "[150]\tvalid_0's rmse: 1.1732\tvalid_1's rmse: 2.89599\n",
      "[200]\tvalid_0's rmse: 0.938613\tvalid_1's rmse: 2.87864\n",
      "[250]\tvalid_0's rmse: 0.778322\tvalid_1's rmse: 2.86976\n",
      "[300]\tvalid_0's rmse: 0.657446\tvalid_1's rmse: 2.86006\n"
     ]
    },
    {
     "name": "stderr",
     "output_type": "stream",
     "text": [
      "num_leaves, val_score: 2.854421:  55%|#####5    | 11/20 [00:28<00:23,  2.66s/it]\u001b[32m[I 2021-05-28 14:55:48,658]\u001b[0m Trial 17 finished with value: 2.8544213457390777 and parameters: {'num_leaves': 255}. Best is trial 7 with value: 2.8544213457390777.\u001b[0m\n",
      "num_leaves, val_score: 2.854421:  55%|#####5    | 11/20 [00:28<00:23,  2.66s/it]"
     ]
    },
    {
     "name": "stdout",
     "output_type": "stream",
     "text": [
      "[350]\tvalid_0's rmse: 0.568051\tvalid_1's rmse: 2.86638\n",
      "Early stopping, best iteration is:\n",
      "[289]\tvalid_0's rmse: 0.67972\tvalid_1's rmse: 2.85442\n",
      "Training until validation scores don't improve for 100 rounds\n",
      "[50]\tvalid_0's rmse: 2.31141\tvalid_1's rmse: 2.95725\n",
      "[100]\tvalid_0's rmse: 1.53207\tvalid_1's rmse: 2.92611\n",
      "[150]\tvalid_0's rmse: 1.1732\tvalid_1's rmse: 2.89599\n",
      "[200]\tvalid_0's rmse: 0.938613\tvalid_1's rmse: 2.87864\n",
      "[250]\tvalid_0's rmse: 0.778322\tvalid_1's rmse: 2.86976\n",
      "[300]\tvalid_0's rmse: 0.657446\tvalid_1's rmse: 2.86006\n",
      "[350]\tvalid_0's rmse: 0.568051\tvalid_1's rmse: 2.86638\n"
     ]
    },
    {
     "name": "stderr",
     "output_type": "stream",
     "text": [
      "num_leaves, val_score: 2.854421:  60%|######    | 12/20 [00:30<00:19,  2.43s/it]\u001b[32m[I 2021-05-28 14:55:50,556]\u001b[0m Trial 18 finished with value: 2.8544213457390777 and parameters: {'num_leaves': 169}. Best is trial 7 with value: 2.8544213457390777.\u001b[0m\n",
      "num_leaves, val_score: 2.854421:  60%|######    | 12/20 [00:30<00:19,  2.43s/it]"
     ]
    },
    {
     "name": "stdout",
     "output_type": "stream",
     "text": [
      "Early stopping, best iteration is:\n",
      "[289]\tvalid_0's rmse: 0.67972\tvalid_1's rmse: 2.85442\n",
      "Training until validation scores don't improve for 100 rounds\n",
      "[50]\tvalid_0's rmse: 2.31141\tvalid_1's rmse: 2.95725\n",
      "[100]\tvalid_0's rmse: 1.53207\tvalid_1's rmse: 2.92611\n",
      "[150]\tvalid_0's rmse: 1.1732\tvalid_1's rmse: 2.89599\n",
      "[200]\tvalid_0's rmse: 0.938613\tvalid_1's rmse: 2.87864\n",
      "[250]\tvalid_0's rmse: 0.778322\tvalid_1's rmse: 2.86976\n",
      "[300]\tvalid_0's rmse: 0.657446\tvalid_1's rmse: 2.86006\n"
     ]
    },
    {
     "name": "stderr",
     "output_type": "stream",
     "text": [
      "num_leaves, val_score: 2.854421:  65%|######5   | 13/20 [00:31<00:14,  2.08s/it]\u001b[32m[I 2021-05-28 14:55:51,820]\u001b[0m Trial 19 finished with value: 2.8544213457390777 and parameters: {'num_leaves': 252}. Best is trial 7 with value: 2.8544213457390777.\u001b[0m\n",
      "num_leaves, val_score: 2.854421:  65%|######5   | 13/20 [00:31<00:14,  2.08s/it]"
     ]
    },
    {
     "name": "stdout",
     "output_type": "stream",
     "text": [
      "[350]\tvalid_0's rmse: 0.568051\tvalid_1's rmse: 2.86638\n",
      "Early stopping, best iteration is:\n",
      "[289]\tvalid_0's rmse: 0.67972\tvalid_1's rmse: 2.85442\n",
      "Training until validation scores don't improve for 100 rounds\n",
      "[50]\tvalid_0's rmse: 2.31141\tvalid_1's rmse: 2.95725\n",
      "[100]\tvalid_0's rmse: 1.53207\tvalid_1's rmse: 2.92611\n",
      "[150]\tvalid_0's rmse: 1.1732\tvalid_1's rmse: 2.89599\n",
      "[200]\tvalid_0's rmse: 0.938613\tvalid_1's rmse: 2.87864\n",
      "[250]\tvalid_0's rmse: 0.778322\tvalid_1's rmse: 2.86976\n",
      "[300]\tvalid_0's rmse: 0.657446\tvalid_1's rmse: 2.86006\n"
     ]
    },
    {
     "name": "stderr",
     "output_type": "stream",
     "text": [
      "num_leaves, val_score: 2.854421:  70%|#######   | 14/20 [00:33<00:12,  2.04s/it]\u001b[32m[I 2021-05-28 14:55:53,776]\u001b[0m Trial 20 finished with value: 2.8544213457390777 and parameters: {'num_leaves': 137}. Best is trial 7 with value: 2.8544213457390777.\u001b[0m\n",
      "num_leaves, val_score: 2.854421:  70%|#######   | 14/20 [00:33<00:12,  2.04s/it]"
     ]
    },
    {
     "name": "stdout",
     "output_type": "stream",
     "text": [
      "[350]\tvalid_0's rmse: 0.568051\tvalid_1's rmse: 2.86638\n",
      "Early stopping, best iteration is:\n",
      "[289]\tvalid_0's rmse: 0.67972\tvalid_1's rmse: 2.85442\n",
      "Training until validation scores don't improve for 100 rounds\n",
      "[50]\tvalid_0's rmse: 2.31141\tvalid_1's rmse: 2.95725\n",
      "[100]\tvalid_0's rmse: 1.53207\tvalid_1's rmse: 2.92611\n",
      "[150]\tvalid_0's rmse: 1.1732\tvalid_1's rmse: 2.89599\n",
      "[200]\tvalid_0's rmse: 0.938613\tvalid_1's rmse: 2.87864\n",
      "[250]\tvalid_0's rmse: 0.778322\tvalid_1's rmse: 2.86976\n",
      "[300]\tvalid_0's rmse: 0.657446\tvalid_1's rmse: 2.86006\n",
      "[350]\tvalid_0's rmse: 0.568051\tvalid_1's rmse: 2.86638\n"
     ]
    },
    {
     "name": "stderr",
     "output_type": "stream",
     "text": [
      "num_leaves, val_score: 2.854421:  75%|#######5  | 15/20 [00:37<00:12,  2.55s/it]\u001b[32m[I 2021-05-28 14:55:57,522]\u001b[0m Trial 21 finished with value: 2.8544213457390777 and parameters: {'num_leaves': 232}. Best is trial 7 with value: 2.8544213457390777.\u001b[0m\n",
      "num_leaves, val_score: 2.854421:  75%|#######5  | 15/20 [00:37<00:12,  2.55s/it]"
     ]
    },
    {
     "name": "stdout",
     "output_type": "stream",
     "text": [
      "Early stopping, best iteration is:\n",
      "[289]\tvalid_0's rmse: 0.67972\tvalid_1's rmse: 2.85442\n",
      "Training until validation scores don't improve for 100 rounds\n",
      "[50]\tvalid_0's rmse: 2.31141\tvalid_1's rmse: 2.95725\n",
      "[100]\tvalid_0's rmse: 1.53207\tvalid_1's rmse: 2.92611\n",
      "[150]\tvalid_0's rmse: 1.1732\tvalid_1's rmse: 2.89599\n",
      "[200]\tvalid_0's rmse: 0.938613\tvalid_1's rmse: 2.87864\n",
      "[250]\tvalid_0's rmse: 0.778322\tvalid_1's rmse: 2.86976\n",
      "[300]\tvalid_0's rmse: 0.657446\tvalid_1's rmse: 2.86006\n",
      "[350]\tvalid_0's rmse: 0.568051\tvalid_1's rmse: 2.86638\n"
     ]
    },
    {
     "name": "stderr",
     "output_type": "stream",
     "text": [
      "num_leaves, val_score: 2.854421:  80%|########  | 16/20 [00:41<00:12,  3.10s/it]\u001b[32m[I 2021-05-28 14:56:01,930]\u001b[0m Trial 22 finished with value: 2.8544213457390777 and parameters: {'num_leaves': 169}. Best is trial 7 with value: 2.8544213457390777.\u001b[0m\n",
      "num_leaves, val_score: 2.854421:  80%|########  | 16/20 [00:41<00:12,  3.10s/it]"
     ]
    },
    {
     "name": "stdout",
     "output_type": "stream",
     "text": [
      "Early stopping, best iteration is:\n",
      "[289]\tvalid_0's rmse: 0.67972\tvalid_1's rmse: 2.85442\n",
      "Training until validation scores don't improve for 100 rounds\n",
      "[50]\tvalid_0's rmse: 2.31141\tvalid_1's rmse: 2.95725\n",
      "[100]\tvalid_0's rmse: 1.53207\tvalid_1's rmse: 2.92611\n",
      "[150]\tvalid_0's rmse: 1.1732\tvalid_1's rmse: 2.89599\n",
      "[200]\tvalid_0's rmse: 0.938613\tvalid_1's rmse: 2.87864\n",
      "[250]\tvalid_0's rmse: 0.778322\tvalid_1's rmse: 2.86976\n",
      "[300]\tvalid_0's rmse: 0.657446\tvalid_1's rmse: 2.86006\n",
      "[350]\tvalid_0's rmse: 0.568051\tvalid_1's rmse: 2.86638\n",
      "Early stopping, best iteration is:\n",
      "[289]\tvalid_0's rmse: 0.67972\tvalid_1's rmse: 2.85442\n"
     ]
    },
    {
     "name": "stderr",
     "output_type": "stream",
     "text": [
      "num_leaves, val_score: 2.854421:  85%|########5 | 17/20 [00:52<00:16,  5.43s/it]\u001b[32m[I 2021-05-28 14:56:12,769]\u001b[0m Trial 23 finished with value: 2.8544213457390777 and parameters: {'num_leaves': 114}. Best is trial 7 with value: 2.8544213457390777.\u001b[0m\n",
      "num_leaves, val_score: 2.854421:  85%|########5 | 17/20 [00:52<00:16,  5.43s/it]"
     ]
    },
    {
     "name": "stdout",
     "output_type": "stream",
     "text": [
      "Training until validation scores don't improve for 100 rounds\n",
      "[50]\tvalid_0's rmse: 2.31141\tvalid_1's rmse: 2.95725\n",
      "[100]\tvalid_0's rmse: 1.53207\tvalid_1's rmse: 2.92611\n",
      "[150]\tvalid_0's rmse: 1.1732\tvalid_1's rmse: 2.89599\n",
      "[200]\tvalid_0's rmse: 0.938613\tvalid_1's rmse: 2.87864\n",
      "[250]\tvalid_0's rmse: 0.778322\tvalid_1's rmse: 2.86976\n",
      "[300]\tvalid_0's rmse: 0.657446\tvalid_1's rmse: 2.86006\n",
      "[350]\tvalid_0's rmse: 0.568051\tvalid_1's rmse: 2.86638\n"
     ]
    },
    {
     "name": "stderr",
     "output_type": "stream",
     "text": [
      "num_leaves, val_score: 2.854421:  90%|######### | 18/20 [01:00<00:12,  6.32s/it]\u001b[32m[I 2021-05-28 14:56:21,177]\u001b[0m Trial 24 finished with value: 2.8544213457390777 and parameters: {'num_leaves': 231}. Best is trial 7 with value: 2.8544213457390777.\u001b[0m\n",
      "num_leaves, val_score: 2.854421:  90%|######### | 18/20 [01:00<00:12,  6.32s/it]"
     ]
    },
    {
     "name": "stdout",
     "output_type": "stream",
     "text": [
      "Early stopping, best iteration is:\n",
      "[289]\tvalid_0's rmse: 0.67972\tvalid_1's rmse: 2.85442\n",
      "Training until validation scores don't improve for 100 rounds\n",
      "[50]\tvalid_0's rmse: 2.31141\tvalid_1's rmse: 2.95725\n",
      "[100]\tvalid_0's rmse: 1.53207\tvalid_1's rmse: 2.92611\n",
      "[150]\tvalid_0's rmse: 1.1732\tvalid_1's rmse: 2.89599\n",
      "[200]\tvalid_0's rmse: 0.938613\tvalid_1's rmse: 2.87864\n",
      "[250]\tvalid_0's rmse: 0.778322\tvalid_1's rmse: 2.86976\n",
      "[300]\tvalid_0's rmse: 0.657446\tvalid_1's rmse: 2.86006\n",
      "[350]\tvalid_0's rmse: 0.568051\tvalid_1's rmse: 2.86638\n",
      "Early stopping, best iteration is:\n",
      "[289]\tvalid_0's rmse: 0.67972\tvalid_1's rmse: 2.85442\n"
     ]
    },
    {
     "name": "stderr",
     "output_type": "stream",
     "text": [
      "num_leaves, val_score: 2.854421:  95%|#########5| 19/20 [01:05<00:05,  5.91s/it]\u001b[32m[I 2021-05-28 14:56:26,116]\u001b[0m Trial 25 finished with value: 2.8544213457390777 and parameters: {'num_leaves': 186}. Best is trial 7 with value: 2.8544213457390777.\u001b[0m\n",
      "num_leaves, val_score: 2.854421:  95%|#########5| 19/20 [01:05<00:05,  5.91s/it]"
     ]
    },
    {
     "name": "stdout",
     "output_type": "stream",
     "text": [
      "Training until validation scores don't improve for 100 rounds\n",
      "[50]\tvalid_0's rmse: 2.31141\tvalid_1's rmse: 2.95725\n",
      "[100]\tvalid_0's rmse: 1.53207\tvalid_1's rmse: 2.92611\n",
      "[150]\tvalid_0's rmse: 1.1732\tvalid_1's rmse: 2.89599\n",
      "[200]\tvalid_0's rmse: 0.938613\tvalid_1's rmse: 2.87864\n",
      "[250]\tvalid_0's rmse: 0.778322\tvalid_1's rmse: 2.86976\n",
      "[300]\tvalid_0's rmse: 0.657446\tvalid_1's rmse: 2.86006\n",
      "[350]\tvalid_0's rmse: 0.568051\tvalid_1's rmse: 2.86638\n"
     ]
    },
    {
     "name": "stderr",
     "output_type": "stream",
     "text": [
      "num_leaves, val_score: 2.854421: 100%|##########| 20/20 [01:09<00:00,  5.10s/it]\u001b[32m[I 2021-05-28 14:56:29,363]\u001b[0m Trial 26 finished with value: 2.8544213457390777 and parameters: {'num_leaves': 49}. Best is trial 7 with value: 2.8544213457390777.\u001b[0m\n",
      "num_leaves, val_score: 2.854421: 100%|##########| 20/20 [01:09<00:00,  3.46s/it]\n",
      "  0%|          | 0/10 [00:00<?, ?it/s]"
     ]
    },
    {
     "name": "stdout",
     "output_type": "stream",
     "text": [
      "Early stopping, best iteration is:\n",
      "[289]\tvalid_0's rmse: 0.67972\tvalid_1's rmse: 2.85442\n"
     ]
    },
    {
     "name": "stderr",
     "output_type": "stream",
     "text": [
      "bagging, val_score: 2.854421:   0%|          | 0/10 [00:00<?, ?it/s]"
     ]
    },
    {
     "name": "stdout",
     "output_type": "stream",
     "text": [
      "Training until validation scores don't improve for 100 rounds\n",
      "[50]\tvalid_0's rmse: 3.30113\tvalid_1's rmse: 3.48023\n",
      "[100]\tvalid_0's rmse: 2.72322\tvalid_1's rmse: 3.53445\n",
      "[150]\tvalid_0's rmse: 2.33744\tvalid_1's rmse: 3.42533\n",
      "[200]\tvalid_0's rmse: 2.04736\tvalid_1's rmse: 3.46111\n",
      "[250]\tvalid_0's rmse: 1.8324\tvalid_1's rmse: 3.38555\n",
      "[300]\tvalid_0's rmse: 1.66577\tvalid_1's rmse: 3.40247\n",
      "[350]\tvalid_0's rmse: 1.52505\tvalid_1's rmse: 3.42073\n",
      "[400]\tvalid_0's rmse: 1.40685\tvalid_1's rmse: 3.36674\n",
      "[450]\tvalid_0's rmse: 1.31617\tvalid_1's rmse: 3.42256\n"
     ]
    },
    {
     "name": "stderr",
     "output_type": "stream",
     "text": [
      "bagging, val_score: 2.854421:   0%|          | 0/10 [00:07<?, ?it/s]"
     ]
    },
    {
     "name": "stdout",
     "output_type": "stream",
     "text": [
      "Early stopping, best iteration is:\n",
      "[393]\tvalid_0's rmse: 1.41875\tvalid_1's rmse: 3.35647\n"
     ]
    },
    {
     "name": "stderr",
     "output_type": "stream",
     "text": [
      "bagging, val_score: 2.854421:  10%|#         | 1/10 [00:07<01:11,  7.96s/it]\u001b[32m[I 2021-05-28 14:56:37,384]\u001b[0m Trial 27 finished with value: 3.3564667689923544 and parameters: {'bagging_fraction': 0.516640973093549, 'bagging_freq': 3}. Best is trial 27 with value: 3.3564667689923544.\u001b[0m\n",
      "bagging, val_score: 2.854421:  10%|#         | 1/10 [00:07<01:11,  7.96s/it]"
     ]
    },
    {
     "name": "stdout",
     "output_type": "stream",
     "text": [
      "Training until validation scores don't improve for 100 rounds\n",
      "[50]\tvalid_0's rmse: 3.15383\tvalid_1's rmse: 3.39219\n"
     ]
    },
    {
     "name": "stderr",
     "output_type": "stream",
     "text": [
      "bagging, val_score: 2.854421:  10%|#         | 1/10 [00:09<01:11,  7.96s/it]"
     ]
    },
    {
     "name": "stdout",
     "output_type": "stream",
     "text": [
      "[100]\tvalid_0's rmse: 2.57887\tvalid_1's rmse: 3.45343\n",
      "[150]\tvalid_0's rmse: 2.22474\tvalid_1's rmse: 3.41921\n",
      "Early stopping, best iteration is:\n",
      "[69]\tvalid_0's rmse: 2.89419\tvalid_1's rmse: 3.37665\n"
     ]
    },
    {
     "name": "stderr",
     "output_type": "stream",
     "text": [
      "bagging, val_score: 2.854421:  20%|##        | 2/10 [00:09<00:47,  5.99s/it]\u001b[32m[I 2021-05-28 14:56:38,791]\u001b[0m Trial 28 finished with value: 3.376646467229041 and parameters: {'bagging_fraction': 0.5412682345021286, 'bagging_freq': 3}. Best is trial 27 with value: 3.3564667689923544.\u001b[0m\n",
      "bagging, val_score: 2.854421:  20%|##        | 2/10 [00:09<00:47,  5.99s/it]"
     ]
    },
    {
     "name": "stdout",
     "output_type": "stream",
     "text": [
      "Training until validation scores don't improve for 100 rounds\n",
      "[50]\tvalid_0's rmse: 3.57039\tvalid_1's rmse: 3.47724\n",
      "[100]\tvalid_0's rmse: 3.05068\tvalid_1's rmse: 3.45597\n",
      "[150]\tvalid_0's rmse: 2.70942\tvalid_1's rmse: 3.35399\n",
      "[200]\tvalid_0's rmse: 2.43285\tvalid_1's rmse: 3.25029\n",
      "[250]\tvalid_0's rmse: 2.21115\tvalid_1's rmse: 3.22804\n"
     ]
    },
    {
     "name": "stderr",
     "output_type": "stream",
     "text": [
      "bagging, val_score: 2.854421:  30%|###       | 3/10 [00:12<00:36,  5.17s/it]\u001b[32m[I 2021-05-28 14:56:42,049]\u001b[0m Trial 29 finished with value: 3.1870224635821875 and parameters: {'bagging_fraction': 0.44625549111608503, 'bagging_freq': 6}. Best is trial 29 with value: 3.1870224635821875.\u001b[0m\n",
      "bagging, val_score: 2.854421:  30%|###       | 3/10 [00:12<00:36,  5.17s/it]"
     ]
    },
    {
     "name": "stdout",
     "output_type": "stream",
     "text": [
      "[300]\tvalid_0's rmse: 1.99674\tvalid_1's rmse: 3.39079\n",
      "Early stopping, best iteration is:\n",
      "[210]\tvalid_0's rmse: 2.38513\tvalid_1's rmse: 3.18702\n",
      "Training until validation scores don't improve for 100 rounds\n",
      "[50]\tvalid_0's rmse: 2.32794\tvalid_1's rmse: 2.89473\n",
      "[100]\tvalid_0's rmse: 1.57988\tvalid_1's rmse: 2.83188\n",
      "[150]\tvalid_0's rmse: 1.21205\tvalid_1's rmse: 2.8156\n",
      "[200]\tvalid_0's rmse: 0.967104\tvalid_1's rmse: 2.82756\n",
      "[250]\tvalid_0's rmse: 0.79916\tvalid_1's rmse: 2.77563\n",
      "[300]\tvalid_0's rmse: 0.670012\tvalid_1's rmse: 2.77909\n",
      "[350]\tvalid_0's rmse: 0.573556\tvalid_1's rmse: 2.76626\n"
     ]
    },
    {
     "name": "stderr",
     "output_type": "stream",
     "text": [
      "bagging, val_score: 2.761524:  40%|####      | 4/10 [00:18<00:31,  5.28s/it]\u001b[32m[I 2021-05-28 14:56:47,584]\u001b[0m Trial 30 finished with value: 2.761523683131417 and parameters: {'bagging_fraction': 0.9880321015000904, 'bagging_freq': 4}. Best is trial 30 with value: 2.761523683131417.\u001b[0m\n",
      "bagging, val_score: 2.761524:  40%|####      | 4/10 [00:18<00:31,  5.28s/it]"
     ]
    },
    {
     "name": "stdout",
     "output_type": "stream",
     "text": [
      "[400]\tvalid_0's rmse: 0.499189\tvalid_1's rmse: 2.76389\n",
      "Early stopping, best iteration is:\n",
      "[330]\tvalid_0's rmse: 0.611109\tvalid_1's rmse: 2.76152\n",
      "Training until validation scores don't improve for 100 rounds\n",
      "[50]\tvalid_0's rmse: 2.92821\tvalid_1's rmse: 3.45498\n",
      "[100]\tvalid_0's rmse: 2.2817\tvalid_1's rmse: 3.51475\n"
     ]
    },
    {
     "name": "stderr",
     "output_type": "stream",
     "text": [
      "bagging, val_score: 2.761524:  50%|#####     | 5/10 [00:19<00:20,  4.07s/it]\u001b[32m[I 2021-05-28 14:56:48,807]\u001b[0m Trial 31 finished with value: 3.4265280265967784 and parameters: {'bagging_fraction': 0.631571872444217, 'bagging_freq': 7}. Best is trial 30 with value: 2.761523683131417.\u001b[0m\n",
      "bagging, val_score: 2.761524:  50%|#####     | 5/10 [00:19<00:20,  4.07s/it]"
     ]
    },
    {
     "name": "stdout",
     "output_type": "stream",
     "text": [
      "Early stopping, best iteration is:\n",
      "[45]\tvalid_0's rmse: 3.00821\tvalid_1's rmse: 3.42653\n",
      "Training until validation scores don't improve for 100 rounds\n",
      "[50]\tvalid_0's rmse: 2.64732\tvalid_1's rmse: 3.29441\n",
      "[100]\tvalid_0's rmse: 2.01894\tvalid_1's rmse: 3.16894\n",
      "[150]\tvalid_0's rmse: 1.61709\tvalid_1's rmse: 3.17559\n",
      "[200]\tvalid_0's rmse: 1.34193\tvalid_1's rmse: 3.16268\n",
      "[250]\tvalid_0's rmse: 1.14247\tvalid_1's rmse: 3.12865\n",
      "[300]\tvalid_0's rmse: 0.979545\tvalid_1's rmse: 3.16592\n"
     ]
    },
    {
     "name": "stderr",
     "output_type": "stream",
     "text": [
      "bagging, val_score: 2.761524:  60%|######    | 6/10 [00:22<00:15,  3.86s/it]\u001b[32m[I 2021-05-28 14:56:52,198]\u001b[0m Trial 32 finished with value: 3.121489092510673 and parameters: {'bagging_fraction': 0.7658014502339766, 'bagging_freq': 6}. Best is trial 30 with value: 2.761523683131417.\u001b[0m\n",
      "bagging, val_score: 2.761524:  60%|######    | 6/10 [00:22<00:15,  3.86s/it]"
     ]
    },
    {
     "name": "stdout",
     "output_type": "stream",
     "text": [
      "Early stopping, best iteration is:\n",
      "[248]\tvalid_0's rmse: 1.14908\tvalid_1's rmse: 3.12149\n",
      "Training until validation scores don't improve for 100 rounds\n",
      "[50]\tvalid_0's rmse: 3.01816\tvalid_1's rmse: 3.50305\n",
      "[100]\tvalid_0's rmse: 2.42554\tvalid_1's rmse: 3.51619\n"
     ]
    },
    {
     "name": "stderr",
     "output_type": "stream",
     "text": [
      "bagging, val_score: 2.761524:  70%|#######   | 7/10 [00:23<00:08,  2.90s/it]\u001b[32m[I 2021-05-28 14:56:52,837]\u001b[0m Trial 33 finished with value: 3.420157862818706 and parameters: {'bagging_fraction': 0.588809479278251, 'bagging_freq': 6}. Best is trial 30 with value: 2.761523683131417.\u001b[0m\n",
      "bagging, val_score: 2.761524:  70%|#######   | 7/10 [00:23<00:08,  2.90s/it]"
     ]
    },
    {
     "name": "stdout",
     "output_type": "stream",
     "text": [
      "Early stopping, best iteration is:\n",
      "[32]\tvalid_0's rmse: 3.33946\tvalid_1's rmse: 3.42016\n",
      "Training until validation scores don't improve for 100 rounds\n",
      "[50]\tvalid_0's rmse: 2.68492\tvalid_1's rmse: 3.35037\n",
      "[100]\tvalid_0's rmse: 2.09294\tvalid_1's rmse: 3.24512\n",
      "[150]\tvalid_0's rmse: 1.66545\tvalid_1's rmse: 3.18816\n",
      "[200]\tvalid_0's rmse: 1.38071\tvalid_1's rmse: 3.20564\n",
      "[250]\tvalid_0's rmse: 1.17159\tvalid_1's rmse: 3.14208\n",
      "[300]\tvalid_0's rmse: 0.994882\tvalid_1's rmse: 3.13762\n",
      "[350]\tvalid_0's rmse: 0.868518\tvalid_1's rmse: 3.14907\n"
     ]
    },
    {
     "name": "stderr",
     "output_type": "stream",
     "text": [
      "bagging, val_score: 2.761524:  80%|########  | 8/10 [00:26<00:06,  3.09s/it]\u001b[32m[I 2021-05-28 14:56:56,395]\u001b[0m Trial 34 finished with value: 3.1094742633166517 and parameters: {'bagging_fraction': 0.7705349044881691, 'bagging_freq': 4}. Best is trial 30 with value: 2.761523683131417.\u001b[0m\n",
      "bagging, val_score: 2.761524:  80%|########  | 8/10 [00:26<00:06,  3.09s/it]"
     ]
    },
    {
     "name": "stdout",
     "output_type": "stream",
     "text": [
      "Early stopping, best iteration is:\n",
      "[285]\tvalid_0's rmse: 1.04655\tvalid_1's rmse: 3.10947\n",
      "Training until validation scores don't improve for 100 rounds\n",
      "[50]\tvalid_0's rmse: 2.38018\tvalid_1's rmse: 2.99388\n",
      "[100]\tvalid_0's rmse: 1.61451\tvalid_1's rmse: 2.91587\n",
      "[150]\tvalid_0's rmse: 1.24665\tvalid_1's rmse: 2.89411\n",
      "[200]\tvalid_0's rmse: 0.992413\tvalid_1's rmse: 2.87888\n",
      "[250]\tvalid_0's rmse: 0.837963\tvalid_1's rmse: 2.87479\n"
     ]
    },
    {
     "name": "stderr",
     "output_type": "stream",
     "text": [
      "bagging, val_score: 2.761524:  90%|######### | 9/10 [00:29<00:02,  2.99s/it]\u001b[32m[I 2021-05-28 14:56:59,136]\u001b[0m Trial 35 finished with value: 2.856375255439375 and parameters: {'bagging_fraction': 0.948450010784841, 'bagging_freq': 3}. Best is trial 30 with value: 2.761523683131417.\u001b[0m\n",
      "bagging, val_score: 2.761524:  90%|######### | 9/10 [00:29<00:02,  2.99s/it]"
     ]
    },
    {
     "name": "stdout",
     "output_type": "stream",
     "text": [
      "Early stopping, best iteration is:\n",
      "[175]\tvalid_0's rmse: 1.10815\tvalid_1's rmse: 2.85638\n",
      "Training until validation scores don't improve for 100 rounds\n",
      "[50]\tvalid_0's rmse: 2.92692\tvalid_1's rmse: 3.5812\n",
      "[100]\tvalid_0's rmse: 2.32526\tvalid_1's rmse: 3.53435\n",
      "[150]\tvalid_0's rmse: 1.96271\tvalid_1's rmse: 3.52637\n",
      "[200]\tvalid_0's rmse: 1.7103\tvalid_1's rmse: 3.49849\n",
      "[250]\tvalid_0's rmse: 1.50292\tvalid_1's rmse: 3.49491\n"
     ]
    },
    {
     "name": "stderr",
     "output_type": "stream",
     "text": [
      "bagging, val_score: 2.761524: 100%|##########| 10/10 [00:32<00:00,  2.95s/it]\u001b[32m[I 2021-05-28 14:57:01,997]\u001b[0m Trial 36 finished with value: 3.4679107950673855 and parameters: {'bagging_fraction': 0.6124378638534507, 'bagging_freq': 2}. Best is trial 30 with value: 2.761523683131417.\u001b[0m\n",
      "bagging, val_score: 2.761524: 100%|##########| 10/10 [00:32<00:00,  3.26s/it]\n",
      "feature_fraction_stage2, val_score: 2.761524:   0%|          | 0/6 [00:00<?, ?it/s]"
     ]
    },
    {
     "name": "stdout",
     "output_type": "stream",
     "text": [
      "[300]\tvalid_0's rmse: 1.33982\tvalid_1's rmse: 3.50444\n",
      "Early stopping, best iteration is:\n",
      "[207]\tvalid_0's rmse: 1.68153\tvalid_1's rmse: 3.46791\n",
      "Training until validation scores don't improve for 100 rounds\n",
      "[50]\tvalid_0's rmse: 2.28937\tvalid_1's rmse: 2.99155\n",
      "[100]\tvalid_0's rmse: 1.56558\tvalid_1's rmse: 2.92449\n",
      "[150]\tvalid_0's rmse: 1.2067\tvalid_1's rmse: 2.89641\n",
      "[200]\tvalid_0's rmse: 0.961509\tvalid_1's rmse: 2.87187\n",
      "[250]\tvalid_0's rmse: 0.788592\tvalid_1's rmse: 2.84405\n",
      "[300]\tvalid_0's rmse: 0.667202\tvalid_1's rmse: 2.83039\n",
      "[350]\tvalid_0's rmse: 0.567322\tvalid_1's rmse: 2.82998\n",
      "[400]\tvalid_0's rmse: 0.490126\tvalid_1's rmse: 2.83369\n"
     ]
    },
    {
     "name": "stderr",
     "output_type": "stream",
     "text": [
      "feature_fraction_stage2, val_score: 2.761524:  17%|#6        | 1/6 [00:01<00:09,  1.87s/it]\u001b[32m[I 2021-05-28 14:57:03,910]\u001b[0m Trial 37 finished with value: 2.8175648805822306 and parameters: {'feature_fraction': 0.7799999999999999}. Best is trial 37 with value: 2.8175648805822306.\u001b[0m\n",
      "feature_fraction_stage2, val_score: 2.761524:  17%|#6        | 1/6 [00:01<00:09,  1.87s/it]"
     ]
    },
    {
     "name": "stdout",
     "output_type": "stream",
     "text": [
      "Early stopping, best iteration is:\n",
      "[328]\tvalid_0's rmse: 0.608211\tvalid_1's rmse: 2.81756\n",
      "Training until validation scores don't improve for 100 rounds\n",
      "[50]\tvalid_0's rmse: 2.28937\tvalid_1's rmse: 2.99155\n",
      "[100]\tvalid_0's rmse: 1.56558\tvalid_1's rmse: 2.92449\n",
      "[150]\tvalid_0's rmse: 1.2067\tvalid_1's rmse: 2.89641\n",
      "[200]\tvalid_0's rmse: 0.961509\tvalid_1's rmse: 2.87187\n",
      "[250]\tvalid_0's rmse: 0.788592\tvalid_1's rmse: 2.84405\n",
      "[300]\tvalid_0's rmse: 0.667202\tvalid_1's rmse: 2.83039\n",
      "[350]\tvalid_0's rmse: 0.567322\tvalid_1's rmse: 2.82998\n"
     ]
    },
    {
     "name": "stderr",
     "output_type": "stream",
     "text": [
      "feature_fraction_stage2, val_score: 2.761524:  33%|###3      | 2/6 [00:05<00:09,  2.27s/it]\u001b[32m[I 2021-05-28 14:57:07,098]\u001b[0m Trial 38 finished with value: 2.8175648805822306 and parameters: {'feature_fraction': 0.748}. Best is trial 37 with value: 2.8175648805822306.\u001b[0m\n",
      "feature_fraction_stage2, val_score: 2.761524:  33%|###3      | 2/6 [00:05<00:09,  2.27s/it]"
     ]
    },
    {
     "name": "stdout",
     "output_type": "stream",
     "text": [
      "[400]\tvalid_0's rmse: 0.490126\tvalid_1's rmse: 2.83369\n",
      "Early stopping, best iteration is:\n",
      "[328]\tvalid_0's rmse: 0.608211\tvalid_1's rmse: 2.81756\n",
      "Training until validation scores don't improve for 100 rounds\n",
      "[50]\tvalid_0's rmse: 2.29915\tvalid_1's rmse: 2.93245\n",
      "[100]\tvalid_0's rmse: 1.57573\tvalid_1's rmse: 2.93124\n",
      "[150]\tvalid_0's rmse: 1.2218\tvalid_1's rmse: 2.94157\n",
      "Early stopping, best iteration is:\n",
      "[93]\tvalid_0's rmse: 1.6451\tvalid_1's rmse: 2.90269\n"
     ]
    },
    {
     "name": "stderr",
     "output_type": "stream",
     "text": [
      "feature_fraction_stage2, val_score: 2.761524:  50%|#####     | 3/6 [00:06<00:05,  1.92s/it]\u001b[32m[I 2021-05-28 14:57:08,216]\u001b[0m Trial 39 finished with value: 2.902693131578007 and parameters: {'feature_fraction': 0.652}. Best is trial 37 with value: 2.8175648805822306.\u001b[0m\n",
      "feature_fraction_stage2, val_score: 2.761524:  50%|#####     | 3/6 [00:06<00:05,  1.92s/it]"
     ]
    },
    {
     "name": "stdout",
     "output_type": "stream",
     "text": [
      "Training until validation scores don't improve for 100 rounds\n",
      "[50]\tvalid_0's rmse: 2.32794\tvalid_1's rmse: 2.89473\n",
      "[100]\tvalid_0's rmse: 1.57988\tvalid_1's rmse: 2.83188\n",
      "[150]\tvalid_0's rmse: 1.21205\tvalid_1's rmse: 2.8156\n",
      "[200]\tvalid_0's rmse: 0.967104\tvalid_1's rmse: 2.82756\n",
      "[250]\tvalid_0's rmse: 0.79916\tvalid_1's rmse: 2.77563\n",
      "[300]\tvalid_0's rmse: 0.670012\tvalid_1's rmse: 2.77909\n",
      "[350]\tvalid_0's rmse: 0.573556\tvalid_1's rmse: 2.76626\n",
      "[400]\tvalid_0's rmse: 0.499189\tvalid_1's rmse: 2.76389\n"
     ]
    },
    {
     "name": "stderr",
     "output_type": "stream",
     "text": [
      "feature_fraction_stage2, val_score: 2.761524:  67%|######6   | 4/6 [00:09<00:04,  2.34s/it]\u001b[32m[I 2021-05-28 14:57:11,522]\u001b[0m Trial 40 finished with value: 2.761523683131417 and parameters: {'feature_fraction': 0.716}. Best is trial 40 with value: 2.761523683131417.\u001b[0m\n",
      "feature_fraction_stage2, val_score: 2.761524:  67%|######6   | 4/6 [00:09<00:04,  2.34s/it]"
     ]
    },
    {
     "name": "stdout",
     "output_type": "stream",
     "text": [
      "Early stopping, best iteration is:\n",
      "[330]\tvalid_0's rmse: 0.611109\tvalid_1's rmse: 2.76152\n",
      "Training until validation scores don't improve for 100 rounds\n",
      "[50]\tvalid_0's rmse: 2.32794\tvalid_1's rmse: 2.89473\n",
      "[100]\tvalid_0's rmse: 1.57988\tvalid_1's rmse: 2.83188\n",
      "[150]\tvalid_0's rmse: 1.21205\tvalid_1's rmse: 2.8156\n",
      "[200]\tvalid_0's rmse: 0.967104\tvalid_1's rmse: 2.82756\n",
      "[250]\tvalid_0's rmse: 0.79916\tvalid_1's rmse: 2.77563\n",
      "[300]\tvalid_0's rmse: 0.670012\tvalid_1's rmse: 2.77909\n",
      "[350]\tvalid_0's rmse: 0.573556\tvalid_1's rmse: 2.76626\n",
      "[400]\tvalid_0's rmse: 0.499189\tvalid_1's rmse: 2.76389\n"
     ]
    },
    {
     "name": "stderr",
     "output_type": "stream",
     "text": [
      "feature_fraction_stage2, val_score: 2.761524:  83%|########3 | 5/6 [00:13<00:02,  2.77s/it]\u001b[32m[I 2021-05-28 14:57:15,302]\u001b[0m Trial 41 finished with value: 2.761523683131417 and parameters: {'feature_fraction': 0.6839999999999999}. Best is trial 40 with value: 2.761523683131417.\u001b[0m\n",
      "feature_fraction_stage2, val_score: 2.761524:  83%|########3 | 5/6 [00:13<00:02,  2.77s/it]"
     ]
    },
    {
     "name": "stdout",
     "output_type": "stream",
     "text": [
      "Early stopping, best iteration is:\n",
      "[330]\tvalid_0's rmse: 0.611109\tvalid_1's rmse: 2.76152\n",
      "Training until validation scores don't improve for 100 rounds\n",
      "[50]\tvalid_0's rmse: 2.29915\tvalid_1's rmse: 2.93245\n",
      "[100]\tvalid_0's rmse: 1.57573\tvalid_1's rmse: 2.93124\n",
      "[150]\tvalid_0's rmse: 1.2218\tvalid_1's rmse: 2.94157\n"
     ]
    },
    {
     "name": "stderr",
     "output_type": "stream",
     "text": [
      "feature_fraction_stage2, val_score: 2.761524: 100%|##########| 6/6 [00:14<00:00,  2.37s/it]\u001b[32m[I 2021-05-28 14:57:16,740]\u001b[0m Trial 42 finished with value: 2.902693131578007 and parameters: {'feature_fraction': 0.62}. Best is trial 40 with value: 2.761523683131417.\u001b[0m\n",
      "feature_fraction_stage2, val_score: 2.761524: 100%|##########| 6/6 [00:14<00:00,  2.45s/it]\n",
      "regularization_factors, val_score: 2.761524:   0%|          | 0/20 [00:00<?, ?it/s]"
     ]
    },
    {
     "name": "stdout",
     "output_type": "stream",
     "text": [
      "Early stopping, best iteration is:\n",
      "[93]\tvalid_0's rmse: 1.6451\tvalid_1's rmse: 2.90269\n",
      "Training until validation scores don't improve for 100 rounds\n",
      "[50]\tvalid_0's rmse: 2.34521\tvalid_1's rmse: 2.90874\n",
      "[100]\tvalid_0's rmse: 1.56266\tvalid_1's rmse: 2.88344\n",
      "[150]\tvalid_0's rmse: 1.22675\tvalid_1's rmse: 2.86878\n"
     ]
    },
    {
     "name": "stderr",
     "output_type": "stream",
     "text": [
      "regularization_factors, val_score: 2.761524:   5%|5         | 1/20 [00:02<00:44,  2.34s/it]\u001b[32m[I 2021-05-28 14:57:19,123]\u001b[0m Trial 43 finished with value: 2.8517132388063136 and parameters: {'lambda_l1': 5.845007228549904e-06, 'lambda_l2': 0.01114064842403419}. Best is trial 43 with value: 2.8517132388063136.\u001b[0m\n",
      "regularization_factors, val_score: 2.761524:   5%|5         | 1/20 [00:02<00:44,  2.34s/it]"
     ]
    },
    {
     "name": "stdout",
     "output_type": "stream",
     "text": [
      "[200]\tvalid_0's rmse: 0.979842\tvalid_1's rmse: 2.8739\n",
      "Early stopping, best iteration is:\n",
      "[109]\tvalid_0's rmse: 1.48683\tvalid_1's rmse: 2.85171\n",
      "Training until validation scores don't improve for 100 rounds\n",
      "[50]\tvalid_0's rmse: 2.32794\tvalid_1's rmse: 2.89473\n",
      "[100]\tvalid_0's rmse: 1.57988\tvalid_1's rmse: 2.83188\n",
      "[150]\tvalid_0's rmse: 1.21205\tvalid_1's rmse: 2.8156\n",
      "[200]\tvalid_0's rmse: 0.967104\tvalid_1's rmse: 2.82756\n",
      "[250]\tvalid_0's rmse: 0.79916\tvalid_1's rmse: 2.77563\n",
      "[300]\tvalid_0's rmse: 0.670012\tvalid_1's rmse: 2.77909\n",
      "[350]\tvalid_0's rmse: 0.573557\tvalid_1's rmse: 2.76626\n"
     ]
    },
    {
     "name": "stderr",
     "output_type": "stream",
     "text": [
      "regularization_factors, val_score: 2.761524:  10%|#         | 2/20 [00:05<00:47,  2.64s/it]\u001b[32m[I 2021-05-28 14:57:22,465]\u001b[0m Trial 44 finished with value: 2.76152368113128 and parameters: {'lambda_l1': 2.1722885431788288e-08, 'lambda_l2': 6.807014568905728e-07}. Best is trial 44 with value: 2.76152368113128.\u001b[0m\n",
      "regularization_factors, val_score: 2.761524:  10%|#         | 2/20 [00:05<00:47,  2.64s/it]"
     ]
    },
    {
     "name": "stdout",
     "output_type": "stream",
     "text": [
      "[400]\tvalid_0's rmse: 0.499189\tvalid_1's rmse: 2.76389\n",
      "Early stopping, best iteration is:\n",
      "[330]\tvalid_0's rmse: 0.611109\tvalid_1's rmse: 2.76152\n",
      "Training until validation scores don't improve for 100 rounds\n",
      "[50]\tvalid_0's rmse: 2.32794\tvalid_1's rmse: 2.89473\n",
      "[100]\tvalid_0's rmse: 1.57988\tvalid_1's rmse: 2.83188\n",
      "[150]\tvalid_0's rmse: 1.21205\tvalid_1's rmse: 2.8156\n",
      "[200]\tvalid_0's rmse: 0.967104\tvalid_1's rmse: 2.82756\n",
      "[250]\tvalid_0's rmse: 0.79916\tvalid_1's rmse: 2.77563\n",
      "[300]\tvalid_0's rmse: 0.670012\tvalid_1's rmse: 2.77909\n",
      "[350]\tvalid_0's rmse: 0.573556\tvalid_1's rmse: 2.76626\n",
      "[400]\tvalid_0's rmse: 0.499189\tvalid_1's rmse: 2.76389\n",
      "Early stopping, best iteration is:\n",
      "[330]\tvalid_0's rmse: 0.611109\tvalid_1's rmse: 2.76152\n"
     ]
    },
    {
     "name": "stderr",
     "output_type": "stream",
     "text": [
      "regularization_factors, val_score: 2.761524:  15%|#5        | 3/20 [00:08<00:45,  2.65s/it]\u001b[32m[I 2021-05-28 14:57:25,144]\u001b[0m Trial 45 finished with value: 2.7615236832537815 and parameters: {'lambda_l1': 4.758786912398745e-08, 'lambda_l2': 1.0063614263319413e-07}. Best is trial 44 with value: 2.76152368113128.\u001b[0m\n",
      "regularization_factors, val_score: 2.761524:  15%|#5        | 3/20 [00:08<00:45,  2.65s/it]"
     ]
    },
    {
     "name": "stdout",
     "output_type": "stream",
     "text": [
      "Training until validation scores don't improve for 100 rounds\n",
      "[50]\tvalid_0's rmse: 2.32939\tvalid_1's rmse: 2.90393\n",
      "[100]\tvalid_0's rmse: 1.55664\tvalid_1's rmse: 2.89727\n",
      "[150]\tvalid_0's rmse: 1.20526\tvalid_1's rmse: 2.8769\n",
      "[200]\tvalid_0's rmse: 0.965824\tvalid_1's rmse: 2.84273\n",
      "[250]\tvalid_0's rmse: 0.810724\tvalid_1's rmse: 2.82466\n",
      "[300]\tvalid_0's rmse: 0.681704\tvalid_1's rmse: 2.81072\n",
      "[350]\tvalid_0's rmse: 0.5827\tvalid_1's rmse: 2.81283\n"
     ]
    },
    {
     "name": "stderr",
     "output_type": "stream",
     "text": [
      "regularization_factors, val_score: 2.761524:  20%|##        | 4/20 [00:12<00:50,  3.16s/it]\u001b[32m[I 2021-05-28 14:57:29,505]\u001b[0m Trial 46 finished with value: 2.8063544291622278 and parameters: {'lambda_l1': 0.0004643739148379949, 'lambda_l2': 0.04231897152265885}. Best is trial 44 with value: 2.76152368113128.\u001b[0m\n",
      "regularization_factors, val_score: 2.761524:  20%|##        | 4/20 [00:12<00:50,  3.16s/it]"
     ]
    },
    {
     "name": "stdout",
     "output_type": "stream",
     "text": [
      "Early stopping, best iteration is:\n",
      "[291]\tvalid_0's rmse: 0.700852\tvalid_1's rmse: 2.80635\n",
      "Training until validation scores don't improve for 100 rounds\n",
      "[50]\tvalid_0's rmse: 2.32814\tvalid_1's rmse: 2.89474\n",
      "[100]\tvalid_0's rmse: 1.58025\tvalid_1's rmse: 2.83195\n",
      "[150]\tvalid_0's rmse: 1.20864\tvalid_1's rmse: 2.79934\n",
      "[200]\tvalid_0's rmse: 0.96404\tvalid_1's rmse: 2.79068\n",
      "[250]\tvalid_0's rmse: 0.797493\tvalid_1's rmse: 2.78327\n",
      "[300]\tvalid_0's rmse: 0.671453\tvalid_1's rmse: 2.77606\n",
      "[350]\tvalid_0's rmse: 0.575524\tvalid_1's rmse: 2.76963\n",
      "[400]\tvalid_0's rmse: 0.498599\tvalid_1's rmse: 2.76706\n",
      "[450]\tvalid_0's rmse: 0.434957\tvalid_1's rmse: 2.77973\n"
     ]
    },
    {
     "name": "stderr",
     "output_type": "stream",
     "text": [
      "regularization_factors, val_score: 2.760598:  25%|##5       | 5/20 [00:15<00:46,  3.12s/it]\u001b[32m[I 2021-05-28 14:57:32,546]\u001b[0m Trial 47 finished with value: 2.760597555254566 and parameters: {'lambda_l1': 0.009284136602145842, 'lambda_l2': 7.19855292839979e-05}. Best is trial 47 with value: 2.760597555254566.\u001b[0m\n",
      "regularization_factors, val_score: 2.760598:  25%|##5       | 5/20 [00:15<00:46,  3.12s/it]"
     ]
    },
    {
     "name": "stdout",
     "output_type": "stream",
     "text": [
      "Early stopping, best iteration is:\n",
      "[378]\tvalid_0's rmse: 0.529502\tvalid_1's rmse: 2.7606\n",
      "Training until validation scores don't improve for 100 rounds\n",
      "[50]\tvalid_0's rmse: 2.32797\tvalid_1's rmse: 2.89473\n",
      "[100]\tvalid_0's rmse: 1.57991\tvalid_1's rmse: 2.83188\n",
      "[150]\tvalid_0's rmse: 1.21208\tvalid_1's rmse: 2.8156\n",
      "[200]\tvalid_0's rmse: 0.967126\tvalid_1's rmse: 2.82756\n",
      "[250]\tvalid_0's rmse: 0.79918\tvalid_1's rmse: 2.77563\n",
      "[300]\tvalid_0's rmse: 0.67003\tvalid_1's rmse: 2.77909\n",
      "[350]\tvalid_0's rmse: 0.573573\tvalid_1's rmse: 2.76625\n"
     ]
    },
    {
     "name": "stderr",
     "output_type": "stream",
     "text": [
      "regularization_factors, val_score: 2.760598:  30%|###       | 6/20 [00:18<00:40,  2.90s/it]\u001b[32m[I 2021-05-28 14:57:34,911]\u001b[0m Trial 48 finished with value: 2.761519983258567 and parameters: {'lambda_l1': 8.361386300155591e-08, 'lambda_l2': 0.0009335404464451275}. Best is trial 47 with value: 2.760597555254566.\u001b[0m\n"
     ]
    },
    {
     "name": "stdout",
     "output_type": "stream",
     "text": [
      "[400]\tvalid_0's rmse: 0.498342\tvalid_1's rmse: 2.77026\n",
      "Early stopping, best iteration is:\n",
      "[330]\tvalid_0's rmse: 0.611126\tvalid_1's rmse: 2.76152\n"
     ]
    },
    {
     "name": "stderr",
     "output_type": "stream",
     "text": [
      "regularization_factors, val_score: 2.760598:  30%|###       | 6/20 [00:18<00:40,  2.90s/it]"
     ]
    },
    {
     "name": "stdout",
     "output_type": "stream",
     "text": [
      "Training until validation scores don't improve for 100 rounds\n",
      "[50]\tvalid_0's rmse: 2.45246\tvalid_1's rmse: 2.9476\n",
      "[100]\tvalid_0's rmse: 1.62656\tvalid_1's rmse: 2.88781\n",
      "[150]\tvalid_0's rmse: 1.2726\tvalid_1's rmse: 2.9095\n"
     ]
    },
    {
     "name": "stderr",
     "output_type": "stream",
     "text": [
      "regularization_factors, val_score: 2.760598:  35%|###5      | 7/20 [00:18<00:29,  2.29s/it]\u001b[32m[I 2021-05-28 14:57:35,780]\u001b[0m Trial 49 finished with value: 2.8828277158140976 and parameters: {'lambda_l1': 0.0008328332665202287, 'lambda_l2': 1.7479453549850261}. Best is trial 47 with value: 2.760597555254566.\u001b[0m\n",
      "regularization_factors, val_score: 2.760598:  35%|###5      | 7/20 [00:19<00:29,  2.29s/it]"
     ]
    },
    {
     "name": "stdout",
     "output_type": "stream",
     "text": [
      "Early stopping, best iteration is:\n",
      "[95]\tvalid_0's rmse: 1.67931\tvalid_1's rmse: 2.88283\n",
      "Training until validation scores don't improve for 100 rounds\n",
      "[50]\tvalid_0's rmse: 2.35894\tvalid_1's rmse: 2.95902\n",
      "[100]\tvalid_0's rmse: 1.56395\tvalid_1's rmse: 2.92625\n",
      "[150]\tvalid_0's rmse: 1.23987\tvalid_1's rmse: 2.89615\n",
      "[200]\tvalid_0's rmse: 1.00108\tvalid_1's rmse: 2.89094\n",
      "[250]\tvalid_0's rmse: 0.84296\tvalid_1's rmse: 2.85553\n",
      "[300]\tvalid_0's rmse: 0.715261\tvalid_1's rmse: 2.83916\n",
      "[350]\tvalid_0's rmse: 0.626513\tvalid_1's rmse: 2.83215\n",
      "[400]\tvalid_0's rmse: 0.552679\tvalid_1's rmse: 2.83082\n"
     ]
    },
    {
     "name": "stderr",
     "output_type": "stream",
     "text": [
      "regularization_factors, val_score: 2.760598:  40%|####      | 8/20 [00:21<00:28,  2.38s/it]\u001b[32m[I 2021-05-28 14:57:38,379]\u001b[0m Trial 50 finished with value: 2.826003504228718 and parameters: {'lambda_l1': 0.5756582305038263, 'lambda_l2': 9.427600281897143e-05}. Best is trial 47 with value: 2.760597555254566.\u001b[0m\n",
      "regularization_factors, val_score: 2.760598:  40%|####      | 8/20 [00:21<00:28,  2.38s/it]"
     ]
    },
    {
     "name": "stdout",
     "output_type": "stream",
     "text": [
      "[450]\tvalid_0's rmse: 0.492672\tvalid_1's rmse: 2.82956\n",
      "Early stopping, best iteration is:\n",
      "[365]\tvalid_0's rmse: 0.602617\tvalid_1's rmse: 2.826\n",
      "Training until validation scores don't improve for 100 rounds\n",
      "[50]\tvalid_0's rmse: 2.32806\tvalid_1's rmse: 2.89473\n",
      "[100]\tvalid_0's rmse: 1.58006\tvalid_1's rmse: 2.8319\n",
      "[150]\tvalid_0's rmse: 1.21226\tvalid_1's rmse: 2.81561\n",
      "[200]\tvalid_0's rmse: 0.960015\tvalid_1's rmse: 2.79891\n",
      "[250]\tvalid_0's rmse: 0.793427\tvalid_1's rmse: 2.79226\n",
      "[300]\tvalid_0's rmse: 0.668997\tvalid_1's rmse: 2.76853\n",
      "[350]\tvalid_0's rmse: 0.568839\tvalid_1's rmse: 2.76111\n",
      "[400]\tvalid_0's rmse: 0.492115\tvalid_1's rmse: 2.76334\n"
     ]
    },
    {
     "name": "stderr",
     "output_type": "stream",
     "text": [
      "regularization_factors, val_score: 2.753324:  45%|####5     | 9/20 [00:25<00:32,  2.98s/it]\u001b[32m[I 2021-05-28 14:57:42,782]\u001b[0m Trial 51 finished with value: 2.7533242985688817 and parameters: {'lambda_l1': 0.003204076563919349, 'lambda_l2': 0.001782905624903415}. Best is trial 51 with value: 2.7533242985688817.\u001b[0m\n",
      "regularization_factors, val_score: 2.753324:  45%|####5     | 9/20 [00:26<00:32,  2.98s/it]"
     ]
    },
    {
     "name": "stdout",
     "output_type": "stream",
     "text": [
      "Early stopping, best iteration is:\n",
      "[334]\tvalid_0's rmse: 0.599525\tvalid_1's rmse: 2.75332\n",
      "Training until validation scores don't improve for 100 rounds\n",
      "[50]\tvalid_0's rmse: 2.30503\tvalid_1's rmse: 2.90883\n",
      "[100]\tvalid_0's rmse: 1.55983\tvalid_1's rmse: 2.85495\n",
      "[150]\tvalid_0's rmse: 1.20046\tvalid_1's rmse: 2.86337\n",
      "[200]\tvalid_0's rmse: 0.957464\tvalid_1's rmse: 2.8333\n",
      "[250]\tvalid_0's rmse: 0.790364\tvalid_1's rmse: 2.81466\n",
      "[300]\tvalid_0's rmse: 0.671286\tvalid_1's rmse: 2.80096\n",
      "[350]\tvalid_0's rmse: 0.575918\tvalid_1's rmse: 2.79364\n",
      "[400]\tvalid_0's rmse: 0.502793\tvalid_1's rmse: 2.79204\n"
     ]
    },
    {
     "name": "stderr",
     "output_type": "stream",
     "text": [
      "regularization_factors, val_score: 2.753324:  50%|#####     | 10/20 [00:30<00:35,  3.50s/it]\u001b[32m[I 2021-05-28 14:57:47,482]\u001b[0m Trial 52 finished with value: 2.790116200840269 and parameters: {'lambda_l1': 0.22486800888377284, 'lambda_l2': 6.000503208045004e-06}. Best is trial 51 with value: 2.7533242985688817.\u001b[0m\n",
      "regularization_factors, val_score: 2.753324:  50%|#####     | 10/20 [00:30<00:35,  3.50s/it]"
     ]
    },
    {
     "name": "stdout",
     "output_type": "stream",
     "text": [
      "Early stopping, best iteration is:\n",
      "[320]\tvalid_0's rmse: 0.631335\tvalid_1's rmse: 2.79012\n",
      "Training until validation scores don't improve for 100 rounds\n",
      "[50]\tvalid_0's rmse: 2.72733\tvalid_1's rmse: 3.1172\n",
      "[100]\tvalid_0's rmse: 2.05001\tvalid_1's rmse: 3.10284\n",
      "[150]\tvalid_0's rmse: 1.73249\tvalid_1's rmse: 3.09131\n",
      "[200]\tvalid_0's rmse: 1.50138\tvalid_1's rmse: 3.06425\n",
      "[250]\tvalid_0's rmse: 1.36865\tvalid_1's rmse: 3.0528\n",
      "[300]\tvalid_0's rmse: 1.28303\tvalid_1's rmse: 3.04384\n",
      "[350]\tvalid_0's rmse: 1.24453\tvalid_1's rmse: 3.03617\n"
     ]
    },
    {
     "name": "stderr",
     "output_type": "stream",
     "text": [
      "regularization_factors, val_score: 2.753324:  55%|#####5    | 11/20 [00:32<00:27,  3.04s/it]\u001b[32m[I 2021-05-28 14:57:49,424]\u001b[0m Trial 53 finished with value: 3.0358964803545425 and parameters: {'lambda_l1': 7.451917365105546, 'lambda_l2': 6.000351401610577}. Best is trial 51 with value: 2.7533242985688817.\u001b[0m\n",
      "regularization_factors, val_score: 2.753324:  55%|#####5    | 11/20 [00:32<00:27,  3.04s/it]"
     ]
    },
    {
     "name": "stdout",
     "output_type": "stream",
     "text": [
      "[400]\tvalid_0's rmse: 1.24453\tvalid_1's rmse: 3.03617\n",
      "Early stopping, best iteration is:\n",
      "[331]\tvalid_0's rmse: 1.24767\tvalid_1's rmse: 3.0359\n",
      "Training until validation scores don't improve for 100 rounds\n",
      "[50]\tvalid_0's rmse: 2.32829\tvalid_1's rmse: 2.89475\n",
      "[100]\tvalid_0's rmse: 1.58053\tvalid_1's rmse: 2.832\n",
      "[150]\tvalid_0's rmse: 1.20901\tvalid_1's rmse: 2.7994\n",
      "[200]\tvalid_0's rmse: 0.964457\tvalid_1's rmse: 2.79074\n",
      "[250]\tvalid_0's rmse: 0.801178\tvalid_1's rmse: 2.77819\n",
      "[300]\tvalid_0's rmse: 0.669598\tvalid_1's rmse: 2.75531\n",
      "[350]\tvalid_0's rmse: 0.572208\tvalid_1's rmse: 2.75816\n",
      "[400]\tvalid_0's rmse: 0.496722\tvalid_1's rmse: 2.75993\n"
     ]
    },
    {
     "name": "stderr",
     "output_type": "stream",
     "text": [
      "regularization_factors, val_score: 2.747222:  60%|######    | 12/20 [00:34<00:22,  2.79s/it]\u001b[32m[I 2021-05-28 14:57:51,630]\u001b[0m Trial 54 finished with value: 2.74722179028828 and parameters: {'lambda_l1': 0.016677702506262326, 'lambda_l2': 5.0208953125935345e-05}. Best is trial 54 with value: 2.74722179028828.\u001b[0m\n",
      "regularization_factors, val_score: 2.747222:  60%|######    | 12/20 [00:34<00:22,  2.79s/it]"
     ]
    },
    {
     "name": "stdout",
     "output_type": "stream",
     "text": [
      "Early stopping, best iteration is:\n",
      "[339]\tvalid_0's rmse: 0.592277\tvalid_1's rmse: 2.74722\n",
      "Training until validation scores don't improve for 100 rounds\n",
      "[50]\tvalid_0's rmse: 2.32896\tvalid_1's rmse: 2.904\n",
      "[100]\tvalid_0's rmse: 1.55352\tvalid_1's rmse: 2.85325\n",
      "[150]\tvalid_0's rmse: 1.21091\tvalid_1's rmse: 2.86005\n"
     ]
    },
    {
     "name": "stderr",
     "output_type": "stream",
     "text": [
      "regularization_factors, val_score: 2.747222:  65%|######5   | 13/20 [00:35<00:15,  2.26s/it]\u001b[32m[I 2021-05-28 14:57:52,660]\u001b[0m Trial 55 finished with value: 2.837599484621364 and parameters: {'lambda_l1': 0.03346647719743576, 'lambda_l2': 0.005094592917767229}. Best is trial 54 with value: 2.74722179028828.\u001b[0m\n",
      "regularization_factors, val_score: 2.747222:  65%|######5   | 13/20 [00:35<00:15,  2.26s/it]"
     ]
    },
    {
     "name": "stdout",
     "output_type": "stream",
     "text": [
      "Early stopping, best iteration is:\n",
      "[90]\tvalid_0's rmse: 1.66436\tvalid_1's rmse: 2.8376\n",
      "Training until validation scores don't improve for 100 rounds\n",
      "[50]\tvalid_0's rmse: 2.35583\tvalid_1's rmse: 2.89661\n",
      "[100]\tvalid_0's rmse: 1.57628\tvalid_1's rmse: 2.91144\n"
     ]
    },
    {
     "name": "stderr",
     "output_type": "stream",
     "text": [
      "regularization_factors, val_score: 2.747222:  70%|#######   | 14/20 [00:36<00:10,  1.78s/it]\u001b[32m[I 2021-05-28 14:57:53,332]\u001b[0m Trial 56 finished with value: 2.8670192960823293 and parameters: {'lambda_l1': 3.8815155483288666e-05, 'lambda_l2': 0.2332630034561984}. Best is trial 54 with value: 2.74722179028828.\u001b[0m\n",
      "regularization_factors, val_score: 2.747222:  70%|#######   | 14/20 [00:36<00:10,  1.78s/it]"
     ]
    },
    {
     "name": "stdout",
     "output_type": "stream",
     "text": [
      "Early stopping, best iteration is:\n",
      "[37]\tvalid_0's rmse: 2.65254\tvalid_1's rmse: 2.86702\n",
      "Training until validation scores don't improve for 100 rounds\n",
      "[50]\tvalid_0's rmse: 2.32802\tvalid_1's rmse: 2.89474\n",
      "[100]\tvalid_0's rmse: 1.58002\tvalid_1's rmse: 2.8319\n",
      "[150]\tvalid_0's rmse: 1.21223\tvalid_1's rmse: 2.81562\n",
      "[200]\tvalid_0's rmse: 0.959995\tvalid_1's rmse: 2.79892\n",
      "[250]\tvalid_0's rmse: 0.793414\tvalid_1's rmse: 2.79227\n",
      "[300]\tvalid_0's rmse: 0.668991\tvalid_1's rmse: 2.76854\n",
      "[350]\tvalid_0's rmse: 0.568838\tvalid_1's rmse: 2.76112\n"
     ]
    },
    {
     "name": "stderr",
     "output_type": "stream",
     "text": [
      "regularization_factors, val_score: 2.747222:  75%|#######5  | 15/20 [00:38<00:09,  1.90s/it]"
     ]
    },
    {
     "name": "stdout",
     "output_type": "stream",
     "text": [
      "[400]\tvalid_0's rmse: 0.492119\tvalid_1's rmse: 2.76335\n",
      "Early stopping, best iteration is:\n",
      "[334]\tvalid_0's rmse: 0.599522\tvalid_1's rmse: 2.75333\n"
     ]
    },
    {
     "name": "stderr",
     "output_type": "stream",
     "text": [
      "\u001b[32m[I 2021-05-28 14:57:55,495]\u001b[0m Trial 57 finished with value: 2.753334578693154 and parameters: {'lambda_l1': 0.0035766750276498304, 'lambda_l2': 9.206245490864119e-06}. Best is trial 54 with value: 2.74722179028828.\u001b[0m\n",
      "regularization_factors, val_score: 2.747222:  75%|#######5  | 15/20 [00:38<00:09,  1.90s/it]"
     ]
    },
    {
     "name": "stdout",
     "output_type": "stream",
     "text": [
      "Training until validation scores don't improve for 100 rounds\n",
      "[50]\tvalid_0's rmse: 2.32796\tvalid_1's rmse: 2.89473\n",
      "[100]\tvalid_0's rmse: 1.5799\tvalid_1's rmse: 2.83188\n",
      "[150]\tvalid_0's rmse: 1.21207\tvalid_1's rmse: 2.8156\n",
      "[200]\tvalid_0's rmse: 0.967121\tvalid_1's rmse: 2.82756\n",
      "[250]\tvalid_0's rmse: 0.799176\tvalid_1's rmse: 2.77563\n",
      "[300]\tvalid_0's rmse: 0.670027\tvalid_1's rmse: 2.77909\n",
      "[350]\tvalid_0's rmse: 0.57357\tvalid_1's rmse: 2.76626\n",
      "[400]\tvalid_0's rmse: 0.49834\tvalid_1's rmse: 2.77026\n"
     ]
    },
    {
     "name": "stderr",
     "output_type": "stream",
     "text": [
      "regularization_factors, val_score: 2.747222:  80%|########  | 16/20 [00:42<00:10,  2.59s/it]\u001b[32m[I 2021-05-28 14:57:59,714]\u001b[0m Trial 58 finished with value: 2.7615209740970714 and parameters: {'lambda_l1': 1.260770694620522e-05, 'lambda_l2': 0.0007066251117795111}. Best is trial 54 with value: 2.74722179028828.\u001b[0m\n",
      "regularization_factors, val_score: 2.747222:  80%|########  | 16/20 [00:42<00:10,  2.59s/it]"
     ]
    },
    {
     "name": "stdout",
     "output_type": "stream",
     "text": [
      "Early stopping, best iteration is:\n",
      "[330]\tvalid_0's rmse: 0.611123\tvalid_1's rmse: 2.76152\n",
      "Training until validation scores don't improve for 100 rounds\n",
      "[50]\tvalid_0's rmse: 2.33504\tvalid_1's rmse: 2.91582\n",
      "[100]\tvalid_0's rmse: 1.56134\tvalid_1's rmse: 2.83332\n",
      "[150]\tvalid_0's rmse: 1.22093\tvalid_1's rmse: 2.82056\n",
      "[200]\tvalid_0's rmse: 0.973284\tvalid_1's rmse: 2.80493\n",
      "[250]\tvalid_0's rmse: 0.808375\tvalid_1's rmse: 2.79049\n",
      "[300]\tvalid_0's rmse: 0.687845\tvalid_1's rmse: 2.77753\n",
      "[350]\tvalid_0's rmse: 0.589361\tvalid_1's rmse: 2.79028\n",
      "Early stopping, best iteration is:\n",
      "[265]\tvalid_0's rmse: 0.76397\tvalid_1's rmse: 2.77444\n"
     ]
    },
    {
     "name": "stderr",
     "output_type": "stream",
     "text": [
      "regularization_factors, val_score: 2.747222:  85%|########5 | 17/20 [00:47<00:09,  3.11s/it]\u001b[32m[I 2021-05-28 14:58:04,038]\u001b[0m Trial 59 finished with value: 2.7744361625274916 and parameters: {'lambda_l1': 0.14179064469249714, 'lambda_l2': 6.23854408953221e-06}. Best is trial 54 with value: 2.74722179028828.\u001b[0m\n",
      "regularization_factors, val_score: 2.747222:  85%|########5 | 17/20 [00:47<00:09,  3.11s/it]"
     ]
    },
    {
     "name": "stdout",
     "output_type": "stream",
     "text": [
      "Training until validation scores don't improve for 100 rounds\n",
      "[50]\tvalid_0's rmse: 2.38542\tvalid_1's rmse: 2.94644\n",
      "[100]\tvalid_0's rmse: 1.63354\tvalid_1's rmse: 2.87608\n",
      "[150]\tvalid_0's rmse: 1.27966\tvalid_1's rmse: 2.86636\n",
      "[200]\tvalid_0's rmse: 1.03095\tvalid_1's rmse: 2.82212\n",
      "[250]\tvalid_0's rmse: 0.873673\tvalid_1's rmse: 2.80692\n",
      "[300]\tvalid_0's rmse: 0.739506\tvalid_1's rmse: 2.80044\n",
      "[350]\tvalid_0's rmse: 0.64765\tvalid_1's rmse: 2.80344\n",
      "[400]\tvalid_0's rmse: 0.573831\tvalid_1's rmse: 2.80534\n"
     ]
    },
    {
     "name": "stderr",
     "output_type": "stream",
     "text": [
      "regularization_factors, val_score: 2.747222:  90%|######### | 18/20 [00:50<00:06,  3.09s/it]\u001b[32m[I 2021-05-28 14:58:07,075]\u001b[0m Trial 60 finished with value: 2.793187195073183 and parameters: {'lambda_l1': 1.1050510129404374, 'lambda_l2': 1.576345772246236e-08}. Best is trial 54 with value: 2.74722179028828.\u001b[0m\n",
      "regularization_factors, val_score: 2.747222:  90%|######### | 18/20 [00:50<00:06,  3.09s/it]"
     ]
    },
    {
     "name": "stdout",
     "output_type": "stream",
     "text": [
      "Early stopping, best iteration is:\n",
      "[330]\tvalid_0's rmse: 0.682594\tvalid_1's rmse: 2.79319\n",
      "Training until validation scores don't improve for 100 rounds\n",
      "[50]\tvalid_0's rmse: 2.32795\tvalid_1's rmse: 2.89473\n",
      "[100]\tvalid_0's rmse: 1.57989\tvalid_1's rmse: 2.83188\n",
      "[150]\tvalid_0's rmse: 1.21206\tvalid_1's rmse: 2.8156\n",
      "[200]\tvalid_0's rmse: 0.96711\tvalid_1's rmse: 2.82756\n",
      "[250]\tvalid_0's rmse: 0.799167\tvalid_1's rmse: 2.77563\n",
      "[300]\tvalid_0's rmse: 0.670019\tvalid_1's rmse: 2.77909\n",
      "[350]\tvalid_0's rmse: 0.573563\tvalid_1's rmse: 2.76626\n",
      "[400]\tvalid_0's rmse: 0.498335\tvalid_1's rmse: 2.77027\n"
     ]
    },
    {
     "name": "stderr",
     "output_type": "stream",
     "text": [
      "regularization_factors, val_score: 2.747222:  95%|#########5| 19/20 [00:53<00:03,  3.24s/it]\u001b[32m[I 2021-05-28 14:58:10,669]\u001b[0m Trial 61 finished with value: 2.761523719229294 and parameters: {'lambda_l1': 6.257990147123296e-05, 'lambda_l2': 0.00010808493558014967}. Best is trial 54 with value: 2.74722179028828.\u001b[0m\n",
      "regularization_factors, val_score: 2.747222:  95%|#########5| 19/20 [00:53<00:03,  3.24s/it]"
     ]
    },
    {
     "name": "stdout",
     "output_type": "stream",
     "text": [
      "Early stopping, best iteration is:\n",
      "[330]\tvalid_0's rmse: 0.611116\tvalid_1's rmse: 2.76152\n",
      "Training until validation scores don't improve for 100 rounds\n",
      "[50]\tvalid_0's rmse: 2.34783\tvalid_1's rmse: 2.90013\n",
      "[100]\tvalid_0's rmse: 1.57026\tvalid_1's rmse: 2.88545\n",
      "Early stopping, best iteration is:\n",
      "[40]\tvalid_0's rmse: 2.57629\tvalid_1's rmse: 2.84846\n"
     ]
    },
    {
     "name": "stderr",
     "output_type": "stream",
     "text": [
      "regularization_factors, val_score: 2.747222: 100%|##########| 20/20 [00:55<00:00,  2.73s/it]\u001b[32m[I 2021-05-28 14:58:12,206]\u001b[0m Trial 62 finished with value: 2.8484571186930703 and parameters: {'lambda_l1': 0.007082243806253883, 'lambda_l2': 0.1519169068068795}. Best is trial 54 with value: 2.74722179028828.\u001b[0m\n",
      "regularization_factors, val_score: 2.747222: 100%|##########| 20/20 [00:55<00:00,  2.77s/it]\n",
      "min_data_in_leaf, val_score: 2.747222:   0%|          | 0/5 [00:00<?, ?it/s]"
     ]
    },
    {
     "name": "stdout",
     "output_type": "stream",
     "text": [
      "Training until validation scores don't improve for 100 rounds\n",
      "[50]\tvalid_0's rmse: 5.45997\tvalid_1's rmse: 4.48948\n",
      "[100]\tvalid_0's rmse: 5.2376\tvalid_1's rmse: 4.60074\n"
     ]
    },
    {
     "name": "stderr",
     "output_type": "stream",
     "text": [
      "min_data_in_leaf, val_score: 2.747222:  20%|##        | 1/5 [00:00<00:02,  1.50it/s]\u001b[32m[I 2021-05-28 14:58:12,927]\u001b[0m Trial 63 finished with value: 4.45781465697483 and parameters: {'min_child_samples': 100}. Best is trial 63 with value: 4.45781465697483.\u001b[0m\n",
      "min_data_in_leaf, val_score: 2.747222:  20%|##        | 1/5 [00:00<00:02,  1.50it/s]"
     ]
    },
    {
     "name": "stdout",
     "output_type": "stream",
     "text": [
      "Early stopping, best iteration is:\n",
      "[29]\tvalid_0's rmse: 5.75141\tvalid_1's rmse: 4.45781\n",
      "Training until validation scores don't improve for 100 rounds\n",
      "[50]\tvalid_0's rmse: 3.77574\tvalid_1's rmse: 3.82778\n",
      "[100]\tvalid_0's rmse: 3.26668\tvalid_1's rmse: 3.96012\n"
     ]
    },
    {
     "name": "stderr",
     "output_type": "stream",
     "text": [
      "min_data_in_leaf, val_score: 2.747222:  40%|####      | 2/5 [00:01<00:01,  1.57it/s]\u001b[32m[I 2021-05-28 14:58:13,496]\u001b[0m Trial 64 finished with value: 3.782282740300612 and parameters: {'min_child_samples': 50}. Best is trial 64 with value: 3.782282740300612.\u001b[0m\n",
      "min_data_in_leaf, val_score: 2.747222:  40%|####      | 2/5 [00:01<00:01,  1.57it/s]"
     ]
    },
    {
     "name": "stdout",
     "output_type": "stream",
     "text": [
      "Early stopping, best iteration is:\n",
      "[22]\tvalid_0's rmse: 4.47511\tvalid_1's rmse: 3.78228\n",
      "Training until validation scores don't improve for 100 rounds\n",
      "[50]\tvalid_0's rmse: 2.68223\tvalid_1's rmse: 3.41513\n",
      "[100]\tvalid_0's rmse: 1.94612\tvalid_1's rmse: 3.44117\n"
     ]
    },
    {
     "name": "stderr",
     "output_type": "stream",
     "text": [
      "min_data_in_leaf, val_score: 2.747222:  60%|######    | 3/5 [00:02<00:01,  1.40it/s]\u001b[32m[I 2021-05-28 14:58:14,401]\u001b[0m Trial 65 finished with value: 3.2170224182361613 and parameters: {'min_child_samples': 25}. Best is trial 65 with value: 3.2170224182361613.\u001b[0m\n",
      "min_data_in_leaf, val_score: 2.747222:  60%|######    | 3/5 [00:02<00:01,  1.40it/s]"
     ]
    },
    {
     "name": "stdout",
     "output_type": "stream",
     "text": [
      "Early stopping, best iteration is:\n",
      "[32]\tvalid_0's rmse: 3.11094\tvalid_1's rmse: 3.21702\n",
      "Training until validation scores don't improve for 100 rounds\n",
      "[50]\tvalid_0's rmse: 1.50814\tvalid_1's rmse: 2.88887\n",
      "[100]\tvalid_0's rmse: 0.861931\tvalid_1's rmse: 2.83407\n",
      "[150]\tvalid_0's rmse: 0.610213\tvalid_1's rmse: 2.84094\n",
      "[200]\tvalid_0's rmse: 0.43464\tvalid_1's rmse: 2.82284\n",
      "[250]\tvalid_0's rmse: 0.32357\tvalid_1's rmse: 2.82252\n",
      "[300]\tvalid_0's rmse: 0.242245\tvalid_1's rmse: 2.82248\n"
     ]
    },
    {
     "name": "stderr",
     "output_type": "stream",
     "text": [
      "min_data_in_leaf, val_score: 2.747222:  80%|########  | 4/5 [00:08<00:02,  2.40s/it]\u001b[32m[I 2021-05-28 14:58:20,726]\u001b[0m Trial 66 finished with value: 2.819851480393271 and parameters: {'min_child_samples': 10}. Best is trial 66 with value: 2.819851480393271.\u001b[0m\n",
      "min_data_in_leaf, val_score: 2.747222:  80%|########  | 4/5 [00:08<00:02,  2.40s/it]"
     ]
    },
    {
     "name": "stdout",
     "output_type": "stream",
     "text": [
      "[350]\tvalid_0's rmse: 0.187453\tvalid_1's rmse: 2.82552\n",
      "Early stopping, best iteration is:\n",
      "[251]\tvalid_0's rmse: 0.320666\tvalid_1's rmse: 2.81985\n",
      "Training until validation scores don't improve for 100 rounds\n",
      "[50]\tvalid_0's rmse: 0.736777\tvalid_1's rmse: 2.87848\n",
      "[100]\tvalid_0's rmse: 0.336064\tvalid_1's rmse: 2.83597\n",
      "[150]\tvalid_0's rmse: 0.205029\tvalid_1's rmse: 2.83596\n",
      "[200]\tvalid_0's rmse: 0.127279\tvalid_1's rmse: 2.84236\n"
     ]
    },
    {
     "name": "stderr",
     "output_type": "stream",
     "text": [
      "min_data_in_leaf, val_score: 2.747222: 100%|##########| 5/5 [00:13<00:00,  3.33s/it]\u001b[32m[I 2021-05-28 14:58:26,221]\u001b[0m Trial 67 finished with value: 2.8323284102617445 and parameters: {'min_child_samples': 5}. Best is trial 66 with value: 2.819851480393271.\u001b[0m\n",
      "min_data_in_leaf, val_score: 2.747222: 100%|##########| 5/5 [00:13<00:00,  2.80s/it]"
     ]
    },
    {
     "name": "stdout",
     "output_type": "stream",
     "text": [
      "Early stopping, best iteration is:\n",
      "[134]\tvalid_0's rmse: 0.248272\tvalid_1's rmse: 2.83233\n"
     ]
    },
    {
     "name": "stderr",
     "output_type": "stream",
     "text": [
      "\n"
     ]
    }
   ],
   "source": [
    "# ベストなパラメータ、途中経過を保存する\n",
    "params = {\n",
    "    \"objective\": \"mean_squared_error\",\n",
    "    \"metric\": \"rmse\",\n",
    "    \"verbosity\": 10,\n",
    "    \"boosting_type\": \"gbdt\",\n",
    "    \"random_seed\": 0,\n",
    "}\n",
    "\n",
    "best_params, history = {}, []\n",
    "\n",
    "# LightGBM学習\n",
    "gbm = lgb.train(\n",
    "    params,\n",
    "    lgb_train,\n",
    "    num_boost_round=1000,\n",
    "    valid_sets=[lgb_train, lgb_eval],\n",
    "    early_stopping_rounds=100,\n",
    "    verbose_eval=50,\n",
    ")"
   ]
  },
  {
   "cell_type": "code",
   "execution_count": 6,
   "metadata": {},
   "outputs": [
    {
     "data": {
      "text/plain": [
       "{'objective': 'mean_squared_error',\n",
       " 'metric': 'rmse',\n",
       " 'verbosity': 10,\n",
       " 'boosting_type': 'gbdt',\n",
       " 'random_seed': 0,\n",
       " 'feature_pre_filter': False,\n",
       " 'lambda_l1': 0.016677702506262326,\n",
       " 'lambda_l2': 5.0208953125935345e-05,\n",
       " 'num_leaves': 31,\n",
       " 'feature_fraction': 0.7,\n",
       " 'bagging_fraction': 0.9880321015000904,\n",
       " 'bagging_freq': 4,\n",
       " 'min_child_samples': 20}"
      ]
     },
     "execution_count": 6,
     "metadata": {},
     "output_type": "execute_result"
    }
   ],
   "source": [
    "best_params = gbm.params\n",
    "best_params"
   ]
  },
  {
   "cell_type": "code",
   "execution_count": 7,
   "metadata": {},
   "outputs": [],
   "source": [
    "# LightGBM推論\n",
    "y_pred = gbm.predict(x_test, num_iteration=gbm.best_iteration)"
   ]
  },
  {
   "cell_type": "code",
   "execution_count": 8,
   "metadata": {},
   "outputs": [],
   "source": [
    "# 評価\n",
    "def calculate_scores(true, pred):\n",
    "    \"\"\"全ての評価指標を計算する\n",
    "\n",
    "    Parameters\n",
    "    ----------\n",
    "    true (np.array)       : 実測値\n",
    "    pred (np.array)       : 予測値\n",
    "\n",
    "    Returns\n",
    "    -------\n",
    "    scores (pd.DataFrame) : 各評価指標を纏めた結果\n",
    "\n",
    "    \"\"\"\n",
    "    scores = {}\n",
    "    scores = pd.DataFrame(\n",
    "        {\n",
    "            \"R2\": r2_score(true, pred),\n",
    "            \"MAE\": mean_absolute_error(true, pred),\n",
    "            \"MSE\": mean_squared_error(true, pred),\n",
    "            \"RMSE\": np.sqrt(mean_squared_error(true, pred)),\n",
    "        },\n",
    "        index=[\"scores\"],\n",
    "    )\n",
    "    return scores"
   ]
  },
  {
   "cell_type": "code",
   "execution_count": 9,
   "metadata": {},
   "outputs": [
    {
     "name": "stdout",
     "output_type": "stream",
     "text": [
      "              R2       MAE        MSE      RMSE\n",
      "scores  0.845409  2.744357  16.167263  4.020853\n"
     ]
    }
   ],
   "source": [
    "scores = calculate_scores(y_test, y_pred)\n",
    "print(scores)"
   ]
  },
  {
   "cell_type": "code",
   "execution_count": null,
   "metadata": {},
   "outputs": [],
   "source": []
  }
 ],
 "metadata": {
  "kernelspec": {
   "display_name": "Python 3",
   "language": "python",
   "name": "python3"
  },
  "language_info": {
   "codemirror_mode": {
    "name": "ipython",
    "version": 3
   },
   "file_extension": ".py",
   "mimetype": "text/x-python",
   "name": "python",
   "nbconvert_exporter": "python",
   "pygments_lexer": "ipython3",
   "version": "3.7.6"
  }
 },
 "nbformat": 4,
 "nbformat_minor": 4
}
