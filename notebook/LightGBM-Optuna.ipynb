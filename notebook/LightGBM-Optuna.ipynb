{
 "cells": [
  {
   "cell_type": "markdown",
   "metadata": {},
   "source": [
    "## LightGBM-Optunaのサンプルコード"
   ]
  },
  {
   "cell_type": "code",
   "execution_count": 1,
   "metadata": {},
   "outputs": [],
   "source": [
    "# ライブラリーのインポート\n",
    "import os\n",
    "\n",
    "import pandas as pd\n",
    "import numpy as np\n",
    "\n",
    "import seaborn as sns\n",
    "import matplotlib.pyplot as plt\n",
    "%matplotlib inline\n",
    "\n",
    "# ボストンの住宅価格データ\n",
    "from sklearn.datasets import load_boston\n",
    "\n",
    "# 前処理\n",
    "from sklearn.preprocessing import StandardScaler\n",
    "from sklearn.model_selection import train_test_split\n",
    "\n",
    "# LightGBM\n",
    "import optuna.integration.lightgbm as lgb\n",
    "\n",
    "# 評価指標\n",
    "from sklearn.metrics import r2_score\n",
    "from sklearn.metrics import mean_absolute_error\n",
    "from sklearn.metrics import mean_squared_error"
   ]
  },
  {
   "cell_type": "code",
   "execution_count": 2,
   "metadata": {},
   "outputs": [
    {
     "data": {
      "text/html": [
       "<div>\n",
       "<style scoped>\n",
       "    .dataframe tbody tr th:only-of-type {\n",
       "        vertical-align: middle;\n",
       "    }\n",
       "\n",
       "    .dataframe tbody tr th {\n",
       "        vertical-align: top;\n",
       "    }\n",
       "\n",
       "    .dataframe thead th {\n",
       "        text-align: right;\n",
       "    }\n",
       "</style>\n",
       "<table border=\"1\" class=\"dataframe\">\n",
       "  <thead>\n",
       "    <tr style=\"text-align: right;\">\n",
       "      <th></th>\n",
       "      <th>CRIM</th>\n",
       "      <th>ZN</th>\n",
       "      <th>INDUS</th>\n",
       "      <th>CHAS</th>\n",
       "      <th>NOX</th>\n",
       "      <th>RM</th>\n",
       "      <th>AGE</th>\n",
       "      <th>DIS</th>\n",
       "      <th>RAD</th>\n",
       "      <th>TAX</th>\n",
       "      <th>PTRATIO</th>\n",
       "      <th>B</th>\n",
       "      <th>LSTAT</th>\n",
       "      <th>MEDV</th>\n",
       "    </tr>\n",
       "  </thead>\n",
       "  <tbody>\n",
       "    <tr>\n",
       "      <th>0</th>\n",
       "      <td>0.00632</td>\n",
       "      <td>18.0</td>\n",
       "      <td>2.31</td>\n",
       "      <td>0.0</td>\n",
       "      <td>0.538</td>\n",
       "      <td>6.575</td>\n",
       "      <td>65.2</td>\n",
       "      <td>4.0900</td>\n",
       "      <td>1.0</td>\n",
       "      <td>296.0</td>\n",
       "      <td>15.3</td>\n",
       "      <td>396.90</td>\n",
       "      <td>4.98</td>\n",
       "      <td>24.0</td>\n",
       "    </tr>\n",
       "    <tr>\n",
       "      <th>1</th>\n",
       "      <td>0.02731</td>\n",
       "      <td>0.0</td>\n",
       "      <td>7.07</td>\n",
       "      <td>0.0</td>\n",
       "      <td>0.469</td>\n",
       "      <td>6.421</td>\n",
       "      <td>78.9</td>\n",
       "      <td>4.9671</td>\n",
       "      <td>2.0</td>\n",
       "      <td>242.0</td>\n",
       "      <td>17.8</td>\n",
       "      <td>396.90</td>\n",
       "      <td>9.14</td>\n",
       "      <td>21.6</td>\n",
       "    </tr>\n",
       "    <tr>\n",
       "      <th>2</th>\n",
       "      <td>0.02729</td>\n",
       "      <td>0.0</td>\n",
       "      <td>7.07</td>\n",
       "      <td>0.0</td>\n",
       "      <td>0.469</td>\n",
       "      <td>7.185</td>\n",
       "      <td>61.1</td>\n",
       "      <td>4.9671</td>\n",
       "      <td>2.0</td>\n",
       "      <td>242.0</td>\n",
       "      <td>17.8</td>\n",
       "      <td>392.83</td>\n",
       "      <td>4.03</td>\n",
       "      <td>34.7</td>\n",
       "    </tr>\n",
       "    <tr>\n",
       "      <th>3</th>\n",
       "      <td>0.03237</td>\n",
       "      <td>0.0</td>\n",
       "      <td>2.18</td>\n",
       "      <td>0.0</td>\n",
       "      <td>0.458</td>\n",
       "      <td>6.998</td>\n",
       "      <td>45.8</td>\n",
       "      <td>6.0622</td>\n",
       "      <td>3.0</td>\n",
       "      <td>222.0</td>\n",
       "      <td>18.7</td>\n",
       "      <td>394.63</td>\n",
       "      <td>2.94</td>\n",
       "      <td>33.4</td>\n",
       "    </tr>\n",
       "    <tr>\n",
       "      <th>4</th>\n",
       "      <td>0.06905</td>\n",
       "      <td>0.0</td>\n",
       "      <td>2.18</td>\n",
       "      <td>0.0</td>\n",
       "      <td>0.458</td>\n",
       "      <td>7.147</td>\n",
       "      <td>54.2</td>\n",
       "      <td>6.0622</td>\n",
       "      <td>3.0</td>\n",
       "      <td>222.0</td>\n",
       "      <td>18.7</td>\n",
       "      <td>396.90</td>\n",
       "      <td>5.33</td>\n",
       "      <td>36.2</td>\n",
       "    </tr>\n",
       "  </tbody>\n",
       "</table>\n",
       "</div>"
      ],
      "text/plain": [
       "      CRIM    ZN  INDUS  CHAS    NOX     RM   AGE     DIS  RAD    TAX  \\\n",
       "0  0.00632  18.0   2.31   0.0  0.538  6.575  65.2  4.0900  1.0  296.0   \n",
       "1  0.02731   0.0   7.07   0.0  0.469  6.421  78.9  4.9671  2.0  242.0   \n",
       "2  0.02729   0.0   7.07   0.0  0.469  7.185  61.1  4.9671  2.0  242.0   \n",
       "3  0.03237   0.0   2.18   0.0  0.458  6.998  45.8  6.0622  3.0  222.0   \n",
       "4  0.06905   0.0   2.18   0.0  0.458  7.147  54.2  6.0622  3.0  222.0   \n",
       "\n",
       "   PTRATIO       B  LSTAT  MEDV  \n",
       "0     15.3  396.90   4.98  24.0  \n",
       "1     17.8  396.90   9.14  21.6  \n",
       "2     17.8  392.83   4.03  34.7  \n",
       "3     18.7  394.63   2.94  33.4  \n",
       "4     18.7  396.90   5.33  36.2  "
      ]
     },
     "execution_count": 2,
     "metadata": {},
     "output_type": "execute_result"
    }
   ],
   "source": [
    "# データセットの読込み\n",
    "boston = load_boston()\n",
    "\n",
    "# 説明変数の格納\n",
    "df = pd.DataFrame(boston.data, columns = boston.feature_names)\n",
    "# 目的変数の追加\n",
    "df['MEDV'] = boston.target\n",
    "\n",
    "# データの中身を確認\n",
    "df.head()"
   ]
  },
  {
   "cell_type": "markdown",
   "metadata": {},
   "source": [
    "#### 前処理"
   ]
  },
  {
   "cell_type": "code",
   "execution_count": 3,
   "metadata": {},
   "outputs": [],
   "source": [
    "# ランダムシード値\n",
    "RANDOM_STATE = 10\n",
    "\n",
    "# 学習データと評価データの割合\n",
    "TEST_SIZE = 0.2\n",
    "\n",
    "# 学習データと評価データを作成\n",
    "x_train, x_test, y_train, y_test = train_test_split(df.iloc[:, 0:df.shape[1]-1],\n",
    "                                                    df.iloc[:, df.shape[1]-1],\n",
    "                                                    test_size=TEST_SIZE,\n",
    "                                                    random_state=RANDOM_STATE)\n",
    "\n",
    "# trainのデータセットの2割をモデル学習時のバリデーションデータとして利用する\n",
    "x_train, x_valid, y_train, y_valid = train_test_split(x_train,\n",
    "                                                      y_train,\n",
    "                                                      test_size=TEST_SIZE,\n",
    "                                                      random_state=RANDOM_STATE)\n",
    "\n",
    "# LightGBMを利用するのに必要なフォーマットに変換\n",
    "lgb_train = lgb.Dataset(x_train, y_train)\n",
    "lgb_eval = lgb.Dataset(x_valid, y_valid, reference=lgb_train)"
   ]
  },
  {
   "cell_type": "code",
   "execution_count": 4,
   "metadata": {},
   "outputs": [
    {
     "name": "stderr",
     "output_type": "stream",
     "text": [
      "\u001b[32m[I 2021-05-08 07:58:13,163]\u001b[0m A new study created in memory with name: no-name-d4dcafbe-1000-40c0-86b5-1b50ffcd6593\u001b[0m\n",
      "feature_fraction, val_score: inf:   0%|          | 0/7 [00:00<?, ?it/s]"
     ]
    },
    {
     "name": "stdout",
     "output_type": "stream",
     "text": [
      "Training until validation scores don't improve for 100 rounds\n",
      "[50]\tvalid_0's rmse: 2.39314\tvalid_1's rmse: 3.16573\n",
      "[100]\tvalid_0's rmse: 1.56193\tvalid_1's rmse: 3.08848\n",
      "[150]\tvalid_0's rmse: 1.1903\tvalid_1's rmse: 3.05121\n",
      "[200]\tvalid_0's rmse: 0.951202\tvalid_1's rmse: 3.04018\n",
      "[250]\tvalid_0's rmse: 0.78003\tvalid_1's rmse: 3.03043\n",
      "[300]\tvalid_0's rmse: 0.652737\tvalid_1's rmse: 3.0138\n",
      "[350]\tvalid_0's rmse: 0.555857\tvalid_1's rmse: 3.01775\n",
      "[400]\tvalid_0's rmse: 0.475638\tvalid_1's rmse: 3.01158\n",
      "[450]\tvalid_0's rmse: 0.417786\tvalid_1's rmse: 3.00577\n",
      "[500]\tvalid_0's rmse: 0.366841\tvalid_1's rmse: 3.01088\n"
     ]
    },
    {
     "name": "stderr",
     "output_type": "stream",
     "text": [
      "feature_fraction, val_score: 3.004091:  14%|#4        | 1/7 [00:01<00:09,  1.54s/it]\u001b[32m[I 2021-05-08 07:58:14,785]\u001b[0m Trial 0 finished with value: 3.0040910014517714 and parameters: {'feature_fraction': 0.8}. Best is trial 0 with value: 3.0040910014517714.\u001b[0m\n",
      "feature_fraction, val_score: 3.004091:  14%|#4        | 1/7 [00:01<00:09,  1.54s/it]"
     ]
    },
    {
     "name": "stdout",
     "output_type": "stream",
     "text": [
      "[550]\tvalid_0's rmse: 0.32299\tvalid_1's rmse: 3.00941\n",
      "Early stopping, best iteration is:\n",
      "[452]\tvalid_0's rmse: 0.415466\tvalid_1's rmse: 3.00409\n",
      "Training until validation scores don't improve for 100 rounds\n",
      "[50]\tvalid_0's rmse: 2.31706\tvalid_1's rmse: 3.18378\n",
      "[100]\tvalid_0's rmse: 1.53914\tvalid_1's rmse: 2.98479\n",
      "[150]\tvalid_0's rmse: 1.16032\tvalid_1's rmse: 2.96396\n",
      "[200]\tvalid_0's rmse: 0.913527\tvalid_1's rmse: 2.95325\n",
      "[250]\tvalid_0's rmse: 0.750357\tvalid_1's rmse: 2.93815\n",
      "[300]\tvalid_0's rmse: 0.627879\tvalid_1's rmse: 2.92698\n",
      "[350]\tvalid_0's rmse: 0.53372\tvalid_1's rmse: 2.92501\n",
      "[400]\tvalid_0's rmse: 0.460032\tvalid_1's rmse: 2.90336\n",
      "[450]\tvalid_0's rmse: 0.400247\tvalid_1's rmse: 2.89365\n",
      "[500]\tvalid_0's rmse: 0.354627\tvalid_1's rmse: 2.88808\n",
      "[550]\tvalid_0's rmse: 0.310126\tvalid_1's rmse: 2.88638\n",
      "[600]\tvalid_0's rmse: 0.278825\tvalid_1's rmse: 2.89207\n",
      "Early stopping, best iteration is:\n",
      "[545]\tvalid_0's rmse: 0.314357\tvalid_1's rmse: 2.88563\n"
     ]
    },
    {
     "name": "stderr",
     "output_type": "stream",
     "text": [
      "feature_fraction, val_score: 2.885625:  29%|##8       | 2/7 [00:03<00:07,  1.59s/it]\u001b[32m[I 2021-05-08 07:58:16,499]\u001b[0m Trial 1 finished with value: 2.885625071435 and parameters: {'feature_fraction': 1.0}. Best is trial 1 with value: 2.885625071435.\u001b[0m\n",
      "feature_fraction, val_score: 2.885625:  29%|##8       | 2/7 [00:03<00:07,  1.59s/it]"
     ]
    },
    {
     "name": "stdout",
     "output_type": "stream",
     "text": [
      "Training until validation scores don't improve for 100 rounds\n",
      "[50]\tvalid_0's rmse: 2.32828\tvalid_1's rmse: 3.14029\n",
      "[100]\tvalid_0's rmse: 1.53992\tvalid_1's rmse: 2.98839\n",
      "[150]\tvalid_0's rmse: 1.1773\tvalid_1's rmse: 2.96889\n",
      "[200]\tvalid_0's rmse: 0.93957\tvalid_1's rmse: 2.9461\n",
      "[250]\tvalid_0's rmse: 0.768197\tvalid_1's rmse: 2.93003\n",
      "[300]\tvalid_0's rmse: 0.648609\tvalid_1's rmse: 2.91471\n",
      "[350]\tvalid_0's rmse: 0.552764\tvalid_1's rmse: 2.90905\n",
      "[400]\tvalid_0's rmse: 0.479135\tvalid_1's rmse: 2.90792\n",
      "[450]\tvalid_0's rmse: 0.414233\tvalid_1's rmse: 2.89968\n",
      "[500]\tvalid_0's rmse: 0.368056\tvalid_1's rmse: 2.89829\n",
      "[550]\tvalid_0's rmse: 0.324335\tvalid_1's rmse: 2.89558\n",
      "[600]\tvalid_0's rmse: 0.291297\tvalid_1's rmse: 2.89751\n"
     ]
    },
    {
     "name": "stderr",
     "output_type": "stream",
     "text": [
      "feature_fraction, val_score: 2.885625:  43%|####2     | 3/7 [00:05<00:06,  1.66s/it]\u001b[32m[I 2021-05-08 07:58:18,326]\u001b[0m Trial 2 finished with value: 2.894004294970741 and parameters: {'feature_fraction': 0.8999999999999999}. Best is trial 1 with value: 2.885625071435.\u001b[0m\n",
      "feature_fraction, val_score: 2.885625:  43%|####2     | 3/7 [00:05<00:06,  1.66s/it]"
     ]
    },
    {
     "name": "stdout",
     "output_type": "stream",
     "text": [
      "Early stopping, best iteration is:\n",
      "[543]\tvalid_0's rmse: 0.329557\tvalid_1's rmse: 2.894\n",
      "Training until validation scores don't improve for 100 rounds\n",
      "[50]\tvalid_0's rmse: 2.31141\tvalid_1's rmse: 2.95725\n",
      "[100]\tvalid_0's rmse: 1.53207\tvalid_1's rmse: 2.92611\n",
      "[150]\tvalid_0's rmse: 1.1732\tvalid_1's rmse: 2.89599\n",
      "[200]\tvalid_0's rmse: 0.938613\tvalid_1's rmse: 2.87864\n",
      "[250]\tvalid_0's rmse: 0.778322\tvalid_1's rmse: 2.86976\n",
      "[300]\tvalid_0's rmse: 0.657446\tvalid_1's rmse: 2.86006\n"
     ]
    },
    {
     "name": "stderr",
     "output_type": "stream",
     "text": [
      "feature_fraction, val_score: 2.854421:  57%|#####7    | 4/7 [00:05<00:04,  1.44s/it]\u001b[32m[I 2021-05-08 07:58:19,235]\u001b[0m Trial 3 finished with value: 2.8544213457390777 and parameters: {'feature_fraction': 0.7}. Best is trial 3 with value: 2.8544213457390777.\u001b[0m\n",
      "feature_fraction, val_score: 2.854421:  57%|#####7    | 4/7 [00:06<00:04,  1.44s/it]"
     ]
    },
    {
     "name": "stdout",
     "output_type": "stream",
     "text": [
      "[350]\tvalid_0's rmse: 0.568051\tvalid_1's rmse: 2.86638\n",
      "Early stopping, best iteration is:\n",
      "[289]\tvalid_0's rmse: 0.67972\tvalid_1's rmse: 2.85442\n",
      "Training until validation scores don't improve for 100 rounds\n",
      "[50]\tvalid_0's rmse: 2.51258\tvalid_1's rmse: 3.11038\n",
      "[100]\tvalid_0's rmse: 1.73206\tvalid_1's rmse: 3.08034\n",
      "[150]\tvalid_0's rmse: 1.31881\tvalid_1's rmse: 3.05892\n",
      "[200]\tvalid_0's rmse: 1.0698\tvalid_1's rmse: 3.04527\n",
      "[250]\tvalid_0's rmse: 0.885366\tvalid_1's rmse: 3.04252\n",
      "Early stopping, best iteration is:\n",
      "[172]\tvalid_0's rmse: 1.19495\tvalid_1's rmse: 3.02476\n"
     ]
    },
    {
     "name": "stderr",
     "output_type": "stream",
     "text": [
      "feature_fraction, val_score: 2.854421:  71%|#######1  | 5/7 [00:06<00:02,  1.19s/it]\u001b[32m[I 2021-05-08 07:58:19,837]\u001b[0m Trial 4 finished with value: 3.024756270735715 and parameters: {'feature_fraction': 0.4}. Best is trial 3 with value: 2.8544213457390777.\u001b[0m\n",
      "feature_fraction, val_score: 2.854421:  71%|#######1  | 5/7 [00:06<00:02,  1.19s/it]"
     ]
    },
    {
     "name": "stdout",
     "output_type": "stream",
     "text": [
      "Training until validation scores don't improve for 100 rounds\n",
      "[50]\tvalid_0's rmse: 2.29947\tvalid_1's rmse: 2.96402\n",
      "[100]\tvalid_0's rmse: 1.58202\tvalid_1's rmse: 2.96425\n"
     ]
    },
    {
     "name": "stderr",
     "output_type": "stream",
     "text": [
      "feature_fraction, val_score: 2.854421:  86%|########5 | 6/7 [00:06<00:00,  1.06it/s]\u001b[32m[I 2021-05-08 07:58:20,226]\u001b[0m Trial 5 finished with value: 2.9247970880412133 and parameters: {'feature_fraction': 0.6}. Best is trial 3 with value: 2.8544213457390777.\u001b[0m\n",
      "feature_fraction, val_score: 2.854421:  86%|########5 | 6/7 [00:06<00:00,  1.06it/s]"
     ]
    },
    {
     "name": "stdout",
     "output_type": "stream",
     "text": [
      "Early stopping, best iteration is:\n",
      "[38]\tvalid_0's rmse: 2.59897\tvalid_1's rmse: 2.9248\n",
      "Training until validation scores don't improve for 100 rounds\n",
      "[50]\tvalid_0's rmse: 2.33551\tvalid_1's rmse: 3.0866\n"
     ]
    },
    {
     "name": "stderr",
     "output_type": "stream",
     "text": [
      "feature_fraction, val_score: 2.854421: 100%|##########| 7/7 [00:07<00:00,  1.30it/s]\u001b[32m[I 2021-05-08 07:58:20,584]\u001b[0m Trial 6 finished with value: 3.0331680946497985 and parameters: {'feature_fraction': 0.5}. Best is trial 3 with value: 2.8544213457390777.\u001b[0m\n",
      "feature_fraction, val_score: 2.854421: 100%|##########| 7/7 [00:07<00:00,  1.05s/it]\n",
      "num_leaves, val_score: 2.854421:   0%|          | 0/20 [00:00<?, ?it/s]"
     ]
    },
    {
     "name": "stdout",
     "output_type": "stream",
     "text": [
      "[100]\tvalid_0's rmse: 1.6056\tvalid_1's rmse: 3.10106\n",
      "Early stopping, best iteration is:\n",
      "[34]\tvalid_0's rmse: 2.78196\tvalid_1's rmse: 3.03317\n",
      "Training until validation scores don't improve for 100 rounds\n",
      "[50]\tvalid_0's rmse: 2.31141\tvalid_1's rmse: 2.95725\n",
      "[100]\tvalid_0's rmse: 1.53207\tvalid_1's rmse: 2.92611\n",
      "[150]\tvalid_0's rmse: 1.1732\tvalid_1's rmse: 2.89599\n",
      "[200]\tvalid_0's rmse: 0.938613\tvalid_1's rmse: 2.87864\n",
      "[250]\tvalid_0's rmse: 0.778322\tvalid_1's rmse: 2.86976\n",
      "[300]\tvalid_0's rmse: 0.657446\tvalid_1's rmse: 2.86006\n",
      "[350]\tvalid_0's rmse: 0.568051\tvalid_1's rmse: 2.86638\n"
     ]
    },
    {
     "name": "stderr",
     "output_type": "stream",
     "text": [
      "num_leaves, val_score: 2.854421:   5%|5         | 1/20 [00:00<00:18,  1.01it/s]\u001b[32m[I 2021-05-08 07:58:21,612]\u001b[0m Trial 7 finished with value: 2.8544213457390777 and parameters: {'num_leaves': 53}. Best is trial 7 with value: 2.8544213457390777.\u001b[0m\n",
      "num_leaves, val_score: 2.854421:   5%|5         | 1/20 [00:01<00:18,  1.01it/s]"
     ]
    },
    {
     "name": "stdout",
     "output_type": "stream",
     "text": [
      "Early stopping, best iteration is:\n",
      "[289]\tvalid_0's rmse: 0.67972\tvalid_1's rmse: 2.85442\n",
      "Training until validation scores don't improve for 100 rounds\n",
      "[50]\tvalid_0's rmse: 2.31141\tvalid_1's rmse: 2.95725\n",
      "[100]\tvalid_0's rmse: 1.53207\tvalid_1's rmse: 2.92611\n",
      "[150]\tvalid_0's rmse: 1.1732\tvalid_1's rmse: 2.89599\n",
      "[200]\tvalid_0's rmse: 0.938613\tvalid_1's rmse: 2.87864\n",
      "[250]\tvalid_0's rmse: 0.778322\tvalid_1's rmse: 2.86976\n",
      "[300]\tvalid_0's rmse: 0.657446\tvalid_1's rmse: 2.86006\n"
     ]
    },
    {
     "name": "stderr",
     "output_type": "stream",
     "text": [
      "num_leaves, val_score: 2.854421:  10%|#         | 2/20 [00:02<00:18,  1.04s/it]\u001b[32m[I 2021-05-08 07:58:22,756]\u001b[0m Trial 8 finished with value: 2.8544213457390777 and parameters: {'num_leaves': 146}. Best is trial 7 with value: 2.8544213457390777.\u001b[0m\n",
      "num_leaves, val_score: 2.854421:  10%|#         | 2/20 [00:02<00:18,  1.04s/it]"
     ]
    },
    {
     "name": "stdout",
     "output_type": "stream",
     "text": [
      "[350]\tvalid_0's rmse: 0.568051\tvalid_1's rmse: 2.86638\n",
      "Early stopping, best iteration is:\n",
      "[289]\tvalid_0's rmse: 0.67972\tvalid_1's rmse: 2.85442\n",
      "Training until validation scores don't improve for 100 rounds\n",
      "[50]\tvalid_0's rmse: 2.31141\tvalid_1's rmse: 2.95725\n",
      "[100]\tvalid_0's rmse: 1.53207\tvalid_1's rmse: 2.92611\n",
      "[150]\tvalid_0's rmse: 1.1732\tvalid_1's rmse: 2.89599\n",
      "[200]\tvalid_0's rmse: 0.938613\tvalid_1's rmse: 2.87864\n",
      "[250]\tvalid_0's rmse: 0.778322\tvalid_1's rmse: 2.86976\n",
      "[300]\tvalid_0's rmse: 0.657446\tvalid_1's rmse: 2.86006\n"
     ]
    },
    {
     "name": "stderr",
     "output_type": "stream",
     "text": [
      "num_leaves, val_score: 2.854421:  15%|#5        | 3/20 [00:03<00:17,  1.05s/it]\u001b[32m[I 2021-05-08 07:58:23,828]\u001b[0m Trial 9 finished with value: 2.8544213457390777 and parameters: {'num_leaves': 108}. Best is trial 7 with value: 2.8544213457390777.\u001b[0m\n",
      "num_leaves, val_score: 2.854421:  15%|#5        | 3/20 [00:03<00:17,  1.05s/it]"
     ]
    },
    {
     "name": "stdout",
     "output_type": "stream",
     "text": [
      "[350]\tvalid_0's rmse: 0.568051\tvalid_1's rmse: 2.86638\n",
      "Early stopping, best iteration is:\n",
      "[289]\tvalid_0's rmse: 0.67972\tvalid_1's rmse: 2.85442\n",
      "Training until validation scores don't improve for 100 rounds\n",
      "[50]\tvalid_0's rmse: 2.31141\tvalid_1's rmse: 2.95725\n",
      "[100]\tvalid_0's rmse: 1.53207\tvalid_1's rmse: 2.92611\n",
      "[150]\tvalid_0's rmse: 1.1732\tvalid_1's rmse: 2.89599\n",
      "[200]\tvalid_0's rmse: 0.938613\tvalid_1's rmse: 2.87864\n",
      "[250]\tvalid_0's rmse: 0.778322\tvalid_1's rmse: 2.86976\n",
      "[300]\tvalid_0's rmse: 0.657446\tvalid_1's rmse: 2.86006\n",
      "[350]\tvalid_0's rmse: 0.568051\tvalid_1's rmse: 2.86638\n",
      "Early stopping, best iteration is:\n",
      "[289]\tvalid_0's rmse: 0.67972\tvalid_1's rmse: 2.85442\n"
     ]
    },
    {
     "name": "stderr",
     "output_type": "stream",
     "text": [
      "num_leaves, val_score: 2.854421:  20%|##        | 4/20 [00:04<00:16,  1.01s/it]\u001b[32m[I 2021-05-08 07:58:24,750]\u001b[0m Trial 10 finished with value: 2.8544213457390777 and parameters: {'num_leaves': 162}. Best is trial 7 with value: 2.8544213457390777.\u001b[0m\n",
      "num_leaves, val_score: 2.854421:  20%|##        | 4/20 [00:04<00:16,  1.01s/it]"
     ]
    },
    {
     "name": "stdout",
     "output_type": "stream",
     "text": [
      "Training until validation scores don't improve for 100 rounds\n",
      "[50]\tvalid_0's rmse: 3.28307\tvalid_1's rmse: 3.51451\n",
      "[100]\tvalid_0's rmse: 2.82887\tvalid_1's rmse: 3.29849\n"
     ]
    },
    {
     "name": "stderr",
     "output_type": "stream",
     "text": [
      "num_leaves, val_score: 2.854421:  25%|##5       | 5/20 [00:04<00:12,  1.18it/s]\u001b[32m[I 2021-05-08 07:58:25,216]\u001b[0m Trial 11 finished with value: 3.288374388695858 and parameters: {'num_leaves': 3}. Best is trial 7 with value: 2.8544213457390777.\u001b[0m\n",
      "num_leaves, val_score: 2.854421:  25%|##5       | 5/20 [00:04<00:12,  1.18it/s]"
     ]
    },
    {
     "name": "stdout",
     "output_type": "stream",
     "text": [
      "[150]\tvalid_0's rmse: 2.60481\tvalid_1's rmse: 3.29589\n",
      "[200]\tvalid_0's rmse: 2.44622\tvalid_1's rmse: 3.30554\n",
      "Early stopping, best iteration is:\n",
      "[131]\tvalid_0's rmse: 2.67456\tvalid_1's rmse: 3.28837\n",
      "Training until validation scores don't improve for 100 rounds\n",
      "[50]\tvalid_0's rmse: 2.31141\tvalid_1's rmse: 2.95725\n",
      "[100]\tvalid_0's rmse: 1.53207\tvalid_1's rmse: 2.92611\n",
      "[150]\tvalid_0's rmse: 1.1732\tvalid_1's rmse: 2.89599\n",
      "[200]\tvalid_0's rmse: 0.938613\tvalid_1's rmse: 2.87864\n",
      "[250]\tvalid_0's rmse: 0.778322\tvalid_1's rmse: 2.86976\n",
      "[300]\tvalid_0's rmse: 0.657446\tvalid_1's rmse: 2.86006\n"
     ]
    },
    {
     "name": "stderr",
     "output_type": "stream",
     "text": [
      "num_leaves, val_score: 2.854421:  30%|###       | 6/20 [00:05<00:13,  1.06it/s]\u001b[32m[I 2021-05-08 07:58:26,381]\u001b[0m Trial 12 finished with value: 2.8544213457390777 and parameters: {'num_leaves': 197}. Best is trial 7 with value: 2.8544213457390777.\u001b[0m\n",
      "num_leaves, val_score: 2.854421:  30%|###       | 6/20 [00:05<00:13,  1.06it/s]"
     ]
    },
    {
     "name": "stdout",
     "output_type": "stream",
     "text": [
      "[350]\tvalid_0's rmse: 0.568051\tvalid_1's rmse: 2.86638\n",
      "Early stopping, best iteration is:\n",
      "[289]\tvalid_0's rmse: 0.67972\tvalid_1's rmse: 2.85442\n",
      "Training until validation scores don't improve for 100 rounds\n",
      "[50]\tvalid_0's rmse: 2.31141\tvalid_1's rmse: 2.95725\n",
      "[100]\tvalid_0's rmse: 1.53207\tvalid_1's rmse: 2.92611\n",
      "[150]\tvalid_0's rmse: 1.1732\tvalid_1's rmse: 2.89599\n",
      "[200]\tvalid_0's rmse: 0.938613\tvalid_1's rmse: 2.87864\n",
      "[250]\tvalid_0's rmse: 0.778322\tvalid_1's rmse: 2.86976\n",
      "[300]\tvalid_0's rmse: 0.657446\tvalid_1's rmse: 2.86006\n"
     ]
    },
    {
     "name": "stderr",
     "output_type": "stream",
     "text": [
      "num_leaves, val_score: 2.854421:  35%|###5      | 7/20 [00:06<00:12,  1.05it/s]\u001b[32m[I 2021-05-08 07:58:27,371]\u001b[0m Trial 13 finished with value: 2.8544213457390777 and parameters: {'num_leaves': 246}. Best is trial 7 with value: 2.8544213457390777.\u001b[0m\n",
      "num_leaves, val_score: 2.854421:  35%|###5      | 7/20 [00:06<00:12,  1.05it/s]"
     ]
    },
    {
     "name": "stdout",
     "output_type": "stream",
     "text": [
      "[350]\tvalid_0's rmse: 0.568051\tvalid_1's rmse: 2.86638\n",
      "Early stopping, best iteration is:\n",
      "[289]\tvalid_0's rmse: 0.67972\tvalid_1's rmse: 2.85442\n",
      "Training until validation scores don't improve for 100 rounds\n",
      "[50]\tvalid_0's rmse: 2.31141\tvalid_1's rmse: 2.95725\n",
      "[100]\tvalid_0's rmse: 1.53207\tvalid_1's rmse: 2.92611\n",
      "[150]\tvalid_0's rmse: 1.1732\tvalid_1's rmse: 2.89599\n",
      "[200]\tvalid_0's rmse: 0.938613\tvalid_1's rmse: 2.87864\n",
      "[250]\tvalid_0's rmse: 0.778322\tvalid_1's rmse: 2.86976\n",
      "[300]\tvalid_0's rmse: 0.657446\tvalid_1's rmse: 2.86006\n"
     ]
    },
    {
     "name": "stderr",
     "output_type": "stream",
     "text": [
      "num_leaves, val_score: 2.854421:  40%|####      | 8/20 [00:07<00:11,  1.00it/s]\u001b[32m[I 2021-05-08 07:58:28,478]\u001b[0m Trial 14 finished with value: 2.8544213457390777 and parameters: {'num_leaves': 99}. Best is trial 7 with value: 2.8544213457390777.\u001b[0m\n",
      "num_leaves, val_score: 2.854421:  40%|####      | 8/20 [00:07<00:11,  1.00it/s]"
     ]
    },
    {
     "name": "stdout",
     "output_type": "stream",
     "text": [
      "[350]\tvalid_0's rmse: 0.568051\tvalid_1's rmse: 2.86638\n",
      "Early stopping, best iteration is:\n",
      "[289]\tvalid_0's rmse: 0.67972\tvalid_1's rmse: 2.85442\n",
      "Training until validation scores don't improve for 100 rounds\n",
      "[50]\tvalid_0's rmse: 2.31141\tvalid_1's rmse: 2.95725\n",
      "[100]\tvalid_0's rmse: 1.53207\tvalid_1's rmse: 2.92611\n",
      "[150]\tvalid_0's rmse: 1.1732\tvalid_1's rmse: 2.89599\n",
      "[200]\tvalid_0's rmse: 0.938613\tvalid_1's rmse: 2.87864\n",
      "[250]\tvalid_0's rmse: 0.778322\tvalid_1's rmse: 2.86976\n",
      "[300]\tvalid_0's rmse: 0.657446\tvalid_1's rmse: 2.86006\n",
      "[350]\tvalid_0's rmse: 0.568051\tvalid_1's rmse: 2.86638\n",
      "Early stopping, best iteration is:\n",
      "[289]\tvalid_0's rmse: 0.67972\tvalid_1's rmse: 2.85442\n"
     ]
    },
    {
     "name": "stderr",
     "output_type": "stream",
     "text": [
      "num_leaves, val_score: 2.854421:  45%|####5     | 9/20 [00:08<00:11,  1.00s/it]\u001b[32m[I 2021-05-08 07:58:29,517]\u001b[0m Trial 15 finished with value: 2.8544213457390777 and parameters: {'num_leaves': 173}. Best is trial 7 with value: 2.8544213457390777.\u001b[0m\n",
      "num_leaves, val_score: 2.854421:  45%|####5     | 9/20 [00:08<00:11,  1.00s/it]"
     ]
    },
    {
     "name": "stdout",
     "output_type": "stream",
     "text": [
      "Training until validation scores don't improve for 100 rounds\n",
      "[50]\tvalid_0's rmse: 2.31141\tvalid_1's rmse: 2.95725\n",
      "[100]\tvalid_0's rmse: 1.53207\tvalid_1's rmse: 2.92611\n",
      "[150]\tvalid_0's rmse: 1.1732\tvalid_1's rmse: 2.89599\n",
      "[200]\tvalid_0's rmse: 0.938613\tvalid_1's rmse: 2.87864\n",
      "[250]\tvalid_0's rmse: 0.778322\tvalid_1's rmse: 2.86976\n",
      "[300]\tvalid_0's rmse: 0.657446\tvalid_1's rmse: 2.86006\n"
     ]
    },
    {
     "name": "stderr",
     "output_type": "stream",
     "text": [
      "num_leaves, val_score: 2.854421:  50%|#####     | 10/20 [00:09<00:10,  1.02s/it]\u001b[32m[I 2021-05-08 07:58:30,527]\u001b[0m Trial 16 finished with value: 2.8544213457390777 and parameters: {'num_leaves': 135}. Best is trial 7 with value: 2.8544213457390777.\u001b[0m\n",
      "num_leaves, val_score: 2.854421:  50%|#####     | 10/20 [00:09<00:10,  1.02s/it]"
     ]
    },
    {
     "name": "stdout",
     "output_type": "stream",
     "text": [
      "[350]\tvalid_0's rmse: 0.568051\tvalid_1's rmse: 2.86638\n",
      "Early stopping, best iteration is:\n",
      "[289]\tvalid_0's rmse: 0.67972\tvalid_1's rmse: 2.85442\n",
      "Training until validation scores don't improve for 100 rounds\n",
      "[50]\tvalid_0's rmse: 2.31141\tvalid_1's rmse: 2.95725\n",
      "[100]\tvalid_0's rmse: 1.53207\tvalid_1's rmse: 2.92611\n",
      "[150]\tvalid_0's rmse: 1.1732\tvalid_1's rmse: 2.89599\n",
      "[200]\tvalid_0's rmse: 0.938613\tvalid_1's rmse: 2.87864\n",
      "[250]\tvalid_0's rmse: 0.778322\tvalid_1's rmse: 2.86976\n",
      "[300]\tvalid_0's rmse: 0.657446\tvalid_1's rmse: 2.86006\n",
      "[350]\tvalid_0's rmse: 0.568051\tvalid_1's rmse: 2.86638\n"
     ]
    },
    {
     "name": "stderr",
     "output_type": "stream",
     "text": [
      "num_leaves, val_score: 2.854421:  55%|#####5    | 11/20 [00:10<00:09,  1.02s/it]\u001b[32m[I 2021-05-08 07:58:31,546]\u001b[0m Trial 17 finished with value: 2.8544213457390777 and parameters: {'num_leaves': 28}. Best is trial 7 with value: 2.8544213457390777.\u001b[0m\n",
      "num_leaves, val_score: 2.854421:  55%|#####5    | 11/20 [00:10<00:09,  1.02s/it]"
     ]
    },
    {
     "name": "stdout",
     "output_type": "stream",
     "text": [
      "Early stopping, best iteration is:\n",
      "[289]\tvalid_0's rmse: 0.67972\tvalid_1's rmse: 2.85442\n",
      "Training until validation scores don't improve for 100 rounds\n",
      "[50]\tvalid_0's rmse: 2.31141\tvalid_1's rmse: 2.95725\n",
      "[100]\tvalid_0's rmse: 1.53207\tvalid_1's rmse: 2.92611\n",
      "[150]\tvalid_0's rmse: 1.1732\tvalid_1's rmse: 2.89599\n",
      "[200]\tvalid_0's rmse: 0.938613\tvalid_1's rmse: 2.87864\n",
      "[250]\tvalid_0's rmse: 0.778322\tvalid_1's rmse: 2.86976\n"
     ]
    },
    {
     "name": "stderr",
     "output_type": "stream",
     "text": [
      "num_leaves, val_score: 2.854421:  60%|######    | 12/20 [00:11<00:08,  1.01s/it]\u001b[32m[I 2021-05-08 07:58:32,550]\u001b[0m Trial 18 finished with value: 2.8544213457390777 and parameters: {'num_leaves': 51}. Best is trial 7 with value: 2.8544213457390777.\u001b[0m\n",
      "num_leaves, val_score: 2.854421:  60%|######    | 12/20 [00:11<00:08,  1.01s/it]"
     ]
    },
    {
     "name": "stdout",
     "output_type": "stream",
     "text": [
      "[300]\tvalid_0's rmse: 0.657446\tvalid_1's rmse: 2.86006\n",
      "[350]\tvalid_0's rmse: 0.568051\tvalid_1's rmse: 2.86638\n",
      "Early stopping, best iteration is:\n",
      "[289]\tvalid_0's rmse: 0.67972\tvalid_1's rmse: 2.85442\n",
      "Training until validation scores don't improve for 100 rounds\n",
      "[50]\tvalid_0's rmse: 2.31141\tvalid_1's rmse: 2.95725\n",
      "[100]\tvalid_0's rmse: 1.53207\tvalid_1's rmse: 2.92611\n",
      "[150]\tvalid_0's rmse: 1.1732\tvalid_1's rmse: 2.89599\n",
      "[200]\tvalid_0's rmse: 0.938613\tvalid_1's rmse: 2.87864\n",
      "[250]\tvalid_0's rmse: 0.778322\tvalid_1's rmse: 2.86976\n"
     ]
    },
    {
     "name": "stderr",
     "output_type": "stream",
     "text": [
      "num_leaves, val_score: 2.854421:  65%|######5   | 13/20 [00:12<00:07,  1.02s/it]"
     ]
    },
    {
     "name": "stdout",
     "output_type": "stream",
     "text": [
      "[300]\tvalid_0's rmse: 0.657446\tvalid_1's rmse: 2.86006\n",
      "[350]\tvalid_0's rmse: 0.568051\tvalid_1's rmse: 2.86638\n",
      "Early stopping, best iteration is:\n",
      "[289]\tvalid_0's rmse: 0.67972\tvalid_1's rmse: 2.85442\n"
     ]
    },
    {
     "name": "stderr",
     "output_type": "stream",
     "text": [
      "\u001b[32m[I 2021-05-08 07:58:33,607]\u001b[0m Trial 19 finished with value: 2.8544213457390777 and parameters: {'num_leaves': 76}. Best is trial 7 with value: 2.8544213457390777.\u001b[0m\n",
      "num_leaves, val_score: 2.854421:  65%|######5   | 13/20 [00:13<00:07,  1.02s/it]"
     ]
    },
    {
     "name": "stdout",
     "output_type": "stream",
     "text": [
      "Training until validation scores don't improve for 100 rounds\n",
      "[50]\tvalid_0's rmse: 2.31141\tvalid_1's rmse: 2.95725\n",
      "[100]\tvalid_0's rmse: 1.53207\tvalid_1's rmse: 2.92611\n",
      "[150]\tvalid_0's rmse: 1.1732\tvalid_1's rmse: 2.89599\n",
      "[200]\tvalid_0's rmse: 0.938613\tvalid_1's rmse: 2.87864\n",
      "[250]\tvalid_0's rmse: 0.778322\tvalid_1's rmse: 2.86976\n",
      "[300]\tvalid_0's rmse: 0.657446\tvalid_1's rmse: 2.86006\n",
      "[350]\tvalid_0's rmse: 0.568051\tvalid_1's rmse: 2.86638\n"
     ]
    },
    {
     "name": "stderr",
     "output_type": "stream",
     "text": [
      "num_leaves, val_score: 2.854421:  70%|#######   | 14/20 [00:13<00:05,  1.01it/s]\u001b[32m[I 2021-05-08 07:58:34,497]\u001b[0m Trial 20 finished with value: 2.8544213457390777 and parameters: {'num_leaves': 203}. Best is trial 7 with value: 2.8544213457390777.\u001b[0m\n",
      "num_leaves, val_score: 2.854421:  70%|#######   | 14/20 [00:13<00:05,  1.01it/s]"
     ]
    },
    {
     "name": "stdout",
     "output_type": "stream",
     "text": [
      "Early stopping, best iteration is:\n",
      "[289]\tvalid_0's rmse: 0.67972\tvalid_1's rmse: 2.85442\n",
      "Training until validation scores don't improve for 100 rounds\n",
      "[50]\tvalid_0's rmse: 2.31141\tvalid_1's rmse: 2.95725\n",
      "[100]\tvalid_0's rmse: 1.53207\tvalid_1's rmse: 2.92611\n",
      "[150]\tvalid_0's rmse: 1.1732\tvalid_1's rmse: 2.89599\n",
      "[200]\tvalid_0's rmse: 0.938613\tvalid_1's rmse: 2.87864\n",
      "[250]\tvalid_0's rmse: 0.778322\tvalid_1's rmse: 2.86976\n"
     ]
    },
    {
     "name": "stderr",
     "output_type": "stream",
     "text": [
      "num_leaves, val_score: 2.854421:  70%|#######   | 14/20 [00:14<00:05,  1.01it/s]"
     ]
    },
    {
     "name": "stdout",
     "output_type": "stream",
     "text": [
      "[300]\tvalid_0's rmse: 0.657446\tvalid_1's rmse: 2.86006\n",
      "[350]\tvalid_0's rmse: 0.568051\tvalid_1's rmse: 2.86638\n",
      "Early stopping, best iteration is:\n",
      "[289]\tvalid_0's rmse: 0.67972\tvalid_1's rmse: 2.85442\n"
     ]
    },
    {
     "name": "stderr",
     "output_type": "stream",
     "text": [
      "num_leaves, val_score: 2.854421:  75%|#######5  | 15/20 [00:14<00:04,  1.03it/s]\u001b[32m[I 2021-05-08 07:58:35,418]\u001b[0m Trial 21 finished with value: 2.8544213457390777 and parameters: {'num_leaves': 139}. Best is trial 7 with value: 2.8544213457390777.\u001b[0m\n",
      "num_leaves, val_score: 2.854421:  75%|#######5  | 15/20 [00:14<00:04,  1.03it/s]"
     ]
    },
    {
     "name": "stdout",
     "output_type": "stream",
     "text": [
      "Training until validation scores don't improve for 100 rounds\n",
      "[50]\tvalid_0's rmse: 2.31141\tvalid_1's rmse: 2.95725\n",
      "[100]\tvalid_0's rmse: 1.53207\tvalid_1's rmse: 2.92611\n",
      "[150]\tvalid_0's rmse: 1.1732\tvalid_1's rmse: 2.89599\n",
      "[200]\tvalid_0's rmse: 0.938613\tvalid_1's rmse: 2.87864\n",
      "[250]\tvalid_0's rmse: 0.778322\tvalid_1's rmse: 2.86976\n",
      "[300]\tvalid_0's rmse: 0.657446\tvalid_1's rmse: 2.86006\n",
      "[350]\tvalid_0's rmse: 0.568051\tvalid_1's rmse: 2.86638\n",
      "Early stopping, best iteration is:\n",
      "[289]\tvalid_0's rmse: 0.67972\tvalid_1's rmse: 2.85442"
     ]
    },
    {
     "name": "stderr",
     "output_type": "stream",
     "text": [
      "num_leaves, val_score: 2.854421:  80%|########  | 16/20 [00:15<00:04,  1.00s/it]\u001b[32m[I 2021-05-08 07:58:36,518]\u001b[0m Trial 22 finished with value: 2.8544213457390777 and parameters: {'num_leaves': 57}. Best is trial 7 with value: 2.8544213457390777.\u001b[0m\n",
      "num_leaves, val_score: 2.854421:  80%|########  | 16/20 [00:15<00:04,  1.00s/it]"
     ]
    },
    {
     "name": "stdout",
     "output_type": "stream",
     "text": [
      "\n",
      "Training until validation scores don't improve for 100 rounds\n",
      "[50]\tvalid_0's rmse: 2.94873\tvalid_1's rmse: 3.41561\n",
      "[100]\tvalid_0's rmse: 2.42832\tvalid_1's rmse: 3.34978\n",
      "[150]\tvalid_0's rmse: 2.14335\tvalid_1's rmse: 3.33746\n",
      "[200]\tvalid_0's rmse: 1.94288\tvalid_1's rmse: 3.35299\n",
      "[250]\tvalid_0's rmse: 1.77372\tvalid_1's rmse: 3.31773\n",
      "[300]\tvalid_0's rmse: 1.65079\tvalid_1's rmse: 3.27846\n",
      "[350]\tvalid_0's rmse: 1.5398\tvalid_1's rmse: 3.23488\n",
      "[400]\tvalid_0's rmse: 1.43699\tvalid_1's rmse: 3.21046\n",
      "[450]\tvalid_0's rmse: 1.34194\tvalid_1's rmse: 3.18959\n",
      "[500]\tvalid_0's rmse: 1.26419\tvalid_1's rmse: 3.16305\n"
     ]
    },
    {
     "name": "stderr",
     "output_type": "stream",
     "text": [
      "num_leaves, val_score: 2.854421:  85%|########5 | 17/20 [00:17<00:03,  1.06s/it]\u001b[32m[I 2021-05-08 07:58:37,696]\u001b[0m Trial 23 finished with value: 3.142334713880075 and parameters: {'num_leaves': 4}. Best is trial 7 with value: 2.8544213457390777.\u001b[0m\n",
      "num_leaves, val_score: 2.854421:  85%|########5 | 17/20 [00:17<00:03,  1.06s/it]"
     ]
    },
    {
     "name": "stdout",
     "output_type": "stream",
     "text": [
      "[550]\tvalid_0's rmse: 1.19686\tvalid_1's rmse: 3.15184\n",
      "[600]\tvalid_0's rmse: 1.13574\tvalid_1's rmse: 3.14465\n",
      "[650]\tvalid_0's rmse: 1.07471\tvalid_1's rmse: 3.15244\n",
      "Early stopping, best iteration is:\n",
      "[560]\tvalid_0's rmse: 1.18255\tvalid_1's rmse: 3.14233\n",
      "Training until validation scores don't improve for 100 rounds\n",
      "[50]\tvalid_0's rmse: 2.31141\tvalid_1's rmse: 2.95725\n",
      "[100]\tvalid_0's rmse: 1.53207\tvalid_1's rmse: 2.92611\n",
      "[150]\tvalid_0's rmse: 1.1732\tvalid_1's rmse: 2.89599\n",
      "[200]\tvalid_0's rmse: 0.938613\tvalid_1's rmse: 2.87864\n",
      "[250]\tvalid_0's rmse: 0.778322\tvalid_1's rmse: 2.86976\n"
     ]
    },
    {
     "name": "stderr",
     "output_type": "stream",
     "text": [
      "num_leaves, val_score: 2.854421:  85%|########5 | 17/20 [00:18<00:03,  1.06s/it]"
     ]
    },
    {
     "name": "stdout",
     "output_type": "stream",
     "text": [
      "[300]\tvalid_0's rmse: 0.657446\tvalid_1's rmse: 2.86006\n",
      "[350]\tvalid_0's rmse: 0.568051\tvalid_1's rmse: 2.86638\n",
      "Early stopping, best iteration is:\n",
      "[289]\tvalid_0's rmse: 0.67972\tvalid_1's rmse: 2.85442\n"
     ]
    },
    {
     "name": "stderr",
     "output_type": "stream",
     "text": [
      "num_leaves, val_score: 2.854421:  90%|######### | 18/20 [00:18<00:02,  1.06s/it]\u001b[32m[I 2021-05-08 07:58:38,755]\u001b[0m Trial 24 finished with value: 2.8544213457390777 and parameters: {'num_leaves': 95}. Best is trial 7 with value: 2.8544213457390777.\u001b[0m\n",
      "num_leaves, val_score: 2.854421:  90%|######### | 18/20 [00:18<00:02,  1.06s/it]"
     ]
    },
    {
     "name": "stdout",
     "output_type": "stream",
     "text": [
      "Training until validation scores don't improve for 100 rounds\n",
      "[50]\tvalid_0's rmse: 2.31141\tvalid_1's rmse: 2.95725\n",
      "[100]\tvalid_0's rmse: 1.53207\tvalid_1's rmse: 2.92611\n",
      "[150]\tvalid_0's rmse: 1.1732\tvalid_1's rmse: 2.89599\n",
      "[200]\tvalid_0's rmse: 0.938613\tvalid_1's rmse: 2.87864\n",
      "[250]\tvalid_0's rmse: 0.778322\tvalid_1's rmse: 2.86976\n",
      "[300]\tvalid_0's rmse: 0.657446\tvalid_1's rmse: 2.86006\n"
     ]
    },
    {
     "name": "stderr",
     "output_type": "stream",
     "text": [
      "num_leaves, val_score: 2.854421:  95%|#########5| 19/20 [00:19<00:01,  1.06s/it]\u001b[32m[I 2021-05-08 07:58:39,807]\u001b[0m Trial 25 finished with value: 2.8544213457390777 and parameters: {'num_leaves': 54}. Best is trial 7 with value: 2.8544213457390777.\u001b[0m\n",
      "num_leaves, val_score: 2.854421:  95%|#########5| 19/20 [00:19<00:01,  1.06s/it]"
     ]
    },
    {
     "name": "stdout",
     "output_type": "stream",
     "text": [
      "[350]\tvalid_0's rmse: 0.568051\tvalid_1's rmse: 2.86638\n",
      "Early stopping, best iteration is:\n",
      "[289]\tvalid_0's rmse: 0.67972\tvalid_1's rmse: 2.85442\n",
      "Training until validation scores don't improve for 100 rounds\n",
      "[50]\tvalid_0's rmse: 2.31141\tvalid_1's rmse: 2.95725\n",
      "[100]\tvalid_0's rmse: 1.53207\tvalid_1's rmse: 2.92611\n",
      "[150]\tvalid_0's rmse: 1.1732\tvalid_1's rmse: 2.89599\n",
      "[200]\tvalid_0's rmse: 0.938613\tvalid_1's rmse: 2.87864\n",
      "[250]\tvalid_0's rmse: 0.778322\tvalid_1's rmse: 2.86976\n",
      "[300]\tvalid_0's rmse: 0.657446\tvalid_1's rmse: 2.86006\n",
      "[350]\tvalid_0's rmse: 0.568051\tvalid_1's rmse: 2.86638\n"
     ]
    },
    {
     "name": "stderr",
     "output_type": "stream",
     "text": [
      "num_leaves, val_score: 2.854421: 100%|##########| 20/20 [00:20<00:00,  1.10s/it]\u001b[32m[I 2021-05-08 07:58:41,024]\u001b[0m Trial 26 finished with value: 2.8544213457390777 and parameters: {'num_leaves': 35}. Best is trial 7 with value: 2.8544213457390777.\u001b[0m\n",
      "num_leaves, val_score: 2.854421: 100%|##########| 20/20 [00:20<00:00,  1.02s/it]\n",
      "bagging, val_score: 2.854421:   0%|          | 0/10 [00:00<?, ?it/s]"
     ]
    },
    {
     "name": "stdout",
     "output_type": "stream",
     "text": [
      "Early stopping, best iteration is:\n",
      "[289]\tvalid_0's rmse: 0.67972\tvalid_1's rmse: 2.85442\n",
      "Training until validation scores don't improve for 100 rounds\n",
      "[50]\tvalid_0's rmse: 2.40675\tvalid_1's rmse: 3.10111\n",
      "[100]\tvalid_0's rmse: 1.69482\tvalid_1's rmse: 3.02323\n",
      "[150]\tvalid_0's rmse: 1.31961\tvalid_1's rmse: 2.96745\n",
      "[200]\tvalid_0's rmse: 1.064\tvalid_1's rmse: 2.94551\n",
      "[250]\tvalid_0's rmse: 0.890549\tvalid_1's rmse: 2.92624\n",
      "[300]\tvalid_0's rmse: 0.753335\tvalid_1's rmse: 2.91835\n",
      "[350]\tvalid_0's rmse: 0.648608\tvalid_1's rmse: 2.91833\n",
      "[400]\tvalid_0's rmse: 0.563394\tvalid_1's rmse: 2.9251\n"
     ]
    },
    {
     "name": "stderr",
     "output_type": "stream",
     "text": [
      "bagging, val_score: 2.854421:  10%|#         | 1/10 [00:02<00:19,  2.19s/it]\u001b[32m[I 2021-05-08 07:58:43,258]\u001b[0m Trial 27 finished with value: 2.910786324613407 and parameters: {'bagging_fraction': 0.9036976487470176, 'bagging_freq': 1}. Best is trial 27 with value: 2.910786324613407.\u001b[0m\n",
      "bagging, val_score: 2.854421:  10%|#         | 1/10 [00:02<00:19,  2.19s/it]"
     ]
    },
    {
     "name": "stdout",
     "output_type": "stream",
     "text": [
      "Early stopping, best iteration is:\n",
      "[314]\tvalid_0's rmse: 0.72261\tvalid_1's rmse: 2.91079\n",
      "Training until validation scores don't improve for 100 rounds\n",
      "[50]\tvalid_0's rmse: 2.88978\tvalid_1's rmse: 3.50084\n",
      "[100]\tvalid_0's rmse: 2.29292\tvalid_1's rmse: 3.49363\n"
     ]
    },
    {
     "name": "stderr",
     "output_type": "stream",
     "text": [
      "bagging, val_score: 2.854421:  20%|##        | 2/10 [00:02<00:13,  1.69s/it]\u001b[32m[I 2021-05-08 07:58:43,767]\u001b[0m Trial 28 finished with value: 3.4372444121097834 and parameters: {'bagging_fraction': 0.5918706443003207, 'bagging_freq': 1}. Best is trial 27 with value: 2.910786324613407.\u001b[0m\n",
      "bagging, val_score: 2.854421:  20%|##        | 2/10 [00:02<00:13,  1.69s/it]"
     ]
    },
    {
     "name": "stdout",
     "output_type": "stream",
     "text": [
      "Early stopping, best iteration is:\n",
      "[28]\tvalid_0's rmse: 3.46735\tvalid_1's rmse: 3.43724\n",
      "Training until validation scores don't improve for 100 rounds\n",
      "[50]\tvalid_0's rmse: 2.56066\tvalid_1's rmse: 3.22696\n",
      "[100]\tvalid_0's rmse: 1.82596\tvalid_1's rmse: 3.2231\n",
      "[150]\tvalid_0's rmse: 1.41999\tvalid_1's rmse: 3.14342\n",
      "[200]\tvalid_0's rmse: 1.17588\tvalid_1's rmse: 3.09177\n",
      "[250]\tvalid_0's rmse: 0.981935\tvalid_1's rmse: 3.08472\n"
     ]
    },
    {
     "name": "stderr",
     "output_type": "stream",
     "text": [
      "bagging, val_score: 2.854421:  30%|###       | 3/10 [00:03<00:10,  1.50s/it]\u001b[32m[I 2021-05-08 07:58:44,828]\u001b[0m Trial 29 finished with value: 3.0599682968136395 and parameters: {'bagging_fraction': 0.854044136313615, 'bagging_freq': 5}. Best is trial 27 with value: 2.910786324613407.\u001b[0m\n",
      "bagging, val_score: 2.854421:  30%|###       | 3/10 [00:03<00:10,  1.50s/it]"
     ]
    },
    {
     "name": "stdout",
     "output_type": "stream",
     "text": [
      "[300]\tvalid_0's rmse: 0.853029\tvalid_1's rmse: 3.07574\n",
      "[350]\tvalid_0's rmse: 0.743327\tvalid_1's rmse: 3.0797\n",
      "Early stopping, best iteration is:\n",
      "[260]\tvalid_0's rmse: 0.952381\tvalid_1's rmse: 3.05997\n",
      "Training until validation scores don't improve for 100 rounds\n",
      "[50]\tvalid_0's rmse: 2.33567\tvalid_1's rmse: 3.00906\n",
      "[100]\tvalid_0's rmse: 1.63561\tvalid_1's rmse: 2.96277\n",
      "[150]\tvalid_0's rmse: 1.2524\tvalid_1's rmse: 2.93408\n",
      "[200]\tvalid_0's rmse: 1.01348\tvalid_1's rmse: 2.88835\n",
      "[250]\tvalid_0's rmse: 0.842843\tvalid_1's rmse: 2.88288\n",
      "[300]\tvalid_0's rmse: 0.722592\tvalid_1's rmse: 2.85014\n",
      "[350]\tvalid_0's rmse: 0.634424\tvalid_1's rmse: 2.8563\n"
     ]
    },
    {
     "name": "stderr",
     "output_type": "stream",
     "text": [
      "bagging, val_score: 2.846507:  40%|####      | 4/10 [00:04<00:08,  1.40s/it]\u001b[32m[I 2021-05-08 07:58:45,991]\u001b[0m Trial 30 finished with value: 2.84650666953453 and parameters: {'bagging_fraction': 0.8980550773690685, 'bagging_freq': 3}. Best is trial 30 with value: 2.84650666953453.\u001b[0m\n",
      "bagging, val_score: 2.846507:  40%|####      | 4/10 [00:04<00:08,  1.40s/it]"
     ]
    },
    {
     "name": "stdout",
     "output_type": "stream",
     "text": [
      "[400]\tvalid_0's rmse: 0.558675\tvalid_1's rmse: 2.85635\n",
      "Early stopping, best iteration is:\n",
      "[309]\tvalid_0's rmse: 0.706233\tvalid_1's rmse: 2.84651\n",
      "Training until validation scores don't improve for 100 rounds\n",
      "[50]\tvalid_0's rmse: 2.80977\tvalid_1's rmse: 3.43248\n",
      "[100]\tvalid_0's rmse: 2.21311\tvalid_1's rmse: 3.46799\n"
     ]
    },
    {
     "name": "stderr",
     "output_type": "stream",
     "text": [
      "bagging, val_score: 2.846507:  50%|#####     | 5/10 [00:05<00:05,  1.11s/it]\u001b[32m[I 2021-05-08 07:58:46,439]\u001b[0m Trial 31 finished with value: 3.3384822251767763 and parameters: {'bagging_fraction': 0.6618865875715374, 'bagging_freq': 2}. Best is trial 30 with value: 2.84650666953453.\u001b[0m\n",
      "bagging, val_score: 2.846507:  50%|#####     | 5/10 [00:05<00:05,  1.11s/it]"
     ]
    },
    {
     "name": "stdout",
     "output_type": "stream",
     "text": [
      "Early stopping, best iteration is:\n",
      "[27]\tvalid_0's rmse: 3.35907\tvalid_1's rmse: 3.33848\n",
      "Training until validation scores don't improve for 100 rounds\n",
      "[50]\tvalid_0's rmse: 2.3977\tvalid_1's rmse: 2.95836\n",
      "[100]\tvalid_0's rmse: 1.64196\tvalid_1's rmse: 2.92317\n",
      "[150]\tvalid_0's rmse: 1.24157\tvalid_1's rmse: 2.82551\n"
     ]
    },
    {
     "name": "stderr",
     "output_type": "stream",
     "text": [
      "bagging, val_score: 2.811994:  60%|######    | 6/10 [00:06<00:03,  1.02it/s]\u001b[32m[I 2021-05-08 07:58:47,114]\u001b[0m Trial 32 finished with value: 2.811994333824063 and parameters: {'bagging_fraction': 0.9253553830228934, 'bagging_freq': 6}. Best is trial 32 with value: 2.811994333824063.\u001b[0m\n",
      "bagging, val_score: 2.811994:  60%|######    | 6/10 [00:06<00:03,  1.02it/s]"
     ]
    },
    {
     "name": "stdout",
     "output_type": "stream",
     "text": [
      "[200]\tvalid_0's rmse: 0.989623\tvalid_1's rmse: 2.84197\n",
      "[250]\tvalid_0's rmse: 0.818418\tvalid_1's rmse: 2.82875\n",
      "Early stopping, best iteration is:\n",
      "[161]\tvalid_0's rmse: 1.17812\tvalid_1's rmse: 2.81199\n",
      "Training until validation scores don't improve for 100 rounds\n",
      "[50]\tvalid_0's rmse: 2.49225\tvalid_1's rmse: 3.13228\n",
      "[100]\tvalid_0's rmse: 1.82373\tvalid_1's rmse: 3.11005\n",
      "[150]\tvalid_0's rmse: 1.40478\tvalid_1's rmse: 3.09682\n",
      "[200]\tvalid_0's rmse: 1.15355\tvalid_1's rmse: 3.0802\n",
      "[250]\tvalid_0's rmse: 0.965609\tvalid_1's rmse: 3.09007\n"
     ]
    },
    {
     "name": "stderr",
     "output_type": "stream",
     "text": [
      "bagging, val_score: 2.811994:  70%|#######   | 7/10 [00:07<00:03,  1.05s/it]\u001b[32m[I 2021-05-08 07:58:48,320]\u001b[0m Trial 33 finished with value: 3.056975712755495 and parameters: {'bagging_fraction': 0.8448408244605667, 'bagging_freq': 1}. Best is trial 32 with value: 2.811994333824063.\u001b[0m\n",
      "bagging, val_score: 2.811994:  70%|#######   | 7/10 [00:07<00:03,  1.05s/it]"
     ]
    },
    {
     "name": "stdout",
     "output_type": "stream",
     "text": [
      "[300]\tvalid_0's rmse: 0.824753\tvalid_1's rmse: 3.09208\n",
      "Early stopping, best iteration is:\n",
      "[229]\tvalid_0's rmse: 1.04323\tvalid_1's rmse: 3.05698\n",
      "Training until validation scores don't improve for 100 rounds\n",
      "[50]\tvalid_0's rmse: 3.22082\tvalid_1's rmse: 3.48632\n",
      "[100]\tvalid_0's rmse: 2.67553\tvalid_1's rmse: 3.40168\n",
      "[150]\tvalid_0's rmse: 2.34793\tvalid_1's rmse: 3.34042\n"
     ]
    },
    {
     "name": "stderr",
     "output_type": "stream",
     "text": [
      "bagging, val_score: 2.811994:  80%|########  | 8/10 [00:07<00:01,  1.11it/s]\u001b[32m[I 2021-05-08 07:58:48,885]\u001b[0m Trial 34 finished with value: 3.322320083172388 and parameters: {'bagging_fraction': 0.5102385423470648, 'bagging_freq': 4}. Best is trial 32 with value: 2.811994333824063.\u001b[0m\n",
      "bagging, val_score: 2.811994:  80%|########  | 8/10 [00:07<00:01,  1.11it/s]"
     ]
    },
    {
     "name": "stdout",
     "output_type": "stream",
     "text": [
      "[200]\tvalid_0's rmse: 2.0805\tvalid_1's rmse: 3.45135\n",
      "Early stopping, best iteration is:\n",
      "[147]\tvalid_0's rmse: 2.36632\tvalid_1's rmse: 3.32232\n",
      "Training until validation scores don't improve for 100 rounds\n",
      "[50]\tvalid_0's rmse: 2.52689\tvalid_1's rmse: 3.31623\n",
      "[100]\tvalid_0's rmse: 1.92598\tvalid_1's rmse: 3.21811\n",
      "[150]\tvalid_0's rmse: 1.55519\tvalid_1's rmse: 3.17882\n",
      "[200]\tvalid_0's rmse: 1.26272\tvalid_1's rmse: 3.19733\n",
      "[250]\tvalid_0's rmse: 1.05038\tvalid_1's rmse: 3.17049\n",
      "[300]\tvalid_0's rmse: 0.902394\tvalid_1's rmse: 3.16568\n",
      "[350]\tvalid_0's rmse: 0.798622\tvalid_1's rmse: 3.18602\n"
     ]
    },
    {
     "name": "stderr",
     "output_type": "stream",
     "text": [
      "bagging, val_score: 2.811994:  90%|######### | 9/10 [00:08<00:00,  1.02it/s]\u001b[32m[I 2021-05-08 07:58:50,035]\u001b[0m Trial 35 finished with value: 3.157397358526459 and parameters: {'bagging_fraction': 0.8270756609524921, 'bagging_freq': 7}. Best is trial 32 with value: 2.811994333824063.\u001b[0m\n",
      "bagging, val_score: 2.811994:  90%|######### | 9/10 [00:08<00:00,  1.02it/s]"
     ]
    },
    {
     "name": "stdout",
     "output_type": "stream",
     "text": [
      "[400]\tvalid_0's rmse: 0.696571\tvalid_1's rmse: 3.20815\n",
      "Early stopping, best iteration is:\n",
      "[329]\tvalid_0's rmse: 0.843408\tvalid_1's rmse: 3.1574\n",
      "Training until validation scores don't improve for 100 rounds\n",
      "[50]\tvalid_0's rmse: 2.46731\tvalid_1's rmse: 3.11993\n",
      "[100]\tvalid_0's rmse: 1.78029\tvalid_1's rmse: 3.13077\n",
      "[150]\tvalid_0's rmse: 1.37316\tvalid_1's rmse: 3.06594\n",
      "[200]\tvalid_0's rmse: 1.10062\tvalid_1's rmse: 3.06547\n",
      "[250]\tvalid_0's rmse: 0.910249\tvalid_1's rmse: 3.02624\n",
      "[300]\tvalid_0's rmse: 0.769481\tvalid_1's rmse: 3.01681\n",
      "[350]\tvalid_0's rmse: 0.675734\tvalid_1's rmse: 3.01794\n"
     ]
    },
    {
     "name": "stderr",
     "output_type": "stream",
     "text": [
      "bagging, val_score: 2.811994: 100%|##########| 10/10 [00:10<00:00,  1.11s/it]\u001b[32m[I 2021-05-08 07:58:51,459]\u001b[0m Trial 36 finished with value: 3.010553667515708 and parameters: {'bagging_fraction': 0.8752878030232119, 'bagging_freq': 2}. Best is trial 32 with value: 2.811994333824063.\u001b[0m\n",
      "bagging, val_score: 2.811994: 100%|##########| 10/10 [00:10<00:00,  1.04s/it]\n",
      "feature_fraction_stage2, val_score: 2.811994:   0%|          | 0/6 [00:00<?, ?it/s]"
     ]
    },
    {
     "name": "stdout",
     "output_type": "stream",
     "text": [
      "[400]\tvalid_0's rmse: 0.58206\tvalid_1's rmse: 3.02951\n",
      "Early stopping, best iteration is:\n",
      "[324]\tvalid_0's rmse: 0.721713\tvalid_1's rmse: 3.01055\n",
      "Training until validation scores don't improve for 100 rounds\n",
      "[50]\tvalid_0's rmse: 2.3977\tvalid_1's rmse: 2.95836\n",
      "[100]\tvalid_0's rmse: 1.64196\tvalid_1's rmse: 2.92317\n",
      "[150]\tvalid_0's rmse: 1.24157\tvalid_1's rmse: 2.82551\n"
     ]
    },
    {
     "name": "stderr",
     "output_type": "stream",
     "text": [
      "feature_fraction_stage2, val_score: 2.811994:  17%|#6        | 1/6 [00:00<00:04,  1.23it/s]\u001b[32m[I 2021-05-08 07:58:52,303]\u001b[0m Trial 37 finished with value: 2.811994333824063 and parameters: {'feature_fraction': 0.6839999999999999}. Best is trial 37 with value: 2.811994333824063.\u001b[0m\n",
      "feature_fraction_stage2, val_score: 2.811994:  17%|#6        | 1/6 [00:00<00:04,  1.23it/s]"
     ]
    },
    {
     "name": "stdout",
     "output_type": "stream",
     "text": [
      "[200]\tvalid_0's rmse: 0.989623\tvalid_1's rmse: 2.84197\n",
      "[250]\tvalid_0's rmse: 0.818418\tvalid_1's rmse: 2.82875\n",
      "Early stopping, best iteration is:\n",
      "[161]\tvalid_0's rmse: 1.17812\tvalid_1's rmse: 2.81199\n",
      "Training until validation scores don't improve for 100 rounds\n",
      "[50]\tvalid_0's rmse: 2.40155\tvalid_1's rmse: 3.10788\n",
      "[100]\tvalid_0's rmse: 1.64119\tvalid_1's rmse: 3.1233\n",
      "[150]\tvalid_0's rmse: 1.24638\tvalid_1's rmse: 3.02225\n",
      "[200]\tvalid_0's rmse: 0.996371\tvalid_1's rmse: 2.99735\n",
      "[250]\tvalid_0's rmse: 0.824941\tvalid_1's rmse: 2.98476\n"
     ]
    },
    {
     "name": "stderr",
     "output_type": "stream",
     "text": [
      "feature_fraction_stage2, val_score: 2.811994:  33%|###3      | 2/6 [00:01<00:03,  1.15it/s]\u001b[32m[I 2021-05-08 07:58:53,294]\u001b[0m Trial 38 finished with value: 2.977243838924565 and parameters: {'feature_fraction': 0.748}. Best is trial 37 with value: 2.811994333824063.\u001b[0m\n",
      "feature_fraction_stage2, val_score: 2.811994:  33%|###3      | 2/6 [00:01<00:03,  1.15it/s]"
     ]
    },
    {
     "name": "stdout",
     "output_type": "stream",
     "text": [
      "[300]\tvalid_0's rmse: 0.703757\tvalid_1's rmse: 2.98944\n",
      "[350]\tvalid_0's rmse: 0.613585\tvalid_1's rmse: 3.0035\n",
      "Early stopping, best iteration is:\n",
      "[257]\tvalid_0's rmse: 0.804862\tvalid_1's rmse: 2.97724\n",
      "Training until validation scores don't improve for 100 rounds\n",
      "[50]\tvalid_0's rmse: 2.40155\tvalid_1's rmse: 3.10788\n",
      "[100]\tvalid_0's rmse: 1.64119\tvalid_1's rmse: 3.1233\n",
      "[150]\tvalid_0's rmse: 1.24638\tvalid_1's rmse: 3.02225\n",
      "[200]\tvalid_0's rmse: 0.996371\tvalid_1's rmse: 2.99735\n",
      "[250]\tvalid_0's rmse: 0.824941\tvalid_1's rmse: 2.98476\n"
     ]
    },
    {
     "name": "stderr",
     "output_type": "stream",
     "text": [
      "feature_fraction_stage2, val_score: 2.811994:  50%|#####     | 3/6 [00:02<00:02,  1.05it/s]\u001b[32m[I 2021-05-08 07:58:54,464]\u001b[0m Trial 39 finished with value: 2.977243838924565 and parameters: {'feature_fraction': 0.7799999999999999}. Best is trial 37 with value: 2.811994333824063.\u001b[0m\n"
     ]
    },
    {
     "name": "stdout",
     "output_type": "stream",
     "text": [
      "[300]\tvalid_0's rmse: 0.703757\tvalid_1's rmse: 2.98944\n",
      "[350]\tvalid_0's rmse: 0.613585\tvalid_1's rmse: 3.0035\n",
      "Early stopping, best iteration is:\n",
      "[257]\tvalid_0's rmse: 0.804862\tvalid_1's rmse: 2.97724\n"
     ]
    },
    {
     "name": "stderr",
     "output_type": "stream",
     "text": [
      "feature_fraction_stage2, val_score: 2.811994:  50%|#####     | 3/6 [00:03<00:02,  1.05it/s]"
     ]
    },
    {
     "name": "stdout",
     "output_type": "stream",
     "text": [
      "Training until validation scores don't improve for 100 rounds\n",
      "[50]\tvalid_0's rmse: 2.36746\tvalid_1's rmse: 3.03956\n",
      "[100]\tvalid_0's rmse: 1.64364\tvalid_1's rmse: 3.03656\n"
     ]
    },
    {
     "name": "stderr",
     "output_type": "stream",
     "text": [
      "feature_fraction_stage2, val_score: 2.811994:  67%|######6   | 4/6 [00:03<00:01,  1.25it/s]\u001b[32m[I 2021-05-08 07:58:54,891]\u001b[0m Trial 40 finished with value: 3.0086601923931844 and parameters: {'feature_fraction': 0.62}. Best is trial 37 with value: 2.811994333824063.\u001b[0m\n",
      "feature_fraction_stage2, val_score: 2.811994:  67%|######6   | 4/6 [00:03<00:01,  1.25it/s]"
     ]
    },
    {
     "name": "stdout",
     "output_type": "stream",
     "text": [
      "Early stopping, best iteration is:\n",
      "[29]\tvalid_0's rmse: 2.92414\tvalid_1's rmse: 3.00866\n",
      "Training until validation scores don't improve for 100 rounds\n",
      "[50]\tvalid_0's rmse: 2.36746\tvalid_1's rmse: 3.03956\n",
      "[100]\tvalid_0's rmse: 1.64364\tvalid_1's rmse: 3.03656\n"
     ]
    },
    {
     "name": "stderr",
     "output_type": "stream",
     "text": [
      "feature_fraction_stage2, val_score: 2.811994:  83%|########3 | 5/6 [00:03<00:00,  1.45it/s]\u001b[32m[I 2021-05-08 07:58:55,317]\u001b[0m Trial 41 finished with value: 3.0086601923931844 and parameters: {'feature_fraction': 0.652}. Best is trial 37 with value: 2.811994333824063.\u001b[0m\n",
      "feature_fraction_stage2, val_score: 2.811994:  83%|########3 | 5/6 [00:03<00:00,  1.45it/s]"
     ]
    },
    {
     "name": "stdout",
     "output_type": "stream",
     "text": [
      "Early stopping, best iteration is:\n",
      "[29]\tvalid_0's rmse: 2.92414\tvalid_1's rmse: 3.00866\n",
      "Training until validation scores don't improve for 100 rounds\n",
      "[50]\tvalid_0's rmse: 2.3977\tvalid_1's rmse: 2.95836\n",
      "[100]\tvalid_0's rmse: 1.64196\tvalid_1's rmse: 2.92317\n",
      "[150]\tvalid_0's rmse: 1.24157\tvalid_1's rmse: 2.82551\n",
      "[200]\tvalid_0's rmse: 0.989623\tvalid_1's rmse: 2.84197\n",
      "[250]\tvalid_0's rmse: 0.818418\tvalid_1's rmse: 2.82875\n",
      "Early stopping, best iteration is:\n",
      "[161]\tvalid_0's rmse: 1.17812\tvalid_1's rmse: 2.81199\n"
     ]
    },
    {
     "name": "stderr",
     "output_type": "stream",
     "text": [
      "feature_fraction_stage2, val_score: 2.811994: 100%|##########| 6/6 [00:04<00:00,  1.43it/s]\u001b[32m[I 2021-05-08 07:58:56,043]\u001b[0m Trial 42 finished with value: 2.811994333824063 and parameters: {'feature_fraction': 0.716}. Best is trial 37 with value: 2.811994333824063.\u001b[0m\n",
      "feature_fraction_stage2, val_score: 2.811994: 100%|##########| 6/6 [00:04<00:00,  1.31it/s]\n",
      "regularization_factors, val_score: 2.811994:   0%|          | 0/20 [00:00<?, ?it/s]"
     ]
    },
    {
     "name": "stdout",
     "output_type": "stream",
     "text": [
      "Training until validation scores don't improve for 100 rounds\n",
      "[50]\tvalid_0's rmse: 2.65276\tvalid_1's rmse: 3.11678\n"
     ]
    },
    {
     "name": "stderr",
     "output_type": "stream",
     "text": [
      "regularization_factors, val_score: 2.811994:   5%|5         | 1/20 [00:00<00:08,  2.35it/s]\u001b[32m[I 2021-05-08 07:58:56,499]\u001b[0m Trial 43 finished with value: 3.0723503471563904 and parameters: {'lambda_l1': 1.0018356125519017e-08, 'lambda_l2': 6.934102264286242}. Best is trial 43 with value: 3.0723503471563904.\u001b[0m\n",
      "regularization_factors, val_score: 2.811994:   5%|5         | 1/20 [00:00<00:08,  2.35it/s]"
     ]
    },
    {
     "name": "stdout",
     "output_type": "stream",
     "text": [
      "[100]\tvalid_0's rmse: 1.89977\tvalid_1's rmse: 3.152\n",
      "Early stopping, best iteration is:\n",
      "[37]\tvalid_0's rmse: 2.97557\tvalid_1's rmse: 3.07235\n",
      "Training until validation scores don't improve for 100 rounds\n",
      "[50]\tvalid_0's rmse: 2.37357\tvalid_1's rmse: 2.96901\n",
      "[100]\tvalid_0's rmse: 1.6432\tvalid_1's rmse: 2.99413\n",
      "[150]\tvalid_0's rmse: 1.26056\tvalid_1's rmse: 2.90654\n"
     ]
    },
    {
     "name": "stderr",
     "output_type": "stream",
     "text": [
      "regularization_factors, val_score: 2.811994:  10%|#         | 2/20 [00:01<00:08,  2.05it/s]\u001b[32m[I 2021-05-08 07:58:57,129]\u001b[0m Trial 44 finished with value: 2.9065437145876176 and parameters: {'lambda_l1': 7.596556590133701e-08, 'lambda_l2': 0.184566774939166}. Best is trial 44 with value: 2.9065437145876176.\u001b[0m\n",
      "regularization_factors, val_score: 2.811994:  10%|#         | 2/20 [00:01<00:08,  2.05it/s]"
     ]
    },
    {
     "name": "stdout",
     "output_type": "stream",
     "text": [
      "[200]\tvalid_0's rmse: 1.01526\tvalid_1's rmse: 2.9272\n",
      "[250]\tvalid_0's rmse: 0.84119\tvalid_1's rmse: 2.91898\n",
      "Early stopping, best iteration is:\n",
      "[150]\tvalid_0's rmse: 1.26056\tvalid_1's rmse: 2.90654\n",
      "Training until validation scores don't improve for 100 rounds\n",
      "[50]\tvalid_0's rmse: 2.60756\tvalid_1's rmse: 3.0568\n",
      "[100]\tvalid_0's rmse: 1.81155\tvalid_1's rmse: 3.04421\n"
     ]
    },
    {
     "name": "stderr",
     "output_type": "stream",
     "text": [
      "regularization_factors, val_score: 2.811994:  15%|#5        | 3/20 [00:01<00:09,  1.87it/s]\u001b[32m[I 2021-05-08 07:58:57,776]\u001b[0m Trial 45 finished with value: 2.9791407461830435 and parameters: {'lambda_l1': 0.008754369808985042, 'lambda_l2': 4.181449485264056}. Best is trial 44 with value: 2.9065437145876176.\u001b[0m\n",
      "regularization_factors, val_score: 2.811994:  15%|#5        | 3/20 [00:01<00:09,  1.87it/s]"
     ]
    },
    {
     "name": "stdout",
     "output_type": "stream",
     "text": [
      "[150]\tvalid_0's rmse: 1.38144\tvalid_1's rmse: 2.98898\n",
      "[200]\tvalid_0's rmse: 1.11273\tvalid_1's rmse: 2.99672\n",
      "Early stopping, best iteration is:\n",
      "[120]\tvalid_0's rmse: 1.61314\tvalid_1's rmse: 2.97914\n",
      "Training until validation scores don't improve for 100 rounds\n",
      "[50]\tvalid_0's rmse: 2.59792\tvalid_1's rmse: 3.04123\n",
      "[100]\tvalid_0's rmse: 1.82387\tvalid_1's rmse: 3.04892\n",
      "[150]\tvalid_0's rmse: 1.41513\tvalid_1's rmse: 2.97517\n",
      "[200]\tvalid_0's rmse: 1.13507\tvalid_1's rmse: 2.96582\n"
     ]
    },
    {
     "name": "stderr",
     "output_type": "stream",
     "text": [
      "regularization_factors, val_score: 2.811994:  20%|##        | 4/20 [00:02<00:09,  1.66it/s]\u001b[32m[I 2021-05-08 07:58:58,542]\u001b[0m Trial 46 finished with value: 2.9470114359095883 and parameters: {'lambda_l1': 0.02209675214004708, 'lambda_l2': 4.477385805836394}. Best is trial 44 with value: 2.9065437145876176.\u001b[0m\n",
      "regularization_factors, val_score: 2.811994:  20%|##        | 4/20 [00:02<00:09,  1.66it/s]"
     ]
    },
    {
     "name": "stdout",
     "output_type": "stream",
     "text": [
      "[250]\tvalid_0's rmse: 0.951776\tvalid_1's rmse: 2.97918\n",
      "Early stopping, best iteration is:\n",
      "[168]\tvalid_0's rmse: 1.30209\tvalid_1's rmse: 2.94701\n",
      "Training until validation scores don't improve for 100 rounds\n",
      "[50]\tvalid_0's rmse: 2.42942\tvalid_1's rmse: 3.02167\n"
     ]
    },
    {
     "name": "stderr",
     "output_type": "stream",
     "text": [
      "regularization_factors, val_score: 2.811994:  25%|##5       | 5/20 [00:02<00:08,  1.77it/s]\u001b[32m[I 2021-05-08 07:58:59,012]\u001b[0m Trial 47 finished with value: 2.9457430700853866 and parameters: {'lambda_l1': 1.82575324076222, 'lambda_l2': 1.7166644827319225e-07}. Best is trial 44 with value: 2.9065437145876176.\u001b[0m\n",
      "regularization_factors, val_score: 2.811994:  25%|##5       | 5/20 [00:02<00:08,  1.77it/s]"
     ]
    },
    {
     "name": "stdout",
     "output_type": "stream",
     "text": [
      "[100]\tvalid_0's rmse: 1.73905\tvalid_1's rmse: 3.0382\n",
      "Early stopping, best iteration is:\n",
      "[33]\tvalid_0's rmse: 2.82528\tvalid_1's rmse: 2.94574\n",
      "Training until validation scores don't improve for 100 rounds\n",
      "[50]\tvalid_0's rmse: 2.42816\tvalid_1's rmse: 3.00644\n",
      "[100]\tvalid_0's rmse: 1.66802\tvalid_1's rmse: 2.97117\n",
      "[150]\tvalid_0's rmse: 1.26667\tvalid_1's rmse: 2.84209\n"
     ]
    },
    {
     "name": "stderr",
     "output_type": "stream",
     "text": [
      "regularization_factors, val_score: 2.811994:  30%|###       | 6/20 [00:03<00:09,  1.48it/s]\u001b[32m[I 2021-05-08 07:58:59,960]\u001b[0m Trial 48 finished with value: 2.837846279218346 and parameters: {'lambda_l1': 4.311577555094612e-07, 'lambda_l2': 0.4333343858651534}. Best is trial 48 with value: 2.837846279218346.\u001b[0m\n",
      "regularization_factors, val_score: 2.811994:  30%|###       | 6/20 [00:03<00:09,  1.48it/s]"
     ]
    },
    {
     "name": "stdout",
     "output_type": "stream",
     "text": [
      "[200]\tvalid_0's rmse: 1.01608\tvalid_1's rmse: 2.85603\n",
      "[250]\tvalid_0's rmse: 0.849557\tvalid_1's rmse: 2.8594\n",
      "Early stopping, best iteration is:\n",
      "[162]\tvalid_0's rmse: 1.19975\tvalid_1's rmse: 2.83785\n",
      "Training until validation scores don't improve for 100 rounds\n",
      "[50]\tvalid_0's rmse: 2.3977\tvalid_1's rmse: 2.95836\n",
      "[100]\tvalid_0's rmse: 1.64196\tvalid_1's rmse: 2.92317\n",
      "[150]\tvalid_0's rmse: 1.24157\tvalid_1's rmse: 2.82551\n"
     ]
    },
    {
     "name": "stderr",
     "output_type": "stream",
     "text": [
      "regularization_factors, val_score: 2.811994:  35%|###5      | 7/20 [00:04<00:09,  1.35it/s]\u001b[32m[I 2021-05-08 07:59:00,838]\u001b[0m Trial 49 finished with value: 2.8119943331316444 and parameters: {'lambda_l1': 2.0006659236992247e-08, 'lambda_l2': 1.0015817936483641e-05}. Best is trial 49 with value: 2.8119943331316444.\u001b[0m\n",
      "regularization_factors, val_score: 2.811994:  35%|###5      | 7/20 [00:04<00:09,  1.35it/s]"
     ]
    },
    {
     "name": "stdout",
     "output_type": "stream",
     "text": [
      "[200]\tvalid_0's rmse: 0.989623\tvalid_1's rmse: 2.84197\n",
      "[250]\tvalid_0's rmse: 0.818418\tvalid_1's rmse: 2.82875\n",
      "Early stopping, best iteration is:\n",
      "[161]\tvalid_0's rmse: 1.17812\tvalid_1's rmse: 2.81199\n",
      "Training until validation scores don't improve for 100 rounds\n",
      "[50]\tvalid_0's rmse: 2.3977\tvalid_1's rmse: 2.95836\n",
      "[100]\tvalid_0's rmse: 1.64196\tvalid_1's rmse: 2.92317\n",
      "[150]\tvalid_0's rmse: 1.24157\tvalid_1's rmse: 2.82551\n"
     ]
    },
    {
     "name": "stderr",
     "output_type": "stream",
     "text": [
      "regularization_factors, val_score: 2.811994:  40%|####      | 8/20 [00:05<00:09,  1.21it/s]\u001b[32m[I 2021-05-08 07:59:01,857]\u001b[0m Trial 50 finished with value: 2.8119943638548404 and parameters: {'lambda_l1': 4.745365788522591e-06, 'lambda_l2': 4.70615278344277e-08}. Best is trial 49 with value: 2.8119943331316444.\u001b[0m\n"
     ]
    },
    {
     "name": "stdout",
     "output_type": "stream",
     "text": [
      "[200]\tvalid_0's rmse: 0.989623\tvalid_1's rmse: 2.84197\n",
      "[250]\tvalid_0's rmse: 0.818418\tvalid_1's rmse: 2.82875\n",
      "Early stopping, best iteration is:\n",
      "[161]\tvalid_0's rmse: 1.17812\tvalid_1's rmse: 2.81199\n"
     ]
    },
    {
     "name": "stderr",
     "output_type": "stream",
     "text": [
      "regularization_factors, val_score: 2.811994:  40%|####      | 8/20 [00:05<00:09,  1.21it/s]"
     ]
    },
    {
     "name": "stdout",
     "output_type": "stream",
     "text": [
      "Training until validation scores don't improve for 100 rounds\n",
      "[50]\tvalid_0's rmse: 2.3977\tvalid_1's rmse: 2.95836\n",
      "[100]\tvalid_0's rmse: 1.64196\tvalid_1's rmse: 2.92317\n",
      "[150]\tvalid_0's rmse: 1.24157\tvalid_1's rmse: 2.82551\n"
     ]
    },
    {
     "name": "stderr",
     "output_type": "stream",
     "text": [
      "regularization_factors, val_score: 2.811994:  45%|####5     | 9/20 [00:06<00:08,  1.24it/s]\u001b[32m[I 2021-05-08 07:59:02,625]\u001b[0m Trial 51 finished with value: 2.8119943341864313 and parameters: {'lambda_l1': 3.4183902627933776e-07, 'lambda_l2': 5.992594244009891e-06}. Best is trial 49 with value: 2.8119943331316444.\u001b[0m\n",
      "regularization_factors, val_score: 2.811994:  45%|####5     | 9/20 [00:06<00:08,  1.24it/s]"
     ]
    },
    {
     "name": "stdout",
     "output_type": "stream",
     "text": [
      "[200]\tvalid_0's rmse: 0.989623\tvalid_1's rmse: 2.84197\n",
      "[250]\tvalid_0's rmse: 0.818418\tvalid_1's rmse: 2.82875\n",
      "Early stopping, best iteration is:\n",
      "[161]\tvalid_0's rmse: 1.17812\tvalid_1's rmse: 2.81199\n",
      "Training until validation scores don't improve for 100 rounds\n",
      "[50]\tvalid_0's rmse: 2.42202\tvalid_1's rmse: 2.98182\n",
      "[100]\tvalid_0's rmse: 1.67646\tvalid_1's rmse: 2.99886\n",
      "[150]\tvalid_0's rmse: 1.28068\tvalid_1's rmse: 2.93015\n",
      "[200]\tvalid_0's rmse: 1.0234\tvalid_1's rmse: 2.91202\n",
      "[250]\tvalid_0's rmse: 0.852778\tvalid_1's rmse: 2.90771\n"
     ]
    },
    {
     "name": "stderr",
     "output_type": "stream",
     "text": [
      "regularization_factors, val_score: 2.811994:  50%|#####     | 10/20 [00:07<00:09,  1.11it/s]\u001b[32m[I 2021-05-08 07:59:03,740]\u001b[0m Trial 52 finished with value: 2.8930483599378363 and parameters: {'lambda_l1': 7.369953646094243e-05, 'lambda_l2': 0.20659538255253213}. Best is trial 49 with value: 2.8119943331316444.\u001b[0m\n",
      "regularization_factors, val_score: 2.811994:  50%|#####     | 10/20 [00:07<00:09,  1.11it/s]"
     ]
    },
    {
     "name": "stdout",
     "output_type": "stream",
     "text": [
      "[300]\tvalid_0's rmse: 0.728675\tvalid_1's rmse: 2.90089\n",
      "Early stopping, best iteration is:\n",
      "[210]\tvalid_0's rmse: 0.985061\tvalid_1's rmse: 2.89305\n",
      "Training until validation scores don't improve for 100 rounds\n"
     ]
    },
    {
     "name": "stderr",
     "output_type": "stream",
     "text": [
      "regularization_factors, val_score: 2.811994:  55%|#####5    | 11/20 [00:08<00:06,  1.34it/s]"
     ]
    },
    {
     "name": "stdout",
     "output_type": "stream",
     "text": [
      "[50]\tvalid_0's rmse: 2.52871\tvalid_1's rmse: 3.05922\n",
      "[100]\tvalid_0's rmse: 1.85777\tvalid_1's rmse: 3.05661\n",
      "Early stopping, best iteration is:\n",
      "[36]\tvalid_0's rmse: 2.85914\tvalid_1's rmse: 2.98434\n"
     ]
    },
    {
     "name": "stderr",
     "output_type": "stream",
     "text": [
      "\u001b[32m[I 2021-05-08 07:59:04,142]\u001b[0m Trial 53 finished with value: 2.984336989691986 and parameters: {'lambda_l1': 5.577918148758085, 'lambda_l2': 0.0003317167755765827}. Best is trial 49 with value: 2.8119943331316444.\u001b[0m\n",
      "regularization_factors, val_score: 2.811994:  55%|#####5    | 11/20 [00:08<00:06,  1.34it/s]"
     ]
    },
    {
     "name": "stdout",
     "output_type": "stream",
     "text": [
      "Training until validation scores don't improve for 100 rounds\n",
      "[50]\tvalid_0's rmse: 2.3977\tvalid_1's rmse: 2.95836\n",
      "[100]\tvalid_0's rmse: 1.64196\tvalid_1's rmse: 2.92317\n",
      "[150]\tvalid_0's rmse: 1.24157\tvalid_1's rmse: 2.82551\n"
     ]
    },
    {
     "name": "stderr",
     "output_type": "stream",
     "text": [
      "regularization_factors, val_score: 2.811994:  60%|######    | 12/20 [00:08<00:06,  1.32it/s]\u001b[32m[I 2021-05-08 07:59:04,937]\u001b[0m Trial 54 finished with value: 2.8119943321696637 and parameters: {'lambda_l1': 1.1080210450268181e-08, 'lambda_l2': 8.952625484657197e-06}. Best is trial 54 with value: 2.8119943321696637.\u001b[0m\n",
      "regularization_factors, val_score: 2.811994:  60%|######    | 12/20 [00:08<00:06,  1.32it/s]"
     ]
    },
    {
     "name": "stdout",
     "output_type": "stream",
     "text": [
      "[200]\tvalid_0's rmse: 0.989623\tvalid_1's rmse: 2.84197\n",
      "[250]\tvalid_0's rmse: 0.818418\tvalid_1's rmse: 2.82875\n",
      "Early stopping, best iteration is:\n",
      "[161]\tvalid_0's rmse: 1.17812\tvalid_1's rmse: 2.81199\n",
      "Training until validation scores don't improve for 100 rounds\n",
      "[50]\tvalid_0's rmse: 2.3977\tvalid_1's rmse: 2.95836\n",
      "[100]\tvalid_0's rmse: 1.64196\tvalid_1's rmse: 2.92317\n",
      "[150]\tvalid_0's rmse: 1.24157\tvalid_1's rmse: 2.82551\n",
      "[200]\tvalid_0's rmse: 0.989625\tvalid_1's rmse: 2.84197\n"
     ]
    },
    {
     "name": "stderr",
     "output_type": "stream",
     "text": [
      "regularization_factors, val_score: 2.811994:  65%|######5   | 13/20 [00:09<00:05,  1.31it/s]\u001b[32m[I 2021-05-08 07:59:05,689]\u001b[0m Trial 55 finished with value: 2.8119943512495498 and parameters: {'lambda_l1': 1.0427858716944625e-08, 'lambda_l2': 0.0001082756109678704}. Best is trial 54 with value: 2.8119943321696637.\u001b[0m\n",
      "regularization_factors, val_score: 2.811994:  65%|######5   | 13/20 [00:09<00:05,  1.31it/s]"
     ]
    },
    {
     "name": "stdout",
     "output_type": "stream",
     "text": [
      "[250]\tvalid_0's rmse: 0.81842\tvalid_1's rmse: 2.82875\n",
      "Early stopping, best iteration is:\n",
      "[161]\tvalid_0's rmse: 1.17812\tvalid_1's rmse: 2.81199\n",
      "Training until validation scores don't improve for 100 rounds\n",
      "[50]\tvalid_0's rmse: 2.3977\tvalid_1's rmse: 2.95836\n",
      "[100]\tvalid_0's rmse: 1.64196\tvalid_1's rmse: 2.92317\n",
      "[150]\tvalid_0's rmse: 1.24157\tvalid_1's rmse: 2.82551\n",
      "[200]\tvalid_0's rmse: 0.989623\tvalid_1's rmse: 2.84197\n"
     ]
    },
    {
     "name": "stderr",
     "output_type": "stream",
     "text": [
      "regularization_factors, val_score: 2.811994:  70%|#######   | 14/20 [00:10<00:04,  1.34it/s]\u001b[32m[I 2021-05-08 07:59:06,403]\u001b[0m Trial 56 finished with value: 2.8119944019890646 and parameters: {'lambda_l1': 1.0457251141897416e-05, 'lambda_l2': 5.237225026537176e-06}. Best is trial 54 with value: 2.8119943321696637.\u001b[0m\n",
      "regularization_factors, val_score: 2.811994:  70%|#######   | 14/20 [00:10<00:04,  1.34it/s]"
     ]
    },
    {
     "name": "stdout",
     "output_type": "stream",
     "text": [
      "[250]\tvalid_0's rmse: 0.818419\tvalid_1's rmse: 2.82875\n",
      "Early stopping, best iteration is:\n",
      "[161]\tvalid_0's rmse: 1.17812\tvalid_1's rmse: 2.81199\n",
      "Training until validation scores don't improve for 100 rounds\n",
      "[50]\tvalid_0's rmse: 2.39772\tvalid_1's rmse: 2.95836\n",
      "[100]\tvalid_0's rmse: 1.64198\tvalid_1's rmse: 2.92317\n",
      "[150]\tvalid_0's rmse: 1.24159\tvalid_1's rmse: 2.82551\n",
      "[200]\tvalid_0's rmse: 0.989641\tvalid_1's rmse: 2.84197\n",
      "[250]\tvalid_0's rmse: 0.818435\tvalid_1's rmse: 2.82875"
     ]
    },
    {
     "name": "stderr",
     "output_type": "stream",
     "text": [
      "regularization_factors, val_score: 2.811994:  75%|#######5  | 15/20 [00:11<00:03,  1.30it/s]\u001b[32m[I 2021-05-08 07:59:07,215]\u001b[0m Trial 57 finished with value: 2.811994470284482 and parameters: {'lambda_l1': 1.3443210581553757e-08, 'lambda_l2': 0.0007970717300271064}. Best is trial 54 with value: 2.8119943321696637.\u001b[0m\n",
      "regularization_factors, val_score: 2.811994:  75%|#######5  | 15/20 [00:11<00:03,  1.30it/s]"
     ]
    },
    {
     "name": "stdout",
     "output_type": "stream",
     "text": [
      "\n",
      "Early stopping, best iteration is:\n",
      "[161]\tvalid_0's rmse: 1.17814\tvalid_1's rmse: 2.81199\n",
      "Training until validation scores don't improve for 100 rounds\n",
      "[50]\tvalid_0's rmse: 2.39772\tvalid_1's rmse: 2.95836\n",
      "[100]\tvalid_0's rmse: 1.64201\tvalid_1's rmse: 2.92318\n",
      "[150]\tvalid_0's rmse: 1.24163\tvalid_1's rmse: 2.82552\n",
      "[200]\tvalid_0's rmse: 0.989696\tvalid_1's rmse: 2.84197\n"
     ]
    },
    {
     "name": "stderr",
     "output_type": "stream",
     "text": [
      "regularization_factors, val_score: 2.811994:  80%|########  | 16/20 [00:11<00:03,  1.28it/s]\u001b[32m[I 2021-05-08 07:59:08,037]\u001b[0m Trial 58 finished with value: 2.812002835651305 and parameters: {'lambda_l1': 0.0013245966264023132, 'lambda_l2': 1.420077804827706e-06}. Best is trial 54 with value: 2.8119943321696637.\u001b[0m\n",
      "regularization_factors, val_score: 2.811994:  80%|########  | 16/20 [00:11<00:03,  1.28it/s]"
     ]
    },
    {
     "name": "stdout",
     "output_type": "stream",
     "text": [
      "[250]\tvalid_0's rmse: 0.818502\tvalid_1's rmse: 2.82875\n",
      "Early stopping, best iteration is:\n",
      "[161]\tvalid_0's rmse: 1.17818\tvalid_1's rmse: 2.812\n",
      "Training until validation scores don't improve for 100 rounds\n",
      "[50]\tvalid_0's rmse: 2.41875\tvalid_1's rmse: 2.98095\n",
      "[100]\tvalid_0's rmse: 1.64878\tvalid_1's rmse: 2.94286\n",
      "[150]\tvalid_0's rmse: 1.25213\tvalid_1's rmse: 2.83248\n",
      "[200]\tvalid_0's rmse: 1.00061\tvalid_1's rmse: 2.82262\n",
      "[250]\tvalid_0's rmse: 0.824503\tvalid_1's rmse: 2.81027\n",
      "[300]\tvalid_0's rmse: 0.69743\tvalid_1's rmse: 2.79408\n",
      "[350]\tvalid_0's rmse: 0.614238\tvalid_1's rmse: 2.81968\n"
     ]
    },
    {
     "name": "stderr",
     "output_type": "stream",
     "text": [
      "regularization_factors, val_score: 2.789363:  85%|########5 | 17/20 [00:13<00:02,  1.03it/s]\u001b[32m[I 2021-05-08 07:59:09,446]\u001b[0m Trial 59 finished with value: 2.7893630356907186 and parameters: {'lambda_l1': 1.4643522806026493e-06, 'lambda_l2': 0.0029395173595658597}. Best is trial 59 with value: 2.7893630356907186.\u001b[0m\n",
      "regularization_factors, val_score: 2.789363:  85%|########5 | 17/20 [00:13<00:02,  1.03it/s]"
     ]
    },
    {
     "name": "stdout",
     "output_type": "stream",
     "text": [
      "[400]\tvalid_0's rmse: 0.533938\tvalid_1's rmse: 2.81045\n",
      "Early stopping, best iteration is:\n",
      "[312]\tvalid_0's rmse: 0.676959\tvalid_1's rmse: 2.78936\n",
      "Training until validation scores don't improve for 100 rounds\n",
      "[50]\tvalid_0's rmse: 2.41888\tvalid_1's rmse: 2.98094\n",
      "[100]\tvalid_0's rmse: 1.64891\tvalid_1's rmse: 2.94285\n",
      "[150]\tvalid_0's rmse: 1.25225\tvalid_1's rmse: 2.83247\n"
     ]
    },
    {
     "name": "stderr",
     "output_type": "stream",
     "text": [
      "regularization_factors, val_score: 2.789363:  90%|######### | 18/20 [00:14<00:02,  1.07s/it]"
     ]
    },
    {
     "name": "stdout",
     "output_type": "stream",
     "text": [
      "[200]\tvalid_0's rmse: 1.00072\tvalid_1's rmse: 2.82262\n",
      "[250]\tvalid_0's rmse: 0.822675\tvalid_1's rmse: 2.80784\n",
      "Early stopping, best iteration is:\n",
      "[166]\tvalid_0's rmse: 1.15115\tvalid_1's rmse: 2.8068\n"
     ]
    },
    {
     "name": "stderr",
     "output_type": "stream",
     "text": [
      "\u001b[32m[I 2021-05-08 07:59:10,745]\u001b[0m Trial 60 finished with value: 2.8068034541177282 and parameters: {'lambda_l1': 1.9235788060162237e-06, 'lambda_l2': 0.0076619978015143005}. Best is trial 59 with value: 2.7893630356907186.\u001b[0m\n",
      "regularization_factors, val_score: 2.789363:  90%|######### | 18/20 [00:14<00:02,  1.07s/it]"
     ]
    },
    {
     "name": "stdout",
     "output_type": "stream",
     "text": [
      "Training until validation scores don't improve for 100 rounds\n",
      "[50]\tvalid_0's rmse: 2.43305\tvalid_1's rmse: 3.00219\n",
      "[100]\tvalid_0's rmse: 1.673\tvalid_1's rmse: 2.94568\n",
      "[150]\tvalid_0's rmse: 1.26572\tvalid_1's rmse: 2.87832\n",
      "[200]\tvalid_0's rmse: 1.01986\tvalid_1's rmse: 2.85174\n",
      "[250]\tvalid_0's rmse: 0.852655\tvalid_1's rmse: 2.83537\n",
      "[300]\tvalid_0's rmse: 0.727604\tvalid_1's rmse: 2.82768\n",
      "[350]\tvalid_0's rmse: 0.646176\tvalid_1's rmse: 2.84836\n"
     ]
    },
    {
     "name": "stderr",
     "output_type": "stream",
     "text": [
      "regularization_factors, val_score: 2.789363:  95%|#########5| 19/20 [00:15<00:01,  1.14s/it]\u001b[32m[I 2021-05-08 07:59:12,033]\u001b[0m Trial 61 finished with value: 2.821747660683963 and parameters: {'lambda_l1': 4.788972913387821e-06, 'lambda_l2': 0.04669983607841361}. Best is trial 59 with value: 2.7893630356907186.\u001b[0m\n",
      "regularization_factors, val_score: 2.789363:  95%|#########5| 19/20 [00:15<00:01,  1.14s/it]"
     ]
    },
    {
     "name": "stdout",
     "output_type": "stream",
     "text": [
      "[400]\tvalid_0's rmse: 0.562397\tvalid_1's rmse: 2.84355\n",
      "Early stopping, best iteration is:\n",
      "[311]\tvalid_0's rmse: 0.710162\tvalid_1's rmse: 2.82175\n",
      "Training until validation scores don't improve for 100 rounds\n",
      "[50]\tvalid_0's rmse: 2.4188\tvalid_1's rmse: 2.98094\n",
      "[100]\tvalid_0's rmse: 1.64883\tvalid_1's rmse: 2.94286\n",
      "[150]\tvalid_0's rmse: 1.25218\tvalid_1's rmse: 2.83248\n",
      "[200]\tvalid_0's rmse: 1.00066\tvalid_1's rmse: 2.82262\n",
      "[250]\tvalid_0's rmse: 0.824551\tvalid_1's rmse: 2.81028\n",
      "[300]\tvalid_0's rmse: 0.697754\tvalid_1's rmse: 2.79861\n",
      "[350]\tvalid_0's rmse: 0.6146\tvalid_1's rmse: 2.81056\n"
     ]
    },
    {
     "name": "stderr",
     "output_type": "stream",
     "text": [
      "regularization_factors, val_score: 2.789363: 100%|##########| 20/20 [00:17<00:00,  1.18s/it]\u001b[32m[I 2021-05-08 07:59:13,338]\u001b[0m Trial 62 finished with value: 2.789724591649032 and parameters: {'lambda_l1': 0.00017613263948940011, 'lambda_l2': 0.004626262180239802}. Best is trial 59 with value: 2.7893630356907186.\u001b[0m\n",
      "regularization_factors, val_score: 2.789363: 100%|##########| 20/20 [00:17<00:00,  1.16it/s]\n",
      "  0%|          | 0/5 [00:00<?, ?it/s]"
     ]
    },
    {
     "name": "stdout",
     "output_type": "stream",
     "text": [
      "[400]\tvalid_0's rmse: 0.533047\tvalid_1's rmse: 2.80222\n",
      "[450]\tvalid_0's rmse: 0.464935\tvalid_1's rmse: 2.80081\n",
      "Early stopping, best iteration is:\n",
      "[362]\tvalid_0's rmse: 0.593302\tvalid_1's rmse: 2.78972\n"
     ]
    },
    {
     "name": "stderr",
     "output_type": "stream",
     "text": [
      "min_data_in_leaf, val_score: 2.789363:   0%|          | 0/5 [00:00<?, ?it/s]"
     ]
    },
    {
     "name": "stdout",
     "output_type": "stream",
     "text": [
      "Training until validation scores don't improve for 100 rounds\n",
      "[50]\tvalid_0's rmse: 3.91593\tvalid_1's rmse: 3.92239\n"
     ]
    },
    {
     "name": "stderr",
     "output_type": "stream",
     "text": [
      "min_data_in_leaf, val_score: 2.789363:  20%|##        | 1/5 [00:00<00:02,  1.79it/s]\u001b[32m[I 2021-05-08 07:59:13,928]\u001b[0m Trial 63 finished with value: 3.818993088798459 and parameters: {'min_child_samples': 50}. Best is trial 63 with value: 3.818993088798459.\u001b[0m\n",
      "min_data_in_leaf, val_score: 2.789363:  20%|##        | 1/5 [00:00<00:02,  1.79it/s]"
     ]
    },
    {
     "name": "stdout",
     "output_type": "stream",
     "text": [
      "[100]\tvalid_0's rmse: 3.40096\tvalid_1's rmse: 3.99793\n",
      "Early stopping, best iteration is:\n",
      "[22]\tvalid_0's rmse: 4.67782\tvalid_1's rmse: 3.81899\n",
      "Training until validation scores don't improve for 100 rounds\n",
      "[50]\tvalid_0's rmse: 0.753665\tvalid_1's rmse: 2.91013\n",
      "[100]\tvalid_0's rmse: 0.37346\tvalid_1's rmse: 2.85113\n"
     ]
    },
    {
     "name": "stderr",
     "output_type": "stream",
     "text": [
      "min_data_in_leaf, val_score: 2.789363:  40%|####      | 2/5 [00:01<00:02,  1.44it/s]"
     ]
    },
    {
     "name": "stdout",
     "output_type": "stream",
     "text": [
      "[150]\tvalid_0's rmse: 0.225241\tvalid_1's rmse: 2.85275\n",
      "[200]\tvalid_0's rmse: 0.149534\tvalid_1's rmse: 2.8479\n",
      "Early stopping, best iteration is:\n",
      "[112]\tvalid_0's rmse: 0.339276\tvalid_1's rmse: 2.84334\n"
     ]
    },
    {
     "name": "stderr",
     "output_type": "stream",
     "text": [
      "\u001b[32m[I 2021-05-08 07:59:14,935]\u001b[0m Trial 64 finished with value: 2.843341781787644 and parameters: {'min_child_samples': 5}. Best is trial 64 with value: 2.843341781787644.\u001b[0m\n",
      "min_data_in_leaf, val_score: 2.789363:  40%|####      | 2/5 [00:01<00:02,  1.44it/s]"
     ]
    },
    {
     "name": "stdout",
     "output_type": "stream",
     "text": [
      "Training until validation scores don't improve for 100 rounds\n",
      "[50]\tvalid_0's rmse: 2.67145\tvalid_1's rmse: 3.38293\n"
     ]
    },
    {
     "name": "stderr",
     "output_type": "stream",
     "text": [
      "min_data_in_leaf, val_score: 2.789363:  60%|######    | 3/5 [00:01<00:01,  1.69it/s]\u001b[32m[I 2021-05-08 07:59:15,277]\u001b[0m Trial 65 finished with value: 3.1719574323742625 and parameters: {'min_child_samples': 25}. Best is trial 64 with value: 2.843341781787644.\u001b[0m\n",
      "min_data_in_leaf, val_score: 2.789363:  60%|######    | 3/5 [00:01<00:01,  1.69it/s]"
     ]
    },
    {
     "name": "stdout",
     "output_type": "stream",
     "text": [
      "[100]\tvalid_0's rmse: 1.96986\tvalid_1's rmse: 3.43939\n",
      "Early stopping, best iteration is:\n",
      "[20]\tvalid_0's rmse: 3.71106\tvalid_1's rmse: 3.17196\n",
      "Training until validation scores don't improve for 100 rounds\n",
      "[50]\tvalid_0's rmse: 1.45517\tvalid_1's rmse: 2.73909\n",
      "[100]\tvalid_0's rmse: 0.850899\tvalid_1's rmse: 2.70931\n"
     ]
    },
    {
     "name": "stderr",
     "output_type": "stream",
     "text": [
      "min_data_in_leaf, val_score: 2.692940:  80%|########  | 4/5 [00:02<00:00,  1.66it/s]\u001b[32m[I 2021-05-08 07:59:15,904]\u001b[0m Trial 66 finished with value: 2.69293968572018 and parameters: {'min_child_samples': 10}. Best is trial 66 with value: 2.69293968572018.\u001b[0m\n",
      "min_data_in_leaf, val_score: 2.692940:  80%|########  | 4/5 [00:02<00:00,  1.66it/s]"
     ]
    },
    {
     "name": "stdout",
     "output_type": "stream",
     "text": [
      "[150]\tvalid_0's rmse: 0.588631\tvalid_1's rmse: 2.70177\n",
      "Early stopping, best iteration is:\n",
      "[87]\tvalid_0's rmse: 0.976978\tvalid_1's rmse: 2.69294\n",
      "Training until validation scores don't improve for 100 rounds\n",
      "[50]\tvalid_0's rmse: 5.72385\tvalid_1's rmse: 4.59264\n",
      "[100]\tvalid_0's rmse: 5.53002\tvalid_1's rmse: 4.57223\n"
     ]
    },
    {
     "name": "stderr",
     "output_type": "stream",
     "text": [
      "min_data_in_leaf, val_score: 2.692940: 100%|##########| 5/5 [00:03<00:00,  1.78it/s]\u001b[32m[I 2021-05-08 07:59:16,383]\u001b[0m Trial 67 finished with value: 4.54819452514048 and parameters: {'min_child_samples': 100}. Best is trial 66 with value: 2.69293968572018.\u001b[0m\n",
      "min_data_in_leaf, val_score: 2.692940: 100%|##########| 5/5 [00:03<00:00,  1.65it/s]"
     ]
    },
    {
     "name": "stdout",
     "output_type": "stream",
     "text": [
      "[150]\tvalid_0's rmse: 5.44309\tvalid_1's rmse: 4.68469\n",
      "Early stopping, best iteration is:\n",
      "[83]\tvalid_0's rmse: 5.57874\tvalid_1's rmse: 4.54819\n"
     ]
    },
    {
     "name": "stderr",
     "output_type": "stream",
     "text": [
      "\n"
     ]
    }
   ],
   "source": [
    "# ベストなパラメータ、途中経過を保存する\n",
    "params = {\n",
    "    'objective': 'mean_squared_error',\n",
    "    'metric': 'rmse',\n",
    "    \"verbosity\": 10,\n",
    "    \"boosting_type\": \"gbdt\",\n",
    "    'random_seed': 0,\n",
    "}\n",
    "\n",
    "best_params, history = {}, []\n",
    "\n",
    "# LightGBM学習\n",
    "gbm = lgb.train(params,\n",
    "                lgb_train,\n",
    "                num_boost_round=1000,\n",
    "                valid_sets=[lgb_train, lgb_eval],\n",
    "                early_stopping_rounds=100,\n",
    "                verbose_eval=50\n",
    "               )"
   ]
  },
  {
   "cell_type": "code",
   "execution_count": 5,
   "metadata": {},
   "outputs": [
    {
     "data": {
      "text/plain": [
       "{'objective': 'mean_squared_error',\n",
       " 'metric': 'rmse',\n",
       " 'verbosity': 10,\n",
       " 'boosting_type': 'gbdt',\n",
       " 'random_seed': 0,\n",
       " 'feature_pre_filter': False,\n",
       " 'lambda_l1': 1.4643522806026493e-06,\n",
       " 'lambda_l2': 0.0029395173595658597,\n",
       " 'num_leaves': 31,\n",
       " 'feature_fraction': 0.7,\n",
       " 'bagging_fraction': 0.9253553830228934,\n",
       " 'bagging_freq': 6,\n",
       " 'min_child_samples': 10}"
      ]
     },
     "execution_count": 5,
     "metadata": {},
     "output_type": "execute_result"
    }
   ],
   "source": [
    "best_params = gbm.params\n",
    "best_params"
   ]
  },
  {
   "cell_type": "code",
   "execution_count": 6,
   "metadata": {},
   "outputs": [],
   "source": [
    "# LightGBM推論\n",
    "y_pred = gbm.predict(x_test, num_iteration=gbm.best_iteration)"
   ]
  },
  {
   "cell_type": "code",
   "execution_count": 7,
   "metadata": {},
   "outputs": [],
   "source": [
    "# 評価\n",
    "def calculate_scores(true, pred):\n",
    "    \"\"\"全ての評価指標を計算する\n",
    "\n",
    "    Parameters\n",
    "    ----------\n",
    "    true (np.array)       : 実測値\n",
    "    pred (np.array)       : 予測値\n",
    "\n",
    "    Returns\n",
    "    -------\n",
    "    scores (pd.DataFrame) : 各評価指標を纏めた結果\n",
    "\n",
    "    \"\"\"\n",
    "    scores = {}\n",
    "    scores = pd.DataFrame({'R2': r2_score(true, pred),\n",
    "                          'MAE': mean_absolute_error(true, pred),\n",
    "                          'MSE': mean_squared_error(true, pred),\n",
    "                          'RMSE': np.sqrt(mean_squared_error(true, pred))},\n",
    "                           index = ['scores'])\n",
    "    return scores"
   ]
  },
  {
   "cell_type": "code",
   "execution_count": 8,
   "metadata": {},
   "outputs": [
    {
     "name": "stdout",
     "output_type": "stream",
     "text": [
      "              R2       MAE        MSE      RMSE\n",
      "scores  0.831123  2.713258  17.661272  4.202532\n"
     ]
    }
   ],
   "source": [
    "scores = calculate_scores(y_test, y_pred)\n",
    "print(scores)"
   ]
  },
  {
   "cell_type": "code",
   "execution_count": null,
   "metadata": {},
   "outputs": [],
   "source": []
  }
 ],
 "metadata": {
  "kernelspec": {
   "display_name": "Python 3",
   "language": "python",
   "name": "python3"
  },
  "language_info": {
   "codemirror_mode": {
    "name": "ipython",
    "version": 3
   },
   "file_extension": ".py",
   "mimetype": "text/x-python",
   "name": "python",
   "nbconvert_exporter": "python",
   "pygments_lexer": "ipython3",
   "version": "3.7.6"
  }
 },
 "nbformat": 4,
 "nbformat_minor": 4
}
